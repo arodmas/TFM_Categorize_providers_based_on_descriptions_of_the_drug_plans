{
 "cells": [
  {
   "cell_type": "code",
   "execution_count": 1,
   "metadata": {},
   "outputs": [
    {
     "name": "stdout",
     "output_type": "stream",
     "text": [
      "vie ene 10 16:50:42 CET 2020\r\n"
     ]
    }
   ],
   "source": [
    "!date"
   ]
  },
  {
   "cell_type": "code",
   "execution_count": 2,
   "metadata": {},
   "outputs": [
    {
     "name": "stdout",
     "output_type": "stream",
     "text": [
      "\n",
      "Automagic is ON, % prefix IS NOT needed for line magics.\n"
     ]
    }
   ],
   "source": [
    "# Active system's automagic\n",
    "%automagic on"
   ]
  },
  {
   "cell_type": "code",
   "execution_count": 3,
   "metadata": {},
   "outputs": [],
   "source": [
    "# Load work environment"
   ]
  },
  {
   "cell_type": "code",
   "execution_count": 4,
   "metadata": {},
   "outputs": [
    {
     "data": {
      "text/plain": [
       "'/home/dsc/Repos/TFM_Categorize_providers_based_on_descriptions_of_the_drug_plans/03_Presentation'"
      ]
     },
     "execution_count": 4,
     "metadata": {},
     "output_type": "execute_result"
    }
   ],
   "source": [
    "import os\n",
    "os.getcwd()"
   ]
  },
  {
   "cell_type": "code",
   "execution_count": 5,
   "metadata": {},
   "outputs": [
    {
     "name": "stdout",
     "output_type": "stream",
     "text": [
      "01_Loading_and_preprocessing_original_data.ipynb\r\n",
      "01_OUT_csv_original_data_transformed.csv\r\n",
      "02_Draw_transformed_data.ipynb\r\n",
      "03_Data_preparation_and_pipelines_of_naive_models.ipynb\r\n",
      "04a_ROC_auc_SVC_svm_hyperparameters.ipynb\r\n",
      "04_Automatic_hyperparameter_search.ipynb\r\n",
      "04b_ROC_auc_LOGREG_SAG_hyperparameters.ipynb\r\n",
      "04c_ROC_auc_LOGREG_SAGA_hyperparameters.ipynb\r\n",
      "05_Apply_final_LOGREG_SAG_model.ipynb\r\n",
      "06_Apply_final_ROC_auc_LOGREG_SAG_complete.ipynb\r\n"
     ]
    }
   ],
   "source": [
    "#folder = '/home/dsc/Repos/TFM_Categorize_providers_based_on_descriptions_of_the_drug_plans/03_Presentation'\n",
    "folder = os.getcwd()\n",
    "!ls {folder}"
   ]
  },
  {
   "cell_type": "code",
   "execution_count": 6,
   "metadata": {},
   "outputs": [
    {
     "data": {
      "text/plain": [
       "'/home/dsc/Repos/TFM_Categorize_providers_based_on_descriptions_of_the_drug_plans/03_Presentation'"
      ]
     },
     "execution_count": 6,
     "metadata": {},
     "output_type": "execute_result"
    }
   ],
   "source": [
    "os.chdir(folder)\n",
    "os.getcwd()"
   ]
  },
  {
   "cell_type": "code",
   "execution_count": 7,
   "metadata": {},
   "outputs": [],
   "source": [
    "# Load library for work and analitics data\n",
    "import pandas as pd\n",
    "import numpy as np"
   ]
  },
  {
   "cell_type": "code",
   "execution_count": 8,
   "metadata": {},
   "outputs": [
    {
     "name": "stdout",
     "output_type": "stream",
     "text": [
      "-rw-rw-r-- 1 dsc dsc 27565813 ene 10 15:18 ../03_Presentation/01_OUT_csv_original_data_transformed.csv\r\n"
     ]
    }
   ],
   "source": [
    "!ls -ltr ../03_Presentation/01_OUT_csv_original_data_transformed.csv"
   ]
  },
  {
   "cell_type": "code",
   "execution_count": 9,
   "metadata": {},
   "outputs": [],
   "source": [
    "# Read from excel files complete with column names stipulated and transform them\n",
    "# (1) Imports:\n",
    "import os\n",
    "import glob"
   ]
  },
  {
   "cell_type": "code",
   "execution_count": 10,
   "metadata": {},
   "outputs": [
    {
     "name": "stdout",
     "output_type": "stream",
     "text": [
      "/home/dsc/Repos/TFM_Categorize_providers_based_on_descriptions_of_the_drug_plans/03_Presentation\r\n"
     ]
    }
   ],
   "source": [
    "# (2) File list:\n",
    "path = os.chdir(os.getcwd() + '/..' + '/03_Presentation')\n",
    "!pwd"
   ]
  },
  {
   "cell_type": "code",
   "execution_count": 11,
   "metadata": {},
   "outputs": [
    {
     "name": "stdout",
     "output_type": "stream",
     "text": [
      "CPU times: user 491 ms, sys: 47.4 ms, total: 538 ms\n",
      "Wall time: 481 ms\n"
     ]
    }
   ],
   "source": [
    "%%time\n",
    "# (3) Upload cvsv file:\n",
    "df_from_xlsx_total = pd.read_csv(\"01_OUT_csv_original_data_transformed.csv\")"
   ]
  },
  {
   "cell_type": "code",
   "execution_count": 12,
   "metadata": {},
   "outputs": [
    {
     "data": {
      "text/plain": [
       "306183"
      ]
     },
     "execution_count": 12,
     "metadata": {},
     "output_type": "execute_result"
    }
   ],
   "source": [
    "len(df_from_xlsx_total)"
   ]
  },
  {
   "cell_type": "code",
   "execution_count": 13,
   "metadata": {},
   "outputs": [
    {
     "data": {
      "text/plain": [
       "Index(['ESTADO', 'CONDADO', 'ORGANIZACION', 'TIPO_PLAN_GENERICO_MEDICARE',\n",
       "       'PRIMA_MENSUAL_CONSOLIDADA', 'MEDICAMS_ANUALES_DEDUCIBLES',\n",
       "       'TIPO_BENEFICIO', 'COBERTURA_ADICIONAL_OFRECIDA', 'DETALLE_BENEFICIO',\n",
       "       'DESEMBOLSO_MAXIMO', 'CLASIFICACION'],\n",
       "      dtype='object')"
      ]
     },
     "execution_count": 13,
     "metadata": {},
     "output_type": "execute_result"
    }
   ],
   "source": [
    "df_from_xlsx_total.columns"
   ]
  },
  {
   "cell_type": "code",
   "execution_count": 14,
   "metadata": {},
   "outputs": [],
   "source": [
    "# Data mapping"
   ]
  },
  {
   "cell_type": "code",
   "execution_count": 15,
   "metadata": {},
   "outputs": [],
   "source": [
    "df_ratings_lab_ohe = df_from_xlsx_total.reset_index(drop=True).copy()"
   ]
  },
  {
   "cell_type": "code",
   "execution_count": 16,
   "metadata": {},
   "outputs": [
    {
     "data": {
      "text/html": [
       "<div>\n",
       "<style scoped>\n",
       "    .dataframe tbody tr th:only-of-type {\n",
       "        vertical-align: middle;\n",
       "    }\n",
       "\n",
       "    .dataframe tbody tr th {\n",
       "        vertical-align: top;\n",
       "    }\n",
       "\n",
       "    .dataframe thead th {\n",
       "        text-align: right;\n",
       "    }\n",
       "</style>\n",
       "<table border=\"1\" class=\"dataframe\">\n",
       "  <thead>\n",
       "    <tr style=\"text-align: right;\">\n",
       "      <th></th>\n",
       "      <th>ESTADO</th>\n",
       "      <th>CONDADO</th>\n",
       "      <th>ORGANIZACION</th>\n",
       "      <th>TIPO_PLAN_GENERICO_MEDICARE</th>\n",
       "      <th>PRIMA_MENSUAL_CONSOLIDADA</th>\n",
       "      <th>MEDICAMS_ANUALES_DEDUCIBLES</th>\n",
       "      <th>TIPO_BENEFICIO</th>\n",
       "      <th>COBERTURA_ADICIONAL_OFRECIDA</th>\n",
       "      <th>DETALLE_BENEFICIO</th>\n",
       "      <th>DESEMBOLSO_MAXIMO</th>\n",
       "      <th>CLASIFICACION</th>\n",
       "    </tr>\n",
       "  </thead>\n",
       "  <tbody>\n",
       "    <tr>\n",
       "      <th>0</th>\n",
       "      <td>Alabama</td>\n",
       "      <td>Autauga</td>\n",
       "      <td>UnitedHealthcare</td>\n",
       "      <td>HMO</td>\n",
       "      <td>0.0</td>\n",
       "      <td>0.0</td>\n",
       "      <td>Enhanced</td>\n",
       "      <td>No Gap Coverage</td>\n",
       "      <td>EA</td>\n",
       "      <td>4450.0</td>\n",
       "      <td>2.5</td>\n",
       "    </tr>\n",
       "  </tbody>\n",
       "</table>\n",
       "</div>"
      ],
      "text/plain": [
       "    ESTADO  CONDADO      ORGANIZACION TIPO_PLAN_GENERICO_MEDICARE  \\\n",
       "0  Alabama  Autauga  UnitedHealthcare                         HMO   \n",
       "\n",
       "   PRIMA_MENSUAL_CONSOLIDADA  MEDICAMS_ANUALES_DEDUCIBLES TIPO_BENEFICIO  \\\n",
       "0                        0.0                          0.0       Enhanced   \n",
       "\n",
       "  COBERTURA_ADICIONAL_OFRECIDA DETALLE_BENEFICIO  DESEMBOLSO_MAXIMO  \\\n",
       "0              No Gap Coverage                EA             4450.0   \n",
       "\n",
       "  CLASIFICACION  \n",
       "0           2.5  "
      ]
     },
     "execution_count": 16,
     "metadata": {},
     "output_type": "execute_result"
    }
   ],
   "source": [
    "df_ratings_lab_ohe.head(1)"
   ]
  },
  {
   "cell_type": "code",
   "execution_count": 17,
   "metadata": {},
   "outputs": [
    {
     "data": {
      "text/plain": [
       "Index(['ESTADO', 'CONDADO', 'ORGANIZACION', 'TIPO_PLAN_GENERICO_MEDICARE',\n",
       "       'PRIMA_MENSUAL_CONSOLIDADA', 'MEDICAMS_ANUALES_DEDUCIBLES',\n",
       "       'TIPO_BENEFICIO', 'COBERTURA_ADICIONAL_OFRECIDA', 'DETALLE_BENEFICIO',\n",
       "       'DESEMBOLSO_MAXIMO', 'CLASIFICACION'],\n",
       "      dtype='object')"
      ]
     },
     "execution_count": 17,
     "metadata": {},
     "output_type": "execute_result"
    }
   ],
   "source": [
    "df_ratings_lab_ohe.columns"
   ]
  },
  {
   "cell_type": "code",
   "execution_count": 18,
   "metadata": {},
   "outputs": [
    {
     "data": {
      "text/plain": [
       "ESTADO                           object\n",
       "CONDADO                          object\n",
       "ORGANIZACION                     object\n",
       "TIPO_PLAN_GENERICO_MEDICARE      object\n",
       "PRIMA_MENSUAL_CONSOLIDADA       float64\n",
       "MEDICAMS_ANUALES_DEDUCIBLES     float64\n",
       "TIPO_BENEFICIO                   object\n",
       "COBERTURA_ADICIONAL_OFRECIDA     object\n",
       "DETALLE_BENEFICIO                object\n",
       "DESEMBOLSO_MAXIMO               float64\n",
       "CLASIFICACION                    object\n",
       "dtype: object"
      ]
     },
     "execution_count": 18,
     "metadata": {},
     "output_type": "execute_result"
    }
   ],
   "source": [
    "df_ratings_lab_ohe.dtypes"
   ]
  },
  {
   "cell_type": "code",
   "execution_count": 19,
   "metadata": {},
   "outputs": [
    {
     "data": {
      "text/html": [
       "<div>\n",
       "<style scoped>\n",
       "    .dataframe tbody tr th:only-of-type {\n",
       "        vertical-align: middle;\n",
       "    }\n",
       "\n",
       "    .dataframe tbody tr th {\n",
       "        vertical-align: top;\n",
       "    }\n",
       "\n",
       "    .dataframe thead th {\n",
       "        text-align: right;\n",
       "    }\n",
       "</style>\n",
       "<table border=\"1\" class=\"dataframe\">\n",
       "  <thead>\n",
       "    <tr style=\"text-align: right;\">\n",
       "      <th></th>\n",
       "      <th>ESTADO</th>\n",
       "      <th>CONDADO</th>\n",
       "      <th>ORGANIZACION</th>\n",
       "      <th>TIPO_PLAN_GENERICO_MEDICARE</th>\n",
       "      <th>PRIMA_MENSUAL_CONSOLIDADA</th>\n",
       "      <th>MEDICAMS_ANUALES_DEDUCIBLES</th>\n",
       "      <th>TIPO_BENEFICIO</th>\n",
       "      <th>COBERTURA_ADICIONAL_OFRECIDA</th>\n",
       "      <th>DETALLE_BENEFICIO</th>\n",
       "      <th>DESEMBOLSO_MAXIMO</th>\n",
       "      <th>CLASIFICACION</th>\n",
       "    </tr>\n",
       "  </thead>\n",
       "  <tbody>\n",
       "    <tr>\n",
       "      <th>0</th>\n",
       "      <td>Alabama</td>\n",
       "      <td>Autauga</td>\n",
       "      <td>UnitedHealthcare</td>\n",
       "      <td>HMO</td>\n",
       "      <td>0.0</td>\n",
       "      <td>0.0</td>\n",
       "      <td>Enhanced</td>\n",
       "      <td>No Gap Coverage</td>\n",
       "      <td>EA</td>\n",
       "      <td>4450.0</td>\n",
       "      <td>2.5</td>\n",
       "    </tr>\n",
       "    <tr>\n",
       "      <th>1</th>\n",
       "      <td>Alabama</td>\n",
       "      <td>Autauga</td>\n",
       "      <td>Blue Cross and Blue Shield of Alabama</td>\n",
       "      <td>PPO</td>\n",
       "      <td>99.0</td>\n",
       "      <td>130.0</td>\n",
       "      <td>Basic</td>\n",
       "      <td>No Gap Coverage</td>\n",
       "      <td>BA</td>\n",
       "      <td>3400.0</td>\n",
       "      <td>2.5</td>\n",
       "    </tr>\n",
       "    <tr>\n",
       "      <th>2</th>\n",
       "      <td>Alabama</td>\n",
       "      <td>Autauga</td>\n",
       "      <td>Blue Cross and Blue Shield of Alabama</td>\n",
       "      <td>PPO</td>\n",
       "      <td>199.0</td>\n",
       "      <td>0.0</td>\n",
       "      <td>Enhanced</td>\n",
       "      <td>No Gap Coverage</td>\n",
       "      <td>EA</td>\n",
       "      <td>3400.0</td>\n",
       "      <td>2.5</td>\n",
       "    </tr>\n",
       "  </tbody>\n",
       "</table>\n",
       "</div>"
      ],
      "text/plain": [
       "    ESTADO  CONDADO                           ORGANIZACION  \\\n",
       "0  Alabama  Autauga                       UnitedHealthcare   \n",
       "1  Alabama  Autauga  Blue Cross and Blue Shield of Alabama   \n",
       "2  Alabama  Autauga  Blue Cross and Blue Shield of Alabama   \n",
       "\n",
       "  TIPO_PLAN_GENERICO_MEDICARE  PRIMA_MENSUAL_CONSOLIDADA  \\\n",
       "0                         HMO                        0.0   \n",
       "1                         PPO                       99.0   \n",
       "2                         PPO                      199.0   \n",
       "\n",
       "   MEDICAMS_ANUALES_DEDUCIBLES TIPO_BENEFICIO COBERTURA_ADICIONAL_OFRECIDA  \\\n",
       "0                          0.0       Enhanced              No Gap Coverage   \n",
       "1                        130.0          Basic              No Gap Coverage   \n",
       "2                          0.0       Enhanced              No Gap Coverage   \n",
       "\n",
       "  DETALLE_BENEFICIO  DESEMBOLSO_MAXIMO CLASIFICACION  \n",
       "0                EA             4450.0           2.5  \n",
       "1                BA             3400.0           2.5  \n",
       "2                EA             3400.0           2.5  "
      ]
     },
     "execution_count": 19,
     "metadata": {},
     "output_type": "execute_result"
    }
   ],
   "source": [
    "df_ratings_lab_ohe.head(3)"
   ]
  },
  {
   "cell_type": "code",
   "execution_count": 20,
   "metadata": {},
   "outputs": [
    {
     "data": {
      "text/plain": [
       "array(['2.5', '3', 'NO_ASIGNADO', '3.5', '4', '4.5', '5', '2'],\n",
       "      dtype=object)"
      ]
     },
     "execution_count": 20,
     "metadata": {},
     "output_type": "execute_result"
    }
   ],
   "source": [
    "# Check UNIQUE values\n",
    "df_ratings_lab_ohe['CLASIFICACION'].unique()"
   ]
  },
  {
   "cell_type": "code",
   "execution_count": 21,
   "metadata": {},
   "outputs": [
    {
     "data": {
      "text/plain": [
       "ESTADO                          0\n",
       "CONDADO                         0\n",
       "ORGANIZACION                    0\n",
       "TIPO_PLAN_GENERICO_MEDICARE     0\n",
       "PRIMA_MENSUAL_CONSOLIDADA       0\n",
       "MEDICAMS_ANUALES_DEDUCIBLES     0\n",
       "TIPO_BENEFICIO                  0\n",
       "COBERTURA_ADICIONAL_OFRECIDA    0\n",
       "DETALLE_BENEFICIO               0\n",
       "DESEMBOLSO_MAXIMO               0\n",
       "CLASIFICACION                   0\n",
       "dtype: int64"
      ]
     },
     "execution_count": 21,
     "metadata": {},
     "output_type": "execute_result"
    }
   ],
   "source": [
    "# Check NULL values\n",
    "df_ratings_lab_ohe.isnull().sum()"
   ]
  },
  {
   "cell_type": "code",
   "execution_count": 22,
   "metadata": {},
   "outputs": [
    {
     "data": {
      "text/plain": [
       "ESTADO                          0\n",
       "CONDADO                         0\n",
       "ORGANIZACION                    0\n",
       "TIPO_PLAN_GENERICO_MEDICARE     0\n",
       "PRIMA_MENSUAL_CONSOLIDADA       0\n",
       "MEDICAMS_ANUALES_DEDUCIBLES     0\n",
       "TIPO_BENEFICIO                  0\n",
       "COBERTURA_ADICIONAL_OFRECIDA    0\n",
       "DETALLE_BENEFICIO               0\n",
       "DESEMBOLSO_MAXIMO               0\n",
       "CLASIFICACION                   0\n",
       "dtype: int64"
      ]
     },
     "execution_count": 22,
     "metadata": {},
     "output_type": "execute_result"
    }
   ],
   "source": [
    "# Check NaN values\n",
    "df_ratings_lab_ohe.isna().sum()"
   ]
  },
  {
   "cell_type": "code",
   "execution_count": 23,
   "metadata": {},
   "outputs": [],
   "source": [
    "# Create sample for new dataframe with OneHotEncoder"
   ]
  },
  {
   "cell_type": "code",
   "execution_count": 24,
   "metadata": {},
   "outputs": [],
   "source": [
    "df_ratings_lab_ohe_sample = df_ratings_lab_ohe.sample(n=10000, random_state=888).reset_index(drop=True)"
   ]
  },
  {
   "cell_type": "code",
   "execution_count": 25,
   "metadata": {},
   "outputs": [
    {
     "data": {
      "text/plain": [
       "Index(['ESTADO', 'CONDADO', 'ORGANIZACION', 'TIPO_PLAN_GENERICO_MEDICARE',\n",
       "       'PRIMA_MENSUAL_CONSOLIDADA', 'MEDICAMS_ANUALES_DEDUCIBLES',\n",
       "       'TIPO_BENEFICIO', 'COBERTURA_ADICIONAL_OFRECIDA', 'DETALLE_BENEFICIO',\n",
       "       'DESEMBOLSO_MAXIMO', 'CLASIFICACION'],\n",
       "      dtype='object')"
      ]
     },
     "execution_count": 25,
     "metadata": {},
     "output_type": "execute_result"
    }
   ],
   "source": [
    "df_ratings_lab_ohe_sample.columns"
   ]
  },
  {
   "cell_type": "code",
   "execution_count": 26,
   "metadata": {},
   "outputs": [
    {
     "data": {
      "text/html": [
       "<div>\n",
       "<style scoped>\n",
       "    .dataframe tbody tr th:only-of-type {\n",
       "        vertical-align: middle;\n",
       "    }\n",
       "\n",
       "    .dataframe tbody tr th {\n",
       "        vertical-align: top;\n",
       "    }\n",
       "\n",
       "    .dataframe thead th {\n",
       "        text-align: right;\n",
       "    }\n",
       "</style>\n",
       "<table border=\"1\" class=\"dataframe\">\n",
       "  <thead>\n",
       "    <tr style=\"text-align: right;\">\n",
       "      <th></th>\n",
       "      <th>ESTADO</th>\n",
       "      <th>CONDADO</th>\n",
       "      <th>ORGANIZACION</th>\n",
       "      <th>TIPO_PLAN_GENERICO_MEDICARE</th>\n",
       "      <th>PRIMA_MENSUAL_CONSOLIDADA</th>\n",
       "      <th>MEDICAMS_ANUALES_DEDUCIBLES</th>\n",
       "      <th>TIPO_BENEFICIO</th>\n",
       "      <th>COBERTURA_ADICIONAL_OFRECIDA</th>\n",
       "      <th>DETALLE_BENEFICIO</th>\n",
       "      <th>DESEMBOLSO_MAXIMO</th>\n",
       "      <th>CLASIFICACION</th>\n",
       "    </tr>\n",
       "  </thead>\n",
       "  <tbody>\n",
       "    <tr>\n",
       "      <th>0</th>\n",
       "      <td>Indiana</td>\n",
       "      <td>Harrison</td>\n",
       "      <td>Anthem Blue Cross and Blue Shield</td>\n",
       "      <td>PPO</td>\n",
       "      <td>64.0</td>\n",
       "      <td>60.0</td>\n",
       "      <td>Enhanced</td>\n",
       "      <td>Many Generics</td>\n",
       "      <td>EA</td>\n",
       "      <td>3400.0</td>\n",
       "      <td>3</td>\n",
       "    </tr>\n",
       "  </tbody>\n",
       "</table>\n",
       "</div>"
      ],
      "text/plain": [
       "    ESTADO   CONDADO                       ORGANIZACION  \\\n",
       "0  Indiana  Harrison  Anthem Blue Cross and Blue Shield   \n",
       "\n",
       "  TIPO_PLAN_GENERICO_MEDICARE  PRIMA_MENSUAL_CONSOLIDADA  \\\n",
       "0                         PPO                       64.0   \n",
       "\n",
       "   MEDICAMS_ANUALES_DEDUCIBLES TIPO_BENEFICIO COBERTURA_ADICIONAL_OFRECIDA  \\\n",
       "0                         60.0       Enhanced                Many Generics   \n",
       "\n",
       "  DETALLE_BENEFICIO  DESEMBOLSO_MAXIMO CLASIFICACION  \n",
       "0                EA             3400.0             3  "
      ]
     },
     "execution_count": 26,
     "metadata": {},
     "output_type": "execute_result"
    }
   ],
   "source": [
    "df_ratings_lab_ohe_sample.head(1)"
   ]
  },
  {
   "cell_type": "code",
   "execution_count": 27,
   "metadata": {},
   "outputs": [
    {
     "data": {
      "text/plain": [
       "ESTADO                           object\n",
       "CONDADO                          object\n",
       "ORGANIZACION                     object\n",
       "TIPO_PLAN_GENERICO_MEDICARE      object\n",
       "PRIMA_MENSUAL_CONSOLIDADA       float64\n",
       "MEDICAMS_ANUALES_DEDUCIBLES     float64\n",
       "TIPO_BENEFICIO                   object\n",
       "COBERTURA_ADICIONAL_OFRECIDA     object\n",
       "DETALLE_BENEFICIO                object\n",
       "DESEMBOLSO_MAXIMO               float64\n",
       "CLASIFICACION                    object\n",
       "dtype: object"
      ]
     },
     "execution_count": 27,
     "metadata": {},
     "output_type": "execute_result"
    }
   ],
   "source": [
    "df_ratings_lab_ohe_sample.dtypes"
   ]
  },
  {
   "cell_type": "code",
   "execution_count": 28,
   "metadata": {},
   "outputs": [
    {
     "data": {
      "text/plain": [
       "ESTADO                          0\n",
       "CONDADO                         0\n",
       "ORGANIZACION                    0\n",
       "TIPO_PLAN_GENERICO_MEDICARE     0\n",
       "PRIMA_MENSUAL_CONSOLIDADA       0\n",
       "MEDICAMS_ANUALES_DEDUCIBLES     0\n",
       "TIPO_BENEFICIO                  0\n",
       "COBERTURA_ADICIONAL_OFRECIDA    0\n",
       "DETALLE_BENEFICIO               0\n",
       "DESEMBOLSO_MAXIMO               0\n",
       "CLASIFICACION                   0\n",
       "dtype: int64"
      ]
     },
     "execution_count": 28,
     "metadata": {},
     "output_type": "execute_result"
    }
   ],
   "source": [
    "# Check NULL values\n",
    "df_ratings_lab_ohe_sample.isnull().sum()"
   ]
  },
  {
   "cell_type": "code",
   "execution_count": 29,
   "metadata": {},
   "outputs": [
    {
     "data": {
      "text/plain": [
       "ESTADO                          10000\n",
       "CONDADO                         10000\n",
       "ORGANIZACION                    10000\n",
       "TIPO_PLAN_GENERICO_MEDICARE     10000\n",
       "PRIMA_MENSUAL_CONSOLIDADA       10000\n",
       "MEDICAMS_ANUALES_DEDUCIBLES     10000\n",
       "TIPO_BENEFICIO                  10000\n",
       "COBERTURA_ADICIONAL_OFRECIDA    10000\n",
       "DETALLE_BENEFICIO               10000\n",
       "DESEMBOLSO_MAXIMO               10000\n",
       "CLASIFICACION                   10000\n",
       "dtype: int64"
      ]
     },
     "execution_count": 29,
     "metadata": {},
     "output_type": "execute_result"
    }
   ],
   "source": [
    "df_ratings_lab_ohe_sample.count()"
   ]
  },
  {
   "cell_type": "code",
   "execution_count": 30,
   "metadata": {},
   "outputs": [
    {
     "data": {
      "text/html": [
       "<div>\n",
       "<style scoped>\n",
       "    .dataframe tbody tr th:only-of-type {\n",
       "        vertical-align: middle;\n",
       "    }\n",
       "\n",
       "    .dataframe tbody tr th {\n",
       "        vertical-align: top;\n",
       "    }\n",
       "\n",
       "    .dataframe thead th {\n",
       "        text-align: right;\n",
       "    }\n",
       "</style>\n",
       "<table border=\"1\" class=\"dataframe\">\n",
       "  <thead>\n",
       "    <tr style=\"text-align: right;\">\n",
       "      <th></th>\n",
       "      <th>ESTADO</th>\n",
       "      <th>CONDADO</th>\n",
       "      <th>ORGANIZACION</th>\n",
       "      <th>TIPO_PLAN_GENERICO_MEDICARE</th>\n",
       "      <th>PRIMA_MENSUAL_CONSOLIDADA</th>\n",
       "      <th>MEDICAMS_ANUALES_DEDUCIBLES</th>\n",
       "      <th>TIPO_BENEFICIO</th>\n",
       "      <th>COBERTURA_ADICIONAL_OFRECIDA</th>\n",
       "      <th>DETALLE_BENEFICIO</th>\n",
       "      <th>DESEMBOLSO_MAXIMO</th>\n",
       "      <th>CLASIFICACION</th>\n",
       "    </tr>\n",
       "  </thead>\n",
       "  <tbody>\n",
       "    <tr>\n",
       "      <th>0</th>\n",
       "      <td>Indiana</td>\n",
       "      <td>Harrison</td>\n",
       "      <td>Anthem Blue Cross and Blue Shield</td>\n",
       "      <td>PPO</td>\n",
       "      <td>64.0</td>\n",
       "      <td>60.0</td>\n",
       "      <td>Enhanced</td>\n",
       "      <td>Many Generics</td>\n",
       "      <td>EA</td>\n",
       "      <td>3400.0</td>\n",
       "      <td>3</td>\n",
       "    </tr>\n",
       "  </tbody>\n",
       "</table>\n",
       "</div>"
      ],
      "text/plain": [
       "    ESTADO   CONDADO                       ORGANIZACION  \\\n",
       "0  Indiana  Harrison  Anthem Blue Cross and Blue Shield   \n",
       "\n",
       "  TIPO_PLAN_GENERICO_MEDICARE  PRIMA_MENSUAL_CONSOLIDADA  \\\n",
       "0                         PPO                       64.0   \n",
       "\n",
       "   MEDICAMS_ANUALES_DEDUCIBLES TIPO_BENEFICIO COBERTURA_ADICIONAL_OFRECIDA  \\\n",
       "0                         60.0       Enhanced                Many Generics   \n",
       "\n",
       "  DETALLE_BENEFICIO  DESEMBOLSO_MAXIMO CLASIFICACION  \n",
       "0                EA             3400.0             3  "
      ]
     },
     "metadata": {},
     "output_type": "display_data"
    }
   ],
   "source": [
    "# Dont limit column display\n",
    "import pandas as pd\n",
    "from IPython.display import display\n",
    "\n",
    "pd.options.display.max_columns = None\n",
    "display(df_ratings_lab_ohe_sample.head(1))"
   ]
  },
  {
   "cell_type": "code",
   "execution_count": 31,
   "metadata": {},
   "outputs": [
    {
     "data": {
      "text/plain": [
       "Index(['ESTADO', 'CONDADO', 'ORGANIZACION', 'TIPO_PLAN_GENERICO_MEDICARE',\n",
       "       'PRIMA_MENSUAL_CONSOLIDADA', 'MEDICAMS_ANUALES_DEDUCIBLES',\n",
       "       'TIPO_BENEFICIO', 'COBERTURA_ADICIONAL_OFRECIDA', 'DETALLE_BENEFICIO',\n",
       "       'DESEMBOLSO_MAXIMO', 'CLASIFICACION'],\n",
       "      dtype='object')"
      ]
     },
     "metadata": {},
     "output_type": "display_data"
    }
   ],
   "source": [
    "display(df_ratings_lab_ohe_sample.columns)"
   ]
  },
  {
   "cell_type": "code",
   "execution_count": 32,
   "metadata": {},
   "outputs": [
    {
     "name": "stdout",
     "output_type": "stream",
     "text": [
      "None\n"
     ]
    }
   ],
   "source": [
    "print(pd.options.display.max_columns)"
   ]
  },
  {
   "cell_type": "code",
   "execution_count": 33,
   "metadata": {},
   "outputs": [
    {
     "name": "stdout",
     "output_type": "stream",
     "text": [
      "60\n"
     ]
    }
   ],
   "source": [
    "print(pd.options.display.max_rows)"
   ]
  },
  {
   "cell_type": "code",
   "execution_count": 34,
   "metadata": {},
   "outputs": [
    {
     "data": {
      "text/html": [
       "<div>\n",
       "<style scoped>\n",
       "    .dataframe tbody tr th:only-of-type {\n",
       "        vertical-align: middle;\n",
       "    }\n",
       "\n",
       "    .dataframe tbody tr th {\n",
       "        vertical-align: top;\n",
       "    }\n",
       "\n",
       "    .dataframe thead th {\n",
       "        text-align: right;\n",
       "    }\n",
       "</style>\n",
       "<table border=\"1\" class=\"dataframe\">\n",
       "  <thead>\n",
       "    <tr style=\"text-align: right;\">\n",
       "      <th></th>\n",
       "      <th>ESTADO</th>\n",
       "      <th>CONDADO</th>\n",
       "      <th>ORGANIZACION</th>\n",
       "      <th>TIPO_PLAN_GENERICO_MEDICARE</th>\n",
       "      <th>PRIMA_MENSUAL_CONSOLIDADA</th>\n",
       "      <th>MEDICAMS_ANUALES_DEDUCIBLES</th>\n",
       "      <th>TIPO_BENEFICIO</th>\n",
       "      <th>COBERTURA_ADICIONAL_OFRECIDA</th>\n",
       "      <th>DETALLE_BENEFICIO</th>\n",
       "      <th>DESEMBOLSO_MAXIMO</th>\n",
       "      <th>CLASIFICACION</th>\n",
       "    </tr>\n",
       "  </thead>\n",
       "  <tbody>\n",
       "    <tr>\n",
       "      <th>0</th>\n",
       "      <td>Indiana</td>\n",
       "      <td>Harrison</td>\n",
       "      <td>Anthem Blue Cross and Blue Shield</td>\n",
       "      <td>PPO</td>\n",
       "      <td>64.0</td>\n",
       "      <td>60.0</td>\n",
       "      <td>Enhanced</td>\n",
       "      <td>Many Generics</td>\n",
       "      <td>EA</td>\n",
       "      <td>3400.0</td>\n",
       "      <td>3</td>\n",
       "    </tr>\n",
       "  </tbody>\n",
       "</table>\n",
       "</div>"
      ],
      "text/plain": [
       "    ESTADO   CONDADO                       ORGANIZACION  \\\n",
       "0  Indiana  Harrison  Anthem Blue Cross and Blue Shield   \n",
       "\n",
       "  TIPO_PLAN_GENERICO_MEDICARE  PRIMA_MENSUAL_CONSOLIDADA  \\\n",
       "0                         PPO                       64.0   \n",
       "\n",
       "   MEDICAMS_ANUALES_DEDUCIBLES TIPO_BENEFICIO COBERTURA_ADICIONAL_OFRECIDA  \\\n",
       "0                         60.0       Enhanced                Many Generics   \n",
       "\n",
       "  DETALLE_BENEFICIO  DESEMBOLSO_MAXIMO CLASIFICACION  \n",
       "0                EA             3400.0             3  "
      ]
     },
     "execution_count": 34,
     "metadata": {},
     "output_type": "execute_result"
    }
   ],
   "source": [
    "df_ratings_lab_ohe_sample[0:1]"
   ]
  },
  {
   "cell_type": "code",
   "execution_count": 35,
   "metadata": {},
   "outputs": [
    {
     "data": {
      "text/plain": [
       "Index(['ESTADO', 'CONDADO', 'ORGANIZACION', 'TIPO_PLAN_GENERICO_MEDICARE',\n",
       "       'PRIMA_MENSUAL_CONSOLIDADA', 'MEDICAMS_ANUALES_DEDUCIBLES',\n",
       "       'TIPO_BENEFICIO', 'COBERTURA_ADICIONAL_OFRECIDA', 'DETALLE_BENEFICIO',\n",
       "       'DESEMBOLSO_MAXIMO', 'CLASIFICACION'],\n",
       "      dtype='object')"
      ]
     },
     "execution_count": 35,
     "metadata": {},
     "output_type": "execute_result"
    }
   ],
   "source": [
    "df_ratings_lab_ohe_sample.columns"
   ]
  },
  {
   "cell_type": "code",
   "execution_count": 36,
   "metadata": {},
   "outputs": [],
   "source": [
    "df_ratings_lab_ohe_sample[\"ESTADO\"] = df_ratings_lab_ohe_sample[\"ESTADO\"].astype(np.str)\n",
    "df_ratings_lab_ohe_sample[\"CONDADO\"] = df_ratings_lab_ohe_sample[\"CONDADO\"].astype(np.str)\n",
    "df_ratings_lab_ohe_sample[\"ORGANIZACION\"] = df_ratings_lab_ohe_sample[\"ORGANIZACION\"].astype(np.str)\n",
    "df_ratings_lab_ohe_sample[\"TIPO_PLAN_GENERICO_MEDICARE\"] = df_ratings_lab_ohe_sample[\"TIPO_PLAN_GENERICO_MEDICARE\"].astype(np.str)\n",
    "df_ratings_lab_ohe_sample[\"PRIMA_MENSUAL_CONSOLIDADA\"] = df_ratings_lab_ohe_sample[\"PRIMA_MENSUAL_CONSOLIDADA\"].astype(np.float64)\n",
    "df_ratings_lab_ohe_sample[\"MEDICAMS_ANUALES_DEDUCIBLES\"] = df_ratings_lab_ohe_sample[\"MEDICAMS_ANUALES_DEDUCIBLES\"].astype(np.float64)\n",
    "df_ratings_lab_ohe_sample[\"TIPO_BENEFICIO\"] = df_ratings_lab_ohe_sample[\"TIPO_BENEFICIO\"].astype(np.str)\n",
    "df_ratings_lab_ohe_sample[\"COBERTURA_ADICIONAL_OFRECIDA\"] = df_ratings_lab_ohe_sample[\"COBERTURA_ADICIONAL_OFRECIDA\"].astype(np.str)\n",
    "df_ratings_lab_ohe_sample[\"DETALLE_BENEFICIO\"] = df_ratings_lab_ohe_sample[\"DETALLE_BENEFICIO\"].astype(np.str)\n",
    "df_ratings_lab_ohe_sample[\"DESEMBOLSO_MAXIMO\"] = df_ratings_lab_ohe_sample[\"DESEMBOLSO_MAXIMO\"].astype(np.float64)\n",
    "df_ratings_lab_ohe_sample[\"CLASIFICACION\"] = df_ratings_lab_ohe_sample[\"CLASIFICACION\"].astype(np.str)"
   ]
  },
  {
   "cell_type": "markdown",
   "metadata": {},
   "source": [
    "# Data Preparation"
   ]
  },
  {
   "cell_type": "code",
   "execution_count": 37,
   "metadata": {},
   "outputs": [
    {
     "data": {
      "text/plain": [
       "ESTADO                           object\n",
       "CONDADO                          object\n",
       "ORGANIZACION                     object\n",
       "TIPO_PLAN_GENERICO_MEDICARE      object\n",
       "PRIMA_MENSUAL_CONSOLIDADA       float64\n",
       "MEDICAMS_ANUALES_DEDUCIBLES     float64\n",
       "TIPO_BENEFICIO                   object\n",
       "COBERTURA_ADICIONAL_OFRECIDA     object\n",
       "DETALLE_BENEFICIO                object\n",
       "DESEMBOLSO_MAXIMO               float64\n",
       "CLASIFICACION                    object\n",
       "dtype: object"
      ]
     },
     "execution_count": 37,
     "metadata": {},
     "output_type": "execute_result"
    }
   ],
   "source": [
    "df_ratings_lab_ohe_sample.dtypes"
   ]
  },
  {
   "cell_type": "code",
   "execution_count": 38,
   "metadata": {},
   "outputs": [
    {
     "data": {
      "text/html": [
       "<div>\n",
       "<style scoped>\n",
       "    .dataframe tbody tr th:only-of-type {\n",
       "        vertical-align: middle;\n",
       "    }\n",
       "\n",
       "    .dataframe tbody tr th {\n",
       "        vertical-align: top;\n",
       "    }\n",
       "\n",
       "    .dataframe thead th {\n",
       "        text-align: right;\n",
       "    }\n",
       "</style>\n",
       "<table border=\"1\" class=\"dataframe\">\n",
       "  <thead>\n",
       "    <tr style=\"text-align: right;\">\n",
       "      <th></th>\n",
       "      <th>ESTADO</th>\n",
       "      <th>CONDADO</th>\n",
       "      <th>ORGANIZACION</th>\n",
       "      <th>TIPO_PLAN_GENERICO_MEDICARE</th>\n",
       "      <th>PRIMA_MENSUAL_CONSOLIDADA</th>\n",
       "      <th>MEDICAMS_ANUALES_DEDUCIBLES</th>\n",
       "      <th>TIPO_BENEFICIO</th>\n",
       "      <th>COBERTURA_ADICIONAL_OFRECIDA</th>\n",
       "      <th>DETALLE_BENEFICIO</th>\n",
       "      <th>DESEMBOLSO_MAXIMO</th>\n",
       "      <th>CLASIFICACION</th>\n",
       "    </tr>\n",
       "  </thead>\n",
       "  <tbody>\n",
       "    <tr>\n",
       "      <th>0</th>\n",
       "      <td>Indiana</td>\n",
       "      <td>Harrison</td>\n",
       "      <td>Anthem Blue Cross and Blue Shield</td>\n",
       "      <td>PPO</td>\n",
       "      <td>64.0</td>\n",
       "      <td>60.0</td>\n",
       "      <td>Enhanced</td>\n",
       "      <td>Many Generics</td>\n",
       "      <td>EA</td>\n",
       "      <td>3400.0</td>\n",
       "      <td>3</td>\n",
       "    </tr>\n",
       "    <tr>\n",
       "      <th>1</th>\n",
       "      <td>North Carolina</td>\n",
       "      <td>Scotland</td>\n",
       "      <td>Blue Cross and Blue Shield of North Carolina</td>\n",
       "      <td>HMO</td>\n",
       "      <td>16.4</td>\n",
       "      <td>0.0</td>\n",
       "      <td>Enhanced</td>\n",
       "      <td>Many Generics</td>\n",
       "      <td>EA</td>\n",
       "      <td>3400.0</td>\n",
       "      <td>4</td>\n",
       "    </tr>\n",
       "    <tr>\n",
       "      <th>2</th>\n",
       "      <td>Kentucky</td>\n",
       "      <td>Harrison</td>\n",
       "      <td>Humana Insurance Company</td>\n",
       "      <td>PPO</td>\n",
       "      <td>73.0</td>\n",
       "      <td>360.0</td>\n",
       "      <td>Enhanced</td>\n",
       "      <td>Yes</td>\n",
       "      <td>EA</td>\n",
       "      <td>6700.0</td>\n",
       "      <td>3</td>\n",
       "    </tr>\n",
       "  </tbody>\n",
       "</table>\n",
       "</div>"
      ],
      "text/plain": [
       "           ESTADO   CONDADO                                  ORGANIZACION  \\\n",
       "0         Indiana  Harrison             Anthem Blue Cross and Blue Shield   \n",
       "1  North Carolina  Scotland  Blue Cross and Blue Shield of North Carolina   \n",
       "2        Kentucky  Harrison                      Humana Insurance Company   \n",
       "\n",
       "  TIPO_PLAN_GENERICO_MEDICARE  PRIMA_MENSUAL_CONSOLIDADA  \\\n",
       "0                         PPO                       64.0   \n",
       "1                         HMO                       16.4   \n",
       "2                         PPO                       73.0   \n",
       "\n",
       "   MEDICAMS_ANUALES_DEDUCIBLES TIPO_BENEFICIO COBERTURA_ADICIONAL_OFRECIDA  \\\n",
       "0                         60.0       Enhanced                Many Generics   \n",
       "1                          0.0       Enhanced                Many Generics   \n",
       "2                        360.0       Enhanced                          Yes   \n",
       "\n",
       "  DETALLE_BENEFICIO  DESEMBOLSO_MAXIMO CLASIFICACION  \n",
       "0                EA             3400.0             3  \n",
       "1                EA             3400.0             4  \n",
       "2                EA             6700.0             3  "
      ]
     },
     "execution_count": 38,
     "metadata": {},
     "output_type": "execute_result"
    }
   ],
   "source": [
    "df_ratings_lab_ohe_sample.head(3)"
   ]
  },
  {
   "cell_type": "code",
   "execution_count": 39,
   "metadata": {},
   "outputs": [],
   "source": [
    "# Labeling through Label Encoding\n",
    "from sklearn.preprocessing import LabelEncoder\n",
    "lab = LabelEncoder() "
   ]
  },
  {
   "cell_type": "code",
   "execution_count": 40,
   "metadata": {},
   "outputs": [
    {
     "data": {
      "text/plain": [
       "Index(['ESTADO', 'CONDADO', 'ORGANIZACION', 'TIPO_PLAN_GENERICO_MEDICARE',\n",
       "       'PRIMA_MENSUAL_CONSOLIDADA', 'MEDICAMS_ANUALES_DEDUCIBLES',\n",
       "       'TIPO_BENEFICIO', 'COBERTURA_ADICIONAL_OFRECIDA', 'DETALLE_BENEFICIO',\n",
       "       'DESEMBOLSO_MAXIMO', 'CLASIFICACION'],\n",
       "      dtype='object')"
      ]
     },
     "execution_count": 40,
     "metadata": {},
     "output_type": "execute_result"
    }
   ],
   "source": [
    "df_ratings_lab_ohe_sample.columns"
   ]
  },
  {
   "cell_type": "code",
   "execution_count": 41,
   "metadata": {},
   "outputs": [],
   "source": [
    "df_ratings_lab_ohe_sample['ESTADO']= lab.fit_transform(df_ratings_lab_ohe_sample['ESTADO'])\n",
    "df_ratings_lab_ohe_sample['CONDADO']= lab.fit_transform(df_ratings_lab_ohe_sample['CONDADO'])\n",
    "df_ratings_lab_ohe_sample['ORGANIZACION']= lab.fit_transform(df_ratings_lab_ohe_sample['ORGANIZACION'])\n",
    "#df_ratings_lab_ohe_sample['PLAN']= lab.fit_transform(df_ratings_lab_ohe_sample['PLAN'])\n",
    "df_ratings_lab_ohe_sample['TIPO_PLAN_GENERICO_MEDICARE']= lab.fit_transform(df_ratings_lab_ohe_sample['TIPO_PLAN_GENERICO_MEDICARE'])\n",
    "df_ratings_lab_ohe_sample['PRIMA_MENSUAL_CONSOLIDADA']= lab.fit_transform(df_ratings_lab_ohe_sample['PRIMA_MENSUAL_CONSOLIDADA'])\n",
    "df_ratings_lab_ohe_sample['MEDICAMS_ANUALES_DEDUCIBLES']= lab.fit_transform(df_ratings_lab_ohe_sample['MEDICAMS_ANUALES_DEDUCIBLES'])\n",
    "df_ratings_lab_ohe_sample['TIPO_BENEFICIO']= lab.fit_transform(df_ratings_lab_ohe_sample['TIPO_BENEFICIO'])\n",
    "df_ratings_lab_ohe_sample['COBERTURA_ADICIONAL_OFRECIDA']= lab.fit_transform(df_ratings_lab_ohe_sample['COBERTURA_ADICIONAL_OFRECIDA'])\n",
    "df_ratings_lab_ohe_sample['DETALLE_BENEFICIO']= lab.fit_transform(df_ratings_lab_ohe_sample['DETALLE_BENEFICIO'])\n",
    "#df_ratings_lab_ohe_sample['CONTRATO_ID']= lab.fit_transform(df_ratings_lab_ohe_sample['CONTRATO_ID'])\n",
    "#df_ratings_lab_ohe_sample['PLAN_ID']= lab.fit_transform(df_ratings_lab_ohe_sample['PLAN_ID'])\n",
    "#df_ratings_lab_ohe_sample['SEGMENTO_ID']= lab.fit_transform(df_ratings_lab_ohe_sample['SEGMENTO_ID'])\n",
    "df_ratings_lab_ohe_sample['DESEMBOLSO_MAXIMO']= lab.fit_transform(df_ratings_lab_ohe_sample['DESEMBOLSO_MAXIMO'])\n",
    "#df_ratings_lab_ohe_sample['CLASIFICACION']= lab.fit_transform(df_ratings_lab_ohe_sample['CLASIFICACION'])"
   ]
  },
  {
   "cell_type": "code",
   "execution_count": 42,
   "metadata": {},
   "outputs": [
    {
     "data": {
      "text/html": [
       "<div>\n",
       "<style scoped>\n",
       "    .dataframe tbody tr th:only-of-type {\n",
       "        vertical-align: middle;\n",
       "    }\n",
       "\n",
       "    .dataframe tbody tr th {\n",
       "        vertical-align: top;\n",
       "    }\n",
       "\n",
       "    .dataframe thead th {\n",
       "        text-align: right;\n",
       "    }\n",
       "</style>\n",
       "<table border=\"1\" class=\"dataframe\">\n",
       "  <thead>\n",
       "    <tr style=\"text-align: right;\">\n",
       "      <th></th>\n",
       "      <th>ESTADO</th>\n",
       "      <th>CONDADO</th>\n",
       "      <th>ORGANIZACION</th>\n",
       "      <th>TIPO_PLAN_GENERICO_MEDICARE</th>\n",
       "      <th>PRIMA_MENSUAL_CONSOLIDADA</th>\n",
       "      <th>MEDICAMS_ANUALES_DEDUCIBLES</th>\n",
       "      <th>TIPO_BENEFICIO</th>\n",
       "      <th>COBERTURA_ADICIONAL_OFRECIDA</th>\n",
       "      <th>DETALLE_BENEFICIO</th>\n",
       "      <th>DESEMBOLSO_MAXIMO</th>\n",
       "      <th>CLASIFICACION</th>\n",
       "    </tr>\n",
       "  </thead>\n",
       "  <tbody>\n",
       "    <tr>\n",
       "      <th>0</th>\n",
       "      <td>12</td>\n",
       "      <td>671</td>\n",
       "      <td>35</td>\n",
       "      <td>5</td>\n",
       "      <td>192</td>\n",
       "      <td>10</td>\n",
       "      <td>1</td>\n",
       "      <td>8</td>\n",
       "      <td>3</td>\n",
       "      <td>37</td>\n",
       "      <td>3</td>\n",
       "    </tr>\n",
       "  </tbody>\n",
       "</table>\n",
       "</div>"
      ],
      "text/plain": [
       "   ESTADO  CONDADO  ORGANIZACION  TIPO_PLAN_GENERICO_MEDICARE  \\\n",
       "0      12      671            35                            5   \n",
       "\n",
       "   PRIMA_MENSUAL_CONSOLIDADA  MEDICAMS_ANUALES_DEDUCIBLES  TIPO_BENEFICIO  \\\n",
       "0                        192                           10               1   \n",
       "\n",
       "   COBERTURA_ADICIONAL_OFRECIDA  DETALLE_BENEFICIO  DESEMBOLSO_MAXIMO  \\\n",
       "0                             8                  3                 37   \n",
       "\n",
       "  CLASIFICACION  \n",
       "0             3  "
      ]
     },
     "execution_count": 42,
     "metadata": {},
     "output_type": "execute_result"
    }
   ],
   "source": [
    "df_ratings_lab_ohe_sample.head(1)"
   ]
  },
  {
   "cell_type": "code",
   "execution_count": 43,
   "metadata": {},
   "outputs": [
    {
     "data": {
      "text/plain": [
       "(10000, 10)"
      ]
     },
     "execution_count": 43,
     "metadata": {},
     "output_type": "execute_result"
    }
   ],
   "source": [
    "# Load variables with sample data.\n",
    "X = np.array(df_ratings_lab_ohe_sample.drop('CLASIFICACION', 1))\n",
    "y = np.array(df_ratings_lab_ohe_sample[\"CLASIFICACION\"])\n",
    "X.shape"
   ]
  },
  {
   "cell_type": "code",
   "execution_count": 44,
   "metadata": {},
   "outputs": [],
   "source": [
    "# normalization\n",
    "X=(X-np.min(X))/(np.max(X)-np.min(X))"
   ]
  },
  {
   "cell_type": "code",
   "execution_count": 45,
   "metadata": {},
   "outputs": [],
   "source": [
    "# Train-test split and load the library\n",
    "from sklearn.model_selection import train_test_split\n",
    "# Create 2 groups each with input and labels\n",
    "X_train, X_test, y_train, y_test = train_test_split(X, y, test_size=0.20)"
   ]
  },
  {
   "cell_type": "code",
   "execution_count": 46,
   "metadata": {},
   "outputs": [],
   "source": [
    "from sklearn.preprocessing import OneHotEncoder\n",
    "from sklearn.preprocessing import LabelEncoder"
   ]
  },
  {
   "cell_type": "code",
   "execution_count": 47,
   "metadata": {},
   "outputs": [
    {
     "data": {
      "text/plain": [
       "Index(['ESTADO', 'CONDADO', 'ORGANIZACION', 'TIPO_PLAN_GENERICO_MEDICARE',\n",
       "       'PRIMA_MENSUAL_CONSOLIDADA', 'MEDICAMS_ANUALES_DEDUCIBLES',\n",
       "       'TIPO_BENEFICIO', 'COBERTURA_ADICIONAL_OFRECIDA', 'DETALLE_BENEFICIO',\n",
       "       'DESEMBOLSO_MAXIMO', 'CLASIFICACION'],\n",
       "      dtype='object')"
      ]
     },
     "execution_count": 47,
     "metadata": {},
     "output_type": "execute_result"
    }
   ],
   "source": [
    "df_ratings_lab_ohe_sample.columns"
   ]
  },
  {
   "cell_type": "code",
   "execution_count": 48,
   "metadata": {},
   "outputs": [
    {
     "data": {
      "text/html": [
       "<div>\n",
       "<style scoped>\n",
       "    .dataframe tbody tr th:only-of-type {\n",
       "        vertical-align: middle;\n",
       "    }\n",
       "\n",
       "    .dataframe tbody tr th {\n",
       "        vertical-align: top;\n",
       "    }\n",
       "\n",
       "    .dataframe thead th {\n",
       "        text-align: right;\n",
       "    }\n",
       "</style>\n",
       "<table border=\"1\" class=\"dataframe\">\n",
       "  <thead>\n",
       "    <tr style=\"text-align: right;\">\n",
       "      <th></th>\n",
       "      <th>ESTADO</th>\n",
       "      <th>CONDADO</th>\n",
       "      <th>ORGANIZACION</th>\n",
       "      <th>TIPO_PLAN_GENERICO_MEDICARE</th>\n",
       "      <th>PRIMA_MENSUAL_CONSOLIDADA</th>\n",
       "      <th>MEDICAMS_ANUALES_DEDUCIBLES</th>\n",
       "      <th>TIPO_BENEFICIO</th>\n",
       "      <th>COBERTURA_ADICIONAL_OFRECIDA</th>\n",
       "      <th>DETALLE_BENEFICIO</th>\n",
       "      <th>DESEMBOLSO_MAXIMO</th>\n",
       "      <th>CLASIFICACION</th>\n",
       "    </tr>\n",
       "  </thead>\n",
       "  <tbody>\n",
       "    <tr>\n",
       "      <th>0</th>\n",
       "      <td>12</td>\n",
       "      <td>671</td>\n",
       "      <td>35</td>\n",
       "      <td>5</td>\n",
       "      <td>192</td>\n",
       "      <td>10</td>\n",
       "      <td>1</td>\n",
       "      <td>8</td>\n",
       "      <td>3</td>\n",
       "      <td>37</td>\n",
       "      <td>3</td>\n",
       "    </tr>\n",
       "  </tbody>\n",
       "</table>\n",
       "</div>"
      ],
      "text/plain": [
       "   ESTADO  CONDADO  ORGANIZACION  TIPO_PLAN_GENERICO_MEDICARE  \\\n",
       "0      12      671            35                            5   \n",
       "\n",
       "   PRIMA_MENSUAL_CONSOLIDADA  MEDICAMS_ANUALES_DEDUCIBLES  TIPO_BENEFICIO  \\\n",
       "0                        192                           10               1   \n",
       "\n",
       "   COBERTURA_ADICIONAL_OFRECIDA  DETALLE_BENEFICIO  DESEMBOLSO_MAXIMO  \\\n",
       "0                             8                  3                 37   \n",
       "\n",
       "  CLASIFICACION  \n",
       "0             3  "
      ]
     },
     "execution_count": 48,
     "metadata": {},
     "output_type": "execute_result"
    }
   ],
   "source": [
    "df_ratings_lab_ohe_sample.head(1)"
   ]
  },
  {
   "cell_type": "code",
   "execution_count": 49,
   "metadata": {},
   "outputs": [
    {
     "data": {
      "text/plain": [
       "(10000, 11)"
      ]
     },
     "execution_count": 49,
     "metadata": {},
     "output_type": "execute_result"
    }
   ],
   "source": [
    "df_ratings_lab_ohe_sample.shape"
   ]
  },
  {
   "cell_type": "code",
   "execution_count": 50,
   "metadata": {},
   "outputs": [
    {
     "data": {
      "text/plain": [
       "ESTADO                          0\n",
       "CONDADO                         0\n",
       "ORGANIZACION                    0\n",
       "TIPO_PLAN_GENERICO_MEDICARE     0\n",
       "PRIMA_MENSUAL_CONSOLIDADA       0\n",
       "MEDICAMS_ANUALES_DEDUCIBLES     0\n",
       "TIPO_BENEFICIO                  0\n",
       "COBERTURA_ADICIONAL_OFRECIDA    0\n",
       "DETALLE_BENEFICIO               0\n",
       "DESEMBOLSO_MAXIMO               0\n",
       "CLASIFICACION                   0\n",
       "dtype: int64"
      ]
     },
     "execution_count": 50,
     "metadata": {},
     "output_type": "execute_result"
    }
   ],
   "source": [
    "df_ratings_lab_ohe_sample.isnull().sum()"
   ]
  },
  {
   "cell_type": "code",
   "execution_count": 51,
   "metadata": {},
   "outputs": [
    {
     "data": {
      "text/plain": [
       "OneHotEncoder(categorical_features=None, categories=None, drop=None,\n",
       "              dtype=<class 'numpy.float64'>, handle_unknown='ignore',\n",
       "              n_values=None, sparse=True)"
      ]
     },
     "execution_count": 51,
     "metadata": {},
     "output_type": "execute_result"
    }
   ],
   "source": [
    "# Create the encoder (by OneHotEncoder)\n",
    "encoder = OneHotEncoder(handle_unknown='ignore')\n",
    "# Assume for simplicity all features are categorical.\n",
    "encoder.fit(X_train)"
   ]
  },
  {
   "cell_type": "code",
   "execution_count": 52,
   "metadata": {},
   "outputs": [],
   "source": [
    "# Apply the encoder.\n",
    "X_train = encoder.transform(X_train)\n",
    "X_test = encoder.transform(X_test)"
   ]
  },
  {
   "cell_type": "code",
   "execution_count": 53,
   "metadata": {},
   "outputs": [
    {
     "data": {
      "text/plain": [
       "(10000, 10)"
      ]
     },
     "execution_count": 53,
     "metadata": {},
     "output_type": "execute_result"
    }
   ],
   "source": [
    "X.shape"
   ]
  },
  {
   "cell_type": "code",
   "execution_count": 54,
   "metadata": {},
   "outputs": [
    {
     "data": {
      "text/plain": [
       "<8000x2893 sparse matrix of type '<class 'numpy.float64'>'\n",
       "\twith 80000 stored elements in Compressed Sparse Row format>"
      ]
     },
     "execution_count": 54,
     "metadata": {},
     "output_type": "execute_result"
    }
   ],
   "source": [
    "X_train"
   ]
  },
  {
   "cell_type": "code",
   "execution_count": 55,
   "metadata": {},
   "outputs": [
    {
     "data": {
      "text/plain": [
       "<2000x2893 sparse matrix of type '<class 'numpy.float64'>'\n",
       "\twith 19847 stored elements in Compressed Sparse Row format>"
      ]
     },
     "execution_count": 55,
     "metadata": {},
     "output_type": "execute_result"
    }
   ],
   "source": [
    "X_test"
   ]
  },
  {
   "cell_type": "code",
   "execution_count": 56,
   "metadata": {},
   "outputs": [],
   "source": [
    "#################"
   ]
  },
  {
   "cell_type": "code",
   "execution_count": 57,
   "metadata": {},
   "outputs": [],
   "source": [
    "###############"
   ]
  },
  {
   "cell_type": "markdown",
   "metadata": {},
   "source": [
    "#  Extracción de características , escala característica, reducción de dimensionalidad y prueba de flujos con estimador final adaptado"
   ]
  },
  {
   "cell_type": "markdown",
   "metadata": {},
   "source": [
    "## Se utilizarán los hiperparámetros para:\n",
    "#### Regresión Logisitica\n",
    "#### Máquinas de vectores soporte\n",
    "#### Árbol de decisión"
   ]
  },
  {
   "cell_type": "markdown",
   "metadata": {},
   "source": [
    "## TAREAS:\n",
    "#### Seguimiento con datos de prueba de puntuación\n",
    "#### Comparar las exactitudes del modelo de pipeline\n",
    "#### Identificar el “mejor” modelo, lo que significa que tiene la mayor precisión en nuestros datos de prueba\n",
    "#### Persistir (guardar en archivo) todo el pipeline del “mejor” modelo"
   ]
  },
  {
   "cell_type": "code",
   "execution_count": 58,
   "metadata": {},
   "outputs": [],
   "source": [
    "# import warnings filter\n",
    "from warnings import simplefilter\n",
    "# ignore all future warnings\n",
    "simplefilter(action='ignore', category=FutureWarning)\n",
    "\n",
    "# Load environment\n",
    "from sklearn.model_selection import train_test_split\n",
    "from sklearn.preprocessing import StandardScaler\n",
    "from sklearn.neighbors import KNeighborsClassifier\n",
    "#from sklearn.decomposition import PCA\n",
    "from sklearn.pipeline import Pipeline\n",
    "#from sklearn.externals import joblib\n",
    "import joblib\n",
    "from sklearn.linear_model import LogisticRegression\n",
    "from sklearn import svm\n",
    "from sklearn import tree\n",
    "\n",
    "from sklearn.decomposition import TruncatedSVD\n",
    "from scipy.sparse import random as sparse_random\n",
    "from sklearn.random_projection import sparse_random_matrix\n",
    "\n",
    "from sklearn.metrics import accuracy_score\n",
    "from sklearn.model_selection import cross_val_score\n",
    "\n",
    "from sklearn import metrics\n",
    "from sklearn.metrics import f1_score"
   ]
  },
  {
   "cell_type": "code",
   "execution_count": 59,
   "metadata": {},
   "outputs": [],
   "source": [
    "# Construct some pipelines\n",
    "# SCL: Feature Scaling\n",
    "# PCA no admite entradas dispersas: ('pca', PCA(n_components=2)),\n",
    "## SVD: Singular Value Decomposition (Dimensionality reduction)\n",
    "pipe_lr = Pipeline([('scl', StandardScaler(with_mean=False)),\n",
    "                    ('svd', TruncatedSVD(random_state=888)),\n",
    "                    ('clf', LogisticRegression(random_state=888))])\n",
    "\n",
    "pipe_kn = Pipeline([('scl', StandardScaler(with_mean=False)),\n",
    "                     ('svd', TruncatedSVD(random_state=888)),\n",
    "                     ('clf', KNeighborsClassifier())])\n",
    "\n",
    "pipe_svm = Pipeline([('scl', StandardScaler(with_mean=False)),\n",
    "                    ('svd', TruncatedSVD(random_state=888)),\n",
    "                    ('clf', svm.SVC(random_state=888))])\n",
    "\n",
    "pipe_dt = Pipeline([('scl', StandardScaler(with_mean=False)),\n",
    "                    ('svd', TruncatedSVD(random_state=888)),\n",
    "                    ('clf', tree.DecisionTreeClassifier(random_state=888))])"
   ]
  },
  {
   "cell_type": "code",
   "execution_count": 60,
   "metadata": {},
   "outputs": [],
   "source": [
    "# List of pipelines for ease of iteration\n",
    "pipelines = [pipe_lr, pipe_kn, pipe_svm, pipe_dt]"
   ]
  },
  {
   "cell_type": "code",
   "execution_count": 61,
   "metadata": {},
   "outputs": [],
   "source": [
    "# Dictionary of pipelines and classifier types for ease of reference\n",
    "pipe_dict = {0: 'Logistic Regression', 1: 'KNeighbors', 2: 'Support Vector Machine', 3: 'Decision Tree'}"
   ]
  },
  {
   "cell_type": "code",
   "execution_count": 62,
   "metadata": {},
   "outputs": [],
   "source": [
    "# Fit the pipelines\n",
    "for pipe in pipelines:\n",
    "    pipe.fit(X_train, y_train)"
   ]
  },
  {
   "cell_type": "code",
   "execution_count": 63,
   "metadata": {},
   "outputs": [
    {
     "name": "stdout",
     "output_type": "stream",
     "text": [
      "-----------------------------------------------------\n",
      "Pipeline test score model (on Train):\n",
      "\tLogistic Regression: 0.269\n",
      "\tKNeighbors: 0.469\n",
      "\tSupport Vector Machine: 0.321\n",
      "\tDecision Tree: 0.630\n",
      "-----------------------------------------------------\n"
     ]
    }
   ],
   "source": [
    "# Compare ...\n",
    "print('-----------------------------------------------------')\n",
    "print('Pipeline test score model (on Train):')\n",
    "for idx, val in enumerate(pipelines):\n",
    "    print('\\t%s: %.3f' % (pipe_dict[idx], val.score(X_train, y_train)))\n",
    "print('-----------------------------------------------------')"
   ]
  },
  {
   "cell_type": "code",
   "execution_count": 64,
   "metadata": {},
   "outputs": [
    {
     "name": "stdout",
     "output_type": "stream",
     "text": [
      "-----------------------------------------------------\n",
      "Cross validation accuracy score (on Train):\n",
      "\tLogistic Regression: [0.25037481 0.24835033 0.24407085]\n",
      "\tKNeighbors: [0.31124438 0.29784043 0.31672171]\n",
      "\tSupport Vector Machine: [0.32083958 0.31283743 0.32152507]\n",
      "\tDecision Tree: [0.28605697 0.27984403 0.29900931]\n",
      "-----------------------------------------------------\n"
     ]
    }
   ],
   "source": [
    "print('-----------------------------------------------------')\n",
    "print('Cross validation accuracy score (on Train):')\n",
    "for idx, val in enumerate(pipelines):\n",
    "    print('\\t%s: %s' % (pipe_dict[idx], cross_val_score(val.fit(X_train,y_train),X,y,scoring=\"accuracy\", cv=3)))\n",
    "print('-----------------------------------------------------')"
   ]
  },
  {
   "cell_type": "code",
   "execution_count": 65,
   "metadata": {},
   "outputs": [
    {
     "name": "stdout",
     "output_type": "stream",
     "text": [
      "-----------------------------------------------------\n",
      "Metric accuracy score (on Test):\n",
      "\tLogistic Regression: 0.283\n",
      "\tKNeighbors: 0.302\n",
      "\tSupport Vector Machine: 0.328\n",
      "\tDecision Tree: 0.287\n",
      "-----------------------------------------------------\n"
     ]
    }
   ],
   "source": [
    "print('-----------------------------------------------------')\n",
    "print('Metric accuracy score (on Test):')\n",
    "for idx, val in enumerate(pipelines):\n",
    "    print('\\t%s: %.3f' % (pipe_dict[idx], accuracy_score(y_test,val.predict(X_test))))\n",
    "print('-----------------------------------------------------')"
   ]
  },
  {
   "cell_type": "code",
   "execution_count": 66,
   "metadata": {},
   "outputs": [
    {
     "name": "stdout",
     "output_type": "stream",
     "text": [
      "-----------------------------------------------------\n",
      "Prediction classification report (on Test):\n",
      "\tLogistic Regression: 0.37967926749424236\n",
      "\n",
      "\tKNeighbors: 0.2965564910041764\n",
      "\n",
      "\tSupport Vector Machine: 0.2955044224375928\n",
      "\n",
      "\tDecision Tree: 0.2882827376213729\n",
      "\n",
      "-----------------------------------------------------\n"
     ]
    }
   ],
   "source": [
    "# SI EXISTIERAN OBSERVACIONES DE TRAIN EN TEST:\n",
    "print('-----------------------------------------------------')\n",
    "print('Prediction classification report (on Test):')\n",
    "for idx, val in enumerate(pipelines):\n",
    "    #metrics.f1_score(y_test, y_pred, average='weighted', labels=np.unique(y_pred))\n",
    "    #print('\\t%s: %s\\n' % (pipe_dict[idx], classification_report(y_test,val.predict(X_test))))\n",
    "    print('\\t%s: %s\\n' % (pipe_dict[idx], \n",
    "                          metrics.f1_score(y_test,val.predict(X_test), \n",
    "                                           average='weighted', \n",
    "                                           labels=np.unique(val.predict(X_test)))))\n",
    "print('-----------------------------------------------------')    "
   ]
  },
  {
   "cell_type": "code",
   "execution_count": 67,
   "metadata": {},
   "outputs": [
    {
     "name": "stdout",
     "output_type": "stream",
     "text": [
      "Classifier with best accuracy: Decision Tree\n"
     ]
    }
   ],
   "source": [
    "# Identify the most accurate model on test data\n",
    "best_acc = 0.0\n",
    "best_clf = 0\n",
    "best_pipe = ''\n",
    "for idx, val in enumerate(pipelines):\n",
    "    if val.score(X_test, y_test) > best_acc:\n",
    "        best_acc = val.score(X_test, y_test)\n",
    "        best_pipe = val\n",
    "    best_clf = idx\n",
    "print('Classifier with best accuracy: %s' % pipe_dict[best_clf])"
   ]
  },
  {
   "cell_type": "code",
   "execution_count": 68,
   "metadata": {},
   "outputs": [
    {
     "name": "stdout",
     "output_type": "stream",
     "text": [
      "[[  0   0   0   5   0   0   0   0]\n",
      " [  0   0   0 107   6  43   0   0]\n",
      " [  0   0   0 230  41  20   0   0]\n",
      " [  0   0   0 397  80  67   0   0]\n",
      " [  0   0   0 313  77  80   0   0]\n",
      " [  0   0   0 170  33 141   0   0]\n",
      " [  0   0   0  25   2  17   0   0]\n",
      " [  0   0   0 105  24  17   0   0]]\n"
     ]
    },
    {
     "name": "stderr",
     "output_type": "stream",
     "text": [
      "/home/dsc/anaconda3/lib/python3.7/site-packages/sklearn/linear_model/logistic.py:432: FutureWarning: Default solver will be changed to 'lbfgs' in 0.22. Specify a solver to silence this warning.\n",
      "  FutureWarning)\n"
     ]
    }
   ],
   "source": [
    "# NO COMPUTE the f1 score using unique(y_pred)\n",
    "\n",
    "# Some labels in y_test don't appear in y_pred\n",
    "import warnings\n",
    "warnings.filterwarnings('always')  # \"error\", \"ignore\", \"always\", \"default\", \"module\" or \"once\"\n",
    "\n",
    "# Import the necessary modules\n",
    "from sklearn.linear_model import LogisticRegression\n",
    "from sklearn.metrics import confusion_matrix, classification_report\n",
    "\n",
    "# Create training and test sets\n",
    "X_train, X_test, y_train, y_test = train_test_split(X, y, test_size = 0.2, random_state=888)\n",
    "\n",
    "# Create the classifier: logreg\n",
    "logreg = LogisticRegression(verbose=0, multi_class='auto')\n",
    "\n",
    "# Fit the classifier to the training data\n",
    "logreg.fit(X_train,y_train)\n",
    "\n",
    "# Predict the labels of the test set: y_pred\n",
    "y_pred = logreg.predict(X_test)\n",
    "\n",
    "# Compute and print the confusion matrix and classification report\n",
    "print(confusion_matrix(y_test, y_pred))"
   ]
  },
  {
   "cell_type": "code",
   "execution_count": 69,
   "metadata": {},
   "outputs": [
    {
     "name": "stdout",
     "output_type": "stream",
     "text": [
      "              precision    recall  f1-score   support\n",
      "\n",
      "           2       0.00      0.00      0.00         5\n",
      "         2.5       0.00      0.00      0.00       156\n",
      "           3       0.00      0.00      0.00       291\n",
      "         3.5       0.29      0.73      0.42       544\n",
      "           4       0.29      0.16      0.21       470\n",
      "         4.5       0.37      0.41      0.39       344\n",
      "           5       0.00      0.00      0.00        44\n",
      " NO_ASIGNADO       0.00      0.00      0.00       146\n",
      "\n",
      "    accuracy                           0.31      2000\n",
      "   macro avg       0.12      0.16      0.13      2000\n",
      "weighted avg       0.21      0.31      0.23      2000\n",
      "\n"
     ]
    },
    {
     "name": "stderr",
     "output_type": "stream",
     "text": [
      "/home/dsc/anaconda3/lib/python3.7/site-packages/sklearn/metrics/classification.py:1437: UndefinedMetricWarning: Precision and F-score are ill-defined and being set to 0.0 in labels with no predicted samples.\n",
      "  'precision', 'predicted', average, warn_for)\n",
      "/home/dsc/anaconda3/lib/python3.7/site-packages/sklearn/metrics/classification.py:1437: UndefinedMetricWarning: Precision and F-score are ill-defined and being set to 0.0 in labels with no predicted samples.\n",
      "  'precision', 'predicted', average, warn_for)\n",
      "/home/dsc/anaconda3/lib/python3.7/site-packages/sklearn/metrics/classification.py:1437: UndefinedMetricWarning: Precision and F-score are ill-defined and being set to 0.0 in labels with no predicted samples.\n",
      "  'precision', 'predicted', average, warn_for)\n"
     ]
    }
   ],
   "source": [
    "print(classification_report(y_test, y_pred))"
   ]
  },
  {
   "cell_type": "code",
   "execution_count": 70,
   "metadata": {},
   "outputs": [
    {
     "name": "stdout",
     "output_type": "stream",
     "text": [
      "vie ene 10 16:51:18 CET 2020\r\n"
     ]
    }
   ],
   "source": [
    "!date"
   ]
  }
 ],
 "metadata": {
  "kernelspec": {
   "display_name": "Python 3",
   "language": "python",
   "name": "python3"
  },
  "language_info": {
   "codemirror_mode": {
    "name": "ipython",
    "version": 3
   },
   "file_extension": ".py",
   "mimetype": "text/x-python",
   "name": "python",
   "nbconvert_exporter": "python",
   "pygments_lexer": "ipython3",
   "version": "3.7.3"
  }
 },
 "nbformat": 4,
 "nbformat_minor": 2
}
