{
 "cells": [
  {
   "cell_type": "code",
   "execution_count": 1,
   "metadata": {},
   "outputs": [
    {
     "name": "stdout",
     "output_type": "stream",
     "text": [
      "vie ene 10 20:28:40 CET 2020\r\n"
     ]
    }
   ],
   "source": [
    "!date"
   ]
  },
  {
   "cell_type": "code",
   "execution_count": 2,
   "metadata": {},
   "outputs": [
    {
     "name": "stdout",
     "output_type": "stream",
     "text": [
      "\n",
      "Automagic is ON, % prefix IS NOT needed for line magics.\n"
     ]
    }
   ],
   "source": [
    "# Active system's automagic\n",
    "%automagic on"
   ]
  },
  {
   "cell_type": "code",
   "execution_count": 3,
   "metadata": {},
   "outputs": [],
   "source": [
    "# Load work environment"
   ]
  },
  {
   "cell_type": "code",
   "execution_count": 4,
   "metadata": {},
   "outputs": [
    {
     "data": {
      "text/plain": [
       "'/home/dsc/Repos/TFM_Categorize_providers_based_on_descriptions_of_the_drug_plans/03_Presentation'"
      ]
     },
     "execution_count": 4,
     "metadata": {},
     "output_type": "execute_result"
    }
   ],
   "source": [
    "import os\n",
    "os.getcwd()"
   ]
  },
  {
   "cell_type": "code",
   "execution_count": 5,
   "metadata": {},
   "outputs": [
    {
     "name": "stdout",
     "output_type": "stream",
     "text": [
      "01_Loading_and_preprocessing_original_data.ipynb\r\n",
      "01_OUT_csv_original_data_transformed.csv\r\n",
      "02_Sample_draw_transformed_data.ipynb\r\n",
      "03_Sample_data_preparation_and_pipelines_of_naive_models.ipynb\r\n",
      "04a_Sample_ROC_auc_SVC_svm_hyperparameters.ipynb\r\n",
      "04b_Sample_ROC_auc_LOGREG_SAG_hyperparameters.ipynb\r\n",
      "04c_Sample_ROC_auc_LOGREG_NEWTONcg_hyperparameters.ipynb\r\n",
      "04_Sample_automatic_hyperparameter_search.ipynb\r\n",
      "05_Apply_final_LOGREG_SAG_model.ipynb\r\n",
      "06_Apply_final_ROC_auc_LOGREG_SAG_complete.ipynb\r\n"
     ]
    }
   ],
   "source": [
    "#folder = '/home/dsc/Repos/TFM_Categorize_providers_based_on_descriptions_of_the_drug_plans/03_Presentation'\n",
    "folder = os.getcwd()\n",
    "!ls {folder}"
   ]
  },
  {
   "cell_type": "code",
   "execution_count": 6,
   "metadata": {},
   "outputs": [
    {
     "data": {
      "text/plain": [
       "'/home/dsc/Repos/TFM_Categorize_providers_based_on_descriptions_of_the_drug_plans/03_Presentation'"
      ]
     },
     "execution_count": 6,
     "metadata": {},
     "output_type": "execute_result"
    }
   ],
   "source": [
    "os.chdir(folder)\n",
    "os.getcwd()"
   ]
  },
  {
   "cell_type": "code",
   "execution_count": 7,
   "metadata": {},
   "outputs": [],
   "source": [
    "# Load library for work and analitics data\n",
    "import pandas as pd\n",
    "import numpy as np"
   ]
  },
  {
   "cell_type": "code",
   "execution_count": 8,
   "metadata": {},
   "outputs": [
    {
     "name": "stdout",
     "output_type": "stream",
     "text": [
      "-rw-rw-r-- 1 dsc dsc 27565813 ene 10 15:18 ../03_Presentation/01_OUT_csv_original_data_transformed.csv\r\n"
     ]
    }
   ],
   "source": [
    "!ls -ltr ../03_Presentation/01_OUT_csv_original_data_transformed.csv"
   ]
  },
  {
   "cell_type": "code",
   "execution_count": 9,
   "metadata": {},
   "outputs": [],
   "source": [
    "# Read from excel files complete with column names stipulated and transform them\n",
    "# (1) Imports:\n",
    "import os\n",
    "import glob"
   ]
  },
  {
   "cell_type": "code",
   "execution_count": 10,
   "metadata": {},
   "outputs": [
    {
     "name": "stdout",
     "output_type": "stream",
     "text": [
      "/home/dsc/Repos/TFM_Categorize_providers_based_on_descriptions_of_the_drug_plans/03_Presentation\r\n"
     ]
    }
   ],
   "source": [
    "# (2) File list:\n",
    "path = os.chdir(os.getcwd() + '/..' + '/03_Presentation')\n",
    "!pwd"
   ]
  },
  {
   "cell_type": "code",
   "execution_count": 11,
   "metadata": {},
   "outputs": [
    {
     "name": "stdout",
     "output_type": "stream",
     "text": [
      "CPU times: user 481 ms, sys: 67.8 ms, total: 549 ms\n",
      "Wall time: 493 ms\n"
     ]
    }
   ],
   "source": [
    "%%time\n",
    "# (3) Upload cvsv file:\n",
    "df_from_xlsx_total = pd.read_csv(\"01_OUT_csv_original_data_transformed.csv\")"
   ]
  },
  {
   "cell_type": "code",
   "execution_count": 12,
   "metadata": {},
   "outputs": [
    {
     "data": {
      "text/plain": [
       "306183"
      ]
     },
     "execution_count": 12,
     "metadata": {},
     "output_type": "execute_result"
    }
   ],
   "source": [
    "len(df_from_xlsx_total)"
   ]
  },
  {
   "cell_type": "code",
   "execution_count": 13,
   "metadata": {},
   "outputs": [
    {
     "data": {
      "text/plain": [
       "Index(['ESTADO', 'CONDADO', 'ORGANIZACION', 'TIPO_PLAN_GENERICO_MEDICARE',\n",
       "       'PRIMA_MENSUAL_CONSOLIDADA', 'MEDICAMS_ANUALES_DEDUCIBLES',\n",
       "       'TIPO_BENEFICIO', 'COBERTURA_ADICIONAL_OFRECIDA', 'DETALLE_BENEFICIO',\n",
       "       'DESEMBOLSO_MAXIMO', 'CLASIFICACION'],\n",
       "      dtype='object')"
      ]
     },
     "execution_count": 13,
     "metadata": {},
     "output_type": "execute_result"
    }
   ],
   "source": [
    "df_from_xlsx_total.columns"
   ]
  },
  {
   "cell_type": "code",
   "execution_count": 14,
   "metadata": {},
   "outputs": [],
   "source": [
    "# Data mapping"
   ]
  },
  {
   "cell_type": "code",
   "execution_count": 15,
   "metadata": {},
   "outputs": [],
   "source": [
    "df_ratings_lab_ohe = df_from_xlsx_total.reset_index(drop=True).copy()"
   ]
  },
  {
   "cell_type": "code",
   "execution_count": 16,
   "metadata": {},
   "outputs": [
    {
     "data": {
      "text/html": [
       "<div>\n",
       "<style scoped>\n",
       "    .dataframe tbody tr th:only-of-type {\n",
       "        vertical-align: middle;\n",
       "    }\n",
       "\n",
       "    .dataframe tbody tr th {\n",
       "        vertical-align: top;\n",
       "    }\n",
       "\n",
       "    .dataframe thead th {\n",
       "        text-align: right;\n",
       "    }\n",
       "</style>\n",
       "<table border=\"1\" class=\"dataframe\">\n",
       "  <thead>\n",
       "    <tr style=\"text-align: right;\">\n",
       "      <th></th>\n",
       "      <th>ESTADO</th>\n",
       "      <th>CONDADO</th>\n",
       "      <th>ORGANIZACION</th>\n",
       "      <th>TIPO_PLAN_GENERICO_MEDICARE</th>\n",
       "      <th>PRIMA_MENSUAL_CONSOLIDADA</th>\n",
       "      <th>MEDICAMS_ANUALES_DEDUCIBLES</th>\n",
       "      <th>TIPO_BENEFICIO</th>\n",
       "      <th>COBERTURA_ADICIONAL_OFRECIDA</th>\n",
       "      <th>DETALLE_BENEFICIO</th>\n",
       "      <th>DESEMBOLSO_MAXIMO</th>\n",
       "      <th>CLASIFICACION</th>\n",
       "    </tr>\n",
       "  </thead>\n",
       "  <tbody>\n",
       "    <tr>\n",
       "      <th>0</th>\n",
       "      <td>Alabama</td>\n",
       "      <td>Autauga</td>\n",
       "      <td>UnitedHealthcare</td>\n",
       "      <td>HMO</td>\n",
       "      <td>0.0</td>\n",
       "      <td>0.0</td>\n",
       "      <td>Enhanced</td>\n",
       "      <td>No Gap Coverage</td>\n",
       "      <td>EA</td>\n",
       "      <td>4450.0</td>\n",
       "      <td>2.5</td>\n",
       "    </tr>\n",
       "  </tbody>\n",
       "</table>\n",
       "</div>"
      ],
      "text/plain": [
       "    ESTADO  CONDADO      ORGANIZACION TIPO_PLAN_GENERICO_MEDICARE  \\\n",
       "0  Alabama  Autauga  UnitedHealthcare                         HMO   \n",
       "\n",
       "   PRIMA_MENSUAL_CONSOLIDADA  MEDICAMS_ANUALES_DEDUCIBLES TIPO_BENEFICIO  \\\n",
       "0                        0.0                          0.0       Enhanced   \n",
       "\n",
       "  COBERTURA_ADICIONAL_OFRECIDA DETALLE_BENEFICIO  DESEMBOLSO_MAXIMO  \\\n",
       "0              No Gap Coverage                EA             4450.0   \n",
       "\n",
       "  CLASIFICACION  \n",
       "0           2.5  "
      ]
     },
     "execution_count": 16,
     "metadata": {},
     "output_type": "execute_result"
    }
   ],
   "source": [
    "df_ratings_lab_ohe.head(1)"
   ]
  },
  {
   "cell_type": "code",
   "execution_count": 17,
   "metadata": {},
   "outputs": [
    {
     "data": {
      "text/plain": [
       "Index(['ESTADO', 'CONDADO', 'ORGANIZACION', 'TIPO_PLAN_GENERICO_MEDICARE',\n",
       "       'PRIMA_MENSUAL_CONSOLIDADA', 'MEDICAMS_ANUALES_DEDUCIBLES',\n",
       "       'TIPO_BENEFICIO', 'COBERTURA_ADICIONAL_OFRECIDA', 'DETALLE_BENEFICIO',\n",
       "       'DESEMBOLSO_MAXIMO', 'CLASIFICACION'],\n",
       "      dtype='object')"
      ]
     },
     "execution_count": 17,
     "metadata": {},
     "output_type": "execute_result"
    }
   ],
   "source": [
    "df_ratings_lab_ohe.columns"
   ]
  },
  {
   "cell_type": "code",
   "execution_count": 18,
   "metadata": {},
   "outputs": [
    {
     "data": {
      "text/plain": [
       "ESTADO                           object\n",
       "CONDADO                          object\n",
       "ORGANIZACION                     object\n",
       "TIPO_PLAN_GENERICO_MEDICARE      object\n",
       "PRIMA_MENSUAL_CONSOLIDADA       float64\n",
       "MEDICAMS_ANUALES_DEDUCIBLES     float64\n",
       "TIPO_BENEFICIO                   object\n",
       "COBERTURA_ADICIONAL_OFRECIDA     object\n",
       "DETALLE_BENEFICIO                object\n",
       "DESEMBOLSO_MAXIMO               float64\n",
       "CLASIFICACION                    object\n",
       "dtype: object"
      ]
     },
     "execution_count": 18,
     "metadata": {},
     "output_type": "execute_result"
    }
   ],
   "source": [
    "df_ratings_lab_ohe.dtypes"
   ]
  },
  {
   "cell_type": "code",
   "execution_count": 19,
   "metadata": {},
   "outputs": [
    {
     "data": {
      "text/html": [
       "<div>\n",
       "<style scoped>\n",
       "    .dataframe tbody tr th:only-of-type {\n",
       "        vertical-align: middle;\n",
       "    }\n",
       "\n",
       "    .dataframe tbody tr th {\n",
       "        vertical-align: top;\n",
       "    }\n",
       "\n",
       "    .dataframe thead th {\n",
       "        text-align: right;\n",
       "    }\n",
       "</style>\n",
       "<table border=\"1\" class=\"dataframe\">\n",
       "  <thead>\n",
       "    <tr style=\"text-align: right;\">\n",
       "      <th></th>\n",
       "      <th>ESTADO</th>\n",
       "      <th>CONDADO</th>\n",
       "      <th>ORGANIZACION</th>\n",
       "      <th>TIPO_PLAN_GENERICO_MEDICARE</th>\n",
       "      <th>PRIMA_MENSUAL_CONSOLIDADA</th>\n",
       "      <th>MEDICAMS_ANUALES_DEDUCIBLES</th>\n",
       "      <th>TIPO_BENEFICIO</th>\n",
       "      <th>COBERTURA_ADICIONAL_OFRECIDA</th>\n",
       "      <th>DETALLE_BENEFICIO</th>\n",
       "      <th>DESEMBOLSO_MAXIMO</th>\n",
       "      <th>CLASIFICACION</th>\n",
       "    </tr>\n",
       "  </thead>\n",
       "  <tbody>\n",
       "    <tr>\n",
       "      <th>0</th>\n",
       "      <td>Alabama</td>\n",
       "      <td>Autauga</td>\n",
       "      <td>UnitedHealthcare</td>\n",
       "      <td>HMO</td>\n",
       "      <td>0.0</td>\n",
       "      <td>0.0</td>\n",
       "      <td>Enhanced</td>\n",
       "      <td>No Gap Coverage</td>\n",
       "      <td>EA</td>\n",
       "      <td>4450.0</td>\n",
       "      <td>2.5</td>\n",
       "    </tr>\n",
       "  </tbody>\n",
       "</table>\n",
       "</div>"
      ],
      "text/plain": [
       "    ESTADO  CONDADO      ORGANIZACION TIPO_PLAN_GENERICO_MEDICARE  \\\n",
       "0  Alabama  Autauga  UnitedHealthcare                         HMO   \n",
       "\n",
       "   PRIMA_MENSUAL_CONSOLIDADA  MEDICAMS_ANUALES_DEDUCIBLES TIPO_BENEFICIO  \\\n",
       "0                        0.0                          0.0       Enhanced   \n",
       "\n",
       "  COBERTURA_ADICIONAL_OFRECIDA DETALLE_BENEFICIO  DESEMBOLSO_MAXIMO  \\\n",
       "0              No Gap Coverage                EA             4450.0   \n",
       "\n",
       "  CLASIFICACION  \n",
       "0           2.5  "
      ]
     },
     "metadata": {},
     "output_type": "display_data"
    }
   ],
   "source": [
    "# Dont limit column display\n",
    "import pandas as pd\n",
    "from IPython.display import display\n",
    "\n",
    "pd.options.display.max_columns = None\n",
    "display(df_ratings_lab_ohe.head(1))"
   ]
  },
  {
   "cell_type": "code",
   "execution_count": 20,
   "metadata": {},
   "outputs": [
    {
     "data": {
      "text/plain": [
       "ESTADO                          0\n",
       "CONDADO                         0\n",
       "ORGANIZACION                    0\n",
       "TIPO_PLAN_GENERICO_MEDICARE     0\n",
       "PRIMA_MENSUAL_CONSOLIDADA       0\n",
       "MEDICAMS_ANUALES_DEDUCIBLES     0\n",
       "TIPO_BENEFICIO                  0\n",
       "COBERTURA_ADICIONAL_OFRECIDA    0\n",
       "DETALLE_BENEFICIO               0\n",
       "DESEMBOLSO_MAXIMO               0\n",
       "CLASIFICACION                   0\n",
       "dtype: int64"
      ]
     },
     "execution_count": 20,
     "metadata": {},
     "output_type": "execute_result"
    }
   ],
   "source": [
    "# Check NULL values\n",
    "df_ratings_lab_ohe.isnull().sum()"
   ]
  },
  {
   "cell_type": "code",
   "execution_count": 21,
   "metadata": {},
   "outputs": [
    {
     "data": {
      "text/plain": [
       "ESTADO                          0\n",
       "CONDADO                         0\n",
       "ORGANIZACION                    0\n",
       "TIPO_PLAN_GENERICO_MEDICARE     0\n",
       "PRIMA_MENSUAL_CONSOLIDADA       0\n",
       "MEDICAMS_ANUALES_DEDUCIBLES     0\n",
       "TIPO_BENEFICIO                  0\n",
       "COBERTURA_ADICIONAL_OFRECIDA    0\n",
       "DETALLE_BENEFICIO               0\n",
       "DESEMBOLSO_MAXIMO               0\n",
       "CLASIFICACION                   0\n",
       "dtype: int64"
      ]
     },
     "execution_count": 21,
     "metadata": {},
     "output_type": "execute_result"
    }
   ],
   "source": [
    "# Check NaN values\n",
    "df_ratings_lab_ohe.isna().sum()"
   ]
  },
  {
   "cell_type": "code",
   "execution_count": 22,
   "metadata": {},
   "outputs": [
    {
     "name": "stdout",
     "output_type": "stream",
     "text": [
      "None\n"
     ]
    }
   ],
   "source": [
    "print(pd.options.display.max_columns)"
   ]
  },
  {
   "cell_type": "code",
   "execution_count": 23,
   "metadata": {},
   "outputs": [
    {
     "name": "stdout",
     "output_type": "stream",
     "text": [
      "60\n"
     ]
    }
   ],
   "source": [
    "print(pd.options.display.max_rows)"
   ]
  },
  {
   "cell_type": "code",
   "execution_count": 24,
   "metadata": {},
   "outputs": [],
   "source": [
    "df_ratings_lab_ohe[\"ESTADO\"] = df_ratings_lab_ohe[\"ESTADO\"].astype(np.str)\n",
    "df_ratings_lab_ohe[\"CONDADO\"] = df_ratings_lab_ohe[\"CONDADO\"].astype(np.str)\n",
    "df_ratings_lab_ohe[\"ORGANIZACION\"] = df_ratings_lab_ohe[\"ORGANIZACION\"].astype(np.str)\n",
    "df_ratings_lab_ohe[\"TIPO_PLAN_GENERICO_MEDICARE\"] = df_ratings_lab_ohe[\"TIPO_PLAN_GENERICO_MEDICARE\"].astype(np.str)\n",
    "df_ratings_lab_ohe[\"PRIMA_MENSUAL_CONSOLIDADA\"] = df_ratings_lab_ohe[\"PRIMA_MENSUAL_CONSOLIDADA\"].astype(np.float64)\n",
    "df_ratings_lab_ohe[\"MEDICAMS_ANUALES_DEDUCIBLES\"] = df_ratings_lab_ohe[\"MEDICAMS_ANUALES_DEDUCIBLES\"].astype(np.float64)\n",
    "df_ratings_lab_ohe[\"TIPO_BENEFICIO\"] = df_ratings_lab_ohe[\"TIPO_BENEFICIO\"].astype(np.str)\n",
    "df_ratings_lab_ohe[\"COBERTURA_ADICIONAL_OFRECIDA\"] = df_ratings_lab_ohe[\"COBERTURA_ADICIONAL_OFRECIDA\"].astype(np.str)\n",
    "df_ratings_lab_ohe[\"DETALLE_BENEFICIO\"] = df_ratings_lab_ohe[\"DETALLE_BENEFICIO\"].astype(np.str)\n",
    "df_ratings_lab_ohe[\"DESEMBOLSO_MAXIMO\"] = df_ratings_lab_ohe[\"DESEMBOLSO_MAXIMO\"].astype(np.float64)\n",
    "df_ratings_lab_ohe[\"CLASIFICACION\"] = df_ratings_lab_ohe[\"CLASIFICACION\"].astype(np.str)"
   ]
  },
  {
   "cell_type": "markdown",
   "metadata": {},
   "source": [
    "# Data Preparation"
   ]
  },
  {
   "cell_type": "code",
   "execution_count": 25,
   "metadata": {},
   "outputs": [],
   "source": [
    "# Labeling through Label Encoding\n",
    "from sklearn.preprocessing import LabelEncoder\n",
    "lab = LabelEncoder() "
   ]
  },
  {
   "cell_type": "code",
   "execution_count": 26,
   "metadata": {},
   "outputs": [],
   "source": [
    "df_ratings_lab_ohe['ESTADO']= lab.fit_transform(df_ratings_lab_ohe['ESTADO'])\n",
    "df_ratings_lab_ohe['CONDADO']= lab.fit_transform(df_ratings_lab_ohe['CONDADO'])\n",
    "df_ratings_lab_ohe['ORGANIZACION']= lab.fit_transform(df_ratings_lab_ohe['ORGANIZACION'])\n",
    "#df_ratings_lab_ohe['PLAN']= lab.fit_transform(df_ratings_lab_ohe['PLAN'])\n",
    "df_ratings_lab_ohe['TIPO_PLAN_GENERICO_MEDICARE']= lab.fit_transform(df_ratings_lab_ohe['TIPO_PLAN_GENERICO_MEDICARE'])\n",
    "df_ratings_lab_ohe['PRIMA_MENSUAL_CONSOLIDADA']= lab.fit_transform(df_ratings_lab_ohe['PRIMA_MENSUAL_CONSOLIDADA'])\n",
    "df_ratings_lab_ohe['MEDICAMS_ANUALES_DEDUCIBLES']= lab.fit_transform(df_ratings_lab_ohe['MEDICAMS_ANUALES_DEDUCIBLES'])\n",
    "df_ratings_lab_ohe['TIPO_BENEFICIO']= lab.fit_transform(df_ratings_lab_ohe['TIPO_BENEFICIO'])\n",
    "df_ratings_lab_ohe['COBERTURA_ADICIONAL_OFRECIDA']= lab.fit_transform(df_ratings_lab_ohe['COBERTURA_ADICIONAL_OFRECIDA'])\n",
    "df_ratings_lab_ohe['DETALLE_BENEFICIO']= lab.fit_transform(df_ratings_lab_ohe['DETALLE_BENEFICIO'])\n",
    "#df_ratings_lab_ohe['CONTRATO_ID']= lab.fit_transform(df_ratings_lab_ohe['CONTRATO_ID'])\n",
    "#df_ratings_lab_ohe['PLAN_ID']= lab.fit_transform(df_ratings_lab_ohe['PLAN_ID'])\n",
    "#df_ratings_lab_ohe['SEGMENTO_ID']= lab.fit_transform(df_ratings_lab_ohe['SEGMENTO_ID'])\n",
    "df_ratings_lab_ohe['DESEMBOLSO_MAXIMO']= lab.fit_transform(df_ratings_lab_ohe['DESEMBOLSO_MAXIMO'])\n",
    "#df_ratings_lab_ohe['CLASIFICACION']= lab.fit_transform(df_ratings_lab_ohe['CLASIFICACION'])"
   ]
  },
  {
   "cell_type": "code",
   "execution_count": 27,
   "metadata": {},
   "outputs": [
    {
     "data": {
      "text/html": [
       "<div>\n",
       "<style scoped>\n",
       "    .dataframe tbody tr th:only-of-type {\n",
       "        vertical-align: middle;\n",
       "    }\n",
       "\n",
       "    .dataframe tbody tr th {\n",
       "        vertical-align: top;\n",
       "    }\n",
       "\n",
       "    .dataframe thead th {\n",
       "        text-align: right;\n",
       "    }\n",
       "</style>\n",
       "<table border=\"1\" class=\"dataframe\">\n",
       "  <thead>\n",
       "    <tr style=\"text-align: right;\">\n",
       "      <th></th>\n",
       "      <th>ESTADO</th>\n",
       "      <th>CONDADO</th>\n",
       "      <th>ORGANIZACION</th>\n",
       "      <th>TIPO_PLAN_GENERICO_MEDICARE</th>\n",
       "      <th>PRIMA_MENSUAL_CONSOLIDADA</th>\n",
       "      <th>MEDICAMS_ANUALES_DEDUCIBLES</th>\n",
       "      <th>TIPO_BENEFICIO</th>\n",
       "      <th>COBERTURA_ADICIONAL_OFRECIDA</th>\n",
       "      <th>DETALLE_BENEFICIO</th>\n",
       "      <th>DESEMBOLSO_MAXIMO</th>\n",
       "      <th>CLASIFICACION</th>\n",
       "    </tr>\n",
       "  </thead>\n",
       "  <tbody>\n",
       "    <tr>\n",
       "      <th>0</th>\n",
       "      <td>0</td>\n",
       "      <td>86</td>\n",
       "      <td>476</td>\n",
       "      <td>1</td>\n",
       "      <td>0</td>\n",
       "      <td>0</td>\n",
       "      <td>1</td>\n",
       "      <td>19</td>\n",
       "      <td>3</td>\n",
       "      <td>81</td>\n",
       "      <td>2.5</td>\n",
       "    </tr>\n",
       "  </tbody>\n",
       "</table>\n",
       "</div>"
      ],
      "text/plain": [
       "   ESTADO  CONDADO  ORGANIZACION  TIPO_PLAN_GENERICO_MEDICARE  \\\n",
       "0       0       86           476                            1   \n",
       "\n",
       "   PRIMA_MENSUAL_CONSOLIDADA  MEDICAMS_ANUALES_DEDUCIBLES  TIPO_BENEFICIO  \\\n",
       "0                          0                            0               1   \n",
       "\n",
       "   COBERTURA_ADICIONAL_OFRECIDA  DETALLE_BENEFICIO  DESEMBOLSO_MAXIMO  \\\n",
       "0                            19                  3                 81   \n",
       "\n",
       "  CLASIFICACION  \n",
       "0           2.5  "
      ]
     },
     "execution_count": 27,
     "metadata": {},
     "output_type": "execute_result"
    }
   ],
   "source": [
    "df_ratings_lab_ohe.head(1)"
   ]
  },
  {
   "cell_type": "code",
   "execution_count": 28,
   "metadata": {},
   "outputs": [
    {
     "data": {
      "text/plain": [
       "(306183, 10)"
      ]
     },
     "execution_count": 28,
     "metadata": {},
     "output_type": "execute_result"
    }
   ],
   "source": [
    "# Load variables with complete data.\n",
    "X = np.array(df_ratings_lab_ohe.drop('CLASIFICACION', 1))\n",
    "y = np.array(df_ratings_lab_ohe[\"CLASIFICACION\"])\n",
    "X.shape"
   ]
  },
  {
   "cell_type": "code",
   "execution_count": 29,
   "metadata": {},
   "outputs": [],
   "source": [
    "# normalization\n",
    "#X=(X-np.min(X))/(np.max(X)-np.min(X))"
   ]
  },
  {
   "cell_type": "code",
   "execution_count": 30,
   "metadata": {},
   "outputs": [],
   "source": [
    "# Train-test split and load the library\n",
    "from sklearn.model_selection import train_test_split\n",
    "# Create 2 groups each with input and labels\n",
    "#X_train, X_test, y_train, y_test = train_test_split(X, y, test_size=0.20, random_state=888)\n",
    "X_train, X_test, y_train, y_test = train_test_split(X, y, test_size=0.20)"
   ]
  },
  {
   "cell_type": "code",
   "execution_count": 31,
   "metadata": {},
   "outputs": [],
   "source": [
    "# Feature Scaling (normalization)\n",
    "from sklearn.preprocessing import StandardScaler \n",
    "sc = StandardScaler() \n",
    "X_train = sc.fit_transform(X_train) \n",
    "X_test = sc.transform(X_test)"
   ]
  },
  {
   "cell_type": "code",
   "execution_count": 32,
   "metadata": {},
   "outputs": [],
   "source": [
    "from sklearn.preprocessing import OneHotEncoder\n",
    "from sklearn.preprocessing import LabelEncoder"
   ]
  },
  {
   "cell_type": "code",
   "execution_count": 33,
   "metadata": {},
   "outputs": [
    {
     "data": {
      "text/plain": [
       "OneHotEncoder(categorical_features=None, categories=None, drop=None,\n",
       "              dtype=<class 'numpy.float64'>, handle_unknown='ignore',\n",
       "              n_values=None, sparse=True)"
      ]
     },
     "execution_count": 33,
     "metadata": {},
     "output_type": "execute_result"
    }
   ],
   "source": [
    "# Create the encoder (by OneHotEncoder)\n",
    "encoder = OneHotEncoder(handle_unknown='ignore')\n",
    "# Assume for simplicity all features are categorical.\n",
    "encoder.fit(X_train)"
   ]
  },
  {
   "cell_type": "code",
   "execution_count": 34,
   "metadata": {},
   "outputs": [],
   "source": [
    "# Apply the encoder.\n",
    "X_train = encoder.transform(X_train)\n",
    "X_test = encoder.transform(X_test)"
   ]
  },
  {
   "cell_type": "code",
   "execution_count": 35,
   "metadata": {},
   "outputs": [
    {
     "data": {
      "text/plain": [
       "(306183, 10)"
      ]
     },
     "execution_count": 35,
     "metadata": {},
     "output_type": "execute_result"
    }
   ],
   "source": [
    "X.shape"
   ]
  },
  {
   "cell_type": "code",
   "execution_count": 36,
   "metadata": {},
   "outputs": [
    {
     "data": {
      "text/plain": [
       "<244946x3806 sparse matrix of type '<class 'numpy.float64'>'\n",
       "\twith 2449460 stored elements in Compressed Sparse Row format>"
      ]
     },
     "execution_count": 36,
     "metadata": {},
     "output_type": "execute_result"
    }
   ],
   "source": [
    "X_train"
   ]
  },
  {
   "cell_type": "code",
   "execution_count": 37,
   "metadata": {},
   "outputs": [
    {
     "data": {
      "text/plain": [
       "<61237x3806 sparse matrix of type '<class 'numpy.float64'>'\n",
       "\twith 612357 stored elements in Compressed Sparse Row format>"
      ]
     },
     "execution_count": 37,
     "metadata": {},
     "output_type": "execute_result"
    }
   ],
   "source": [
    "X_test"
   ]
  },
  {
   "cell_type": "code",
   "execution_count": 38,
   "metadata": {},
   "outputs": [],
   "source": [
    "#################"
   ]
  },
  {
   "cell_type": "code",
   "execution_count": 39,
   "metadata": {},
   "outputs": [],
   "source": [
    "###############"
   ]
  },
  {
   "cell_type": "code",
   "execution_count": 40,
   "metadata": {},
   "outputs": [],
   "source": [
    "# import warnings filter\n",
    "from warnings import simplefilter\n",
    "# ignore all future warnings\n",
    "simplefilter(action='ignore', category=FutureWarning)"
   ]
  },
  {
   "cell_type": "code",
   "execution_count": 41,
   "metadata": {},
   "outputs": [],
   "source": [
    "###################"
   ]
  },
  {
   "cell_type": "markdown",
   "metadata": {},
   "source": [
    "## Logistic regression model with SKLearn"
   ]
  },
  {
   "cell_type": "code",
   "execution_count": 42,
   "metadata": {},
   "outputs": [
    {
     "data": {
      "text/plain": [
       "LogisticRegression(C=1.0, class_weight='balanced', dual=False,\n",
       "                   fit_intercept=True, intercept_scaling=1, l1_ratio=None,\n",
       "                   max_iter=10000, multi_class='multinomial', n_jobs=None,\n",
       "                   penalty='l2', random_state=None, solver='newton-cg',\n",
       "                   tol=0.0001, verbose=0, warm_start=False)"
      ]
     },
     "execution_count": 42,
     "metadata": {},
     "output_type": "execute_result"
    }
   ],
   "source": [
    "# Import the necessary modules\n",
    "from sklearn import linear_model\n",
    "from sklearn.linear_model import LogisticRegression\n",
    "from sklearn.linear_model.sag import sag_solver\n",
    "from sklearn.metrics import confusion_matrix, classification_report\n",
    "# Create teh Regression Logistic model and we make it fit (ajuste) to our set of inputs X and outputs \"y\".\n",
    "model_LOGREG = linear_model.LogisticRegression(class_weight='balanced', multi_class='multinomial', solver='newton-cg', verbose=0, penalty='l2', max_iter=10000)\n",
    "model_LOGREG.fit(X_train,y_train)"
   ]
  },
  {
   "cell_type": "code",
   "execution_count": 43,
   "metadata": {},
   "outputs": [
    {
     "data": {
      "text/plain": [
       "0.7460297371665592"
      ]
     },
     "execution_count": 43,
     "metadata": {},
     "output_type": "execute_result"
    }
   ],
   "source": [
    "#Y confirmamos cuan bueno fue nuestro modelo utilizando model.score() que nos devuelve\n",
    "#la precisión media de las predicciones, en nuestro caso del 59%\n",
    "model_LOGREG.score(X_train, y_train)"
   ]
  },
  {
   "cell_type": "code",
   "execution_count": 44,
   "metadata": {},
   "outputs": [],
   "source": [
    "from sklearn import metrics"
   ]
  },
  {
   "cell_type": "code",
   "execution_count": 45,
   "metadata": {},
   "outputs": [
    {
     "data": {
      "text/plain": [
       "0.7460297371665592"
      ]
     },
     "execution_count": 45,
     "metadata": {},
     "output_type": "execute_result"
    }
   ],
   "source": [
    "metrics.accuracy_score(y_train, model_LOGREG.predict(X_train))"
   ]
  },
  {
   "cell_type": "code",
   "execution_count": 46,
   "metadata": {},
   "outputs": [
    {
     "data": {
      "text/plain": [
       "0.7261622875059196"
      ]
     },
     "execution_count": 46,
     "metadata": {},
     "output_type": "execute_result"
    }
   ],
   "source": [
    "metrics.accuracy_score(y_test, model_LOGREG.predict(X_test))"
   ]
  },
  {
   "cell_type": "code",
   "execution_count": 47,
   "metadata": {},
   "outputs": [],
   "source": [
    "# We classify our entire set of X inputs using the \"predict (X)\" method for the model\n",
    "# and we review some of its outputs to see if it matches the actual outputs of our origin\n",
    "predictions_LOGREG = model_LOGREG.predict(X_test)"
   ]
  },
  {
   "cell_type": "code",
   "execution_count": 48,
   "metadata": {},
   "outputs": [
    {
     "name": "stdout",
     "output_type": "stream",
     "text": [
      "[[  108    12     0     0     0     0     0     1]\n",
      " [   73  3946   272    14     2     2     0    88]\n",
      " [   44   742  6402  1251   320    67     4   553]\n",
      " [    3   106  2048 10374  2156   565    49   410]\n",
      " [    0    33   796  2224  9625  1588    94   370]\n",
      " [    3     6   164   429  1153  8761   359   162]\n",
      " [    0     0     0     2     2     9  1450     0]\n",
      " [   21    94   225    78   106    45    24  3802]]\n",
      "              precision    recall  f1-score   support\n",
      "\n",
      "           2       0.43      0.89      0.58       121\n",
      "         2.5       0.80      0.90      0.85      4397\n",
      "           3       0.65      0.68      0.66      9383\n",
      "         3.5       0.72      0.66      0.69     15711\n",
      "           4       0.72      0.65      0.69     14730\n",
      "         4.5       0.79      0.79      0.79     11037\n",
      "           5       0.73      0.99      0.84      1463\n",
      " NO_ASIGNADO       0.71      0.87      0.78      4395\n",
      "\n",
      "    accuracy                           0.73     61237\n",
      "   macro avg       0.69      0.80      0.73     61237\n",
      "weighted avg       0.73      0.73      0.72     61237\n",
      "\n"
     ]
    }
   ],
   "source": [
    "# Compute and print the confusion matrix and classification report\n",
    "print(confusion_matrix(y_test, predictions_LOGREG))\n",
    "print(classification_report(y_test, predictions_LOGREG))"
   ]
  },
  {
   "cell_type": "code",
   "execution_count": 49,
   "metadata": {},
   "outputs": [],
   "source": [
    "# Check prediction classifier"
   ]
  },
  {
   "cell_type": "code",
   "execution_count": 50,
   "metadata": {},
   "outputs": [
    {
     "name": "stdout",
     "output_type": "stream",
     "text": [
      "3\n"
     ]
    }
   ],
   "source": [
    "print(predictions_LOGREG[7])"
   ]
  },
  {
   "cell_type": "code",
   "execution_count": 51,
   "metadata": {},
   "outputs": [
    {
     "data": {
      "text/plain": [
       "'NO_ASIGNADO'"
      ]
     },
     "execution_count": 51,
     "metadata": {},
     "output_type": "execute_result"
    }
   ],
   "source": [
    "df_ratings_lab_ohe[\"CLASIFICACION\"][7]"
   ]
  },
  {
   "cell_type": "code",
   "execution_count": 52,
   "metadata": {},
   "outputs": [
    {
     "name": "stdout",
     "output_type": "stream",
     "text": [
      "['4.5' '4' '3.5' '3' '4.5' '4' '3']\n"
     ]
    }
   ],
   "source": [
    "print(predictions_LOGREG[0:7])"
   ]
  },
  {
   "cell_type": "code",
   "execution_count": 53,
   "metadata": {},
   "outputs": [
    {
     "data": {
      "text/plain": [
       "numpy.ndarray"
      ]
     },
     "execution_count": 53,
     "metadata": {},
     "output_type": "execute_result"
    }
   ],
   "source": [
    "type(predictions_LOGREG)"
   ]
  },
  {
   "cell_type": "code",
   "execution_count": 54,
   "metadata": {},
   "outputs": [
    {
     "data": {
      "text/plain": [
       "dtype('O')"
      ]
     },
     "execution_count": 54,
     "metadata": {},
     "output_type": "execute_result"
    }
   ],
   "source": [
    "predictions_LOGREG.dtype"
   ]
  },
  {
   "cell_type": "code",
   "execution_count": 55,
   "metadata": {},
   "outputs": [
    {
     "data": {
      "text/plain": [
       "(61237,)"
      ]
     },
     "execution_count": 55,
     "metadata": {},
     "output_type": "execute_result"
    }
   ],
   "source": [
    "predictions_LOGREG.shape"
   ]
  },
  {
   "cell_type": "code",
   "execution_count": 56,
   "metadata": {},
   "outputs": [],
   "source": [
    "# Check model efficiency "
   ]
  },
  {
   "cell_type": "code",
   "execution_count": 57,
   "metadata": {},
   "outputs": [
    {
     "name": "stdout",
     "output_type": "stream",
     "text": [
      "0.7261622875059196\n"
     ]
    }
   ],
   "source": [
    "from sklearn.metrics import accuracy_score\n",
    "print(accuracy_score(y_test, predictions_LOGREG))"
   ]
  },
  {
   "cell_type": "code",
   "execution_count": 58,
   "metadata": {},
   "outputs": [
    {
     "data": {
      "text/plain": [
       "0.7261622875059196"
      ]
     },
     "execution_count": 58,
     "metadata": {},
     "output_type": "execute_result"
    }
   ],
   "source": [
    "# The Quality of our model, gives us the average accuracy of the predictions\n",
    "model_LOGREG.score(X_test,y_test)"
   ]
  },
  {
   "cell_type": "markdown",
   "metadata": {},
   "source": [
    "########################################################"
   ]
  },
  {
   "cell_type": "markdown",
   "metadata": {},
   "source": [
    "##########################################"
   ]
  },
  {
   "cell_type": "markdown",
   "metadata": {},
   "source": [
    "############################"
   ]
  },
  {
   "cell_type": "markdown",
   "metadata": {},
   "source": [
    "## VALIDATE MODEL"
   ]
  },
  {
   "cell_type": "code",
   "execution_count": 59,
   "metadata": {},
   "outputs": [
    {
     "data": {
      "text/plain": [
       "Index(['ESTADO', 'CONDADO', 'ORGANIZACION', 'TIPO_PLAN_GENERICO_MEDICARE',\n",
       "       'PRIMA_MENSUAL_CONSOLIDADA', 'MEDICAMS_ANUALES_DEDUCIBLES',\n",
       "       'TIPO_BENEFICIO', 'COBERTURA_ADICIONAL_OFRECIDA', 'DETALLE_BENEFICIO',\n",
       "       'DESEMBOLSO_MAXIMO', 'CLASIFICACION'],\n",
       "      dtype='object')"
      ]
     },
     "execution_count": 59,
     "metadata": {},
     "output_type": "execute_result"
    }
   ],
   "source": [
    "df_ratings_lab_ohe.columns"
   ]
  },
  {
   "cell_type": "code",
   "execution_count": 60,
   "metadata": {},
   "outputs": [
    {
     "data": {
      "text/plain": [
       "ESTADO                           int64\n",
       "CONDADO                          int64\n",
       "ORGANIZACION                     int64\n",
       "TIPO_PLAN_GENERICO_MEDICARE      int64\n",
       "PRIMA_MENSUAL_CONSOLIDADA        int64\n",
       "MEDICAMS_ANUALES_DEDUCIBLES      int64\n",
       "TIPO_BENEFICIO                   int64\n",
       "COBERTURA_ADICIONAL_OFRECIDA     int64\n",
       "DETALLE_BENEFICIO                int64\n",
       "DESEMBOLSO_MAXIMO                int64\n",
       "CLASIFICACION                   object\n",
       "dtype: object"
      ]
     },
     "execution_count": 60,
     "metadata": {},
     "output_type": "execute_result"
    }
   ],
   "source": [
    "df_ratings_lab_ohe.dtypes"
   ]
  },
  {
   "cell_type": "code",
   "execution_count": 61,
   "metadata": {},
   "outputs": [
    {
     "data": {
      "text/html": [
       "<div>\n",
       "<style scoped>\n",
       "    .dataframe tbody tr th:only-of-type {\n",
       "        vertical-align: middle;\n",
       "    }\n",
       "\n",
       "    .dataframe tbody tr th {\n",
       "        vertical-align: top;\n",
       "    }\n",
       "\n",
       "    .dataframe thead th {\n",
       "        text-align: right;\n",
       "    }\n",
       "</style>\n",
       "<table border=\"1\" class=\"dataframe\">\n",
       "  <thead>\n",
       "    <tr style=\"text-align: right;\">\n",
       "      <th></th>\n",
       "      <th>ESTADO</th>\n",
       "      <th>CONDADO</th>\n",
       "      <th>ORGANIZACION</th>\n",
       "      <th>TIPO_PLAN_GENERICO_MEDICARE</th>\n",
       "      <th>PRIMA_MENSUAL_CONSOLIDADA</th>\n",
       "      <th>MEDICAMS_ANUALES_DEDUCIBLES</th>\n",
       "      <th>TIPO_BENEFICIO</th>\n",
       "      <th>COBERTURA_ADICIONAL_OFRECIDA</th>\n",
       "      <th>DETALLE_BENEFICIO</th>\n",
       "      <th>DESEMBOLSO_MAXIMO</th>\n",
       "      <th>CLASIFICACION</th>\n",
       "    </tr>\n",
       "  </thead>\n",
       "  <tbody>\n",
       "    <tr>\n",
       "      <th>0</th>\n",
       "      <td>0</td>\n",
       "      <td>86</td>\n",
       "      <td>476</td>\n",
       "      <td>1</td>\n",
       "      <td>0</td>\n",
       "      <td>0</td>\n",
       "      <td>1</td>\n",
       "      <td>19</td>\n",
       "      <td>3</td>\n",
       "      <td>81</td>\n",
       "      <td>2.5</td>\n",
       "    </tr>\n",
       "  </tbody>\n",
       "</table>\n",
       "</div>"
      ],
      "text/plain": [
       "   ESTADO  CONDADO  ORGANIZACION  TIPO_PLAN_GENERICO_MEDICARE  \\\n",
       "0       0       86           476                            1   \n",
       "\n",
       "   PRIMA_MENSUAL_CONSOLIDADA  MEDICAMS_ANUALES_DEDUCIBLES  TIPO_BENEFICIO  \\\n",
       "0                          0                            0               1   \n",
       "\n",
       "   COBERTURA_ADICIONAL_OFRECIDA  DETALLE_BENEFICIO  DESEMBOLSO_MAXIMO  \\\n",
       "0                            19                  3                 81   \n",
       "\n",
       "  CLASIFICACION  \n",
       "0           2.5  "
      ]
     },
     "execution_count": 61,
     "metadata": {},
     "output_type": "execute_result"
    }
   ],
   "source": [
    "df_ratings_lab_ohe.head(1)"
   ]
  },
  {
   "cell_type": "code",
   "execution_count": 62,
   "metadata": {},
   "outputs": [
    {
     "name": "stdout",
     "output_type": "stream",
     "text": [
      "Logistic Regression: 0.727291 (0.002613)\n"
     ]
    }
   ],
   "source": [
    "# We recompile our Logistic Regression model, at 80% of the input data in 10 partitions \n",
    "# and we calculate the new scoring by cross validation\n",
    "from sklearn import model_selection\n",
    "name='Logistic Regression'\n",
    "kfold = model_selection.KFold(n_splits=10)\n",
    "cv_results = model_selection.cross_val_score(model_LOGREG, X_train, y_train, cv=kfold, \\\n",
    "                                             scoring='accuracy', error_score=np.nan, verbose=0)\n",
    "msg = \"%s: %f (%f)\" % (name, cv_results.mean(), cv_results.std())\n",
    "print(msg)"
   ]
  },
  {
   "cell_type": "code",
   "execution_count": 63,
   "metadata": {},
   "outputs": [
    {
     "name": "stdout",
     "output_type": "stream",
     "text": [
      "0.7261622875059196\n"
     ]
    }
   ],
   "source": [
    "# And now we make the predictions (really classification) using our \"cross validation set\"\n",
    "# that is to say of the subset that we had separated.\n",
    "# Successes: xxx%\n",
    "predictions_LOGREG = model_LOGREG.predict(X_test)\n",
    "print(accuracy_score(y_test, predictions_LOGREG))"
   ]
  },
  {
   "cell_type": "markdown",
   "metadata": {},
   "source": [
    "# Model results"
   ]
  },
  {
   "cell_type": "code",
   "execution_count": 64,
   "metadata": {},
   "outputs": [
    {
     "name": "stdout",
     "output_type": "stream",
     "text": [
      "[[  108    12     0     0     0     0     0     1]\n",
      " [   73  3946   272    14     2     2     0    88]\n",
      " [   44   742  6402  1251   320    67     4   553]\n",
      " [    3   106  2048 10374  2156   565    49   410]\n",
      " [    0    33   796  2224  9625  1588    94   370]\n",
      " [    3     6   164   429  1153  8761   359   162]\n",
      " [    0     0     0     2     2     9  1450     0]\n",
      " [   21    94   225    78   106    45    24  3802]]\n"
     ]
    }
   ],
   "source": [
    "## Matrix of confusion for errors\n",
    "print(confusion_matrix(y_test, predictions_LOGREG))"
   ]
  },
  {
   "cell_type": "code",
   "execution_count": 65,
   "metadata": {},
   "outputs": [
    {
     "name": "stdout",
     "output_type": "stream",
     "text": [
      "              precision    recall  f1-score   support\n",
      "\n",
      "           2       0.43      0.89      0.58       121\n",
      "         2.5       0.80      0.90      0.85      4397\n",
      "           3       0.65      0.68      0.66      9383\n",
      "         3.5       0.72      0.66      0.69     15711\n",
      "           4       0.72      0.65      0.69     14730\n",
      "         4.5       0.79      0.79      0.79     11037\n",
      "           5       0.73      0.99      0.84      1463\n",
      " NO_ASIGNADO       0.71      0.87      0.78      4395\n",
      "\n",
      "    accuracy                           0.73     61237\n",
      "   macro avg       0.69      0.80      0.73     61237\n",
      "weighted avg       0.73      0.73      0.72     61237\n",
      "\n"
     ]
    }
   ],
   "source": [
    "## Classification report with our TEST set\n",
    "# We observe the average F1-score\n",
    "print(classification_report(y_test, predictions_LOGREG))"
   ]
  },
  {
   "cell_type": "markdown",
   "metadata": {},
   "source": [
    "# Classification (or prediction) of new values"
   ]
  },
  {
   "cell_type": "code",
   "execution_count": 66,
   "metadata": {},
   "outputs": [
    {
     "data": {
      "text/plain": [
       "Index(['ESTADO', 'CONDADO', 'ORGANIZACION', 'TIPO_PLAN_GENERICO_MEDICARE',\n",
       "       'PRIMA_MENSUAL_CONSOLIDADA', 'MEDICAMS_ANUALES_DEDUCIBLES',\n",
       "       'TIPO_BENEFICIO', 'COBERTURA_ADICIONAL_OFRECIDA', 'DETALLE_BENEFICIO',\n",
       "       'DESEMBOLSO_MAXIMO', 'CLASIFICACION'],\n",
       "      dtype='object')"
      ]
     },
     "execution_count": 66,
     "metadata": {},
     "output_type": "execute_result"
    }
   ],
   "source": [
    "df_ratings_lab_ohe.columns"
   ]
  },
  {
   "cell_type": "code",
   "execution_count": 67,
   "metadata": {},
   "outputs": [
    {
     "data": {
      "text/html": [
       "<div>\n",
       "<style scoped>\n",
       "    .dataframe tbody tr th:only-of-type {\n",
       "        vertical-align: middle;\n",
       "    }\n",
       "\n",
       "    .dataframe tbody tr th {\n",
       "        vertical-align: top;\n",
       "    }\n",
       "\n",
       "    .dataframe thead th {\n",
       "        text-align: right;\n",
       "    }\n",
       "</style>\n",
       "<table border=\"1\" class=\"dataframe\">\n",
       "  <thead>\n",
       "    <tr style=\"text-align: right;\">\n",
       "      <th></th>\n",
       "      <th>ESTADO</th>\n",
       "      <th>CONDADO</th>\n",
       "      <th>ORGANIZACION</th>\n",
       "      <th>TIPO_PLAN_GENERICO_MEDICARE</th>\n",
       "      <th>PRIMA_MENSUAL_CONSOLIDADA</th>\n",
       "      <th>MEDICAMS_ANUALES_DEDUCIBLES</th>\n",
       "      <th>TIPO_BENEFICIO</th>\n",
       "      <th>COBERTURA_ADICIONAL_OFRECIDA</th>\n",
       "      <th>DETALLE_BENEFICIO</th>\n",
       "      <th>DESEMBOLSO_MAXIMO</th>\n",
       "      <th>CLASIFICACION</th>\n",
       "    </tr>\n",
       "  </thead>\n",
       "  <tbody>\n",
       "    <tr>\n",
       "      <th>0</th>\n",
       "      <td>0</td>\n",
       "      <td>86</td>\n",
       "      <td>476</td>\n",
       "      <td>1</td>\n",
       "      <td>0</td>\n",
       "      <td>0</td>\n",
       "      <td>1</td>\n",
       "      <td>19</td>\n",
       "      <td>3</td>\n",
       "      <td>81</td>\n",
       "      <td>2.5</td>\n",
       "    </tr>\n",
       "  </tbody>\n",
       "</table>\n",
       "</div>"
      ],
      "text/plain": [
       "   ESTADO  CONDADO  ORGANIZACION  TIPO_PLAN_GENERICO_MEDICARE  \\\n",
       "0       0       86           476                            1   \n",
       "\n",
       "   PRIMA_MENSUAL_CONSOLIDADA  MEDICAMS_ANUALES_DEDUCIBLES  TIPO_BENEFICIO  \\\n",
       "0                          0                            0               1   \n",
       "\n",
       "   COBERTURA_ADICIONAL_OFRECIDA  DETALLE_BENEFICIO  DESEMBOLSO_MAXIMO  \\\n",
       "0                            19                  3                 81   \n",
       "\n",
       "  CLASIFICACION  \n",
       "0           2.5  "
      ]
     },
     "execution_count": 67,
     "metadata": {},
     "output_type": "execute_result"
    }
   ],
   "source": [
    "df_ratings_lab_ohe.head(1)"
   ]
  },
  {
   "cell_type": "code",
   "execution_count": 68,
   "metadata": {},
   "outputs": [],
   "source": [
    "# Test and others parameters:\n",
    "# a.- predict: just gives you the class for every example\n",
    "# b.- predict_proba: gives you the probability for every class, and predict is just taking the class \n",
    "#     which maximal probability\n",
    "# c.- predict_log_proba: gives you the logarithm of the probabilities, this is often handier as probabilities \n",
    "#     can become very, very small shareimprove this answer\n",
    "# d.- coef_\n",
    "# e.- score\n",
    "# f.- decision function"
   ]
  },
  {
   "cell_type": "code",
   "execution_count": 69,
   "metadata": {},
   "outputs": [
    {
     "data": {
      "text/plain": [
       "array(['4.5', '4', '3.5', ..., '2.5', 'NO_ASIGNADO', '4'], dtype=object)"
      ]
     },
     "execution_count": 69,
     "metadata": {},
     "output_type": "execute_result"
    }
   ],
   "source": [
    "model_LOGREG.predict(X_test)"
   ]
  },
  {
   "cell_type": "code",
   "execution_count": 70,
   "metadata": {},
   "outputs": [
    {
     "data": {
      "text/plain": [
       "array([[4.21824931e-10, 4.53822164e-05, 7.72361245e-04, ...,\n",
       "        7.12257519e-01, 5.37851421e-06, 5.22184351e-04],\n",
       "       [3.11215109e-12, 3.31998160e-06, 1.73390572e-01, ...,\n",
       "        4.87371610e-03, 2.79635998e-06, 2.75282341e-01],\n",
       "       [3.00321556e-14, 1.81822926e-05, 1.74801136e-02, ...,\n",
       "        9.49861898e-03, 1.65473031e-08, 6.38900387e-04],\n",
       "       ...,\n",
       "       [9.37278304e-11, 9.32958969e-01, 5.67620054e-02, ...,\n",
       "        1.36779011e-05, 1.05553504e-08, 8.61433539e-03],\n",
       "       [2.48070701e-05, 2.64563980e-04, 2.84332266e-04, ...,\n",
       "        8.20726145e-03, 9.70364221e-05, 9.44939810e-01],\n",
       "       [8.56503348e-13, 2.54256800e-07, 5.93571763e-07, ...,\n",
       "        1.99788985e-02, 1.14821756e-04, 1.10924605e-04]])"
      ]
     },
     "execution_count": 70,
     "metadata": {},
     "output_type": "execute_result"
    }
   ],
   "source": [
    "model_LOGREG.predict_proba(X_test)"
   ]
  },
  {
   "cell_type": "code",
   "execution_count": 71,
   "metadata": {},
   "outputs": [
    {
     "data": {
      "text/plain": [
       "array([[-21.58643074, -10.00039024,  -7.16605818, ...,  -0.33931575,\n",
       "        -12.13309839,  -7.55748987],\n",
       "       [-26.49570696, -12.61555132,  -1.75220859, ...,  -5.32389857,\n",
       "        -12.78719199,  -1.28995801],\n",
       "       [-31.13650773, -10.91506237,  -4.04669141, ...,  -4.65660886,\n",
       "        -17.9170427 ,  -7.355762  ],\n",
       "       ...,\n",
       "       [-23.09062595,  -0.06939406,  -2.8688881 , ..., -11.19972909,\n",
       "        -18.36663296,  -4.75432756],\n",
       "       [-10.60438186,  -8.23742744,  -8.16536705, ...,  -4.80273597,\n",
       "         -9.24042416,  -0.05663405],\n",
       "       [-27.78591817, -15.18492106, -14.33710772, ...,  -3.91307864,\n",
       "         -9.07212958,  -9.10665982]])"
      ]
     },
     "execution_count": 71,
     "metadata": {},
     "output_type": "execute_result"
    }
   ],
   "source": [
    "model_LOGREG.predict_log_proba(X_test)"
   ]
  },
  {
   "cell_type": "code",
   "execution_count": 72,
   "metadata": {},
   "outputs": [
    {
     "data": {
      "text/plain": [
       "array([[-7.67825739e-03, -3.19414292e-01, -1.15423690e+00, ...,\n",
       "        -6.90908492e-05, -9.02006190e-04,  1.02348010e+00],\n",
       "       [ 2.55961503e+00,  1.13468677e+00,  1.86501916e+00, ...,\n",
       "        -1.88038224e-03, -1.18297596e-02, -7.31678757e-02],\n",
       "       [ 1.60691351e-01,  5.09763918e-01,  7.89257798e-01, ...,\n",
       "        -7.36313160e-01, -1.25477446e-01, -1.24569597e-01],\n",
       "       ...,\n",
       "       [-9.05281072e-01, -9.03775059e-02, -8.67390649e-01, ...,\n",
       "         1.87272513e+00,  1.51467052e-01, -3.38451542e-01],\n",
       "       [-2.43731964e+00,  7.36176031e-01, -1.61924463e+00, ...,\n",
       "        -6.44061016e-03, -2.78062515e-02, -2.21468984e-01],\n",
       "       [ 8.78480489e-01, -1.08685491e+00,  1.26736189e+00, ...,\n",
       "         1.76946851e-01, -1.58146335e-01, -1.72387321e-01]])"
      ]
     },
     "execution_count": 72,
     "metadata": {},
     "output_type": "execute_result"
    }
   ],
   "source": [
    "model_LOGREG.coef_"
   ]
  },
  {
   "cell_type": "code",
   "execution_count": 73,
   "metadata": {},
   "outputs": [
    {
     "data": {
      "text/plain": [
       "<bound method ClassifierMixin.score of LogisticRegression(C=1.0, class_weight='balanced', dual=False,\n",
       "                   fit_intercept=True, intercept_scaling=1, l1_ratio=None,\n",
       "                   max_iter=10000, multi_class='multinomial', n_jobs=None,\n",
       "                   penalty='l2', random_state=None, solver='newton-cg',\n",
       "                   tol=0.0001, verbose=0, warm_start=False)>"
      ]
     },
     "execution_count": 73,
     "metadata": {},
     "output_type": "execute_result"
    }
   ],
   "source": [
    "model_LOGREG.score"
   ]
  },
  {
   "cell_type": "code",
   "execution_count": 74,
   "metadata": {},
   "outputs": [
    {
     "data": {
      "text/plain": [
       "ESTADO                           int64\n",
       "CONDADO                          int64\n",
       "ORGANIZACION                     int64\n",
       "TIPO_PLAN_GENERICO_MEDICARE      int64\n",
       "PRIMA_MENSUAL_CONSOLIDADA        int64\n",
       "MEDICAMS_ANUALES_DEDUCIBLES      int64\n",
       "TIPO_BENEFICIO                   int64\n",
       "COBERTURA_ADICIONAL_OFRECIDA     int64\n",
       "DETALLE_BENEFICIO                int64\n",
       "DESEMBOLSO_MAXIMO                int64\n",
       "CLASIFICACION                   object\n",
       "dtype: object"
      ]
     },
     "execution_count": 74,
     "metadata": {},
     "output_type": "execute_result"
    }
   ],
   "source": [
    "df_ratings_lab_ohe.dtypes"
   ]
  },
  {
   "cell_type": "code",
   "execution_count": 75,
   "metadata": {},
   "outputs": [
    {
     "data": {
      "text/plain": [
       "'3'"
      ]
     },
     "execution_count": 75,
     "metadata": {},
     "output_type": "execute_result"
    }
   ],
   "source": [
    "predictions_LOGREG[7]"
   ]
  },
  {
   "cell_type": "code",
   "execution_count": 76,
   "metadata": {},
   "outputs": [
    {
     "data": {
      "text/plain": [
       "'2.5'"
      ]
     },
     "execution_count": 76,
     "metadata": {},
     "output_type": "execute_result"
    }
   ],
   "source": [
    "y_test[7]"
   ]
  },
  {
   "cell_type": "code",
   "execution_count": 77,
   "metadata": {},
   "outputs": [
    {
     "data": {
      "text/plain": [
       "array([[1.33618208e-05, 2.93306469e-01, 5.56095844e-01, 5.45749924e-02,\n",
       "        4.07815341e-02, 5.44348945e-02, 1.37901429e-05, 7.79113812e-04]])"
      ]
     },
     "execution_count": 77,
     "metadata": {},
     "output_type": "execute_result"
    }
   ],
   "source": [
    "model_LOGREG.predict_proba(X_test)[7:8,]"
   ]
  },
  {
   "cell_type": "code",
   "execution_count": 78,
   "metadata": {},
   "outputs": [
    {
     "data": {
      "text/plain": [
       "array([[-13.72867348,  -2.14263297,   0.69169908, ...,   7.51844152,\n",
       "         -4.27534112,   0.3002674 ],\n",
       "       [-18.59543003,  -4.71527439,   6.14806834, ...,   2.57637835,\n",
       "         -4.88691507,   6.61031891],\n",
       "       [-21.37092417,  -1.14947881,   5.71889215, ...,   5.10897471,\n",
       "         -8.15145914,   2.40982156],\n",
       "       ...,\n",
       "       [-13.53328501,   9.48794689,   6.68845285, ...,  -1.64238814,\n",
       "         -8.80929201,   4.80301339],\n",
       "       [ -4.31522029,  -1.94826587,  -1.87620548, ...,   1.4864256 ,\n",
       "         -2.95126259,   6.23252752],\n",
       "       [-16.17542349,  -3.57442638,  -2.72661304, ...,   7.69741604,\n",
       "          2.5383651 ,   2.50383485]])"
      ]
     },
     "execution_count": 78,
     "metadata": {},
     "output_type": "execute_result"
    }
   ],
   "source": [
    "model_LOGREG.decision_function(X_test)"
   ]
  },
  {
   "cell_type": "code",
   "execution_count": 79,
   "metadata": {},
   "outputs": [
    {
     "data": {
      "text/plain": [
       "array(['2', '2.5', '3', '3.5', '4', '4.5', '5', 'NO_ASIGNADO'],\n",
       "      dtype=object)"
      ]
     },
     "execution_count": 79,
     "metadata": {},
     "output_type": "execute_result"
    }
   ],
   "source": [
    "model_LOGREG.classes_"
   ]
  },
  {
   "cell_type": "code",
   "execution_count": 80,
   "metadata": {},
   "outputs": [
    {
     "data": {
      "text/html": [
       "<div>\n",
       "<style scoped>\n",
       "    .dataframe tbody tr th:only-of-type {\n",
       "        vertical-align: middle;\n",
       "    }\n",
       "\n",
       "    .dataframe tbody tr th {\n",
       "        vertical-align: top;\n",
       "    }\n",
       "\n",
       "    .dataframe thead th {\n",
       "        text-align: right;\n",
       "    }\n",
       "</style>\n",
       "<table border=\"1\" class=\"dataframe\">\n",
       "  <thead>\n",
       "    <tr style=\"text-align: right;\">\n",
       "      <th></th>\n",
       "      <th>2</th>\n",
       "      <th>2.5</th>\n",
       "      <th>3</th>\n",
       "      <th>3.5</th>\n",
       "      <th>4</th>\n",
       "      <th>4.5</th>\n",
       "      <th>5</th>\n",
       "      <th>NO_ASIGNADO</th>\n",
       "    </tr>\n",
       "  </thead>\n",
       "  <tbody>\n",
       "    <tr>\n",
       "      <th>0</th>\n",
       "      <td>0.000013</td>\n",
       "      <td>0.293306</td>\n",
       "      <td>0.556096</td>\n",
       "      <td>0.054575</td>\n",
       "      <td>0.040782</td>\n",
       "      <td>0.054435</td>\n",
       "      <td>0.000014</td>\n",
       "      <td>0.000779</td>\n",
       "    </tr>\n",
       "  </tbody>\n",
       "</table>\n",
       "</div>"
      ],
      "text/plain": [
       "          2       2.5         3       3.5         4       4.5         5  \\\n",
       "0  0.000013  0.293306  0.556096  0.054575  0.040782  0.054435  0.000014   \n",
       "\n",
       "   NO_ASIGNADO  \n",
       "0     0.000779  "
      ]
     },
     "execution_count": 80,
     "metadata": {},
     "output_type": "execute_result"
    }
   ],
   "source": [
    "pd.DataFrame(model_LOGREG.predict_proba(X_test[7]), columns=model_LOGREG.classes_)"
   ]
  },
  {
   "cell_type": "code",
   "execution_count": 81,
   "metadata": {},
   "outputs": [
    {
     "data": {
      "text/html": [
       "<div>\n",
       "<style scoped>\n",
       "    .dataframe tbody tr th:only-of-type {\n",
       "        vertical-align: middle;\n",
       "    }\n",
       "\n",
       "    .dataframe tbody tr th {\n",
       "        vertical-align: top;\n",
       "    }\n",
       "\n",
       "    .dataframe thead th {\n",
       "        text-align: right;\n",
       "    }\n",
       "</style>\n",
       "<table border=\"1\" class=\"dataframe\">\n",
       "  <thead>\n",
       "    <tr style=\"text-align: right;\">\n",
       "      <th></th>\n",
       "      <th>2</th>\n",
       "      <th>2.5</th>\n",
       "      <th>3</th>\n",
       "      <th>3.5</th>\n",
       "      <th>4</th>\n",
       "      <th>4.5</th>\n",
       "      <th>5</th>\n",
       "      <th>NO_ASIGNADO</th>\n",
       "    </tr>\n",
       "  </thead>\n",
       "  <tbody>\n",
       "    <tr>\n",
       "      <th>0</th>\n",
       "      <td>4.218249e-10</td>\n",
       "      <td>0.000045</td>\n",
       "      <td>0.000772</td>\n",
       "      <td>0.083314</td>\n",
       "      <td>0.203083</td>\n",
       "      <td>0.712258</td>\n",
       "      <td>5.378514e-06</td>\n",
       "      <td>0.000522</td>\n",
       "    </tr>\n",
       "    <tr>\n",
       "      <th>1</th>\n",
       "      <td>3.112151e-12</td>\n",
       "      <td>0.000003</td>\n",
       "      <td>0.173391</td>\n",
       "      <td>0.126038</td>\n",
       "      <td>0.420410</td>\n",
       "      <td>0.004874</td>\n",
       "      <td>2.796360e-06</td>\n",
       "      <td>0.275282</td>\n",
       "    </tr>\n",
       "    <tr>\n",
       "      <th>2</th>\n",
       "      <td>3.003216e-14</td>\n",
       "      <td>0.000018</td>\n",
       "      <td>0.017480</td>\n",
       "      <td>0.823151</td>\n",
       "      <td>0.149213</td>\n",
       "      <td>0.009499</td>\n",
       "      <td>1.654730e-08</td>\n",
       "      <td>0.000639</td>\n",
       "    </tr>\n",
       "    <tr>\n",
       "      <th>3</th>\n",
       "      <td>1.675816e-09</td>\n",
       "      <td>0.034348</td>\n",
       "      <td>0.391620</td>\n",
       "      <td>0.083745</td>\n",
       "      <td>0.098857</td>\n",
       "      <td>0.047073</td>\n",
       "      <td>7.582644e-02</td>\n",
       "      <td>0.268531</td>\n",
       "    </tr>\n",
       "    <tr>\n",
       "      <th>4</th>\n",
       "      <td>1.277582e-12</td>\n",
       "      <td>0.000751</td>\n",
       "      <td>0.068504</td>\n",
       "      <td>0.221295</td>\n",
       "      <td>0.102070</td>\n",
       "      <td>0.604669</td>\n",
       "      <td>2.819153e-09</td>\n",
       "      <td>0.002711</td>\n",
       "    </tr>\n",
       "  </tbody>\n",
       "</table>\n",
       "</div>"
      ],
      "text/plain": [
       "              2       2.5         3       3.5         4       4.5  \\\n",
       "0  4.218249e-10  0.000045  0.000772  0.083314  0.203083  0.712258   \n",
       "1  3.112151e-12  0.000003  0.173391  0.126038  0.420410  0.004874   \n",
       "2  3.003216e-14  0.000018  0.017480  0.823151  0.149213  0.009499   \n",
       "3  1.675816e-09  0.034348  0.391620  0.083745  0.098857  0.047073   \n",
       "4  1.277582e-12  0.000751  0.068504  0.221295  0.102070  0.604669   \n",
       "\n",
       "              5  NO_ASIGNADO  \n",
       "0  5.378514e-06     0.000522  \n",
       "1  2.796360e-06     0.275282  \n",
       "2  1.654730e-08     0.000639  \n",
       "3  7.582644e-02     0.268531  \n",
       "4  2.819153e-09     0.002711  "
      ]
     },
     "execution_count": 81,
     "metadata": {},
     "output_type": "execute_result"
    }
   ],
   "source": [
    "pd.DataFrame(model_LOGREG.predict_proba(X_test), columns=model_LOGREG.classes_).head(5)"
   ]
  },
  {
   "cell_type": "code",
   "execution_count": 82,
   "metadata": {},
   "outputs": [
    {
     "data": {
      "text/html": [
       "<div>\n",
       "<style scoped>\n",
       "    .dataframe tbody tr th:only-of-type {\n",
       "        vertical-align: middle;\n",
       "    }\n",
       "\n",
       "    .dataframe tbody tr th {\n",
       "        vertical-align: top;\n",
       "    }\n",
       "\n",
       "    .dataframe thead th {\n",
       "        text-align: right;\n",
       "    }\n",
       "</style>\n",
       "<table border=\"1\" class=\"dataframe\">\n",
       "  <thead>\n",
       "    <tr style=\"text-align: right;\">\n",
       "      <th></th>\n",
       "      <th>0</th>\n",
       "      <th>1</th>\n",
       "      <th>2</th>\n",
       "      <th>3</th>\n",
       "      <th>4</th>\n",
       "      <th>5</th>\n",
       "      <th>6</th>\n",
       "      <th>7</th>\n",
       "    </tr>\n",
       "  </thead>\n",
       "  <tbody>\n",
       "    <tr>\n",
       "      <th>0</th>\n",
       "      <td>4.218249e-10</td>\n",
       "      <td>4.538222e-05</td>\n",
       "      <td>7.723612e-04</td>\n",
       "      <td>0.083314</td>\n",
       "      <td>0.203083</td>\n",
       "      <td>0.712258</td>\n",
       "      <td>5.378514e-06</td>\n",
       "      <td>0.000522</td>\n",
       "    </tr>\n",
       "    <tr>\n",
       "      <th>1</th>\n",
       "      <td>3.112151e-12</td>\n",
       "      <td>3.319982e-06</td>\n",
       "      <td>1.733906e-01</td>\n",
       "      <td>0.126038</td>\n",
       "      <td>0.420410</td>\n",
       "      <td>0.004874</td>\n",
       "      <td>2.796360e-06</td>\n",
       "      <td>0.275282</td>\n",
       "    </tr>\n",
       "    <tr>\n",
       "      <th>2</th>\n",
       "      <td>3.003216e-14</td>\n",
       "      <td>1.818229e-05</td>\n",
       "      <td>1.748011e-02</td>\n",
       "      <td>0.823151</td>\n",
       "      <td>0.149213</td>\n",
       "      <td>0.009499</td>\n",
       "      <td>1.654730e-08</td>\n",
       "      <td>0.000639</td>\n",
       "    </tr>\n",
       "    <tr>\n",
       "      <th>3</th>\n",
       "      <td>1.675816e-09</td>\n",
       "      <td>3.434760e-02</td>\n",
       "      <td>3.916196e-01</td>\n",
       "      <td>0.083745</td>\n",
       "      <td>0.098857</td>\n",
       "      <td>0.047073</td>\n",
       "      <td>7.582644e-02</td>\n",
       "      <td>0.268531</td>\n",
       "    </tr>\n",
       "    <tr>\n",
       "      <th>4</th>\n",
       "      <td>1.277582e-12</td>\n",
       "      <td>7.508877e-04</td>\n",
       "      <td>6.850393e-02</td>\n",
       "      <td>0.221295</td>\n",
       "      <td>0.102070</td>\n",
       "      <td>0.604669</td>\n",
       "      <td>2.819153e-09</td>\n",
       "      <td>0.002711</td>\n",
       "    </tr>\n",
       "    <tr>\n",
       "      <th>...</th>\n",
       "      <td>...</td>\n",
       "      <td>...</td>\n",
       "      <td>...</td>\n",
       "      <td>...</td>\n",
       "      <td>...</td>\n",
       "      <td>...</td>\n",
       "      <td>...</td>\n",
       "      <td>...</td>\n",
       "    </tr>\n",
       "    <tr>\n",
       "      <th>61232</th>\n",
       "      <td>1.864681e-09</td>\n",
       "      <td>7.797110e-05</td>\n",
       "      <td>6.173283e-03</td>\n",
       "      <td>0.338080</td>\n",
       "      <td>0.157749</td>\n",
       "      <td>0.494796</td>\n",
       "      <td>1.522061e-06</td>\n",
       "      <td>0.003122</td>\n",
       "    </tr>\n",
       "    <tr>\n",
       "      <th>61233</th>\n",
       "      <td>1.290453e-06</td>\n",
       "      <td>1.306198e-03</td>\n",
       "      <td>1.030984e-03</td>\n",
       "      <td>0.000658</td>\n",
       "      <td>0.003087</td>\n",
       "      <td>0.955150</td>\n",
       "      <td>4.758373e-03</td>\n",
       "      <td>0.034007</td>\n",
       "    </tr>\n",
       "    <tr>\n",
       "      <th>61234</th>\n",
       "      <td>9.372783e-11</td>\n",
       "      <td>9.329590e-01</td>\n",
       "      <td>5.676201e-02</td>\n",
       "      <td>0.001587</td>\n",
       "      <td>0.000064</td>\n",
       "      <td>0.000014</td>\n",
       "      <td>1.055535e-08</td>\n",
       "      <td>0.008614</td>\n",
       "    </tr>\n",
       "    <tr>\n",
       "      <th>61235</th>\n",
       "      <td>2.480707e-05</td>\n",
       "      <td>2.645640e-04</td>\n",
       "      <td>2.843323e-04</td>\n",
       "      <td>0.043895</td>\n",
       "      <td>0.002287</td>\n",
       "      <td>0.008207</td>\n",
       "      <td>9.703642e-05</td>\n",
       "      <td>0.944940</td>\n",
       "    </tr>\n",
       "    <tr>\n",
       "      <th>61236</th>\n",
       "      <td>8.565033e-13</td>\n",
       "      <td>2.542568e-07</td>\n",
       "      <td>5.935718e-07</td>\n",
       "      <td>0.000001</td>\n",
       "      <td>0.979793</td>\n",
       "      <td>0.019979</td>\n",
       "      <td>1.148218e-04</td>\n",
       "      <td>0.000111</td>\n",
       "    </tr>\n",
       "  </tbody>\n",
       "</table>\n",
       "<p>61237 rows × 8 columns</p>\n",
       "</div>"
      ],
      "text/plain": [
       "                  0             1             2         3         4         5  \\\n",
       "0      4.218249e-10  4.538222e-05  7.723612e-04  0.083314  0.203083  0.712258   \n",
       "1      3.112151e-12  3.319982e-06  1.733906e-01  0.126038  0.420410  0.004874   \n",
       "2      3.003216e-14  1.818229e-05  1.748011e-02  0.823151  0.149213  0.009499   \n",
       "3      1.675816e-09  3.434760e-02  3.916196e-01  0.083745  0.098857  0.047073   \n",
       "4      1.277582e-12  7.508877e-04  6.850393e-02  0.221295  0.102070  0.604669   \n",
       "...             ...           ...           ...       ...       ...       ...   \n",
       "61232  1.864681e-09  7.797110e-05  6.173283e-03  0.338080  0.157749  0.494796   \n",
       "61233  1.290453e-06  1.306198e-03  1.030984e-03  0.000658  0.003087  0.955150   \n",
       "61234  9.372783e-11  9.329590e-01  5.676201e-02  0.001587  0.000064  0.000014   \n",
       "61235  2.480707e-05  2.645640e-04  2.843323e-04  0.043895  0.002287  0.008207   \n",
       "61236  8.565033e-13  2.542568e-07  5.935718e-07  0.000001  0.979793  0.019979   \n",
       "\n",
       "                  6         7  \n",
       "0      5.378514e-06  0.000522  \n",
       "1      2.796360e-06  0.275282  \n",
       "2      1.654730e-08  0.000639  \n",
       "3      7.582644e-02  0.268531  \n",
       "4      2.819153e-09  0.002711  \n",
       "...             ...       ...  \n",
       "61232  1.522061e-06  0.003122  \n",
       "61233  4.758373e-03  0.034007  \n",
       "61234  1.055535e-08  0.008614  \n",
       "61235  9.703642e-05  0.944940  \n",
       "61236  1.148218e-04  0.000111  \n",
       "\n",
       "[61237 rows x 8 columns]"
      ]
     },
     "execution_count": 82,
     "metadata": {},
     "output_type": "execute_result"
    }
   ],
   "source": [
    "pd.DataFrame(model_LOGREG.predict_proba(X_test))"
   ]
  },
  {
   "cell_type": "code",
   "execution_count": 83,
   "metadata": {},
   "outputs": [
    {
     "data": {
      "text/plain": [
       "'3'"
      ]
     },
     "execution_count": 83,
     "metadata": {},
     "output_type": "execute_result"
    }
   ],
   "source": [
    "predictions_LOGREG[7]"
   ]
  },
  {
   "cell_type": "code",
   "execution_count": 84,
   "metadata": {},
   "outputs": [],
   "source": [
    "# For decode test patterns (just create a copy before transformation)\n",
    "# add probability by index\n",
    "# eliminate surface and density (although they would be worth us for other calculations)"
   ]
  },
  {
   "cell_type": "code",
   "execution_count": 85,
   "metadata": {},
   "outputs": [
    {
     "data": {
      "text/html": [
       "<div>\n",
       "<style scoped>\n",
       "    .dataframe tbody tr th:only-of-type {\n",
       "        vertical-align: middle;\n",
       "    }\n",
       "\n",
       "    .dataframe tbody tr th {\n",
       "        vertical-align: top;\n",
       "    }\n",
       "\n",
       "    .dataframe thead th {\n",
       "        text-align: right;\n",
       "    }\n",
       "</style>\n",
       "<table border=\"1\" class=\"dataframe\">\n",
       "  <thead>\n",
       "    <tr style=\"text-align: right;\">\n",
       "      <th></th>\n",
       "      <th>ESTADO</th>\n",
       "      <th>CONDADO</th>\n",
       "      <th>ORGANIZACION</th>\n",
       "      <th>TIPO_PLAN_GENERICO_MEDICARE</th>\n",
       "      <th>PRIMA_MENSUAL_CONSOLIDADA</th>\n",
       "      <th>MEDICAMS_ANUALES_DEDUCIBLES</th>\n",
       "      <th>TIPO_BENEFICIO</th>\n",
       "      <th>COBERTURA_ADICIONAL_OFRECIDA</th>\n",
       "      <th>DETALLE_BENEFICIO</th>\n",
       "      <th>DESEMBOLSO_MAXIMO</th>\n",
       "      <th>CLASIFICACION</th>\n",
       "    </tr>\n",
       "  </thead>\n",
       "  <tbody>\n",
       "    <tr>\n",
       "      <th>0</th>\n",
       "      <td>Alabama</td>\n",
       "      <td>Autauga</td>\n",
       "      <td>UnitedHealthcare</td>\n",
       "      <td>HMO</td>\n",
       "      <td>0.0</td>\n",
       "      <td>0.0</td>\n",
       "      <td>Enhanced</td>\n",
       "      <td>No Gap Coverage</td>\n",
       "      <td>EA</td>\n",
       "      <td>4450.0</td>\n",
       "      <td>2.5</td>\n",
       "    </tr>\n",
       "  </tbody>\n",
       "</table>\n",
       "</div>"
      ],
      "text/plain": [
       "    ESTADO  CONDADO      ORGANIZACION TIPO_PLAN_GENERICO_MEDICARE  \\\n",
       "0  Alabama  Autauga  UnitedHealthcare                         HMO   \n",
       "\n",
       "   PRIMA_MENSUAL_CONSOLIDADA  MEDICAMS_ANUALES_DEDUCIBLES TIPO_BENEFICIO  \\\n",
       "0                        0.0                          0.0       Enhanced   \n",
       "\n",
       "  COBERTURA_ADICIONAL_OFRECIDA DETALLE_BENEFICIO  DESEMBOLSO_MAXIMO  \\\n",
       "0              No Gap Coverage                EA             4450.0   \n",
       "\n",
       "  CLASIFICACION  \n",
       "0           2.5  "
      ]
     },
     "execution_count": 85,
     "metadata": {},
     "output_type": "execute_result"
    }
   ],
   "source": [
    "df_from_xlsx_total.head(1)"
   ]
  },
  {
   "cell_type": "code",
   "execution_count": 86,
   "metadata": {},
   "outputs": [
    {
     "data": {
      "text/html": [
       "<div>\n",
       "<style scoped>\n",
       "    .dataframe tbody tr th:only-of-type {\n",
       "        vertical-align: middle;\n",
       "    }\n",
       "\n",
       "    .dataframe tbody tr th {\n",
       "        vertical-align: top;\n",
       "    }\n",
       "\n",
       "    .dataframe thead th {\n",
       "        text-align: right;\n",
       "    }\n",
       "</style>\n",
       "<table border=\"1\" class=\"dataframe\">\n",
       "  <thead>\n",
       "    <tr style=\"text-align: right;\">\n",
       "      <th></th>\n",
       "      <th>ESTADO</th>\n",
       "      <th>CONDADO</th>\n",
       "      <th>ORGANIZACION</th>\n",
       "      <th>TIPO_PLAN_GENERICO_MEDICARE</th>\n",
       "      <th>PRIMA_MENSUAL_CONSOLIDADA</th>\n",
       "      <th>MEDICAMS_ANUALES_DEDUCIBLES</th>\n",
       "      <th>TIPO_BENEFICIO</th>\n",
       "      <th>COBERTURA_ADICIONAL_OFRECIDA</th>\n",
       "      <th>DETALLE_BENEFICIO</th>\n",
       "      <th>DESEMBOLSO_MAXIMO</th>\n",
       "      <th>CLASIFICACION</th>\n",
       "    </tr>\n",
       "  </thead>\n",
       "  <tbody>\n",
       "    <tr>\n",
       "      <th>0</th>\n",
       "      <td>0</td>\n",
       "      <td>86</td>\n",
       "      <td>476</td>\n",
       "      <td>1</td>\n",
       "      <td>0</td>\n",
       "      <td>0</td>\n",
       "      <td>1</td>\n",
       "      <td>19</td>\n",
       "      <td>3</td>\n",
       "      <td>81</td>\n",
       "      <td>2.5</td>\n",
       "    </tr>\n",
       "  </tbody>\n",
       "</table>\n",
       "</div>"
      ],
      "text/plain": [
       "   ESTADO  CONDADO  ORGANIZACION  TIPO_PLAN_GENERICO_MEDICARE  \\\n",
       "0       0       86           476                            1   \n",
       "\n",
       "   PRIMA_MENSUAL_CONSOLIDADA  MEDICAMS_ANUALES_DEDUCIBLES  TIPO_BENEFICIO  \\\n",
       "0                          0                            0               1   \n",
       "\n",
       "   COBERTURA_ADICIONAL_OFRECIDA  DETALLE_BENEFICIO  DESEMBOLSO_MAXIMO  \\\n",
       "0                            19                  3                 81   \n",
       "\n",
       "  CLASIFICACION  \n",
       "0           2.5  "
      ]
     },
     "execution_count": 86,
     "metadata": {},
     "output_type": "execute_result"
    }
   ],
   "source": [
    "df_ratings_lab_ohe.head(1)"
   ]
  },
  {
   "cell_type": "code",
   "execution_count": 87,
   "metadata": {},
   "outputs": [],
   "source": [
    "######### Visual tests"
   ]
  },
  {
   "cell_type": "code",
   "execution_count": 88,
   "metadata": {},
   "outputs": [],
   "source": [
    "#del visual\n",
    "#del visual_sample"
   ]
  },
  {
   "cell_type": "code",
   "execution_count": 89,
   "metadata": {},
   "outputs": [],
   "source": [
    "visual = pd.DataFrame(model_LOGREG.predict_proba(X_test), columns=model_LOGREG.classes_)\n",
    "visual_sample = visual.sample(n=5000).reset_index(drop=True)"
   ]
  },
  {
   "cell_type": "code",
   "execution_count": 90,
   "metadata": {},
   "outputs": [
    {
     "data": {
      "text/plain": [
       "array(['2.5', '3', 'NO_ASIGNADO', '3.5', '4', '4.5', '5', '2'],\n",
       "      dtype=object)"
      ]
     },
     "execution_count": 90,
     "metadata": {},
     "output_type": "execute_result"
    }
   ],
   "source": [
    "df_ratings_lab_ohe[\"CLASIFICACION\"].unique()"
   ]
  },
  {
   "cell_type": "code",
   "execution_count": 91,
   "metadata": {},
   "outputs": [],
   "source": [
    "# Categorical scatterplots:\n",
    "import seaborn as sb"
   ]
  },
  {
   "cell_type": "code",
   "execution_count": 92,
   "metadata": {},
   "outputs": [
    {
     "data": {
      "text/plain": [
       "<seaborn.axisgrid.FacetGrid at 0x7f7fa0fe71d0>"
      ]
     },
     "execution_count": 92,
     "metadata": {},
     "output_type": "execute_result"
    },
    {
     "data": {
      "image/png": "[encoded data removed]",
      "text/plain": [
       "<Figure size 360x360 with 1 Axes>"
      ]
     },
     "metadata": {
      "needs_background": "light"
     },
     "output_type": "display_data"
    }
   ],
   "source": [
    "sb.catplot(data=visual_sample,kind=\"strip\", orient=\"h\"\n",
    "          )"
   ]
  },
  {
   "cell_type": "code",
   "execution_count": 93,
   "metadata": {},
   "outputs": [],
   "source": [
    "# Categorical distribution plots:"
   ]
  },
  {
   "cell_type": "code",
   "execution_count": 94,
   "metadata": {},
   "outputs": [
    {
     "data": {
      "text/plain": [
       "<seaborn.axisgrid.FacetGrid at 0x7f7f9dd7d630>"
      ]
     },
     "execution_count": 94,
     "metadata": {},
     "output_type": "execute_result"
    },
    {
     "data": {
      "image/png": "[encoded data removed]",
      "text/plain": [
       "<Figure size 360x360 with 1 Axes>"
      ]
     },
     "metadata": {
      "needs_background": "light"
     },
     "output_type": "display_data"
    }
   ],
   "source": [
    "sb.catplot(data=visual_sample,kind=\"box\", orient=\"h\"\n",
    "          )"
   ]
  },
  {
   "cell_type": "code",
   "execution_count": 95,
   "metadata": {},
   "outputs": [
    {
     "data": {
      "text/plain": [
       "0.000320608624197065"
      ]
     },
     "execution_count": 95,
     "metadata": {},
     "output_type": "execute_result"
    }
   ],
   "source": [
    "visual_sample[\"2.5\"][7]"
   ]
  },
  {
   "cell_type": "code",
   "execution_count": 96,
   "metadata": {},
   "outputs": [
    {
     "data": {
      "text/html": [
       "<div>\n",
       "<style scoped>\n",
       "    .dataframe tbody tr th:only-of-type {\n",
       "        vertical-align: middle;\n",
       "    }\n",
       "\n",
       "    .dataframe tbody tr th {\n",
       "        vertical-align: top;\n",
       "    }\n",
       "\n",
       "    .dataframe thead th {\n",
       "        text-align: right;\n",
       "    }\n",
       "</style>\n",
       "<table border=\"1\" class=\"dataframe\">\n",
       "  <thead>\n",
       "    <tr style=\"text-align: right;\">\n",
       "      <th></th>\n",
       "      <th>2</th>\n",
       "      <th>2.5</th>\n",
       "      <th>3</th>\n",
       "      <th>3.5</th>\n",
       "      <th>4</th>\n",
       "      <th>4.5</th>\n",
       "      <th>5</th>\n",
       "      <th>NO_ASIGNADO</th>\n",
       "    </tr>\n",
       "  </thead>\n",
       "  <tbody>\n",
       "    <tr>\n",
       "      <th>7</th>\n",
       "      <td>1.079361e-07</td>\n",
       "      <td>0.000321</td>\n",
       "      <td>0.000843</td>\n",
       "      <td>0.000107</td>\n",
       "      <td>0.021385</td>\n",
       "      <td>0.003293</td>\n",
       "      <td>0.652501</td>\n",
       "      <td>0.32155</td>\n",
       "    </tr>\n",
       "  </tbody>\n",
       "</table>\n",
       "</div>"
      ],
      "text/plain": [
       "              2       2.5         3       3.5         4       4.5         5  \\\n",
       "7  1.079361e-07  0.000321  0.000843  0.000107  0.021385  0.003293  0.652501   \n",
       "\n",
       "   NO_ASIGNADO  \n",
       "7      0.32155  "
      ]
     },
     "execution_count": 96,
     "metadata": {},
     "output_type": "execute_result"
    }
   ],
   "source": [
    "visual_sample[7:8]"
   ]
  },
  {
   "cell_type": "code",
   "execution_count": 97,
   "metadata": {},
   "outputs": [
    {
     "data": {
      "text/plain": [
       "0       8.858397e-02\n",
       "1       3.039698e-03\n",
       "2       2.839857e-07\n",
       "3       9.808122e-03\n",
       "4       1.489875e-03\n",
       "            ...     \n",
       "4995    1.196242e-04\n",
       "4996    2.426620e-05\n",
       "4997    5.472517e-03\n",
       "4998    1.772062e-01\n",
       "4999    5.886170e-05\n",
       "Name: 2.5, Length: 5000, dtype: float64"
      ]
     },
     "execution_count": 97,
     "metadata": {},
     "output_type": "execute_result"
    }
   ],
   "source": [
    "visual_sample[\"2.5\"][:]"
   ]
  },
  {
   "cell_type": "code",
   "execution_count": 98,
   "metadata": {},
   "outputs": [
    {
     "data": {
      "text/plain": [
       "<seaborn.axisgrid.FacetGrid at 0x7f7f9ddb51d0>"
      ]
     },
     "execution_count": 98,
     "metadata": {},
     "output_type": "execute_result"
    },
    {
     "data": {
      "image/png": "[encoded data removed]",
      "text/plain": [
       "<Figure size 360x360 with 1 Axes>"
      ]
     },
     "metadata": {
      "needs_background": "light"
     },
     "output_type": "display_data"
    }
   ],
   "source": [
    "sb.catplot(data=visual_sample,kind=\"violin\", orient=\"h\"\n",
    "          )"
   ]
  },
  {
   "cell_type": "code",
   "execution_count": 99,
   "metadata": {},
   "outputs": [
    {
     "name": "stderr",
     "output_type": "stream",
     "text": [
      "'c' argument looks like a single numeric RGB or RGBA sequence, which should be avoided as value-mapping will have precedence in case its length matches with 'x' & 'y'.  Please use a 2-D array with a single row if you really want to specify the same RGB or RGBA value for all points.\n",
      "'c' argument looks like a single numeric RGB or RGBA sequence, which should be avoided as value-mapping will have precedence in case its length matches with 'x' & 'y'.  Please use a 2-D array with a single row if you really want to specify the same RGB or RGBA value for all points.\n",
      "'c' argument looks like a single numeric RGB or RGBA sequence, which should be avoided as value-mapping will have precedence in case its length matches with 'x' & 'y'.  Please use a 2-D array with a single row if you really want to specify the same RGB or RGBA value for all points.\n",
      "'c' argument looks like a single numeric RGB or RGBA sequence, which should be avoided as value-mapping will have precedence in case its length matches with 'x' & 'y'.  Please use a 2-D array with a single row if you really want to specify the same RGB or RGBA value for all points.\n",
      "'c' argument looks like a single numeric RGB or RGBA sequence, which should be avoided as value-mapping will have precedence in case its length matches with 'x' & 'y'.  Please use a 2-D array with a single row if you really want to specify the same RGB or RGBA value for all points.\n",
      "'c' argument looks like a single numeric RGB or RGBA sequence, which should be avoided as value-mapping will have precedence in case its length matches with 'x' & 'y'.  Please use a 2-D array with a single row if you really want to specify the same RGB or RGBA value for all points.\n",
      "'c' argument looks like a single numeric RGB or RGBA sequence, which should be avoided as value-mapping will have precedence in case its length matches with 'x' & 'y'.  Please use a 2-D array with a single row if you really want to specify the same RGB or RGBA value for all points.\n",
      "'c' argument looks like a single numeric RGB or RGBA sequence, which should be avoided as value-mapping will have precedence in case its length matches with 'x' & 'y'.  Please use a 2-D array with a single row if you really want to specify the same RGB or RGBA value for all points.\n"
     ]
    },
    {
     "data": {
      "text/plain": [
       "<seaborn.axisgrid.FacetGrid at 0x7f7f9ddb5748>"
      ]
     },
     "execution_count": 99,
     "metadata": {},
     "output_type": "execute_result"
    },
    {
     "data": {
      "image/png": "[encoded data removed]",
      "text/plain": [
       "<Figure size 360x360 with 1 Axes>"
      ]
     },
     "metadata": {
      "needs_background": "light"
     },
     "output_type": "display_data"
    }
   ],
   "source": [
    "sb.catplot(data=visual_sample,kind=\"boxen\", orient=\"h\"\n",
    "          )"
   ]
  },
  {
   "cell_type": "code",
   "execution_count": 100,
   "metadata": {},
   "outputs": [],
   "source": [
    "# Categorical estimate plots:"
   ]
  },
  {
   "cell_type": "code",
   "execution_count": 101,
   "metadata": {},
   "outputs": [
    {
     "data": {
      "text/plain": [
       "<seaborn.axisgrid.FacetGrid at 0x7f7f9d5035f8>"
      ]
     },
     "execution_count": 101,
     "metadata": {},
     "output_type": "execute_result"
    },
    {
     "data": {
      "image/png": "[encoded data removed]",
      "text/plain": [
       "<Figure size 360x360 with 1 Axes>"
      ]
     },
     "metadata": {
      "needs_background": "light"
     },
     "output_type": "display_data"
    }
   ],
   "source": [
    "sb.catplot(data=visual_sample,kind=\"point\", orient=\"h\"\n",
    "          )"
   ]
  },
  {
   "cell_type": "code",
   "execution_count": 102,
   "metadata": {},
   "outputs": [
    {
     "data": {
      "text/plain": [
       "<seaborn.axisgrid.FacetGrid at 0x7f7f9ddb5898>"
      ]
     },
     "execution_count": 102,
     "metadata": {},
     "output_type": "execute_result"
    },
    {
     "data": {
      "image/png": "[encoded data removed]",
      "text/plain": [
       "<Figure size 360x360 with 1 Axes>"
      ]
     },
     "metadata": {
      "needs_background": "light"
     },
     "output_type": "display_data"
    }
   ],
   "source": [
    "sb.catplot(data=visual_sample,kind=\"bar\", orient=\"h\"\n",
    "          )"
   ]
  },
  {
   "cell_type": "code",
   "execution_count": 103,
   "metadata": {},
   "outputs": [
    {
     "data": {
      "text/plain": [
       "(61237, 3806)"
      ]
     },
     "execution_count": 103,
     "metadata": {},
     "output_type": "execute_result"
    }
   ],
   "source": [
    "X_test.shape"
   ]
  },
  {
   "cell_type": "code",
   "execution_count": 104,
   "metadata": {},
   "outputs": [
    {
     "data": {
      "text/plain": [
       "Index(['2', '2.5', '3', '3.5', '4', '4.5', '5', 'NO_ASIGNADO'], dtype='object')"
      ]
     },
     "execution_count": 104,
     "metadata": {},
     "output_type": "execute_result"
    }
   ],
   "source": [
    "visual_sample.columns"
   ]
  },
  {
   "cell_type": "code",
   "execution_count": 105,
   "metadata": {},
   "outputs": [],
   "source": [
    "###################################"
   ]
  },
  {
   "cell_type": "code",
   "execution_count": 106,
   "metadata": {},
   "outputs": [
    {
     "name": "stdout",
     "output_type": "stream",
     "text": [
      "vie ene 10 20:58:54 CET 2020\r\n"
     ]
    }
   ],
   "source": [
    "!date"
   ]
  }
 ],
 "metadata": {
  "kernelspec": {
   "display_name": "Python 3",
   "language": "python",
   "name": "python3"
  },
  "language_info": {
   "codemirror_mode": {
    "name": "ipython",
    "version": 3
   },
   "file_extension": ".py",
   "mimetype": "text/x-python",
   "name": "python",
   "nbconvert_exporter": "python",
   "pygments_lexer": "ipython3",
   "version": "3.7.3"
  }
 },
 "nbformat": 4,
 "nbformat_minor": 2
}
