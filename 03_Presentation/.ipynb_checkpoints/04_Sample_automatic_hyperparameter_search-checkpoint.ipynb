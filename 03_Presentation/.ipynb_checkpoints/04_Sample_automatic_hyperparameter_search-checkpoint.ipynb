{
 "cells": [
  {
   "cell_type": "code",
   "execution_count": 1,
   "metadata": {},
   "outputs": [
    {
     "name": "stdout",
     "output_type": "stream",
     "text": [
      "vie ene 10 16:55:14 CET 2020\r\n"
     ]
    }
   ],
   "source": [
    "!date"
   ]
  },
  {
   "cell_type": "code",
   "execution_count": 2,
   "metadata": {},
   "outputs": [
    {
     "name": "stdout",
     "output_type": "stream",
     "text": [
      "\n",
      "Automagic is ON, % prefix IS NOT needed for line magics.\n"
     ]
    }
   ],
   "source": [
    "# Active system's automagic\n",
    "%automagic on"
   ]
  },
  {
   "cell_type": "markdown",
   "metadata": {},
   "source": [
    "# Hyperparameter tests"
   ]
  },
  {
   "cell_type": "code",
   "execution_count": 3,
   "metadata": {},
   "outputs": [],
   "source": [
    "\"\"\"\n",
    "penalty_params = ['l2', 'l1', 'elasticnet', 'none']\n",
    "dual_params = [False, True]\n",
    "tol_params = [0.0001, 0.0002, 0.0003]\n",
    "C_params = [1.0, 0.0, 0.5, 1.5]\n",
    "fit_intercept_params = [True, False]\n",
    "intercept_scaling_params = [1, 1.5, 2]\n",
    "class_weight_params = [None, 'balanced']\n",
    "random_state_params = [None, 10, 20, 30]\n",
    "solver_params = ['newton-cg', 'sag', 'saga']\n",
    "max_iter_params = [100, 1000, 10000, 100000]\n",
    "multi_class_params = ['ovr', 'multinomial', 'auto']\n",
    "verbose_params = [0, 1, 2, 3]\n",
    "warm_start_params = [False, True]\n",
    "n_jobs_params = [None, 1, 2, 3]\n",
    "l1_ratio_params = [None, 0, 1]\n",
    "\n",
    "/*grid_params=dict(penalty=penalty_params, \n",
    "                   dual=dual_params, \n",
    "                   tol=tol_params, \n",
    "                   C=C_params, \n",
    "                   fit_intercept=fit_intercept_params, \n",
    "                   intercept_scaling=intercept_scaling_params, \n",
    "                   class_weight=class_weight_params, \n",
    "                   random_state=random_state_params, \n",
    "                   solver=solver_params, \n",
    "                   max_iter=max_iter_params, \n",
    "                   multi_class=multi_class_params, \n",
    "                   verbose=verbose_params, \n",
    "                   warm_start=warm_start_params, \n",
    "                   n_jobs=n_jobs_params, \n",
    "                   l1_ratio=l1_ratio_params )\n",
    "\"\"\";"
   ]
  },
  {
   "cell_type": "markdown",
   "metadata": {},
   "source": [
    "## LOGISTIC REGRESSION Model 1"
   ]
  },
  {
   "cell_type": "markdown",
   "metadata": {},
   "source": [
    "#### Create tha Regression Logistic model and we make it fit (ajuste) to our set of inputs X and outputs \"y\".\n",
    "\n",
    "from sklearn.linear_model import LogisticRegression\n",
    "\n",
    "#### estimator = pipe_lr\n",
    "\n",
    "lr_model = LogisticRegression()             # initialize the model\n",
    "\n",
    "grid = GridSearchCV(lr_model, param_grid=grid_params, cv=10, scoring = 'accuracy')"
   ]
  },
  {
   "cell_type": "markdown",
   "metadata": {},
   "source": [
    "grid.fit(X_train, y_train)"
   ]
  },
  {
   "cell_type": "markdown",
   "metadata": {},
   "source": [
    "#grid.grid_scores_\n",
    "\n",
    "print(\"tuned hpyerparameters :(best parameters) \",grid.best_params_)\n",
    "\n",
    "print(\"accuracy (precision):\",grid.best_score_)\n",
    "\n",
    "#logreg2=LogisticRegression(C=1,penalty=\"l2\")\n",
    "\n",
    "#logreg2.fit(x_train,y_train)\n",
    "\n",
    "#print(\"score\",logreg2.score(x_test,y_test))\n",
    "\n",
    "print(\"scores\",grid.grid_scores(x_test,y_test))"
   ]
  },
  {
   "cell_type": "markdown",
   "metadata": {},
   "source": [
    "## LOGISTIC REGRESSION Model 2"
   ]
  },
  {
   "cell_type": "markdown",
   "metadata": {},
   "source": [
    "#### Create tha Regression Logistic model and we make it fit (ajuste) to our set of inputs X and outputs \"y\".\n",
    "\n",
    "from sklearn.linear_model.sag import sag_solver\n",
    "\n",
    "lr_model2 = linear_model.LogisticRegression(multi_class='multinomial', solver='saga', verbose=0, penalty='l2', \n",
    "class_weight='balanced', max_iter=10000)\n",
    "\n",
    "grid2 = GridSearchCV(lr_model2, param_grid=grid_params2, cv=10, scoring = 'accuracy')\n",
    "\n",
    "grid2.fit(X_train, y_train)"
   ]
  },
  {
   "cell_type": "markdown",
   "metadata": {},
   "source": [
    "print(\"tuned hpyerparameters :(best parameters) \",grid2.best_params_)\n",
    "\n",
    "print(\"accuracy (precision):\",grid2.best_score_)\n",
    "\n",
    "print(\"scores\",grid2.grid_scores(x_test,y_test))"
   ]
  },
  {
   "cell_type": "markdown",
   "metadata": {},
   "source": [
    "## LOGISTIC REGRESSION Model 3"
   ]
  },
  {
   "cell_type": "markdown",
   "metadata": {},
   "source": [
    "#### Create tha Regression Logistic model and we make it fit (ajuste) to our set of inputs X and outputs \"y\".\n",
    "\n",
    "from sklearn.linear_model.sag import sag_solver\n",
    "\n",
    "lr_model3 = linear_model.LogisticRegression(multi_class='multinomial', solver='sag')\n",
    "\n",
    "grid3 = GridSearchCV(lr_model3, param_grid=grid_params2)\n",
    "\n",
    "grid3.fit(X_train, y_train)"
   ]
  },
  {
   "cell_type": "markdown",
   "metadata": {},
   "source": [
    "print(\"tuned hpyerparameters :(best parameters) \",grid3.best_params_)\n",
    "\n",
    "print(\"accuracy (precision):\",grid3.scorer_)\n",
    "\n",
    "print(\"accuracy (precision):\",grid3.n_splits_)\n",
    "\n",
    "print(\"scores\",grid3.grid_scores(x_test,y_test))"
   ]
  },
  {
   "cell_type": "code",
   "execution_count": 4,
   "metadata": {},
   "outputs": [
    {
     "name": "stdout",
     "output_type": "stream",
     "text": [
      "vie ene 10 16:55:15 CET 2020\r\n"
     ]
    }
   ],
   "source": [
    "!date"
   ]
  }
 ],
 "metadata": {
  "kernelspec": {
   "display_name": "Python 3",
   "language": "python",
   "name": "python3"
  },
  "language_info": {
   "codemirror_mode": {
    "name": "ipython",
    "version": 3
   },
   "file_extension": ".py",
   "mimetype": "text/x-python",
   "name": "python",
   "nbconvert_exporter": "python",
   "pygments_lexer": "ipython3",
   "version": "3.7.3"
  }
 },
 "nbformat": 4,
 "nbformat_minor": 2
}
