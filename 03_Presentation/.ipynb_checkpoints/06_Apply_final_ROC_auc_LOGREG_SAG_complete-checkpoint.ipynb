{
 "cells": [
  {
   "cell_type": "code",
   "execution_count": 1,
   "metadata": {},
   "outputs": [
    {
     "name": "stdout",
     "output_type": "stream",
     "text": [
      "vie ene 10 13:34:48 CET 2020\r\n"
     ]
    }
   ],
   "source": [
    "!date"
   ]
  },
  {
   "cell_type": "code",
   "execution_count": 2,
   "metadata": {},
   "outputs": [
    {
     "name": "stdout",
     "output_type": "stream",
     "text": [
      "\n",
      "Automagic is ON, % prefix IS NOT needed for line magics.\n"
     ]
    }
   ],
   "source": [
    "# Active system's automagic\n",
    "%automagic on"
   ]
  },
  {
   "cell_type": "code",
   "execution_count": 3,
   "metadata": {},
   "outputs": [],
   "source": [
    "# Load work environment"
   ]
  },
  {
   "cell_type": "code",
   "execution_count": 4,
   "metadata": {},
   "outputs": [
    {
     "data": {
      "text/plain": [
       "'/home/dsc/Repos/TFM_Categorize_providers_based_on_descriptions_of_the_drug_plans/02_Development'"
      ]
     },
     "execution_count": 4,
     "metadata": {},
     "output_type": "execute_result"
    }
   ],
   "source": [
    "import os\n",
    "os.getcwd()"
   ]
  },
  {
   "cell_type": "code",
   "execution_count": 5,
   "metadata": {},
   "outputs": [
    {
     "name": "stdout",
     "output_type": "stream",
     "text": [
      "01a_Loading_and_preprocessing_original_data.ipynb\r\n",
      "01b_loading_and_preprocessing_original_data_complete.ipynb\r\n",
      "02_Draw_transformed_data.ipynb\r\n",
      "03_Data_preparation_and_pipelines_of_naive_models.ipynb\r\n",
      "04a_ROC_auc_SVC_svm_hyperparameters.ipynb\r\n",
      "04_Automatic_hyperparameter_search.ipynb\r\n",
      "04b_ROC_auc_LOGREG_SAG_hyperparameters.ipynb\r\n",
      "04c_ROC_auc_LOGREG_SAGA_hyperparameters.ipynb\r\n",
      "05_Apply_final_LOGREG_SAG_model.ipynb\r\n",
      "06_Apply_final_ROC_auc_LOGREG_SAG_complete.ipynb\r\n"
     ]
    }
   ],
   "source": [
    "#folder = '/home/dsc/Repos/TFM_Categorize_providers_based_on_descriptions_of_the_drug_plans/03_Presentation'\n",
    "folder = os.getcwd()\n",
    "!ls {folder}"
   ]
  },
  {
   "cell_type": "code",
   "execution_count": 6,
   "metadata": {},
   "outputs": [
    {
     "data": {
      "text/plain": [
       "'/home/dsc/Repos/TFM_Categorize_providers_based_on_descriptions_of_the_drug_plans/02_Development'"
      ]
     },
     "execution_count": 6,
     "metadata": {},
     "output_type": "execute_result"
    }
   ],
   "source": [
    "os.chdir(folder)\n",
    "os.getcwd()"
   ]
  },
  {
   "cell_type": "code",
   "execution_count": 7,
   "metadata": {},
   "outputs": [],
   "source": [
    "# Load library for work and analitics data\n",
    "import pandas as pd\n",
    "import numpy as np"
   ]
  },
  {
   "cell_type": "code",
   "execution_count": 8,
   "metadata": {},
   "outputs": [
    {
     "name": "stdout",
     "output_type": "stream",
     "text": [
      "-rw-rw-r-- 1 dsc dsc 27565813 ene  7 11:12 ../03_Presentation/02_OUT_csv_original_data_transformed.csv\r\n"
     ]
    }
   ],
   "source": [
    "!ls -ltr ../03_Presentation/02_OUT_csv_original_data_transformed.csv"
   ]
  },
  {
   "cell_type": "code",
   "execution_count": 9,
   "metadata": {},
   "outputs": [],
   "source": [
    "# Read from excel files complete with column names stipulated and transform them\n",
    "# (1) Imports:\n",
    "import os\n",
    "import glob"
   ]
  },
  {
   "cell_type": "code",
   "execution_count": 10,
   "metadata": {},
   "outputs": [
    {
     "name": "stdout",
     "output_type": "stream",
     "text": [
      "/home/dsc/Repos/TFM_Categorize_providers_based_on_descriptions_of_the_drug_plans/03_Presentation\r\n"
     ]
    }
   ],
   "source": [
    "# (2) File list:\n",
    "path = os.chdir(os.getcwd() + '/..' + '/03_Presentation')\n",
    "!pwd"
   ]
  },
  {
   "cell_type": "code",
   "execution_count": 11,
   "metadata": {},
   "outputs": [
    {
     "name": "stdout",
     "output_type": "stream",
     "text": [
      "CPU times: user 650 ms, sys: 82.8 ms, total: 733 ms\n",
      "Wall time: 681 ms\n"
     ]
    }
   ],
   "source": [
    "%%time\n",
    "# (3) Upload cvsv file:\n",
    "df_from_xlsx_total = pd.read_csv(\"02_OUT_csv_original_data_transformed.csv\")"
   ]
  },
  {
   "cell_type": "code",
   "execution_count": 12,
   "metadata": {},
   "outputs": [
    {
     "data": {
      "text/plain": [
       "306183"
      ]
     },
     "execution_count": 12,
     "metadata": {},
     "output_type": "execute_result"
    }
   ],
   "source": [
    "len(df_from_xlsx_total)"
   ]
  },
  {
   "cell_type": "code",
   "execution_count": 13,
   "metadata": {},
   "outputs": [
    {
     "data": {
      "text/plain": [
       "Index(['ESTADO', 'CONDADO', 'ORGANIZACION', 'TIPO_PLAN_GENERICO_MEDICARE',\n",
       "       'PRIMA_MENSUAL_CONSOLIDADA', 'MEDICAMS_ANUALES_DEDUCIBLES',\n",
       "       'TIPO_BENEFICIO', 'COBERTURA_ADICIONAL_OFRECIDA', 'DETALLE_BENEFICIO',\n",
       "       'DESEMBOLSO_MAXIMO', 'CLASIFICACION'],\n",
       "      dtype='object')"
      ]
     },
     "execution_count": 13,
     "metadata": {},
     "output_type": "execute_result"
    }
   ],
   "source": [
    "df_from_xlsx_total.columns"
   ]
  },
  {
   "cell_type": "code",
   "execution_count": 14,
   "metadata": {},
   "outputs": [],
   "source": [
    "# Data mapping"
   ]
  },
  {
   "cell_type": "code",
   "execution_count": 15,
   "metadata": {},
   "outputs": [],
   "source": [
    "df_ratings_lab_ohe = df_from_xlsx_total.reset_index(drop=True).copy()"
   ]
  },
  {
   "cell_type": "code",
   "execution_count": 16,
   "metadata": {},
   "outputs": [],
   "source": [
    "df_ratings_lab_ohe[\"ESTADO\"] = df_ratings_lab_ohe[\"ESTADO\"].astype(np.str)\n",
    "df_ratings_lab_ohe[\"CONDADO\"] = df_ratings_lab_ohe[\"CONDADO\"].astype(np.str)\n",
    "df_ratings_lab_ohe[\"ORGANIZACION\"] = df_ratings_lab_ohe[\"ORGANIZACION\"].astype(np.str)\n",
    "df_ratings_lab_ohe[\"TIPO_PLAN_GENERICO_MEDICARE\"] = df_ratings_lab_ohe[\"TIPO_PLAN_GENERICO_MEDICARE\"].astype(np.str)\n",
    "df_ratings_lab_ohe[\"PRIMA_MENSUAL_CONSOLIDADA\"] = df_ratings_lab_ohe[\"PRIMA_MENSUAL_CONSOLIDADA\"].astype(np.float64)\n",
    "df_ratings_lab_ohe[\"MEDICAMS_ANUALES_DEDUCIBLES\"] = df_ratings_lab_ohe[\"MEDICAMS_ANUALES_DEDUCIBLES\"].astype(np.float64)\n",
    "df_ratings_lab_ohe[\"TIPO_BENEFICIO\"] = df_ratings_lab_ohe[\"TIPO_BENEFICIO\"].astype(np.str)\n",
    "df_ratings_lab_ohe[\"COBERTURA_ADICIONAL_OFRECIDA\"] = df_ratings_lab_ohe[\"COBERTURA_ADICIONAL_OFRECIDA\"].astype(np.str)\n",
    "df_ratings_lab_ohe[\"DETALLE_BENEFICIO\"] = df_ratings_lab_ohe[\"DETALLE_BENEFICIO\"].astype(np.str)\n",
    "df_ratings_lab_ohe[\"DESEMBOLSO_MAXIMO\"] = df_ratings_lab_ohe[\"DESEMBOLSO_MAXIMO\"].astype(np.float64)\n",
    "df_ratings_lab_ohe[\"CLASIFICACION\"] = df_ratings_lab_ohe[\"CLASIFICACION\"].astype(np.str)"
   ]
  },
  {
   "cell_type": "code",
   "execution_count": 17,
   "metadata": {},
   "outputs": [],
   "source": [
    "# Labeling through Label Encoding\n",
    "from sklearn.preprocessing import LabelEncoder\n",
    "lab = LabelEncoder() "
   ]
  },
  {
   "cell_type": "code",
   "execution_count": 18,
   "metadata": {},
   "outputs": [],
   "source": [
    "df_ratings_lab_ohe['ESTADO']= lab.fit_transform(df_ratings_lab_ohe['ESTADO'])\n",
    "df_ratings_lab_ohe['CONDADO']= lab.fit_transform(df_ratings_lab_ohe['CONDADO'])\n",
    "df_ratings_lab_ohe['ORGANIZACION']= lab.fit_transform(df_ratings_lab_ohe['ORGANIZACION'])\n",
    "#df_ratings_lab_ohe['PLAN']= lab.fit_transform(df_ratings_lab_ohe['PLAN'])\n",
    "df_ratings_lab_ohe['TIPO_PLAN_GENERICO_MEDICARE']= lab.fit_transform(df_ratings_lab_ohe['TIPO_PLAN_GENERICO_MEDICARE'])\n",
    "df_ratings_lab_ohe['PRIMA_MENSUAL_CONSOLIDADA']= lab.fit_transform(df_ratings_lab_ohe['PRIMA_MENSUAL_CONSOLIDADA'])\n",
    "df_ratings_lab_ohe['MEDICAMS_ANUALES_DEDUCIBLES']= lab.fit_transform(df_ratings_lab_ohe['MEDICAMS_ANUALES_DEDUCIBLES'])\n",
    "df_ratings_lab_ohe['TIPO_BENEFICIO']= lab.fit_transform(df_ratings_lab_ohe['TIPO_BENEFICIO'])\n",
    "df_ratings_lab_ohe['COBERTURA_ADICIONAL_OFRECIDA']= lab.fit_transform(df_ratings_lab_ohe['COBERTURA_ADICIONAL_OFRECIDA'])\n",
    "df_ratings_lab_ohe['DETALLE_BENEFICIO']= lab.fit_transform(df_ratings_lab_ohe['DETALLE_BENEFICIO'])\n",
    "#df_ratings_lab_ohe['CONTRATO_ID']= lab.fit_transform(df_ratings_lab_ohe['CONTRATO_ID'])\n",
    "#df_ratings_lab_ohe['PLAN_ID']= lab.fit_transform(df_ratings_lab_ohe['PLAN_ID'])\n",
    "#df_ratings_lab_ohe['SEGMENTO_ID']= lab.fit_transform(df_ratings_lab_ohe['SEGMENTO_ID'])\n",
    "df_ratings_lab_ohe['DESEMBOLSO_MAXIMO']= lab.fit_transform(df_ratings_lab_ohe['DESEMBOLSO_MAXIMO'])\n",
    "#df_ratings_lab_ohe['CLASIFICACION']= lab.fit_transform(df_ratings_lab_ohe['CLASIFICACION'])"
   ]
  },
  {
   "cell_type": "code",
   "execution_count": 19,
   "metadata": {},
   "outputs": [
    {
     "data": {
      "text/plain": [
       "(306183, 10)"
      ]
     },
     "execution_count": 19,
     "metadata": {},
     "output_type": "execute_result"
    }
   ],
   "source": [
    "# Load variables with complete data.\n",
    "X = np.array(df_ratings_lab_ohe.drop('CLASIFICACION', 1))\n",
    "y = np.array(df_ratings_lab_ohe[\"CLASIFICACION\"])\n",
    "X.shape"
   ]
  },
  {
   "cell_type": "code",
   "execution_count": 20,
   "metadata": {},
   "outputs": [
    {
     "data": {
      "text/plain": [
       "(306183,)"
      ]
     },
     "execution_count": 20,
     "metadata": {},
     "output_type": "execute_result"
    }
   ],
   "source": [
    "y.shape"
   ]
  },
  {
   "cell_type": "code",
   "execution_count": 21,
   "metadata": {},
   "outputs": [
    {
     "data": {
      "text/plain": [
       "array(['2.5', '2.5', '2.5', ..., 'NO_ASIGNADO', '3', '3'], dtype=object)"
      ]
     },
     "execution_count": 21,
     "metadata": {},
     "output_type": "execute_result"
    }
   ],
   "source": [
    "y"
   ]
  },
  {
   "cell_type": "code",
   "execution_count": 22,
   "metadata": {},
   "outputs": [],
   "source": [
    "import matplotlib.pyplot as plt\n",
    "from sklearn import svm, datasets\n",
    "from sklearn.model_selection import train_test_split\n",
    "from sklearn.preprocessing import label_binarize\n",
    "from sklearn.metrics import roc_curve, auc\n",
    "from sklearn.multiclass import OneVsRestClassifier"
   ]
  },
  {
   "cell_type": "code",
   "execution_count": 23,
   "metadata": {},
   "outputs": [],
   "source": [
    "# Binarize the output\n",
    "classes_label=['2', '2.5', '3', '3.5', '4', '4.5', '5', 'NO_ASIGNADO']\n",
    "y = label_binarize(y, classes=classes_label)\n",
    "n_classes = y.shape[1]"
   ]
  },
  {
   "cell_type": "code",
   "execution_count": 24,
   "metadata": {},
   "outputs": [
    {
     "data": {
      "text/plain": [
       "'2'"
      ]
     },
     "execution_count": 24,
     "metadata": {},
     "output_type": "execute_result"
    }
   ],
   "source": [
    "classes_label[0]"
   ]
  },
  {
   "cell_type": "code",
   "execution_count": 25,
   "metadata": {},
   "outputs": [
    {
     "data": {
      "text/plain": [
       "array([[0, 1, 0, ..., 0, 0, 0],\n",
       "       [0, 1, 0, ..., 0, 0, 0],\n",
       "       [0, 1, 0, ..., 0, 0, 0],\n",
       "       ...,\n",
       "       [0, 0, 0, ..., 0, 0, 1],\n",
       "       [0, 0, 1, ..., 0, 0, 0],\n",
       "       [0, 0, 1, ..., 0, 0, 0]])"
      ]
     },
     "execution_count": 25,
     "metadata": {},
     "output_type": "execute_result"
    }
   ],
   "source": [
    "y"
   ]
  },
  {
   "cell_type": "code",
   "execution_count": 26,
   "metadata": {},
   "outputs": [
    {
     "data": {
      "text/plain": [
       "dtype('int64')"
      ]
     },
     "execution_count": 26,
     "metadata": {},
     "output_type": "execute_result"
    }
   ],
   "source": [
    "y.dtype"
   ]
  },
  {
   "cell_type": "code",
   "execution_count": 27,
   "metadata": {},
   "outputs": [],
   "source": [
    "# Train-test split and load the library\n",
    "from sklearn.model_selection import train_test_split\n",
    "# Create 2 groups each with input and labels\n",
    "X_train, X_test, y_train, y_test = train_test_split(X, y, test_size=0.20, random_state=0)"
   ]
  },
  {
   "cell_type": "code",
   "execution_count": 28,
   "metadata": {},
   "outputs": [],
   "source": [
    "# Feature Scaling\n",
    "from sklearn.preprocessing import StandardScaler \n",
    "sc = StandardScaler() \n",
    "X_train = sc.fit_transform(X_train) \n",
    "X_test = sc.transform(X_test)"
   ]
  },
  {
   "cell_type": "code",
   "execution_count": 29,
   "metadata": {},
   "outputs": [],
   "source": [
    "from sklearn.preprocessing import OneHotEncoder\n",
    "from sklearn.preprocessing import LabelEncoder"
   ]
  },
  {
   "cell_type": "code",
   "execution_count": 30,
   "metadata": {},
   "outputs": [
    {
     "data": {
      "text/plain": [
       "OneHotEncoder(categorical_features=None, categories=None, drop=None,\n",
       "              dtype=<class 'numpy.float64'>, handle_unknown='ignore',\n",
       "              n_values=None, sparse=True)"
      ]
     },
     "execution_count": 30,
     "metadata": {},
     "output_type": "execute_result"
    }
   ],
   "source": [
    "# Create the encoder (by OneHotEncoder)\n",
    "encoder = OneHotEncoder(handle_unknown='ignore')\n",
    "# Assume for simplicity all features are categorical.\n",
    "encoder.fit(X_train)"
   ]
  },
  {
   "cell_type": "code",
   "execution_count": 31,
   "metadata": {},
   "outputs": [],
   "source": [
    "# Apply the encoder.\n",
    "X_train = encoder.transform(X_train)\n",
    "X_test = encoder.transform(X_test)"
   ]
  },
  {
   "cell_type": "code",
   "execution_count": 32,
   "metadata": {},
   "outputs": [],
   "source": [
    "#classifier = OneVsRestClassifier(svm.SVC(kernel='linear', probability=True, random_state=0))\n",
    "from sklearn.linear_model.sag import sag_solver\n",
    "from sklearn import linear_model\n",
    "classifier = OneVsRestClassifier(linear_model.LogisticRegression(multi_class='auto', solver='sag', max_iter=10000))"
   ]
  },
  {
   "cell_type": "code",
   "execution_count": null,
   "metadata": {},
   "outputs": [],
   "source": [
    "y_score = classifier.fit(X_train, y_train).decision_function(X_test)"
   ]
  },
  {
   "cell_type": "code",
   "execution_count": null,
   "metadata": {},
   "outputs": [],
   "source": [
    "fpr = dict()\n",
    "tpr = dict()\n",
    "roc_auc = dict()\n",
    "for i in range(n_classes):\n",
    "    fpr[i], tpr[i], _ = roc_curve(y_test[:, i], y_score[:, i])\n",
    "    roc_auc[i] = auc(fpr[i], tpr[i])"
   ]
  },
  {
   "cell_type": "code",
   "execution_count": null,
   "metadata": {},
   "outputs": [],
   "source": [
    "def cycle(iterable):\n",
    "    # cycle('ABCD') --> A B C D A B C D A B C D ...\n",
    "    saved = []\n",
    "    for element in iterable:\n",
    "        yield element\n",
    "        saved.append(element)\n",
    "    while saved:\n",
    "        for element in saved:\n",
    "              yield element"
   ]
  },
  {
   "cell_type": "markdown",
   "metadata": {},
   "source": [
    "### Plots Receiver operating characterictic for each class"
   ]
  },
  {
   "cell_type": "code",
   "execution_count": null,
   "metadata": {},
   "outputs": [],
   "source": [
    "import matplotlib.pyplot as plt\n",
    "\n",
    "#plt.subplots_adjust(left=None, bottom=None, right=None, top=None, wspace=None, hspace=None)\n",
    "#fig, axes = plt.subplots(2, 4, figsize=(18, 4), constrained_layout=True)\n",
    "fig, axes = plt.subplots(2, 4, figsize=(22, 10), constrained_layout=True)\n",
    "fig.set_constrained_layout_pads(w_pad=1./36., h_pad=1./36., hspace=0.1, wspace=0.1)\n",
    "\n",
    "### Plot Receiver operating characterictic for \"Clasification 2\" class\n",
    "#Plot of a ROC curve for a specific class\n",
    "colors = 'blue' #, 'blue', 'red', 'green', 'yellow', 'brown', 'pink', 'purple', 'orange'])\n",
    "lw = 2\n",
    "i=0\n",
    "axes[0,0].plot(fpr[i], tpr[i], color=colors,\n",
    "         lw=lw, label='ROC curve of class: %s (area = %0.2f)' % (classes_label[i], roc_auc[i]))\n",
    "\n",
    "axes[0,0].plot([0, 1], [0, 1], color='navy', lw=lw, linestyle='--')\n",
    "plt.xlim([-0.05, 1.0])\n",
    "plt.ylim([0.0, 1.05])\n",
    "axes[0,0].set_xlabel('False Positive Rate')\n",
    "axes[0,0].set_ylabel('True Positive Rate')\n",
    "axes[0,0].set_title('(ROC) \"Clasification: %s\" class' % (classes_label[i]))\n",
    "axes[0,0].legend(loc=\"lower right\")\n",
    "\n",
    "### Plot Receiver operating characterictic for \"Clasification 2.5\" class\n",
    "#Plot of a ROC curve for a specific class\n",
    "colors = 'red' #, 'blue', 'red', 'green', 'yellow', 'brown', 'pink', 'purple', 'orange'])\n",
    "#plt.figure()\n",
    "lw = 2\n",
    "i=1\n",
    "axes[0,1].plot(fpr[i], tpr[i], color=colors,\n",
    "         lw=lw, label='ROC curve of class: %s (area = %0.2f)' % (classes_label[i], roc_auc[i]))\n",
    "\n",
    "axes[0,1].plot([0, 1], [0, 1], color='navy', lw=lw, linestyle='--')\n",
    "plt.xlim([-0.05, 1.0])\n",
    "plt.ylim([0.0, 1.05])\n",
    "axes[0,1].set_xlabel('False Positive Rate')\n",
    "axes[0,1].set_ylabel('True Positive Rate')\n",
    "axes[0,1].set_title('(ROC) \"Clasification: %s\" class' % (classes_label[i]))\n",
    "axes[0,1].legend(loc=\"lower right\")\n",
    "\n",
    "### Plot Receiver operating characterictic for \"Clasification 3\" class\n",
    "#Plot of a ROC curve for a specific class\n",
    "colors = 'green' #, 'blue', 'red', 'green', 'yellow', 'brown', 'pink', 'purple', 'orange'])\n",
    "#plt.figure()\n",
    "lw = 2\n",
    "i=2\n",
    "axes[0,2].plot(fpr[i], tpr[i], color=colors,\n",
    "         lw=lw, label='ROC curve of class: %s (area = %0.2f)' % (classes_label[i], roc_auc[i]))\n",
    "\n",
    "axes[0,2].plot([0, 1], [0, 1], color='navy', lw=lw, linestyle='--')\n",
    "plt.xlim([-0.05, 1.0])\n",
    "plt.ylim([0.0, 1.05])\n",
    "axes[0,2].set_xlabel('False Positive Rate')\n",
    "axes[0,2].set_ylabel('True Positive Rate')\n",
    "axes[0,2].set_title('(ROC) \"Clasification: %s\" class' % (classes_label[i]))\n",
    "axes[0,2].legend(loc=\"lower right\")\n",
    "\n",
    "### Plot Receiver operating characterictic for \"Clasification 3.5\" class\n",
    "#Plot of a ROC curve for a specific class\n",
    "colors = 'yellow' #, 'blue', 'red', 'green', 'yellow', 'brown', 'pink', 'purple', 'orange'])\n",
    "#plt.figure()\n",
    "lw = 2\n",
    "i=3\n",
    "axes[0,3].plot(fpr[i], tpr[i], color=colors,\n",
    "         lw=lw, label='ROC curve of class: %s (area = %0.2f)' % (classes_label[i], roc_auc[i]))\n",
    "\n",
    "axes[0,3].plot([0, 1], [0, 1], color='navy', lw=lw, linestyle='--')\n",
    "plt.xlim([-0.05, 1.0])\n",
    "plt.ylim([0.0, 1.05])\n",
    "axes[0,3].set_xlabel('False Positive Rate')\n",
    "axes[0,3].set_ylabel('True Positive Rate')\n",
    "axes[0,3].set_title('(ROC) \"Clasification: %s\" class' % (classes_label[i]))\n",
    "axes[0,3].legend(loc=\"lower right\")\n",
    "\n",
    "### Plot Receiver operating characterictic for \"Clasification 4\" class\n",
    "#Plot of a ROC curve for a specific class\n",
    "colors = 'brown' #, 'blue', 'red', 'green', 'yellow', 'brown', 'pink', 'purple', 'orange'])\n",
    "#plt.figure()\n",
    "lw = 2\n",
    "i=4\n",
    "axes[1,0].plot(fpr[i], tpr[i], color=colors,\n",
    "         lw=lw, label='ROC curve of class: %s (area = %0.2f)' % (classes_label[i], roc_auc[i]))\n",
    "\n",
    "axes[1,0].plot([0, 1], [0, 1], color='navy', lw=lw, linestyle='--')\n",
    "plt.xlim([-0.05, 1.0])\n",
    "plt.ylim([0.0, 1.05])\n",
    "axes[1,0].set_xlabel('False Positive Rate')\n",
    "\n",
    "axes[1,0].set_ylabel('True Positive Rate')\n",
    "axes[1,0].set_title('(ROC) \"Clasification: %s\" class' % (classes_label[i]))\n",
    "axes[1,0].legend(loc=\"lower right\")\n",
    "\n",
    "### Plot Receiver operating characterictic for \"Clasification 4.5\" class\n",
    "#Plot of a ROC curve for a specific class\n",
    "colors = 'pink' #, 'blue', 'red', 'green', 'yellow', 'brown', 'pink', 'purple', 'orange'])\n",
    "#plt.figure()\n",
    "lw = 2\n",
    "i=5\n",
    "axes[1,1].plot(fpr[i], tpr[i], color=colors,\n",
    "         lw=lw, label='ROC curve of class: %s (area = %0.2f)' % (classes_label[i], roc_auc[i]))\n",
    "\n",
    "axes[1,1].plot([0, 1], [0, 1], color='navy', lw=lw, linestyle='--')\n",
    "plt.xlim([-0.05, 1.0])\n",
    "plt.ylim([0.0, 1.05])\n",
    "axes[1,1].set_xlabel('False Positive Rate')\n",
    "axes[1,1].set_ylabel('True Positive Rate')\n",
    "axes[1,1].set_title('(ROC) \"Clasification: %s\" class' % (classes_label[i]))\n",
    "axes[1,1].legend(loc=\"lower right\")\n",
    "\n",
    "### Plot Receiver operating characterictic for \"Clasification 5\" class\n",
    "#Plot of a ROC curve for a specific class\n",
    "colors = 'purple' #, 'blue', 'red', 'green', 'yellow', 'brown', 'pink', 'purple', 'orange'])\n",
    "#plt.figure()\n",
    "lw = 2\n",
    "i=6\n",
    "axes[1,2].plot(fpr[i], tpr[i], color=colors,\n",
    "         lw=lw, label='ROC curve of class: %s (area = %0.2f)' % (classes_label[i], roc_auc[i]))\n",
    "\n",
    "axes[1,2].plot([0, 1], [0, 1], color='navy', lw=lw, linestyle='--')\n",
    "plt.xlim([-0.05, 1.0])\n",
    "plt.ylim([0.0, 1.05])\n",
    "axes[1,2].set_xlabel('False Positive Rate')\n",
    "axes[1,2].set_ylabel('True Positive Rate')\n",
    "axes[1,2].set_title('(ROC) \"Clasification: %s\" class' % (classes_label[i]))\n",
    "axes[1,2].legend(loc=\"lower right\")\n",
    "\n",
    "### Plot Receiver operating characterictic for \"Clasification NO_ASIGNADO\" class\n",
    "#Plot of a ROC curve for a specific class\n",
    "colors = 'orange' #, 'blue', 'red', 'green', 'yellow', 'brown', 'pink', 'purple', 'orange'])\n",
    "#plt.figure()\n",
    "lw = 2\n",
    "i=7\n",
    "axes[1,3].plot(fpr[i], tpr[i], color=colors,\n",
    "         lw=lw, label='ROC curve of class: %s (area = %0.2f)' % (classes_label[i], roc_auc[i]))\n",
    "\n",
    "axes[1,3].plot([0, 1], [0, 1], color='navy', lw=lw, linestyle='--')\n",
    "plt.xlim([-0.05, 1.0])\n",
    "plt.ylim([0.0, 1.05])\n",
    "axes[1,3].set_xlabel('False Positive Rate')\n",
    "axes[1,3].set_ylabel('True Positive Rate')\n",
    "axes[1,3].set_title('(ROC) \"Clasification: %s\" class' % (classes_label[i]))\n",
    "axes[1,3].legend(loc=\"lower right\")"
   ]
  },
  {
   "cell_type": "markdown",
   "metadata": {},
   "source": [
    "### Plots Receiver operating characterictic for multiclass"
   ]
  },
  {
   "cell_type": "code",
   "execution_count": null,
   "metadata": {},
   "outputs": [],
   "source": [
    "# Area under ROC for the multiclass problem\n",
    "y_prob = classifier.predict_proba(X_test)"
   ]
  },
  {
   "cell_type": "code",
   "execution_count": null,
   "metadata": {},
   "outputs": [],
   "source": [
    "import numpy as np\n",
    "import matplotlib.pyplot as plt\n",
    "from itertools import cycle\n",
    "\n",
    "from sklearn import svm, datasets\n",
    "from sklearn.metrics import roc_curve, auc\n",
    "from sklearn.model_selection import train_test_split\n",
    "from sklearn.preprocessing import label_binarize\n",
    "from sklearn.multiclass import OneVsRestClassifier\n",
    "from scipy import interp\n",
    "from sklearn.metrics import roc_auc_score"
   ]
  },
  {
   "cell_type": "code",
   "execution_count": null,
   "metadata": {},
   "outputs": [],
   "source": [
    "# Compute ROC curve and ROC area for each class\n",
    "fpr = dict()\n",
    "tpr = dict()\n",
    "roc_auc = dict()\n",
    "for i in range(n_classes):\n",
    "    fpr[i], tpr[i], _ = roc_curve(y_test[:, i], y_score[:, i])\n",
    "    roc_auc[i] = auc(fpr[i], tpr[i])\n",
    "\n",
    "# Compute micro-average ROC curve and ROC area\n",
    "# (Agrega las contribuciones de todas las clases para calcular el promedio)\n",
    "fpr[\"micro\"], tpr[\"micro\"], _ = roc_curve(y_test.ravel(), y_score.ravel())\n",
    "roc_auc[\"micro\"] = auc(fpr[\"micro\"], tpr[\"micro\"])"
   ]
  },
  {
   "cell_type": "code",
   "execution_count": null,
   "metadata": {},
   "outputs": [],
   "source": [
    "# First aggregate all false positive rates\n",
    "all_fpr = np.unique(np.concatenate([fpr[i] for i in range(n_classes)]))\n",
    "\n",
    "# Then interpolate all ROC curves at this points\n",
    "mean_tpr = np.zeros_like(all_fpr)\n",
    "for i in range(n_classes):\n",
    "    mean_tpr += np.interp(all_fpr, fpr[i], tpr[i])\n",
    "\n",
    "# Finally average it and compute AUC\n",
    "mean_tpr /= n_classes\n",
    "\n",
    "# Un macro-promedio calcula la métrica independiente para cada clase y luego toma el promedio.\n",
    "# Por tanto, tratará a todas las clases por igual.\n",
    "fpr[\"macro\"] = all_fpr\n",
    "tpr[\"macro\"] = mean_tpr\n",
    "roc_auc[\"macro\"] = auc(fpr[\"macro\"], tpr[\"macro\"])\n"
   ]
  },
  {
   "cell_type": "code",
   "execution_count": null,
   "metadata": {},
   "outputs": [],
   "source": [
    "# Plot ROC curves for the multilabel problem\n",
    "colors = cycle(['blue', 'red', 'green', 'yellow', 'brown', 'pink', 'purple', 'orange'])\n",
    "for i, color in zip(range(n_classes), colors):\n",
    "    plt.plot(fpr[i], tpr[i], color=color, lw=lw,\n",
    "             label='ROC curve of class {0} (area = {1:0.2f})'\n",
    "             ''.format(i, roc_auc[i]))\n",
    "\n",
    "plt.plot([0, 1], [0, 1], 'k--', lw=lw)\n",
    "plt.xlim([-0.05, 1.0])\n",
    "plt.ylim([0.0, 1.05])\n",
    "plt.xlabel('False Positive Rate')\n",
    "plt.ylabel('True Positive Rate')\n",
    "plt.title('(ROC) \"Clasification: for multi-class data')\n",
    "plt.legend(loc=\"lower right\")\n",
    "plt.show()"
   ]
  },
  {
   "cell_type": "code",
   "execution_count": null,
   "metadata": {},
   "outputs": [],
   "source": [
    "# Plot all ROC curves\n",
    "plt.figure()\n",
    "plt.plot(fpr[\"micro\"], tpr[\"micro\"],\n",
    "         label='micro-average ROC curve (area = {0:0.2f})'\n",
    "               ''.format(roc_auc[\"micro\"]),\n",
    "         color='deeppink', linestyle=':', linewidth=4)\n",
    "\n",
    "plt.plot(fpr[\"macro\"], tpr[\"macro\"],\n",
    "         label='macro-average ROC curve (area = {0:0.2f})'\n",
    "               ''.format(roc_auc[\"macro\"]),\n",
    "         color='navy', linestyle=':', linewidth=4)\n",
    "\n",
    "plt.plot([0, 1], [0, 1], 'k--', lw=lw)\n",
    "plt.xlim([-0.05, 1.0])\n",
    "plt.ylim([0.0, 1.05])\n",
    "plt.xlabel('False Positive Rate')\n",
    "plt.ylabel('True Positive Rate')\n",
    "plt.title('(ROC) \"Clasification: for multi-class data')\n",
    "plt.legend(loc=\"lower right\")\n",
    "plt.show()"
   ]
  },
  {
   "cell_type": "code",
   "execution_count": null,
   "metadata": {},
   "outputs": [],
   "source": [
    "# Plot all ROC curves\n",
    "plt.figure()\n",
    "plt.plot(fpr[\"micro\"], tpr[\"micro\"],\n",
    "         label='micro-average ROC curve (area = {0:0.2f})'\n",
    "               ''.format(roc_auc[\"micro\"]),\n",
    "         color='deeppink', linestyle=':', linewidth=4)\n",
    "\n",
    "plt.plot(fpr[\"macro\"], tpr[\"macro\"],\n",
    "         label='macro-average ROC curve (area = {0:0.2f})'\n",
    "               ''.format(roc_auc[\"macro\"]),\n",
    "         color='navy', linestyle=':', linewidth=4)\n",
    "\n",
    "colors = cycle(['blue', 'red', 'green', 'yellow', 'brown', 'pink', 'purple', 'orange'])\n",
    "for i, color in zip(range(n_classes), colors):\n",
    "    plt.plot(fpr[i], tpr[i], color=color, lw=lw,\n",
    "             label='ROC curve of class {0} (area = {1:0.2f})'\n",
    "             ''.format(i, roc_auc[i]))\n",
    "\n",
    "plt.plot([0, 1], [0, 1], 'k--', lw=lw)\n",
    "plt.xlim([-0.05, 1.0])\n",
    "plt.ylim([0.0, 1.05])\n",
    "plt.xlabel('False Positive Rate')\n",
    "plt.ylabel('True Positive Rate')\n",
    "plt.title('(ROC) \"Clasification: for multi-class data')\n",
    "plt.legend(loc=\"lower right\")\n",
    "plt.show()"
   ]
  },
  {
   "cell_type": "code",
   "execution_count": null,
   "metadata": {},
   "outputs": [],
   "source": [
    "####################"
   ]
  },
  {
   "cell_type": "code",
   "execution_count": null,
   "metadata": {},
   "outputs": [],
   "source": [
    "!date"
   ]
  }
 ],
 "metadata": {
  "kernelspec": {
   "display_name": "Python 3",
   "language": "python",
   "name": "python3"
  },
  "language_info": {
   "codemirror_mode": {
    "name": "ipython",
    "version": 3
   },
   "file_extension": ".py",
   "mimetype": "text/x-python",
   "name": "python",
   "nbconvert_exporter": "python",
   "pygments_lexer": "ipython3",
   "version": "3.7.3"
  }
 },
 "nbformat": 4,
 "nbformat_minor": 2
}
