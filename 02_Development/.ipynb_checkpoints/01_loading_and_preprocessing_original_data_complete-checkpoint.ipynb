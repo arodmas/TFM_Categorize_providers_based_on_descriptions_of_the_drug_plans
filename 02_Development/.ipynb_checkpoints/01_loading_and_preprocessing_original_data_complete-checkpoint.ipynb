{
 "cells": [
  {
   "cell_type": "code",
   "execution_count": 1,
   "metadata": {},
   "outputs": [
    {
     "name": "stdout",
     "output_type": "stream",
     "text": [
      "dom dic 29 20:28:31 CET 2019\r\n"
     ]
    }
   ],
   "source": [
    "!date"
   ]
  },
  {
   "cell_type": "code",
   "execution_count": 2,
   "metadata": {},
   "outputs": [
    {
     "name": "stdout",
     "output_type": "stream",
     "text": [
      "\n",
      "Automagic is ON, % prefix IS NOT needed for line magics.\n"
     ]
    }
   ],
   "source": [
    "# Active system's automagic\n",
    "%automagic on"
   ]
  },
  {
   "cell_type": "code",
   "execution_count": 3,
   "metadata": {},
   "outputs": [],
   "source": [
    "# Load work environment"
   ]
  },
  {
   "cell_type": "code",
   "execution_count": 4,
   "metadata": {},
   "outputs": [
    {
     "data": {
      "text/plain": [
       "'/home/dsc/Repos/TFM_Categorize_providers_based_on_descriptions_of_the_drug_plans/02_Development'"
      ]
     },
     "execution_count": 4,
     "metadata": {},
     "output_type": "execute_result"
    }
   ],
   "source": [
    "import os\n",
    "os.getcwd()"
   ]
  },
  {
   "cell_type": "code",
   "execution_count": 5,
   "metadata": {},
   "outputs": [
    {
     "name": "stdout",
     "output_type": "stream",
     "text": [
      "01_loading_and_preprocessing_original_data_complete.ipynb\r\n"
     ]
    }
   ],
   "source": [
    "#folder = '/home/dsc/Repos/TFM_Categorize_providers_based_on_descriptions_of_the_drug_plans/03_Presentation'\n",
    "folder = os.getcwd()\n",
    "!ls {folder}"
   ]
  },
  {
   "cell_type": "code",
   "execution_count": 6,
   "metadata": {},
   "outputs": [
    {
     "data": {
      "text/plain": [
       "'/home/dsc/Repos/TFM_Categorize_providers_based_on_descriptions_of_the_drug_plans/02_Development'"
      ]
     },
     "execution_count": 6,
     "metadata": {},
     "output_type": "execute_result"
    }
   ],
   "source": [
    "os.chdir(folder)\n",
    "os.getcwd()"
   ]
  },
  {
   "cell_type": "code",
   "execution_count": 7,
   "metadata": {},
   "outputs": [],
   "source": [
    "# Load library for work and analitics data\n",
    "import pandas as pd\n",
    "import numpy as np"
   ]
  },
  {
   "cell_type": "code",
   "execution_count": 8,
   "metadata": {},
   "outputs": [
    {
     "name": "stdout",
     "output_type": "stream",
     "text": [
      "total 18768\r\n",
      "-rw-rw-r-- 1 dsc dsc 1290067 dic 26 15:18 06a_maa_to_m2012.xlsx\r\n",
      "-rw-rw-r-- 1 dsc dsc 1403666 dic 26 15:20 06b_man_to_w2012.xlsx\r\n",
      "-rw-rw-r-- 1 dsc dsc 1235276 dic 26 15:21 07a_maa_to_m2013.xlsx\r\n",
      "-rw-rw-r-- 1 dsc dsc 1417179 dic 26 15:22 07b_man_to_w2013.xlsx\r\n",
      "-rw-rw-r-- 1 dsc dsc  963040 dic 26 15:23 08a_maa_to_m2014.xlsx\r\n",
      "-rw-rw-r-- 1 dsc dsc 1223346 dic 26 15:24 08b_man_to_w2014.xlsx\r\n",
      "-rw-rw-r-- 1 dsc dsc  995042 dic 26 15:25 09a_maa_to_m2015.xlsx\r\n",
      "-rw-rw-r-- 1 dsc dsc 1109618 dic 26 15:26 09b_man_to_w2015.xlsx\r\n",
      "-rw-rw-r-- 1 dsc dsc 1027178 dic 26 15:27 10a_maa_to_m2016.xlsx\r\n",
      "-rw-rw-r-- 1 dsc dsc 1173313 dic 26 15:28 10b_man_to_w2016.xlsx\r\n",
      "-rw-rw-r-- 1 dsc dsc 1056650 dic 26 15:29 11a_maa_to_m2017.xlsx\r\n",
      "-rw-rw-r-- 1 dsc dsc 1123358 dic 26 15:30 11b_man_to_w2017.xlsx\r\n",
      "-rw-rw-r-- 1 dsc dsc 1149202 dic 26 15:32 12a_maa_to_m2018.xlsx\r\n",
      "-rw-rw-r-- 1 dsc dsc 1261817 dic 26 15:33 12b_man_to_w2018.xlsx\r\n",
      "-rw-rw-r-- 1 dsc dsc 1289344 dic 26 15:34 13a_maa_to_m2019.xlsx\r\n",
      "-rw-rw-r-- 1 dsc dsc 1477248 dic 26 15:35 13b_man_to_w2019.xlsx\r\n"
     ]
    }
   ],
   "source": [
    "!ls -ltr ../01_Original_data"
   ]
  },
  {
   "cell_type": "code",
   "execution_count": 9,
   "metadata": {},
   "outputs": [],
   "source": [
    "# Read from excel files complete with column names stipulated and transform them\n",
    "# (1) Imports:\n",
    "import os\n",
    "import glob"
   ]
  },
  {
   "cell_type": "code",
   "execution_count": 10,
   "metadata": {},
   "outputs": [
    {
     "name": "stdout",
     "output_type": "stream",
     "text": [
      "/home/dsc/Repos/TFM_Categorize_providers_based_on_descriptions_of_the_drug_plans/01_Original_data\r\n"
     ]
    }
   ],
   "source": [
    "# (2) File list:\n",
    "path = os.chdir(os.getcwd() + '/..' + '/01_Original_data')\n",
    "!pwd"
   ]
  },
  {
   "cell_type": "code",
   "execution_count": 11,
   "metadata": {},
   "outputs": [
    {
     "data": {
      "text/plain": [
       "['06a_maa_to_m2012.xlsx',\n",
       " '06b_man_to_w2012.xlsx',\n",
       " '07a_maa_to_m2013.xlsx',\n",
       " '07b_man_to_w2013.xlsx',\n",
       " '08a_maa_to_m2014.xlsx',\n",
       " '08b_man_to_w2014.xlsx',\n",
       " '09a_maa_to_m2015.xlsx',\n",
       " '09b_man_to_w2015.xlsx',\n",
       " '10a_maa_to_m2016.xlsx',\n",
       " '10b_man_to_w2016.xlsx',\n",
       " '11a_maa_to_m2017.xlsx',\n",
       " '11b_man_to_w2017.xlsx',\n",
       " '12a_maa_to_m2018.xlsx',\n",
       " '12b_man_to_w2018.xlsx',\n",
       " '13a_maa_to_m2019.xlsx',\n",
       " '13b_man_to_w2019.xlsx']"
      ]
     },
     "execution_count": 11,
     "metadata": {},
     "output_type": "execute_result"
    }
   ],
   "source": [
    "patron_files_xlsx = '*.xlsx'\n",
    "# Avoid storing entries in memory simultaneously\n",
    "files_xlsx = sorted(glob.glob(patron_files_xlsx, recursive=True)) \n",
    "files_xlsx"
   ]
  },
  {
   "cell_type": "code",
   "execution_count": 12,
   "metadata": {},
   "outputs": [],
   "source": [
    "# (3) Initialize empty dataframe:\n",
    "df_from_xlsx_total = pd.DataFrame()"
   ]
  },
  {
   "cell_type": "code",
   "execution_count": 13,
   "metadata": {},
   "outputs": [
    {
     "name": "stdout",
     "output_type": "stream",
     "text": [
      "CPU times: user 45.8 s, sys: 876 ms, total: 46.7 s\n",
      "Wall time: 46.3 s\n"
     ]
    }
   ],
   "source": [
    "%%time\n",
    "# (4) Loop over the file list to append to an empty dataframe:\n",
    "for f in files_xlsx:\n",
    "    df_from_xlsx_parcial = pd.read_excel(f,                          \n",
    "                          index_col=None,\n",
    "                          names=['STATE', 'COUNTY', 'ORGANIZATION', 'PLAN_NAME'\n",
    "                                 , 'GENERIC_TYPE', 'MCP', 'BORRAR', 'BORRAR'\n",
    "                                 , 'BORRAR', 'BORRAR', 'CONTRACT_ID', 'PLAN_ID', 'SEGMENT_ID'\n",
    "                                 , 'MOOP_LIMIT', 'RATING'])\n",
    "\n",
    "    df_from_xlsx_total = df_from_xlsx_total.append(df_from_xlsx_parcial)"
   ]
  },
  {
   "cell_type": "code",
   "execution_count": 14,
   "metadata": {},
   "outputs": [
    {
     "data": {
      "text/plain": [
       "306183"
      ]
     },
     "execution_count": 14,
     "metadata": {},
     "output_type": "execute_result"
    }
   ],
   "source": [
    "len(df_from_xlsx_total)"
   ]
  },
  {
   "cell_type": "code",
   "execution_count": 15,
   "metadata": {},
   "outputs": [
    {
     "data": {
      "text/html": [
       "<div>\n",
       "<style scoped>\n",
       "    .dataframe tbody tr th:only-of-type {\n",
       "        vertical-align: middle;\n",
       "    }\n",
       "\n",
       "    .dataframe tbody tr th {\n",
       "        vertical-align: top;\n",
       "    }\n",
       "\n",
       "    .dataframe thead th {\n",
       "        text-align: right;\n",
       "    }\n",
       "</style>\n",
       "<table border=\"1\" class=\"dataframe\">\n",
       "  <thead>\n",
       "    <tr style=\"text-align: right;\">\n",
       "      <th></th>\n",
       "      <th>STATE</th>\n",
       "      <th>COUNTY</th>\n",
       "      <th>ORGANIZATION</th>\n",
       "      <th>PLAN_NAME</th>\n",
       "      <th>GENERIC_TYPE</th>\n",
       "      <th>MCP</th>\n",
       "      <th>BORRAR</th>\n",
       "      <th>BORRAR.1</th>\n",
       "      <th>BORRAR.2</th>\n",
       "      <th>BORRAR.3</th>\n",
       "      <th>CONTRACT_ID</th>\n",
       "      <th>PLAN_ID</th>\n",
       "      <th>SEGMENT_ID</th>\n",
       "      <th>MOOP_LIMIT</th>\n",
       "      <th>RATING</th>\n",
       "    </tr>\n",
       "  </thead>\n",
       "  <tbody>\n",
       "    <tr>\n",
       "      <th>0</th>\n",
       "      <td>Alabama</td>\n",
       "      <td>Autauga</td>\n",
       "      <td>UnitedHealthcare</td>\n",
       "      <td>AARP MedicareComplete Plan 1 (HMO)</td>\n",
       "      <td>Local HMO</td>\n",
       "      <td>$0.00</td>\n",
       "      <td>$0</td>\n",
       "      <td>Enhanced</td>\n",
       "      <td>No Gap Coverage</td>\n",
       "      <td>EA</td>\n",
       "      <td>H0151</td>\n",
       "      <td>1</td>\n",
       "      <td>0</td>\n",
       "      <td>$4,450</td>\n",
       "      <td>2.5</td>\n",
       "    </tr>\n",
       "    <tr>\n",
       "      <th>1</th>\n",
       "      <td>Alabama</td>\n",
       "      <td>Autauga</td>\n",
       "      <td>Blue Cross and Blue Shield of Alabama</td>\n",
       "      <td>Blue Advantage Complete (PPO)</td>\n",
       "      <td>Local PPO</td>\n",
       "      <td>$99.00</td>\n",
       "      <td>$130</td>\n",
       "      <td>Basic</td>\n",
       "      <td>No Gap Coverage</td>\n",
       "      <td>BA</td>\n",
       "      <td>H0104</td>\n",
       "      <td>11</td>\n",
       "      <td>5</td>\n",
       "      <td>$3,400</td>\n",
       "      <td>2.5</td>\n",
       "    </tr>\n",
       "    <tr>\n",
       "      <th>2</th>\n",
       "      <td>Alabama</td>\n",
       "      <td>Autauga</td>\n",
       "      <td>Blue Cross and Blue Shield of Alabama</td>\n",
       "      <td>Blue Advantage Premier (PPO)</td>\n",
       "      <td>Local PPO</td>\n",
       "      <td>$199.00</td>\n",
       "      <td>$0</td>\n",
       "      <td>Enhanced</td>\n",
       "      <td>No Gap Coverage</td>\n",
       "      <td>EA</td>\n",
       "      <td>H0104</td>\n",
       "      <td>10</td>\n",
       "      <td>3</td>\n",
       "      <td>$3,400</td>\n",
       "      <td>2.5</td>\n",
       "    </tr>\n",
       "    <tr>\n",
       "      <th>3</th>\n",
       "      <td>Alabama</td>\n",
       "      <td>Autauga</td>\n",
       "      <td>Healthspring of Alabama, Inc.</td>\n",
       "      <td>HealthyAdvantage (HMO)</td>\n",
       "      <td>Local HMO *</td>\n",
       "      <td>$0.00</td>\n",
       "      <td>NaN</td>\n",
       "      <td>NaN</td>\n",
       "      <td>NaN</td>\n",
       "      <td>NaN</td>\n",
       "      <td>H0150</td>\n",
       "      <td>12</td>\n",
       "      <td>0</td>\n",
       "      <td>$3,400</td>\n",
       "      <td>3</td>\n",
       "    </tr>\n",
       "    <tr>\n",
       "      <th>4</th>\n",
       "      <td>Alabama</td>\n",
       "      <td>Autauga</td>\n",
       "      <td>Healthspring of Alabama, Inc.</td>\n",
       "      <td>HealthyAdvantage Preferred (HMO)</td>\n",
       "      <td>Local HMO</td>\n",
       "      <td>$0.00</td>\n",
       "      <td>$0</td>\n",
       "      <td>Enhanced</td>\n",
       "      <td>Many Generics</td>\n",
       "      <td>EA</td>\n",
       "      <td>H0150</td>\n",
       "      <td>1</td>\n",
       "      <td>0</td>\n",
       "      <td>$3,400</td>\n",
       "      <td>3</td>\n",
       "    </tr>\n",
       "  </tbody>\n",
       "</table>\n",
       "</div>"
      ],
      "text/plain": [
       "     STATE   COUNTY                           ORGANIZATION  \\\n",
       "0  Alabama  Autauga                       UnitedHealthcare   \n",
       "1  Alabama  Autauga  Blue Cross and Blue Shield of Alabama   \n",
       "2  Alabama  Autauga  Blue Cross and Blue Shield of Alabama   \n",
       "3  Alabama  Autauga          Healthspring of Alabama, Inc.   \n",
       "4  Alabama  Autauga          Healthspring of Alabama, Inc.   \n",
       "\n",
       "                            PLAN_NAME GENERIC_TYPE       MCP BORRAR  BORRAR.1  \\\n",
       "0  AARP MedicareComplete Plan 1 (HMO)    Local HMO    $0.00     $0   Enhanced   \n",
       "1       Blue Advantage Complete (PPO)    Local PPO   $99.00   $130      Basic   \n",
       "2        Blue Advantage Premier (PPO)    Local PPO  $199.00     $0   Enhanced   \n",
       "3              HealthyAdvantage (HMO)  Local HMO *    $0.00     NaN       NaN   \n",
       "4    HealthyAdvantage Preferred (HMO)    Local HMO    $0.00     $0   Enhanced   \n",
       "\n",
       "          BORRAR.2 BORRAR.3 CONTRACT_ID  PLAN_ID  SEGMENT_ID MOOP_LIMIT RATING  \n",
       "0  No Gap Coverage       EA       H0151        1           0    $4,450     2.5  \n",
       "1  No Gap Coverage       BA       H0104       11           5    $3,400     2.5  \n",
       "2  No Gap Coverage       EA       H0104       10           3    $3,400     2.5  \n",
       "3              NaN      NaN       H0150       12           0    $3,400       3  \n",
       "4    Many Generics       EA       H0150        1           0    $3,400       3  "
      ]
     },
     "execution_count": 15,
     "metadata": {},
     "output_type": "execute_result"
    }
   ],
   "source": [
    "df_from_xlsx_total.head()"
   ]
  },
  {
   "cell_type": "code",
   "execution_count": 16,
   "metadata": {},
   "outputs": [
    {
     "data": {
      "text/plain": [
       "(306183, 15)"
      ]
     },
     "execution_count": 16,
     "metadata": {},
     "output_type": "execute_result"
    }
   ],
   "source": [
    "df_from_xlsx_total.shape"
   ]
  },
  {
   "cell_type": "code",
   "execution_count": 17,
   "metadata": {},
   "outputs": [
    {
     "data": {
      "text/plain": [
       "589"
      ]
     },
     "execution_count": 17,
     "metadata": {},
     "output_type": "execute_result"
    }
   ],
   "source": [
    "df_from_xlsx_total.duplicated().sum()"
   ]
  },
  {
   "cell_type": "code",
   "execution_count": 18,
   "metadata": {},
   "outputs": [
    {
     "data": {
      "text/plain": [
       "STATE               0\n",
       "COUNTY              0\n",
       "ORGANIZATION        0\n",
       "PLAN_NAME           0\n",
       "GENERIC_TYPE       32\n",
       "MCP              2511\n",
       "BORRAR          79392\n",
       "BORRAR.1        79392\n",
       "BORRAR.2        79392\n",
       "BORRAR.3        79392\n",
       "CONTRACT_ID         0\n",
       "PLAN_ID             0\n",
       "SEGMENT_ID          0\n",
       "MOOP_LIMIT       3389\n",
       "RATING             32\n",
       "dtype: int64"
      ]
     },
     "execution_count": 18,
     "metadata": {},
     "output_type": "execute_result"
    }
   ],
   "source": [
    "# Check NULL values\n",
    "df_from_xlsx_total.isnull().sum()"
   ]
  },
  {
   "cell_type": "code",
   "execution_count": 19,
   "metadata": {},
   "outputs": [],
   "source": [
    "# Delete surplus columns that start with:\n",
    "filtro_borrar = [col for col in df_from_xlsx_total if col.startswith('BORRAR')]\n",
    "df_from_xlsx_total = df_from_xlsx_total.drop(columns=filtro_borrar)"
   ]
  },
  {
   "cell_type": "code",
   "execution_count": 20,
   "metadata": {},
   "outputs": [
    {
     "data": {
      "text/plain": [
       "(306183, 11)"
      ]
     },
     "execution_count": 20,
     "metadata": {},
     "output_type": "execute_result"
    }
   ],
   "source": [
    "df_from_xlsx_total.shape"
   ]
  },
  {
   "cell_type": "code",
   "execution_count": 21,
   "metadata": {},
   "outputs": [
    {
     "data": {
      "text/html": [
       "<div>\n",
       "<style scoped>\n",
       "    .dataframe tbody tr th:only-of-type {\n",
       "        vertical-align: middle;\n",
       "    }\n",
       "\n",
       "    .dataframe tbody tr th {\n",
       "        vertical-align: top;\n",
       "    }\n",
       "\n",
       "    .dataframe thead th {\n",
       "        text-align: right;\n",
       "    }\n",
       "</style>\n",
       "<table border=\"1\" class=\"dataframe\">\n",
       "  <thead>\n",
       "    <tr style=\"text-align: right;\">\n",
       "      <th></th>\n",
       "      <th>STATE</th>\n",
       "      <th>COUNTY</th>\n",
       "      <th>ORGANIZATION</th>\n",
       "      <th>PLAN_NAME</th>\n",
       "      <th>GENERIC_TYPE</th>\n",
       "      <th>MCP</th>\n",
       "      <th>CONTRACT_ID</th>\n",
       "      <th>PLAN_ID</th>\n",
       "      <th>SEGMENT_ID</th>\n",
       "      <th>MOOP_LIMIT</th>\n",
       "      <th>RATING</th>\n",
       "    </tr>\n",
       "  </thead>\n",
       "  <tbody>\n",
       "    <tr>\n",
       "      <th>0</th>\n",
       "      <td>Alabama</td>\n",
       "      <td>Autauga</td>\n",
       "      <td>UnitedHealthcare</td>\n",
       "      <td>AARP MedicareComplete Plan 1 (HMO)</td>\n",
       "      <td>Local HMO</td>\n",
       "      <td>$0.00</td>\n",
       "      <td>H0151</td>\n",
       "      <td>1</td>\n",
       "      <td>0</td>\n",
       "      <td>$4,450</td>\n",
       "      <td>2.5</td>\n",
       "    </tr>\n",
       "    <tr>\n",
       "      <th>1</th>\n",
       "      <td>Alabama</td>\n",
       "      <td>Autauga</td>\n",
       "      <td>Blue Cross and Blue Shield of Alabama</td>\n",
       "      <td>Blue Advantage Complete (PPO)</td>\n",
       "      <td>Local PPO</td>\n",
       "      <td>$99.00</td>\n",
       "      <td>H0104</td>\n",
       "      <td>11</td>\n",
       "      <td>5</td>\n",
       "      <td>$3,400</td>\n",
       "      <td>2.5</td>\n",
       "    </tr>\n",
       "    <tr>\n",
       "      <th>2</th>\n",
       "      <td>Alabama</td>\n",
       "      <td>Autauga</td>\n",
       "      <td>Blue Cross and Blue Shield of Alabama</td>\n",
       "      <td>Blue Advantage Premier (PPO)</td>\n",
       "      <td>Local PPO</td>\n",
       "      <td>$199.00</td>\n",
       "      <td>H0104</td>\n",
       "      <td>10</td>\n",
       "      <td>3</td>\n",
       "      <td>$3,400</td>\n",
       "      <td>2.5</td>\n",
       "    </tr>\n",
       "    <tr>\n",
       "      <th>3</th>\n",
       "      <td>Alabama</td>\n",
       "      <td>Autauga</td>\n",
       "      <td>Healthspring of Alabama, Inc.</td>\n",
       "      <td>HealthyAdvantage (HMO)</td>\n",
       "      <td>Local HMO *</td>\n",
       "      <td>$0.00</td>\n",
       "      <td>H0150</td>\n",
       "      <td>12</td>\n",
       "      <td>0</td>\n",
       "      <td>$3,400</td>\n",
       "      <td>3</td>\n",
       "    </tr>\n",
       "    <tr>\n",
       "      <th>4</th>\n",
       "      <td>Alabama</td>\n",
       "      <td>Autauga</td>\n",
       "      <td>Healthspring of Alabama, Inc.</td>\n",
       "      <td>HealthyAdvantage Preferred (HMO)</td>\n",
       "      <td>Local HMO</td>\n",
       "      <td>$0.00</td>\n",
       "      <td>H0150</td>\n",
       "      <td>1</td>\n",
       "      <td>0</td>\n",
       "      <td>$3,400</td>\n",
       "      <td>3</td>\n",
       "    </tr>\n",
       "    <tr>\n",
       "      <th>5</th>\n",
       "      <td>Alabama</td>\n",
       "      <td>Autauga</td>\n",
       "      <td>Healthspring of Alabama, Inc.</td>\n",
       "      <td>HealthyAdvantage Premier (HMO-POS)</td>\n",
       "      <td>Local HMO</td>\n",
       "      <td>$38.00</td>\n",
       "      <td>H0150</td>\n",
       "      <td>23</td>\n",
       "      <td>0</td>\n",
       "      <td>$3,400</td>\n",
       "      <td>3</td>\n",
       "    </tr>\n",
       "    <tr>\n",
       "      <th>6</th>\n",
       "      <td>Alabama</td>\n",
       "      <td>Autauga</td>\n",
       "      <td>Humana Insurance Company</td>\n",
       "      <td>Humana Gold Choice H8145-075 (PFFS)</td>\n",
       "      <td>PFFS</td>\n",
       "      <td>$65.00</td>\n",
       "      <td>H8145</td>\n",
       "      <td>75</td>\n",
       "      <td>0</td>\n",
       "      <td>$5,000</td>\n",
       "      <td>Plan too new to be measured</td>\n",
       "    </tr>\n",
       "    <tr>\n",
       "      <th>7</th>\n",
       "      <td>Alabama</td>\n",
       "      <td>Autauga</td>\n",
       "      <td>Humana Insurance Company</td>\n",
       "      <td>Humana Gold Choice H8145-111 (PFFS)</td>\n",
       "      <td>PFFS *</td>\n",
       "      <td>$0.00</td>\n",
       "      <td>H8145</td>\n",
       "      <td>111</td>\n",
       "      <td>0</td>\n",
       "      <td>$6,700</td>\n",
       "      <td>Plan too new to be measured</td>\n",
       "    </tr>\n",
       "    <tr>\n",
       "      <th>8</th>\n",
       "      <td>Alabama</td>\n",
       "      <td>Autauga</td>\n",
       "      <td>Humana Insurance Company</td>\n",
       "      <td>HumanaChoice H1681-005 (PPO)</td>\n",
       "      <td>Local PPO</td>\n",
       "      <td>$39.00</td>\n",
       "      <td>H1681</td>\n",
       "      <td>5</td>\n",
       "      <td>0</td>\n",
       "      <td>$4,900</td>\n",
       "      <td>2.5</td>\n",
       "    </tr>\n",
       "    <tr>\n",
       "      <th>9</th>\n",
       "      <td>Alabama</td>\n",
       "      <td>Autauga</td>\n",
       "      <td>Humana Insurance Company</td>\n",
       "      <td>HumanaChoice R5826-001 (Regional PPO)</td>\n",
       "      <td>Regional PPO</td>\n",
       "      <td>$59.00</td>\n",
       "      <td>R5826</td>\n",
       "      <td>1</td>\n",
       "      <td>0</td>\n",
       "      <td>$4,900</td>\n",
       "      <td>3</td>\n",
       "    </tr>\n",
       "    <tr>\n",
       "      <th>10</th>\n",
       "      <td>Alabama</td>\n",
       "      <td>Autauga</td>\n",
       "      <td>Humana Insurance Company</td>\n",
       "      <td>HumanaChoice R5826-065 (Regional PPO)</td>\n",
       "      <td>Regional PPO *</td>\n",
       "      <td>$0.00</td>\n",
       "      <td>R5826</td>\n",
       "      <td>65</td>\n",
       "      <td>0</td>\n",
       "      <td>$3,400</td>\n",
       "      <td>3</td>\n",
       "    </tr>\n",
       "    <tr>\n",
       "      <th>11</th>\n",
       "      <td>Alabama</td>\n",
       "      <td>Autauga</td>\n",
       "      <td>VIVA Medicare Plus</td>\n",
       "      <td>VIVA Medicare Plus Rx (HMO)</td>\n",
       "      <td>Local HMO</td>\n",
       "      <td>$0.00</td>\n",
       "      <td>H0154</td>\n",
       "      <td>1</td>\n",
       "      <td>0</td>\n",
       "      <td>$6,700</td>\n",
       "      <td>3.5</td>\n",
       "    </tr>\n",
       "    <tr>\n",
       "      <th>12</th>\n",
       "      <td>Alabama</td>\n",
       "      <td>Autauga</td>\n",
       "      <td>VIVA Medicare Plus</td>\n",
       "      <td>VIVA Medicare Plus Rx Premier (HMO)</td>\n",
       "      <td>Local HMO</td>\n",
       "      <td>$99.00</td>\n",
       "      <td>H0154</td>\n",
       "      <td>11</td>\n",
       "      <td>0</td>\n",
       "      <td>$6,700</td>\n",
       "      <td>3.5</td>\n",
       "    </tr>\n",
       "    <tr>\n",
       "      <th>13</th>\n",
       "      <td>Alabama</td>\n",
       "      <td>Autauga</td>\n",
       "      <td>VIVA Medicare Plus</td>\n",
       "      <td>VIVA Medicare Plus Select (HMO)</td>\n",
       "      <td>Local HMO *</td>\n",
       "      <td>$0.00</td>\n",
       "      <td>H0154</td>\n",
       "      <td>8</td>\n",
       "      <td>0</td>\n",
       "      <td>$6,700</td>\n",
       "      <td>3.5</td>\n",
       "    </tr>\n",
       "    <tr>\n",
       "      <th>14</th>\n",
       "      <td>Alabama</td>\n",
       "      <td>Baldwin</td>\n",
       "      <td>UnitedHealthcare</td>\n",
       "      <td>AARP MedicareComplete Plan 1 (HMO)</td>\n",
       "      <td>Local HMO</td>\n",
       "      <td>$0.00</td>\n",
       "      <td>H0151</td>\n",
       "      <td>1</td>\n",
       "      <td>0</td>\n",
       "      <td>$4,450</td>\n",
       "      <td>2.5</td>\n",
       "    </tr>\n",
       "    <tr>\n",
       "      <th>15</th>\n",
       "      <td>Alabama</td>\n",
       "      <td>Baldwin</td>\n",
       "      <td>Blue Cross and Blue Shield of Alabama</td>\n",
       "      <td>Blue Advantage Complete (PPO)</td>\n",
       "      <td>Local PPO</td>\n",
       "      <td>$0.00</td>\n",
       "      <td>H0104</td>\n",
       "      <td>11</td>\n",
       "      <td>6</td>\n",
       "      <td>$3,400</td>\n",
       "      <td>2.5</td>\n",
       "    </tr>\n",
       "    <tr>\n",
       "      <th>16</th>\n",
       "      <td>Alabama</td>\n",
       "      <td>Baldwin</td>\n",
       "      <td>Blue Cross and Blue Shield of Alabama</td>\n",
       "      <td>Blue Advantage Premier (PPO)</td>\n",
       "      <td>Local PPO</td>\n",
       "      <td>$149.00</td>\n",
       "      <td>H0104</td>\n",
       "      <td>10</td>\n",
       "      <td>1</td>\n",
       "      <td>$3,400</td>\n",
       "      <td>2.5</td>\n",
       "    </tr>\n",
       "    <tr>\n",
       "      <th>17</th>\n",
       "      <td>Alabama</td>\n",
       "      <td>Baldwin</td>\n",
       "      <td>Healthspring of Alabama, Inc.</td>\n",
       "      <td>HealthyAdvantage (HMO)</td>\n",
       "      <td>Local HMO *</td>\n",
       "      <td>$0.00</td>\n",
       "      <td>H0150</td>\n",
       "      <td>12</td>\n",
       "      <td>0</td>\n",
       "      <td>$3,400</td>\n",
       "      <td>3</td>\n",
       "    </tr>\n",
       "    <tr>\n",
       "      <th>18</th>\n",
       "      <td>Alabama</td>\n",
       "      <td>Baldwin</td>\n",
       "      <td>Healthspring of Alabama, Inc.</td>\n",
       "      <td>HealthyAdvantage Preferred (HMO)</td>\n",
       "      <td>Local HMO</td>\n",
       "      <td>$0.00</td>\n",
       "      <td>H0150</td>\n",
       "      <td>1</td>\n",
       "      <td>0</td>\n",
       "      <td>$3,400</td>\n",
       "      <td>3</td>\n",
       "    </tr>\n",
       "    <tr>\n",
       "      <th>19</th>\n",
       "      <td>Alabama</td>\n",
       "      <td>Baldwin</td>\n",
       "      <td>Healthspring of Alabama, Inc.</td>\n",
       "      <td>HealthyAdvantage Premier (HMO-POS)</td>\n",
       "      <td>Local HMO</td>\n",
       "      <td>$38.00</td>\n",
       "      <td>H0150</td>\n",
       "      <td>23</td>\n",
       "      <td>0</td>\n",
       "      <td>$3,400</td>\n",
       "      <td>3</td>\n",
       "    </tr>\n",
       "  </tbody>\n",
       "</table>\n",
       "</div>"
      ],
      "text/plain": [
       "      STATE   COUNTY                           ORGANIZATION  \\\n",
       "0   Alabama  Autauga                       UnitedHealthcare   \n",
       "1   Alabama  Autauga  Blue Cross and Blue Shield of Alabama   \n",
       "2   Alabama  Autauga  Blue Cross and Blue Shield of Alabama   \n",
       "3   Alabama  Autauga          Healthspring of Alabama, Inc.   \n",
       "4   Alabama  Autauga          Healthspring of Alabama, Inc.   \n",
       "5   Alabama  Autauga          Healthspring of Alabama, Inc.   \n",
       "6   Alabama  Autauga               Humana Insurance Company   \n",
       "7   Alabama  Autauga               Humana Insurance Company   \n",
       "8   Alabama  Autauga               Humana Insurance Company   \n",
       "9   Alabama  Autauga               Humana Insurance Company   \n",
       "10  Alabama  Autauga               Humana Insurance Company   \n",
       "11  Alabama  Autauga                     VIVA Medicare Plus   \n",
       "12  Alabama  Autauga                     VIVA Medicare Plus   \n",
       "13  Alabama  Autauga                     VIVA Medicare Plus   \n",
       "14  Alabama  Baldwin                       UnitedHealthcare   \n",
       "15  Alabama  Baldwin  Blue Cross and Blue Shield of Alabama   \n",
       "16  Alabama  Baldwin  Blue Cross and Blue Shield of Alabama   \n",
       "17  Alabama  Baldwin          Healthspring of Alabama, Inc.   \n",
       "18  Alabama  Baldwin          Healthspring of Alabama, Inc.   \n",
       "19  Alabama  Baldwin          Healthspring of Alabama, Inc.   \n",
       "\n",
       "                                PLAN_NAME    GENERIC_TYPE       MCP  \\\n",
       "0      AARP MedicareComplete Plan 1 (HMO)       Local HMO    $0.00    \n",
       "1           Blue Advantage Complete (PPO)       Local PPO   $99.00    \n",
       "2            Blue Advantage Premier (PPO)       Local PPO  $199.00    \n",
       "3                  HealthyAdvantage (HMO)     Local HMO *    $0.00    \n",
       "4        HealthyAdvantage Preferred (HMO)       Local HMO    $0.00    \n",
       "5      HealthyAdvantage Premier (HMO-POS)       Local HMO   $38.00    \n",
       "6     Humana Gold Choice H8145-075 (PFFS)            PFFS   $65.00    \n",
       "7     Humana Gold Choice H8145-111 (PFFS)          PFFS *    $0.00    \n",
       "8            HumanaChoice H1681-005 (PPO)       Local PPO   $39.00    \n",
       "9   HumanaChoice R5826-001 (Regional PPO)    Regional PPO   $59.00    \n",
       "10  HumanaChoice R5826-065 (Regional PPO)  Regional PPO *    $0.00    \n",
       "11            VIVA Medicare Plus Rx (HMO)       Local HMO    $0.00    \n",
       "12    VIVA Medicare Plus Rx Premier (HMO)       Local HMO   $99.00    \n",
       "13        VIVA Medicare Plus Select (HMO)     Local HMO *    $0.00    \n",
       "14     AARP MedicareComplete Plan 1 (HMO)       Local HMO    $0.00    \n",
       "15          Blue Advantage Complete (PPO)       Local PPO    $0.00    \n",
       "16           Blue Advantage Premier (PPO)       Local PPO  $149.00    \n",
       "17                 HealthyAdvantage (HMO)     Local HMO *    $0.00    \n",
       "18       HealthyAdvantage Preferred (HMO)       Local HMO    $0.00    \n",
       "19     HealthyAdvantage Premier (HMO-POS)       Local HMO   $38.00    \n",
       "\n",
       "   CONTRACT_ID  PLAN_ID  SEGMENT_ID MOOP_LIMIT                       RATING  \n",
       "0        H0151        1           0    $4,450                           2.5  \n",
       "1        H0104       11           5    $3,400                           2.5  \n",
       "2        H0104       10           3    $3,400                           2.5  \n",
       "3        H0150       12           0    $3,400                             3  \n",
       "4        H0150        1           0    $3,400                             3  \n",
       "5        H0150       23           0    $3,400                             3  \n",
       "6        H8145       75           0    $5,000   Plan too new to be measured  \n",
       "7        H8145      111           0    $6,700   Plan too new to be measured  \n",
       "8        H1681        5           0    $4,900                           2.5  \n",
       "9        R5826        1           0    $4,900                             3  \n",
       "10       R5826       65           0    $3,400                             3  \n",
       "11       H0154        1           0    $6,700                           3.5  \n",
       "12       H0154       11           0    $6,700                           3.5  \n",
       "13       H0154        8           0    $6,700                           3.5  \n",
       "14       H0151        1           0    $4,450                           2.5  \n",
       "15       H0104       11           6    $3,400                           2.5  \n",
       "16       H0104       10           1    $3,400                           2.5  \n",
       "17       H0150       12           0    $3,400                             3  \n",
       "18       H0150        1           0    $3,400                             3  \n",
       "19       H0150       23           0    $3,400                             3  "
      ]
     },
     "execution_count": 21,
     "metadata": {},
     "output_type": "execute_result"
    }
   ],
   "source": [
    "df_from_xlsx_total.head(20)"
   ]
  },
  {
   "cell_type": "code",
   "execution_count": 22,
   "metadata": {},
   "outputs": [
    {
     "data": {
      "text/plain": [
       "STATE           object\n",
       "COUNTY          object\n",
       "ORGANIZATION    object\n",
       "PLAN_NAME       object\n",
       "GENERIC_TYPE    object\n",
       "MCP             object\n",
       "CONTRACT_ID     object\n",
       "PLAN_ID          int64\n",
       "SEGMENT_ID       int64\n",
       "MOOP_LIMIT      object\n",
       "RATING          object\n",
       "dtype: object"
      ]
     },
     "execution_count": 22,
     "metadata": {},
     "output_type": "execute_result"
    }
   ],
   "source": [
    "df_from_xlsx_total.dtypes"
   ]
  },
  {
   "cell_type": "code",
   "execution_count": 23,
   "metadata": {},
   "outputs": [
    {
     "data": {
      "text/plain": [
       "Index(['STATE', 'COUNTY', 'ORGANIZATION', 'PLAN_NAME', 'GENERIC_TYPE', 'MCP',\n",
       "       'CONTRACT_ID', 'PLAN_ID', 'SEGMENT_ID', 'MOOP_LIMIT', 'RATING'],\n",
       "      dtype='object')"
      ]
     },
     "execution_count": 23,
     "metadata": {},
     "output_type": "execute_result"
    }
   ],
   "source": [
    "df_from_xlsx_total.columns"
   ]
  },
  {
   "cell_type": "code",
   "execution_count": 24,
   "metadata": {},
   "outputs": [
    {
     "data": {
      "text/plain": [
       "STATE              0\n",
       "COUNTY             0\n",
       "ORGANIZATION       0\n",
       "PLAN_NAME          0\n",
       "GENERIC_TYPE      32\n",
       "MCP             2511\n",
       "CONTRACT_ID        0\n",
       "PLAN_ID            0\n",
       "SEGMENT_ID         0\n",
       "MOOP_LIMIT      3389\n",
       "RATING            32\n",
       "dtype: int64"
      ]
     },
     "execution_count": 24,
     "metadata": {},
     "output_type": "execute_result"
    }
   ],
   "source": [
    "# Check NULL values\n",
    "df_from_xlsx_total.isnull().sum()"
   ]
  },
  {
   "cell_type": "code",
   "execution_count": 25,
   "metadata": {},
   "outputs": [],
   "source": [
    "df_from_xlsx_total.fillna(\"NO_ASIGNADO\", inplace=True) "
   ]
  },
  {
   "cell_type": "code",
   "execution_count": 26,
   "metadata": {},
   "outputs": [
    {
     "data": {
      "text/plain": [
       "STATE           0\n",
       "COUNTY          0\n",
       "ORGANIZATION    0\n",
       "PLAN_NAME       0\n",
       "GENERIC_TYPE    0\n",
       "MCP             0\n",
       "CONTRACT_ID     0\n",
       "PLAN_ID         0\n",
       "SEGMENT_ID      0\n",
       "MOOP_LIMIT      0\n",
       "RATING          0\n",
       "dtype: int64"
      ]
     },
     "execution_count": 26,
     "metadata": {},
     "output_type": "execute_result"
    }
   ],
   "source": [
    "# Check NULL values\n",
    "df_from_xlsx_total.isnull().sum()"
   ]
  },
  {
   "cell_type": "code",
   "execution_count": 27,
   "metadata": {},
   "outputs": [
    {
     "data": {
      "text/plain": [
       "STATE           306183\n",
       "COUNTY          306183\n",
       "ORGANIZATION    306183\n",
       "PLAN_NAME       306183\n",
       "GENERIC_TYPE    306183\n",
       "MCP             306183\n",
       "CONTRACT_ID     306183\n",
       "PLAN_ID         306183\n",
       "SEGMENT_ID      306183\n",
       "MOOP_LIMIT      306183\n",
       "RATING          306183\n",
       "dtype: int64"
      ]
     },
     "execution_count": 27,
     "metadata": {},
     "output_type": "execute_result"
    }
   ],
   "source": [
    "df_from_xlsx_total.count()"
   ]
  },
  {
   "cell_type": "code",
   "execution_count": 28,
   "metadata": {},
   "outputs": [
    {
     "data": {
      "text/plain": [
       "Int64Index([4993, 4999, 5014, 5023, 5035, 5057, 5070, 5086, 5099, 5122, 5144,\n",
       "            5145, 5156, 5165, 5180, 5191, 5192, 5204, 5227, 5236, 5237, 5251,\n",
       "            5263, 5272, 5289, 5305, 5314, 5323, 5327, 5340, 5349, 5358],\n",
       "           dtype='int64')"
      ]
     },
     "execution_count": 28,
     "metadata": {},
     "output_type": "execute_result"
    }
   ],
   "source": [
    "df_from_xlsx_total[df_from_xlsx_total['GENERIC_TYPE'] == 'NO_ASIGNADO'].index"
   ]
  },
  {
   "cell_type": "code",
   "execution_count": 29,
   "metadata": {},
   "outputs": [
    {
     "data": {
      "text/plain": [
       "Int64Index([4993, 4999, 5014, 5023, 5035, 5057, 5070, 5086, 5099, 5122, 5144,\n",
       "            5145, 5156, 5165, 5180, 5191, 5192, 5204, 5227, 5236, 5237, 5251,\n",
       "            5263, 5272, 5289, 5305, 5314, 5323, 5327, 5340, 5349, 5358],\n",
       "           dtype='int64')"
      ]
     },
     "execution_count": 29,
     "metadata": {},
     "output_type": "execute_result"
    }
   ],
   "source": [
    "df_from_xlsx_total[df_from_xlsx_total['RATING'] == 'NO_ASIGNADO'].index"
   ]
  },
  {
   "cell_type": "code",
   "execution_count": 30,
   "metadata": {},
   "outputs": [
    {
     "data": {
      "text/plain": [
       "Int64Index([ 1323,  1361,  1391,  1429,  1470,  1493,  1520,  1540,  1556,\n",
       "             1584,\n",
       "            ...\n",
       "            23386, 23387, 23388, 23389, 23392, 23393, 23394, 23399, 23400,\n",
       "            23401],\n",
       "           dtype='int64', length=2511)"
      ]
     },
     "execution_count": 30,
     "metadata": {},
     "output_type": "execute_result"
    }
   ],
   "source": [
    "df_from_xlsx_total[df_from_xlsx_total['MCP'] == 'NO_ASIGNADO'].index"
   ]
  },
  {
   "cell_type": "code",
   "execution_count": 31,
   "metadata": {},
   "outputs": [
    {
     "data": {
      "text/plain": [
       "Int64Index([ 2076,  2095,  2096,  2097,  2098,  2099,  2100,  2102,  2114,\n",
       "             2115,\n",
       "            ...\n",
       "            19809, 19810, 19811, 19812, 19813, 19814, 19815, 19816, 19818,\n",
       "            19819],\n",
       "           dtype='int64', length=3389)"
      ]
     },
     "execution_count": 31,
     "metadata": {},
     "output_type": "execute_result"
    }
   ],
   "source": [
    "df_from_xlsx_total[df_from_xlsx_total['MOOP_LIMIT'] == 'NO_ASIGNADO'].index"
   ]
  },
  {
   "cell_type": "code",
   "execution_count": 32,
   "metadata": {},
   "outputs": [
    {
     "data": {
      "text/plain": [
       "STATE           0\n",
       "COUNTY          0\n",
       "ORGANIZATION    0\n",
       "PLAN_NAME       0\n",
       "GENERIC_TYPE    0\n",
       "MCP             0\n",
       "CONTRACT_ID     0\n",
       "PLAN_ID         0\n",
       "SEGMENT_ID      0\n",
       "MOOP_LIMIT      0\n",
       "RATING          0\n",
       "dtype: int64"
      ]
     },
     "execution_count": 32,
     "metadata": {},
     "output_type": "execute_result"
    }
   ],
   "source": [
    "# Check NULL values\n",
    "df_from_xlsx_total.isnull().sum()"
   ]
  },
  {
   "cell_type": "code",
   "execution_count": 33,
   "metadata": {},
   "outputs": [
    {
     "data": {
      "text/plain": [
       "STATE           0\n",
       "COUNTY          0\n",
       "ORGANIZATION    0\n",
       "PLAN_NAME       0\n",
       "GENERIC_TYPE    0\n",
       "MCP             0\n",
       "CONTRACT_ID     0\n",
       "PLAN_ID         0\n",
       "SEGMENT_ID      0\n",
       "MOOP_LIMIT      0\n",
       "RATING          0\n",
       "dtype: int64"
      ]
     },
     "execution_count": 33,
     "metadata": {},
     "output_type": "execute_result"
    }
   ],
   "source": [
    "# Check NULL values\n",
    "df_from_xlsx_total.isna().sum()"
   ]
  },
  {
   "cell_type": "code",
   "execution_count": 34,
   "metadata": {},
   "outputs": [
    {
     "data": {
      "text/plain": [
       "array(['Alabama', 'Arizona', 'Arkansas', 'California', 'Colorado',\n",
       "       'Connecticut', 'Delaware', 'Florida', 'Georgia', 'Hawaii', 'Idaho',\n",
       "       'Illinois', 'Indiana', 'Iowa', 'Kansas', 'Kentucky', 'Louisiana',\n",
       "       'Maine', 'Maryland', 'Massachusetts', 'Michigan', 'Minnesota',\n",
       "       'Mississippi', 'Missouri', 'Montana', 'Nebraska', 'Nevada',\n",
       "       'New Hampshire', 'New Jersey', 'New Mexico', 'New York',\n",
       "       'North Carolina', 'North Dakota', 'Ohio', 'Oklahoma', 'Oregon',\n",
       "       'Pennsylvania', 'Puerto Rico', 'Rhode Island', 'South Carolina',\n",
       "       'South Dakota', 'Tennessee', 'Texas', 'Utah', 'Vermont',\n",
       "       'Virginia', 'Washington', 'Washington D.C.', 'West Virginia',\n",
       "       'Wisconsin', 'Wyoming'], dtype=object)"
      ]
     },
     "execution_count": 34,
     "metadata": {},
     "output_type": "execute_result"
    }
   ],
   "source": [
    "df_from_xlsx_total['STATE'].unique()"
   ]
  },
  {
   "cell_type": "code",
   "execution_count": 35,
   "metadata": {},
   "outputs": [
    {
     "data": {
      "text/plain": [
       "array(['Autauga', 'Baldwin', 'Barbour', ..., 'Weston', 'LaSalle',\n",
       "       'Oglala Lakota'], dtype=object)"
      ]
     },
     "execution_count": 35,
     "metadata": {},
     "output_type": "execute_result"
    }
   ],
   "source": [
    "df_from_xlsx_total['COUNTY'].unique()"
   ]
  },
  {
   "cell_type": "code",
   "execution_count": 36,
   "metadata": {},
   "outputs": [
    {
     "data": {
      "text/plain": [
       "array(['UnitedHealthcare', 'Blue Cross and Blue Shield of Alabama',\n",
       "       'Healthspring of Alabama, Inc.', 'Humana Insurance Company',\n",
       "       'VIVA Medicare Plus', 'Humana Health Plan, Inc.',\n",
       "       'Windsor Medicare Extra',\n",
       "       'UNIVERSAL HEALTH CARE INSURANCE COMPANY, INC.',\n",
       "       'Universal American Corp.', 'Health Net of Arizona, Inc.',\n",
       "       'Abrazo Advantage Health Plan', 'Aetna Medicare',\n",
       "       'Universal Health Care Insurance Company, Inc.',\n",
       "       'CareMore Health Plan of Arizona, Inc.',\n",
       "       'CIGNA HealthCare of Arizona', 'Banner MediSun',\n",
       "       'SCAN Health Plan Arizona', 'Desert Canyon Community Care',\n",
       "       'ARKANSAS BLUE CROSS AND BLUE SHIELD', 'Care Improvement Plus',\n",
       "       'COVENTRY HEALTH CARE', 'Coventry Health Care',\n",
       "       'Arcadian Health Plan', 'Sterling Life Insurance Company',\n",
       "       'Anthem Blue Cross', 'Health Net of California',\n",
       "       'Kaiser Permanente Senior Advantage',\n",
       "       'Health Net Life Insurance Company', 'SCAN Health Plan',\n",
       "       'Humana Health Plan of California, Inc.', 'Brand New Day',\n",
       "       'GEMCARE Health Plan', 'MD Care Healthplan',\n",
       "       'Blue Shield of California', 'Care1st Medicare Advantage Plan',\n",
       "       'CareMore Health Plan', 'Central Health Medicare Plan',\n",
       "       'Citizens Choice Healthplan', 'Easy Choice Health Plan',\n",
       "       'Golden State Medicare Health Plan, Golden (HMO)',\n",
       "       'Inter Valley Health Plan', 'Molina Healthcare of California',\n",
       "       'Chinese Community Health Plan', 'Rocky Mountain Health Plans',\n",
       "       'Anthem Blue Cross and Blue Shield', 'Colorado Access Advantage',\n",
       "       'Colorado Choice Health Plans', 'Denver Health Medical Plan',\n",
       "       'ConnectiCare, Inc.', 'WellCare', 'Bravo Health',\n",
       "       'Blue Cross and Blue Shield of Florida, Inc.',\n",
       "       'Universal Health Care, Inc.', 'Humana Medical Plan, Inc.',\n",
       "       'Quality Health Plans', 'CarePlus Health Plans, Inc.',\n",
       "       'Citrus Health Care, Inc.', 'Freedom Health, Inc.',\n",
       "       'Health First Medicare Plans', 'Optimum HealthCare, Inc.', 'PUP',\n",
       "       'AvMed Medicare',\n",
       "       'Health Options, Inc / Blue Cross Blue Shield of F',\n",
       "       'Coventry Summit Health Plan', 'Coventry Health Plan of Florida',\n",
       "       'Coventry Health Care of Florida',\n",
       "       'Humana Health Insurance Company of FL, Inc.',\n",
       "       'Medica HealthCare Plans, Inc.', 'HealthSun Health Plans, Inc.',\n",
       "       'Molina Healthcare of Florida', 'Preferred Care Partners, Inc.',\n",
       "       'Capital Health Plan', 'Humana AdvantageCare Plan, Inc.',\n",
       "       'HealthSpring of Florida, Inc.', 'Florida Health Care Plan, Inc.',\n",
       "       'Simply Healthcare Plans, Inc.', 'FLORIDA HEALTHCARE PLUS',\n",
       "       'JMH Health Plan', 'Blue Cross Blue Shield of Georgia',\n",
       "       \"AMERICA'S 1ST CHOICE HEALTH PLANS, INC.\",\n",
       "       'Southeast Community Care',\n",
       "       'Blue Cross Blue Shield Healthcare Plan of Georgia',\n",
       "       'HealthSpring Life & Health',\n",
       "       'Humana Employers Health Plan of Georgia, Inc.',\n",
       "       'Amerigroup Community Care', \"HMSA's 65C Plus\",\n",
       "       'Akamai Advantage by HMSA', 'AlohaCare', \"'Ohana Health Plan\",\n",
       "       'PacificSource Medicare', 'Regence BlueShield Of Idaho',\n",
       "       'Blue Cross of Idaho', 'Health Alliance Medical Plans',\n",
       "       'PersonalCare', 'Humana Benefit Plan of Illinois, Inc.',\n",
       "       'Group Health Plan, Inc.', 'HealthSpring, Inc.',\n",
       "       'Medical Associates Health Plan, Inc.', 'Essence Healthcare',\n",
       "       'ADVANTAGE Health Solutions, Inc.',\n",
       "       'Indiana University Health Plans - Medicare',\n",
       "       'Welborn Health Plans',\n",
       "       'Wellmark Blue Cross and Blue Shield of Iowa',\n",
       "       'Gundersen Lutheran Health Plan, Inc.',\n",
       "       'Humana Health Plan of Ohio, Inc.', 'Arcadian Community Care',\n",
       "       'Humana Health Benefit Plan of Louisiana, Inc.', 'Peoples Health',\n",
       "       'Humana Health Benefit Plan of LA, Inc.',\n",
       "       'Vantage Health Plan, Inc.',\n",
       "       \"Martin's Point Generations Advantage\", 'Northeast Community Care',\n",
       "       'Kaiser Permanente Medicare Plus',\n",
       "       'Blue Cross Blue Shield of Massachusetts',\n",
       "       'Tufts Health Plan Medicare Preferred',\n",
       "       'Fallon Community Health Plan', 'Health New England, Inc.',\n",
       "       'Blue Cross Blue Shield of Michigan', 'Blue Care Network',\n",
       "       'Priority Health Medicare', 'HealthPlus of Michigan', 'HealthPlus',\n",
       "       'Alliance Medicare PPO', 'HAP Senior Plus', 'Paramount Elite',\n",
       "       'Molina Healthcare of Michigan', 'HealthPartners',\n",
       "       'Medica Insurance Company',\n",
       "       'Blue Cross and Blue Shield of Minnesota', 'UCare',\n",
       "       'Medica Health Plans', 'HealthSpring',\n",
       "       'Blue Cross and Blue Shield of Montana',\n",
       "       'New West Health Services',\n",
       "       'Blue Cross and Blue Shield of Nebraska', 'Senior Care Plus',\n",
       "       'Sierra Health and Life Insurance Company, Inc.',\n",
       "       'CareMore Health Plan of Nevada',\n",
       "       'Universal Health Care of Nevada, Inc.',\n",
       "       'Health Plan of Nevada, Inc.',\n",
       "       'SecureHorizons by UnitedHealthcare',\n",
       "       'Horizon Blue Cross Blue Shield of New Jersey, Inc',\n",
       "       'Healthfirst NJ Medicare Plan', 'AmeriHealth 65',\n",
       "       'Amerigroup Community Care of New Mexico',\n",
       "       'Lovelace Medicare Plan', 'Molina Healthcare of New Mexico, Inc.',\n",
       "       'Presbyterian MediCare PPO', 'Presbyterian Senior Care (HMO)',\n",
       "       'ActiveSaver MSA or BlueSaver MSA',\n",
       "       'BlueCross BlueShield of WNY or BlueShield of NENY',\n",
       "       'BlueCross BlueShield of WNY and BlueShield of NEN',\n",
       "       'CDPHP Medicare Choices', 'Empire BlueCross BlueShield',\n",
       "       'Fidelis Care', 'MVP HEALTH CARE',\n",
       "       'Humana Insurance Company of New York', 'Independent Health',\n",
       "       'Excellus Health Plan, Inc', 'Access Medicare',\n",
       "       'EASY CHOICE HEALTH PLAN OF NEW YORK', 'Elderplan',\n",
       "       'Health Plus Elite', 'Healthfirst Medicare Plan',\n",
       "       'Liberty Health Advantage', 'MetroPlus Health Plan',\n",
       "       'EmblemHealth Medicare PPO', 'Touchstone Health',\n",
       "       'EmblemHealth Medicare HMO', 'VNSNY CHOICE Medicare',\n",
       "       'Excellus BlueCross BlueShield', 'QUALITY HEALTH PLANS',\n",
       "       'Blue Cross and Blue Shield of North Carolina',\n",
       "       \"AMERICA'S 1ST CHOICE INSURANCE COMPANY OF NC, INC\",\n",
       "       \"America's 1st Choice Insurance Company of NC\",\n",
       "       'Blue Cross Blue Shield of North Dakota', 'The Health Plan',\n",
       "       'Health Plan SecureChoice', 'SummaCare Secure', 'UPMC Health Plan',\n",
       "       'Molina Healthcare of Ohio', 'PrimeTime Health Plan', 'MediGold',\n",
       "       'HealthAmerica', 'CommunityCare Senior Health Plan (HMO)',\n",
       "       'ODS Health Plan, Inc.', 'Health Net Medicare Advantage',\n",
       "       'Regence BlueCross BlueShield of Oregon',\n",
       "       'Samaritan Advantage Health Plan', 'CareOregon Advantage',\n",
       "       'FamilyCare Health Plans, Inc.', 'Providence Health Plans',\n",
       "       'ATRIO Health Plans', 'CareSource', 'Trillium Advantage',\n",
       "       'Marion Polk Community Health Plan Advantage, Inc.',\n",
       "       'Highmark Inc.', 'Geisinger Gold',\n",
       "       'Capital Advantage Insurance Company',\n",
       "       'Keystone Health Plan West, Inc.',\n",
       "       'Keystone Health Plan Central, Inc.', 'Keystone 65',\n",
       "       'Personal Choice 65', 'American Health Medicare',\n",
       "       'Preferred Medicare Choice, Inc.',\n",
       "       'First Medical Health Plan, Inc.',\n",
       "       'HUMANA HEALTH PLANS OF PUERTO RICO, INC.',\n",
       "       'Humana Insurance of Puerto Rico, Inc.',\n",
       "       'MAPFRE LIFE INSURANCE COMPANY', 'MCS Classicare',\n",
       "       'Medicare y Mucho Más', 'Triple-S Salud, Inc.',\n",
       "       'Triple-S Salud, INC.', 'Blue Cross & Blue Shield of Rhode Island',\n",
       "       'Blue Cross Blue Shield of South Carolina',\n",
       "       \"America's 1st Choice Health Plans, Inc.\",\n",
       "       \"America's 1st Choice Health Plans\",\n",
       "       'Wellmark Blue Cross Blue Shield of South Dakota',\n",
       "       'BlueCross BlueShield of Tennessee', 'Cariten Health Plan, Inc.',\n",
       "       'Scott and White Health Plan SeniorCare', 'Texas Community Care',\n",
       "       'HUMANA HEALTH PLAN OF TEXAS, INC.', 'PHYSICIANS HEALTH CHOICE',\n",
       "       'Molina Healthcare of Texas, Inc.', 'Universal HMO of Texas, Inc.',\n",
       "       'HealthSpring Medicare Advantage PPO', 'FirstCare Advantage',\n",
       "       'KelseyCare Advantage', \"Care N' Care Health Plan\",\n",
       "       'Altius Health Plans', 'Molina Healthcare of Utah',\n",
       "       'Regence BlueCross BlueShield of Utah',\n",
       "       'Humana Medical Plan of Utah, Inc.', 'Piedmont Medicare Advantage',\n",
       "       'Carilion Clinic Medicare Health Plan',\n",
       "       'Community HealthFirst Medicare Advantage Plan',\n",
       "       'Asuris Northwest Health', 'Group Health Options, Inc.',\n",
       "       'Soundpath Health', 'Regence BlueShield',\n",
       "       'Group Health Cooperative',\n",
       "       'Molina Healthcare of Washington, Inc.',\n",
       "       'Highmark Health Insurance Company', 'Advocare',\n",
       "       'Humana WisconsinHealth Organization Insurance Cor',\n",
       "       'Network Platinum Medicare Advantage Plans',\n",
       "       'Dean Health Plan, Inc.',\n",
       "       'Medical Associates Clinic Health Plan of Wisconsi',\n",
       "       'MercyCare Health Plans', 'Blue Cross Blue Shield of Wyoming',\n",
       "       'Blue Cross Blue Shield of Arizona Advantage',\n",
       "       'Cigna HealthCare of Arizona',\n",
       "       'Arkansas Community Care/ Texarkana Community Care',\n",
       "       'Kaiser Permanente',\n",
       "       'Anthem Blue Cross Life and Health Insurance Co.',\n",
       "       'Arcadian Health Plan, Inc.', 'Denver Health Medical Plan, Inc.',\n",
       "       'Erickson Advantage', 'Florida Blue', 'Florida Blue HMO',\n",
       "       'Health First Health Plans', 'Physicians United Plan',\n",
       "       'Ultimate Health Plans', 'Preferred Medical Plan', 'CHA HMO, Inc.',\n",
       "       'SelectHealth', 'Coventry Health Care of Illinois, Inc.',\n",
       "       'Coventry Health Care of Missouri, Inc.',\n",
       "       'Blue Cross Blue Shield of IL, NM',\n",
       "       'Fallon Senior Plan or NaviCare', 'HNE Medicare Advantage Plans',\n",
       "       'Humana Medical Plan of Michigan, Inc.', 'Blue Plus',\n",
       "       'Gundersen Lutheran Health Plan Minnesota',\n",
       "       'Horizon Blue Cross Blue Shield of New Jersey, Inc.',\n",
       "       'CarePoint Health Plans',\n",
       "       'Horizon Blue Cross Blue Shield of New Jersey',\n",
       "       'BCBS of WNY/BS of NENY/HealthNow New York Inc.',\n",
       "       'HealthPlus Amerigroup', 'Arcadian Health Plan of New York, Inc.',\n",
       "       \"AMERICA'S 1ST CHOICE INSURANCE COMPANY OF NC, INC.\",\n",
       "       'FirstCarolinaCare Insurance Company', 'GLOBALHEALTH MEDICARE',\n",
       "       'Health Net Health Plan of Oregon, Inc.', 'Highmark, Inc.',\n",
       "       'CrestPoint Health Insurance Company',\n",
       "       'Blue Cross Blue Shield of Texas', 'Anthem HealthKeepers',\n",
       "       'MedStar Family Choice, Inc',\n",
       "       'Security Health Plan of Wisconsin, Inc.',\n",
       "       'Humana WisconsinHealth Organization Insurance Corp',\n",
       "       'Network Health Medicare Advantage Plans',\n",
       "       'Medical Associates Clinic Health Plan of Wisconsin',\n",
       "       'Blue Advantage (PPO)', 'Cigna-HealthSpring', 'VIVA Medicare',\n",
       "       'Health Advantage', 'Care1st Health Plan',\n",
       "       'Golden State Medicare Health Plan', 'Aspire Health Plan',\n",
       "       'Health First Health Plans, Inc.', 'Amerigroup',\n",
       "       'BeHealthy America Inc', 'Piedmont WellStar HealthPlans',\n",
       "       'Regence Blue Shield of Idaho',\n",
       "       'Community Care Alliance of Illinois, NFP', 'Meridian Health Plan',\n",
       "       'Gundersen Health Plan, Inc.', 'Health Alliance Medicare',\n",
       "       'AmeriHealth Caritas VIP Plans',\n",
       "       'Coventry Health Care of Louisiana, Inc.',\n",
       "       'HUMANA HEALTH BENEFIT PLAN OF LOUISIANA, INC.',\n",
       "       'Harvard Pilgrim Health Care, Inc.',\n",
       "       'Tufts Health Plan or Tufts Medicare Preferred',\n",
       "       'Upper Peninsula Health Plan', 'McLarenAdvantage',\n",
       "       'Fidelis SecureCare Of Michigan',\n",
       "       'Gundersen Health Plan Minnesota',\n",
       "       'Harvard Pilgrim Health Care of New England, Inc.',\n",
       "       'AmeriHealth 65 Preferred HMO',\n",
       "       'Blue Cross and Blue Shield of NM, OK',\n",
       "       'Humana Health Company of New York, Inc.', 'Amida Care',\n",
       "       'CPHL Advantage Care', 'AlphaCare of New York, Inc.',\n",
       "       'Cigna-Healthspring', 'SummaCare Medicare Advantage Plans',\n",
       "       'Gateway Health  Medicare Assured', 'Blue Cross Blue Shield of OK',\n",
       "       'Humana Regional Health Plan, Inc.', 'MODA Health Plan, Inc.',\n",
       "       'Regence BlueCross Blueshield of Oregon',\n",
       "       'Highmark Health Services', 'Personal Choice 65 PPO',\n",
       "       'Keystone 65 HMO', 'Humana Medical Plan of Pennsylvania, Inc.',\n",
       "       'Health Partners Medicare', 'Constellation Health',\n",
       "       'BlueChoice Tennessee', 'Coventry Health Care of Texas, Inc.',\n",
       "       'Valley Baptist Health Plans', 'Care N’ Care Insurance Company',\n",
       "       'Vital Traditions', 'Optima Health Plan', 'AMERIGROUP',\n",
       "       'Premera Blue Cross Medicare Advantage',\n",
       "       'Coventry Health Care of West Virginia', 'Phoenix Health Plans',\n",
       "       'Cigna', 'Citizens Choice Health Plan', 'North County Select',\n",
       "       'University Health Care Advantage',\n",
       "       'Humana Health Insurance Company of Florida, Inc.',\n",
       "       'BeHealthy America, Inc.', 'Regence BlueShield of Idaho',\n",
       "       'Blue Cross and Blue Shield of IL, NM, OK',\n",
       "       'Gateway Health Medicare Assured', 'RiverLink Health',\n",
       "       'StableView Health', 'Fallon Health', 'Harbor Advantage',\n",
       "       'Humana WI Health Organization Insurance Corp',\n",
       "       'HeartlandPlains Health', 'Prominence Health Plan',\n",
       "       'Lovelace Medicare Plan provided by BCBSNM',\n",
       "       'CHRISTUS Health Plan Generations', 'AgeWell New York',\n",
       "       'Affinity Health Plan', 'Centers Plan for Healthy Living',\n",
       "       'HealthSpan', 'Premier Health Plan', 'Moda Health Plan, Inc.',\n",
       "       'Medicare y Mucho M‡s', 'PMC Medicare Choice',\n",
       "       'Triple S Advantage', \"America's 1st Choice of South Carolina\",\n",
       "       'Cariten Health Plan Inc.', 'ClearRiver Health',\n",
       "       'Allegian Advantage', 'Blue Cross and Blue Shield of TX',\n",
       "       'Care NÕ Care Insurance Company',\n",
       "       'Memorial Hermann Health Insurance Company',\n",
       "       'Memorial Hermann Health Plan, Inc.',\n",
       "       \"Care N' Care Insurance Company\", 'QualChoice Advantage',\n",
       "       'HEALTH NET COMMUNITY SOLUTIONS, INC.', 'Alignment Health Plan',\n",
       "       'Stanford Health Care Advantage', 'Eden Health Plans, Inc.',\n",
       "       'Florida Health Care Plans', 'Florida Blue Preferred HMO',\n",
       "       'Blue Cross Blue Shield of IL, MT, NM', 'HarvestPlains Health',\n",
       "       'Blue Cross and Blue Shield of Kansas City (Blue K',\n",
       "       'Baptist Health Plan', 'HMO Louisiana', 'Johns Hopkins',\n",
       "       'University of Maryland Health Advantage', 'McLaren Advantage',\n",
       "       'Harbor Medicare Plans', 'EssentiaCare', 'CLOVER HEALTH',\n",
       "       \"Today's Options of New York, Inc.\", 'HealthTeam Advantage',\n",
       "       'Medical Mutual of Ohio', 'Generations Healthcare',\n",
       "       'Blue Cross Blue Shield of Oklahoma', 'Advantage Medicare Plan',\n",
       "       'AllCare Advantage', 'Highmark Senior Health Company',\n",
       "       'Highmark Choice Company', 'First +Plus', 'Triple-S Advantage',\n",
       "       'Blue Cross and Blue Shield of Texas', 'Allegian Health Plans',\n",
       "       'Optima Medicare', 'Highmark Senior Solutions Company',\n",
       "       'Dean Advantage', 'Sharp Advantage',\n",
       "       'Health New England Medicare Advantage Plans',\n",
       "       'Sunshine Health Medicare Advantage', 'Eon Health',\n",
       "       'Peach State Health Plan', 'HMSA Akamai Advantage', 'MeridianCare',\n",
       "       'HealthPartners UnityPoint Health', 'Senior Preferred',\n",
       "       'WellCare Health Plan', 'Johns Hopkins HealthCare LLC',\n",
       "       'Tufts Health Plan', 'McLaren Advantage (HMO)',\n",
       "       'Magnolia Health Plan Medicare Advantage',\n",
       "       'Blue Cross Blue Shield of New Mexico', 'FirstMedicare Direct',\n",
       "       'Sanford Heart of America Health Plan', 'GlobalHealth',\n",
       "       'CommunityCare Advantage Medicare Plan (HMO)', 'FamilyCare Health',\n",
       "       'Providence Health Assurance', 'Trillium Medicare Advantage',\n",
       "       'HealthAmerica Pennsylvania, Inc.', 'Vibra Health Plan',\n",
       "       'Provider Partners Pennsylvania Advantage Plan',\n",
       "       'SeniorCare (Cost)', 'Superior HealthPlan Medicare Advantage',\n",
       "       'Vital Traditions (HMO HMO-POS)', 'Memorial Hermann Health Plan',\n",
       "       'Bright Health', 'Allwell', 'Superior Select Health Plans',\n",
       "       'Golden State', 'Imperial Health Plan of California, Inc.',\n",
       "       'Sharp Health Plan', 'Friday Health Plans of Colorado',\n",
       "       'Essential Advantage', 'Sunrise Advantage Plan',\n",
       "       'Universal American, A WellCare Company',\n",
       "       'Johns Hopkins HealthCare', 'HAP Senior Plus (PPO)',\n",
       "       'Blue Cross Blue Shield of Minnesota', 'Presbyterian Health Plan',\n",
       "       'Presbyterian Insurance Company, Inc.',\n",
       "       'HealthAmerica Pennsylvania', 'CMC Care Advantege',\n",
       "       'Medicare y Mucho MÃ¡s', 'Baylor Scott & White Health Plan',\n",
       "       'Care Nâ€™ Care Insurance Company', 'Innovation Health',\n",
       "       'Virginia Premier', 'Molina Healthcare of Virginia',\n",
       "       'Health Alliance Northwest',\n",
       "       'Kaiser Foundation Health Plan of Washington', 'Humana',\n",
       "       'Lasso Healthcare', 'Clover Health',\n",
       "       'Blue Shield of California Promise Health Plan',\n",
       "       'Vitality Health Plan of California', 'Clear Spring Health',\n",
       "       'ConnectiCare', 'CarePartners of Connecticut',\n",
       "       'Solis Health Plans', 'Devoted Health', 'MMM of Florida, Inc.',\n",
       "       'BayCare Health Plans', 'Doctors HealthCare Plans, Inc.',\n",
       "       'AETNA HEALTH INC. (GA)', 'Blue Cross and Blue Shield of IL, NM',\n",
       "       'Sunrise Advantage Plan (HMO SNP)',\n",
       "       'Mutual of Omaha Medicare Advantage Company',\n",
       "       'Blue Cross and Blue Shield of Louisiana',\n",
       "       'Allina Health Aetna Medicare',\n",
       "       'Blue Cross and Blue Shield of New Mexico',\n",
       "       'CDPHP Medicare Advantage', 'Fidelis Legacy Plan',\n",
       "       \"CARE N' CARE INSURANCE COMPANY OF NORTH CAROLINA\",\n",
       "       'UPMC for Life', 'Blue Cross and Blue Shield of OK', 'WELLCARE',\n",
       "       'Scott and White Health Plan',\n",
       "       'Imperial Insurance Company of Texas, Inc',\n",
       "       'Innovation Health Medicare',\n",
       "       'Dean Advantage, Prevea360 Medicare Advantage'], dtype=object)"
      ]
     },
     "execution_count": 36,
     "metadata": {},
     "output_type": "execute_result"
    }
   ],
   "source": [
    "df_from_xlsx_total['ORGANIZATION'].unique()"
   ]
  },
  {
   "cell_type": "code",
   "execution_count": 37,
   "metadata": {},
   "outputs": [
    {
     "data": {
      "text/plain": [
       "array(['AARP MedicareComplete Plan 1 (HMO)',\n",
       "       'Blue Advantage Complete (PPO)', 'Blue Advantage Premier (PPO)',\n",
       "       ..., 'Dean Advantage Complete (HMO)',\n",
       "       'HumanaChoice H5216-168 (PPO)',\n",
       "       'Network Health Medicare Explore (HMO)'], dtype=object)"
      ]
     },
     "execution_count": 37,
     "metadata": {},
     "output_type": "execute_result"
    }
   ],
   "source": [
    "df_from_xlsx_total['PLAN_NAME'].unique()"
   ]
  },
  {
   "cell_type": "code",
   "execution_count": 38,
   "metadata": {},
   "outputs": [
    {
     "data": {
      "text/plain": [
       "array(['H0151', 'H0104', 'H0150', 'H8145', 'H1681', 'R5826', 'H0154',\n",
       "       'H2012', 'H5698', 'H5214', 'H5820', 'H5421', 'H5435', 'H0316',\n",
       "       'H0351', 'H0307', 'H0317', 'H0303', 'H5985', 'H0318', 'H8098',\n",
       "       'H2593', 'H0354', 'H0302', 'H9385', 'H0320', 'H5096', 'H4213',\n",
       "       'R3444', 'H6528', 'H7188', 'H0401', 'H5509', 'H2611', 'H2672',\n",
       "       'H5700', 'H6169', 'H2944', 'H5006', 'H4408', 'H5378', 'H4520',\n",
       "       'H8091', 'H0543', 'H8552', 'H0562', 'H0524', 'H5439', 'H5425',\n",
       "       'H0523', 'H0108', 'H0564', 'H0838', 'H5609', 'H7731', 'H0504',\n",
       "       'H5928', 'H0544', 'H5649', 'H3815', 'H5087', 'H2241', 'H0545',\n",
       "       'H5810', 'H0571', 'H5811', 'H5416', 'H0609', 'H0602', 'H6923',\n",
       "       'H5521', 'H2997', 'H0621', 'H5291', 'H0623', 'H0630', 'H5679',\n",
       "       'H0657', 'H3410', 'H5608', 'R7444', 'H5793', 'H2836', 'H5854',\n",
       "       'H3528', 'H0755', 'H0712', 'H0752', 'H2108', 'H5813', 'H8684',\n",
       "       'R5287', 'H5434', 'R3332', 'H5404', 'H1036', 'H1032', 'H5402',\n",
       "       'H1080', 'H1019', 'H5407', 'H5427', 'H1099', 'H5429', 'H5594',\n",
       "       'H5696', 'H9011', 'H5414', 'H1016', 'H1026', 'H5850', 'H1013',\n",
       "       'H1076', 'H5415', 'H5420', 'H5431', 'H8130', 'H1045', 'H5938',\n",
       "       'H5532', 'H5426', 'H5410', 'H1035', 'H5471', 'H4199', 'H4155',\n",
       "       'R9896', 'H9947', 'H9720', 'H9988', 'H5578', 'H5302', 'H5422',\n",
       "       'H2165', 'H4141', 'H2182', 'H4211', 'H1112', 'H1111', 'H1109',\n",
       "       'H1170', 'H1110', 'H1251', 'R7439', 'H5969', 'H1230', 'H2491',\n",
       "       'R3175', 'H5424', 'H3832', 'H0248', 'H1303', 'H6609', 'H3864',\n",
       "       'H4754', 'H1304', 'H1302', 'H1350', 'H8558', 'H1417', 'H1418',\n",
       "       'H7301', 'H3144', 'H1406', 'H5525', 'H0084', 'H4456', 'H1463',\n",
       "       'H2663', 'H1416', 'H3887', 'H1419', 'H1415', 'H2654', 'H1651',\n",
       "       'H1468', 'H5507', 'H2610', 'H1716', 'H5162', 'H1509', 'R5941',\n",
       "       'H1510', 'H5508', 'H1607', 'H7220', 'H1806', 'H3619', 'H3044',\n",
       "       'H8822', 'H5656', 'H5868', 'R5566', 'H5262', 'H1608', 'H1609',\n",
       "       'H2803', 'H2802', 'H2649', 'H5749', 'H1717', 'H5530', 'H3659',\n",
       "       'H1849', 'H8953', 'H5041', 'H7179', 'H1903', 'H1951', 'H1961',\n",
       "       'H1906', 'H5576', 'H7002', 'H4785', 'H5591', 'H1365', 'H5619',\n",
       "       'H2775', 'H2816', 'H3597', 'H3333', 'H2112', 'H9184', 'H2150',\n",
       "       'H2261', 'H2230', 'H2256', 'H9001', 'H8578', 'H1944', 'H9572',\n",
       "       'H5883', 'H5470', 'H2320', 'H4875', 'H4971', 'H2354', 'H1595',\n",
       "       'H2322', 'H2312', 'H3653', 'H5926', 'H2462', 'H2450', 'H2461',\n",
       "       'H2459', 'H3283', 'H1804', 'H4956', 'H4407', 'H1517', 'H2667',\n",
       "       'H1216', 'H2701', 'H7149', 'H8393', 'H2906', 'R5674', 'H7908',\n",
       "       'H4346', 'H2949', 'H9503', 'H6705', 'H2931', 'H7949', 'H2960',\n",
       "       'H3152', 'H7281', 'H3154', 'H3107', 'H3240', 'H7015', 'H3156',\n",
       "       'H0913', 'H5746', 'H3028', 'H6411', 'H3251', 'H9082', 'H3206',\n",
       "       'H3204', 'H4522', 'H9788', 'H5526', 'H3384', 'H3388', 'H5042',\n",
       "       'H3370', 'H3342', 'H3328', 'H9615', 'H9859', 'R5342', 'H3361',\n",
       "       'H1291', 'H5970', 'H3362', 'H3344', 'H3351', 'H3335', 'H3307',\n",
       "       'H3379', 'H4866', 'H3312', 'H6181', 'H9285', 'H3347', 'H6264',\n",
       "       'H3359', 'H3337', 'H0423', 'H5528', 'H3327', 'H3330', 'H5549',\n",
       "       'H3346', 'H3305', 'H3356', 'H3533', 'H1537', 'H2773', 'H5516',\n",
       "       'H3456', 'H9847', 'H3449', 'H3404', 'H3405', 'H0979', 'H2899',\n",
       "       'H6881', 'H4268', 'H2410', 'H5529', 'H3655', 'H3672', 'H8604',\n",
       "       'H3660', 'H5151', 'H9670', 'H0490', 'H0117', 'H3664', 'H3620',\n",
       "       'H3668', 'H1846', 'H8980', 'H3623', 'H6360', 'H4125', 'H3749',\n",
       "       'H3706', 'H8644', 'H3755', 'H6801', 'H5832', 'H3813', 'H3805',\n",
       "       'H5520', 'H9003', 'H3817', 'H3811', 'H3812', 'H5859', 'H6815',\n",
       "       'H3818', 'H9047', 'H5016', 'H6743', 'H3810', 'H2174', 'H7006',\n",
       "       'H5522', 'H3959', 'H3916', 'H3954', 'H3924', 'H8468', 'H6900',\n",
       "       'H3923', 'H3920', 'H3949', 'H3957', 'H3907', 'H5533', 'H3931',\n",
       "       'H3962', 'H3964', 'H3952', 'H3909', 'H3921', 'H5774', 'H4004',\n",
       "       'H5887', 'H4011', 'H4007', 'H2029', 'H5821', 'H4006', 'H5577',\n",
       "       'H4003', 'H4005', 'H5732', 'H4012', 'H4102', 'H4152', 'H4209',\n",
       "       'H5783', 'H8707', 'H8748', 'H4738', 'H3421', 'H7917', 'H4461',\n",
       "       'H4454', 'H5884', 'H4406', 'H5950', 'H7200', 'R6801', 'H4564',\n",
       "       'H4529', 'H4513', 'H4510', 'H4527', 'H4590', 'H4514', 'H4506',\n",
       "       'H7306', 'H4523', 'H4524', 'H5817', 'H4528', 'H7678', 'H6642',\n",
       "       'H1264', 'H7787', 'H1355', 'H4525', 'H0332', 'H6328', 'H4606',\n",
       "       'H4604', 'H8649', 'H5628', 'H4605', 'H2486', 'H2905', 'H4909',\n",
       "       'H4910', 'H2542', 'H1659', 'H8050', 'H7187', 'H5826', 'H5010',\n",
       "       'H2810', 'H9302', 'H5009', 'H5005', 'H5050', 'H1837', 'H5823',\n",
       "       'H1286', 'H0901', 'H5106', 'H5211', 'H5216', 'H4270', 'H6622',\n",
       "       'H5253', 'H4036', 'H0294', 'H5215', 'H5264', 'H5256', 'H4123',\n",
       "       'H1266', 'H6972', 'H2038', 'H4871', 'H2676', 'H5652', 'H8991',\n",
       "       'H2962', 'H3712', 'H0028', 'H1994', 'H3822', 'H9730', 'H2911',\n",
       "       'H6786', 'H2001', 'H8908', 'H2425', 'H9834', 'H7728', 'H5141',\n",
       "       'H2792', 'H9412', 'H7971', 'H3511', 'H6306', 'H8064', 'H0435',\n",
       "       'H0879', 'H7811', 'H1666', 'H3447', 'H9915', 'H9525', 'H9699',\n",
       "       'H3945', 'H8764', 'H2758', 'H9857', 'H0439', 'H8534', 'H3071',\n",
       "       'H5779', 'H9954', 'H5786', 'H1737', 'H1367', 'H3928', 'H5322',\n",
       "       'H1660', 'H8432', 'H2161', 'H0141', 'H5475', 'H2323', 'H9886',\n",
       "       'H3536', 'H6750', 'H8634', 'H6745', 'H6988', 'H9122', 'H9725',\n",
       "       'H9190', 'H3979', 'H4145', 'H0840', 'H6237', 'H6951', 'H6859',\n",
       "       'H9207', 'H4876', 'H8266', 'H7020', 'H8146', 'H5048', 'H8554',\n",
       "       'H8237', 'H9110', 'H2563', 'H3471', 'H1894', 'H1997', 'H7245',\n",
       "       'H8491', 'H1692', 'H5386', 'H2986', 'H1969', 'H2591', 'H9208',\n",
       "       'H9492', 'H7960', 'H0107', 'H3765', 'H5945', 'H1189', 'H4922',\n",
       "       'H5991', 'H6298', 'H3233', 'H8506', 'H8170', 'H0408', 'H7903',\n",
       "       'H7680', 'H8133', 'H2968', 'H7115', 'H2171', 'H6560', 'H1181',\n",
       "       'H6947', 'H3561', 'H1394', 'H0981', 'H2228', 'H9162', 'H4488',\n",
       "       'H1352', 'H9460', 'H8289', 'H1493', 'H6453', 'H3890', 'H8854',\n",
       "       'H0735', 'R6694', 'H5613', 'H6361', 'H9808', 'H6723', 'H4497',\n",
       "       'H4198', 'H7522', 'H4388', 'H9096', 'H9287', 'H9276', 'H6672',\n",
       "       'H9589', 'H7173', 'H3416', 'R5329', 'H4262', 'H9811', 'H3170',\n",
       "       'H3503', 'H6396', 'H9408', 'H5932', 'H4093', 'H2334', 'H9403',\n",
       "       'H0062', 'R7315', 'H0432', 'H8280', 'R7220', 'H4853', 'H1587',\n",
       "       'R1532', 'H3464', 'H9630', 'H5496', 'H7853', 'H4069', 'H2406',\n",
       "       'H5199', 'R3392', 'H0111', 'H7317', 'R5361', 'H8768', 'H7445',\n",
       "       'H4778', 'R0865', 'H3499', 'H6348', 'R4845', 'H6502', 'H6550',\n",
       "       'R0110', 'H5117', 'H4089', 'H1225', 'H2172', 'R3887', 'H4882',\n",
       "       'H5959', 'H6154', 'H1664', 'H6526', 'H4868', 'H3930', 'H0088',\n",
       "       'R1390', 'R5495', 'H0724', 'R0923', 'H2915', 'H4236', 'H0904',\n",
       "       'H1436', 'H7326', 'H8003', 'H7165', 'R4182', 'H2032', 'H8142',\n",
       "       'H1100', 'H2829', 'H7802', 'H9877', 'H9595', 'H0029', 'H8211',\n",
       "       'H6975', 'H1924', 'H0271', 'H5590', 'H6439', 'H2463', 'H0270',\n",
       "       'H7621', 'H1426', 'H2020', 'H5273', 'H0982', 'H1290', 'H3293',\n",
       "       'H7284', 'H2235', 'H4140', 'H9431', 'H5454', 'H1475', 'R4487',\n",
       "       'H1278', 'H0292', 'H6821', 'H1248', 'H9364', 'R0802', 'H8087',\n",
       "       'H8783', 'H0422', 'H2446', 'H3219', 'H7404', 'H8889', 'H4623',\n",
       "       'H8010', 'H2288', 'H9516', 'H1142', 'H9878', 'H9070', 'H4847',\n",
       "       'H2011', 'H1393', 'H0473', 'H2793', 'H0174', 'H5377', 'H5644'],\n",
       "      dtype=object)"
      ]
     },
     "execution_count": 38,
     "metadata": {},
     "output_type": "execute_result"
    }
   ],
   "source": [
    "df_from_xlsx_total['CONTRACT_ID'].unique()"
   ]
  },
  {
   "cell_type": "code",
   "execution_count": 39,
   "metadata": {},
   "outputs": [
    {
     "data": {
      "text/plain": [
       "array([  1,  11,  10,  12,  23,  75, 111,   5,  65,   8,   3,  51,   2,\n",
       "       152, 150, 151,  35,   9,   4,   6,  14,  26,  25,  76,  70, 209,\n",
       "        49,  67,  73,  24,  30, 103, 210,  56,  68,  74, 206,  46, 212,\n",
       "       207,  47, 213,  15,   7,  18,  36,  16,  13, 120, 122,  69,  63,\n",
       "        20,  21,  31, 197,  17,  50,  54,  32, 204, 211,  57, 215, 200,\n",
       "       184,  27,  45, 140,  33,  22, 125,  38, 142,  19, 121,  44,  79,\n",
       "        82,  86,  83,  85, 208,  48, 214,  72, 138,  89,  87,  84, 144,\n",
       "        34,  39, 146,  60,  52,  40,  37, 145,  88,  43,  42,  28,  29,\n",
       "       149, 148,  53, 147,  41,  58, 123, 116,  81,  59,  61, 131, 133,\n",
       "       143,  66, 119, 141, 174, 132,  91, 164, 173,  55,  62, 157,  64,\n",
       "        77, 114, 193, 117, 182, 190,  97, 104, 198, 124, 178, 127, 128,\n",
       "        78,  96,  98,  95,  94, 163, 165, 166, 136, 112, 171, 185, 188,\n",
       "       194, 106, 129,  99, 130, 137, 199, 183, 135,  93, 153, 100, 139,\n",
       "        71, 160, 159, 115,  80, 113, 201, 126, 107, 108, 109, 110, 220,\n",
       "       221,  90, 179, 196, 177, 180, 187, 175, 176, 186, 155, 154, 169,\n",
       "       170, 222, 158, 101, 102, 224, 218, 229, 217, 161, 223, 219,  92,\n",
       "       118, 134, 105, 181, 237, 230, 236, 233, 156, 162, 203, 167, 270,\n",
       "       271, 266, 268, 265, 264, 269, 267, 274, 263, 168, 195, 227, 216,\n",
       "       205, 172, 250, 262, 189, 191, 192, 278, 277, 257, 258, 228, 231,\n",
       "       226, 260, 259, 234, 235, 232, 225, 241, 275, 239, 243, 261, 252,\n",
       "       253, 247, 251, 249, 245, 254, 202, 240, 246, 248, 244, 242])"
      ]
     },
     "execution_count": 39,
     "metadata": {},
     "output_type": "execute_result"
    }
   ],
   "source": [
    "df_from_xlsx_total['PLAN_ID'].unique()"
   ]
  },
  {
   "cell_type": "code",
   "execution_count": 40,
   "metadata": {},
   "outputs": [
    {
     "data": {
      "text/plain": [
       "array([ 0,  5,  3,  6,  1,  4,  2,  9,  7, 10, 11,  8, 12, 13, 14, 15, 16,\n",
       "       17, 18, 19, 20, 21, 22, 23, 24])"
      ]
     },
     "execution_count": 40,
     "metadata": {},
     "output_type": "execute_result"
    }
   ],
   "source": [
    "df_from_xlsx_total['SEGMENT_ID'].unique()"
   ]
  },
  {
   "cell_type": "code",
   "execution_count": 41,
   "metadata": {},
   "outputs": [
    {
     "data": {
      "text/plain": [
       "array(['Local HMO', 'Local PPO', 'Local HMO *', 'PFFS', 'PFFS *',\n",
       "       'Regional PPO', 'Regional PPO *', 'Local PPO *', 'Cost *', 'Cost',\n",
       "       'MSA *', 'NO_ASIGNADO'], dtype=object)"
      ]
     },
     "execution_count": 41,
     "metadata": {},
     "output_type": "execute_result"
    }
   ],
   "source": [
    "df_from_xlsx_total['GENERIC_TYPE'].unique()"
   ]
  },
  {
   "cell_type": "code",
   "execution_count": 42,
   "metadata": {},
   "outputs": [
    {
     "data": {
      "text/plain": [
       "array(['2.5', 3, 'Plan too new to be measured', '3.5', 4, '4.5',\n",
       "       'Not enough data to calculate overall rating', 5,\n",
       "       'Not enough data to calculate summary rating', 2,\n",
       "       'Not enough data to calculate summary score', '3 Stars',\n",
       "       '2.5 Stars', '3.5 Stars', '4 Stars', '4.5 Stars', '2 Stars',\n",
       "       'Plan too new to be measured ', 'Not enough data available ',\n",
       "       '5 Stars', '3 stars', '3.5 stars', '4 stars', '2.5 stars',\n",
       "       '4.5 stars', '5 stars', 'NO_ASIGNADO', '2 stars',\n",
       "       'Not enough data available', 'Not Applicable'], dtype=object)"
      ]
     },
     "execution_count": 42,
     "metadata": {},
     "output_type": "execute_result"
    }
   ],
   "source": [
    "df_from_xlsx_total['RATING'].unique()"
   ]
  },
  {
   "cell_type": "code",
   "execution_count": 43,
   "metadata": {},
   "outputs": [
    {
     "data": {
      "text/plain": [
       "array(['$0.00 ', '$99.00 ', '$199.00 ', ..., ' $168.00 ', ' $121.60 ',\n",
       "       ' $31.90 '], dtype=object)"
      ]
     },
     "execution_count": 43,
     "metadata": {},
     "output_type": "execute_result"
    }
   ],
   "source": [
    "df_from_xlsx_total['MCP'].unique()"
   ]
  },
  {
   "cell_type": "code",
   "execution_count": 44,
   "metadata": {},
   "outputs": [
    {
     "data": {
      "text/plain": [
       "array(['$4,450 ', '$3,400 ', '$5,000 ', '$6,700 ', '$4,900 ', '$3,900 ',\n",
       "       '$2,800 ', '$5,900 ', '$3,250 ', '$6,200 ', '$5,300 ', '$6,000 ',\n",
       "       '$4,500 ', '$5,400 ', '$3,950 ', '$5,500 ', '$4,000 ', '$5,750 ',\n",
       "       '$4,750 ', '$4,800 ', '$2,900 ', '$4,950 ', '$4,400 ', '$3,350 ',\n",
       "       '$2,400 ', '$1,000 ', '$3,000 ', '$2,000 ', '$6,300 ',\n",
       "       'NO_ASIGNADO', '$6,500 ', '$2,350 ', '$4,300 ', '$2,850 ',\n",
       "       '$5,200 ', '$5,600 ', '$3,800 ', '$4,200 ', '$6,400 ', '$4,600 ',\n",
       "       '$500 ', '$2,500 ', '$3,200 ', '$3,300 ', '$4,375 ', '$4,250 ',\n",
       "       '$3,750 ', '$3,600 ', '$3,500 ', '$1,500 ', '$3,315 ', '$2,675 ',\n",
       "       '$2,700 ', '$2,250 ', '$1,975 ', '$4,700 ', '$4,100 ', '$5,250 ',\n",
       "       '$3,975 ', '$3,100 ', '$5,950 ', '$3,125 ', '$2,660 ', '$2,950 ',\n",
       "       '$5,100 ', '$1,700 ', '$3,650 ', '$6,475 ', '$1,750 ', '$3,700 ',\n",
       "       '$1,300 ', '$2,550 ', '$4,325 ', '$6,550 ', '$2,750 ', '$1,800 ',\n",
       "       '$4,650 ', '$3,150 ', '$2,300 ', '$1,400 ', '$5,700 ', '$900 ',\n",
       "       '$0 ', ' $3,400 ', ' $2,950 ', ' $4,450 ', ' $5,000 ', ' $5,300 ',\n",
       "       ' $6,700 ', ' $4,500 ', ' N/A ', ' $4,900 ', ' $5,900 ',\n",
       "       ' $4,400 ', ' $5,500 ', ' $6,000 ', ' $6,500 ', ' $4,200 ',\n",
       "       ' $3,800 ', ' $4,750 ', ' $4,000 ', ' $3,950 ', ' $4,800 ',\n",
       "       ' $4,950 ', ' $3,250 ', ' $3,350 ', ' $1,000 ', ' $3,000 ',\n",
       "       ' $5,400 ', ' $2,000 ', ' $6,300 ', ' $2,900 ', ' $4,700 ',\n",
       "       ' $3,700 ', ' $3,900 ', ' $2,350 ', ' $5,700 ', ' $5,600 ',\n",
       "       ' $5,200 ', ' $2,450 ', ' $3,500 ', ' $4,300 ', ' $3,600 ',\n",
       "       ' $4,600 ', ' $3,200 ', ' $2,500 ', ' $500 ', ' $6,200 ',\n",
       "       ' $5,100 ', ' $4,250 ', ' $3,750 ', ' $1,500 ', ' $2,675 ',\n",
       "       ' $2,225 ', ' $4,100 ', ' $2,250 ', ' $1,975 ', ' $2,600 ',\n",
       "       ' $3,300 ', ' $3,975 ', ' $5,250 ', ' $6,400 ', ' $2,800 ',\n",
       "       ' $4,475 ', ' $2,200 ', ' $1,700 ', ' $5,950 ', ' $1,300 ',\n",
       "       ' $2,750 ', ' $4,325 ', ' $2,300 ', ' $3,100 ', ' $1,400 ',\n",
       "       ' $5,750 ', '  ', ' $6,650 ', ' $4,650 ', ' $3,401 ', ' $-   ',\n",
       "       ' $2,400 ', ' $2,700 ', ' $6,600 ', ' $5,050 ', ' $6,100 ',\n",
       "       ' $1,200 ', ' $1,950 ', ' $5,275 ', ' $4,725 ', ' $3,650 ',\n",
       "       ' $2,430 ', ' $3,050 ', ' $6,350 ', ' $2,100 ', ' $6,050 ',\n",
       "       ' $200 ', ' $5,800 ', ' $3,850 ', ' $2,960 ', ' $5,150 ',\n",
       "       ' $1,900 ', ' $5,550 ', ' $2,375 ', ' $2,175 ', ' $4,850 ',\n",
       "       ' $225 ', ' $750 ', ' $6,450 ', ' $50 ', ' $5,650 ', 5000.0,\n",
       "       3400.0, 6700.0, 5900.0, 5400.0, 6300.0, 3900.0, 5500.0, 3800.0,\n",
       "       4900.0, 4500.0, 3200.0, 4000.0, 3950.0, 3000.0, 6000.0, 3750.0,\n",
       "       3500.0, 4100.0, 3050.0, 2800.0, 5800.0, 5200.0, 5700.0, 4400.0,\n",
       "       3100.0, 4600.0, 1500.0, 1900.0, 2000.0, 2400.0, 1499.0, 2200.0,\n",
       "       0.0, 1950.0, 2900.0, 2950.0, 2500.0, 5300.0, 4300.0, 3300.0,\n",
       "       6200.0, 3700.0, 6100.0, 6500.0, 4950.0, 6650.0, 4700.0, 3600.0,\n",
       "       5600.0, 3350.0, 5650.0, 5750.0, 5250.0, 4650.0, 2430.0, 4250.0,\n",
       "       2300.0, 4800.0, 4200.0, 6400.0, 4850.0, 4750.0, 5675.0, 5950.0,\n",
       "       5550.0, 6350.0, 6600.0, 6590.0, 5100.0, 3400.01, 3250.0, 2250.0,\n",
       "       2600.0, 1200.0, 400.0, ' $999 ', ' $1,250 ', ' $1,499 ',\n",
       "       ' $1,899 ', ' $2,799 ', ' $1,800 ', ' $3,399 ', ' $3,450 ',\n",
       "       ' $5,675 ', ' $6,590 ', ' $400 '], dtype=object)"
      ]
     },
     "execution_count": 44,
     "metadata": {},
     "output_type": "execute_result"
    }
   ],
   "source": [
    "df_from_xlsx_total['MOOP_LIMIT'].unique()"
   ]
  },
  {
   "cell_type": "code",
   "execution_count": 45,
   "metadata": {},
   "outputs": [
    {
     "data": {
      "text/plain": [
       "STATE           0\n",
       "COUNTY          0\n",
       "ORGANIZATION    0\n",
       "PLAN_NAME       0\n",
       "GENERIC_TYPE    0\n",
       "MCP             0\n",
       "CONTRACT_ID     0\n",
       "PLAN_ID         0\n",
       "SEGMENT_ID      0\n",
       "MOOP_LIMIT      0\n",
       "RATING          0\n",
       "dtype: int64"
      ]
     },
     "execution_count": 45,
     "metadata": {},
     "output_type": "execute_result"
    }
   ],
   "source": [
    "# Check NULL values\n",
    "df_from_xlsx_total.isnull().sum()"
   ]
  },
  {
   "cell_type": "code",
   "execution_count": 46,
   "metadata": {},
   "outputs": [
    {
     "data": {
      "text/plain": [
       "array(['Local HMO', 'Local PPO', 'Local HMO *', 'PFFS', 'PFFS *',\n",
       "       'Regional PPO', 'Regional PPO *', 'Local PPO *', 'Cost *', 'Cost',\n",
       "       'MSA *', 'NO_ASIGNADO'], dtype=object)"
      ]
     },
     "execution_count": 46,
     "metadata": {},
     "output_type": "execute_result"
    }
   ],
   "source": [
    "df_from_xlsx_total[\"GENERIC_TYPE\"].unique()"
   ]
  },
  {
   "cell_type": "code",
   "execution_count": 40,
   "metadata": {},
   "outputs": [],
   "source": [
    "# NO\n",
    "df_from_xlsx_total[\"GENERIC_TYPE\"] = df_from_xlsx_total[\"GENERIC_TYPE\"].replace({\"Local HMO\":\"HMO\"}, regex=True)\\\n",
    ".replace({\"Local HMO \\\\*\":\"HMO\"}, regex=True).replace({\"Local PPO\":\"PPO\"}, regex=True)\\\n",
    ".replace({\"PFFS \\\\*\":\"PFFS\"}, regex=True).replace({\"Regional PPO\":\"PPO\"}, regex=True)\\\n",
    ".replace({\"Regional PPO \\\\*\":\"PPO\"}, regex=True).replace({\"Cost \\\\*\":\"Cost\"}, regex=True)\\\n",
    ".replace({\"MSA \\\\*\":\"MSA\"}, regex=True).replace({\"HMO \\\\*\":\"HMO\"}, regex=True)\\\n",
    ".replace({\"PFFS\\\\*\":\"PFFS\"}, regex=True).replace({\"PPO\\\\*\":\"PPO\"}, regex=True)\\\n",
    ".replace({\"PPO \\\\*\":\"PPO\"}, regex=True).replace({\"Cost\\\\*\":\"Cost\"}, regex=True)\\\n",
    ".replace({\"MSA\\\\*\":\"MSA\"}, regex=True).replace({\"HMO\\\\*\":\"HMO\"}, regex=True)"
   ]
  },
  {
   "cell_type": "code",
   "execution_count": 47,
   "metadata": {},
   "outputs": [
    {
     "data": {
      "text/plain": [
       "STATE           0\n",
       "COUNTY          0\n",
       "ORGANIZATION    0\n",
       "PLAN_NAME       0\n",
       "GENERIC_TYPE    0\n",
       "MCP             0\n",
       "CONTRACT_ID     0\n",
       "PLAN_ID         0\n",
       "SEGMENT_ID      0\n",
       "MOOP_LIMIT      0\n",
       "RATING          0\n",
       "dtype: int64"
      ]
     },
     "execution_count": 47,
     "metadata": {},
     "output_type": "execute_result"
    }
   ],
   "source": [
    "# Check NULL values\n",
    "df_from_xlsx_total.isnull().sum()"
   ]
  },
  {
   "cell_type": "code",
   "execution_count": 48,
   "metadata": {},
   "outputs": [
    {
     "data": {
      "text/plain": [
       "array(['Local HMO', 'Local PPO', 'Local HMO *', 'PFFS', 'PFFS *',\n",
       "       'Regional PPO', 'Regional PPO *', 'Local PPO *', 'Cost *', 'Cost',\n",
       "       'MSA *', 'NO_ASIGNADO'], dtype=object)"
      ]
     },
     "execution_count": 48,
     "metadata": {},
     "output_type": "execute_result"
    }
   ],
   "source": [
    "df_from_xlsx_total[\"GENERIC_TYPE\"].unique()"
   ]
  },
  {
   "cell_type": "code",
   "execution_count": 49,
   "metadata": {},
   "outputs": [
    {
     "data": {
      "text/plain": [
       "STATE           306183\n",
       "COUNTY          306183\n",
       "ORGANIZATION    306183\n",
       "PLAN_NAME       306183\n",
       "GENERIC_TYPE    306183\n",
       "MCP             306183\n",
       "CONTRACT_ID     306183\n",
       "PLAN_ID         306183\n",
       "SEGMENT_ID      306183\n",
       "MOOP_LIMIT      306183\n",
       "RATING          306183\n",
       "dtype: int64"
      ]
     },
     "execution_count": 49,
     "metadata": {},
     "output_type": "execute_result"
    }
   ],
   "source": [
    "df_from_xlsx_total.count()"
   ]
  },
  {
   "cell_type": "code",
   "execution_count": 50,
   "metadata": {},
   "outputs": [
    {
     "data": {
      "text/plain": [
       "STATE           0\n",
       "COUNTY          0\n",
       "ORGANIZATION    0\n",
       "PLAN_NAME       0\n",
       "GENERIC_TYPE    0\n",
       "MCP             0\n",
       "CONTRACT_ID     0\n",
       "PLAN_ID         0\n",
       "SEGMENT_ID      0\n",
       "MOOP_LIMIT      0\n",
       "RATING          0\n",
       "dtype: int64"
      ]
     },
     "execution_count": 50,
     "metadata": {},
     "output_type": "execute_result"
    }
   ],
   "source": [
    "# Check NULL values\n",
    "df_from_xlsx_total.isnull().sum()"
   ]
  },
  {
   "cell_type": "code",
   "execution_count": 51,
   "metadata": {},
   "outputs": [
    {
     "data": {
      "text/plain": [
       "array(['2.5', 3, 'Plan too new to be measured', '3.5', 4, '4.5',\n",
       "       'Not enough data to calculate overall rating', 5,\n",
       "       'Not enough data to calculate summary rating', 2,\n",
       "       'Not enough data to calculate summary score', '3 Stars',\n",
       "       '2.5 Stars', '3.5 Stars', '4 Stars', '4.5 Stars', '2 Stars',\n",
       "       'Plan too new to be measured ', 'Not enough data available ',\n",
       "       '5 Stars', '3 stars', '3.5 stars', '4 stars', '2.5 stars',\n",
       "       '4.5 stars', '5 stars', 'NO_ASIGNADO', '2 stars',\n",
       "       'Not enough data available', 'Not Applicable'], dtype=object)"
      ]
     },
     "execution_count": 51,
     "metadata": {},
     "output_type": "execute_result"
    }
   ],
   "source": [
    "df_from_xlsx_total[\"RATING\"].unique()"
   ]
  },
  {
   "cell_type": "code",
   "execution_count": 167,
   "metadata": {},
   "outputs": [],
   "source": [
    "df_from_xlsx_total[\"RATING\"] = df_from_xlsx_total[\"RATING\"].astype(np.str)\n",
    "df_from_xlsx_total[\"PLAN_ID\"] = df_from_xlsx_total[\"PLAN_ID\"].astype(np.str)\n",
    "df_from_xlsx_total[\"SEGMENT_ID\"] = df_from_xlsx_total[\"SEGMENT_ID\"].astype(np.str)\n",
    "df_from_xlsx_total[\"MCP\"] = df_from_xlsx_total[\"MCP\"].astype(np.str)\n",
    "df_from_xlsx_total[\"MOOP_LIMIT\"] = df_from_xlsx_total[\"MOOP_LIMIT\"].astype(np.str)"
   ]
  },
  {
   "cell_type": "code",
   "execution_count": 161,
   "metadata": {},
   "outputs": [
    {
     "data": {
      "text/plain": [
       "array(['2.5', '3', 'Plan too new to be measured', '3.5', '4', '4.5',\n",
       "       'Not enough data to calculate overall rating', '5',\n",
       "       'Not enough data to calculate summary rating', '2',\n",
       "       'Not enough data to calculate summary score',\n",
       "       'Plan too new to be measured ', 'Not enough data available ',\n",
       "       'NO_ASIGNADO', 'Not enough data available', 'Not Applicable'],\n",
       "      dtype=object)"
      ]
     },
     "execution_count": 161,
     "metadata": {},
     "output_type": "execute_result"
    }
   ],
   "source": [
    "df_from_xlsx_total[\"RATING\"].unique()"
   ]
  },
  {
   "cell_type": "code",
   "execution_count": 54,
   "metadata": {},
   "outputs": [
    {
     "data": {
      "text/plain": [
       "STATE           0\n",
       "COUNTY          0\n",
       "ORGANIZATION    0\n",
       "PLAN_NAME       0\n",
       "GENERIC_TYPE    0\n",
       "MCP             0\n",
       "CONTRACT_ID     0\n",
       "PLAN_ID         0\n",
       "SEGMENT_ID      0\n",
       "MOOP_LIMIT      0\n",
       "RATING          0\n",
       "dtype: int64"
      ]
     },
     "execution_count": 54,
     "metadata": {},
     "output_type": "execute_result"
    }
   ],
   "source": [
    "# Check NULL values\n",
    "df_from_xlsx_total.isnull().sum()"
   ]
  },
  {
   "cell_type": "code",
   "execution_count": 55,
   "metadata": {},
   "outputs": [
    {
     "data": {
      "text/plain": [
       "array(['2.5', '3', 'Plan too new to be measured', '3.5', '4', '4.5',\n",
       "       'Not enough data to calculate overall rating', '5',\n",
       "       'Not enough data to calculate summary rating', '2',\n",
       "       'Not enough data to calculate summary score', '3 Stars',\n",
       "       '2.5 Stars', '3.5 Stars', '4 Stars', '4.5 Stars', '2 Stars',\n",
       "       'Plan too new to be measured ', 'Not enough data available ',\n",
       "       '5 Stars', '3 stars', '3.5 stars', '4 stars', '2.5 stars',\n",
       "       '4.5 stars', '5 stars', 'NO_ASIGNADO', '2 stars',\n",
       "       'Not enough data available', 'Not Applicable'], dtype=object)"
      ]
     },
     "execution_count": 55,
     "metadata": {},
     "output_type": "execute_result"
    }
   ],
   "source": [
    "df_from_xlsx_total[\"RATING\"].unique()"
   ]
  },
  {
   "cell_type": "code",
   "execution_count": 56,
   "metadata": {},
   "outputs": [],
   "source": [
    "df_from_xlsx_total[\"RATING\"] = df_from_xlsx_total[\"RATING\"].replace({\"2 Stars\":\"2\"}, regex=True)\\\n",
    ".replace({\"2 stars\":\"2\"}, regex=True).replace({\"2.5 Stars\":\"2.5\"}, regex=True)\\\n",
    ".replace({\"2.5 stars\":\"2.5\"}, regex=True).replace({\"3 Stars\":\"3\"}, regex=True)\\\n",
    ".replace({\"3 stars\":\"3\"}, regex=True).replace({\"3.5 Stars\":\"3.5\"}, regex=True)\\\n",
    ".replace({\"3.5 stars\":\"3.5\"}, regex=True).replace({\"4 Stars\":\"4\"}, regex=True)\\\n",
    ".replace({\"4 stars\":\"4\"}, regex=True).replace({\"4.5 Stars\":\"4.5\"}, regex=True)\\\n",
    ".replace({\"4.5 stars\":\"4.5\"}, regex=True).replace({\"5 Stars\":\"5\"}, regex=True)\\\n",
    ".replace({\"5 stars\":\"5\"}, regex=True)"
   ]
  },
  {
   "cell_type": "code",
   "execution_count": 57,
   "metadata": {},
   "outputs": [
    {
     "data": {
      "text/plain": [
       "STATE           0\n",
       "COUNTY          0\n",
       "ORGANIZATION    0\n",
       "PLAN_NAME       0\n",
       "GENERIC_TYPE    0\n",
       "MCP             0\n",
       "CONTRACT_ID     0\n",
       "PLAN_ID         0\n",
       "SEGMENT_ID      0\n",
       "MOOP_LIMIT      0\n",
       "RATING          0\n",
       "dtype: int64"
      ]
     },
     "execution_count": 57,
     "metadata": {},
     "output_type": "execute_result"
    }
   ],
   "source": [
    "# Check NULL values\n",
    "df_from_xlsx_total.isnull().sum()"
   ]
  },
  {
   "cell_type": "code",
   "execution_count": 58,
   "metadata": {},
   "outputs": [],
   "source": [
    "df_from_xlsx_total[\"RATING\"] = df_from_xlsx_total[\"RATING\"].astype(np.str)"
   ]
  },
  {
   "cell_type": "code",
   "execution_count": 59,
   "metadata": {},
   "outputs": [
    {
     "data": {
      "text/plain": [
       "STATE           0\n",
       "COUNTY          0\n",
       "ORGANIZATION    0\n",
       "PLAN_NAME       0\n",
       "GENERIC_TYPE    0\n",
       "MCP             0\n",
       "CONTRACT_ID     0\n",
       "PLAN_ID         0\n",
       "SEGMENT_ID      0\n",
       "MOOP_LIMIT      0\n",
       "RATING          0\n",
       "dtype: int64"
      ]
     },
     "execution_count": 59,
     "metadata": {},
     "output_type": "execute_result"
    }
   ],
   "source": [
    "# Check NULL values\n",
    "df_from_xlsx_total.isnull().sum()"
   ]
  },
  {
   "cell_type": "code",
   "execution_count": 60,
   "metadata": {},
   "outputs": [
    {
     "data": {
      "text/plain": [
       "array(['2.5', '3', 'Plan too new to be measured', '3.5', '4', '4.5',\n",
       "       'Not enough data to calculate overall rating', '5',\n",
       "       'Not enough data to calculate summary rating', '2',\n",
       "       'Not enough data to calculate summary score',\n",
       "       'Plan too new to be measured ', 'Not enough data available ',\n",
       "       'NO_ASIGNADO', 'Not enough data available', 'Not Applicable'],\n",
       "      dtype=object)"
      ]
     },
     "execution_count": 60,
     "metadata": {},
     "output_type": "execute_result"
    }
   ],
   "source": [
    "df_from_xlsx_total[\"RATING\"].unique()"
   ]
  },
  {
   "cell_type": "code",
   "execution_count": 53,
   "metadata": {},
   "outputs": [],
   "source": [
    "# NO\n",
    "df_from_xlsx_total[\"RATING\"] = df_from_xlsx_total[\"RATING\"].replace({\"Plan too new to be measured\":\"NO_ASIGNADO\"}, regex=True)\\\n",
    ".replace({\"Not enough data to calculate overall rating\":\"NO_ASIGNADO\"}, regex=True)\\\n",
    ".replace({\"Not enough data to calculate summary rating\":\"NO_ASIGNADO\"}, regex=True)\\\n",
    ".replace({\"Not enough data to calculate summary score\":\"NO_ASIGNADO\"}, regex=True)\\\n",
    ".replace({\"Plan too new to be measured \":\"NO_ASIGNADO\"}, regex=True)\\\n",
    ".replace({\"Not enough data available \":\"NO_ASIGNADO\"}, regex=True)\\\n",
    ".replace({\"Not enough data available\":\"NO_ASIGNADO\"}, regex=True)\\\n",
    ".replace({\"Not Applicable\":\"NO_ASIGNADO\"}, regex=True)\\\n",
    ".replace({\"NO_ASIGNADO \":\"NO_ASIGNADO\"}, regex=True)"
   ]
  },
  {
   "cell_type": "code",
   "execution_count": 61,
   "metadata": {},
   "outputs": [
    {
     "data": {
      "text/plain": [
       "array(['2.5', '3', 'Plan too new to be measured', '3.5', '4', '4.5',\n",
       "       'Not enough data to calculate overall rating', '5',\n",
       "       'Not enough data to calculate summary rating', '2',\n",
       "       'Not enough data to calculate summary score',\n",
       "       'Plan too new to be measured ', 'Not enough data available ',\n",
       "       'NO_ASIGNADO', 'Not enough data available', 'Not Applicable'],\n",
       "      dtype=object)"
      ]
     },
     "execution_count": 61,
     "metadata": {},
     "output_type": "execute_result"
    }
   ],
   "source": [
    "df_from_xlsx_total[\"RATING\"].unique()"
   ]
  },
  {
   "cell_type": "code",
   "execution_count": 62,
   "metadata": {},
   "outputs": [
    {
     "data": {
      "text/plain": [
       "STATE           0\n",
       "COUNTY          0\n",
       "ORGANIZATION    0\n",
       "PLAN_NAME       0\n",
       "GENERIC_TYPE    0\n",
       "MCP             0\n",
       "CONTRACT_ID     0\n",
       "PLAN_ID         0\n",
       "SEGMENT_ID      0\n",
       "MOOP_LIMIT      0\n",
       "RATING          0\n",
       "dtype: int64"
      ]
     },
     "execution_count": 62,
     "metadata": {},
     "output_type": "execute_result"
    }
   ],
   "source": [
    "# Check NULL values\n",
    "df_from_xlsx_total.isnull().sum()"
   ]
  },
  {
   "cell_type": "code",
   "execution_count": 63,
   "metadata": {},
   "outputs": [
    {
     "data": {
      "text/plain": [
       "STATE           306183\n",
       "COUNTY          306183\n",
       "ORGANIZATION    306183\n",
       "PLAN_NAME       306183\n",
       "GENERIC_TYPE    306183\n",
       "MCP             306183\n",
       "CONTRACT_ID     306183\n",
       "PLAN_ID         306183\n",
       "SEGMENT_ID      306183\n",
       "MOOP_LIMIT      306183\n",
       "RATING          306183\n",
       "dtype: int64"
      ]
     },
     "execution_count": 63,
     "metadata": {},
     "output_type": "execute_result"
    }
   ],
   "source": [
    "df_from_xlsx_total.count()"
   ]
  },
  {
   "cell_type": "code",
   "execution_count": 64,
   "metadata": {},
   "outputs": [
    {
     "data": {
      "text/html": [
       "<div>\n",
       "<style scoped>\n",
       "    .dataframe tbody tr th:only-of-type {\n",
       "        vertical-align: middle;\n",
       "    }\n",
       "\n",
       "    .dataframe tbody tr th {\n",
       "        vertical-align: top;\n",
       "    }\n",
       "\n",
       "    .dataframe thead th {\n",
       "        text-align: right;\n",
       "    }\n",
       "</style>\n",
       "<table border=\"1\" class=\"dataframe\">\n",
       "  <thead>\n",
       "    <tr style=\"text-align: right;\">\n",
       "      <th></th>\n",
       "      <th>count</th>\n",
       "    </tr>\n",
       "    <tr>\n",
       "      <th>GENERIC_TYPE</th>\n",
       "      <th></th>\n",
       "    </tr>\n",
       "  </thead>\n",
       "  <tbody>\n",
       "    <tr>\n",
       "      <th>Cost</th>\n",
       "      <td>21621</td>\n",
       "    </tr>\n",
       "    <tr>\n",
       "      <th>Cost *</th>\n",
       "      <td>11888</td>\n",
       "    </tr>\n",
       "    <tr>\n",
       "      <th>Local HMO</th>\n",
       "      <td>88465</td>\n",
       "    </tr>\n",
       "    <tr>\n",
       "      <th>Local HMO *</th>\n",
       "      <td>19118</td>\n",
       "    </tr>\n",
       "    <tr>\n",
       "      <th>Local PPO</th>\n",
       "      <td>62120</td>\n",
       "    </tr>\n",
       "    <tr>\n",
       "      <th>Local PPO *</th>\n",
       "      <td>10149</td>\n",
       "    </tr>\n",
       "    <tr>\n",
       "      <th>MSA *</th>\n",
       "      <td>2511</td>\n",
       "    </tr>\n",
       "    <tr>\n",
       "      <th>NO_ASIGNADO</th>\n",
       "      <td>32</td>\n",
       "    </tr>\n",
       "    <tr>\n",
       "      <th>PFFS</th>\n",
       "      <td>21429</td>\n",
       "    </tr>\n",
       "    <tr>\n",
       "      <th>PFFS *</th>\n",
       "      <td>16876</td>\n",
       "    </tr>\n",
       "    <tr>\n",
       "      <th>Regional PPO</th>\n",
       "      <td>33124</td>\n",
       "    </tr>\n",
       "    <tr>\n",
       "      <th>Regional PPO *</th>\n",
       "      <td>18850</td>\n",
       "    </tr>\n",
       "  </tbody>\n",
       "</table>\n",
       "</div>"
      ],
      "text/plain": [
       "                count\n",
       "GENERIC_TYPE         \n",
       "Cost            21621\n",
       "Cost *          11888\n",
       "Local HMO       88465\n",
       "Local HMO *     19118\n",
       "Local PPO       62120\n",
       "Local PPO *     10149\n",
       "MSA *            2511\n",
       "NO_ASIGNADO        32\n",
       "PFFS            21429\n",
       "PFFS *          16876\n",
       "Regional PPO    33124\n",
       "Regional PPO *  18850"
      ]
     },
     "execution_count": 64,
     "metadata": {},
     "output_type": "execute_result"
    }
   ],
   "source": [
    "df_from_xlsx_total[\"GENERIC_TYPE\"].groupby([df_from_xlsx_total[\"GENERIC_TYPE\"]]).agg({'count'})"
   ]
  },
  {
   "cell_type": "code",
   "execution_count": 65,
   "metadata": {},
   "outputs": [
    {
     "data": {
      "text/html": [
       "<div>\n",
       "<style scoped>\n",
       "    .dataframe tbody tr th:only-of-type {\n",
       "        vertical-align: middle;\n",
       "    }\n",
       "\n",
       "    .dataframe tbody tr th {\n",
       "        vertical-align: top;\n",
       "    }\n",
       "\n",
       "    .dataframe thead th {\n",
       "        text-align: right;\n",
       "    }\n",
       "</style>\n",
       "<table border=\"1\" class=\"dataframe\">\n",
       "  <thead>\n",
       "    <tr style=\"text-align: right;\">\n",
       "      <th></th>\n",
       "      <th>count</th>\n",
       "    </tr>\n",
       "    <tr>\n",
       "      <th>RATING</th>\n",
       "      <th></th>\n",
       "    </tr>\n",
       "  </thead>\n",
       "  <tbody>\n",
       "    <tr>\n",
       "      <th>2</th>\n",
       "      <td>667</td>\n",
       "    </tr>\n",
       "    <tr>\n",
       "      <th>2.5</th>\n",
       "      <td>22203</td>\n",
       "    </tr>\n",
       "    <tr>\n",
       "      <th>3</th>\n",
       "      <td>46156</td>\n",
       "    </tr>\n",
       "    <tr>\n",
       "      <th>3.5</th>\n",
       "      <td>78743</td>\n",
       "    </tr>\n",
       "    <tr>\n",
       "      <th>4</th>\n",
       "      <td>73771</td>\n",
       "    </tr>\n",
       "    <tr>\n",
       "      <th>4.5</th>\n",
       "      <td>54769</td>\n",
       "    </tr>\n",
       "    <tr>\n",
       "      <th>5</th>\n",
       "      <td>7356</td>\n",
       "    </tr>\n",
       "    <tr>\n",
       "      <th>NO_ASIGNADO</th>\n",
       "      <td>32</td>\n",
       "    </tr>\n",
       "    <tr>\n",
       "      <th>Not Applicable</th>\n",
       "      <td>1757</td>\n",
       "    </tr>\n",
       "    <tr>\n",
       "      <th>Not enough data available</th>\n",
       "      <td>4968</td>\n",
       "    </tr>\n",
       "    <tr>\n",
       "      <th>Not enough data available</th>\n",
       "      <td>1684</td>\n",
       "    </tr>\n",
       "    <tr>\n",
       "      <th>Not enough data to calculate overall rating</th>\n",
       "      <td>893</td>\n",
       "    </tr>\n",
       "    <tr>\n",
       "      <th>Not enough data to calculate summary rating</th>\n",
       "      <td>115</td>\n",
       "    </tr>\n",
       "    <tr>\n",
       "      <th>Not enough data to calculate summary score</th>\n",
       "      <td>8</td>\n",
       "    </tr>\n",
       "    <tr>\n",
       "      <th>Plan too new to be measured</th>\n",
       "      <td>11603</td>\n",
       "    </tr>\n",
       "    <tr>\n",
       "      <th>Plan too new to be measured</th>\n",
       "      <td>1458</td>\n",
       "    </tr>\n",
       "  </tbody>\n",
       "</table>\n",
       "</div>"
      ],
      "text/plain": [
       "                                             count\n",
       "RATING                                            \n",
       "2                                              667\n",
       "2.5                                          22203\n",
       "3                                            46156\n",
       "3.5                                          78743\n",
       "4                                            73771\n",
       "4.5                                          54769\n",
       "5                                             7356\n",
       "NO_ASIGNADO                                     32\n",
       "Not Applicable                                1757\n",
       "Not enough data available                     4968\n",
       "Not enough data available                     1684\n",
       "Not enough data to calculate overall rating    893\n",
       "Not enough data to calculate summary rating    115\n",
       "Not enough data to calculate summary score       8\n",
       "Plan too new to be measured                  11603\n",
       "Plan too new to be measured                   1458"
      ]
     },
     "execution_count": 65,
     "metadata": {},
     "output_type": "execute_result"
    }
   ],
   "source": [
    "df_from_xlsx_total[\"RATING\"].groupby([df_from_xlsx_total[\"RATING\"]]).agg({'count'})"
   ]
  },
  {
   "cell_type": "code",
   "execution_count": 66,
   "metadata": {},
   "outputs": [
    {
     "data": {
      "text/html": [
       "<div>\n",
       "<style scoped>\n",
       "    .dataframe tbody tr th:only-of-type {\n",
       "        vertical-align: middle;\n",
       "    }\n",
       "\n",
       "    .dataframe tbody tr th {\n",
       "        vertical-align: top;\n",
       "    }\n",
       "\n",
       "    .dataframe thead th {\n",
       "        text-align: right;\n",
       "    }\n",
       "</style>\n",
       "<table border=\"1\" class=\"dataframe\">\n",
       "  <thead>\n",
       "    <tr style=\"text-align: right;\">\n",
       "      <th></th>\n",
       "      <th>count</th>\n",
       "    </tr>\n",
       "    <tr>\n",
       "      <th>GENERIC_TYPE</th>\n",
       "      <th></th>\n",
       "    </tr>\n",
       "  </thead>\n",
       "  <tbody>\n",
       "    <tr>\n",
       "      <th>False</th>\n",
       "      <td>306183</td>\n",
       "    </tr>\n",
       "  </tbody>\n",
       "</table>\n",
       "</div>"
      ],
      "text/plain": [
       "               count\n",
       "GENERIC_TYPE        \n",
       "False         306183"
      ]
     },
     "execution_count": 66,
     "metadata": {},
     "output_type": "execute_result"
    }
   ],
   "source": [
    "df_from_xlsx_total[\"GENERIC_TYPE\"].groupby([df_from_xlsx_total[\"GENERIC_TYPE\"].isnull()]).agg({'count'})"
   ]
  },
  {
   "cell_type": "code",
   "execution_count": 67,
   "metadata": {},
   "outputs": [
    {
     "data": {
      "text/html": [
       "<div>\n",
       "<style scoped>\n",
       "    .dataframe tbody tr th:only-of-type {\n",
       "        vertical-align: middle;\n",
       "    }\n",
       "\n",
       "    .dataframe tbody tr th {\n",
       "        vertical-align: top;\n",
       "    }\n",
       "\n",
       "    .dataframe thead th {\n",
       "        text-align: right;\n",
       "    }\n",
       "</style>\n",
       "<table border=\"1\" class=\"dataframe\">\n",
       "  <thead>\n",
       "    <tr style=\"text-align: right;\">\n",
       "      <th></th>\n",
       "      <th>count</th>\n",
       "    </tr>\n",
       "    <tr>\n",
       "      <th>RATING</th>\n",
       "      <th></th>\n",
       "    </tr>\n",
       "  </thead>\n",
       "  <tbody>\n",
       "    <tr>\n",
       "      <th>False</th>\n",
       "      <td>306183</td>\n",
       "    </tr>\n",
       "  </tbody>\n",
       "</table>\n",
       "</div>"
      ],
      "text/plain": [
       "         count\n",
       "RATING        \n",
       "False   306183"
      ]
     },
     "execution_count": 67,
     "metadata": {},
     "output_type": "execute_result"
    }
   ],
   "source": [
    "df_from_xlsx_total[\"RATING\"].groupby([df_from_xlsx_total[\"RATING\"].isnull()]).agg({'count'})"
   ]
  },
  {
   "cell_type": "code",
   "execution_count": 68,
   "metadata": {},
   "outputs": [
    {
     "data": {
      "text/plain": [
       "3577"
      ]
     },
     "execution_count": 68,
     "metadata": {},
     "output_type": "execute_result"
    }
   ],
   "source": [
    "df_from_xlsx_total.duplicated().sum()"
   ]
  },
  {
   "cell_type": "code",
   "execution_count": 69,
   "metadata": {},
   "outputs": [
    {
     "data": {
      "text/plain": [
       "pandas.core.frame.DataFrame"
      ]
     },
     "execution_count": 69,
     "metadata": {},
     "output_type": "execute_result"
    }
   ],
   "source": [
    "type(df_from_xlsx_total)"
   ]
  },
  {
   "cell_type": "code",
   "execution_count": 70,
   "metadata": {},
   "outputs": [
    {
     "data": {
      "text/plain": [
       "Index(['STATE', 'COUNTY', 'ORGANIZATION', 'PLAN_NAME', 'GENERIC_TYPE', 'MCP',\n",
       "       'CONTRACT_ID', 'PLAN_ID', 'SEGMENT_ID', 'MOOP_LIMIT', 'RATING'],\n",
       "      dtype='object')"
      ]
     },
     "execution_count": 70,
     "metadata": {},
     "output_type": "execute_result"
    }
   ],
   "source": [
    "df_from_xlsx_total.columns"
   ]
  },
  {
   "cell_type": "code",
   "execution_count": 71,
   "metadata": {},
   "outputs": [
    {
     "data": {
      "text/plain": [
       "STATE           object\n",
       "COUNTY          object\n",
       "ORGANIZATION    object\n",
       "PLAN_NAME       object\n",
       "GENERIC_TYPE    object\n",
       "MCP             object\n",
       "CONTRACT_ID     object\n",
       "PLAN_ID          int64\n",
       "SEGMENT_ID       int64\n",
       "MOOP_LIMIT      object\n",
       "RATING          object\n",
       "dtype: object"
      ]
     },
     "execution_count": 71,
     "metadata": {},
     "output_type": "execute_result"
    }
   ],
   "source": [
    "df_from_xlsx_total.dtypes"
   ]
  },
  {
   "cell_type": "code",
   "execution_count": 72,
   "metadata": {},
   "outputs": [
    {
     "data": {
      "text/html": [
       "<div>\n",
       "<style scoped>\n",
       "    .dataframe tbody tr th:only-of-type {\n",
       "        vertical-align: middle;\n",
       "    }\n",
       "\n",
       "    .dataframe tbody tr th {\n",
       "        vertical-align: top;\n",
       "    }\n",
       "\n",
       "    .dataframe thead th {\n",
       "        text-align: right;\n",
       "    }\n",
       "</style>\n",
       "<table border=\"1\" class=\"dataframe\">\n",
       "  <thead>\n",
       "    <tr style=\"text-align: right;\">\n",
       "      <th></th>\n",
       "      <th>count</th>\n",
       "    </tr>\n",
       "    <tr>\n",
       "      <th>STATE</th>\n",
       "      <th></th>\n",
       "    </tr>\n",
       "  </thead>\n",
       "  <tbody>\n",
       "    <tr>\n",
       "      <th>Alabama</th>\n",
       "      <td>4094</td>\n",
       "    </tr>\n",
       "    <tr>\n",
       "      <th>Arizona</th>\n",
       "      <td>1046</td>\n",
       "    </tr>\n",
       "    <tr>\n",
       "      <th>Arkansas</th>\n",
       "      <td>7016</td>\n",
       "    </tr>\n",
       "    <tr>\n",
       "      <th>California</th>\n",
       "      <td>3175</td>\n",
       "    </tr>\n",
       "    <tr>\n",
       "      <th>Colorado</th>\n",
       "      <td>6902</td>\n",
       "    </tr>\n",
       "    <tr>\n",
       "      <th>Connecticut</th>\n",
       "      <td>1045</td>\n",
       "    </tr>\n",
       "    <tr>\n",
       "      <th>Delaware</th>\n",
       "      <td>128</td>\n",
       "    </tr>\n",
       "    <tr>\n",
       "      <th>Florida</th>\n",
       "      <td>9271</td>\n",
       "    </tr>\n",
       "    <tr>\n",
       "      <th>Georgia</th>\n",
       "      <td>11841</td>\n",
       "    </tr>\n",
       "    <tr>\n",
       "      <th>Hawaii</th>\n",
       "      <td>325</td>\n",
       "    </tr>\n",
       "    <tr>\n",
       "      <th>Idaho</th>\n",
       "      <td>2803</td>\n",
       "    </tr>\n",
       "    <tr>\n",
       "      <th>Illinois</th>\n",
       "      <td>10164</td>\n",
       "    </tr>\n",
       "    <tr>\n",
       "      <th>Indiana</th>\n",
       "      <td>8936</td>\n",
       "    </tr>\n",
       "    <tr>\n",
       "      <th>Iowa</th>\n",
       "      <td>5161</td>\n",
       "    </tr>\n",
       "    <tr>\n",
       "      <th>Kansas</th>\n",
       "      <td>5674</td>\n",
       "    </tr>\n",
       "    <tr>\n",
       "      <th>Kentucky</th>\n",
       "      <td>8025</td>\n",
       "    </tr>\n",
       "    <tr>\n",
       "      <th>Louisiana</th>\n",
       "      <td>4765</td>\n",
       "    </tr>\n",
       "    <tr>\n",
       "      <th>Maine</th>\n",
       "      <td>1596</td>\n",
       "    </tr>\n",
       "    <tr>\n",
       "      <th>Maryland</th>\n",
       "      <td>1256</td>\n",
       "    </tr>\n",
       "    <tr>\n",
       "      <th>Massachusetts</th>\n",
       "      <td>2016</td>\n",
       "    </tr>\n",
       "    <tr>\n",
       "      <th>Michigan</th>\n",
       "      <td>12339</td>\n",
       "    </tr>\n",
       "    <tr>\n",
       "      <th>Minnesota</th>\n",
       "      <td>19958</td>\n",
       "    </tr>\n",
       "    <tr>\n",
       "      <th>Mississippi</th>\n",
       "      <td>4754</td>\n",
       "    </tr>\n",
       "    <tr>\n",
       "      <th>Missouri</th>\n",
       "      <td>9709</td>\n",
       "    </tr>\n",
       "    <tr>\n",
       "      <th>Montana</th>\n",
       "      <td>2008</td>\n",
       "    </tr>\n",
       "    <tr>\n",
       "      <th>Nebraska</th>\n",
       "      <td>2301</td>\n",
       "    </tr>\n",
       "    <tr>\n",
       "      <th>Nevada</th>\n",
       "      <td>576</td>\n",
       "    </tr>\n",
       "    <tr>\n",
       "      <th>New Hampshire</th>\n",
       "      <td>618</td>\n",
       "    </tr>\n",
       "    <tr>\n",
       "      <th>New Jersey</th>\n",
       "      <td>1958</td>\n",
       "    </tr>\n",
       "    <tr>\n",
       "      <th>New Mexico</th>\n",
       "      <td>2097</td>\n",
       "    </tr>\n",
       "    <tr>\n",
       "      <th>New York</th>\n",
       "      <td>13214</td>\n",
       "    </tr>\n",
       "    <tr>\n",
       "      <th>North Carolina</th>\n",
       "      <td>8815</td>\n",
       "    </tr>\n",
       "    <tr>\n",
       "      <th>North Dakota</th>\n",
       "      <td>3442</td>\n",
       "    </tr>\n",
       "    <tr>\n",
       "      <th>Ohio</th>\n",
       "      <td>14604</td>\n",
       "    </tr>\n",
       "    <tr>\n",
       "      <th>Oklahoma</th>\n",
       "      <td>5798</td>\n",
       "    </tr>\n",
       "    <tr>\n",
       "      <th>Oregon</th>\n",
       "      <td>3496</td>\n",
       "    </tr>\n",
       "    <tr>\n",
       "      <th>Pennsylvania</th>\n",
       "      <td>15594</td>\n",
       "    </tr>\n",
       "    <tr>\n",
       "      <th>Puerto Rico</th>\n",
       "      <td>16816</td>\n",
       "    </tr>\n",
       "    <tr>\n",
       "      <th>Rhode Island</th>\n",
       "      <td>420</td>\n",
       "    </tr>\n",
       "    <tr>\n",
       "      <th>South Carolina</th>\n",
       "      <td>3275</td>\n",
       "    </tr>\n",
       "    <tr>\n",
       "      <th>South Dakota</th>\n",
       "      <td>5197</td>\n",
       "    </tr>\n",
       "    <tr>\n",
       "      <th>Tennessee</th>\n",
       "      <td>10484</td>\n",
       "    </tr>\n",
       "    <tr>\n",
       "      <th>Texas</th>\n",
       "      <td>24624</td>\n",
       "    </tr>\n",
       "    <tr>\n",
       "      <th>Utah</th>\n",
       "      <td>1022</td>\n",
       "    </tr>\n",
       "    <tr>\n",
       "      <th>Vermont</th>\n",
       "      <td>691</td>\n",
       "    </tr>\n",
       "    <tr>\n",
       "      <th>Virginia</th>\n",
       "      <td>9060</td>\n",
       "    </tr>\n",
       "    <tr>\n",
       "      <th>Washington</th>\n",
       "      <td>2481</td>\n",
       "    </tr>\n",
       "    <tr>\n",
       "      <th>Washington D.C.</th>\n",
       "      <td>89</td>\n",
       "    </tr>\n",
       "    <tr>\n",
       "      <th>West Virginia</th>\n",
       "      <td>6181</td>\n",
       "    </tr>\n",
       "    <tr>\n",
       "      <th>Wisconsin</th>\n",
       "      <td>9123</td>\n",
       "    </tr>\n",
       "    <tr>\n",
       "      <th>Wyoming</th>\n",
       "      <td>200</td>\n",
       "    </tr>\n",
       "  </tbody>\n",
       "</table>\n",
       "</div>"
      ],
      "text/plain": [
       "                 count\n",
       "STATE                 \n",
       "Alabama           4094\n",
       "Arizona           1046\n",
       "Arkansas          7016\n",
       "California        3175\n",
       "Colorado          6902\n",
       "Connecticut       1045\n",
       "Delaware           128\n",
       "Florida           9271\n",
       "Georgia          11841\n",
       "Hawaii             325\n",
       "Idaho             2803\n",
       "Illinois         10164\n",
       "Indiana           8936\n",
       "Iowa              5161\n",
       "Kansas            5674\n",
       "Kentucky          8025\n",
       "Louisiana         4765\n",
       "Maine             1596\n",
       "Maryland          1256\n",
       "Massachusetts     2016\n",
       "Michigan         12339\n",
       "Minnesota        19958\n",
       "Mississippi       4754\n",
       "Missouri          9709\n",
       "Montana           2008\n",
       "Nebraska          2301\n",
       "Nevada             576\n",
       "New Hampshire      618\n",
       "New Jersey        1958\n",
       "New Mexico        2097\n",
       "New York         13214\n",
       "North Carolina    8815\n",
       "North Dakota      3442\n",
       "Ohio             14604\n",
       "Oklahoma          5798\n",
       "Oregon            3496\n",
       "Pennsylvania     15594\n",
       "Puerto Rico      16816\n",
       "Rhode Island       420\n",
       "South Carolina    3275\n",
       "South Dakota      5197\n",
       "Tennessee        10484\n",
       "Texas            24624\n",
       "Utah              1022\n",
       "Vermont            691\n",
       "Virginia          9060\n",
       "Washington        2481\n",
       "Washington D.C.     89\n",
       "West Virginia     6181\n",
       "Wisconsin         9123\n",
       "Wyoming            200"
      ]
     },
     "execution_count": 72,
     "metadata": {},
     "output_type": "execute_result"
    }
   ],
   "source": [
    "df_from_xlsx_total[\"STATE\"].groupby([df_from_xlsx_total[\"STATE\"]]).agg({'count'})"
   ]
  },
  {
   "cell_type": "code",
   "execution_count": 73,
   "metadata": {},
   "outputs": [
    {
     "data": {
      "text/html": [
       "<div>\n",
       "<style scoped>\n",
       "    .dataframe tbody tr th:only-of-type {\n",
       "        vertical-align: middle;\n",
       "    }\n",
       "\n",
       "    .dataframe tbody tr th {\n",
       "        vertical-align: top;\n",
       "    }\n",
       "\n",
       "    .dataframe thead th {\n",
       "        text-align: right;\n",
       "    }\n",
       "</style>\n",
       "<table border=\"1\" class=\"dataframe\">\n",
       "  <thead>\n",
       "    <tr style=\"text-align: right;\">\n",
       "      <th></th>\n",
       "      <th>count</th>\n",
       "    </tr>\n",
       "    <tr>\n",
       "      <th>GENERIC_TYPE</th>\n",
       "      <th></th>\n",
       "    </tr>\n",
       "  </thead>\n",
       "  <tbody>\n",
       "    <tr>\n",
       "      <th>Cost</th>\n",
       "      <td>21621</td>\n",
       "    </tr>\n",
       "    <tr>\n",
       "      <th>Cost *</th>\n",
       "      <td>11888</td>\n",
       "    </tr>\n",
       "    <tr>\n",
       "      <th>Local HMO</th>\n",
       "      <td>88465</td>\n",
       "    </tr>\n",
       "    <tr>\n",
       "      <th>Local HMO *</th>\n",
       "      <td>19118</td>\n",
       "    </tr>\n",
       "    <tr>\n",
       "      <th>Local PPO</th>\n",
       "      <td>62120</td>\n",
       "    </tr>\n",
       "    <tr>\n",
       "      <th>Local PPO *</th>\n",
       "      <td>10149</td>\n",
       "    </tr>\n",
       "    <tr>\n",
       "      <th>MSA *</th>\n",
       "      <td>2511</td>\n",
       "    </tr>\n",
       "    <tr>\n",
       "      <th>NO_ASIGNADO</th>\n",
       "      <td>32</td>\n",
       "    </tr>\n",
       "    <tr>\n",
       "      <th>PFFS</th>\n",
       "      <td>21429</td>\n",
       "    </tr>\n",
       "    <tr>\n",
       "      <th>PFFS *</th>\n",
       "      <td>16876</td>\n",
       "    </tr>\n",
       "    <tr>\n",
       "      <th>Regional PPO</th>\n",
       "      <td>33124</td>\n",
       "    </tr>\n",
       "    <tr>\n",
       "      <th>Regional PPO *</th>\n",
       "      <td>18850</td>\n",
       "    </tr>\n",
       "  </tbody>\n",
       "</table>\n",
       "</div>"
      ],
      "text/plain": [
       "                count\n",
       "GENERIC_TYPE         \n",
       "Cost            21621\n",
       "Cost *          11888\n",
       "Local HMO       88465\n",
       "Local HMO *     19118\n",
       "Local PPO       62120\n",
       "Local PPO *     10149\n",
       "MSA *            2511\n",
       "NO_ASIGNADO        32\n",
       "PFFS            21429\n",
       "PFFS *          16876\n",
       "Regional PPO    33124\n",
       "Regional PPO *  18850"
      ]
     },
     "execution_count": 73,
     "metadata": {},
     "output_type": "execute_result"
    }
   ],
   "source": [
    "df_from_xlsx_total[\"GENERIC_TYPE\"].groupby([df_from_xlsx_total[\"GENERIC_TYPE\"]]).agg({'count'})"
   ]
  },
  {
   "cell_type": "code",
   "execution_count": 74,
   "metadata": {},
   "outputs": [
    {
     "data": {
      "text/plain": [
       "False    306151\n",
       "True         32\n",
       "Name: GENERIC_TYPE, dtype: int64"
      ]
     },
     "execution_count": 74,
     "metadata": {},
     "output_type": "execute_result"
    }
   ],
   "source": [
    "pd.value_counts(df_from_xlsx_total['GENERIC_TYPE']=='NO_ASIGNADO', sort=True, ascending=False, normalize=False, bins=None, dropna=False)"
   ]
  },
  {
   "cell_type": "code",
   "execution_count": 75,
   "metadata": {},
   "outputs": [
    {
     "data": {
      "text/plain": [
       "STATE           32\n",
       "COUNTY          32\n",
       "ORGANIZATION    32\n",
       "PLAN_NAME       32\n",
       "GENERIC_TYPE    32\n",
       "MCP             32\n",
       "CONTRACT_ID     32\n",
       "PLAN_ID         32\n",
       "SEGMENT_ID      32\n",
       "MOOP_LIMIT      32\n",
       "RATING          32\n",
       "dtype: int64"
      ]
     },
     "execution_count": 75,
     "metadata": {},
     "output_type": "execute_result"
    }
   ],
   "source": [
    "df_from_xlsx_total[df_from_xlsx_total['GENERIC_TYPE'] == 'NO_ASIGNADO'].count()"
   ]
  },
  {
   "cell_type": "code",
   "execution_count": 76,
   "metadata": {},
   "outputs": [
    {
     "data": {
      "text/html": [
       "<div>\n",
       "<style scoped>\n",
       "    .dataframe tbody tr th:only-of-type {\n",
       "        vertical-align: middle;\n",
       "    }\n",
       "\n",
       "    .dataframe tbody tr th {\n",
       "        vertical-align: top;\n",
       "    }\n",
       "\n",
       "    .dataframe thead th {\n",
       "        text-align: right;\n",
       "    }\n",
       "</style>\n",
       "<table border=\"1\" class=\"dataframe\">\n",
       "  <thead>\n",
       "    <tr style=\"text-align: right;\">\n",
       "      <th></th>\n",
       "      <th>STATE</th>\n",
       "      <th>COUNTY</th>\n",
       "      <th>ORGANIZATION</th>\n",
       "      <th>PLAN_NAME</th>\n",
       "      <th>GENERIC_TYPE</th>\n",
       "      <th>MCP</th>\n",
       "      <th>CONTRACT_ID</th>\n",
       "      <th>PLAN_ID</th>\n",
       "      <th>SEGMENT_ID</th>\n",
       "      <th>MOOP_LIMIT</th>\n",
       "      <th>RATING</th>\n",
       "    </tr>\n",
       "  </thead>\n",
       "  <tbody>\n",
       "    <tr>\n",
       "      <th>4993</th>\n",
       "      <td>Idaho</td>\n",
       "      <td>Ada</td>\n",
       "      <td>Regence Blue Shield of Idaho</td>\n",
       "      <td>Regence BlueShield of Idaho (Medicare-Medicaid...</td>\n",
       "      <td>NO_ASIGNADO</td>\n",
       "      <td>$-</td>\n",
       "      <td>H8534</td>\n",
       "      <td>1</td>\n",
       "      <td>0</td>\n",
       "      <td></td>\n",
       "      <td>NO_ASIGNADO</td>\n",
       "    </tr>\n",
       "    <tr>\n",
       "      <th>4999</th>\n",
       "      <td>Idaho</td>\n",
       "      <td>Adams</td>\n",
       "      <td>Regence Blue Shield of Idaho</td>\n",
       "      <td>Regence BlueShield of Idaho (Medicare-Medicaid...</td>\n",
       "      <td>NO_ASIGNADO</td>\n",
       "      <td>$-</td>\n",
       "      <td>H8534</td>\n",
       "      <td>1</td>\n",
       "      <td>0</td>\n",
       "      <td></td>\n",
       "      <td>NO_ASIGNADO</td>\n",
       "    </tr>\n",
       "    <tr>\n",
       "      <th>5014</th>\n",
       "      <td>Idaho</td>\n",
       "      <td>Bannock</td>\n",
       "      <td>Regence Blue Shield of Idaho</td>\n",
       "      <td>Regence BlueShield of Idaho (Medicare-Medicaid...</td>\n",
       "      <td>NO_ASIGNADO</td>\n",
       "      <td>$-</td>\n",
       "      <td>H8534</td>\n",
       "      <td>1</td>\n",
       "      <td>0</td>\n",
       "      <td></td>\n",
       "      <td>NO_ASIGNADO</td>\n",
       "    </tr>\n",
       "    <tr>\n",
       "      <th>5023</th>\n",
       "      <td>Idaho</td>\n",
       "      <td>Benewah</td>\n",
       "      <td>Regence Blue Shield of Idaho</td>\n",
       "      <td>Regence BlueShield of Idaho (Medicare-Medicaid...</td>\n",
       "      <td>NO_ASIGNADO</td>\n",
       "      <td>$-</td>\n",
       "      <td>H8534</td>\n",
       "      <td>1</td>\n",
       "      <td>0</td>\n",
       "      <td></td>\n",
       "      <td>NO_ASIGNADO</td>\n",
       "    </tr>\n",
       "    <tr>\n",
       "      <th>5035</th>\n",
       "      <td>Idaho</td>\n",
       "      <td>Bingham</td>\n",
       "      <td>Regence Blue Shield of Idaho</td>\n",
       "      <td>Regence BlueShield of Idaho (Medicare-Medicaid...</td>\n",
       "      <td>NO_ASIGNADO</td>\n",
       "      <td>$-</td>\n",
       "      <td>H8534</td>\n",
       "      <td>1</td>\n",
       "      <td>0</td>\n",
       "      <td></td>\n",
       "      <td>NO_ASIGNADO</td>\n",
       "    </tr>\n",
       "    <tr>\n",
       "      <th>5057</th>\n",
       "      <td>Idaho</td>\n",
       "      <td>Boise</td>\n",
       "      <td>Regence Blue Shield of Idaho</td>\n",
       "      <td>Regence BlueShield of Idaho (Medicare-Medicaid...</td>\n",
       "      <td>NO_ASIGNADO</td>\n",
       "      <td>$-</td>\n",
       "      <td>H8534</td>\n",
       "      <td>1</td>\n",
       "      <td>0</td>\n",
       "      <td></td>\n",
       "      <td>NO_ASIGNADO</td>\n",
       "    </tr>\n",
       "    <tr>\n",
       "      <th>5070</th>\n",
       "      <td>Idaho</td>\n",
       "      <td>Bonner</td>\n",
       "      <td>Regence Blue Shield of Idaho</td>\n",
       "      <td>Regence BlueShield of Idaho (Medicare-Medicaid...</td>\n",
       "      <td>NO_ASIGNADO</td>\n",
       "      <td>$-</td>\n",
       "      <td>H8534</td>\n",
       "      <td>1</td>\n",
       "      <td>0</td>\n",
       "      <td></td>\n",
       "      <td>NO_ASIGNADO</td>\n",
       "    </tr>\n",
       "    <tr>\n",
       "      <th>5086</th>\n",
       "      <td>Idaho</td>\n",
       "      <td>Bonneville</td>\n",
       "      <td>Regence Blue Shield of Idaho</td>\n",
       "      <td>Regence BlueShield of Idaho (Medicare-Medicaid...</td>\n",
       "      <td>NO_ASIGNADO</td>\n",
       "      <td>$-</td>\n",
       "      <td>H8534</td>\n",
       "      <td>1</td>\n",
       "      <td>0</td>\n",
       "      <td></td>\n",
       "      <td>NO_ASIGNADO</td>\n",
       "    </tr>\n",
       "    <tr>\n",
       "      <th>5099</th>\n",
       "      <td>Idaho</td>\n",
       "      <td>Boundary</td>\n",
       "      <td>Regence Blue Shield of Idaho</td>\n",
       "      <td>Regence BlueShield of Idaho (Medicare-Medicaid...</td>\n",
       "      <td>NO_ASIGNADO</td>\n",
       "      <td>$-</td>\n",
       "      <td>H8534</td>\n",
       "      <td>1</td>\n",
       "      <td>0</td>\n",
       "      <td></td>\n",
       "      <td>NO_ASIGNADO</td>\n",
       "    </tr>\n",
       "    <tr>\n",
       "      <th>5122</th>\n",
       "      <td>Idaho</td>\n",
       "      <td>Canyon</td>\n",
       "      <td>Regence Blue Shield of Idaho</td>\n",
       "      <td>Regence BlueShield of Idaho (Medicare-Medicaid...</td>\n",
       "      <td>NO_ASIGNADO</td>\n",
       "      <td>$-</td>\n",
       "      <td>H8534</td>\n",
       "      <td>1</td>\n",
       "      <td>0</td>\n",
       "      <td></td>\n",
       "      <td>NO_ASIGNADO</td>\n",
       "    </tr>\n",
       "    <tr>\n",
       "      <th>5144</th>\n",
       "      <td>Idaho</td>\n",
       "      <td>Clark</td>\n",
       "      <td>Regence Blue Shield of Idaho</td>\n",
       "      <td>Regence BlueShield of Idaho (Medicare-Medicaid...</td>\n",
       "      <td>NO_ASIGNADO</td>\n",
       "      <td>$-</td>\n",
       "      <td>H8534</td>\n",
       "      <td>1</td>\n",
       "      <td>0</td>\n",
       "      <td></td>\n",
       "      <td>NO_ASIGNADO</td>\n",
       "    </tr>\n",
       "    <tr>\n",
       "      <th>5145</th>\n",
       "      <td>Idaho</td>\n",
       "      <td>Clearwater</td>\n",
       "      <td>Regence Blue Shield of Idaho</td>\n",
       "      <td>Regence BlueShield of Idaho (Medicare-Medicaid...</td>\n",
       "      <td>NO_ASIGNADO</td>\n",
       "      <td>$-</td>\n",
       "      <td>H8534</td>\n",
       "      <td>1</td>\n",
       "      <td>0</td>\n",
       "      <td></td>\n",
       "      <td>NO_ASIGNADO</td>\n",
       "    </tr>\n",
       "    <tr>\n",
       "      <th>5156</th>\n",
       "      <td>Idaho</td>\n",
       "      <td>Elmore</td>\n",
       "      <td>Regence Blue Shield of Idaho</td>\n",
       "      <td>Regence BlueShield of Idaho (Medicare-Medicaid...</td>\n",
       "      <td>NO_ASIGNADO</td>\n",
       "      <td>$-</td>\n",
       "      <td>H8534</td>\n",
       "      <td>1</td>\n",
       "      <td>0</td>\n",
       "      <td></td>\n",
       "      <td>NO_ASIGNADO</td>\n",
       "    </tr>\n",
       "    <tr>\n",
       "      <th>5165</th>\n",
       "      <td>Idaho</td>\n",
       "      <td>Fremont</td>\n",
       "      <td>Regence Blue Shield of Idaho</td>\n",
       "      <td>Regence BlueShield of Idaho (Medicare-Medicaid...</td>\n",
       "      <td>NO_ASIGNADO</td>\n",
       "      <td>$-</td>\n",
       "      <td>H8534</td>\n",
       "      <td>1</td>\n",
       "      <td>0</td>\n",
       "      <td></td>\n",
       "      <td>NO_ASIGNADO</td>\n",
       "    </tr>\n",
       "    <tr>\n",
       "      <th>5180</th>\n",
       "      <td>Idaho</td>\n",
       "      <td>Gem</td>\n",
       "      <td>Regence Blue Shield of Idaho</td>\n",
       "      <td>Regence BlueShield of Idaho (Medicare-Medicaid...</td>\n",
       "      <td>NO_ASIGNADO</td>\n",
       "      <td>$-</td>\n",
       "      <td>H8534</td>\n",
       "      <td>1</td>\n",
       "      <td>0</td>\n",
       "      <td></td>\n",
       "      <td>NO_ASIGNADO</td>\n",
       "    </tr>\n",
       "    <tr>\n",
       "      <th>5191</th>\n",
       "      <td>Idaho</td>\n",
       "      <td>Gooding</td>\n",
       "      <td>Regence Blue Shield of Idaho</td>\n",
       "      <td>Regence BlueShield of Idaho (Medicare-Medicaid...</td>\n",
       "      <td>NO_ASIGNADO</td>\n",
       "      <td>$-</td>\n",
       "      <td>H8534</td>\n",
       "      <td>1</td>\n",
       "      <td>0</td>\n",
       "      <td></td>\n",
       "      <td>NO_ASIGNADO</td>\n",
       "    </tr>\n",
       "    <tr>\n",
       "      <th>5192</th>\n",
       "      <td>Idaho</td>\n",
       "      <td>Idaho</td>\n",
       "      <td>Regence Blue Shield of Idaho</td>\n",
       "      <td>Regence BlueShield of Idaho (Medicare-Medicaid...</td>\n",
       "      <td>NO_ASIGNADO</td>\n",
       "      <td>$-</td>\n",
       "      <td>H8534</td>\n",
       "      <td>1</td>\n",
       "      <td>0</td>\n",
       "      <td></td>\n",
       "      <td>NO_ASIGNADO</td>\n",
       "    </tr>\n",
       "    <tr>\n",
       "      <th>5204</th>\n",
       "      <td>Idaho</td>\n",
       "      <td>Jefferson</td>\n",
       "      <td>Regence Blue Shield of Idaho</td>\n",
       "      <td>Regence BlueShield of Idaho (Medicare-Medicaid...</td>\n",
       "      <td>NO_ASIGNADO</td>\n",
       "      <td>$-</td>\n",
       "      <td>H8534</td>\n",
       "      <td>1</td>\n",
       "      <td>0</td>\n",
       "      <td></td>\n",
       "      <td>NO_ASIGNADO</td>\n",
       "    </tr>\n",
       "    <tr>\n",
       "      <th>5227</th>\n",
       "      <td>Idaho</td>\n",
       "      <td>Kootenai</td>\n",
       "      <td>Regence Blue Shield of Idaho</td>\n",
       "      <td>Regence BlueShield of Idaho (Medicare-Medicaid...</td>\n",
       "      <td>NO_ASIGNADO</td>\n",
       "      <td>$-</td>\n",
       "      <td>H8534</td>\n",
       "      <td>1</td>\n",
       "      <td>0</td>\n",
       "      <td></td>\n",
       "      <td>NO_ASIGNADO</td>\n",
       "    </tr>\n",
       "    <tr>\n",
       "      <th>5236</th>\n",
       "      <td>Idaho</td>\n",
       "      <td>Latah</td>\n",
       "      <td>Regence Blue Shield of Idaho</td>\n",
       "      <td>Regence BlueShield of Idaho (Medicare-Medicaid...</td>\n",
       "      <td>NO_ASIGNADO</td>\n",
       "      <td>$-</td>\n",
       "      <td>H8534</td>\n",
       "      <td>1</td>\n",
       "      <td>0</td>\n",
       "      <td></td>\n",
       "      <td>NO_ASIGNADO</td>\n",
       "    </tr>\n",
       "    <tr>\n",
       "      <th>5237</th>\n",
       "      <td>Idaho</td>\n",
       "      <td>Lewis</td>\n",
       "      <td>Regence Blue Shield of Idaho</td>\n",
       "      <td>Regence BlueShield of Idaho (Medicare-Medicaid...</td>\n",
       "      <td>NO_ASIGNADO</td>\n",
       "      <td>$-</td>\n",
       "      <td>H8534</td>\n",
       "      <td>1</td>\n",
       "      <td>0</td>\n",
       "      <td></td>\n",
       "      <td>NO_ASIGNADO</td>\n",
       "    </tr>\n",
       "    <tr>\n",
       "      <th>5251</th>\n",
       "      <td>Idaho</td>\n",
       "      <td>Madison</td>\n",
       "      <td>Regence Blue Shield of Idaho</td>\n",
       "      <td>Regence BlueShield of Idaho (Medicare-Medicaid...</td>\n",
       "      <td>NO_ASIGNADO</td>\n",
       "      <td>$-</td>\n",
       "      <td>H8534</td>\n",
       "      <td>1</td>\n",
       "      <td>0</td>\n",
       "      <td></td>\n",
       "      <td>NO_ASIGNADO</td>\n",
       "    </tr>\n",
       "    <tr>\n",
       "      <th>5263</th>\n",
       "      <td>Idaho</td>\n",
       "      <td>Minidoka</td>\n",
       "      <td>Regence Blue Shield of Idaho</td>\n",
       "      <td>Regence BlueShield of Idaho (Medicare-Medicaid...</td>\n",
       "      <td>NO_ASIGNADO</td>\n",
       "      <td>$-</td>\n",
       "      <td>H8534</td>\n",
       "      <td>1</td>\n",
       "      <td>0</td>\n",
       "      <td></td>\n",
       "      <td>NO_ASIGNADO</td>\n",
       "    </tr>\n",
       "    <tr>\n",
       "      <th>5272</th>\n",
       "      <td>Idaho</td>\n",
       "      <td>Nez Perce</td>\n",
       "      <td>Regence Blue Shield of Idaho</td>\n",
       "      <td>Regence BlueShield of Idaho (Medicare-Medicaid...</td>\n",
       "      <td>NO_ASIGNADO</td>\n",
       "      <td>$-</td>\n",
       "      <td>H8534</td>\n",
       "      <td>1</td>\n",
       "      <td>0</td>\n",
       "      <td></td>\n",
       "      <td>NO_ASIGNADO</td>\n",
       "    </tr>\n",
       "    <tr>\n",
       "      <th>5289</th>\n",
       "      <td>Idaho</td>\n",
       "      <td>Owyhee</td>\n",
       "      <td>Regence Blue Shield of Idaho</td>\n",
       "      <td>Regence BlueShield of Idaho (Medicare-Medicaid...</td>\n",
       "      <td>NO_ASIGNADO</td>\n",
       "      <td>$-</td>\n",
       "      <td>H8534</td>\n",
       "      <td>1</td>\n",
       "      <td>0</td>\n",
       "      <td></td>\n",
       "      <td>NO_ASIGNADO</td>\n",
       "    </tr>\n",
       "    <tr>\n",
       "      <th>5305</th>\n",
       "      <td>Idaho</td>\n",
       "      <td>Payette</td>\n",
       "      <td>Regence Blue Shield of Idaho</td>\n",
       "      <td>Regence BlueShield of Idaho (Medicare-Medicaid...</td>\n",
       "      <td>NO_ASIGNADO</td>\n",
       "      <td>$-</td>\n",
       "      <td>H8534</td>\n",
       "      <td>1</td>\n",
       "      <td>0</td>\n",
       "      <td></td>\n",
       "      <td>NO_ASIGNADO</td>\n",
       "    </tr>\n",
       "    <tr>\n",
       "      <th>5314</th>\n",
       "      <td>Idaho</td>\n",
       "      <td>Power</td>\n",
       "      <td>Regence Blue Shield of Idaho</td>\n",
       "      <td>Regence BlueShield of Idaho (Medicare-Medicaid...</td>\n",
       "      <td>NO_ASIGNADO</td>\n",
       "      <td>$-</td>\n",
       "      <td>H8534</td>\n",
       "      <td>1</td>\n",
       "      <td>0</td>\n",
       "      <td></td>\n",
       "      <td>NO_ASIGNADO</td>\n",
       "    </tr>\n",
       "    <tr>\n",
       "      <th>5323</th>\n",
       "      <td>Idaho</td>\n",
       "      <td>Shoshone</td>\n",
       "      <td>Regence Blue Shield of Idaho</td>\n",
       "      <td>Regence BlueShield of Idaho (Medicare-Medicaid...</td>\n",
       "      <td>NO_ASIGNADO</td>\n",
       "      <td>$-</td>\n",
       "      <td>H8534</td>\n",
       "      <td>1</td>\n",
       "      <td>0</td>\n",
       "      <td></td>\n",
       "      <td>NO_ASIGNADO</td>\n",
       "    </tr>\n",
       "    <tr>\n",
       "      <th>5327</th>\n",
       "      <td>Idaho</td>\n",
       "      <td>Teton</td>\n",
       "      <td>Regence Blue Shield of Idaho</td>\n",
       "      <td>Regence BlueShield of Idaho (Medicare-Medicaid...</td>\n",
       "      <td>NO_ASIGNADO</td>\n",
       "      <td>$-</td>\n",
       "      <td>H8534</td>\n",
       "      <td>1</td>\n",
       "      <td>0</td>\n",
       "      <td></td>\n",
       "      <td>NO_ASIGNADO</td>\n",
       "    </tr>\n",
       "    <tr>\n",
       "      <th>5340</th>\n",
       "      <td>Idaho</td>\n",
       "      <td>Twin Falls</td>\n",
       "      <td>Regence Blue Shield of Idaho</td>\n",
       "      <td>Regence BlueShield of Idaho (Medicare-Medicaid...</td>\n",
       "      <td>NO_ASIGNADO</td>\n",
       "      <td>$-</td>\n",
       "      <td>H8534</td>\n",
       "      <td>1</td>\n",
       "      <td>0</td>\n",
       "      <td></td>\n",
       "      <td>NO_ASIGNADO</td>\n",
       "    </tr>\n",
       "    <tr>\n",
       "      <th>5349</th>\n",
       "      <td>Idaho</td>\n",
       "      <td>Valley</td>\n",
       "      <td>Regence Blue Shield of Idaho</td>\n",
       "      <td>Regence BlueShield of Idaho (Medicare-Medicaid...</td>\n",
       "      <td>NO_ASIGNADO</td>\n",
       "      <td>$-</td>\n",
       "      <td>H8534</td>\n",
       "      <td>1</td>\n",
       "      <td>0</td>\n",
       "      <td></td>\n",
       "      <td>NO_ASIGNADO</td>\n",
       "    </tr>\n",
       "    <tr>\n",
       "      <th>5358</th>\n",
       "      <td>Idaho</td>\n",
       "      <td>Washington</td>\n",
       "      <td>Regence Blue Shield of Idaho</td>\n",
       "      <td>Regence BlueShield of Idaho (Medicare-Medicaid...</td>\n",
       "      <td>NO_ASIGNADO</td>\n",
       "      <td>$-</td>\n",
       "      <td>H8534</td>\n",
       "      <td>1</td>\n",
       "      <td>0</td>\n",
       "      <td></td>\n",
       "      <td>NO_ASIGNADO</td>\n",
       "    </tr>\n",
       "  </tbody>\n",
       "</table>\n",
       "</div>"
      ],
      "text/plain": [
       "      STATE      COUNTY                  ORGANIZATION  \\\n",
       "4993  Idaho         Ada  Regence Blue Shield of Idaho   \n",
       "4999  Idaho       Adams  Regence Blue Shield of Idaho   \n",
       "5014  Idaho     Bannock  Regence Blue Shield of Idaho   \n",
       "5023  Idaho     Benewah  Regence Blue Shield of Idaho   \n",
       "5035  Idaho     Bingham  Regence Blue Shield of Idaho   \n",
       "5057  Idaho       Boise  Regence Blue Shield of Idaho   \n",
       "5070  Idaho      Bonner  Regence Blue Shield of Idaho   \n",
       "5086  Idaho  Bonneville  Regence Blue Shield of Idaho   \n",
       "5099  Idaho    Boundary  Regence Blue Shield of Idaho   \n",
       "5122  Idaho      Canyon  Regence Blue Shield of Idaho   \n",
       "5144  Idaho       Clark  Regence Blue Shield of Idaho   \n",
       "5145  Idaho  Clearwater  Regence Blue Shield of Idaho   \n",
       "5156  Idaho      Elmore  Regence Blue Shield of Idaho   \n",
       "5165  Idaho     Fremont  Regence Blue Shield of Idaho   \n",
       "5180  Idaho         Gem  Regence Blue Shield of Idaho   \n",
       "5191  Idaho     Gooding  Regence Blue Shield of Idaho   \n",
       "5192  Idaho       Idaho  Regence Blue Shield of Idaho   \n",
       "5204  Idaho   Jefferson  Regence Blue Shield of Idaho   \n",
       "5227  Idaho    Kootenai  Regence Blue Shield of Idaho   \n",
       "5236  Idaho       Latah  Regence Blue Shield of Idaho   \n",
       "5237  Idaho       Lewis  Regence Blue Shield of Idaho   \n",
       "5251  Idaho     Madison  Regence Blue Shield of Idaho   \n",
       "5263  Idaho    Minidoka  Regence Blue Shield of Idaho   \n",
       "5272  Idaho   Nez Perce  Regence Blue Shield of Idaho   \n",
       "5289  Idaho      Owyhee  Regence Blue Shield of Idaho   \n",
       "5305  Idaho     Payette  Regence Blue Shield of Idaho   \n",
       "5314  Idaho       Power  Regence Blue Shield of Idaho   \n",
       "5323  Idaho    Shoshone  Regence Blue Shield of Idaho   \n",
       "5327  Idaho       Teton  Regence Blue Shield of Idaho   \n",
       "5340  Idaho  Twin Falls  Regence Blue Shield of Idaho   \n",
       "5349  Idaho      Valley  Regence Blue Shield of Idaho   \n",
       "5358  Idaho  Washington  Regence Blue Shield of Idaho   \n",
       "\n",
       "                                              PLAN_NAME GENERIC_TYPE     MCP  \\\n",
       "4993  Regence BlueShield of Idaho (Medicare-Medicaid...  NO_ASIGNADO   $-      \n",
       "4999  Regence BlueShield of Idaho (Medicare-Medicaid...  NO_ASIGNADO   $-      \n",
       "5014  Regence BlueShield of Idaho (Medicare-Medicaid...  NO_ASIGNADO   $-      \n",
       "5023  Regence BlueShield of Idaho (Medicare-Medicaid...  NO_ASIGNADO   $-      \n",
       "5035  Regence BlueShield of Idaho (Medicare-Medicaid...  NO_ASIGNADO   $-      \n",
       "5057  Regence BlueShield of Idaho (Medicare-Medicaid...  NO_ASIGNADO   $-      \n",
       "5070  Regence BlueShield of Idaho (Medicare-Medicaid...  NO_ASIGNADO   $-      \n",
       "5086  Regence BlueShield of Idaho (Medicare-Medicaid...  NO_ASIGNADO   $-      \n",
       "5099  Regence BlueShield of Idaho (Medicare-Medicaid...  NO_ASIGNADO   $-      \n",
       "5122  Regence BlueShield of Idaho (Medicare-Medicaid...  NO_ASIGNADO   $-      \n",
       "5144  Regence BlueShield of Idaho (Medicare-Medicaid...  NO_ASIGNADO   $-      \n",
       "5145  Regence BlueShield of Idaho (Medicare-Medicaid...  NO_ASIGNADO   $-      \n",
       "5156  Regence BlueShield of Idaho (Medicare-Medicaid...  NO_ASIGNADO   $-      \n",
       "5165  Regence BlueShield of Idaho (Medicare-Medicaid...  NO_ASIGNADO   $-      \n",
       "5180  Regence BlueShield of Idaho (Medicare-Medicaid...  NO_ASIGNADO   $-      \n",
       "5191  Regence BlueShield of Idaho (Medicare-Medicaid...  NO_ASIGNADO   $-      \n",
       "5192  Regence BlueShield of Idaho (Medicare-Medicaid...  NO_ASIGNADO   $-      \n",
       "5204  Regence BlueShield of Idaho (Medicare-Medicaid...  NO_ASIGNADO   $-      \n",
       "5227  Regence BlueShield of Idaho (Medicare-Medicaid...  NO_ASIGNADO   $-      \n",
       "5236  Regence BlueShield of Idaho (Medicare-Medicaid...  NO_ASIGNADO   $-      \n",
       "5237  Regence BlueShield of Idaho (Medicare-Medicaid...  NO_ASIGNADO   $-      \n",
       "5251  Regence BlueShield of Idaho (Medicare-Medicaid...  NO_ASIGNADO   $-      \n",
       "5263  Regence BlueShield of Idaho (Medicare-Medicaid...  NO_ASIGNADO   $-      \n",
       "5272  Regence BlueShield of Idaho (Medicare-Medicaid...  NO_ASIGNADO   $-      \n",
       "5289  Regence BlueShield of Idaho (Medicare-Medicaid...  NO_ASIGNADO   $-      \n",
       "5305  Regence BlueShield of Idaho (Medicare-Medicaid...  NO_ASIGNADO   $-      \n",
       "5314  Regence BlueShield of Idaho (Medicare-Medicaid...  NO_ASIGNADO   $-      \n",
       "5323  Regence BlueShield of Idaho (Medicare-Medicaid...  NO_ASIGNADO   $-      \n",
       "5327  Regence BlueShield of Idaho (Medicare-Medicaid...  NO_ASIGNADO   $-      \n",
       "5340  Regence BlueShield of Idaho (Medicare-Medicaid...  NO_ASIGNADO   $-      \n",
       "5349  Regence BlueShield of Idaho (Medicare-Medicaid...  NO_ASIGNADO   $-      \n",
       "5358  Regence BlueShield of Idaho (Medicare-Medicaid...  NO_ASIGNADO   $-      \n",
       "\n",
       "     CONTRACT_ID  PLAN_ID  SEGMENT_ID MOOP_LIMIT       RATING  \n",
       "4993       H8534        1           0             NO_ASIGNADO  \n",
       "4999       H8534        1           0             NO_ASIGNADO  \n",
       "5014       H8534        1           0             NO_ASIGNADO  \n",
       "5023       H8534        1           0             NO_ASIGNADO  \n",
       "5035       H8534        1           0             NO_ASIGNADO  \n",
       "5057       H8534        1           0             NO_ASIGNADO  \n",
       "5070       H8534        1           0             NO_ASIGNADO  \n",
       "5086       H8534        1           0             NO_ASIGNADO  \n",
       "5099       H8534        1           0             NO_ASIGNADO  \n",
       "5122       H8534        1           0             NO_ASIGNADO  \n",
       "5144       H8534        1           0             NO_ASIGNADO  \n",
       "5145       H8534        1           0             NO_ASIGNADO  \n",
       "5156       H8534        1           0             NO_ASIGNADO  \n",
       "5165       H8534        1           0             NO_ASIGNADO  \n",
       "5180       H8534        1           0             NO_ASIGNADO  \n",
       "5191       H8534        1           0             NO_ASIGNADO  \n",
       "5192       H8534        1           0             NO_ASIGNADO  \n",
       "5204       H8534        1           0             NO_ASIGNADO  \n",
       "5227       H8534        1           0             NO_ASIGNADO  \n",
       "5236       H8534        1           0             NO_ASIGNADO  \n",
       "5237       H8534        1           0             NO_ASIGNADO  \n",
       "5251       H8534        1           0             NO_ASIGNADO  \n",
       "5263       H8534        1           0             NO_ASIGNADO  \n",
       "5272       H8534        1           0             NO_ASIGNADO  \n",
       "5289       H8534        1           0             NO_ASIGNADO  \n",
       "5305       H8534        1           0             NO_ASIGNADO  \n",
       "5314       H8534        1           0             NO_ASIGNADO  \n",
       "5323       H8534        1           0             NO_ASIGNADO  \n",
       "5327       H8534        1           0             NO_ASIGNADO  \n",
       "5340       H8534        1           0             NO_ASIGNADO  \n",
       "5349       H8534        1           0             NO_ASIGNADO  \n",
       "5358       H8534        1           0             NO_ASIGNADO  "
      ]
     },
     "execution_count": 76,
     "metadata": {},
     "output_type": "execute_result"
    }
   ],
   "source": [
    "df_from_xlsx_total[df_from_xlsx_total['GENERIC_TYPE'] == 'NO_ASIGNADO']"
   ]
  },
  {
   "cell_type": "code",
   "execution_count": 77,
   "metadata": {},
   "outputs": [
    {
     "data": {
      "text/plain": [
       "STATE           32\n",
       "COUNTY          32\n",
       "ORGANIZATION    32\n",
       "PLAN_NAME       32\n",
       "GENERIC_TYPE    32\n",
       "MCP             32\n",
       "CONTRACT_ID     32\n",
       "PLAN_ID         32\n",
       "SEGMENT_ID      32\n",
       "MOOP_LIMIT      32\n",
       "RATING          32\n",
       "dtype: int64"
      ]
     },
     "execution_count": 77,
     "metadata": {},
     "output_type": "execute_result"
    }
   ],
   "source": [
    "df_from_xlsx_total[df_from_xlsx_total['RATING'] == 'NO_ASIGNADO'].count()"
   ]
  },
  {
   "cell_type": "code",
   "execution_count": 78,
   "metadata": {},
   "outputs": [
    {
     "data": {
      "text/html": [
       "<div>\n",
       "<style scoped>\n",
       "    .dataframe tbody tr th:only-of-type {\n",
       "        vertical-align: middle;\n",
       "    }\n",
       "\n",
       "    .dataframe tbody tr th {\n",
       "        vertical-align: top;\n",
       "    }\n",
       "\n",
       "    .dataframe thead th {\n",
       "        text-align: right;\n",
       "    }\n",
       "</style>\n",
       "<table border=\"1\" class=\"dataframe\">\n",
       "  <thead>\n",
       "    <tr style=\"text-align: right;\">\n",
       "      <th></th>\n",
       "      <th>STATE</th>\n",
       "      <th>COUNTY</th>\n",
       "      <th>ORGANIZATION</th>\n",
       "      <th>PLAN_NAME</th>\n",
       "      <th>GENERIC_TYPE</th>\n",
       "      <th>MCP</th>\n",
       "      <th>CONTRACT_ID</th>\n",
       "      <th>PLAN_ID</th>\n",
       "      <th>SEGMENT_ID</th>\n",
       "      <th>MOOP_LIMIT</th>\n",
       "      <th>RATING</th>\n",
       "    </tr>\n",
       "  </thead>\n",
       "  <tbody>\n",
       "    <tr>\n",
       "      <th>4993</th>\n",
       "      <td>Idaho</td>\n",
       "      <td>Ada</td>\n",
       "      <td>Regence Blue Shield of Idaho</td>\n",
       "      <td>Regence BlueShield of Idaho (Medicare-Medicaid...</td>\n",
       "      <td>NO_ASIGNADO</td>\n",
       "      <td>$-</td>\n",
       "      <td>H8534</td>\n",
       "      <td>1</td>\n",
       "      <td>0</td>\n",
       "      <td></td>\n",
       "      <td>NO_ASIGNADO</td>\n",
       "    </tr>\n",
       "    <tr>\n",
       "      <th>4999</th>\n",
       "      <td>Idaho</td>\n",
       "      <td>Adams</td>\n",
       "      <td>Regence Blue Shield of Idaho</td>\n",
       "      <td>Regence BlueShield of Idaho (Medicare-Medicaid...</td>\n",
       "      <td>NO_ASIGNADO</td>\n",
       "      <td>$-</td>\n",
       "      <td>H8534</td>\n",
       "      <td>1</td>\n",
       "      <td>0</td>\n",
       "      <td></td>\n",
       "      <td>NO_ASIGNADO</td>\n",
       "    </tr>\n",
       "    <tr>\n",
       "      <th>5014</th>\n",
       "      <td>Idaho</td>\n",
       "      <td>Bannock</td>\n",
       "      <td>Regence Blue Shield of Idaho</td>\n",
       "      <td>Regence BlueShield of Idaho (Medicare-Medicaid...</td>\n",
       "      <td>NO_ASIGNADO</td>\n",
       "      <td>$-</td>\n",
       "      <td>H8534</td>\n",
       "      <td>1</td>\n",
       "      <td>0</td>\n",
       "      <td></td>\n",
       "      <td>NO_ASIGNADO</td>\n",
       "    </tr>\n",
       "    <tr>\n",
       "      <th>5023</th>\n",
       "      <td>Idaho</td>\n",
       "      <td>Benewah</td>\n",
       "      <td>Regence Blue Shield of Idaho</td>\n",
       "      <td>Regence BlueShield of Idaho (Medicare-Medicaid...</td>\n",
       "      <td>NO_ASIGNADO</td>\n",
       "      <td>$-</td>\n",
       "      <td>H8534</td>\n",
       "      <td>1</td>\n",
       "      <td>0</td>\n",
       "      <td></td>\n",
       "      <td>NO_ASIGNADO</td>\n",
       "    </tr>\n",
       "    <tr>\n",
       "      <th>5035</th>\n",
       "      <td>Idaho</td>\n",
       "      <td>Bingham</td>\n",
       "      <td>Regence Blue Shield of Idaho</td>\n",
       "      <td>Regence BlueShield of Idaho (Medicare-Medicaid...</td>\n",
       "      <td>NO_ASIGNADO</td>\n",
       "      <td>$-</td>\n",
       "      <td>H8534</td>\n",
       "      <td>1</td>\n",
       "      <td>0</td>\n",
       "      <td></td>\n",
       "      <td>NO_ASIGNADO</td>\n",
       "    </tr>\n",
       "    <tr>\n",
       "      <th>5057</th>\n",
       "      <td>Idaho</td>\n",
       "      <td>Boise</td>\n",
       "      <td>Regence Blue Shield of Idaho</td>\n",
       "      <td>Regence BlueShield of Idaho (Medicare-Medicaid...</td>\n",
       "      <td>NO_ASIGNADO</td>\n",
       "      <td>$-</td>\n",
       "      <td>H8534</td>\n",
       "      <td>1</td>\n",
       "      <td>0</td>\n",
       "      <td></td>\n",
       "      <td>NO_ASIGNADO</td>\n",
       "    </tr>\n",
       "    <tr>\n",
       "      <th>5070</th>\n",
       "      <td>Idaho</td>\n",
       "      <td>Bonner</td>\n",
       "      <td>Regence Blue Shield of Idaho</td>\n",
       "      <td>Regence BlueShield of Idaho (Medicare-Medicaid...</td>\n",
       "      <td>NO_ASIGNADO</td>\n",
       "      <td>$-</td>\n",
       "      <td>H8534</td>\n",
       "      <td>1</td>\n",
       "      <td>0</td>\n",
       "      <td></td>\n",
       "      <td>NO_ASIGNADO</td>\n",
       "    </tr>\n",
       "    <tr>\n",
       "      <th>5086</th>\n",
       "      <td>Idaho</td>\n",
       "      <td>Bonneville</td>\n",
       "      <td>Regence Blue Shield of Idaho</td>\n",
       "      <td>Regence BlueShield of Idaho (Medicare-Medicaid...</td>\n",
       "      <td>NO_ASIGNADO</td>\n",
       "      <td>$-</td>\n",
       "      <td>H8534</td>\n",
       "      <td>1</td>\n",
       "      <td>0</td>\n",
       "      <td></td>\n",
       "      <td>NO_ASIGNADO</td>\n",
       "    </tr>\n",
       "    <tr>\n",
       "      <th>5099</th>\n",
       "      <td>Idaho</td>\n",
       "      <td>Boundary</td>\n",
       "      <td>Regence Blue Shield of Idaho</td>\n",
       "      <td>Regence BlueShield of Idaho (Medicare-Medicaid...</td>\n",
       "      <td>NO_ASIGNADO</td>\n",
       "      <td>$-</td>\n",
       "      <td>H8534</td>\n",
       "      <td>1</td>\n",
       "      <td>0</td>\n",
       "      <td></td>\n",
       "      <td>NO_ASIGNADO</td>\n",
       "    </tr>\n",
       "    <tr>\n",
       "      <th>5122</th>\n",
       "      <td>Idaho</td>\n",
       "      <td>Canyon</td>\n",
       "      <td>Regence Blue Shield of Idaho</td>\n",
       "      <td>Regence BlueShield of Idaho (Medicare-Medicaid...</td>\n",
       "      <td>NO_ASIGNADO</td>\n",
       "      <td>$-</td>\n",
       "      <td>H8534</td>\n",
       "      <td>1</td>\n",
       "      <td>0</td>\n",
       "      <td></td>\n",
       "      <td>NO_ASIGNADO</td>\n",
       "    </tr>\n",
       "    <tr>\n",
       "      <th>5144</th>\n",
       "      <td>Idaho</td>\n",
       "      <td>Clark</td>\n",
       "      <td>Regence Blue Shield of Idaho</td>\n",
       "      <td>Regence BlueShield of Idaho (Medicare-Medicaid...</td>\n",
       "      <td>NO_ASIGNADO</td>\n",
       "      <td>$-</td>\n",
       "      <td>H8534</td>\n",
       "      <td>1</td>\n",
       "      <td>0</td>\n",
       "      <td></td>\n",
       "      <td>NO_ASIGNADO</td>\n",
       "    </tr>\n",
       "    <tr>\n",
       "      <th>5145</th>\n",
       "      <td>Idaho</td>\n",
       "      <td>Clearwater</td>\n",
       "      <td>Regence Blue Shield of Idaho</td>\n",
       "      <td>Regence BlueShield of Idaho (Medicare-Medicaid...</td>\n",
       "      <td>NO_ASIGNADO</td>\n",
       "      <td>$-</td>\n",
       "      <td>H8534</td>\n",
       "      <td>1</td>\n",
       "      <td>0</td>\n",
       "      <td></td>\n",
       "      <td>NO_ASIGNADO</td>\n",
       "    </tr>\n",
       "    <tr>\n",
       "      <th>5156</th>\n",
       "      <td>Idaho</td>\n",
       "      <td>Elmore</td>\n",
       "      <td>Regence Blue Shield of Idaho</td>\n",
       "      <td>Regence BlueShield of Idaho (Medicare-Medicaid...</td>\n",
       "      <td>NO_ASIGNADO</td>\n",
       "      <td>$-</td>\n",
       "      <td>H8534</td>\n",
       "      <td>1</td>\n",
       "      <td>0</td>\n",
       "      <td></td>\n",
       "      <td>NO_ASIGNADO</td>\n",
       "    </tr>\n",
       "    <tr>\n",
       "      <th>5165</th>\n",
       "      <td>Idaho</td>\n",
       "      <td>Fremont</td>\n",
       "      <td>Regence Blue Shield of Idaho</td>\n",
       "      <td>Regence BlueShield of Idaho (Medicare-Medicaid...</td>\n",
       "      <td>NO_ASIGNADO</td>\n",
       "      <td>$-</td>\n",
       "      <td>H8534</td>\n",
       "      <td>1</td>\n",
       "      <td>0</td>\n",
       "      <td></td>\n",
       "      <td>NO_ASIGNADO</td>\n",
       "    </tr>\n",
       "    <tr>\n",
       "      <th>5180</th>\n",
       "      <td>Idaho</td>\n",
       "      <td>Gem</td>\n",
       "      <td>Regence Blue Shield of Idaho</td>\n",
       "      <td>Regence BlueShield of Idaho (Medicare-Medicaid...</td>\n",
       "      <td>NO_ASIGNADO</td>\n",
       "      <td>$-</td>\n",
       "      <td>H8534</td>\n",
       "      <td>1</td>\n",
       "      <td>0</td>\n",
       "      <td></td>\n",
       "      <td>NO_ASIGNADO</td>\n",
       "    </tr>\n",
       "    <tr>\n",
       "      <th>5191</th>\n",
       "      <td>Idaho</td>\n",
       "      <td>Gooding</td>\n",
       "      <td>Regence Blue Shield of Idaho</td>\n",
       "      <td>Regence BlueShield of Idaho (Medicare-Medicaid...</td>\n",
       "      <td>NO_ASIGNADO</td>\n",
       "      <td>$-</td>\n",
       "      <td>H8534</td>\n",
       "      <td>1</td>\n",
       "      <td>0</td>\n",
       "      <td></td>\n",
       "      <td>NO_ASIGNADO</td>\n",
       "    </tr>\n",
       "    <tr>\n",
       "      <th>5192</th>\n",
       "      <td>Idaho</td>\n",
       "      <td>Idaho</td>\n",
       "      <td>Regence Blue Shield of Idaho</td>\n",
       "      <td>Regence BlueShield of Idaho (Medicare-Medicaid...</td>\n",
       "      <td>NO_ASIGNADO</td>\n",
       "      <td>$-</td>\n",
       "      <td>H8534</td>\n",
       "      <td>1</td>\n",
       "      <td>0</td>\n",
       "      <td></td>\n",
       "      <td>NO_ASIGNADO</td>\n",
       "    </tr>\n",
       "    <tr>\n",
       "      <th>5204</th>\n",
       "      <td>Idaho</td>\n",
       "      <td>Jefferson</td>\n",
       "      <td>Regence Blue Shield of Idaho</td>\n",
       "      <td>Regence BlueShield of Idaho (Medicare-Medicaid...</td>\n",
       "      <td>NO_ASIGNADO</td>\n",
       "      <td>$-</td>\n",
       "      <td>H8534</td>\n",
       "      <td>1</td>\n",
       "      <td>0</td>\n",
       "      <td></td>\n",
       "      <td>NO_ASIGNADO</td>\n",
       "    </tr>\n",
       "    <tr>\n",
       "      <th>5227</th>\n",
       "      <td>Idaho</td>\n",
       "      <td>Kootenai</td>\n",
       "      <td>Regence Blue Shield of Idaho</td>\n",
       "      <td>Regence BlueShield of Idaho (Medicare-Medicaid...</td>\n",
       "      <td>NO_ASIGNADO</td>\n",
       "      <td>$-</td>\n",
       "      <td>H8534</td>\n",
       "      <td>1</td>\n",
       "      <td>0</td>\n",
       "      <td></td>\n",
       "      <td>NO_ASIGNADO</td>\n",
       "    </tr>\n",
       "    <tr>\n",
       "      <th>5236</th>\n",
       "      <td>Idaho</td>\n",
       "      <td>Latah</td>\n",
       "      <td>Regence Blue Shield of Idaho</td>\n",
       "      <td>Regence BlueShield of Idaho (Medicare-Medicaid...</td>\n",
       "      <td>NO_ASIGNADO</td>\n",
       "      <td>$-</td>\n",
       "      <td>H8534</td>\n",
       "      <td>1</td>\n",
       "      <td>0</td>\n",
       "      <td></td>\n",
       "      <td>NO_ASIGNADO</td>\n",
       "    </tr>\n",
       "    <tr>\n",
       "      <th>5237</th>\n",
       "      <td>Idaho</td>\n",
       "      <td>Lewis</td>\n",
       "      <td>Regence Blue Shield of Idaho</td>\n",
       "      <td>Regence BlueShield of Idaho (Medicare-Medicaid...</td>\n",
       "      <td>NO_ASIGNADO</td>\n",
       "      <td>$-</td>\n",
       "      <td>H8534</td>\n",
       "      <td>1</td>\n",
       "      <td>0</td>\n",
       "      <td></td>\n",
       "      <td>NO_ASIGNADO</td>\n",
       "    </tr>\n",
       "    <tr>\n",
       "      <th>5251</th>\n",
       "      <td>Idaho</td>\n",
       "      <td>Madison</td>\n",
       "      <td>Regence Blue Shield of Idaho</td>\n",
       "      <td>Regence BlueShield of Idaho (Medicare-Medicaid...</td>\n",
       "      <td>NO_ASIGNADO</td>\n",
       "      <td>$-</td>\n",
       "      <td>H8534</td>\n",
       "      <td>1</td>\n",
       "      <td>0</td>\n",
       "      <td></td>\n",
       "      <td>NO_ASIGNADO</td>\n",
       "    </tr>\n",
       "    <tr>\n",
       "      <th>5263</th>\n",
       "      <td>Idaho</td>\n",
       "      <td>Minidoka</td>\n",
       "      <td>Regence Blue Shield of Idaho</td>\n",
       "      <td>Regence BlueShield of Idaho (Medicare-Medicaid...</td>\n",
       "      <td>NO_ASIGNADO</td>\n",
       "      <td>$-</td>\n",
       "      <td>H8534</td>\n",
       "      <td>1</td>\n",
       "      <td>0</td>\n",
       "      <td></td>\n",
       "      <td>NO_ASIGNADO</td>\n",
       "    </tr>\n",
       "    <tr>\n",
       "      <th>5272</th>\n",
       "      <td>Idaho</td>\n",
       "      <td>Nez Perce</td>\n",
       "      <td>Regence Blue Shield of Idaho</td>\n",
       "      <td>Regence BlueShield of Idaho (Medicare-Medicaid...</td>\n",
       "      <td>NO_ASIGNADO</td>\n",
       "      <td>$-</td>\n",
       "      <td>H8534</td>\n",
       "      <td>1</td>\n",
       "      <td>0</td>\n",
       "      <td></td>\n",
       "      <td>NO_ASIGNADO</td>\n",
       "    </tr>\n",
       "    <tr>\n",
       "      <th>5289</th>\n",
       "      <td>Idaho</td>\n",
       "      <td>Owyhee</td>\n",
       "      <td>Regence Blue Shield of Idaho</td>\n",
       "      <td>Regence BlueShield of Idaho (Medicare-Medicaid...</td>\n",
       "      <td>NO_ASIGNADO</td>\n",
       "      <td>$-</td>\n",
       "      <td>H8534</td>\n",
       "      <td>1</td>\n",
       "      <td>0</td>\n",
       "      <td></td>\n",
       "      <td>NO_ASIGNADO</td>\n",
       "    </tr>\n",
       "    <tr>\n",
       "      <th>5305</th>\n",
       "      <td>Idaho</td>\n",
       "      <td>Payette</td>\n",
       "      <td>Regence Blue Shield of Idaho</td>\n",
       "      <td>Regence BlueShield of Idaho (Medicare-Medicaid...</td>\n",
       "      <td>NO_ASIGNADO</td>\n",
       "      <td>$-</td>\n",
       "      <td>H8534</td>\n",
       "      <td>1</td>\n",
       "      <td>0</td>\n",
       "      <td></td>\n",
       "      <td>NO_ASIGNADO</td>\n",
       "    </tr>\n",
       "    <tr>\n",
       "      <th>5314</th>\n",
       "      <td>Idaho</td>\n",
       "      <td>Power</td>\n",
       "      <td>Regence Blue Shield of Idaho</td>\n",
       "      <td>Regence BlueShield of Idaho (Medicare-Medicaid...</td>\n",
       "      <td>NO_ASIGNADO</td>\n",
       "      <td>$-</td>\n",
       "      <td>H8534</td>\n",
       "      <td>1</td>\n",
       "      <td>0</td>\n",
       "      <td></td>\n",
       "      <td>NO_ASIGNADO</td>\n",
       "    </tr>\n",
       "    <tr>\n",
       "      <th>5323</th>\n",
       "      <td>Idaho</td>\n",
       "      <td>Shoshone</td>\n",
       "      <td>Regence Blue Shield of Idaho</td>\n",
       "      <td>Regence BlueShield of Idaho (Medicare-Medicaid...</td>\n",
       "      <td>NO_ASIGNADO</td>\n",
       "      <td>$-</td>\n",
       "      <td>H8534</td>\n",
       "      <td>1</td>\n",
       "      <td>0</td>\n",
       "      <td></td>\n",
       "      <td>NO_ASIGNADO</td>\n",
       "    </tr>\n",
       "    <tr>\n",
       "      <th>5327</th>\n",
       "      <td>Idaho</td>\n",
       "      <td>Teton</td>\n",
       "      <td>Regence Blue Shield of Idaho</td>\n",
       "      <td>Regence BlueShield of Idaho (Medicare-Medicaid...</td>\n",
       "      <td>NO_ASIGNADO</td>\n",
       "      <td>$-</td>\n",
       "      <td>H8534</td>\n",
       "      <td>1</td>\n",
       "      <td>0</td>\n",
       "      <td></td>\n",
       "      <td>NO_ASIGNADO</td>\n",
       "    </tr>\n",
       "    <tr>\n",
       "      <th>5340</th>\n",
       "      <td>Idaho</td>\n",
       "      <td>Twin Falls</td>\n",
       "      <td>Regence Blue Shield of Idaho</td>\n",
       "      <td>Regence BlueShield of Idaho (Medicare-Medicaid...</td>\n",
       "      <td>NO_ASIGNADO</td>\n",
       "      <td>$-</td>\n",
       "      <td>H8534</td>\n",
       "      <td>1</td>\n",
       "      <td>0</td>\n",
       "      <td></td>\n",
       "      <td>NO_ASIGNADO</td>\n",
       "    </tr>\n",
       "    <tr>\n",
       "      <th>5349</th>\n",
       "      <td>Idaho</td>\n",
       "      <td>Valley</td>\n",
       "      <td>Regence Blue Shield of Idaho</td>\n",
       "      <td>Regence BlueShield of Idaho (Medicare-Medicaid...</td>\n",
       "      <td>NO_ASIGNADO</td>\n",
       "      <td>$-</td>\n",
       "      <td>H8534</td>\n",
       "      <td>1</td>\n",
       "      <td>0</td>\n",
       "      <td></td>\n",
       "      <td>NO_ASIGNADO</td>\n",
       "    </tr>\n",
       "    <tr>\n",
       "      <th>5358</th>\n",
       "      <td>Idaho</td>\n",
       "      <td>Washington</td>\n",
       "      <td>Regence Blue Shield of Idaho</td>\n",
       "      <td>Regence BlueShield of Idaho (Medicare-Medicaid...</td>\n",
       "      <td>NO_ASIGNADO</td>\n",
       "      <td>$-</td>\n",
       "      <td>H8534</td>\n",
       "      <td>1</td>\n",
       "      <td>0</td>\n",
       "      <td></td>\n",
       "      <td>NO_ASIGNADO</td>\n",
       "    </tr>\n",
       "  </tbody>\n",
       "</table>\n",
       "</div>"
      ],
      "text/plain": [
       "      STATE      COUNTY                  ORGANIZATION  \\\n",
       "4993  Idaho         Ada  Regence Blue Shield of Idaho   \n",
       "4999  Idaho       Adams  Regence Blue Shield of Idaho   \n",
       "5014  Idaho     Bannock  Regence Blue Shield of Idaho   \n",
       "5023  Idaho     Benewah  Regence Blue Shield of Idaho   \n",
       "5035  Idaho     Bingham  Regence Blue Shield of Idaho   \n",
       "5057  Idaho       Boise  Regence Blue Shield of Idaho   \n",
       "5070  Idaho      Bonner  Regence Blue Shield of Idaho   \n",
       "5086  Idaho  Bonneville  Regence Blue Shield of Idaho   \n",
       "5099  Idaho    Boundary  Regence Blue Shield of Idaho   \n",
       "5122  Idaho      Canyon  Regence Blue Shield of Idaho   \n",
       "5144  Idaho       Clark  Regence Blue Shield of Idaho   \n",
       "5145  Idaho  Clearwater  Regence Blue Shield of Idaho   \n",
       "5156  Idaho      Elmore  Regence Blue Shield of Idaho   \n",
       "5165  Idaho     Fremont  Regence Blue Shield of Idaho   \n",
       "5180  Idaho         Gem  Regence Blue Shield of Idaho   \n",
       "5191  Idaho     Gooding  Regence Blue Shield of Idaho   \n",
       "5192  Idaho       Idaho  Regence Blue Shield of Idaho   \n",
       "5204  Idaho   Jefferson  Regence Blue Shield of Idaho   \n",
       "5227  Idaho    Kootenai  Regence Blue Shield of Idaho   \n",
       "5236  Idaho       Latah  Regence Blue Shield of Idaho   \n",
       "5237  Idaho       Lewis  Regence Blue Shield of Idaho   \n",
       "5251  Idaho     Madison  Regence Blue Shield of Idaho   \n",
       "5263  Idaho    Minidoka  Regence Blue Shield of Idaho   \n",
       "5272  Idaho   Nez Perce  Regence Blue Shield of Idaho   \n",
       "5289  Idaho      Owyhee  Regence Blue Shield of Idaho   \n",
       "5305  Idaho     Payette  Regence Blue Shield of Idaho   \n",
       "5314  Idaho       Power  Regence Blue Shield of Idaho   \n",
       "5323  Idaho    Shoshone  Regence Blue Shield of Idaho   \n",
       "5327  Idaho       Teton  Regence Blue Shield of Idaho   \n",
       "5340  Idaho  Twin Falls  Regence Blue Shield of Idaho   \n",
       "5349  Idaho      Valley  Regence Blue Shield of Idaho   \n",
       "5358  Idaho  Washington  Regence Blue Shield of Idaho   \n",
       "\n",
       "                                              PLAN_NAME GENERIC_TYPE     MCP  \\\n",
       "4993  Regence BlueShield of Idaho (Medicare-Medicaid...  NO_ASIGNADO   $-      \n",
       "4999  Regence BlueShield of Idaho (Medicare-Medicaid...  NO_ASIGNADO   $-      \n",
       "5014  Regence BlueShield of Idaho (Medicare-Medicaid...  NO_ASIGNADO   $-      \n",
       "5023  Regence BlueShield of Idaho (Medicare-Medicaid...  NO_ASIGNADO   $-      \n",
       "5035  Regence BlueShield of Idaho (Medicare-Medicaid...  NO_ASIGNADO   $-      \n",
       "5057  Regence BlueShield of Idaho (Medicare-Medicaid...  NO_ASIGNADO   $-      \n",
       "5070  Regence BlueShield of Idaho (Medicare-Medicaid...  NO_ASIGNADO   $-      \n",
       "5086  Regence BlueShield of Idaho (Medicare-Medicaid...  NO_ASIGNADO   $-      \n",
       "5099  Regence BlueShield of Idaho (Medicare-Medicaid...  NO_ASIGNADO   $-      \n",
       "5122  Regence BlueShield of Idaho (Medicare-Medicaid...  NO_ASIGNADO   $-      \n",
       "5144  Regence BlueShield of Idaho (Medicare-Medicaid...  NO_ASIGNADO   $-      \n",
       "5145  Regence BlueShield of Idaho (Medicare-Medicaid...  NO_ASIGNADO   $-      \n",
       "5156  Regence BlueShield of Idaho (Medicare-Medicaid...  NO_ASIGNADO   $-      \n",
       "5165  Regence BlueShield of Idaho (Medicare-Medicaid...  NO_ASIGNADO   $-      \n",
       "5180  Regence BlueShield of Idaho (Medicare-Medicaid...  NO_ASIGNADO   $-      \n",
       "5191  Regence BlueShield of Idaho (Medicare-Medicaid...  NO_ASIGNADO   $-      \n",
       "5192  Regence BlueShield of Idaho (Medicare-Medicaid...  NO_ASIGNADO   $-      \n",
       "5204  Regence BlueShield of Idaho (Medicare-Medicaid...  NO_ASIGNADO   $-      \n",
       "5227  Regence BlueShield of Idaho (Medicare-Medicaid...  NO_ASIGNADO   $-      \n",
       "5236  Regence BlueShield of Idaho (Medicare-Medicaid...  NO_ASIGNADO   $-      \n",
       "5237  Regence BlueShield of Idaho (Medicare-Medicaid...  NO_ASIGNADO   $-      \n",
       "5251  Regence BlueShield of Idaho (Medicare-Medicaid...  NO_ASIGNADO   $-      \n",
       "5263  Regence BlueShield of Idaho (Medicare-Medicaid...  NO_ASIGNADO   $-      \n",
       "5272  Regence BlueShield of Idaho (Medicare-Medicaid...  NO_ASIGNADO   $-      \n",
       "5289  Regence BlueShield of Idaho (Medicare-Medicaid...  NO_ASIGNADO   $-      \n",
       "5305  Regence BlueShield of Idaho (Medicare-Medicaid...  NO_ASIGNADO   $-      \n",
       "5314  Regence BlueShield of Idaho (Medicare-Medicaid...  NO_ASIGNADO   $-      \n",
       "5323  Regence BlueShield of Idaho (Medicare-Medicaid...  NO_ASIGNADO   $-      \n",
       "5327  Regence BlueShield of Idaho (Medicare-Medicaid...  NO_ASIGNADO   $-      \n",
       "5340  Regence BlueShield of Idaho (Medicare-Medicaid...  NO_ASIGNADO   $-      \n",
       "5349  Regence BlueShield of Idaho (Medicare-Medicaid...  NO_ASIGNADO   $-      \n",
       "5358  Regence BlueShield of Idaho (Medicare-Medicaid...  NO_ASIGNADO   $-      \n",
       "\n",
       "     CONTRACT_ID  PLAN_ID  SEGMENT_ID MOOP_LIMIT       RATING  \n",
       "4993       H8534        1           0             NO_ASIGNADO  \n",
       "4999       H8534        1           0             NO_ASIGNADO  \n",
       "5014       H8534        1           0             NO_ASIGNADO  \n",
       "5023       H8534        1           0             NO_ASIGNADO  \n",
       "5035       H8534        1           0             NO_ASIGNADO  \n",
       "5057       H8534        1           0             NO_ASIGNADO  \n",
       "5070       H8534        1           0             NO_ASIGNADO  \n",
       "5086       H8534        1           0             NO_ASIGNADO  \n",
       "5099       H8534        1           0             NO_ASIGNADO  \n",
       "5122       H8534        1           0             NO_ASIGNADO  \n",
       "5144       H8534        1           0             NO_ASIGNADO  \n",
       "5145       H8534        1           0             NO_ASIGNADO  \n",
       "5156       H8534        1           0             NO_ASIGNADO  \n",
       "5165       H8534        1           0             NO_ASIGNADO  \n",
       "5180       H8534        1           0             NO_ASIGNADO  \n",
       "5191       H8534        1           0             NO_ASIGNADO  \n",
       "5192       H8534        1           0             NO_ASIGNADO  \n",
       "5204       H8534        1           0             NO_ASIGNADO  \n",
       "5227       H8534        1           0             NO_ASIGNADO  \n",
       "5236       H8534        1           0             NO_ASIGNADO  \n",
       "5237       H8534        1           0             NO_ASIGNADO  \n",
       "5251       H8534        1           0             NO_ASIGNADO  \n",
       "5263       H8534        1           0             NO_ASIGNADO  \n",
       "5272       H8534        1           0             NO_ASIGNADO  \n",
       "5289       H8534        1           0             NO_ASIGNADO  \n",
       "5305       H8534        1           0             NO_ASIGNADO  \n",
       "5314       H8534        1           0             NO_ASIGNADO  \n",
       "5323       H8534        1           0             NO_ASIGNADO  \n",
       "5327       H8534        1           0             NO_ASIGNADO  \n",
       "5340       H8534        1           0             NO_ASIGNADO  \n",
       "5349       H8534        1           0             NO_ASIGNADO  \n",
       "5358       H8534        1           0             NO_ASIGNADO  "
      ]
     },
     "execution_count": 78,
     "metadata": {},
     "output_type": "execute_result"
    }
   ],
   "source": [
    "df_from_xlsx_total[df_from_xlsx_total['RATING'] == 'NO_ASIGNADO']"
   ]
  },
  {
   "cell_type": "code",
   "execution_count": 79,
   "metadata": {},
   "outputs": [],
   "source": [
    "#df_from_xlsx_total = df_from_xlsx_total.drop(df_from_xlsx_total[(df_from_xlsx_total.STATE == 'Idaho')\\\n",
    "#                                                                & (df_from_xlsx_total.GENERIC_TYPE == 'NO_ASIGNADO') \\\n",
    "#                                                                & (df_from_xlsx_total.RATING == 'NO_ASIGNADO')].index)"
   ]
  },
  {
   "cell_type": "code",
   "execution_count": 80,
   "metadata": {},
   "outputs": [
    {
     "data": {
      "text/html": [
       "<div>\n",
       "<style scoped>\n",
       "    .dataframe tbody tr th:only-of-type {\n",
       "        vertical-align: middle;\n",
       "    }\n",
       "\n",
       "    .dataframe tbody tr th {\n",
       "        vertical-align: top;\n",
       "    }\n",
       "\n",
       "    .dataframe thead th {\n",
       "        text-align: right;\n",
       "    }\n",
       "</style>\n",
       "<table border=\"1\" class=\"dataframe\">\n",
       "  <thead>\n",
       "    <tr style=\"text-align: right;\">\n",
       "      <th></th>\n",
       "      <th>count</th>\n",
       "    </tr>\n",
       "    <tr>\n",
       "      <th>GENERIC_TYPE</th>\n",
       "      <th></th>\n",
       "    </tr>\n",
       "  </thead>\n",
       "  <tbody>\n",
       "    <tr>\n",
       "      <th>Cost</th>\n",
       "      <td>21621</td>\n",
       "    </tr>\n",
       "    <tr>\n",
       "      <th>Cost *</th>\n",
       "      <td>11888</td>\n",
       "    </tr>\n",
       "    <tr>\n",
       "      <th>Local HMO</th>\n",
       "      <td>88465</td>\n",
       "    </tr>\n",
       "    <tr>\n",
       "      <th>Local HMO *</th>\n",
       "      <td>19118</td>\n",
       "    </tr>\n",
       "    <tr>\n",
       "      <th>Local PPO</th>\n",
       "      <td>62120</td>\n",
       "    </tr>\n",
       "    <tr>\n",
       "      <th>Local PPO *</th>\n",
       "      <td>10149</td>\n",
       "    </tr>\n",
       "    <tr>\n",
       "      <th>MSA *</th>\n",
       "      <td>2511</td>\n",
       "    </tr>\n",
       "    <tr>\n",
       "      <th>NO_ASIGNADO</th>\n",
       "      <td>32</td>\n",
       "    </tr>\n",
       "    <tr>\n",
       "      <th>PFFS</th>\n",
       "      <td>21429</td>\n",
       "    </tr>\n",
       "    <tr>\n",
       "      <th>PFFS *</th>\n",
       "      <td>16876</td>\n",
       "    </tr>\n",
       "    <tr>\n",
       "      <th>Regional PPO</th>\n",
       "      <td>33124</td>\n",
       "    </tr>\n",
       "    <tr>\n",
       "      <th>Regional PPO *</th>\n",
       "      <td>18850</td>\n",
       "    </tr>\n",
       "  </tbody>\n",
       "</table>\n",
       "</div>"
      ],
      "text/plain": [
       "                count\n",
       "GENERIC_TYPE         \n",
       "Cost            21621\n",
       "Cost *          11888\n",
       "Local HMO       88465\n",
       "Local HMO *     19118\n",
       "Local PPO       62120\n",
       "Local PPO *     10149\n",
       "MSA *            2511\n",
       "NO_ASIGNADO        32\n",
       "PFFS            21429\n",
       "PFFS *          16876\n",
       "Regional PPO    33124\n",
       "Regional PPO *  18850"
      ]
     },
     "execution_count": 80,
     "metadata": {},
     "output_type": "execute_result"
    }
   ],
   "source": [
    "df_from_xlsx_total[\"GENERIC_TYPE\"].groupby([df_from_xlsx_total[\"GENERIC_TYPE\"]]).agg({'count'})"
   ]
  },
  {
   "cell_type": "code",
   "execution_count": 81,
   "metadata": {},
   "outputs": [
    {
     "data": {
      "text/plain": [
       "STATE           306183\n",
       "COUNTY          306183\n",
       "ORGANIZATION    306183\n",
       "PLAN_NAME       306183\n",
       "GENERIC_TYPE    306183\n",
       "MCP             306183\n",
       "CONTRACT_ID     306183\n",
       "PLAN_ID         306183\n",
       "SEGMENT_ID      306183\n",
       "MOOP_LIMIT      306183\n",
       "RATING          306183\n",
       "dtype: int64"
      ]
     },
     "execution_count": 81,
     "metadata": {},
     "output_type": "execute_result"
    }
   ],
   "source": [
    "df_from_xlsx_total.count()"
   ]
  },
  {
   "cell_type": "code",
   "execution_count": 82,
   "metadata": {},
   "outputs": [
    {
     "data": {
      "text/plain": [
       "STATE           0\n",
       "COUNTY          0\n",
       "ORGANIZATION    0\n",
       "PLAN_NAME       0\n",
       "GENERIC_TYPE    0\n",
       "MCP             0\n",
       "CONTRACT_ID     0\n",
       "PLAN_ID         0\n",
       "SEGMENT_ID      0\n",
       "MOOP_LIMIT      0\n",
       "RATING          0\n",
       "dtype: int64"
      ]
     },
     "execution_count": 82,
     "metadata": {},
     "output_type": "execute_result"
    }
   ],
   "source": [
    "# Check NULL values\n",
    "df_from_xlsx_total.isnull().sum()"
   ]
  },
  {
   "cell_type": "code",
   "execution_count": 83,
   "metadata": {},
   "outputs": [
    {
     "data": {
      "text/html": [
       "<div>\n",
       "<style scoped>\n",
       "    .dataframe tbody tr th:only-of-type {\n",
       "        vertical-align: middle;\n",
       "    }\n",
       "\n",
       "    .dataframe tbody tr th {\n",
       "        vertical-align: top;\n",
       "    }\n",
       "\n",
       "    .dataframe thead th {\n",
       "        text-align: right;\n",
       "    }\n",
       "</style>\n",
       "<table border=\"1\" class=\"dataframe\">\n",
       "  <thead>\n",
       "    <tr style=\"text-align: right;\">\n",
       "      <th></th>\n",
       "      <th>count</th>\n",
       "    </tr>\n",
       "    <tr>\n",
       "      <th>RATING</th>\n",
       "      <th></th>\n",
       "    </tr>\n",
       "  </thead>\n",
       "  <tbody>\n",
       "    <tr>\n",
       "      <th>2</th>\n",
       "      <td>667</td>\n",
       "    </tr>\n",
       "    <tr>\n",
       "      <th>2.5</th>\n",
       "      <td>22203</td>\n",
       "    </tr>\n",
       "    <tr>\n",
       "      <th>3</th>\n",
       "      <td>46156</td>\n",
       "    </tr>\n",
       "    <tr>\n",
       "      <th>3.5</th>\n",
       "      <td>78743</td>\n",
       "    </tr>\n",
       "    <tr>\n",
       "      <th>4</th>\n",
       "      <td>73771</td>\n",
       "    </tr>\n",
       "    <tr>\n",
       "      <th>4.5</th>\n",
       "      <td>54769</td>\n",
       "    </tr>\n",
       "    <tr>\n",
       "      <th>5</th>\n",
       "      <td>7356</td>\n",
       "    </tr>\n",
       "    <tr>\n",
       "      <th>NO_ASIGNADO</th>\n",
       "      <td>32</td>\n",
       "    </tr>\n",
       "    <tr>\n",
       "      <th>Not Applicable</th>\n",
       "      <td>1757</td>\n",
       "    </tr>\n",
       "    <tr>\n",
       "      <th>Not enough data available</th>\n",
       "      <td>4968</td>\n",
       "    </tr>\n",
       "    <tr>\n",
       "      <th>Not enough data available</th>\n",
       "      <td>1684</td>\n",
       "    </tr>\n",
       "    <tr>\n",
       "      <th>Not enough data to calculate overall rating</th>\n",
       "      <td>893</td>\n",
       "    </tr>\n",
       "    <tr>\n",
       "      <th>Not enough data to calculate summary rating</th>\n",
       "      <td>115</td>\n",
       "    </tr>\n",
       "    <tr>\n",
       "      <th>Not enough data to calculate summary score</th>\n",
       "      <td>8</td>\n",
       "    </tr>\n",
       "    <tr>\n",
       "      <th>Plan too new to be measured</th>\n",
       "      <td>11603</td>\n",
       "    </tr>\n",
       "    <tr>\n",
       "      <th>Plan too new to be measured</th>\n",
       "      <td>1458</td>\n",
       "    </tr>\n",
       "  </tbody>\n",
       "</table>\n",
       "</div>"
      ],
      "text/plain": [
       "                                             count\n",
       "RATING                                            \n",
       "2                                              667\n",
       "2.5                                          22203\n",
       "3                                            46156\n",
       "3.5                                          78743\n",
       "4                                            73771\n",
       "4.5                                          54769\n",
       "5                                             7356\n",
       "NO_ASIGNADO                                     32\n",
       "Not Applicable                                1757\n",
       "Not enough data available                     4968\n",
       "Not enough data available                     1684\n",
       "Not enough data to calculate overall rating    893\n",
       "Not enough data to calculate summary rating    115\n",
       "Not enough data to calculate summary score       8\n",
       "Plan too new to be measured                  11603\n",
       "Plan too new to be measured                   1458"
      ]
     },
     "execution_count": 83,
     "metadata": {},
     "output_type": "execute_result"
    }
   ],
   "source": [
    "df_from_xlsx_total[\"RATING\"].groupby([df_from_xlsx_total[\"RATING\"]]).agg({'count'})"
   ]
  },
  {
   "cell_type": "code",
   "execution_count": 84,
   "metadata": {},
   "outputs": [],
   "source": [
    "#pd.value_counts(df_from_xlsx_total['TRAMO_EDAD']=='NO_ASIGNADO', sort=True, ascending=False, normalize=False, bins=None, dropna=False)"
   ]
  },
  {
   "cell_type": "code",
   "execution_count": 85,
   "metadata": {},
   "outputs": [],
   "source": [
    "# Reset the index for new df\n",
    "df_from_xlsx_total = df_from_xlsx_total.reset_index() "
   ]
  },
  {
   "cell_type": "code",
   "execution_count": 86,
   "metadata": {},
   "outputs": [
    {
     "data": {
      "text/html": [
       "<div>\n",
       "<style scoped>\n",
       "    .dataframe tbody tr th:only-of-type {\n",
       "        vertical-align: middle;\n",
       "    }\n",
       "\n",
       "    .dataframe tbody tr th {\n",
       "        vertical-align: top;\n",
       "    }\n",
       "\n",
       "    .dataframe thead th {\n",
       "        text-align: right;\n",
       "    }\n",
       "</style>\n",
       "<table border=\"1\" class=\"dataframe\">\n",
       "  <thead>\n",
       "    <tr style=\"text-align: right;\">\n",
       "      <th></th>\n",
       "      <th>index</th>\n",
       "      <th>STATE</th>\n",
       "      <th>COUNTY</th>\n",
       "      <th>ORGANIZATION</th>\n",
       "      <th>PLAN_NAME</th>\n",
       "      <th>GENERIC_TYPE</th>\n",
       "      <th>MCP</th>\n",
       "      <th>CONTRACT_ID</th>\n",
       "      <th>PLAN_ID</th>\n",
       "      <th>SEGMENT_ID</th>\n",
       "      <th>MOOP_LIMIT</th>\n",
       "      <th>RATING</th>\n",
       "    </tr>\n",
       "  </thead>\n",
       "  <tbody>\n",
       "    <tr>\n",
       "      <th>0</th>\n",
       "      <td>0</td>\n",
       "      <td>Alabama</td>\n",
       "      <td>Autauga</td>\n",
       "      <td>UnitedHealthcare</td>\n",
       "      <td>AARP MedicareComplete Plan 1 (HMO)</td>\n",
       "      <td>Local HMO</td>\n",
       "      <td>$0.00</td>\n",
       "      <td>H0151</td>\n",
       "      <td>1</td>\n",
       "      <td>0</td>\n",
       "      <td>$4,450</td>\n",
       "      <td>2.5</td>\n",
       "    </tr>\n",
       "    <tr>\n",
       "      <th>1</th>\n",
       "      <td>1</td>\n",
       "      <td>Alabama</td>\n",
       "      <td>Autauga</td>\n",
       "      <td>Blue Cross and Blue Shield of Alabama</td>\n",
       "      <td>Blue Advantage Complete (PPO)</td>\n",
       "      <td>Local PPO</td>\n",
       "      <td>$99.00</td>\n",
       "      <td>H0104</td>\n",
       "      <td>11</td>\n",
       "      <td>5</td>\n",
       "      <td>$3,400</td>\n",
       "      <td>2.5</td>\n",
       "    </tr>\n",
       "    <tr>\n",
       "      <th>2</th>\n",
       "      <td>2</td>\n",
       "      <td>Alabama</td>\n",
       "      <td>Autauga</td>\n",
       "      <td>Blue Cross and Blue Shield of Alabama</td>\n",
       "      <td>Blue Advantage Premier (PPO)</td>\n",
       "      <td>Local PPO</td>\n",
       "      <td>$199.00</td>\n",
       "      <td>H0104</td>\n",
       "      <td>10</td>\n",
       "      <td>3</td>\n",
       "      <td>$3,400</td>\n",
       "      <td>2.5</td>\n",
       "    </tr>\n",
       "    <tr>\n",
       "      <th>3</th>\n",
       "      <td>3</td>\n",
       "      <td>Alabama</td>\n",
       "      <td>Autauga</td>\n",
       "      <td>Healthspring of Alabama, Inc.</td>\n",
       "      <td>HealthyAdvantage (HMO)</td>\n",
       "      <td>Local HMO *</td>\n",
       "      <td>$0.00</td>\n",
       "      <td>H0150</td>\n",
       "      <td>12</td>\n",
       "      <td>0</td>\n",
       "      <td>$3,400</td>\n",
       "      <td>3</td>\n",
       "    </tr>\n",
       "    <tr>\n",
       "      <th>4</th>\n",
       "      <td>4</td>\n",
       "      <td>Alabama</td>\n",
       "      <td>Autauga</td>\n",
       "      <td>Healthspring of Alabama, Inc.</td>\n",
       "      <td>HealthyAdvantage Preferred (HMO)</td>\n",
       "      <td>Local HMO</td>\n",
       "      <td>$0.00</td>\n",
       "      <td>H0150</td>\n",
       "      <td>1</td>\n",
       "      <td>0</td>\n",
       "      <td>$3,400</td>\n",
       "      <td>3</td>\n",
       "    </tr>\n",
       "  </tbody>\n",
       "</table>\n",
       "</div>"
      ],
      "text/plain": [
       "   index    STATE   COUNTY                           ORGANIZATION  \\\n",
       "0      0  Alabama  Autauga                       UnitedHealthcare   \n",
       "1      1  Alabama  Autauga  Blue Cross and Blue Shield of Alabama   \n",
       "2      2  Alabama  Autauga  Blue Cross and Blue Shield of Alabama   \n",
       "3      3  Alabama  Autauga          Healthspring of Alabama, Inc.   \n",
       "4      4  Alabama  Autauga          Healthspring of Alabama, Inc.   \n",
       "\n",
       "                            PLAN_NAME GENERIC_TYPE       MCP CONTRACT_ID  \\\n",
       "0  AARP MedicareComplete Plan 1 (HMO)    Local HMO    $0.00        H0151   \n",
       "1       Blue Advantage Complete (PPO)    Local PPO   $99.00        H0104   \n",
       "2        Blue Advantage Premier (PPO)    Local PPO  $199.00        H0104   \n",
       "3              HealthyAdvantage (HMO)  Local HMO *    $0.00        H0150   \n",
       "4    HealthyAdvantage Preferred (HMO)    Local HMO    $0.00        H0150   \n",
       "\n",
       "   PLAN_ID  SEGMENT_ID MOOP_LIMIT RATING  \n",
       "0        1           0    $4,450     2.5  \n",
       "1       11           5    $3,400     2.5  \n",
       "2       10           3    $3,400     2.5  \n",
       "3       12           0    $3,400       3  \n",
       "4        1           0    $3,400       3  "
      ]
     },
     "execution_count": 86,
     "metadata": {},
     "output_type": "execute_result"
    }
   ],
   "source": [
    "df_from_xlsx_total.head()"
   ]
  },
  {
   "cell_type": "code",
   "execution_count": 87,
   "metadata": {},
   "outputs": [],
   "source": [
    "#Filter: Columns that start with ...\n",
    "#filtro_borrar = [col for col in df_from_xlsx_total if col.startswith('BORRAR')]\n",
    "filtro_index = [col for col in df_from_xlsx_total if col.startswith('index')]\n",
    "# Delete surplus columns\n",
    "#df_from_xlsx_total = df_from_xlsx_total.drop(columns=filtro_borrar)\n",
    "df_from_xlsx_total = df_from_xlsx_total.drop(columns=filtro_index)"
   ]
  },
  {
   "cell_type": "code",
   "execution_count": 88,
   "metadata": {},
   "outputs": [
    {
     "data": {
      "text/html": [
       "<div>\n",
       "<style scoped>\n",
       "    .dataframe tbody tr th:only-of-type {\n",
       "        vertical-align: middle;\n",
       "    }\n",
       "\n",
       "    .dataframe tbody tr th {\n",
       "        vertical-align: top;\n",
       "    }\n",
       "\n",
       "    .dataframe thead th {\n",
       "        text-align: right;\n",
       "    }\n",
       "</style>\n",
       "<table border=\"1\" class=\"dataframe\">\n",
       "  <thead>\n",
       "    <tr style=\"text-align: right;\">\n",
       "      <th></th>\n",
       "      <th>STATE</th>\n",
       "      <th>COUNTY</th>\n",
       "      <th>ORGANIZATION</th>\n",
       "      <th>PLAN_NAME</th>\n",
       "      <th>GENERIC_TYPE</th>\n",
       "      <th>MCP</th>\n",
       "      <th>CONTRACT_ID</th>\n",
       "      <th>PLAN_ID</th>\n",
       "      <th>SEGMENT_ID</th>\n",
       "      <th>MOOP_LIMIT</th>\n",
       "      <th>RATING</th>\n",
       "    </tr>\n",
       "  </thead>\n",
       "  <tbody>\n",
       "    <tr>\n",
       "      <th>0</th>\n",
       "      <td>Alabama</td>\n",
       "      <td>Autauga</td>\n",
       "      <td>UnitedHealthcare</td>\n",
       "      <td>AARP MedicareComplete Plan 1 (HMO)</td>\n",
       "      <td>Local HMO</td>\n",
       "      <td>$0.00</td>\n",
       "      <td>H0151</td>\n",
       "      <td>1</td>\n",
       "      <td>0</td>\n",
       "      <td>$4,450</td>\n",
       "      <td>2.5</td>\n",
       "    </tr>\n",
       "  </tbody>\n",
       "</table>\n",
       "</div>"
      ],
      "text/plain": [
       "     STATE   COUNTY      ORGANIZATION                           PLAN_NAME  \\\n",
       "0  Alabama  Autauga  UnitedHealthcare  AARP MedicareComplete Plan 1 (HMO)   \n",
       "\n",
       "  GENERIC_TYPE     MCP CONTRACT_ID  PLAN_ID  SEGMENT_ID MOOP_LIMIT RATING  \n",
       "0    Local HMO  $0.00        H0151        1           0    $4,450     2.5  "
      ]
     },
     "execution_count": 88,
     "metadata": {},
     "output_type": "execute_result"
    }
   ],
   "source": [
    "df_from_xlsx_total.head(1)"
   ]
  },
  {
   "cell_type": "code",
   "execution_count": 89,
   "metadata": {},
   "outputs": [
    {
     "data": {
      "text/html": [
       "<div>\n",
       "<style scoped>\n",
       "    .dataframe tbody tr th:only-of-type {\n",
       "        vertical-align: middle;\n",
       "    }\n",
       "\n",
       "    .dataframe tbody tr th {\n",
       "        vertical-align: top;\n",
       "    }\n",
       "\n",
       "    .dataframe thead th {\n",
       "        text-align: right;\n",
       "    }\n",
       "</style>\n",
       "<table border=\"1\" class=\"dataframe\">\n",
       "  <thead>\n",
       "    <tr style=\"text-align: right;\">\n",
       "      <th></th>\n",
       "      <th>STATE</th>\n",
       "      <th>COUNTY</th>\n",
       "      <th>ORGANIZATION</th>\n",
       "      <th>PLAN_NAME</th>\n",
       "      <th>GENERIC_TYPE</th>\n",
       "      <th>MCP</th>\n",
       "      <th>CONTRACT_ID</th>\n",
       "      <th>PLAN_ID</th>\n",
       "      <th>SEGMENT_ID</th>\n",
       "      <th>MOOP_LIMIT</th>\n",
       "      <th>RATING</th>\n",
       "    </tr>\n",
       "  </thead>\n",
       "  <tbody>\n",
       "    <tr>\n",
       "      <th>306182</th>\n",
       "      <td>Wyoming</td>\n",
       "      <td>Weston</td>\n",
       "      <td>UnitedHealthcare</td>\n",
       "      <td>UnitedHealthcare MedicareDirect Rx (PFFS)</td>\n",
       "      <td>PFFS</td>\n",
       "      <td>$64.00</td>\n",
       "      <td>H5435</td>\n",
       "      <td>24</td>\n",
       "      <td>0</td>\n",
       "      <td>$-</td>\n",
       "      <td>3</td>\n",
       "    </tr>\n",
       "  </tbody>\n",
       "</table>\n",
       "</div>"
      ],
      "text/plain": [
       "          STATE  COUNTY      ORGANIZATION  \\\n",
       "306182  Wyoming  Weston  UnitedHealthcare   \n",
       "\n",
       "                                        PLAN_NAME GENERIC_TYPE       MCP  \\\n",
       "306182  UnitedHealthcare MedicareDirect Rx (PFFS)         PFFS   $64.00    \n",
       "\n",
       "       CONTRACT_ID  PLAN_ID  SEGMENT_ID MOOP_LIMIT RATING  \n",
       "306182       H5435       24           0      $-         3  "
      ]
     },
     "execution_count": 89,
     "metadata": {},
     "output_type": "execute_result"
    }
   ],
   "source": [
    "df_from_xlsx_total.tail(1)"
   ]
  },
  {
   "cell_type": "code",
   "execution_count": 90,
   "metadata": {},
   "outputs": [],
   "source": [
    "# Rating data"
   ]
  },
  {
   "cell_type": "code",
   "execution_count": 91,
   "metadata": {},
   "outputs": [
    {
     "data": {
      "text/plain": [
       "Index(['STATE', 'COUNTY', 'ORGANIZATION', 'PLAN_NAME', 'GENERIC_TYPE', 'MCP',\n",
       "       'CONTRACT_ID', 'PLAN_ID', 'SEGMENT_ID', 'MOOP_LIMIT', 'RATING'],\n",
       "      dtype='object')"
      ]
     },
     "execution_count": 91,
     "metadata": {},
     "output_type": "execute_result"
    }
   ],
   "source": [
    "df_from_xlsx_total.columns"
   ]
  },
  {
   "cell_type": "code",
   "execution_count": 92,
   "metadata": {},
   "outputs": [
    {
     "data": {
      "text/plain": [
       "STATE           306183\n",
       "COUNTY          306183\n",
       "ORGANIZATION    306183\n",
       "PLAN_NAME       306183\n",
       "GENERIC_TYPE    306183\n",
       "MCP             306183\n",
       "CONTRACT_ID     306183\n",
       "PLAN_ID         306183\n",
       "SEGMENT_ID      306183\n",
       "MOOP_LIMIT      306183\n",
       "RATING          306183\n",
       "dtype: int64"
      ]
     },
     "execution_count": 92,
     "metadata": {},
     "output_type": "execute_result"
    }
   ],
   "source": [
    "# Count observations\n",
    "df_from_xlsx_total.count()"
   ]
  },
  {
   "cell_type": "code",
   "execution_count": 93,
   "metadata": {},
   "outputs": [
    {
     "data": {
      "text/plain": [
       "STATE           object\n",
       "COUNTY          object\n",
       "ORGANIZATION    object\n",
       "PLAN_NAME       object\n",
       "GENERIC_TYPE    object\n",
       "MCP             object\n",
       "CONTRACT_ID     object\n",
       "PLAN_ID          int64\n",
       "SEGMENT_ID       int64\n",
       "MOOP_LIMIT      object\n",
       "RATING          object\n",
       "dtype: object"
      ]
     },
     "execution_count": 93,
     "metadata": {},
     "output_type": "execute_result"
    }
   ],
   "source": [
    "df_from_xlsx_total.dtypes"
   ]
  },
  {
   "cell_type": "code",
   "execution_count": 95,
   "metadata": {},
   "outputs": [
    {
     "data": {
      "text/plain": [
       "'Alabama'"
      ]
     },
     "execution_count": 95,
     "metadata": {},
     "output_type": "execute_result"
    }
   ],
   "source": [
    "df_from_xlsx_total[\"STATE\"][0]"
   ]
  },
  {
   "cell_type": "code",
   "execution_count": 96,
   "metadata": {},
   "outputs": [
    {
     "data": {
      "text/plain": [
       "'Wyoming'"
      ]
     },
     "execution_count": 96,
     "metadata": {},
     "output_type": "execute_result"
    }
   ],
   "source": [
    "df_from_xlsx_total[\"STATE\"][306182]"
   ]
  },
  {
   "cell_type": "code",
   "execution_count": 97,
   "metadata": {},
   "outputs": [
    {
     "data": {
      "text/plain": [
       "pandas.core.series.Series"
      ]
     },
     "execution_count": 97,
     "metadata": {},
     "output_type": "execute_result"
    }
   ],
   "source": [
    "type(df_from_xlsx_total[\"STATE\"])"
   ]
  },
  {
   "cell_type": "code",
   "execution_count": 98,
   "metadata": {},
   "outputs": [
    {
     "data": {
      "text/plain": [
       "pandas.core.series.Series"
      ]
     },
     "execution_count": 98,
     "metadata": {},
     "output_type": "execute_result"
    }
   ],
   "source": [
    "type(df_from_xlsx_total[\"GENERIC_TYPE\"])"
   ]
  },
  {
   "cell_type": "code",
   "execution_count": 99,
   "metadata": {},
   "outputs": [
    {
     "data": {
      "text/plain": [
       "pandas.core.series.Series"
      ]
     },
     "execution_count": 99,
     "metadata": {},
     "output_type": "execute_result"
    }
   ],
   "source": [
    "type(df_from_xlsx_total[\"RATING\"])"
   ]
  },
  {
   "cell_type": "code",
   "execution_count": 100,
   "metadata": {},
   "outputs": [
    {
     "data": {
      "text/html": [
       "<div>\n",
       "<style scoped>\n",
       "    .dataframe tbody tr th:only-of-type {\n",
       "        vertical-align: middle;\n",
       "    }\n",
       "\n",
       "    .dataframe tbody tr th {\n",
       "        vertical-align: top;\n",
       "    }\n",
       "\n",
       "    .dataframe thead th {\n",
       "        text-align: right;\n",
       "    }\n",
       "</style>\n",
       "<table border=\"1\" class=\"dataframe\">\n",
       "  <thead>\n",
       "    <tr style=\"text-align: right;\">\n",
       "      <th></th>\n",
       "      <th>STATE</th>\n",
       "      <th>COUNTY</th>\n",
       "      <th>ORGANIZATION</th>\n",
       "      <th>PLAN_NAME</th>\n",
       "      <th>GENERIC_TYPE</th>\n",
       "      <th>MCP</th>\n",
       "      <th>CONTRACT_ID</th>\n",
       "      <th>PLAN_ID</th>\n",
       "      <th>SEGMENT_ID</th>\n",
       "      <th>MOOP_LIMIT</th>\n",
       "      <th>RATING</th>\n",
       "    </tr>\n",
       "  </thead>\n",
       "  <tbody>\n",
       "    <tr>\n",
       "      <th>0</th>\n",
       "      <td>Alabama</td>\n",
       "      <td>Autauga</td>\n",
       "      <td>UnitedHealthcare</td>\n",
       "      <td>AARP MedicareComplete Plan 1 (HMO)</td>\n",
       "      <td>Local HMO</td>\n",
       "      <td>$0.00</td>\n",
       "      <td>H0151</td>\n",
       "      <td>1</td>\n",
       "      <td>0</td>\n",
       "      <td>$4,450</td>\n",
       "      <td>2.5</td>\n",
       "    </tr>\n",
       "  </tbody>\n",
       "</table>\n",
       "</div>"
      ],
      "text/plain": [
       "     STATE   COUNTY      ORGANIZATION                           PLAN_NAME  \\\n",
       "0  Alabama  Autauga  UnitedHealthcare  AARP MedicareComplete Plan 1 (HMO)   \n",
       "\n",
       "  GENERIC_TYPE     MCP CONTRACT_ID  PLAN_ID  SEGMENT_ID MOOP_LIMIT RATING  \n",
       "0    Local HMO  $0.00        H0151        1           0    $4,450     2.5  "
      ]
     },
     "execution_count": 100,
     "metadata": {},
     "output_type": "execute_result"
    }
   ],
   "source": [
    "df_from_xlsx_total.head(1)"
   ]
  },
  {
   "cell_type": "code",
   "execution_count": 101,
   "metadata": {},
   "outputs": [
    {
     "data": {
      "text/plain": [
       "STATE           object\n",
       "COUNTY          object\n",
       "ORGANIZATION    object\n",
       "PLAN_NAME       object\n",
       "GENERIC_TYPE    object\n",
       "MCP             object\n",
       "CONTRACT_ID     object\n",
       "PLAN_ID          int64\n",
       "SEGMENT_ID       int64\n",
       "MOOP_LIMIT      object\n",
       "RATING          object\n",
       "dtype: object"
      ]
     },
     "execution_count": 101,
     "metadata": {},
     "output_type": "execute_result"
    }
   ],
   "source": [
    "df_from_xlsx_total.dtypes"
   ]
  },
  {
   "cell_type": "code",
   "execution_count": 102,
   "metadata": {},
   "outputs": [
    {
     "data": {
      "text/plain": [
       "(306183, 11)"
      ]
     },
     "execution_count": 102,
     "metadata": {},
     "output_type": "execute_result"
    }
   ],
   "source": [
    "df_from_xlsx_total.shape"
   ]
  },
  {
   "cell_type": "code",
   "execution_count": 103,
   "metadata": {},
   "outputs": [
    {
     "data": {
      "text/plain": [
       "3577"
      ]
     },
     "execution_count": 103,
     "metadata": {},
     "output_type": "execute_result"
    }
   ],
   "source": [
    "df_from_xlsx_total.duplicated().sum()"
   ]
  },
  {
   "cell_type": "code",
   "execution_count": 104,
   "metadata": {},
   "outputs": [
    {
     "data": {
      "text/html": [
       "<div>\n",
       "<style scoped>\n",
       "    .dataframe tbody tr th:only-of-type {\n",
       "        vertical-align: middle;\n",
       "    }\n",
       "\n",
       "    .dataframe tbody tr th {\n",
       "        vertical-align: top;\n",
       "    }\n",
       "\n",
       "    .dataframe thead th {\n",
       "        text-align: right;\n",
       "    }\n",
       "</style>\n",
       "<table border=\"1\" class=\"dataframe\">\n",
       "  <thead>\n",
       "    <tr style=\"text-align: right;\">\n",
       "      <th></th>\n",
       "      <th>STATE</th>\n",
       "      <th>COUNTY</th>\n",
       "      <th>ORGANIZATION</th>\n",
       "      <th>PLAN_NAME</th>\n",
       "      <th>GENERIC_TYPE</th>\n",
       "      <th>MCP</th>\n",
       "      <th>CONTRACT_ID</th>\n",
       "      <th>PLAN_ID</th>\n",
       "      <th>SEGMENT_ID</th>\n",
       "      <th>MOOP_LIMIT</th>\n",
       "      <th>RATING</th>\n",
       "    </tr>\n",
       "  </thead>\n",
       "  <tbody>\n",
       "    <tr>\n",
       "      <th>0</th>\n",
       "      <td>Alabama</td>\n",
       "      <td>Autauga</td>\n",
       "      <td>UnitedHealthcare</td>\n",
       "      <td>AARP MedicareComplete Plan 1 (HMO)</td>\n",
       "      <td>Local HMO</td>\n",
       "      <td>$0.00</td>\n",
       "      <td>H0151</td>\n",
       "      <td>1</td>\n",
       "      <td>0</td>\n",
       "      <td>$4,450</td>\n",
       "      <td>2.5</td>\n",
       "    </tr>\n",
       "    <tr>\n",
       "      <th>1</th>\n",
       "      <td>Alabama</td>\n",
       "      <td>Autauga</td>\n",
       "      <td>Blue Cross and Blue Shield of Alabama</td>\n",
       "      <td>Blue Advantage Complete (PPO)</td>\n",
       "      <td>Local PPO</td>\n",
       "      <td>$99.00</td>\n",
       "      <td>H0104</td>\n",
       "      <td>11</td>\n",
       "      <td>5</td>\n",
       "      <td>$3,400</td>\n",
       "      <td>2.5</td>\n",
       "    </tr>\n",
       "    <tr>\n",
       "      <th>2</th>\n",
       "      <td>Alabama</td>\n",
       "      <td>Autauga</td>\n",
       "      <td>Blue Cross and Blue Shield of Alabama</td>\n",
       "      <td>Blue Advantage Premier (PPO)</td>\n",
       "      <td>Local PPO</td>\n",
       "      <td>$199.00</td>\n",
       "      <td>H0104</td>\n",
       "      <td>10</td>\n",
       "      <td>3</td>\n",
       "      <td>$3,400</td>\n",
       "      <td>2.5</td>\n",
       "    </tr>\n",
       "    <tr>\n",
       "      <th>3</th>\n",
       "      <td>Alabama</td>\n",
       "      <td>Autauga</td>\n",
       "      <td>Healthspring of Alabama, Inc.</td>\n",
       "      <td>HealthyAdvantage (HMO)</td>\n",
       "      <td>Local HMO *</td>\n",
       "      <td>$0.00</td>\n",
       "      <td>H0150</td>\n",
       "      <td>12</td>\n",
       "      <td>0</td>\n",
       "      <td>$3,400</td>\n",
       "      <td>3</td>\n",
       "    </tr>\n",
       "    <tr>\n",
       "      <th>4</th>\n",
       "      <td>Alabama</td>\n",
       "      <td>Autauga</td>\n",
       "      <td>Healthspring of Alabama, Inc.</td>\n",
       "      <td>HealthyAdvantage Preferred (HMO)</td>\n",
       "      <td>Local HMO</td>\n",
       "      <td>$0.00</td>\n",
       "      <td>H0150</td>\n",
       "      <td>1</td>\n",
       "      <td>0</td>\n",
       "      <td>$3,400</td>\n",
       "      <td>3</td>\n",
       "    </tr>\n",
       "  </tbody>\n",
       "</table>\n",
       "</div>"
      ],
      "text/plain": [
       "     STATE   COUNTY                           ORGANIZATION  \\\n",
       "0  Alabama  Autauga                       UnitedHealthcare   \n",
       "1  Alabama  Autauga  Blue Cross and Blue Shield of Alabama   \n",
       "2  Alabama  Autauga  Blue Cross and Blue Shield of Alabama   \n",
       "3  Alabama  Autauga          Healthspring of Alabama, Inc.   \n",
       "4  Alabama  Autauga          Healthspring of Alabama, Inc.   \n",
       "\n",
       "                            PLAN_NAME GENERIC_TYPE       MCP CONTRACT_ID  \\\n",
       "0  AARP MedicareComplete Plan 1 (HMO)    Local HMO    $0.00        H0151   \n",
       "1       Blue Advantage Complete (PPO)    Local PPO   $99.00        H0104   \n",
       "2        Blue Advantage Premier (PPO)    Local PPO  $199.00        H0104   \n",
       "3              HealthyAdvantage (HMO)  Local HMO *    $0.00        H0150   \n",
       "4    HealthyAdvantage Preferred (HMO)    Local HMO    $0.00        H0150   \n",
       "\n",
       "   PLAN_ID  SEGMENT_ID MOOP_LIMIT RATING  \n",
       "0        1           0    $4,450     2.5  \n",
       "1       11           5    $3,400     2.5  \n",
       "2       10           3    $3,400     2.5  \n",
       "3       12           0    $3,400       3  \n",
       "4        1           0    $3,400       3  "
      ]
     },
     "execution_count": 104,
     "metadata": {},
     "output_type": "execute_result"
    }
   ],
   "source": [
    "df_from_xlsx_total.head()"
   ]
  },
  {
   "cell_type": "code",
   "execution_count": 105,
   "metadata": {},
   "outputs": [
    {
     "data": {
      "text/plain": [
       "306183"
      ]
     },
     "execution_count": 105,
     "metadata": {},
     "output_type": "execute_result"
    }
   ],
   "source": [
    "len(df_from_xlsx_total.index)"
   ]
  },
  {
   "cell_type": "code",
   "execution_count": 106,
   "metadata": {},
   "outputs": [
    {
     "data": {
      "text/html": [
       "<div>\n",
       "<style scoped>\n",
       "    .dataframe tbody tr th:only-of-type {\n",
       "        vertical-align: middle;\n",
       "    }\n",
       "\n",
       "    .dataframe tbody tr th {\n",
       "        vertical-align: top;\n",
       "    }\n",
       "\n",
       "    .dataframe thead th {\n",
       "        text-align: right;\n",
       "    }\n",
       "</style>\n",
       "<table border=\"1\" class=\"dataframe\">\n",
       "  <thead>\n",
       "    <tr style=\"text-align: right;\">\n",
       "      <th></th>\n",
       "      <th>count</th>\n",
       "    </tr>\n",
       "    <tr>\n",
       "      <th>STATE</th>\n",
       "      <th></th>\n",
       "    </tr>\n",
       "  </thead>\n",
       "  <tbody>\n",
       "    <tr>\n",
       "      <th>Alabama</th>\n",
       "      <td>4094</td>\n",
       "    </tr>\n",
       "    <tr>\n",
       "      <th>Arizona</th>\n",
       "      <td>1046</td>\n",
       "    </tr>\n",
       "    <tr>\n",
       "      <th>Arkansas</th>\n",
       "      <td>7016</td>\n",
       "    </tr>\n",
       "    <tr>\n",
       "      <th>California</th>\n",
       "      <td>3175</td>\n",
       "    </tr>\n",
       "    <tr>\n",
       "      <th>Colorado</th>\n",
       "      <td>6902</td>\n",
       "    </tr>\n",
       "    <tr>\n",
       "      <th>Connecticut</th>\n",
       "      <td>1045</td>\n",
       "    </tr>\n",
       "    <tr>\n",
       "      <th>Delaware</th>\n",
       "      <td>128</td>\n",
       "    </tr>\n",
       "    <tr>\n",
       "      <th>Florida</th>\n",
       "      <td>9271</td>\n",
       "    </tr>\n",
       "    <tr>\n",
       "      <th>Georgia</th>\n",
       "      <td>11841</td>\n",
       "    </tr>\n",
       "    <tr>\n",
       "      <th>Hawaii</th>\n",
       "      <td>325</td>\n",
       "    </tr>\n",
       "    <tr>\n",
       "      <th>Idaho</th>\n",
       "      <td>2803</td>\n",
       "    </tr>\n",
       "    <tr>\n",
       "      <th>Illinois</th>\n",
       "      <td>10164</td>\n",
       "    </tr>\n",
       "    <tr>\n",
       "      <th>Indiana</th>\n",
       "      <td>8936</td>\n",
       "    </tr>\n",
       "    <tr>\n",
       "      <th>Iowa</th>\n",
       "      <td>5161</td>\n",
       "    </tr>\n",
       "    <tr>\n",
       "      <th>Kansas</th>\n",
       "      <td>5674</td>\n",
       "    </tr>\n",
       "    <tr>\n",
       "      <th>Kentucky</th>\n",
       "      <td>8025</td>\n",
       "    </tr>\n",
       "    <tr>\n",
       "      <th>Louisiana</th>\n",
       "      <td>4765</td>\n",
       "    </tr>\n",
       "    <tr>\n",
       "      <th>Maine</th>\n",
       "      <td>1596</td>\n",
       "    </tr>\n",
       "    <tr>\n",
       "      <th>Maryland</th>\n",
       "      <td>1256</td>\n",
       "    </tr>\n",
       "    <tr>\n",
       "      <th>Massachusetts</th>\n",
       "      <td>2016</td>\n",
       "    </tr>\n",
       "    <tr>\n",
       "      <th>Michigan</th>\n",
       "      <td>12339</td>\n",
       "    </tr>\n",
       "    <tr>\n",
       "      <th>Minnesota</th>\n",
       "      <td>19958</td>\n",
       "    </tr>\n",
       "    <tr>\n",
       "      <th>Mississippi</th>\n",
       "      <td>4754</td>\n",
       "    </tr>\n",
       "    <tr>\n",
       "      <th>Missouri</th>\n",
       "      <td>9709</td>\n",
       "    </tr>\n",
       "    <tr>\n",
       "      <th>Montana</th>\n",
       "      <td>2008</td>\n",
       "    </tr>\n",
       "    <tr>\n",
       "      <th>Nebraska</th>\n",
       "      <td>2301</td>\n",
       "    </tr>\n",
       "    <tr>\n",
       "      <th>Nevada</th>\n",
       "      <td>576</td>\n",
       "    </tr>\n",
       "    <tr>\n",
       "      <th>New Hampshire</th>\n",
       "      <td>618</td>\n",
       "    </tr>\n",
       "    <tr>\n",
       "      <th>New Jersey</th>\n",
       "      <td>1958</td>\n",
       "    </tr>\n",
       "    <tr>\n",
       "      <th>New Mexico</th>\n",
       "      <td>2097</td>\n",
       "    </tr>\n",
       "    <tr>\n",
       "      <th>New York</th>\n",
       "      <td>13214</td>\n",
       "    </tr>\n",
       "    <tr>\n",
       "      <th>North Carolina</th>\n",
       "      <td>8815</td>\n",
       "    </tr>\n",
       "    <tr>\n",
       "      <th>North Dakota</th>\n",
       "      <td>3442</td>\n",
       "    </tr>\n",
       "    <tr>\n",
       "      <th>Ohio</th>\n",
       "      <td>14604</td>\n",
       "    </tr>\n",
       "    <tr>\n",
       "      <th>Oklahoma</th>\n",
       "      <td>5798</td>\n",
       "    </tr>\n",
       "    <tr>\n",
       "      <th>Oregon</th>\n",
       "      <td>3496</td>\n",
       "    </tr>\n",
       "    <tr>\n",
       "      <th>Pennsylvania</th>\n",
       "      <td>15594</td>\n",
       "    </tr>\n",
       "    <tr>\n",
       "      <th>Puerto Rico</th>\n",
       "      <td>16816</td>\n",
       "    </tr>\n",
       "    <tr>\n",
       "      <th>Rhode Island</th>\n",
       "      <td>420</td>\n",
       "    </tr>\n",
       "    <tr>\n",
       "      <th>South Carolina</th>\n",
       "      <td>3275</td>\n",
       "    </tr>\n",
       "    <tr>\n",
       "      <th>South Dakota</th>\n",
       "      <td>5197</td>\n",
       "    </tr>\n",
       "    <tr>\n",
       "      <th>Tennessee</th>\n",
       "      <td>10484</td>\n",
       "    </tr>\n",
       "    <tr>\n",
       "      <th>Texas</th>\n",
       "      <td>24624</td>\n",
       "    </tr>\n",
       "    <tr>\n",
       "      <th>Utah</th>\n",
       "      <td>1022</td>\n",
       "    </tr>\n",
       "    <tr>\n",
       "      <th>Vermont</th>\n",
       "      <td>691</td>\n",
       "    </tr>\n",
       "    <tr>\n",
       "      <th>Virginia</th>\n",
       "      <td>9060</td>\n",
       "    </tr>\n",
       "    <tr>\n",
       "      <th>Washington</th>\n",
       "      <td>2481</td>\n",
       "    </tr>\n",
       "    <tr>\n",
       "      <th>Washington D.C.</th>\n",
       "      <td>89</td>\n",
       "    </tr>\n",
       "    <tr>\n",
       "      <th>West Virginia</th>\n",
       "      <td>6181</td>\n",
       "    </tr>\n",
       "    <tr>\n",
       "      <th>Wisconsin</th>\n",
       "      <td>9123</td>\n",
       "    </tr>\n",
       "    <tr>\n",
       "      <th>Wyoming</th>\n",
       "      <td>200</td>\n",
       "    </tr>\n",
       "  </tbody>\n",
       "</table>\n",
       "</div>"
      ],
      "text/plain": [
       "                 count\n",
       "STATE                 \n",
       "Alabama           4094\n",
       "Arizona           1046\n",
       "Arkansas          7016\n",
       "California        3175\n",
       "Colorado          6902\n",
       "Connecticut       1045\n",
       "Delaware           128\n",
       "Florida           9271\n",
       "Georgia          11841\n",
       "Hawaii             325\n",
       "Idaho             2803\n",
       "Illinois         10164\n",
       "Indiana           8936\n",
       "Iowa              5161\n",
       "Kansas            5674\n",
       "Kentucky          8025\n",
       "Louisiana         4765\n",
       "Maine             1596\n",
       "Maryland          1256\n",
       "Massachusetts     2016\n",
       "Michigan         12339\n",
       "Minnesota        19958\n",
       "Mississippi       4754\n",
       "Missouri          9709\n",
       "Montana           2008\n",
       "Nebraska          2301\n",
       "Nevada             576\n",
       "New Hampshire      618\n",
       "New Jersey        1958\n",
       "New Mexico        2097\n",
       "New York         13214\n",
       "North Carolina    8815\n",
       "North Dakota      3442\n",
       "Ohio             14604\n",
       "Oklahoma          5798\n",
       "Oregon            3496\n",
       "Pennsylvania     15594\n",
       "Puerto Rico      16816\n",
       "Rhode Island       420\n",
       "South Carolina    3275\n",
       "South Dakota      5197\n",
       "Tennessee        10484\n",
       "Texas            24624\n",
       "Utah              1022\n",
       "Vermont            691\n",
       "Virginia          9060\n",
       "Washington        2481\n",
       "Washington D.C.     89\n",
       "West Virginia     6181\n",
       "Wisconsin         9123\n",
       "Wyoming            200"
      ]
     },
     "execution_count": 106,
     "metadata": {},
     "output_type": "execute_result"
    }
   ],
   "source": [
    "df_from_xlsx_total[\"GENERIC_TYPE\"].groupby([df_from_xlsx_total[\"STATE\"]]).agg({'count'})"
   ]
  },
  {
   "cell_type": "code",
   "execution_count": 107,
   "metadata": {},
   "outputs": [
    {
     "data": {
      "text/html": [
       "<div>\n",
       "<style scoped>\n",
       "    .dataframe tbody tr th:only-of-type {\n",
       "        vertical-align: middle;\n",
       "    }\n",
       "\n",
       "    .dataframe tbody tr th {\n",
       "        vertical-align: top;\n",
       "    }\n",
       "\n",
       "    .dataframe thead th {\n",
       "        text-align: right;\n",
       "    }\n",
       "</style>\n",
       "<table border=\"1\" class=\"dataframe\">\n",
       "  <thead>\n",
       "    <tr style=\"text-align: right;\">\n",
       "      <th></th>\n",
       "      <th>count</th>\n",
       "    </tr>\n",
       "    <tr>\n",
       "      <th>GENERIC_TYPE</th>\n",
       "      <th></th>\n",
       "    </tr>\n",
       "  </thead>\n",
       "  <tbody>\n",
       "    <tr>\n",
       "      <th>Cost</th>\n",
       "      <td>21621</td>\n",
       "    </tr>\n",
       "    <tr>\n",
       "      <th>Cost *</th>\n",
       "      <td>11888</td>\n",
       "    </tr>\n",
       "    <tr>\n",
       "      <th>Local HMO</th>\n",
       "      <td>88465</td>\n",
       "    </tr>\n",
       "    <tr>\n",
       "      <th>Local HMO *</th>\n",
       "      <td>19118</td>\n",
       "    </tr>\n",
       "    <tr>\n",
       "      <th>Local PPO</th>\n",
       "      <td>62120</td>\n",
       "    </tr>\n",
       "    <tr>\n",
       "      <th>Local PPO *</th>\n",
       "      <td>10149</td>\n",
       "    </tr>\n",
       "    <tr>\n",
       "      <th>MSA *</th>\n",
       "      <td>2511</td>\n",
       "    </tr>\n",
       "    <tr>\n",
       "      <th>NO_ASIGNADO</th>\n",
       "      <td>32</td>\n",
       "    </tr>\n",
       "    <tr>\n",
       "      <th>PFFS</th>\n",
       "      <td>21429</td>\n",
       "    </tr>\n",
       "    <tr>\n",
       "      <th>PFFS *</th>\n",
       "      <td>16876</td>\n",
       "    </tr>\n",
       "    <tr>\n",
       "      <th>Regional PPO</th>\n",
       "      <td>33124</td>\n",
       "    </tr>\n",
       "    <tr>\n",
       "      <th>Regional PPO *</th>\n",
       "      <td>18850</td>\n",
       "    </tr>\n",
       "  </tbody>\n",
       "</table>\n",
       "</div>"
      ],
      "text/plain": [
       "                count\n",
       "GENERIC_TYPE         \n",
       "Cost            21621\n",
       "Cost *          11888\n",
       "Local HMO       88465\n",
       "Local HMO *     19118\n",
       "Local PPO       62120\n",
       "Local PPO *     10149\n",
       "MSA *            2511\n",
       "NO_ASIGNADO        32\n",
       "PFFS            21429\n",
       "PFFS *          16876\n",
       "Regional PPO    33124\n",
       "Regional PPO *  18850"
      ]
     },
     "execution_count": 107,
     "metadata": {},
     "output_type": "execute_result"
    }
   ],
   "source": [
    "df_from_xlsx_total[\"RATING\"].groupby([df_from_xlsx_total[\"GENERIC_TYPE\"]]).agg({'count'})"
   ]
  },
  {
   "cell_type": "markdown",
   "metadata": {},
   "source": [
    "### Save to file: ../03_Presentation/02_OUT_csv_filesexport_datos_ratings.csv"
   ]
  },
  {
   "cell_type": "code",
   "execution_count": 108,
   "metadata": {},
   "outputs": [
    {
     "name": "stdout",
     "output_type": "stream",
     "text": [
      "/home/dsc/Repos/TFM_Categorize_providers_based_on_descriptions_of_the_drug_plans/01_Original_data\r\n"
     ]
    }
   ],
   "source": [
    "!pwd"
   ]
  },
  {
   "cell_type": "code",
   "execution_count": 109,
   "metadata": {},
   "outputs": [],
   "source": [
    "df_from_xlsx_total.to_csv(\"../03_Presentation/02_OUT_csv_filesexport_datos_ratings.csv\", index=False)"
   ]
  },
  {
   "cell_type": "code",
   "execution_count": 110,
   "metadata": {},
   "outputs": [
    {
     "name": "stdout",
     "output_type": "stream",
     "text": [
      "-rw-rw-r-- 1 dsc dsc 36778562 dic 29 20:34 ../03_Presentation/02_OUT_csv_filesexport_datos_ratings.csv\r\n"
     ]
    }
   ],
   "source": [
    "!ls -ltr ../03*/02_OUT*"
   ]
  },
  {
   "cell_type": "code",
   "execution_count": 111,
   "metadata": {},
   "outputs": [
    {
     "name": "stdout",
     "output_type": "stream",
     "text": [
      "<class 'pandas.core.frame.DataFrame'>\n",
      "RangeIndex: 306183 entries, 0 to 306182\n",
      "Data columns (total 11 columns):\n",
      "STATE           306183 non-null object\n",
      "COUNTY          306183 non-null object\n",
      "ORGANIZATION    306183 non-null object\n",
      "PLAN_NAME       306183 non-null object\n",
      "GENERIC_TYPE    306183 non-null object\n",
      "MCP             306183 non-null object\n",
      "CONTRACT_ID     306183 non-null object\n",
      "PLAN_ID         306183 non-null int64\n",
      "SEGMENT_ID      306183 non-null int64\n",
      "MOOP_LIMIT      306183 non-null object\n",
      "RATING          306183 non-null object\n",
      "dtypes: int64(2), object(9)\n",
      "memory usage: 25.7+ MB\n"
     ]
    }
   ],
   "source": [
    "df_from_xlsx_total.info()"
   ]
  },
  {
   "cell_type": "code",
   "execution_count": 112,
   "metadata": {},
   "outputs": [
    {
     "data": {
      "text/plain": [
       "STATE\n",
       "Alabama             4094\n",
       "Arizona             1046\n",
       "Arkansas            7016\n",
       "California          3175\n",
       "Colorado            6902\n",
       "Connecticut         1045\n",
       "Delaware             128\n",
       "Florida             9271\n",
       "Georgia            11841\n",
       "Hawaii               325\n",
       "Idaho               2803\n",
       "Illinois           10164\n",
       "Indiana             8936\n",
       "Iowa                5161\n",
       "Kansas              5674\n",
       "Kentucky            8025\n",
       "Louisiana           4765\n",
       "Maine               1596\n",
       "Maryland            1256\n",
       "Massachusetts       2016\n",
       "Michigan           12339\n",
       "Minnesota          19958\n",
       "Mississippi         4754\n",
       "Missouri            9709\n",
       "Montana             2008\n",
       "Nebraska            2301\n",
       "Nevada               576\n",
       "New Hampshire        618\n",
       "New Jersey          1958\n",
       "New Mexico          2097\n",
       "New York           13214\n",
       "North Carolina      8815\n",
       "North Dakota        3442\n",
       "Ohio               14604\n",
       "Oklahoma            5798\n",
       "Oregon              3496\n",
       "Pennsylvania       15594\n",
       "Puerto Rico        16816\n",
       "Rhode Island         420\n",
       "South Carolina      3275\n",
       "South Dakota        5197\n",
       "Tennessee          10484\n",
       "Texas              24624\n",
       "Utah                1022\n",
       "Vermont              691\n",
       "Virginia            9060\n",
       "Washington          2481\n",
       "Washington D.C.       89\n",
       "West Virginia       6181\n",
       "Wisconsin           9123\n",
       "Wyoming              200\n",
       "dtype: int64"
      ]
     },
     "execution_count": 112,
     "metadata": {},
     "output_type": "execute_result"
    }
   ],
   "source": [
    "df_from_xlsx_total.groupby('STATE').size()"
   ]
  },
  {
   "cell_type": "code",
   "execution_count": 113,
   "metadata": {},
   "outputs": [
    {
     "data": {
      "text/plain": [
       "COUNTY\n",
       "Abbeville     83\n",
       "Acadia        69\n",
       "Accomack      29\n",
       "Ada          181\n",
       "Adair        259\n",
       "            ... \n",
       "Yuba          13\n",
       "Yuma         127\n",
       "Zapata        49\n",
       "Zavala        65\n",
       "Ziebach       65\n",
       "Length: 1906, dtype: int64"
      ]
     },
     "execution_count": 113,
     "metadata": {},
     "output_type": "execute_result"
    }
   ],
   "source": [
    "df_from_xlsx_total.groupby('COUNTY').size()"
   ]
  },
  {
   "cell_type": "code",
   "execution_count": 114,
   "metadata": {},
   "outputs": [
    {
     "data": {
      "text/plain": [
       "ORGANIZATION\n",
       "'Ohana Health Plan                                     18\n",
       "ADVANTAGE Health Solutions, Inc.                      855\n",
       "AETNA HEALTH INC. (GA)                                 11\n",
       "AMERICA'S 1ST CHOICE HEALTH PLANS, INC.               234\n",
       "AMERICA'S 1ST CHOICE INSURANCE COMPANY OF NC, INC      70\n",
       "                                                     ... \n",
       "WellCare                                             5796\n",
       "WellCare Health Plan                                   50\n",
       "Wellmark Blue Cross Blue Shield of South Dakota        67\n",
       "Wellmark Blue Cross and Blue Shield of Iowa            99\n",
       "Windsor Medicare Extra                               2330\n",
       "Length: 503, dtype: int64"
      ]
     },
     "execution_count": 114,
     "metadata": {},
     "output_type": "execute_result"
    }
   ],
   "source": [
    "df_from_xlsx_total.groupby('ORGANIZATION').size()"
   ]
  },
  {
   "cell_type": "code",
   "execution_count": 115,
   "metadata": {},
   "outputs": [
    {
     "data": {
      "text/plain": [
       "PLAN_NAME\n",
       "'Ohana Choice (HMO-POS)           3\n",
       "'Ohana Reserve (HMO-POS)          1\n",
       "'Ohana Value (HMO)                1\n",
       "'Ohana Value (HMO-POS)           14\n",
       "65C Plus Basic Option (Cost)     10\n",
       "                               ... \n",
       "Óptimo (PPO)                    234\n",
       "Óptimo Advance (PPO)             78\n",
       "Óptimo Plus (PPO)               234\n",
       "îptimo (PPO)                     78\n",
       "îptimo Plus (PPO)                78\n",
       "Length: 3663, dtype: int64"
      ]
     },
     "execution_count": 115,
     "metadata": {},
     "output_type": "execute_result"
    }
   ],
   "source": [
    "df_from_xlsx_total.groupby('PLAN_NAME').size()"
   ]
  },
  {
   "cell_type": "code",
   "execution_count": 116,
   "metadata": {},
   "outputs": [
    {
     "data": {
      "text/plain": [
       "GENERIC_TYPE\n",
       "Cost              21621\n",
       "Cost *            11888\n",
       "Local HMO         88465\n",
       "Local HMO *       19118\n",
       "Local PPO         62120\n",
       "Local PPO *       10149\n",
       "MSA *              2511\n",
       "NO_ASIGNADO          32\n",
       "PFFS              21429\n",
       "PFFS *            16876\n",
       "Regional PPO      33124\n",
       "Regional PPO *    18850\n",
       "dtype: int64"
      ]
     },
     "execution_count": 116,
     "metadata": {},
     "output_type": "execute_result"
    }
   ],
   "source": [
    "df_from_xlsx_total.groupby('GENERIC_TYPE').size()"
   ]
  },
  {
   "cell_type": "code",
   "execution_count": 117,
   "metadata": {},
   "outputs": [
    {
     "data": {
      "text/plain": [
       "CONTRACT_ID\n",
       "H0028     444\n",
       "H0029       3\n",
       "H0062      34\n",
       "H0084     753\n",
       "H0088       2\n",
       "         ... \n",
       "R7220      62\n",
       "R7315     648\n",
       "R7439      45\n",
       "R7444    1345\n",
       "R9896    1025\n",
       "Length: 742, dtype: int64"
      ]
     },
     "execution_count": 117,
     "metadata": {},
     "output_type": "execute_result"
    }
   ],
   "source": [
    "df_from_xlsx_total.groupby('CONTRACT_ID').size()"
   ]
  },
  {
   "cell_type": "code",
   "execution_count": 118,
   "metadata": {},
   "outputs": [
    {
     "data": {
      "text/plain": [
       "PLAN_ID\n",
       "1      36650\n",
       "2      22210\n",
       "3      14718\n",
       "4      12962\n",
       "5      10253\n",
       "       ...  \n",
       "271        8\n",
       "274        5\n",
       "275       11\n",
       "277        3\n",
       "278        3\n",
       "Length: 272, dtype: int64"
      ]
     },
     "execution_count": 118,
     "metadata": {},
     "output_type": "execute_result"
    }
   ],
   "source": [
    "df_from_xlsx_total.groupby('PLAN_ID').size()"
   ]
  },
  {
   "cell_type": "code",
   "execution_count": 119,
   "metadata": {},
   "outputs": [
    {
     "data": {
      "text/plain": [
       "SEGMENT_ID\n",
       "0     285877\n",
       "1       5672\n",
       "2       6048\n",
       "3       2976\n",
       "4       2093\n",
       "5        902\n",
       "6        356\n",
       "7        168\n",
       "8        159\n",
       "9         55\n",
       "10       292\n",
       "11        89\n",
       "12        72\n",
       "13       235\n",
       "14       249\n",
       "15        82\n",
       "16        91\n",
       "17       174\n",
       "18        97\n",
       "19        98\n",
       "20       106\n",
       "21        12\n",
       "22       214\n",
       "23        62\n",
       "24         4\n",
       "dtype: int64"
      ]
     },
     "execution_count": 119,
     "metadata": {},
     "output_type": "execute_result"
    }
   ],
   "source": [
    "df_from_xlsx_total.groupby('SEGMENT_ID').size()"
   ]
  },
  {
   "cell_type": "code",
   "execution_count": 120,
   "metadata": {},
   "outputs": [
    {
     "data": {
      "text/plain": [
       "RATING\n",
       "2                                                667\n",
       "2.5                                            22203\n",
       "3                                              46156\n",
       "3.5                                            78743\n",
       "4                                              73771\n",
       "4.5                                            54769\n",
       "5                                               7356\n",
       "NO_ASIGNADO                                       32\n",
       "Not Applicable                                  1757\n",
       "Not enough data available                       4968\n",
       "Not enough data available                       1684\n",
       "Not enough data to calculate overall rating      893\n",
       "Not enough data to calculate summary rating      115\n",
       "Not enough data to calculate summary score         8\n",
       "Plan too new to be measured                    11603\n",
       "Plan too new to be measured                     1458\n",
       "dtype: int64"
      ]
     },
     "execution_count": 120,
     "metadata": {},
     "output_type": "execute_result"
    }
   ],
   "source": [
    "df_from_xlsx_total.groupby('RATING').size()"
   ]
  },
  {
   "cell_type": "code",
   "execution_count": 121,
   "metadata": {},
   "outputs": [
    {
     "data": {
      "text/plain": [
       "MCP\n",
       "0.0            19657\n",
       "1.6                7\n",
       "4.8                7\n",
       "5.0               36\n",
       "6.0               72\n",
       "               ...  \n",
       "$99.30            63\n",
       "$99.60            24\n",
       "$99.90            12\n",
       "$99.90            80\n",
       "NO_ASIGNADO     2511\n",
       "Length: 2011, dtype: int64"
      ]
     },
     "execution_count": 121,
     "metadata": {},
     "output_type": "execute_result"
    }
   ],
   "source": [
    "df_from_xlsx_total.groupby('MCP').size()"
   ]
  },
  {
   "cell_type": "code",
   "execution_count": 122,
   "metadata": {},
   "outputs": [
    {
     "data": {
      "text/plain": [
       "MOOP_LIMIT\n",
       "0.0                3\n",
       "400.0              7\n",
       "1200.0            86\n",
       "1499.0             2\n",
       "1500.0             5\n",
       "               ...  \n",
       "$6,500            27\n",
       "$6,550            14\n",
       "$6,700         10831\n",
       "$900              64\n",
       "NO_ASIGNADO     3389\n",
       "Length: 276, dtype: int64"
      ]
     },
     "execution_count": 122,
     "metadata": {},
     "output_type": "execute_result"
    }
   ],
   "source": [
    "df_from_xlsx_total.groupby('MOOP_LIMIT').size()"
   ]
  },
  {
   "cell_type": "code",
   "execution_count": 123,
   "metadata": {},
   "outputs": [],
   "source": [
    "# Load library for work and analitics data in ML\n",
    "import pandas as pd\n",
    "import numpy as np\n",
    "from sklearn import linear_model\n",
    "from sklearn import model_selection\n",
    "from sklearn.metrics import classification_report\n",
    "from sklearn.metrics import confusion_matrix\n",
    "from sklearn.metrics import accuracy_score\n",
    "import matplotlib.pyplot as plt\n",
    "import seaborn as sb\n",
    "%matplotlib inline"
   ]
  },
  {
   "cell_type": "code",
   "execution_count": 124,
   "metadata": {},
   "outputs": [],
   "source": [
    "#inicio"
   ]
  },
  {
   "cell_type": "code",
   "execution_count": 125,
   "metadata": {},
   "outputs": [],
   "source": [
    "# Review how many rows are there according to \"RATING\", how central variable."
   ]
  },
  {
   "cell_type": "code",
   "execution_count": 126,
   "metadata": {},
   "outputs": [
    {
     "data": {
      "text/plain": [
       "Index(['STATE', 'COUNTY', 'ORGANIZATION', 'PLAN_NAME', 'GENERIC_TYPE', 'MCP',\n",
       "       'CONTRACT_ID', 'PLAN_ID', 'SEGMENT_ID', 'MOOP_LIMIT', 'RATING'],\n",
       "      dtype='object')"
      ]
     },
     "execution_count": 126,
     "metadata": {},
     "output_type": "execute_result"
    }
   ],
   "source": [
    "df_from_xlsx_total.columns"
   ]
  },
  {
   "cell_type": "code",
   "execution_count": 127,
   "metadata": {},
   "outputs": [],
   "source": [
    "# Draw the columns individually by grouped size counter and per pairs"
   ]
  },
  {
   "cell_type": "code",
   "execution_count": 140,
   "metadata": {},
   "outputs": [
    {
     "data": {
      "text/plain": [
       "<seaborn.axisgrid.FacetGrid at 0x7f91208b1dd8>"
      ]
     },
     "execution_count": 140,
     "metadata": {},
     "output_type": "execute_result"
    },
    {
     "data": {
      "image/png": "[encoded data removed]",
      "text/plain": [
       "<Figure size 360x360 with 1 Axes>"
      ]
     },
     "metadata": {
      "needs_background": "light"
     },
     "output_type": "display_data"
    }
   ],
   "source": [
    "sb.catplot('STATE',data=df_from_xlsx_total,kind=\"count\")"
   ]
  },
  {
   "cell_type": "code",
   "execution_count": 141,
   "metadata": {},
   "outputs": [
    {
     "data": {
      "text/plain": [
       "<seaborn.axisgrid.FacetGrid at 0x7f91160d3978>"
      ]
     },
     "execution_count": 141,
     "metadata": {},
     "output_type": "execute_result"
    },
    {
     "name": "stdout",
     "output_type": "stream",
     "text": [
      "Error in callback <function flush_figures at 0x7f91201742f0> (for post_execute):\n"
     ]
    },
    {
     "ename": "KeyboardInterrupt",
     "evalue": "",
     "output_type": "error",
     "traceback": [
      "\u001b[0;31m---------------------------------------------------------------------------\u001b[0m",
      "\u001b[0;31mKeyboardInterrupt\u001b[0m                         Traceback (most recent call last)",
      "\u001b[0;32m~/anaconda3/lib/python3.7/site-packages/ipykernel/pylab/backend_inline.py\u001b[0m in \u001b[0;36mflush_figures\u001b[0;34m()\u001b[0m\n\u001b[1;32m    115\u001b[0m         \u001b[0;31m# ignore the tracking, just draw and close all figures\u001b[0m\u001b[0;34m\u001b[0m\u001b[0;34m\u001b[0m\u001b[0;34m\u001b[0m\u001b[0m\n\u001b[1;32m    116\u001b[0m         \u001b[0;32mtry\u001b[0m\u001b[0;34m:\u001b[0m\u001b[0;34m\u001b[0m\u001b[0;34m\u001b[0m\u001b[0m\n\u001b[0;32m--> 117\u001b[0;31m             \u001b[0;32mreturn\u001b[0m \u001b[0mshow\u001b[0m\u001b[0;34m(\u001b[0m\u001b[0;32mTrue\u001b[0m\u001b[0;34m)\u001b[0m\u001b[0;34m\u001b[0m\u001b[0;34m\u001b[0m\u001b[0m\n\u001b[0m\u001b[1;32m    118\u001b[0m         \u001b[0;32mexcept\u001b[0m \u001b[0mException\u001b[0m \u001b[0;32mas\u001b[0m \u001b[0me\u001b[0m\u001b[0;34m:\u001b[0m\u001b[0;34m\u001b[0m\u001b[0;34m\u001b[0m\u001b[0m\n\u001b[1;32m    119\u001b[0m             \u001b[0;31m# safely show traceback if in IPython, else raise\u001b[0m\u001b[0;34m\u001b[0m\u001b[0;34m\u001b[0m\u001b[0;34m\u001b[0m\u001b[0m\n",
      "\u001b[0;32m~/anaconda3/lib/python3.7/site-packages/ipykernel/pylab/backend_inline.py\u001b[0m in \u001b[0;36mshow\u001b[0;34m(close, block)\u001b[0m\n\u001b[1;32m     37\u001b[0m             display(\n\u001b[1;32m     38\u001b[0m                 \u001b[0mfigure_manager\u001b[0m\u001b[0;34m.\u001b[0m\u001b[0mcanvas\u001b[0m\u001b[0;34m.\u001b[0m\u001b[0mfigure\u001b[0m\u001b[0;34m,\u001b[0m\u001b[0;34m\u001b[0m\u001b[0;34m\u001b[0m\u001b[0m\n\u001b[0;32m---> 39\u001b[0;31m                 \u001b[0mmetadata\u001b[0m\u001b[0;34m=\u001b[0m\u001b[0m_fetch_figure_metadata\u001b[0m\u001b[0;34m(\u001b[0m\u001b[0mfigure_manager\u001b[0m\u001b[0;34m.\u001b[0m\u001b[0mcanvas\u001b[0m\u001b[0;34m.\u001b[0m\u001b[0mfigure\u001b[0m\u001b[0;34m)\u001b[0m\u001b[0;34m\u001b[0m\u001b[0;34m\u001b[0m\u001b[0m\n\u001b[0m\u001b[1;32m     40\u001b[0m             )\n\u001b[1;32m     41\u001b[0m     \u001b[0;32mfinally\u001b[0m\u001b[0;34m:\u001b[0m\u001b[0;34m\u001b[0m\u001b[0;34m\u001b[0m\u001b[0m\n",
      "\u001b[0;32m~/anaconda3/lib/python3.7/site-packages/IPython/core/display.py\u001b[0m in \u001b[0;36mdisplay\u001b[0;34m(include, exclude, metadata, transient, display_id, *objs, **kwargs)\u001b[0m\n\u001b[1;32m    311\u001b[0m             \u001b[0mpublish_display_data\u001b[0m\u001b[0;34m(\u001b[0m\u001b[0mdata\u001b[0m\u001b[0;34m=\u001b[0m\u001b[0mobj\u001b[0m\u001b[0;34m,\u001b[0m \u001b[0mmetadata\u001b[0m\u001b[0;34m=\u001b[0m\u001b[0mmetadata\u001b[0m\u001b[0;34m,\u001b[0m \u001b[0;34m**\u001b[0m\u001b[0mkwargs\u001b[0m\u001b[0;34m)\u001b[0m\u001b[0;34m\u001b[0m\u001b[0;34m\u001b[0m\u001b[0m\n\u001b[1;32m    312\u001b[0m         \u001b[0;32melse\u001b[0m\u001b[0;34m:\u001b[0m\u001b[0;34m\u001b[0m\u001b[0;34m\u001b[0m\u001b[0m\n\u001b[0;32m--> 313\u001b[0;31m             \u001b[0mformat_dict\u001b[0m\u001b[0;34m,\u001b[0m \u001b[0mmd_dict\u001b[0m \u001b[0;34m=\u001b[0m \u001b[0mformat\u001b[0m\u001b[0;34m(\u001b[0m\u001b[0mobj\u001b[0m\u001b[0;34m,\u001b[0m \u001b[0minclude\u001b[0m\u001b[0;34m=\u001b[0m\u001b[0minclude\u001b[0m\u001b[0;34m,\u001b[0m \u001b[0mexclude\u001b[0m\u001b[0;34m=\u001b[0m\u001b[0mexclude\u001b[0m\u001b[0;34m)\u001b[0m\u001b[0;34m\u001b[0m\u001b[0;34m\u001b[0m\u001b[0m\n\u001b[0m\u001b[1;32m    314\u001b[0m             \u001b[0;32mif\u001b[0m \u001b[0;32mnot\u001b[0m \u001b[0mformat_dict\u001b[0m\u001b[0;34m:\u001b[0m\u001b[0;34m\u001b[0m\u001b[0;34m\u001b[0m\u001b[0m\n\u001b[1;32m    315\u001b[0m                 \u001b[0;31m# nothing to display (e.g. _ipython_display_ took over)\u001b[0m\u001b[0;34m\u001b[0m\u001b[0;34m\u001b[0m\u001b[0;34m\u001b[0m\u001b[0m\n",
      "\u001b[0;32m~/anaconda3/lib/python3.7/site-packages/IPython/core/formatters.py\u001b[0m in \u001b[0;36mformat\u001b[0;34m(self, obj, include, exclude)\u001b[0m\n\u001b[1;32m    178\u001b[0m             \u001b[0mmd\u001b[0m \u001b[0;34m=\u001b[0m \u001b[0;32mNone\u001b[0m\u001b[0;34m\u001b[0m\u001b[0;34m\u001b[0m\u001b[0m\n\u001b[1;32m    179\u001b[0m             \u001b[0;32mtry\u001b[0m\u001b[0;34m:\u001b[0m\u001b[0;34m\u001b[0m\u001b[0;34m\u001b[0m\u001b[0m\n\u001b[0;32m--> 180\u001b[0;31m                 \u001b[0mdata\u001b[0m \u001b[0;34m=\u001b[0m \u001b[0mformatter\u001b[0m\u001b[0;34m(\u001b[0m\u001b[0mobj\u001b[0m\u001b[0;34m)\u001b[0m\u001b[0;34m\u001b[0m\u001b[0;34m\u001b[0m\u001b[0m\n\u001b[0m\u001b[1;32m    181\u001b[0m             \u001b[0;32mexcept\u001b[0m\u001b[0;34m:\u001b[0m\u001b[0;34m\u001b[0m\u001b[0;34m\u001b[0m\u001b[0m\n\u001b[1;32m    182\u001b[0m                 \u001b[0;31m# FIXME: log the exception\u001b[0m\u001b[0;34m\u001b[0m\u001b[0;34m\u001b[0m\u001b[0;34m\u001b[0m\u001b[0m\n",
      "\u001b[0;32m</home/dsc/anaconda3/lib/python3.7/site-packages/decorator.py:decorator-gen-9>\u001b[0m in \u001b[0;36m__call__\u001b[0;34m(self, obj)\u001b[0m\n",
      "\u001b[0;32m~/anaconda3/lib/python3.7/site-packages/IPython/core/formatters.py\u001b[0m in \u001b[0;36mcatch_format_error\u001b[0;34m(method, self, *args, **kwargs)\u001b[0m\n\u001b[1;32m    222\u001b[0m     \u001b[0;34m\"\"\"show traceback on failed format call\"\"\"\u001b[0m\u001b[0;34m\u001b[0m\u001b[0;34m\u001b[0m\u001b[0m\n\u001b[1;32m    223\u001b[0m     \u001b[0;32mtry\u001b[0m\u001b[0;34m:\u001b[0m\u001b[0;34m\u001b[0m\u001b[0;34m\u001b[0m\u001b[0m\n\u001b[0;32m--> 224\u001b[0;31m         \u001b[0mr\u001b[0m \u001b[0;34m=\u001b[0m \u001b[0mmethod\u001b[0m\u001b[0;34m(\u001b[0m\u001b[0mself\u001b[0m\u001b[0;34m,\u001b[0m \u001b[0;34m*\u001b[0m\u001b[0margs\u001b[0m\u001b[0;34m,\u001b[0m \u001b[0;34m**\u001b[0m\u001b[0mkwargs\u001b[0m\u001b[0;34m)\u001b[0m\u001b[0;34m\u001b[0m\u001b[0;34m\u001b[0m\u001b[0m\n\u001b[0m\u001b[1;32m    225\u001b[0m     \u001b[0;32mexcept\u001b[0m \u001b[0mNotImplementedError\u001b[0m\u001b[0;34m:\u001b[0m\u001b[0;34m\u001b[0m\u001b[0;34m\u001b[0m\u001b[0m\n\u001b[1;32m    226\u001b[0m         \u001b[0;31m# don't warn on NotImplementedErrors\u001b[0m\u001b[0;34m\u001b[0m\u001b[0;34m\u001b[0m\u001b[0;34m\u001b[0m\u001b[0m\n",
      "\u001b[0;32m~/anaconda3/lib/python3.7/site-packages/IPython/core/formatters.py\u001b[0m in \u001b[0;36m__call__\u001b[0;34m(self, obj)\u001b[0m\n\u001b[1;32m    339\u001b[0m                 \u001b[0;32mpass\u001b[0m\u001b[0;34m\u001b[0m\u001b[0;34m\u001b[0m\u001b[0m\n\u001b[1;32m    340\u001b[0m             \u001b[0;32melse\u001b[0m\u001b[0;34m:\u001b[0m\u001b[0;34m\u001b[0m\u001b[0;34m\u001b[0m\u001b[0m\n\u001b[0;32m--> 341\u001b[0;31m                 \u001b[0;32mreturn\u001b[0m \u001b[0mprinter\u001b[0m\u001b[0;34m(\u001b[0m\u001b[0mobj\u001b[0m\u001b[0;34m)\u001b[0m\u001b[0;34m\u001b[0m\u001b[0;34m\u001b[0m\u001b[0m\n\u001b[0m\u001b[1;32m    342\u001b[0m             \u001b[0;31m# Finally look for special method names\u001b[0m\u001b[0;34m\u001b[0m\u001b[0;34m\u001b[0m\u001b[0;34m\u001b[0m\u001b[0m\n\u001b[1;32m    343\u001b[0m             \u001b[0mmethod\u001b[0m \u001b[0;34m=\u001b[0m \u001b[0mget_real_method\u001b[0m\u001b[0;34m(\u001b[0m\u001b[0mobj\u001b[0m\u001b[0;34m,\u001b[0m \u001b[0mself\u001b[0m\u001b[0;34m.\u001b[0m\u001b[0mprint_method\u001b[0m\u001b[0;34m)\u001b[0m\u001b[0;34m\u001b[0m\u001b[0;34m\u001b[0m\u001b[0m\n",
      "\u001b[0;32m~/anaconda3/lib/python3.7/site-packages/IPython/core/pylabtools.py\u001b[0m in \u001b[0;36m<lambda>\u001b[0;34m(fig)\u001b[0m\n\u001b[1;32m    242\u001b[0m \u001b[0;34m\u001b[0m\u001b[0m\n\u001b[1;32m    243\u001b[0m     \u001b[0;32mif\u001b[0m \u001b[0;34m'png'\u001b[0m \u001b[0;32min\u001b[0m \u001b[0mformats\u001b[0m\u001b[0;34m:\u001b[0m\u001b[0;34m\u001b[0m\u001b[0;34m\u001b[0m\u001b[0m\n\u001b[0;32m--> 244\u001b[0;31m         \u001b[0mpng_formatter\u001b[0m\u001b[0;34m.\u001b[0m\u001b[0mfor_type\u001b[0m\u001b[0;34m(\u001b[0m\u001b[0mFigure\u001b[0m\u001b[0;34m,\u001b[0m \u001b[0;32mlambda\u001b[0m \u001b[0mfig\u001b[0m\u001b[0;34m:\u001b[0m \u001b[0mprint_figure\u001b[0m\u001b[0;34m(\u001b[0m\u001b[0mfig\u001b[0m\u001b[0;34m,\u001b[0m \u001b[0;34m'png'\u001b[0m\u001b[0;34m,\u001b[0m \u001b[0;34m**\u001b[0m\u001b[0mkwargs\u001b[0m\u001b[0;34m)\u001b[0m\u001b[0;34m)\u001b[0m\u001b[0;34m\u001b[0m\u001b[0;34m\u001b[0m\u001b[0m\n\u001b[0m\u001b[1;32m    245\u001b[0m     \u001b[0;32mif\u001b[0m \u001b[0;34m'retina'\u001b[0m \u001b[0;32min\u001b[0m \u001b[0mformats\u001b[0m \u001b[0;32mor\u001b[0m \u001b[0;34m'png2x'\u001b[0m \u001b[0;32min\u001b[0m \u001b[0mformats\u001b[0m\u001b[0;34m:\u001b[0m\u001b[0;34m\u001b[0m\u001b[0;34m\u001b[0m\u001b[0m\n\u001b[1;32m    246\u001b[0m         \u001b[0mpng_formatter\u001b[0m\u001b[0;34m.\u001b[0m\u001b[0mfor_type\u001b[0m\u001b[0;34m(\u001b[0m\u001b[0mFigure\u001b[0m\u001b[0;34m,\u001b[0m \u001b[0;32mlambda\u001b[0m \u001b[0mfig\u001b[0m\u001b[0;34m:\u001b[0m \u001b[0mretina_figure\u001b[0m\u001b[0;34m(\u001b[0m\u001b[0mfig\u001b[0m\u001b[0;34m,\u001b[0m \u001b[0;34m**\u001b[0m\u001b[0mkwargs\u001b[0m\u001b[0;34m)\u001b[0m\u001b[0;34m)\u001b[0m\u001b[0;34m\u001b[0m\u001b[0;34m\u001b[0m\u001b[0m\n",
      "\u001b[0;32m~/anaconda3/lib/python3.7/site-packages/IPython/core/pylabtools.py\u001b[0m in \u001b[0;36mprint_figure\u001b[0;34m(fig, fmt, bbox_inches, **kwargs)\u001b[0m\n\u001b[1;32m    126\u001b[0m \u001b[0;34m\u001b[0m\u001b[0m\n\u001b[1;32m    127\u001b[0m     \u001b[0mbytes_io\u001b[0m \u001b[0;34m=\u001b[0m \u001b[0mBytesIO\u001b[0m\u001b[0;34m(\u001b[0m\u001b[0;34m)\u001b[0m\u001b[0;34m\u001b[0m\u001b[0;34m\u001b[0m\u001b[0m\n\u001b[0;32m--> 128\u001b[0;31m     \u001b[0mfig\u001b[0m\u001b[0;34m.\u001b[0m\u001b[0mcanvas\u001b[0m\u001b[0;34m.\u001b[0m\u001b[0mprint_figure\u001b[0m\u001b[0;34m(\u001b[0m\u001b[0mbytes_io\u001b[0m\u001b[0;34m,\u001b[0m \u001b[0;34m**\u001b[0m\u001b[0mkw\u001b[0m\u001b[0;34m)\u001b[0m\u001b[0;34m\u001b[0m\u001b[0;34m\u001b[0m\u001b[0m\n\u001b[0m\u001b[1;32m    129\u001b[0m     \u001b[0mdata\u001b[0m \u001b[0;34m=\u001b[0m \u001b[0mbytes_io\u001b[0m\u001b[0;34m.\u001b[0m\u001b[0mgetvalue\u001b[0m\u001b[0;34m(\u001b[0m\u001b[0;34m)\u001b[0m\u001b[0;34m\u001b[0m\u001b[0;34m\u001b[0m\u001b[0m\n\u001b[1;32m    130\u001b[0m     \u001b[0;32mif\u001b[0m \u001b[0mfmt\u001b[0m \u001b[0;34m==\u001b[0m \u001b[0;34m'svg'\u001b[0m\u001b[0;34m:\u001b[0m\u001b[0;34m\u001b[0m\u001b[0;34m\u001b[0m\u001b[0m\n",
      "\u001b[0;32m~/anaconda3/lib/python3.7/site-packages/matplotlib/backend_bases.py\u001b[0m in \u001b[0;36mprint_figure\u001b[0;34m(self, filename, dpi, facecolor, edgecolor, orientation, format, bbox_inches, **kwargs)\u001b[0m\n\u001b[1;32m   2051\u001b[0m                     \u001b[0mbbox_artists\u001b[0m \u001b[0;34m=\u001b[0m \u001b[0mkwargs\u001b[0m\u001b[0;34m.\u001b[0m\u001b[0mpop\u001b[0m\u001b[0;34m(\u001b[0m\u001b[0;34m\"bbox_extra_artists\"\u001b[0m\u001b[0;34m,\u001b[0m \u001b[0;32mNone\u001b[0m\u001b[0;34m)\u001b[0m\u001b[0;34m\u001b[0m\u001b[0;34m\u001b[0m\u001b[0m\n\u001b[1;32m   2052\u001b[0m                     bbox_inches = self.figure.get_tightbbox(renderer,\n\u001b[0;32m-> 2053\u001b[0;31m                             bbox_extra_artists=bbox_artists)\n\u001b[0m\u001b[1;32m   2054\u001b[0m                     \u001b[0mpad\u001b[0m \u001b[0;34m=\u001b[0m \u001b[0mkwargs\u001b[0m\u001b[0;34m.\u001b[0m\u001b[0mpop\u001b[0m\u001b[0;34m(\u001b[0m\u001b[0;34m\"pad_inches\"\u001b[0m\u001b[0;34m,\u001b[0m \u001b[0;32mNone\u001b[0m\u001b[0;34m)\u001b[0m\u001b[0;34m\u001b[0m\u001b[0;34m\u001b[0m\u001b[0m\n\u001b[1;32m   2055\u001b[0m                     \u001b[0;32mif\u001b[0m \u001b[0mpad\u001b[0m \u001b[0;32mis\u001b[0m \u001b[0;32mNone\u001b[0m\u001b[0;34m:\u001b[0m\u001b[0;34m\u001b[0m\u001b[0;34m\u001b[0m\u001b[0m\n",
      "\u001b[0;32m~/anaconda3/lib/python3.7/site-packages/matplotlib/figure.py\u001b[0m in \u001b[0;36mget_tightbbox\u001b[0;34m(self, renderer, bbox_extra_artists)\u001b[0m\n\u001b[1;32m   2268\u001b[0m \u001b[0;34m\u001b[0m\u001b[0m\n\u001b[1;32m   2269\u001b[0m         \u001b[0;32mfor\u001b[0m \u001b[0ma\u001b[0m \u001b[0;32min\u001b[0m \u001b[0martists\u001b[0m\u001b[0;34m:\u001b[0m\u001b[0;34m\u001b[0m\u001b[0;34m\u001b[0m\u001b[0m\n\u001b[0;32m-> 2270\u001b[0;31m             \u001b[0mbbox\u001b[0m \u001b[0;34m=\u001b[0m \u001b[0ma\u001b[0m\u001b[0;34m.\u001b[0m\u001b[0mget_tightbbox\u001b[0m\u001b[0;34m(\u001b[0m\u001b[0mrenderer\u001b[0m\u001b[0;34m)\u001b[0m\u001b[0;34m\u001b[0m\u001b[0;34m\u001b[0m\u001b[0m\n\u001b[0m\u001b[1;32m   2271\u001b[0m             \u001b[0;32mif\u001b[0m \u001b[0mbbox\u001b[0m \u001b[0;32mis\u001b[0m \u001b[0;32mnot\u001b[0m \u001b[0;32mNone\u001b[0m \u001b[0;32mand\u001b[0m \u001b[0;34m(\u001b[0m\u001b[0mbbox\u001b[0m\u001b[0;34m.\u001b[0m\u001b[0mwidth\u001b[0m \u001b[0;34m!=\u001b[0m \u001b[0;36m0\u001b[0m \u001b[0;32mor\u001b[0m \u001b[0mbbox\u001b[0m\u001b[0;34m.\u001b[0m\u001b[0mheight\u001b[0m \u001b[0;34m!=\u001b[0m \u001b[0;36m0\u001b[0m\u001b[0;34m)\u001b[0m\u001b[0;34m:\u001b[0m\u001b[0;34m\u001b[0m\u001b[0;34m\u001b[0m\u001b[0m\n\u001b[1;32m   2272\u001b[0m                 \u001b[0mbb\u001b[0m\u001b[0;34m.\u001b[0m\u001b[0mappend\u001b[0m\u001b[0;34m(\u001b[0m\u001b[0mbbox\u001b[0m\u001b[0;34m)\u001b[0m\u001b[0;34m\u001b[0m\u001b[0;34m\u001b[0m\u001b[0m\n",
      "\u001b[0;32m~/anaconda3/lib/python3.7/site-packages/matplotlib/axes/_base.py\u001b[0m in \u001b[0;36mget_tightbbox\u001b[0;34m(self, renderer, call_axes_locator, bbox_extra_artists)\u001b[0m\n\u001b[1;32m   4394\u001b[0m \u001b[0;34m\u001b[0m\u001b[0m\n\u001b[1;32m   4395\u001b[0m         \u001b[0;32mfor\u001b[0m \u001b[0ma\u001b[0m \u001b[0;32min\u001b[0m \u001b[0mbbox_artists\u001b[0m\u001b[0;34m:\u001b[0m\u001b[0;34m\u001b[0m\u001b[0;34m\u001b[0m\u001b[0m\n\u001b[0;32m-> 4396\u001b[0;31m             \u001b[0mbbox\u001b[0m \u001b[0;34m=\u001b[0m \u001b[0ma\u001b[0m\u001b[0;34m.\u001b[0m\u001b[0mget_tightbbox\u001b[0m\u001b[0;34m(\u001b[0m\u001b[0mrenderer\u001b[0m\u001b[0;34m)\u001b[0m\u001b[0;34m\u001b[0m\u001b[0;34m\u001b[0m\u001b[0m\n\u001b[0m\u001b[1;32m   4397\u001b[0m             if (bbox is not None and\n\u001b[1;32m   4398\u001b[0m                     \u001b[0;34m(\u001b[0m\u001b[0mbbox\u001b[0m\u001b[0;34m.\u001b[0m\u001b[0mwidth\u001b[0m \u001b[0;34m!=\u001b[0m \u001b[0;36m0\u001b[0m \u001b[0;32mor\u001b[0m \u001b[0mbbox\u001b[0m\u001b[0;34m.\u001b[0m\u001b[0mheight\u001b[0m \u001b[0;34m!=\u001b[0m \u001b[0;36m0\u001b[0m\u001b[0;34m)\u001b[0m \u001b[0;32mand\u001b[0m\u001b[0;34m\u001b[0m\u001b[0;34m\u001b[0m\u001b[0m\n",
      "\u001b[0;32m~/anaconda3/lib/python3.7/site-packages/matplotlib/axis.py\u001b[0m in \u001b[0;36mget_tightbbox\u001b[0;34m(self, renderer)\u001b[0m\n\u001b[1;32m   1140\u001b[0m         \u001b[0mticks_to_draw\u001b[0m \u001b[0;34m=\u001b[0m \u001b[0mself\u001b[0m\u001b[0;34m.\u001b[0m\u001b[0m_update_ticks\u001b[0m\u001b[0;34m(\u001b[0m\u001b[0mrenderer\u001b[0m\u001b[0;34m)\u001b[0m\u001b[0;34m\u001b[0m\u001b[0;34m\u001b[0m\u001b[0m\n\u001b[1;32m   1141\u001b[0m \u001b[0;34m\u001b[0m\u001b[0m\n\u001b[0;32m-> 1142\u001b[0;31m         \u001b[0mself\u001b[0m\u001b[0;34m.\u001b[0m\u001b[0m_update_label_position\u001b[0m\u001b[0;34m(\u001b[0m\u001b[0mrenderer\u001b[0m\u001b[0;34m)\u001b[0m\u001b[0;34m\u001b[0m\u001b[0;34m\u001b[0m\u001b[0m\n\u001b[0m\u001b[1;32m   1143\u001b[0m \u001b[0;34m\u001b[0m\u001b[0m\n\u001b[1;32m   1144\u001b[0m         \u001b[0;31m# go back to just this axis's tick labels\u001b[0m\u001b[0;34m\u001b[0m\u001b[0;34m\u001b[0m\u001b[0;34m\u001b[0m\u001b[0m\n",
      "\u001b[0;32m~/anaconda3/lib/python3.7/site-packages/matplotlib/axis.py\u001b[0m in \u001b[0;36m_update_label_position\u001b[0;34m(self, renderer)\u001b[0m\n\u001b[1;32m   1932\u001b[0m         \u001b[0;31m# get bounding boxes for this axis and any siblings\u001b[0m\u001b[0;34m\u001b[0m\u001b[0;34m\u001b[0m\u001b[0;34m\u001b[0m\u001b[0m\n\u001b[1;32m   1933\u001b[0m         \u001b[0;31m# that have been set by `fig.align_xlabels()`\u001b[0m\u001b[0;34m\u001b[0m\u001b[0;34m\u001b[0m\u001b[0;34m\u001b[0m\u001b[0m\n\u001b[0;32m-> 1934\u001b[0;31m         \u001b[0mbboxes\u001b[0m\u001b[0;34m,\u001b[0m \u001b[0mbboxes2\u001b[0m \u001b[0;34m=\u001b[0m \u001b[0mself\u001b[0m\u001b[0;34m.\u001b[0m\u001b[0m_get_tick_boxes_siblings\u001b[0m\u001b[0;34m(\u001b[0m\u001b[0mrenderer\u001b[0m\u001b[0;34m=\u001b[0m\u001b[0mrenderer\u001b[0m\u001b[0;34m)\u001b[0m\u001b[0;34m\u001b[0m\u001b[0;34m\u001b[0m\u001b[0m\n\u001b[0m\u001b[1;32m   1935\u001b[0m \u001b[0;34m\u001b[0m\u001b[0m\n\u001b[1;32m   1936\u001b[0m         \u001b[0mx\u001b[0m\u001b[0;34m,\u001b[0m \u001b[0my\u001b[0m \u001b[0;34m=\u001b[0m \u001b[0mself\u001b[0m\u001b[0;34m.\u001b[0m\u001b[0mlabel\u001b[0m\u001b[0;34m.\u001b[0m\u001b[0mget_position\u001b[0m\u001b[0;34m(\u001b[0m\u001b[0;34m)\u001b[0m\u001b[0;34m\u001b[0m\u001b[0;34m\u001b[0m\u001b[0m\n",
      "\u001b[0;32m~/anaconda3/lib/python3.7/site-packages/matplotlib/axis.py\u001b[0m in \u001b[0;36m_get_tick_boxes_siblings\u001b[0;34m(self, renderer)\u001b[0m\n\u001b[1;32m   1917\u001b[0m         \u001b[0;32mfor\u001b[0m \u001b[0mnn\u001b[0m\u001b[0;34m,\u001b[0m \u001b[0maxx\u001b[0m \u001b[0;32min\u001b[0m \u001b[0menumerate\u001b[0m\u001b[0;34m(\u001b[0m\u001b[0mgrp\u001b[0m\u001b[0;34m.\u001b[0m\u001b[0mget_siblings\u001b[0m\u001b[0;34m(\u001b[0m\u001b[0mself\u001b[0m\u001b[0;34m.\u001b[0m\u001b[0maxes\u001b[0m\u001b[0;34m)\u001b[0m\u001b[0;34m)\u001b[0m\u001b[0;34m:\u001b[0m\u001b[0;34m\u001b[0m\u001b[0;34m\u001b[0m\u001b[0m\n\u001b[1;32m   1918\u001b[0m             \u001b[0mticks_to_draw\u001b[0m \u001b[0;34m=\u001b[0m \u001b[0maxx\u001b[0m\u001b[0;34m.\u001b[0m\u001b[0mxaxis\u001b[0m\u001b[0;34m.\u001b[0m\u001b[0m_update_ticks\u001b[0m\u001b[0;34m(\u001b[0m\u001b[0mrenderer\u001b[0m\u001b[0;34m)\u001b[0m\u001b[0;34m\u001b[0m\u001b[0;34m\u001b[0m\u001b[0m\n\u001b[0;32m-> 1919\u001b[0;31m             \u001b[0mtlb\u001b[0m\u001b[0;34m,\u001b[0m \u001b[0mtlb2\u001b[0m \u001b[0;34m=\u001b[0m \u001b[0maxx\u001b[0m\u001b[0;34m.\u001b[0m\u001b[0mxaxis\u001b[0m\u001b[0;34m.\u001b[0m\u001b[0m_get_tick_bboxes\u001b[0m\u001b[0;34m(\u001b[0m\u001b[0mticks_to_draw\u001b[0m\u001b[0;34m,\u001b[0m \u001b[0mrenderer\u001b[0m\u001b[0;34m)\u001b[0m\u001b[0;34m\u001b[0m\u001b[0;34m\u001b[0m\u001b[0m\n\u001b[0m\u001b[1;32m   1920\u001b[0m             \u001b[0mbboxes\u001b[0m\u001b[0;34m.\u001b[0m\u001b[0mextend\u001b[0m\u001b[0;34m(\u001b[0m\u001b[0mtlb\u001b[0m\u001b[0;34m)\u001b[0m\u001b[0;34m\u001b[0m\u001b[0;34m\u001b[0m\u001b[0m\n\u001b[1;32m   1921\u001b[0m             \u001b[0mbboxes2\u001b[0m\u001b[0;34m.\u001b[0m\u001b[0mextend\u001b[0m\u001b[0;34m(\u001b[0m\u001b[0mtlb2\u001b[0m\u001b[0;34m)\u001b[0m\u001b[0;34m\u001b[0m\u001b[0;34m\u001b[0m\u001b[0m\n",
      "\u001b[0;32m~/anaconda3/lib/python3.7/site-packages/matplotlib/axis.py\u001b[0m in \u001b[0;36m_get_tick_bboxes\u001b[0;34m(self, ticks, renderer)\u001b[0m\n\u001b[1;32m   1123\u001b[0m         \u001b[0;32mfor\u001b[0m \u001b[0mtick\u001b[0m \u001b[0;32min\u001b[0m \u001b[0mticks\u001b[0m\u001b[0;34m:\u001b[0m\u001b[0;34m\u001b[0m\u001b[0;34m\u001b[0m\u001b[0m\n\u001b[1;32m   1124\u001b[0m             \u001b[0;32mif\u001b[0m \u001b[0mtick\u001b[0m\u001b[0;34m.\u001b[0m\u001b[0mlabel1On\u001b[0m \u001b[0;32mand\u001b[0m \u001b[0mtick\u001b[0m\u001b[0;34m.\u001b[0m\u001b[0mlabel1\u001b[0m\u001b[0;34m.\u001b[0m\u001b[0mget_visible\u001b[0m\u001b[0;34m(\u001b[0m\u001b[0;34m)\u001b[0m\u001b[0;34m:\u001b[0m\u001b[0;34m\u001b[0m\u001b[0;34m\u001b[0m\u001b[0m\n\u001b[0;32m-> 1125\u001b[0;31m                 \u001b[0mextent\u001b[0m \u001b[0;34m=\u001b[0m \u001b[0mtick\u001b[0m\u001b[0;34m.\u001b[0m\u001b[0mlabel1\u001b[0m\u001b[0;34m.\u001b[0m\u001b[0mget_window_extent\u001b[0m\u001b[0;34m(\u001b[0m\u001b[0mrenderer\u001b[0m\u001b[0;34m)\u001b[0m\u001b[0;34m\u001b[0m\u001b[0;34m\u001b[0m\u001b[0m\n\u001b[0m\u001b[1;32m   1126\u001b[0m                 \u001b[0mticklabelBoxes\u001b[0m\u001b[0;34m.\u001b[0m\u001b[0mappend\u001b[0m\u001b[0;34m(\u001b[0m\u001b[0mextent\u001b[0m\u001b[0;34m)\u001b[0m\u001b[0;34m\u001b[0m\u001b[0;34m\u001b[0m\u001b[0m\n\u001b[1;32m   1127\u001b[0m             \u001b[0;32mif\u001b[0m \u001b[0mtick\u001b[0m\u001b[0;34m.\u001b[0m\u001b[0mlabel2On\u001b[0m \u001b[0;32mand\u001b[0m \u001b[0mtick\u001b[0m\u001b[0;34m.\u001b[0m\u001b[0mlabel2\u001b[0m\u001b[0;34m.\u001b[0m\u001b[0mget_visible\u001b[0m\u001b[0;34m(\u001b[0m\u001b[0;34m)\u001b[0m\u001b[0;34m:\u001b[0m\u001b[0;34m\u001b[0m\u001b[0;34m\u001b[0m\u001b[0m\n",
      "\u001b[0;31mKeyboardInterrupt\u001b[0m: "
     ]
    }
   ],
   "source": [
    "sb.catplot('COUNTY',data=df_from_xlsx_total,kind=\"count\")"
   ]
  },
  {
   "cell_type": "code",
   "execution_count": 121,
   "metadata": {},
   "outputs": [
    {
     "data": {
      "text/plain": [
       "<seaborn.axisgrid.FacetGrid at 0x7f61094fe208>"
      ]
     },
     "execution_count": 121,
     "metadata": {},
     "output_type": "execute_result"
    },
    {
     "data": {
      "image/png": "[encoded data removed]",
      "text/plain": [
       "<Figure size 360x360 with 1 Axes>"
      ]
     },
     "metadata": {
      "needs_background": "light"
     },
     "output_type": "display_data"
    }
   ],
   "source": [
    "sb.catplot('PLAN_NAME',data=df_from_xlsx_total,kind=\"count\")"
   ]
  },
  {
   "cell_type": "code",
   "execution_count": 122,
   "metadata": {},
   "outputs": [
    {
     "data": {
      "text/plain": [
       "<seaborn.axisgrid.FacetGrid at 0x7f6102ca8470>"
      ]
     },
     "execution_count": 122,
     "metadata": {},
     "output_type": "execute_result"
    },
    {
     "data": {
      "image/png": "[encoded data removed]",
      "text/plain": [
       "<Figure size 360x360 with 1 Axes>"
      ]
     },
     "metadata": {
      "needs_background": "light"
     },
     "output_type": "display_data"
    }
   ],
   "source": [
    "sb.catplot('GENERIC_TYPE',data=df_from_xlsx_total,kind=\"count\")"
   ]
  },
  {
   "cell_type": "code",
   "execution_count": 123,
   "metadata": {},
   "outputs": [
    {
     "data": {
      "text/plain": [
       "<seaborn.axisgrid.FacetGrid at 0x7f61083490b8>"
      ]
     },
     "execution_count": 123,
     "metadata": {},
     "output_type": "execute_result"
    },
    {
     "data": {
      "image/png": "[encoded data removed]",
      "text/plain": [
       "<Figure size 360x360 with 1 Axes>"
      ]
     },
     "metadata": {
      "needs_background": "light"
     },
     "output_type": "display_data"
    }
   ],
   "source": [
    "sb.catplot('RATING',data=df_from_xlsx_total,kind=\"count\")"
   ]
  },
  {
   "cell_type": "code",
   "execution_count": 124,
   "metadata": {},
   "outputs": [
    {
     "data": {
      "text/plain": [
       "<seaborn.axisgrid.FacetGrid at 0x7f61015a3b00>"
      ]
     },
     "execution_count": 124,
     "metadata": {},
     "output_type": "execute_result"
    },
    {
     "data": {
      "image/png": "[encoded data removed]",
      "text/plain": [
       "<Figure size 469.875x360 with 1 Axes>"
      ]
     },
     "metadata": {
      "needs_background": "light"
     },
     "output_type": "display_data"
    }
   ],
   "source": [
    "sb.catplot('STATE',data=df_from_xlsx_total,hue='RATING',kind=\"count\")"
   ]
  },
  {
   "cell_type": "code",
   "execution_count": 125,
   "metadata": {},
   "outputs": [
    {
     "data": {
      "text/plain": [
       "<seaborn.axisgrid.FacetGrid at 0x7f61012ebf28>"
      ]
     },
     "execution_count": 125,
     "metadata": {},
     "output_type": "execute_result"
    },
    {
     "data": {
      "image/png": "[encoded data removed]",
      "text/plain": [
       "<Figure size 469.875x360 with 1 Axes>"
      ]
     },
     "metadata": {
      "needs_background": "light"
     },
     "output_type": "display_data"
    }
   ],
   "source": [
    "sb.catplot('COUNTY',data=df_from_xlsx_total,hue='RATING',kind=\"count\")"
   ]
  },
  {
   "cell_type": "code",
   "execution_count": 126,
   "metadata": {},
   "outputs": [
    {
     "data": {
      "text/plain": [
       "<seaborn.axisgrid.FacetGrid at 0x7f60fac758d0>"
      ]
     },
     "execution_count": 126,
     "metadata": {},
     "output_type": "execute_result"
    },
    {
     "data": {
      "image/png": "[encoded data removed]",
      "text/plain": [
       "<Figure size 469.875x360 with 1 Axes>"
      ]
     },
     "metadata": {
      "needs_background": "light"
     },
     "output_type": "display_data"
    }
   ],
   "source": [
    "sb.catplot('PLAN_NAME',data=df_from_xlsx_total,hue='RATING',kind=\"count\")"
   ]
  },
  {
   "cell_type": "code",
   "execution_count": 127,
   "metadata": {},
   "outputs": [
    {
     "data": {
      "text/plain": [
       "<seaborn.axisgrid.FacetGrid at 0x7f60f5b207b8>"
      ]
     },
     "execution_count": 127,
     "metadata": {},
     "output_type": "execute_result"
    },
    {
     "data": {
      "image/png": "[encoded data removed]",
      "text/plain": [
       "<Figure size 469.875x360 with 1 Axes>"
      ]
     },
     "metadata": {
      "needs_background": "light"
     },
     "output_type": "display_data"
    }
   ],
   "source": [
    "sb.catplot('GENERIC_TYPE',data=df_from_xlsx_total,hue='RATING',kind=\"count\")"
   ]
  },
  {
   "cell_type": "code",
   "execution_count": 124,
   "metadata": {},
   "outputs": [],
   "source": [
    "# Draw some dispersion graph for columns pairs to visualize the lack of information"
   ]
  },
  {
   "cell_type": "code",
   "execution_count": 129,
   "metadata": {},
   "outputs": [
    {
     "data": {
      "image/png": "[encoded data removed]",
      "text/plain": [
       "<Figure size 432x288 with 1 Axes>"
      ]
     },
     "metadata": {
      "needs_background": "light"
     },
     "output_type": "display_data"
    }
   ],
   "source": [
    "plt.scatter(df_from_xlsx_total['RATING'].values, df_from_xlsx_total['STATE'].values)\n",
    "plt.show()"
   ]
  },
  {
   "cell_type": "code",
   "execution_count": 130,
   "metadata": {},
   "outputs": [
    {
     "data": {
      "image/png": "[encoded data removed]",
      "text/plain": [
       "<Figure size 432x288 with 1 Axes>"
      ]
     },
     "metadata": {
      "needs_background": "light"
     },
     "output_type": "display_data"
    }
   ],
   "source": [
    "plt.scatter(df_from_xlsx_total['RATING'].values, df_from_xlsx_total['COUNTY'].values)\n",
    "plt.show()"
   ]
  },
  {
   "cell_type": "code",
   "execution_count": 131,
   "metadata": {},
   "outputs": [
    {
     "data": {
      "image/png": "[encoded data removed]",
      "text/plain": [
       "<Figure size 432x288 with 1 Axes>"
      ]
     },
     "metadata": {
      "needs_background": "light"
     },
     "output_type": "display_data"
    }
   ],
   "source": [
    "plt.scatter(df_from_xlsx_total['RATING'].values, df_from_xlsx_total['PLAN_NAME'].values)\n",
    "plt.show()"
   ]
  },
  {
   "cell_type": "code",
   "execution_count": 132,
   "metadata": {},
   "outputs": [
    {
     "data": {
      "image/png": "[encoded data removed]",
      "text/plain": [
       "<Figure size 432x288 with 1 Axes>"
      ]
     },
     "metadata": {
      "needs_background": "light"
     },
     "output_type": "display_data"
    }
   ],
   "source": [
    "plt.scatter(df_from_xlsx_total['RATING'].values, df_from_xlsx_total['GENERIC_TYPE'].values)\n",
    "plt.show()"
   ]
  },
  {
   "cell_type": "code",
   "execution_count": 119,
   "metadata": {},
   "outputs": [],
   "source": [
    "# Data mapping"
   ]
  },
  {
   "cell_type": "code",
   "execution_count": 175,
   "metadata": {},
   "outputs": [],
   "source": [
    "df_ratings_lab_ohe = df_from_xlsx_total.reset_index(drop=True).copy()"
   ]
  },
  {
   "cell_type": "code",
   "execution_count": 129,
   "metadata": {},
   "outputs": [
    {
     "data": {
      "text/html": [
       "<div>\n",
       "<style scoped>\n",
       "    .dataframe tbody tr th:only-of-type {\n",
       "        vertical-align: middle;\n",
       "    }\n",
       "\n",
       "    .dataframe tbody tr th {\n",
       "        vertical-align: top;\n",
       "    }\n",
       "\n",
       "    .dataframe thead th {\n",
       "        text-align: right;\n",
       "    }\n",
       "</style>\n",
       "<table border=\"1\" class=\"dataframe\">\n",
       "  <thead>\n",
       "    <tr style=\"text-align: right;\">\n",
       "      <th></th>\n",
       "      <th>STATE</th>\n",
       "      <th>COUNTY</th>\n",
       "      <th>ORGANIZATION</th>\n",
       "      <th>PLAN_NAME</th>\n",
       "      <th>GENERIC_TYPE</th>\n",
       "      <th>MCP</th>\n",
       "      <th>CONTRACT_ID</th>\n",
       "      <th>PLAN_ID</th>\n",
       "      <th>SEGMENT_ID</th>\n",
       "      <th>MOOP_LIMIT</th>\n",
       "      <th>RATING</th>\n",
       "    </tr>\n",
       "  </thead>\n",
       "  <tbody>\n",
       "    <tr>\n",
       "      <th>0</th>\n",
       "      <td>Alabama</td>\n",
       "      <td>Autauga</td>\n",
       "      <td>UnitedHealthcare</td>\n",
       "      <td>AARP MedicareComplete Plan 1 (HMO)</td>\n",
       "      <td>Local HMO</td>\n",
       "      <td>$0.00</td>\n",
       "      <td>H0151</td>\n",
       "      <td>1</td>\n",
       "      <td>0</td>\n",
       "      <td>$4,450</td>\n",
       "      <td>2.5</td>\n",
       "    </tr>\n",
       "  </tbody>\n",
       "</table>\n",
       "</div>"
      ],
      "text/plain": [
       "     STATE   COUNTY      ORGANIZATION                           PLAN_NAME  \\\n",
       "0  Alabama  Autauga  UnitedHealthcare  AARP MedicareComplete Plan 1 (HMO)   \n",
       "\n",
       "  GENERIC_TYPE     MCP CONTRACT_ID  PLAN_ID  SEGMENT_ID MOOP_LIMIT RATING  \n",
       "0    Local HMO  $0.00        H0151        1           0    $4,450     2.5  "
      ]
     },
     "execution_count": 129,
     "metadata": {},
     "output_type": "execute_result"
    }
   ],
   "source": [
    "df_ratings_lab_ohe.head(1)"
   ]
  },
  {
   "cell_type": "code",
   "execution_count": 130,
   "metadata": {},
   "outputs": [
    {
     "data": {
      "text/plain": [
       "Index(['STATE', 'COUNTY', 'ORGANIZATION', 'PLAN_NAME', 'GENERIC_TYPE', 'MCP',\n",
       "       'CONTRACT_ID', 'PLAN_ID', 'SEGMENT_ID', 'MOOP_LIMIT', 'RATING'],\n",
       "      dtype='object')"
      ]
     },
     "execution_count": 130,
     "metadata": {},
     "output_type": "execute_result"
    }
   ],
   "source": [
    "df_ratings_lab_ohe.columns"
   ]
  },
  {
   "cell_type": "code",
   "execution_count": 131,
   "metadata": {},
   "outputs": [
    {
     "data": {
      "text/plain": [
       "STATE           object\n",
       "COUNTY          object\n",
       "ORGANIZATION    object\n",
       "PLAN_NAME       object\n",
       "GENERIC_TYPE    object\n",
       "MCP             object\n",
       "CONTRACT_ID     object\n",
       "PLAN_ID          int64\n",
       "SEGMENT_ID       int64\n",
       "MOOP_LIMIT      object\n",
       "RATING          object\n",
       "dtype: object"
      ]
     },
     "execution_count": 131,
     "metadata": {},
     "output_type": "execute_result"
    }
   ],
   "source": [
    "df_ratings_lab_ohe.dtypes"
   ]
  },
  {
   "cell_type": "code",
   "execution_count": 132,
   "metadata": {},
   "outputs": [
    {
     "data": {
      "text/plain": [
       "STATE           object\n",
       "COUNTY          object\n",
       "ORGANIZATION    object\n",
       "PLAN_NAME       object\n",
       "GENERIC_TYPE    object\n",
       "MCP             object\n",
       "CONTRACT_ID     object\n",
       "PLAN_ID          int64\n",
       "SEGMENT_ID       int64\n",
       "MOOP_LIMIT      object\n",
       "RATING          object\n",
       "dtype: object"
      ]
     },
     "execution_count": 132,
     "metadata": {},
     "output_type": "execute_result"
    }
   ],
   "source": [
    "df_ratings_lab_ohe.dtypes"
   ]
  },
  {
   "cell_type": "code",
   "execution_count": 133,
   "metadata": {},
   "outputs": [
    {
     "data": {
      "text/html": [
       "<div>\n",
       "<style scoped>\n",
       "    .dataframe tbody tr th:only-of-type {\n",
       "        vertical-align: middle;\n",
       "    }\n",
       "\n",
       "    .dataframe tbody tr th {\n",
       "        vertical-align: top;\n",
       "    }\n",
       "\n",
       "    .dataframe thead th {\n",
       "        text-align: right;\n",
       "    }\n",
       "</style>\n",
       "<table border=\"1\" class=\"dataframe\">\n",
       "  <thead>\n",
       "    <tr style=\"text-align: right;\">\n",
       "      <th></th>\n",
       "      <th>STATE</th>\n",
       "      <th>COUNTY</th>\n",
       "      <th>ORGANIZATION</th>\n",
       "      <th>PLAN_NAME</th>\n",
       "      <th>GENERIC_TYPE</th>\n",
       "      <th>MCP</th>\n",
       "      <th>CONTRACT_ID</th>\n",
       "      <th>PLAN_ID</th>\n",
       "      <th>SEGMENT_ID</th>\n",
       "      <th>MOOP_LIMIT</th>\n",
       "      <th>RATING</th>\n",
       "    </tr>\n",
       "  </thead>\n",
       "  <tbody>\n",
       "    <tr>\n",
       "      <th>0</th>\n",
       "      <td>Alabama</td>\n",
       "      <td>Autauga</td>\n",
       "      <td>UnitedHealthcare</td>\n",
       "      <td>AARP MedicareComplete Plan 1 (HMO)</td>\n",
       "      <td>Local HMO</td>\n",
       "      <td>$0.00</td>\n",
       "      <td>H0151</td>\n",
       "      <td>1</td>\n",
       "      <td>0</td>\n",
       "      <td>$4,450</td>\n",
       "      <td>2.5</td>\n",
       "    </tr>\n",
       "    <tr>\n",
       "      <th>1</th>\n",
       "      <td>Alabama</td>\n",
       "      <td>Autauga</td>\n",
       "      <td>Blue Cross and Blue Shield of Alabama</td>\n",
       "      <td>Blue Advantage Complete (PPO)</td>\n",
       "      <td>Local PPO</td>\n",
       "      <td>$99.00</td>\n",
       "      <td>H0104</td>\n",
       "      <td>11</td>\n",
       "      <td>5</td>\n",
       "      <td>$3,400</td>\n",
       "      <td>2.5</td>\n",
       "    </tr>\n",
       "    <tr>\n",
       "      <th>2</th>\n",
       "      <td>Alabama</td>\n",
       "      <td>Autauga</td>\n",
       "      <td>Blue Cross and Blue Shield of Alabama</td>\n",
       "      <td>Blue Advantage Premier (PPO)</td>\n",
       "      <td>Local PPO</td>\n",
       "      <td>$199.00</td>\n",
       "      <td>H0104</td>\n",
       "      <td>10</td>\n",
       "      <td>3</td>\n",
       "      <td>$3,400</td>\n",
       "      <td>2.5</td>\n",
       "    </tr>\n",
       "  </tbody>\n",
       "</table>\n",
       "</div>"
      ],
      "text/plain": [
       "     STATE   COUNTY                           ORGANIZATION  \\\n",
       "0  Alabama  Autauga                       UnitedHealthcare   \n",
       "1  Alabama  Autauga  Blue Cross and Blue Shield of Alabama   \n",
       "2  Alabama  Autauga  Blue Cross and Blue Shield of Alabama   \n",
       "\n",
       "                            PLAN_NAME GENERIC_TYPE       MCP CONTRACT_ID  \\\n",
       "0  AARP MedicareComplete Plan 1 (HMO)    Local HMO    $0.00        H0151   \n",
       "1       Blue Advantage Complete (PPO)    Local PPO   $99.00        H0104   \n",
       "2        Blue Advantage Premier (PPO)    Local PPO  $199.00        H0104   \n",
       "\n",
       "   PLAN_ID  SEGMENT_ID MOOP_LIMIT RATING  \n",
       "0        1           0    $4,450     2.5  \n",
       "1       11           5    $3,400     2.5  \n",
       "2       10           3    $3,400     2.5  "
      ]
     },
     "execution_count": 133,
     "metadata": {},
     "output_type": "execute_result"
    }
   ],
   "source": [
    "df_ratings_lab_ohe.head(3)"
   ]
  },
  {
   "cell_type": "code",
   "execution_count": 134,
   "metadata": {},
   "outputs": [
    {
     "data": {
      "text/plain": [
       "array(['2.5', '3', 'Plan too new to be measured', '3.5', '4', '4.5',\n",
       "       'Not enough data to calculate overall rating', '5',\n",
       "       'Not enough data to calculate summary rating', '2',\n",
       "       'Not enough data to calculate summary score',\n",
       "       'Plan too new to be measured ', 'Not enough data available ',\n",
       "       'NO_ASIGNADO', 'Not enough data available', 'Not Applicable'],\n",
       "      dtype=object)"
      ]
     },
     "execution_count": 134,
     "metadata": {},
     "output_type": "execute_result"
    }
   ],
   "source": [
    "# Check UNIQUE values\n",
    "df_ratings_lab_ohe['RATING'].unique()"
   ]
  },
  {
   "cell_type": "code",
   "execution_count": 135,
   "metadata": {},
   "outputs": [
    {
     "data": {
      "text/plain": [
       "STATE           0\n",
       "COUNTY          0\n",
       "ORGANIZATION    0\n",
       "PLAN_NAME       0\n",
       "GENERIC_TYPE    0\n",
       "MCP             0\n",
       "CONTRACT_ID     0\n",
       "PLAN_ID         0\n",
       "SEGMENT_ID      0\n",
       "MOOP_LIMIT      0\n",
       "RATING          0\n",
       "dtype: int64"
      ]
     },
     "execution_count": 135,
     "metadata": {},
     "output_type": "execute_result"
    }
   ],
   "source": [
    "# Check NULL values\n",
    "df_ratings_lab_ohe.isnull().sum()"
   ]
  },
  {
   "cell_type": "code",
   "execution_count": 136,
   "metadata": {},
   "outputs": [],
   "source": [
    "# Create sample for new dataframe with OneHotEncoder"
   ]
  },
  {
   "cell_type": "code",
   "execution_count": 176,
   "metadata": {},
   "outputs": [],
   "source": [
    "df_ratings_lab_ohe_sample = df_ratings_lab_ohe.sample(n=10000).reset_index(drop=True)"
   ]
  },
  {
   "cell_type": "code",
   "execution_count": 172,
   "metadata": {},
   "outputs": [
    {
     "data": {
      "text/plain": [
       "Index(['STATE', 'COUNTY', 'ORGANIZATION', 'PLAN_NAME', 'GENERIC_TYPE', 'MCP',\n",
       "       'CONTRACT_ID', 'PLAN_ID', 'SEGMENT_ID', 'MOOP_LIMIT', 'RATING'],\n",
       "      dtype='object')"
      ]
     },
     "execution_count": 172,
     "metadata": {},
     "output_type": "execute_result"
    }
   ],
   "source": [
    "df_ratings_lab_ohe_sample.columns"
   ]
  },
  {
   "cell_type": "code",
   "execution_count": 173,
   "metadata": {},
   "outputs": [
    {
     "data": {
      "text/html": [
       "<div>\n",
       "<style scoped>\n",
       "    .dataframe tbody tr th:only-of-type {\n",
       "        vertical-align: middle;\n",
       "    }\n",
       "\n",
       "    .dataframe tbody tr th {\n",
       "        vertical-align: top;\n",
       "    }\n",
       "\n",
       "    .dataframe thead th {\n",
       "        text-align: right;\n",
       "    }\n",
       "</style>\n",
       "<table border=\"1\" class=\"dataframe\">\n",
       "  <thead>\n",
       "    <tr style=\"text-align: right;\">\n",
       "      <th></th>\n",
       "      <th>STATE</th>\n",
       "      <th>COUNTY</th>\n",
       "      <th>ORGANIZATION</th>\n",
       "      <th>PLAN_NAME</th>\n",
       "      <th>GENERIC_TYPE</th>\n",
       "      <th>MCP</th>\n",
       "      <th>CONTRACT_ID</th>\n",
       "      <th>PLAN_ID</th>\n",
       "      <th>SEGMENT_ID</th>\n",
       "      <th>MOOP_LIMIT</th>\n",
       "      <th>RATING</th>\n",
       "    </tr>\n",
       "  </thead>\n",
       "  <tbody>\n",
       "    <tr>\n",
       "      <th>0</th>\n",
       "      <td>Colorado</td>\n",
       "      <td>Larimer</td>\n",
       "      <td>Rocky Mountain Health Plans</td>\n",
       "      <td>Rocky Mountain Green Plan + Rx (Cost)</td>\n",
       "      <td>Cost</td>\n",
       "      <td>$48.10</td>\n",
       "      <td>H0602</td>\n",
       "      <td>43</td>\n",
       "      <td>0</td>\n",
       "      <td>$6,700</td>\n",
       "      <td>4.5</td>\n",
       "    </tr>\n",
       "  </tbody>\n",
       "</table>\n",
       "</div>"
      ],
      "text/plain": [
       "      STATE   COUNTY                 ORGANIZATION  \\\n",
       "0  Colorado  Larimer  Rocky Mountain Health Plans   \n",
       "\n",
       "                               PLAN_NAME GENERIC_TYPE      MCP CONTRACT_ID  \\\n",
       "0  Rocky Mountain Green Plan + Rx (Cost)         Cost  $48.10        H0602   \n",
       "\n",
       "   PLAN_ID  SEGMENT_ID MOOP_LIMIT RATING  \n",
       "0       43           0    $6,700     4.5  "
      ]
     },
     "execution_count": 173,
     "metadata": {},
     "output_type": "execute_result"
    }
   ],
   "source": [
    "df_ratings_lab_ohe_sample.head(1)"
   ]
  },
  {
   "cell_type": "code",
   "execution_count": 174,
   "metadata": {},
   "outputs": [
    {
     "data": {
      "text/plain": [
       "STATE           object\n",
       "COUNTY          object\n",
       "ORGANIZATION    object\n",
       "PLAN_NAME       object\n",
       "GENERIC_TYPE    object\n",
       "MCP             object\n",
       "CONTRACT_ID     object\n",
       "PLAN_ID          int64\n",
       "SEGMENT_ID       int64\n",
       "MOOP_LIMIT      object\n",
       "RATING          object\n",
       "dtype: object"
      ]
     },
     "execution_count": 174,
     "metadata": {},
     "output_type": "execute_result"
    }
   ],
   "source": [
    "df_ratings_lab_ohe_sample.dtypes"
   ]
  },
  {
   "cell_type": "code",
   "execution_count": 141,
   "metadata": {},
   "outputs": [
    {
     "data": {
      "text/plain": [
       "STATE           0\n",
       "COUNTY          0\n",
       "ORGANIZATION    0\n",
       "PLAN_NAME       0\n",
       "GENERIC_TYPE    0\n",
       "MCP             0\n",
       "CONTRACT_ID     0\n",
       "PLAN_ID         0\n",
       "SEGMENT_ID      0\n",
       "MOOP_LIMIT      0\n",
       "RATING          0\n",
       "dtype: int64"
      ]
     },
     "execution_count": 141,
     "metadata": {},
     "output_type": "execute_result"
    }
   ],
   "source": [
    "# Check NULL values\n",
    "df_ratings_lab_ohe_sample.isnull().sum()"
   ]
  },
  {
   "cell_type": "code",
   "execution_count": 142,
   "metadata": {},
   "outputs": [
    {
     "data": {
      "text/html": [
       "<div>\n",
       "<style scoped>\n",
       "    .dataframe tbody tr th:only-of-type {\n",
       "        vertical-align: middle;\n",
       "    }\n",
       "\n",
       "    .dataframe tbody tr th {\n",
       "        vertical-align: top;\n",
       "    }\n",
       "\n",
       "    .dataframe thead th {\n",
       "        text-align: right;\n",
       "    }\n",
       "</style>\n",
       "<table border=\"1\" class=\"dataframe\">\n",
       "  <thead>\n",
       "    <tr style=\"text-align: right;\">\n",
       "      <th></th>\n",
       "      <th>STATE</th>\n",
       "      <th>COUNTY</th>\n",
       "      <th>ORGANIZATION</th>\n",
       "      <th>PLAN_NAME</th>\n",
       "      <th>GENERIC_TYPE</th>\n",
       "      <th>MCP</th>\n",
       "      <th>CONTRACT_ID</th>\n",
       "      <th>PLAN_ID</th>\n",
       "      <th>SEGMENT_ID</th>\n",
       "      <th>MOOP_LIMIT</th>\n",
       "      <th>RATING</th>\n",
       "    </tr>\n",
       "  </thead>\n",
       "  <tbody>\n",
       "    <tr>\n",
       "      <th>0</th>\n",
       "      <td>New York</td>\n",
       "      <td>Bronx</td>\n",
       "      <td>Liberty Health Advantage</td>\n",
       "      <td>Liberty Health Advantage Preferred Choice (HMO)</td>\n",
       "      <td>Local HMO</td>\n",
       "      <td>0</td>\n",
       "      <td>H3337</td>\n",
       "      <td>1</td>\n",
       "      <td>0</td>\n",
       "      <td>$3,400</td>\n",
       "      <td>2.5</td>\n",
       "    </tr>\n",
       "  </tbody>\n",
       "</table>\n",
       "</div>"
      ],
      "text/plain": [
       "      STATE COUNTY              ORGANIZATION  \\\n",
       "0  New York  Bronx  Liberty Health Advantage   \n",
       "\n",
       "                                         PLAN_NAME GENERIC_TYPE MCP  \\\n",
       "0  Liberty Health Advantage Preferred Choice (HMO)    Local HMO   0   \n",
       "\n",
       "  CONTRACT_ID  PLAN_ID  SEGMENT_ID MOOP_LIMIT RATING  \n",
       "0       H3337        1           0    $3,400     2.5  "
      ]
     },
     "metadata": {},
     "output_type": "display_data"
    }
   ],
   "source": [
    "# Dont limit column display\n",
    "import pandas as pd\n",
    "from IPython.display import display\n",
    "\n",
    "pd.options.display.max_columns = None\n",
    "display(df_ratings_lab_ohe_sample.head(1))"
   ]
  },
  {
   "cell_type": "code",
   "execution_count": 143,
   "metadata": {},
   "outputs": [
    {
     "data": {
      "text/plain": [
       "Index(['STATE', 'COUNTY', 'ORGANIZATION', 'PLAN_NAME', 'GENERIC_TYPE', 'MCP',\n",
       "       'CONTRACT_ID', 'PLAN_ID', 'SEGMENT_ID', 'MOOP_LIMIT', 'RATING'],\n",
       "      dtype='object')"
      ]
     },
     "metadata": {},
     "output_type": "display_data"
    }
   ],
   "source": [
    "display(df_ratings_lab_ohe_sample.columns)"
   ]
  },
  {
   "cell_type": "code",
   "execution_count": 144,
   "metadata": {},
   "outputs": [
    {
     "name": "stdout",
     "output_type": "stream",
     "text": [
      "None\n"
     ]
    }
   ],
   "source": [
    "print(pd.options.display.max_columns)"
   ]
  },
  {
   "cell_type": "code",
   "execution_count": 145,
   "metadata": {},
   "outputs": [
    {
     "name": "stdout",
     "output_type": "stream",
     "text": [
      "60\n"
     ]
    }
   ],
   "source": [
    "print(pd.options.display.max_rows)"
   ]
  },
  {
   "cell_type": "code",
   "execution_count": 146,
   "metadata": {},
   "outputs": [
    {
     "data": {
      "text/html": [
       "<div>\n",
       "<style scoped>\n",
       "    .dataframe tbody tr th:only-of-type {\n",
       "        vertical-align: middle;\n",
       "    }\n",
       "\n",
       "    .dataframe tbody tr th {\n",
       "        vertical-align: top;\n",
       "    }\n",
       "\n",
       "    .dataframe thead th {\n",
       "        text-align: right;\n",
       "    }\n",
       "</style>\n",
       "<table border=\"1\" class=\"dataframe\">\n",
       "  <thead>\n",
       "    <tr style=\"text-align: right;\">\n",
       "      <th></th>\n",
       "      <th>STATE</th>\n",
       "      <th>COUNTY</th>\n",
       "      <th>ORGANIZATION</th>\n",
       "      <th>PLAN_NAME</th>\n",
       "      <th>GENERIC_TYPE</th>\n",
       "      <th>MCP</th>\n",
       "      <th>CONTRACT_ID</th>\n",
       "      <th>PLAN_ID</th>\n",
       "      <th>SEGMENT_ID</th>\n",
       "      <th>MOOP_LIMIT</th>\n",
       "      <th>RATING</th>\n",
       "    </tr>\n",
       "  </thead>\n",
       "  <tbody>\n",
       "    <tr>\n",
       "      <th>0</th>\n",
       "      <td>New York</td>\n",
       "      <td>Bronx</td>\n",
       "      <td>Liberty Health Advantage</td>\n",
       "      <td>Liberty Health Advantage Preferred Choice (HMO)</td>\n",
       "      <td>Local HMO</td>\n",
       "      <td>0</td>\n",
       "      <td>H3337</td>\n",
       "      <td>1</td>\n",
       "      <td>0</td>\n",
       "      <td>$3,400</td>\n",
       "      <td>2.5</td>\n",
       "    </tr>\n",
       "  </tbody>\n",
       "</table>\n",
       "</div>"
      ],
      "text/plain": [
       "      STATE COUNTY              ORGANIZATION  \\\n",
       "0  New York  Bronx  Liberty Health Advantage   \n",
       "\n",
       "                                         PLAN_NAME GENERIC_TYPE MCP  \\\n",
       "0  Liberty Health Advantage Preferred Choice (HMO)    Local HMO   0   \n",
       "\n",
       "  CONTRACT_ID  PLAN_ID  SEGMENT_ID MOOP_LIMIT RATING  \n",
       "0       H3337        1           0    $3,400     2.5  "
      ]
     },
     "execution_count": 146,
     "metadata": {},
     "output_type": "execute_result"
    }
   ],
   "source": [
    "df_ratings_lab_ohe_sample[0:1]"
   ]
  },
  {
   "cell_type": "markdown",
   "metadata": {},
   "source": [
    "# Data Preparation"
   ]
  },
  {
   "cell_type": "code",
   "execution_count": 177,
   "metadata": {},
   "outputs": [
    {
     "data": {
      "text/plain": [
       "(10000, 10)"
      ]
     },
     "execution_count": 177,
     "metadata": {},
     "output_type": "execute_result"
    }
   ],
   "source": [
    "# Load variables with sample data\n",
    "X = np.array(df_ratings_lab_ohe_sample.drop('RATING', 1))\n",
    "y = np.array(df_ratings_lab_ohe_sample[\"RATING\"])\n",
    "X.shape"
   ]
  },
  {
   "cell_type": "code",
   "execution_count": 178,
   "metadata": {},
   "outputs": [
    {
     "data": {
      "text/plain": [
       "STATE           object\n",
       "COUNTY          object\n",
       "ORGANIZATION    object\n",
       "PLAN_NAME       object\n",
       "GENERIC_TYPE    object\n",
       "MCP             object\n",
       "CONTRACT_ID     object\n",
       "PLAN_ID         object\n",
       "SEGMENT_ID      object\n",
       "MOOP_LIMIT      object\n",
       "RATING          object\n",
       "dtype: object"
      ]
     },
     "execution_count": 178,
     "metadata": {},
     "output_type": "execute_result"
    }
   ],
   "source": [
    "df_ratings_lab_ohe_sample.dtypes"
   ]
  },
  {
   "cell_type": "code",
   "execution_count": 179,
   "metadata": {},
   "outputs": [],
   "source": [
    "# Train-test split and load the library\n",
    "from sklearn.model_selection import train_test_split\n",
    "# Create 2 groups each with input and labels\n",
    "X_train, X_test, y_train, y_test = train_test_split(X, y, test_size=0.20)"
   ]
  },
  {
   "cell_type": "code",
   "execution_count": 180,
   "metadata": {},
   "outputs": [],
   "source": [
    "from sklearn.preprocessing import OneHotEncoder"
   ]
  },
  {
   "cell_type": "code",
   "execution_count": 181,
   "metadata": {},
   "outputs": [
    {
     "data": {
      "text/plain": [
       "OneHotEncoder(categorical_features=None, categories=None, drop=None,\n",
       "              dtype=<class 'numpy.float64'>, handle_unknown='ignore',\n",
       "              n_values=None, sparse=True)"
      ]
     },
     "execution_count": 181,
     "metadata": {},
     "output_type": "execute_result"
    }
   ],
   "source": [
    "# Create the encoder.\n",
    "encoder = OneHotEncoder(handle_unknown=\"ignore\")\n",
    "encoder.fit(X_train)    # Assume for simplicity all features are categorical."
   ]
  },
  {
   "cell_type": "code",
   "execution_count": 182,
   "metadata": {},
   "outputs": [],
   "source": [
    "# Apply the encoder.\n",
    "X_train = encoder.transform(X_train)\n",
    "X_test = encoder.transform(X_test)"
   ]
  },
  {
   "cell_type": "code",
   "execution_count": 183,
   "metadata": {},
   "outputs": [
    {
     "data": {
      "text/plain": [
       "(10000, 10)"
      ]
     },
     "execution_count": 183,
     "metadata": {},
     "output_type": "execute_result"
    }
   ],
   "source": [
    "X.shape"
   ]
  },
  {
   "cell_type": "code",
   "execution_count": 184,
   "metadata": {},
   "outputs": [
    {
     "data": {
      "text/plain": [
       "(8000, 5854)"
      ]
     },
     "execution_count": 184,
     "metadata": {},
     "output_type": "execute_result"
    }
   ],
   "source": [
    "X_train.shape"
   ]
  },
  {
   "cell_type": "code",
   "execution_count": 185,
   "metadata": {},
   "outputs": [
    {
     "data": {
      "text/plain": [
       "(2000, 5854)"
      ]
     },
     "execution_count": 185,
     "metadata": {},
     "output_type": "execute_result"
    }
   ],
   "source": [
    "X_test.shape"
   ]
  },
  {
   "cell_type": "code",
   "execution_count": 186,
   "metadata": {},
   "outputs": [
    {
     "data": {
      "text/plain": [
       "array(['Tennessee', 'Union', 'UnitedHealthcare',\n",
       "       'AARP MedicareComplete Plan 2 (HMO)', 'Local HMO', ' $63.00 ',\n",
       "       'H4456', '21', '0', ' $3,400 '], dtype=object)"
      ]
     },
     "execution_count": 186,
     "metadata": {},
     "output_type": "execute_result"
    }
   ],
   "source": [
    "X[0]"
   ]
  },
  {
   "cell_type": "code",
   "execution_count": 187,
   "metadata": {},
   "outputs": [
    {
     "data": {
      "text/plain": [
       "<1x5854 sparse matrix of type '<class 'numpy.float64'>'\n",
       "\twith 10 stored elements in Compressed Sparse Row format>"
      ]
     },
     "execution_count": 187,
     "metadata": {},
     "output_type": "execute_result"
    }
   ],
   "source": [
    "X_train[0]"
   ]
  },
  {
   "cell_type": "code",
   "execution_count": 188,
   "metadata": {},
   "outputs": [
    {
     "data": {
      "text/plain": [
       "<1x5854 sparse matrix of type '<class 'numpy.float64'>'\n",
       "\twith 10 stored elements in Compressed Sparse Row format>"
      ]
     },
     "execution_count": 188,
     "metadata": {},
     "output_type": "execute_result"
    }
   ],
   "source": [
    "X_test[0]"
   ]
  },
  {
   "cell_type": "code",
   "execution_count": 189,
   "metadata": {},
   "outputs": [
    {
     "data": {
      "text/html": [
       "<div>\n",
       "<style scoped>\n",
       "    .dataframe tbody tr th:only-of-type {\n",
       "        vertical-align: middle;\n",
       "    }\n",
       "\n",
       "    .dataframe tbody tr th {\n",
       "        vertical-align: top;\n",
       "    }\n",
       "\n",
       "    .dataframe thead th {\n",
       "        text-align: right;\n",
       "    }\n",
       "</style>\n",
       "<table border=\"1\" class=\"dataframe\">\n",
       "  <thead>\n",
       "    <tr style=\"text-align: right;\">\n",
       "      <th></th>\n",
       "      <th>STATE</th>\n",
       "      <th>COUNTY</th>\n",
       "      <th>ORGANIZATION</th>\n",
       "      <th>PLAN_NAME</th>\n",
       "      <th>GENERIC_TYPE</th>\n",
       "      <th>MCP</th>\n",
       "      <th>CONTRACT_ID</th>\n",
       "      <th>PLAN_ID</th>\n",
       "      <th>SEGMENT_ID</th>\n",
       "      <th>MOOP_LIMIT</th>\n",
       "      <th>RATING</th>\n",
       "    </tr>\n",
       "  </thead>\n",
       "  <tbody>\n",
       "    <tr>\n",
       "      <th>0</th>\n",
       "      <td>Tennessee</td>\n",
       "      <td>Union</td>\n",
       "      <td>UnitedHealthcare</td>\n",
       "      <td>AARP MedicareComplete Plan 2 (HMO)</td>\n",
       "      <td>Local HMO</td>\n",
       "      <td>$63.00</td>\n",
       "      <td>H4456</td>\n",
       "      <td>21</td>\n",
       "      <td>0</td>\n",
       "      <td>$3,400</td>\n",
       "      <td>3.5</td>\n",
       "    </tr>\n",
       "    <tr>\n",
       "      <th>1</th>\n",
       "      <td>Kentucky</td>\n",
       "      <td>Estill</td>\n",
       "      <td>Anthem Blue Cross and Blue Shield</td>\n",
       "      <td>Blue Medicare Access Value (Regional PPO)</td>\n",
       "      <td>Regional PPO</td>\n",
       "      <td>$56.00</td>\n",
       "      <td>R5941</td>\n",
       "      <td>15</td>\n",
       "      <td>0</td>\n",
       "      <td>$6,500</td>\n",
       "      <td>3</td>\n",
       "    </tr>\n",
       "    <tr>\n",
       "      <th>2</th>\n",
       "      <td>Mississippi</td>\n",
       "      <td>Holmes</td>\n",
       "      <td>Windsor Medicare Extra</td>\n",
       "      <td>Windsor Medicare Extra Gold Plan (HMO)</td>\n",
       "      <td>Local HMO</td>\n",
       "      <td>$35.00</td>\n",
       "      <td>H5698</td>\n",
       "      <td>28</td>\n",
       "      <td>0</td>\n",
       "      <td>$3,400</td>\n",
       "      <td>2.5</td>\n",
       "    </tr>\n",
       "  </tbody>\n",
       "</table>\n",
       "</div>"
      ],
      "text/plain": [
       "         STATE  COUNTY                       ORGANIZATION  \\\n",
       "0    Tennessee   Union                   UnitedHealthcare   \n",
       "1     Kentucky  Estill  Anthem Blue Cross and Blue Shield   \n",
       "2  Mississippi  Holmes             Windsor Medicare Extra   \n",
       "\n",
       "                                   PLAN_NAME  GENERIC_TYPE       MCP  \\\n",
       "0         AARP MedicareComplete Plan 2 (HMO)     Local HMO   $63.00    \n",
       "1  Blue Medicare Access Value (Regional PPO)  Regional PPO   $56.00    \n",
       "2     Windsor Medicare Extra Gold Plan (HMO)     Local HMO    $35.00   \n",
       "\n",
       "  CONTRACT_ID PLAN_ID SEGMENT_ID MOOP_LIMIT RATING  \n",
       "0       H4456      21          0    $3,400     3.5  \n",
       "1       R5941      15          0    $6,500       3  \n",
       "2       H5698      28          0    $3,400     2.5  "
      ]
     },
     "execution_count": 189,
     "metadata": {},
     "output_type": "execute_result"
    }
   ],
   "source": [
    "df_ratings_lab_ohe_sample.head(3)"
   ]
  },
  {
   "cell_type": "code",
   "execution_count": 190,
   "metadata": {},
   "outputs": [],
   "source": [
    "# Labeling through Label Encoding\n",
    "from sklearn.preprocessing import LabelEncoder\n",
    "lab = LabelEncoder() "
   ]
  },
  {
   "cell_type": "code",
   "execution_count": 191,
   "metadata": {},
   "outputs": [],
   "source": [
    "df_ratings_lab_ohe_sample['STATE']= lab.fit_transform(df_ratings_lab_ohe_sample['STATE'])\n",
    "df_ratings_lab_ohe_sample['COUNTY']= lab.fit_transform(df_ratings_lab_ohe_sample['COUNTY'])\n",
    "df_ratings_lab_ohe_sample['ORGANIZATION']= lab.fit_transform(df_ratings_lab_ohe_sample['ORGANIZATION'])\n",
    "df_ratings_lab_ohe_sample['PLAN_NAME']= lab.fit_transform(df_ratings_lab_ohe_sample['PLAN_NAME'])\n",
    "df_ratings_lab_ohe_sample['CONTRACT_ID']= lab.fit_transform(df_ratings_lab_ohe_sample['CONTRACT_ID'])\n",
    "df_ratings_lab_ohe_sample['GENERIC_TYPE']= lab.fit_transform(df_ratings_lab_ohe_sample['GENERIC_TYPE'])\n",
    "df_ratings_lab_ohe_sample['PLAN_ID']= lab.fit_transform(df_ratings_lab_ohe_sample['PLAN_ID'])\n",
    "df_ratings_lab_ohe_sample['SEGMENT_ID']= lab.fit_transform(df_ratings_lab_ohe_sample['SEGMENT_ID'])\n",
    "df_ratings_lab_ohe_sample['MCP']= lab.fit_transform(df_ratings_lab_ohe_sample['MCP'])\n",
    "df_ratings_lab_ohe_sample['MOOP_LIMIT']= lab.fit_transform(df_ratings_lab_ohe_sample['MOOP_LIMIT'])"
   ]
  },
  {
   "cell_type": "code",
   "execution_count": 192,
   "metadata": {},
   "outputs": [
    {
     "data": {
      "text/html": [
       "<div>\n",
       "<style scoped>\n",
       "    .dataframe tbody tr th:only-of-type {\n",
       "        vertical-align: middle;\n",
       "    }\n",
       "\n",
       "    .dataframe tbody tr th {\n",
       "        vertical-align: top;\n",
       "    }\n",
       "\n",
       "    .dataframe thead th {\n",
       "        text-align: right;\n",
       "    }\n",
       "</style>\n",
       "<table border=\"1\" class=\"dataframe\">\n",
       "  <thead>\n",
       "    <tr style=\"text-align: right;\">\n",
       "      <th></th>\n",
       "      <th>STATE</th>\n",
       "      <th>COUNTY</th>\n",
       "      <th>ORGANIZATION</th>\n",
       "      <th>PLAN_NAME</th>\n",
       "      <th>GENERIC_TYPE</th>\n",
       "      <th>MCP</th>\n",
       "      <th>CONTRACT_ID</th>\n",
       "      <th>PLAN_ID</th>\n",
       "      <th>SEGMENT_ID</th>\n",
       "      <th>MOOP_LIMIT</th>\n",
       "      <th>RATING</th>\n",
       "    </tr>\n",
       "  </thead>\n",
       "  <tbody>\n",
       "    <tr>\n",
       "      <th>0</th>\n",
       "      <td>41</td>\n",
       "      <td>1556</td>\n",
       "      <td>352</td>\n",
       "      <td>25</td>\n",
       "      <td>2</td>\n",
       "      <td>248</td>\n",
       "      <td>279</td>\n",
       "      <td>104</td>\n",
       "      <td>0</td>\n",
       "      <td>29</td>\n",
       "      <td>3.5</td>\n",
       "    </tr>\n",
       "  </tbody>\n",
       "</table>\n",
       "</div>"
      ],
      "text/plain": [
       "   STATE  COUNTY  ORGANIZATION  PLAN_NAME  GENERIC_TYPE  MCP  CONTRACT_ID  \\\n",
       "0     41    1556           352         25             2  248          279   \n",
       "\n",
       "   PLAN_ID  SEGMENT_ID  MOOP_LIMIT RATING  \n",
       "0      104           0          29    3.5  "
      ]
     },
     "execution_count": 192,
     "metadata": {},
     "output_type": "execute_result"
    }
   ],
   "source": [
    "df_ratings_lab_ohe_sample.head(1)"
   ]
  },
  {
   "cell_type": "code",
   "execution_count": 193,
   "metadata": {},
   "outputs": [
    {
     "data": {
      "text/plain": [
       "(10000, 10)"
      ]
     },
     "execution_count": 193,
     "metadata": {},
     "output_type": "execute_result"
    }
   ],
   "source": [
    "# Load variables with sample data.\n",
    "X = np.array(df_ratings_lab_ohe_sample.drop('RATING', 1))\n",
    "y = np.array(df_ratings_lab_ohe_sample[\"RATING\"])\n",
    "X.shape"
   ]
  },
  {
   "cell_type": "code",
   "execution_count": 194,
   "metadata": {},
   "outputs": [],
   "source": [
    "# Train-test split and load the library\n",
    "from sklearn.model_selection import train_test_split\n",
    "# Create 2 groups each with input and labels\n",
    "X_train, X_test, y_train, y_test = train_test_split(X, y, test_size=0.20)"
   ]
  },
  {
   "cell_type": "code",
   "execution_count": 195,
   "metadata": {},
   "outputs": [],
   "source": [
    "# Feature Scaling\n",
    "from sklearn.preprocessing import StandardScaler \n",
    "sc = StandardScaler() \n",
    "X_train = sc.fit_transform(X_train) \n",
    "X_test = sc.transform(X_test)"
   ]
  },
  {
   "cell_type": "code",
   "execution_count": 196,
   "metadata": {},
   "outputs": [],
   "source": [
    "from sklearn.preprocessing import OneHotEncoder\n",
    "from sklearn.preprocessing import LabelEncoder"
   ]
  },
  {
   "cell_type": "code",
   "execution_count": 197,
   "metadata": {},
   "outputs": [
    {
     "data": {
      "text/plain": [
       "Index(['STATE', 'COUNTY', 'ORGANIZATION', 'PLAN_NAME', 'GENERIC_TYPE', 'MCP',\n",
       "       'CONTRACT_ID', 'PLAN_ID', 'SEGMENT_ID', 'MOOP_LIMIT', 'RATING'],\n",
       "      dtype='object')"
      ]
     },
     "execution_count": 197,
     "metadata": {},
     "output_type": "execute_result"
    }
   ],
   "source": [
    "df_ratings_lab_ohe_sample.columns"
   ]
  },
  {
   "cell_type": "code",
   "execution_count": 198,
   "metadata": {},
   "outputs": [
    {
     "data": {
      "text/html": [
       "<div>\n",
       "<style scoped>\n",
       "    .dataframe tbody tr th:only-of-type {\n",
       "        vertical-align: middle;\n",
       "    }\n",
       "\n",
       "    .dataframe tbody tr th {\n",
       "        vertical-align: top;\n",
       "    }\n",
       "\n",
       "    .dataframe thead th {\n",
       "        text-align: right;\n",
       "    }\n",
       "</style>\n",
       "<table border=\"1\" class=\"dataframe\">\n",
       "  <thead>\n",
       "    <tr style=\"text-align: right;\">\n",
       "      <th></th>\n",
       "      <th>STATE</th>\n",
       "      <th>COUNTY</th>\n",
       "      <th>ORGANIZATION</th>\n",
       "      <th>PLAN_NAME</th>\n",
       "      <th>GENERIC_TYPE</th>\n",
       "      <th>MCP</th>\n",
       "      <th>CONTRACT_ID</th>\n",
       "      <th>PLAN_ID</th>\n",
       "      <th>SEGMENT_ID</th>\n",
       "      <th>MOOP_LIMIT</th>\n",
       "      <th>RATING</th>\n",
       "    </tr>\n",
       "  </thead>\n",
       "  <tbody>\n",
       "    <tr>\n",
       "      <th>0</th>\n",
       "      <td>41</td>\n",
       "      <td>1556</td>\n",
       "      <td>352</td>\n",
       "      <td>25</td>\n",
       "      <td>2</td>\n",
       "      <td>248</td>\n",
       "      <td>279</td>\n",
       "      <td>104</td>\n",
       "      <td>0</td>\n",
       "      <td>29</td>\n",
       "      <td>3.5</td>\n",
       "    </tr>\n",
       "  </tbody>\n",
       "</table>\n",
       "</div>"
      ],
      "text/plain": [
       "   STATE  COUNTY  ORGANIZATION  PLAN_NAME  GENERIC_TYPE  MCP  CONTRACT_ID  \\\n",
       "0     41    1556           352         25             2  248          279   \n",
       "\n",
       "   PLAN_ID  SEGMENT_ID  MOOP_LIMIT RATING  \n",
       "0      104           0          29    3.5  "
      ]
     },
     "execution_count": 198,
     "metadata": {},
     "output_type": "execute_result"
    }
   ],
   "source": [
    "df_ratings_lab_ohe_sample.head(1)"
   ]
  },
  {
   "cell_type": "code",
   "execution_count": 199,
   "metadata": {},
   "outputs": [
    {
     "data": {
      "text/plain": [
       "(10000, 11)"
      ]
     },
     "execution_count": 199,
     "metadata": {},
     "output_type": "execute_result"
    }
   ],
   "source": [
    "df_ratings_lab_ohe_sample.shape"
   ]
  },
  {
   "cell_type": "code",
   "execution_count": 200,
   "metadata": {},
   "outputs": [
    {
     "data": {
      "text/plain": [
       "STATE           0\n",
       "COUNTY          0\n",
       "ORGANIZATION    0\n",
       "PLAN_NAME       0\n",
       "GENERIC_TYPE    0\n",
       "MCP             0\n",
       "CONTRACT_ID     0\n",
       "PLAN_ID         0\n",
       "SEGMENT_ID      0\n",
       "MOOP_LIMIT      0\n",
       "RATING          0\n",
       "dtype: int64"
      ]
     },
     "execution_count": 200,
     "metadata": {},
     "output_type": "execute_result"
    }
   ],
   "source": [
    "df_ratings_lab_ohe_sample.isnull().sum()"
   ]
  },
  {
   "cell_type": "code",
   "execution_count": 201,
   "metadata": {},
   "outputs": [
    {
     "data": {
      "text/plain": [
       "OneHotEncoder(categorical_features=None, categories=None, drop=None,\n",
       "              dtype=<class 'numpy.float64'>, handle_unknown='ignore',\n",
       "              n_values=None, sparse=True)"
      ]
     },
     "execution_count": 201,
     "metadata": {},
     "output_type": "execute_result"
    }
   ],
   "source": [
    "# Create the encoder (by OneotEncoder)\n",
    "encoder = OneHotEncoder(handle_unknown='ignore')\n",
    "# Assume for simplicity all features are categorical.\n",
    "encoder.fit(X_train)"
   ]
  },
  {
   "cell_type": "code",
   "execution_count": 202,
   "metadata": {},
   "outputs": [],
   "source": [
    "# Apply the encoder.\n",
    "X_train = encoder.transform(X_train)\n",
    "X_test = encoder.transform(X_test)"
   ]
  },
  {
   "cell_type": "code",
   "execution_count": 203,
   "metadata": {},
   "outputs": [
    {
     "data": {
      "text/plain": [
       "(10000, 10)"
      ]
     },
     "execution_count": 203,
     "metadata": {},
     "output_type": "execute_result"
    }
   ],
   "source": [
    "X.shape"
   ]
  },
  {
   "cell_type": "code",
   "execution_count": 204,
   "metadata": {},
   "outputs": [
    {
     "data": {
      "text/plain": [
       "<8000x5882 sparse matrix of type '<class 'numpy.float64'>'\n",
       "\twith 80000 stored elements in Compressed Sparse Row format>"
      ]
     },
     "execution_count": 204,
     "metadata": {},
     "output_type": "execute_result"
    }
   ],
   "source": [
    "X_train"
   ]
  },
  {
   "cell_type": "code",
   "execution_count": 205,
   "metadata": {},
   "outputs": [
    {
     "data": {
      "text/plain": [
       "<2000x5882 sparse matrix of type '<class 'numpy.float64'>'\n",
       "\twith 19603 stored elements in Compressed Sparse Row format>"
      ]
     },
     "execution_count": 205,
     "metadata": {},
     "output_type": "execute_result"
    }
   ],
   "source": [
    "X_test"
   ]
  },
  {
   "cell_type": "markdown",
   "metadata": {},
   "source": [
    "### Logistic Regression with SKLearn"
   ]
  },
  {
   "cell_type": "code",
   "execution_count": 206,
   "metadata": {},
   "outputs": [
    {
     "data": {
      "text/plain": [
       "LogisticRegression(C=1.0, class_weight=None, dual=False, fit_intercept=True,\n",
       "                   intercept_scaling=1, l1_ratio=None, max_iter=10000,\n",
       "                   multi_class='auto', n_jobs=None, penalty='l2',\n",
       "                   random_state=None, solver='sag', tol=0.0001, verbose=0,\n",
       "                   warm_start=False)"
      ]
     },
     "execution_count": 206,
     "metadata": {},
     "output_type": "execute_result"
    }
   ],
   "source": [
    "# Create teh Regression Logistic model and we make it fit (ajuste) to our set of inputs X and outputs \"y\".\n",
    "from sklearn.linear_model.sag import sag_solver\n",
    "model_LOGREG = linear_model.LogisticRegression(multi_class='auto', solver='sag', verbose=0, max_iter=10000)\n",
    "model_LOGREG.fit(X_train,y_train)"
   ]
  },
  {
   "cell_type": "code",
   "execution_count": 207,
   "metadata": {},
   "outputs": [],
   "source": [
    "# We classify our entire set of X inputs using the \"predict (X)\" method for the model\n",
    "# and we review some of its outputs to see if it matches the actual outputs of our origin\n",
    "predictions_LOGREG = model_LOGREG.predict(X_test)"
   ]
  },
  {
   "cell_type": "code",
   "execution_count": 208,
   "metadata": {},
   "outputs": [],
   "source": [
    "# Check prediction classifier"
   ]
  },
  {
   "cell_type": "code",
   "execution_count": 209,
   "metadata": {},
   "outputs": [
    {
     "name": "stdout",
     "output_type": "stream",
     "text": [
      "3.5\n"
     ]
    }
   ],
   "source": [
    "print(predictions_LOGREG[22])"
   ]
  },
  {
   "cell_type": "code",
   "execution_count": 210,
   "metadata": {},
   "outputs": [
    {
     "data": {
      "text/plain": [
       "numpy.ndarray"
      ]
     },
     "execution_count": 210,
     "metadata": {},
     "output_type": "execute_result"
    }
   ],
   "source": [
    "type(predictions_LOGREG)"
   ]
  },
  {
   "cell_type": "code",
   "execution_count": 211,
   "metadata": {},
   "outputs": [
    {
     "data": {
      "text/plain": [
       "dtype('O')"
      ]
     },
     "execution_count": 211,
     "metadata": {},
     "output_type": "execute_result"
    }
   ],
   "source": [
    "predictions_LOGREG.dtype"
   ]
  },
  {
   "cell_type": "code",
   "execution_count": 212,
   "metadata": {},
   "outputs": [
    {
     "data": {
      "text/plain": [
       "(2000,)"
      ]
     },
     "execution_count": 212,
     "metadata": {},
     "output_type": "execute_result"
    }
   ],
   "source": [
    "predictions_LOGREG.shape"
   ]
  },
  {
   "cell_type": "code",
   "execution_count": 213,
   "metadata": {},
   "outputs": [],
   "source": [
    "# Check model efficiency "
   ]
  },
  {
   "cell_type": "code",
   "execution_count": 214,
   "metadata": {},
   "outputs": [
    {
     "name": "stdout",
     "output_type": "stream",
     "text": [
      "0.764\n"
     ]
    }
   ],
   "source": [
    "print(accuracy_score(y_test, predictions_LOGREG))"
   ]
  },
  {
   "cell_type": "code",
   "execution_count": 188,
   "metadata": {},
   "outputs": [
    {
     "data": {
      "text/plain": [
       "0.361"
      ]
     },
     "execution_count": 188,
     "metadata": {},
     "output_type": "execute_result"
    }
   ],
   "source": [
    "# The Quality of our model, gives us the average accuracy of the predictions\n",
    "model_LOGREG.score(X_test,y_test)"
   ]
  },
  {
   "cell_type": "markdown",
   "metadata": {},
   "source": [
    "### WE ADD NEW VARIABLES TO TRY TO IMPROVE THE MODEL"
   ]
  },
  {
   "cell_type": "code",
   "execution_count": 375,
   "metadata": {},
   "outputs": [],
   "source": [
    "# We incorporate a new csv file, downloaded from the same website"
   ]
  },
  {
   "cell_type": "code",
   "execution_count": 376,
   "metadata": {},
   "outputs": [],
   "source": [
    "#!ls -ltr '../02_Development/distritos_municipio_madrid.csv'"
   ]
  },
  {
   "cell_type": "code",
   "execution_count": 377,
   "metadata": {},
   "outputs": [
    {
     "data": {
      "text/plain": [
       "'/home/dsc/Repos/TFM_Categorize_providers_based_on_descriptions_of_the_drug_plans/01_Original_data'"
      ]
     },
     "execution_count": 377,
     "metadata": {},
     "output_type": "execute_result"
    }
   ],
   "source": [
    "import os\n",
    "os.getcwd()"
   ]
  },
  {
   "cell_type": "code",
   "execution_count": 378,
   "metadata": {},
   "outputs": [],
   "source": [
    "#df_distritos = pd.read_csv(\"../02_Development/distritos_municipio_madrid.csv\", sep=';', encoding='latin-1')"
   ]
  },
  {
   "cell_type": "code",
   "execution_count": null,
   "metadata": {},
   "outputs": [],
   "source": [
    "%%time\n",
    "# (4) Loop over the file list to append to an empty dataframe:\n",
    "for f in files_xlsx:\n",
    "    df_from_xlsx_parcial = pd.read_excel(f,                          \n",
    "                          index_col=None,\n",
    "                          names=['STATE', 'BORRAR', 'BORRAR', 'BORRAR'\n",
    "                                 , 'GENERIC_TYPE', 'BORRAR', 'BORRAR', 'BORRAR'\n",
    "                                 , 'BORRAR', 'BORRAR', 'BORRAR', 'BORRAR', 'BORRAR'\n",
    "                                 , 'BORRAR', 'RATING'])\n",
    "\n",
    "    df_from_xlsx_total = df_from_xlsx_total.append(df_from_xlsx_parcial)"
   ]
  },
  {
   "cell_type": "code",
   "execution_count": 138,
   "metadata": {},
   "outputs": [],
   "source": [
    "# Data Preparation"
   ]
  },
  {
   "cell_type": "code",
   "execution_count": 139,
   "metadata": {},
   "outputs": [
    {
     "data": {
      "text/plain": [
       "Index(['distrito_codigo', 'distrito_nombre', 'municipio_codigo',\n",
       "       'municipio_nombre', 'superficie_km2', 'densidad_por_km2'],\n",
       "      dtype='object')"
      ]
     },
     "execution_count": 139,
     "metadata": {},
     "output_type": "execute_result"
    }
   ],
   "source": [
    "df_distritos.columns"
   ]
  },
  {
   "cell_type": "code",
   "execution_count": 140,
   "metadata": {},
   "outputs": [
    {
     "data": {
      "text/html": [
       "<div>\n",
       "<style scoped>\n",
       "    .dataframe tbody tr th:only-of-type {\n",
       "        vertical-align: middle;\n",
       "    }\n",
       "\n",
       "    .dataframe tbody tr th {\n",
       "        vertical-align: top;\n",
       "    }\n",
       "\n",
       "    .dataframe thead th {\n",
       "        text-align: right;\n",
       "    }\n",
       "</style>\n",
       "<table border=\"1\" class=\"dataframe\">\n",
       "  <thead>\n",
       "    <tr style=\"text-align: right;\">\n",
       "      <th></th>\n",
       "      <th>distrito_codigo</th>\n",
       "      <th>distrito_nombre</th>\n",
       "      <th>municipio_codigo</th>\n",
       "      <th>municipio_nombre</th>\n",
       "      <th>superficie_km2</th>\n",
       "      <th>densidad_por_km2</th>\n",
       "    </tr>\n",
       "  </thead>\n",
       "  <tbody>\n",
       "    <tr>\n",
       "      <th>0</th>\n",
       "      <td>79601</td>\n",
       "      <td>Centro</td>\n",
       "      <td>796</td>\n",
       "      <td>Madrid</td>\n",
       "      <td>5.21</td>\n",
       "      <td>25340.69</td>\n",
       "    </tr>\n",
       "    <tr>\n",
       "      <th>1</th>\n",
       "      <td>79602</td>\n",
       "      <td>Arganzuela</td>\n",
       "      <td>796</td>\n",
       "      <td>Madrid</td>\n",
       "      <td>6.52</td>\n",
       "      <td>23306.44</td>\n",
       "    </tr>\n",
       "    <tr>\n",
       "      <th>2</th>\n",
       "      <td>79603</td>\n",
       "      <td>Retiro</td>\n",
       "      <td>796</td>\n",
       "      <td>Madrid</td>\n",
       "      <td>5.42</td>\n",
       "      <td>21867.53</td>\n",
       "    </tr>\n",
       "  </tbody>\n",
       "</table>\n",
       "</div>"
      ],
      "text/plain": [
       "   distrito_codigo  distrito_nombre  municipio_codigo municipio_nombre  \\\n",
       "0            79601          Centro                796           Madrid   \n",
       "1            79602      Arganzuela                796           Madrid   \n",
       "2            79603          Retiro                796           Madrid   \n",
       "\n",
       "   superficie_km2  densidad_por_km2  \n",
       "0            5.21          25340.69  \n",
       "1            6.52          23306.44  \n",
       "2            5.42          21867.53  "
      ]
     },
     "execution_count": 140,
     "metadata": {},
     "output_type": "execute_result"
    }
   ],
   "source": [
    "df_distritos.head(3)"
   ]
  },
  {
   "cell_type": "code",
   "execution_count": 141,
   "metadata": {},
   "outputs": [],
   "source": [
    "drop_elements = ['municipio_codigo', 'municipio_nombre']\n",
    "df_distritos_lab = df_distritos.drop(drop_elements, axis = 1)"
   ]
  },
  {
   "cell_type": "code",
   "execution_count": 142,
   "metadata": {},
   "outputs": [
    {
     "data": {
      "text/plain": [
       "Index(['distrito_codigo', 'distrito_nombre', 'superficie_km2',\n",
       "       'densidad_por_km2'],\n",
       "      dtype='object')"
      ]
     },
     "execution_count": 142,
     "metadata": {},
     "output_type": "execute_result"
    }
   ],
   "source": [
    "df_distritos_lab.columns"
   ]
  },
  {
   "cell_type": "code",
   "execution_count": 143,
   "metadata": {},
   "outputs": [
    {
     "data": {
      "text/html": [
       "<div>\n",
       "<style scoped>\n",
       "    .dataframe tbody tr th:only-of-type {\n",
       "        vertical-align: middle;\n",
       "    }\n",
       "\n",
       "    .dataframe tbody tr th {\n",
       "        vertical-align: top;\n",
       "    }\n",
       "\n",
       "    .dataframe thead th {\n",
       "        text-align: right;\n",
       "    }\n",
       "</style>\n",
       "<table border=\"1\" class=\"dataframe\">\n",
       "  <thead>\n",
       "    <tr style=\"text-align: right;\">\n",
       "      <th></th>\n",
       "      <th>distrito_codigo</th>\n",
       "      <th>distrito_nombre</th>\n",
       "      <th>superficie_km2</th>\n",
       "      <th>densidad_por_km2</th>\n",
       "    </tr>\n",
       "  </thead>\n",
       "  <tbody>\n",
       "    <tr>\n",
       "      <th>0</th>\n",
       "      <td>79601</td>\n",
       "      <td>Centro</td>\n",
       "      <td>5.21</td>\n",
       "      <td>25340.69</td>\n",
       "    </tr>\n",
       "    <tr>\n",
       "      <th>1</th>\n",
       "      <td>79602</td>\n",
       "      <td>Arganzuela</td>\n",
       "      <td>6.52</td>\n",
       "      <td>23306.44</td>\n",
       "    </tr>\n",
       "    <tr>\n",
       "      <th>2</th>\n",
       "      <td>79603</td>\n",
       "      <td>Retiro</td>\n",
       "      <td>5.42</td>\n",
       "      <td>21867.53</td>\n",
       "    </tr>\n",
       "  </tbody>\n",
       "</table>\n",
       "</div>"
      ],
      "text/plain": [
       "   distrito_codigo  distrito_nombre  superficie_km2  densidad_por_km2\n",
       "0            79601          Centro             5.21          25340.69\n",
       "1            79602      Arganzuela             6.52          23306.44\n",
       "2            79603          Retiro             5.42          21867.53"
      ]
     },
     "execution_count": 143,
     "metadata": {},
     "output_type": "execute_result"
    }
   ],
   "source": [
    "df_distritos_lab.head(3)"
   ]
  },
  {
   "cell_type": "code",
   "execution_count": 144,
   "metadata": {},
   "outputs": [
    {
     "data": {
      "text/plain": [
       "distrito_codigo       int64\n",
       "distrito_nombre      object\n",
       "superficie_km2      float64\n",
       "densidad_por_km2    float64\n",
       "dtype: object"
      ]
     },
     "execution_count": 144,
     "metadata": {},
     "output_type": "execute_result"
    }
   ],
   "source": [
    "df_distritos_lab.dtypes"
   ]
  },
  {
   "cell_type": "code",
   "execution_count": 145,
   "metadata": {},
   "outputs": [
    {
     "data": {
      "text/plain": [
       "(21, 4)"
      ]
     },
     "execution_count": 145,
     "metadata": {},
     "output_type": "execute_result"
    }
   ],
   "source": [
    "df_distritos_lab.shape"
   ]
  },
  {
   "cell_type": "code",
   "execution_count": 146,
   "metadata": {},
   "outputs": [
    {
     "data": {
      "text/plain": [
       "Index(['HORA', 'DIA_SEMANA', 'DISTRITO', 'SEXO', 'EDAD_APROX'], dtype='object')"
      ]
     },
     "execution_count": 146,
     "metadata": {},
     "output_type": "execute_result"
    }
   ],
   "source": [
    "df_accs.columns"
   ]
  },
  {
   "cell_type": "code",
   "execution_count": 147,
   "metadata": {},
   "outputs": [],
   "source": [
    "df_distritos_lab = df_distritos_lab.rename(columns = {'distrito_nombre':'DISTRITO'})"
   ]
  },
  {
   "cell_type": "code",
   "execution_count": 148,
   "metadata": {},
   "outputs": [
    {
     "data": {
      "text/html": [
       "<div>\n",
       "<style scoped>\n",
       "    .dataframe tbody tr th:only-of-type {\n",
       "        vertical-align: middle;\n",
       "    }\n",
       "\n",
       "    .dataframe tbody tr th {\n",
       "        vertical-align: top;\n",
       "    }\n",
       "\n",
       "    .dataframe thead th {\n",
       "        text-align: right;\n",
       "    }\n",
       "</style>\n",
       "<table border=\"1\" class=\"dataframe\">\n",
       "  <thead>\n",
       "    <tr style=\"text-align: right;\">\n",
       "      <th></th>\n",
       "      <th>distrito_codigo</th>\n",
       "      <th>DISTRITO</th>\n",
       "      <th>superficie_km2</th>\n",
       "      <th>densidad_por_km2</th>\n",
       "    </tr>\n",
       "  </thead>\n",
       "  <tbody>\n",
       "    <tr>\n",
       "      <th>0</th>\n",
       "      <td>79601</td>\n",
       "      <td>Centro</td>\n",
       "      <td>5.21</td>\n",
       "      <td>25340.69</td>\n",
       "    </tr>\n",
       "    <tr>\n",
       "      <th>1</th>\n",
       "      <td>79602</td>\n",
       "      <td>Arganzuela</td>\n",
       "      <td>6.52</td>\n",
       "      <td>23306.44</td>\n",
       "    </tr>\n",
       "    <tr>\n",
       "      <th>2</th>\n",
       "      <td>79603</td>\n",
       "      <td>Retiro</td>\n",
       "      <td>5.42</td>\n",
       "      <td>21867.53</td>\n",
       "    </tr>\n",
       "    <tr>\n",
       "      <th>3</th>\n",
       "      <td>79604</td>\n",
       "      <td>Salamanca</td>\n",
       "      <td>5.36</td>\n",
       "      <td>26830.78</td>\n",
       "    </tr>\n",
       "    <tr>\n",
       "      <th>4</th>\n",
       "      <td>79605</td>\n",
       "      <td>Chamartín</td>\n",
       "      <td>9.12</td>\n",
       "      <td>15723.25</td>\n",
       "    </tr>\n",
       "  </tbody>\n",
       "</table>\n",
       "</div>"
      ],
      "text/plain": [
       "   distrito_codigo         DISTRITO  superficie_km2  densidad_por_km2\n",
       "0            79601          Centro             5.21          25340.69\n",
       "1            79602      Arganzuela             6.52          23306.44\n",
       "2            79603          Retiro             5.42          21867.53\n",
       "3            79604       Salamanca             5.36          26830.78\n",
       "4            79605       Chamartín             9.12          15723.25"
      ]
     },
     "execution_count": 148,
     "metadata": {},
     "output_type": "execute_result"
    }
   ],
   "source": [
    "df_distritos_lab.head()"
   ]
  },
  {
   "cell_type": "code",
   "execution_count": 149,
   "metadata": {},
   "outputs": [
    {
     "data": {
      "text/html": [
       "<div>\n",
       "<style scoped>\n",
       "    .dataframe tbody tr th:only-of-type {\n",
       "        vertical-align: middle;\n",
       "    }\n",
       "\n",
       "    .dataframe tbody tr th {\n",
       "        vertical-align: top;\n",
       "    }\n",
       "\n",
       "    .dataframe thead th {\n",
       "        text-align: right;\n",
       "    }\n",
       "</style>\n",
       "<table border=\"1\" class=\"dataframe\">\n",
       "  <thead>\n",
       "    <tr style=\"text-align: right;\">\n",
       "      <th></th>\n",
       "      <th>HORA</th>\n",
       "      <th>DIA_SEMANA</th>\n",
       "      <th>DISTRITO</th>\n",
       "      <th>SEXO</th>\n",
       "      <th>EDAD_APROX</th>\n",
       "    </tr>\n",
       "  </thead>\n",
       "  <tbody>\n",
       "    <tr>\n",
       "      <th>0</th>\n",
       "      <td>00:00</td>\n",
       "      <td>VIERNES</td>\n",
       "      <td>CHAMARTIN</td>\n",
       "      <td>HOMBRE</td>\n",
       "      <td>20</td>\n",
       "    </tr>\n",
       "    <tr>\n",
       "      <th>1</th>\n",
       "      <td>00:00</td>\n",
       "      <td>VIERNES</td>\n",
       "      <td>CHAMARTIN</td>\n",
       "      <td>HOMBRE</td>\n",
       "      <td>50</td>\n",
       "    </tr>\n",
       "    <tr>\n",
       "      <th>2</th>\n",
       "      <td>00:00</td>\n",
       "      <td>VIERNES</td>\n",
       "      <td>CHAMARTIN</td>\n",
       "      <td>MUJER</td>\n",
       "      <td>40</td>\n",
       "    </tr>\n",
       "  </tbody>\n",
       "</table>\n",
       "</div>"
      ],
      "text/plain": [
       "    HORA DIA_SEMANA   DISTRITO    SEXO EDAD_APROX\n",
       "0  00:00    VIERNES  CHAMARTIN  HOMBRE         20\n",
       "1  00:00    VIERNES  CHAMARTIN  HOMBRE         50\n",
       "2  00:00    VIERNES  CHAMARTIN   MUJER         40"
      ]
     },
     "execution_count": 149,
     "metadata": {},
     "output_type": "execute_result"
    }
   ],
   "source": [
    "df_accs.head(3)"
   ]
  },
  {
   "cell_type": "code",
   "execution_count": 150,
   "metadata": {},
   "outputs": [
    {
     "data": {
      "text/plain": [
       "array(['CHAMARTIN', 'PUENTE DE VALLECAS', 'CHAMBERI', 'RETIRO',\n",
       "       'SALAMANCA', 'CARABANCHEL', 'CIUDAD LINEAL', 'MONCLOA-ARAVACA',\n",
       "       'TETUAN', 'VILLA DE VALLECAS', 'MORATALAZ', 'ARGANZUELA',\n",
       "       'SAN BLAS', 'VILLAVERDE', 'HORTALEZA', 'FUENCARRAL-EL PARDO',\n",
       "       'VICALVARO', 'USERA', 'LATINA', 'BARAJAS', 'CENTRO'], dtype=object)"
      ]
     },
     "execution_count": 150,
     "metadata": {},
     "output_type": "execute_result"
    }
   ],
   "source": [
    "df_accs['DISTRITO'].unique()"
   ]
  },
  {
   "cell_type": "code",
   "execution_count": 151,
   "metadata": {},
   "outputs": [
    {
     "data": {
      "text/plain": [
       "array(['    Centro ', '    Arganzuela ', '    Retiro ', '    Salamanca ',\n",
       "       '    Chamartín ', '    Tetuan ', '    Chamberí ',\n",
       "       '    Fuencarral-El Pardo ', '    Moncloa-Aravaca ', '    Latina ',\n",
       "       '    Carabanchel ', '    Usera ', '    Puente de Vallecas ',\n",
       "       '    Moratalaz ', '    Ciudad Lineal ', '    Hortaleza ',\n",
       "       '    Villaverde ', '    Villa de Vallecas ', '    Vicálvaro ',\n",
       "       '    San Blas-Canillejas ', '    Barajas '], dtype=object)"
      ]
     },
     "execution_count": 151,
     "metadata": {},
     "output_type": "execute_result"
    }
   ],
   "source": [
    "df_distritos_lab['DISTRITO'].unique()"
   ]
  },
  {
   "cell_type": "code",
   "execution_count": 152,
   "metadata": {},
   "outputs": [],
   "source": [
    "# Strip leading and trailing space only strings\n",
    "df_distritos_lab['DISTRITO'] = df_distritos_lab['DISTRITO'].str.strip()\n"
   ]
  },
  {
   "cell_type": "code",
   "execution_count": 153,
   "metadata": {},
   "outputs": [
    {
     "data": {
      "text/plain": [
       "array(['Centro', 'Arganzuela', 'Retiro', 'Salamanca', 'Chamartín',\n",
       "       'Tetuan', 'Chamberí', 'Fuencarral-El Pardo', 'Moncloa-Aravaca',\n",
       "       'Latina', 'Carabanchel', 'Usera', 'Puente de Vallecas',\n",
       "       'Moratalaz', 'Ciudad Lineal', 'Hortaleza', 'Villaverde',\n",
       "       'Villa de Vallecas', 'Vicálvaro', 'San Blas-Canillejas', 'Barajas'],\n",
       "      dtype=object)"
      ]
     },
     "execution_count": 153,
     "metadata": {},
     "output_type": "execute_result"
    }
   ],
   "source": [
    "df_distritos_lab['DISTRITO'].unique()"
   ]
  },
  {
   "cell_type": "code",
   "execution_count": 154,
   "metadata": {},
   "outputs": [
    {
     "data": {
      "text/plain": [
       "array(['CHAMARTIN', 'PUENTE DE VALLECAS', 'CHAMBERI', 'RETIRO',\n",
       "       'SALAMANCA', 'CARABANCHEL', 'CIUDAD LINEAL', 'MONCLOA-ARAVACA',\n",
       "       'TETUAN', 'VILLA DE VALLECAS', 'MORATALAZ', 'ARGANZUELA',\n",
       "       'SAN BLAS', 'VILLAVERDE', 'HORTALEZA', 'FUENCARRAL-EL PARDO',\n",
       "       'VICALVARO', 'USERA', 'LATINA', 'BARAJAS', 'CENTRO'], dtype=object)"
      ]
     },
     "execution_count": 154,
     "metadata": {},
     "output_type": "execute_result"
    }
   ],
   "source": [
    "df_accs['DISTRITO'].unique()"
   ]
  },
  {
   "cell_type": "code",
   "execution_count": 155,
   "metadata": {},
   "outputs": [],
   "source": [
    "df_distritos_lab['DISTRITO'] = df_distritos_lab['DISTRITO'].str.upper()"
   ]
  },
  {
   "cell_type": "code",
   "execution_count": 156,
   "metadata": {},
   "outputs": [
    {
     "data": {
      "text/plain": [
       "array(['CENTRO', 'ARGANZUELA', 'RETIRO', 'SALAMANCA', 'CHAMARTÍN',\n",
       "       'TETUAN', 'CHAMBERÍ', 'FUENCARRAL-EL PARDO', 'MONCLOA-ARAVACA',\n",
       "       'LATINA', 'CARABANCHEL', 'USERA', 'PUENTE DE VALLECAS',\n",
       "       'MORATALAZ', 'CIUDAD LINEAL', 'HORTALEZA', 'VILLAVERDE',\n",
       "       'VILLA DE VALLECAS', 'VICÁLVARO', 'SAN BLAS-CANILLEJAS', 'BARAJAS'],\n",
       "      dtype=object)"
      ]
     },
     "execution_count": 156,
     "metadata": {},
     "output_type": "execute_result"
    }
   ],
   "source": [
    "df_distritos_lab['DISTRITO'].unique()"
   ]
  },
  {
   "cell_type": "code",
   "execution_count": 157,
   "metadata": {},
   "outputs": [
    {
     "data": {
      "text/plain": [
       "array(['CHAMARTIN', 'PUENTE DE VALLECAS', 'CHAMBERI', 'RETIRO',\n",
       "       'SALAMANCA', 'CARABANCHEL', 'CIUDAD LINEAL', 'MONCLOA-ARAVACA',\n",
       "       'TETUAN', 'VILLA DE VALLECAS', 'MORATALAZ', 'ARGANZUELA',\n",
       "       'SAN BLAS', 'VILLAVERDE', 'HORTALEZA', 'FUENCARRAL-EL PARDO',\n",
       "       'VICALVARO', 'USERA', 'LATINA', 'BARAJAS', 'CENTRO'], dtype=object)"
      ]
     },
     "execution_count": 157,
     "metadata": {},
     "output_type": "execute_result"
    }
   ],
   "source": [
    "df_accs['DISTRITO'].unique()"
   ]
  },
  {
   "cell_type": "code",
   "execution_count": 158,
   "metadata": {},
   "outputs": [],
   "source": [
    "df_distritos_lab[\"DISTRITO\"] = df_distritos_lab[\"DISTRITO\"].replace({\"CHAMARTÍN\":\"CHAMARTIN\"}, regex=True)\n",
    "df_distritos_lab[\"DISTRITO\"] = df_distritos_lab[\"DISTRITO\"].replace({\"CHAMBERÍ\":\"CHAMBERI\"}, regex=True)\n",
    "df_distritos_lab[\"DISTRITO\"] = df_distritos_lab[\"DISTRITO\"].replace({\"VICÁLVARO\":\"VICALVARO\"}, regex=True)\n",
    "df_distritos_lab[\"DISTRITO\"] = df_distritos_lab[\"DISTRITO\"].replace({\"SAN BLAS-CANILLEJAS\":\"SAN BLAS\"}, regex=True)"
   ]
  },
  {
   "cell_type": "code",
   "execution_count": 159,
   "metadata": {},
   "outputs": [
    {
     "data": {
      "text/plain": [
       "array(['CENTRO', 'ARGANZUELA', 'RETIRO', 'SALAMANCA', 'CHAMARTIN',\n",
       "       'TETUAN', 'CHAMBERI', 'FUENCARRAL-EL PARDO', 'MONCLOA-ARAVACA',\n",
       "       'LATINA', 'CARABANCHEL', 'USERA', 'PUENTE DE VALLECAS',\n",
       "       'MORATALAZ', 'CIUDAD LINEAL', 'HORTALEZA', 'VILLAVERDE',\n",
       "       'VILLA DE VALLECAS', 'VICALVARO', 'SAN BLAS', 'BARAJAS'],\n",
       "      dtype=object)"
      ]
     },
     "execution_count": 159,
     "metadata": {},
     "output_type": "execute_result"
    }
   ],
   "source": [
    "df_distritos_lab['DISTRITO'].unique()"
   ]
  },
  {
   "cell_type": "code",
   "execution_count": 160,
   "metadata": {},
   "outputs": [
    {
     "data": {
      "text/plain": [
       "Index(['distrito_codigo', 'DISTRITO', 'superficie_km2', 'densidad_por_km2'], dtype='object')"
      ]
     },
     "execution_count": 160,
     "metadata": {},
     "output_type": "execute_result"
    }
   ],
   "source": [
    "df_distritos_lab.columns"
   ]
  },
  {
   "cell_type": "code",
   "execution_count": 161,
   "metadata": {},
   "outputs": [
    {
     "data": {
      "text/plain": [
       "array([79601, 79602, 79603, 79604, 79605, 79606, 79607, 79608, 79609,\n",
       "       79610, 79611, 79612, 79613, 79614, 79615, 79616, 79617, 79618,\n",
       "       79619, 79620, 79621])"
      ]
     },
     "execution_count": 161,
     "metadata": {},
     "output_type": "execute_result"
    }
   ],
   "source": [
    "df_distritos_lab['distrito_codigo'].unique()"
   ]
  },
  {
   "cell_type": "code",
   "execution_count": 162,
   "metadata": {},
   "outputs": [
    {
     "data": {
      "text/plain": [
       "array([  5.21,   6.52,   5.42,   5.36,   9.12,   5.37,   4.73, 238.  ,\n",
       "        46.47,  25.47,  14.1 ,   7.7 ,  14.84,   6.08,  11.52,  25.87,\n",
       "        20.21,  51.49,  35.36,  22.26,  43.56])"
      ]
     },
     "execution_count": 162,
     "metadata": {},
     "output_type": "execute_result"
    }
   ],
   "source": [
    "df_distritos_lab['superficie_km2'].unique()"
   ]
  },
  {
   "cell_type": "code",
   "execution_count": 163,
   "metadata": {},
   "outputs": [
    {
     "data": {
      "text/plain": [
       "array([25340.69, 23306.44, 21867.53, 26830.78, 15723.25, 28664.25,\n",
       "       29049.26,  1003.  ,  2515.26,  9183.75, 17316.88, 17535.32,\n",
       "       15345.01, 15493.59, 18455.56,  6973.33,  7059.13,  2026.82,\n",
       "        1981.11,  6934.37,  1076.06])"
      ]
     },
     "execution_count": 163,
     "metadata": {},
     "output_type": "execute_result"
    }
   ],
   "source": [
    "df_distritos_lab['densidad_por_km2'].unique()"
   ]
  },
  {
   "cell_type": "code",
   "execution_count": 164,
   "metadata": {},
   "outputs": [
    {
     "data": {
      "text/plain": [
       "distrito_codigo     0\n",
       "DISTRITO            0\n",
       "superficie_km2      0\n",
       "densidad_por_km2    0\n",
       "dtype: int64"
      ]
     },
     "execution_count": 164,
     "metadata": {},
     "output_type": "execute_result"
    }
   ],
   "source": [
    "# Check NULL values\n",
    "df_distritos_lab.isnull().sum()"
   ]
  },
  {
   "cell_type": "code",
   "execution_count": 165,
   "metadata": {},
   "outputs": [],
   "source": [
    "# We add to our original dataframe the columns that serve us of the new file to identify our dependent variable"
   ]
  },
  {
   "cell_type": "code",
   "execution_count": 166,
   "metadata": {},
   "outputs": [
    {
     "data": {
      "text/html": [
       "<div>\n",
       "<style scoped>\n",
       "    .dataframe tbody tr th:only-of-type {\n",
       "        vertical-align: middle;\n",
       "    }\n",
       "\n",
       "    .dataframe tbody tr th {\n",
       "        vertical-align: top;\n",
       "    }\n",
       "\n",
       "    .dataframe thead th {\n",
       "        text-align: right;\n",
       "    }\n",
       "</style>\n",
       "<table border=\"1\" class=\"dataframe\">\n",
       "  <thead>\n",
       "    <tr style=\"text-align: right;\">\n",
       "      <th></th>\n",
       "      <th>HORA</th>\n",
       "      <th>DIA_SEMANA</th>\n",
       "      <th>DISTRITO</th>\n",
       "      <th>SEXO</th>\n",
       "      <th>EDAD_APROX</th>\n",
       "      <th>distrito_codigo</th>\n",
       "      <th>superficie_km2</th>\n",
       "      <th>densidad_por_km2</th>\n",
       "    </tr>\n",
       "  </thead>\n",
       "  <tbody>\n",
       "    <tr>\n",
       "      <th>0</th>\n",
       "      <td>0</td>\n",
       "      <td>6</td>\n",
       "      <td>CHAMARTIN</td>\n",
       "      <td>0</td>\n",
       "      <td>3</td>\n",
       "      <td>79605</td>\n",
       "      <td>9.12</td>\n",
       "      <td>15723.25</td>\n",
       "    </tr>\n",
       "    <tr>\n",
       "      <th>1</th>\n",
       "      <td>0</td>\n",
       "      <td>6</td>\n",
       "      <td>CHAMARTIN</td>\n",
       "      <td>0</td>\n",
       "      <td>9</td>\n",
       "      <td>79605</td>\n",
       "      <td>9.12</td>\n",
       "      <td>15723.25</td>\n",
       "    </tr>\n",
       "    <tr>\n",
       "      <th>2</th>\n",
       "      <td>0</td>\n",
       "      <td>6</td>\n",
       "      <td>CHAMARTIN</td>\n",
       "      <td>1</td>\n",
       "      <td>7</td>\n",
       "      <td>79605</td>\n",
       "      <td>9.12</td>\n",
       "      <td>15723.25</td>\n",
       "    </tr>\n",
       "    <tr>\n",
       "      <th>3</th>\n",
       "      <td>20</td>\n",
       "      <td>0</td>\n",
       "      <td>CHAMARTIN</td>\n",
       "      <td>2</td>\n",
       "      <td>14</td>\n",
       "      <td>79605</td>\n",
       "      <td>9.12</td>\n",
       "      <td>15723.25</td>\n",
       "    </tr>\n",
       "    <tr>\n",
       "      <th>4</th>\n",
       "      <td>20</td>\n",
       "      <td>0</td>\n",
       "      <td>CHAMARTIN</td>\n",
       "      <td>0</td>\n",
       "      <td>8</td>\n",
       "      <td>79605</td>\n",
       "      <td>9.12</td>\n",
       "      <td>15723.25</td>\n",
       "    </tr>\n",
       "    <tr>\n",
       "      <th>...</th>\n",
       "      <td>...</td>\n",
       "      <td>...</td>\n",
       "      <td>...</td>\n",
       "      <td>...</td>\n",
       "      <td>...</td>\n",
       "      <td>...</td>\n",
       "      <td>...</td>\n",
       "      <td>...</td>\n",
       "    </tr>\n",
       "    <tr>\n",
       "      <th>252993</th>\n",
       "      <td>16</td>\n",
       "      <td>0</td>\n",
       "      <td>CENTRO</td>\n",
       "      <td>0</td>\n",
       "      <td>9</td>\n",
       "      <td>79601</td>\n",
       "      <td>5.21</td>\n",
       "      <td>25340.69</td>\n",
       "    </tr>\n",
       "    <tr>\n",
       "      <th>252994</th>\n",
       "      <td>21</td>\n",
       "      <td>2</td>\n",
       "      <td>CENTRO</td>\n",
       "      <td>0</td>\n",
       "      <td>9</td>\n",
       "      <td>79601</td>\n",
       "      <td>5.21</td>\n",
       "      <td>25340.69</td>\n",
       "    </tr>\n",
       "    <tr>\n",
       "      <th>252995</th>\n",
       "      <td>21</td>\n",
       "      <td>2</td>\n",
       "      <td>CENTRO</td>\n",
       "      <td>0</td>\n",
       "      <td>5</td>\n",
       "      <td>79601</td>\n",
       "      <td>5.21</td>\n",
       "      <td>25340.69</td>\n",
       "    </tr>\n",
       "    <tr>\n",
       "      <th>252996</th>\n",
       "      <td>21</td>\n",
       "      <td>2</td>\n",
       "      <td>CENTRO</td>\n",
       "      <td>1</td>\n",
       "      <td>4</td>\n",
       "      <td>79601</td>\n",
       "      <td>5.21</td>\n",
       "      <td>25340.69</td>\n",
       "    </tr>\n",
       "    <tr>\n",
       "      <th>252997</th>\n",
       "      <td>21</td>\n",
       "      <td>2</td>\n",
       "      <td>CENTRO</td>\n",
       "      <td>1</td>\n",
       "      <td>4</td>\n",
       "      <td>79601</td>\n",
       "      <td>5.21</td>\n",
       "      <td>25340.69</td>\n",
       "    </tr>\n",
       "  </tbody>\n",
       "</table>\n",
       "<p>252998 rows × 8 columns</p>\n",
       "</div>"
      ],
      "text/plain": [
       "        HORA  DIA_SEMANA   DISTRITO  SEXO  EDAD_APROX  distrito_codigo  \\\n",
       "0          0           6  CHAMARTIN     0           3            79605   \n",
       "1          0           6  CHAMARTIN     0           9            79605   \n",
       "2          0           6  CHAMARTIN     1           7            79605   \n",
       "3         20           0  CHAMARTIN     2          14            79605   \n",
       "4         20           0  CHAMARTIN     0           8            79605   \n",
       "...      ...         ...        ...   ...         ...              ...   \n",
       "252993    16           0     CENTRO     0           9            79601   \n",
       "252994    21           2     CENTRO     0           9            79601   \n",
       "252995    21           2     CENTRO     0           5            79601   \n",
       "252996    21           2     CENTRO     1           4            79601   \n",
       "252997    21           2     CENTRO     1           4            79601   \n",
       "\n",
       "        superficie_km2  densidad_por_km2  \n",
       "0                 9.12          15723.25  \n",
       "1                 9.12          15723.25  \n",
       "2                 9.12          15723.25  \n",
       "3                 9.12          15723.25  \n",
       "4                 9.12          15723.25  \n",
       "...                ...               ...  \n",
       "252993            5.21          25340.69  \n",
       "252994            5.21          25340.69  \n",
       "252995            5.21          25340.69  \n",
       "252996            5.21          25340.69  \n",
       "252997            5.21          25340.69  \n",
       "\n",
       "[252998 rows x 8 columns]"
      ]
     },
     "execution_count": 166,
     "metadata": {},
     "output_type": "execute_result"
    }
   ],
   "source": [
    "from functools import reduce\n",
    "df_accs_join_dist = [df_accs_lab_ohe, df_distritos_lab]\n",
    "df_accs_join_dist = reduce(lambda left,right: pd.merge(left,right, on=['DISTRITO']), df_accs_join_dist)\n",
    "df_accs_join_dist"
   ]
  },
  {
   "cell_type": "code",
   "execution_count": 167,
   "metadata": {},
   "outputs": [
    {
     "data": {
      "text/plain": [
       "(252998, 8)"
      ]
     },
     "execution_count": 167,
     "metadata": {},
     "output_type": "execute_result"
    }
   ],
   "source": [
    "df_accs_join_dist.shape"
   ]
  },
  {
   "cell_type": "code",
   "execution_count": 168,
   "metadata": {},
   "outputs": [
    {
     "data": {
      "text/plain": [
       "Index(['HORA', 'DIA_SEMANA', 'DISTRITO', 'SEXO', 'EDAD_APROX',\n",
       "       'distrito_codigo', 'superficie_km2', 'densidad_por_km2'],\n",
       "      dtype='object')"
      ]
     },
     "execution_count": 168,
     "metadata": {},
     "output_type": "execute_result"
    }
   ],
   "source": [
    "df_accs_join_dist.columns"
   ]
  },
  {
   "cell_type": "code",
   "execution_count": 169,
   "metadata": {},
   "outputs": [],
   "source": [
    "df_accs_join_dist = df_accs_join_dist.rename(columns = {'distrito_codigo':'COD_DISTRITO'})\n",
    "df_accs_join_dist = df_accs_join_dist.rename(columns = {'superficie_km2':'SUP_KM2'})\n",
    "df_accs_join_dist = df_accs_join_dist.rename(columns = {'densidad_por_km2':'DENSIDAD_KM2'})"
   ]
  },
  {
   "cell_type": "code",
   "execution_count": 170,
   "metadata": {},
   "outputs": [
    {
     "data": {
      "text/plain": [
       "Index(['HORA', 'DIA_SEMANA', 'DISTRITO', 'SEXO', 'EDAD_APROX', 'COD_DISTRITO',\n",
       "       'SUP_KM2', 'DENSIDAD_KM2'],\n",
       "      dtype='object')"
      ]
     },
     "execution_count": 170,
     "metadata": {},
     "output_type": "execute_result"
    }
   ],
   "source": [
    "df_accs_join_dist.columns"
   ]
  },
  {
   "cell_type": "code",
   "execution_count": 171,
   "metadata": {},
   "outputs": [
    {
     "data": {
      "text/plain": [
       "array([79605, 79613, 79607, 79603, 79604, 79611, 79615, 79609, 79606,\n",
       "       79618, 79614, 79602, 79620, 79617, 79616, 79608, 79619, 79612,\n",
       "       79610, 79621, 79601])"
      ]
     },
     "execution_count": 171,
     "metadata": {},
     "output_type": "execute_result"
    }
   ],
   "source": [
    "df_accs_join_dist[\"COD_DISTRITO\"].unique()"
   ]
  },
  {
   "cell_type": "code",
   "execution_count": 172,
   "metadata": {},
   "outputs": [
    {
     "data": {
      "text/plain": [
       "array([  9.12,  14.84,   4.73,   5.42,   5.36,  14.1 ,  11.52,  46.47,\n",
       "         5.37,  51.49,   6.08,   6.52,  22.26,  20.21,  25.87, 238.  ,\n",
       "        35.36,   7.7 ,  25.47,  43.56,   5.21])"
      ]
     },
     "execution_count": 172,
     "metadata": {},
     "output_type": "execute_result"
    }
   ],
   "source": [
    "df_accs_join_dist[\"SUP_KM2\"].unique()"
   ]
  },
  {
   "cell_type": "code",
   "execution_count": 173,
   "metadata": {},
   "outputs": [
    {
     "data": {
      "text/plain": [
       "array([15723.25, 15345.01, 29049.26, 21867.53, 26830.78, 17316.88,\n",
       "       18455.56,  2515.26, 28664.25,  2026.82, 15493.59, 23306.44,\n",
       "        6934.37,  7059.13,  6973.33,  1003.  ,  1981.11, 17535.32,\n",
       "        9183.75,  1076.06, 25340.69])"
      ]
     },
     "execution_count": 173,
     "metadata": {},
     "output_type": "execute_result"
    }
   ],
   "source": [
    "df_accs_join_dist[\"DENSIDAD_KM2\"].unique()"
   ]
  },
  {
   "cell_type": "code",
   "execution_count": 174,
   "metadata": {},
   "outputs": [
    {
     "data": {
      "text/plain": [
       "Index(['HORA', 'DIA_SEMANA', 'DISTRITO', 'SEXO', 'EDAD_APROX', 'COD_DISTRITO',\n",
       "       'SUP_KM2', 'DENSIDAD_KM2'],\n",
       "      dtype='object')"
      ]
     },
     "execution_count": 174,
     "metadata": {},
     "output_type": "execute_result"
    }
   ],
   "source": [
    "df_accs_join_dist.columns"
   ]
  },
  {
   "cell_type": "code",
   "execution_count": 175,
   "metadata": {},
   "outputs": [],
   "source": [
    "df_inf_xa_dis = df_accs_join_dist.reset_index(drop=True).copy()"
   ]
  },
  {
   "cell_type": "code",
   "execution_count": 176,
   "metadata": {},
   "outputs": [
    {
     "data": {
      "text/plain": [
       "HORA              int64\n",
       "DIA_SEMANA        int64\n",
       "DISTRITO         object\n",
       "SEXO              int64\n",
       "EDAD_APROX        int64\n",
       "COD_DISTRITO      int64\n",
       "SUP_KM2         float64\n",
       "DENSIDAD_KM2    float64\n",
       "dtype: object"
      ]
     },
     "execution_count": 176,
     "metadata": {},
     "output_type": "execute_result"
    }
   ],
   "source": [
    "df_inf_xa_dis.dtypes"
   ]
  },
  {
   "cell_type": "code",
   "execution_count": 177,
   "metadata": {},
   "outputs": [],
   "source": [
    "# Convert to object columns (the numeric columns)\n",
    "df_inf_xa_dis[\"COD_DISTRITO\"]=df_inf_xa_dis['COD_DISTRITO'].astype(np.str)\n",
    "df_inf_xa_dis[\"SUP_KM2\"]=df_inf_xa_dis['SUP_KM2'].astype(np.str)\n",
    "df_inf_xa_dis[\"DENSIDAD_KM2\"]=df_inf_xa_dis['DENSIDAD_KM2'].astype(np.str)"
   ]
  },
  {
   "cell_type": "code",
   "execution_count": 178,
   "metadata": {},
   "outputs": [
    {
     "data": {
      "text/plain": [
       "HORA             int64\n",
       "DIA_SEMANA       int64\n",
       "DISTRITO        object\n",
       "SEXO             int64\n",
       "EDAD_APROX       int64\n",
       "COD_DISTRITO    object\n",
       "SUP_KM2         object\n",
       "DENSIDAD_KM2    object\n",
       "dtype: object"
      ]
     },
     "execution_count": 178,
     "metadata": {},
     "output_type": "execute_result"
    }
   ],
   "source": [
    "df_inf_xa_dis.dtypes"
   ]
  },
  {
   "cell_type": "code",
   "execution_count": 179,
   "metadata": {},
   "outputs": [
    {
     "data": {
      "text/plain": [
       "Index(['HORA', 'DIA_SEMANA', 'DISTRITO', 'SEXO', 'EDAD_APROX', 'COD_DISTRITO',\n",
       "       'SUP_KM2', 'DENSIDAD_KM2'],\n",
       "      dtype='object')"
      ]
     },
     "execution_count": 179,
     "metadata": {},
     "output_type": "execute_result"
    }
   ],
   "source": [
    "df_inf_xa_dis.columns"
   ]
  },
  {
   "cell_type": "code",
   "execution_count": 180,
   "metadata": {},
   "outputs": [],
   "source": [
    "# Load variables\n",
    "X = np.array(df_inf_xa_dis.drop(['DISTRITO'],1))\n",
    "y = np.array(df_inf_xa_dis['DISTRITO'])\n",
    "X.shape\n",
    "\n",
    "# Train-test split and load the library\n",
    "from sklearn.model_selection import train_test_split\n",
    "# Create 2 groups each with input and labels\n",
    "X_train, X_test, y_train, y_test = train_test_split(X, y, test_size=0.20)"
   ]
  },
  {
   "cell_type": "code",
   "execution_count": 181,
   "metadata": {},
   "outputs": [],
   "source": [
    "from sklearn.preprocessing import OneHotEncoder\n",
    "\n",
    "# Create the encoder.\n",
    "encoder = OneHotEncoder(handle_unknown=\"ignore\")\n",
    "# Assume for simplicity all features are categorical.\n",
    "encoder.fit(X_train)    \n",
    "\n",
    "# Apply the encoder.\n",
    "X_train = encoder.transform(X_train)\n",
    "X_test = encoder.transform(X_test)"
   ]
  },
  {
   "cell_type": "code",
   "execution_count": 182,
   "metadata": {},
   "outputs": [
    {
     "data": {
      "text/plain": [
       "(252998, 7)"
      ]
     },
     "execution_count": 182,
     "metadata": {},
     "output_type": "execute_result"
    }
   ],
   "source": [
    "X.shape"
   ]
  },
  {
   "cell_type": "code",
   "execution_count": 183,
   "metadata": {},
   "outputs": [
    {
     "data": {
      "text/plain": [
       "array([0, 6, 0, 3, '79605', '9.12', '15723.25'], dtype=object)"
      ]
     },
     "execution_count": 183,
     "metadata": {},
     "output_type": "execute_result"
    }
   ],
   "source": [
    "X[0]"
   ]
  },
  {
   "cell_type": "code",
   "execution_count": 184,
   "metadata": {},
   "outputs": [
    {
     "data": {
      "text/plain": [
       "<202398x112 sparse matrix of type '<class 'numpy.float64'>'\n",
       "\twith 1416786 stored elements in Compressed Sparse Row format>"
      ]
     },
     "execution_count": 184,
     "metadata": {},
     "output_type": "execute_result"
    }
   ],
   "source": [
    "X_train"
   ]
  },
  {
   "cell_type": "code",
   "execution_count": 185,
   "metadata": {},
   "outputs": [
    {
     "data": {
      "text/plain": [
       "<50600x112 sparse matrix of type '<class 'numpy.float64'>'\n",
       "\twith 354200 stored elements in Compressed Sparse Row format>"
      ]
     },
     "execution_count": 185,
     "metadata": {},
     "output_type": "execute_result"
    }
   ],
   "source": [
    "X_test"
   ]
  },
  {
   "cell_type": "markdown",
   "metadata": {},
   "source": [
    "### Logistic Regression with SKLearn (2)"
   ]
  },
  {
   "cell_type": "code",
   "execution_count": 186,
   "metadata": {},
   "outputs": [
    {
     "data": {
      "text/plain": [
       "LogisticRegression(C=1.0, class_weight=None, dual=False, fit_intercept=True,\n",
       "                   intercept_scaling=1, l1_ratio=None, max_iter=100,\n",
       "                   multi_class='auto', n_jobs=None, penalty='l2',\n",
       "                   random_state=None, solver='sag', tol=0.0001, verbose=0,\n",
       "                   warm_start=False)"
      ]
     },
     "execution_count": 186,
     "metadata": {},
     "output_type": "execute_result"
    }
   ],
   "source": [
    "# Create teh Regression Logistic model and we make it fit (ajuste) to our set of inputs X and outputs \"y\".\n",
    "from sklearn.linear_model.sag import sag_solver\n",
    "model_LOGREG = linear_model.LogisticRegression(multi_class='auto', solver='sag')\n",
    "model_LOGREG.fit(X_train,y_train)"
   ]
  },
  {
   "cell_type": "code",
   "execution_count": 187,
   "metadata": {},
   "outputs": [],
   "source": [
    "# We classify our entire set of X inputs using the \"predict (X)\" method for the model\n",
    "#   and we review some of its outputs to see if it matches the actual outputs of our origin\n",
    "predictions_LOGREG = model_LOGREG.predict(X_test)"
   ]
  },
  {
   "cell_type": "code",
   "execution_count": 188,
   "metadata": {},
   "outputs": [
    {
     "name": "stdout",
     "output_type": "stream",
     "text": [
      "LATINA\n"
     ]
    }
   ],
   "source": [
    "# Check model efficiency \n",
    "print(predictions_LOGREG[22])"
   ]
  },
  {
   "cell_type": "code",
   "execution_count": 189,
   "metadata": {},
   "outputs": [
    {
     "data": {
      "text/plain": [
       "numpy.ndarray"
      ]
     },
     "execution_count": 189,
     "metadata": {},
     "output_type": "execute_result"
    }
   ],
   "source": [
    "type(predictions_LOGREG)"
   ]
  },
  {
   "cell_type": "code",
   "execution_count": 190,
   "metadata": {},
   "outputs": [
    {
     "data": {
      "text/plain": [
       "dtype('O')"
      ]
     },
     "execution_count": 190,
     "metadata": {},
     "output_type": "execute_result"
    }
   ],
   "source": [
    "predictions_LOGREG.dtype"
   ]
  },
  {
   "cell_type": "code",
   "execution_count": 191,
   "metadata": {},
   "outputs": [
    {
     "data": {
      "text/plain": [
       "(50600,)"
      ]
     },
     "execution_count": 191,
     "metadata": {},
     "output_type": "execute_result"
    }
   ],
   "source": [
    "predictions_LOGREG.shape"
   ]
  },
  {
   "cell_type": "code",
   "execution_count": 192,
   "metadata": {},
   "outputs": [
    {
     "name": "stdout",
     "output_type": "stream",
     "text": [
      "1.0\n"
     ]
    }
   ],
   "source": [
    "print(accuracy_score(y_test, predictions_LOGREG))"
   ]
  },
  {
   "cell_type": "code",
   "execution_count": 193,
   "metadata": {},
   "outputs": [
    {
     "data": {
      "text/plain": [
       "1.0"
      ]
     },
     "execution_count": 193,
     "metadata": {},
     "output_type": "execute_result"
    }
   ],
   "source": [
    "# The Quality of our model, gives us the average accuracy of the predictions:\n",
    "model_LOGREG.score(X_test,y_test)"
   ]
  },
  {
   "cell_type": "code",
   "execution_count": 194,
   "metadata": {},
   "outputs": [
    {
     "data": {
      "text/plain": [
       "dtype('O')"
      ]
     },
     "execution_count": 194,
     "metadata": {},
     "output_type": "execute_result"
    }
   ],
   "source": [
    "y_test.dtype"
   ]
  },
  {
   "cell_type": "code",
   "execution_count": 195,
   "metadata": {},
   "outputs": [
    {
     "data": {
      "text/plain": [
       "50600"
      ]
     },
     "execution_count": 195,
     "metadata": {},
     "output_type": "execute_result"
    }
   ],
   "source": [
    "len(y_test)"
   ]
  },
  {
   "cell_type": "code",
   "execution_count": 196,
   "metadata": {},
   "outputs": [
    {
     "data": {
      "text/plain": [
       "(50600,)"
      ]
     },
     "execution_count": 196,
     "metadata": {},
     "output_type": "execute_result"
    }
   ],
   "source": [
    "y_test.shape"
   ]
  },
  {
   "cell_type": "code",
   "execution_count": 197,
   "metadata": {},
   "outputs": [
    {
     "data": {
      "text/plain": [
       "'LATINA'"
      ]
     },
     "execution_count": 197,
     "metadata": {},
     "output_type": "execute_result"
    }
   ],
   "source": [
    "y_test[22,]"
   ]
  },
  {
   "cell_type": "markdown",
   "metadata": {},
   "source": [
    "########################################################"
   ]
  },
  {
   "cell_type": "markdown",
   "metadata": {},
   "source": [
    "##########################################"
   ]
  },
  {
   "cell_type": "markdown",
   "metadata": {},
   "source": [
    "############################"
   ]
  },
  {
   "cell_type": "markdown",
   "metadata": {},
   "source": [
    "## VALIDATE MODEL"
   ]
  },
  {
   "cell_type": "code",
   "execution_count": 198,
   "metadata": {},
   "outputs": [
    {
     "data": {
      "text/plain": [
       "Index(['HORA', 'DIA_SEMANA', 'DISTRITO', 'SEXO', 'EDAD_APROX', 'COD_DISTRITO',\n",
       "       'SUP_KM2', 'DENSIDAD_KM2'],\n",
       "      dtype='object')"
      ]
     },
     "execution_count": 198,
     "metadata": {},
     "output_type": "execute_result"
    }
   ],
   "source": [
    "df_inf_xa_dis.columns"
   ]
  },
  {
   "cell_type": "code",
   "execution_count": 199,
   "metadata": {},
   "outputs": [
    {
     "data": {
      "text/plain": [
       "HORA             int64\n",
       "DIA_SEMANA       int64\n",
       "DISTRITO        object\n",
       "SEXO             int64\n",
       "EDAD_APROX       int64\n",
       "COD_DISTRITO    object\n",
       "SUP_KM2         object\n",
       "DENSIDAD_KM2    object\n",
       "dtype: object"
      ]
     },
     "execution_count": 199,
     "metadata": {},
     "output_type": "execute_result"
    }
   ],
   "source": [
    "df_inf_xa_dis.dtypes"
   ]
  },
  {
   "cell_type": "code",
   "execution_count": 200,
   "metadata": {},
   "outputs": [
    {
     "data": {
      "text/html": [
       "<div>\n",
       "<style scoped>\n",
       "    .dataframe tbody tr th:only-of-type {\n",
       "        vertical-align: middle;\n",
       "    }\n",
       "\n",
       "    .dataframe tbody tr th {\n",
       "        vertical-align: top;\n",
       "    }\n",
       "\n",
       "    .dataframe thead th {\n",
       "        text-align: right;\n",
       "    }\n",
       "</style>\n",
       "<table border=\"1\" class=\"dataframe\">\n",
       "  <thead>\n",
       "    <tr style=\"text-align: right;\">\n",
       "      <th></th>\n",
       "      <th>HORA</th>\n",
       "      <th>DIA_SEMANA</th>\n",
       "      <th>DISTRITO</th>\n",
       "      <th>SEXO</th>\n",
       "      <th>EDAD_APROX</th>\n",
       "      <th>COD_DISTRITO</th>\n",
       "      <th>SUP_KM2</th>\n",
       "      <th>DENSIDAD_KM2</th>\n",
       "    </tr>\n",
       "  </thead>\n",
       "  <tbody>\n",
       "    <tr>\n",
       "      <th>0</th>\n",
       "      <td>0</td>\n",
       "      <td>6</td>\n",
       "      <td>CHAMARTIN</td>\n",
       "      <td>0</td>\n",
       "      <td>3</td>\n",
       "      <td>79605</td>\n",
       "      <td>9.12</td>\n",
       "      <td>15723.25</td>\n",
       "    </tr>\n",
       "  </tbody>\n",
       "</table>\n",
       "</div>"
      ],
      "text/plain": [
       "   HORA  DIA_SEMANA   DISTRITO  SEXO  EDAD_APROX COD_DISTRITO SUP_KM2  \\\n",
       "0     0           6  CHAMARTIN     0           3        79605    9.12   \n",
       "\n",
       "  DENSIDAD_KM2  \n",
       "0     15723.25  "
      ]
     },
     "execution_count": 200,
     "metadata": {},
     "output_type": "execute_result"
    }
   ],
   "source": [
    "df_inf_xa_dis.head(1)"
   ]
  },
  {
   "cell_type": "code",
   "execution_count": 201,
   "metadata": {},
   "outputs": [
    {
     "name": "stdout",
     "output_type": "stream",
     "text": [
      "Logistic Regression: 1.000000 (0.000000)\n"
     ]
    }
   ],
   "source": [
    "# We recompile our Logistic Regression model, at 80% of the input data in 10 partitions \n",
    "# and we calculate the new scoring by cross validation\n",
    "name='Logistic Regression'\n",
    "kfold = model_selection.KFold(n_splits=10)\n",
    "cv_results = model_selection.cross_val_score(model_LOGREG, X_train, y_train, cv=kfold, \\\n",
    "                                             scoring='accuracy', error_score=np.nan, verbose=0)\n",
    "msg = \"%s: %f (%f)\" % (name, cv_results.mean(), cv_results.std())\n",
    "print(msg)"
   ]
  },
  {
   "cell_type": "code",
   "execution_count": 202,
   "metadata": {},
   "outputs": [
    {
     "name": "stdout",
     "output_type": "stream",
     "text": [
      "1.0\n"
     ]
    }
   ],
   "source": [
    "# And now we make the predictions (really classification) using our \"cross validation set\"\n",
    "# that is to say of the subset that we had separated.\n",
    "# Successes: xxx%\n",
    "predictions_LOGREG = model_LOGREG.predict(X_test)\n",
    "print(accuracy_score(y_test, predictions_LOGREG))"
   ]
  },
  {
   "cell_type": "markdown",
   "metadata": {},
   "source": [
    "# Model results"
   ]
  },
  {
   "cell_type": "code",
   "execution_count": 203,
   "metadata": {},
   "outputs": [
    {
     "name": "stdout",
     "output_type": "stream",
     "text": [
      "[[2584    0    0    0    0    0    0    0    0    0    0    0    0    0\n",
      "     0    0    0    0    0    0    0]\n",
      " [   0  662    0    0    0    0    0    0    0    0    0    0    0    0\n",
      "     0    0    0    0    0    0    0]\n",
      " [   0    0 3138    0    0    0    0    0    0    0    0    0    0    0\n",
      "     0    0    0    0    0    0    0]\n",
      " [   0    0    0 3396    0    0    0    0    0    0    0    0    0    0\n",
      "     0    0    0    0    0    0    0]\n",
      " [   0    0    0    0 3833    0    0    0    0    0    0    0    0    0\n",
      "     0    0    0    0    0    0    0]\n",
      " [   0    0    0    0    0 2886    0    0    0    0    0    0    0    0\n",
      "     0    0    0    0    0    0    0]\n",
      " [   0    0    0    0    0    0 3348    0    0    0    0    0    0    0\n",
      "     0    0    0    0    0    0    0]\n",
      " [   0    0    0    0    0    0    0 2750    0    0    0    0    0    0\n",
      "     0    0    0    0    0    0    0]\n",
      " [   0    0    0    0    0    0    0    0 1723    0    0    0    0    0\n",
      "     0    0    0    0    0    0    0]\n",
      " [   0    0    0    0    0    0    0    0    0 2458    0    0    0    0\n",
      "     0    0    0    0    0    0    0]\n",
      " [   0    0    0    0    0    0    0    0    0    0 2776    0    0    0\n",
      "     0    0    0    0    0    0    0]\n",
      " [   0    0    0    0    0    0    0    0    0    0    0 1230    0    0\n",
      "     0    0    0    0    0    0    0]\n",
      " [   0    0    0    0    0    0    0    0    0    0    0    0 3252    0\n",
      "     0    0    0    0    0    0    0]\n",
      " [   0    0    0    0    0    0    0    0    0    0    0    0    0 2783\n",
      "     0    0    0    0    0    0    0]\n",
      " [   0    0    0    0    0    0    0    0    0    0    0    0    0    0\n",
      "  3804    0    0    0    0    0    0]\n",
      " [   0    0    0    0    0    0    0    0    0    0    0    0    0    0\n",
      "     0 2365    0    0    0    0    0]\n",
      " [   0    0    0    0    0    0    0    0    0    0    0    0    0    0\n",
      "     0    0 2782    0    0    0    0]\n",
      " [   0    0    0    0    0    0    0    0    0    0    0    0    0    0\n",
      "     0    0    0 1806    0    0    0]\n",
      " [   0    0    0    0    0    0    0    0    0    0    0    0    0    0\n",
      "     0    0    0    0  628    0    0]\n",
      " [   0    0    0    0    0    0    0    0    0    0    0    0    0    0\n",
      "     0    0    0    0    0 1094    0]\n",
      " [   0    0    0    0    0    0    0    0    0    0    0    0    0    0\n",
      "     0    0    0    0    0    0 1302]]\n"
     ]
    }
   ],
   "source": [
    "## Matrix of confusion for errors\n",
    "print(confusion_matrix(y_test, predictions_LOGREG))"
   ]
  },
  {
   "cell_type": "code",
   "execution_count": 204,
   "metadata": {},
   "outputs": [
    {
     "name": "stdout",
     "output_type": "stream",
     "text": [
      "                     precision    recall  f1-score   support\n",
      "\n",
      "         ARGANZUELA       1.00      1.00      1.00      2584\n",
      "            BARAJAS       1.00      1.00      1.00       662\n",
      "        CARABANCHEL       1.00      1.00      1.00      3138\n",
      "             CENTRO       1.00      1.00      1.00      3396\n",
      "          CHAMARTIN       1.00      1.00      1.00      3833\n",
      "           CHAMBERI       1.00      1.00      1.00      2886\n",
      "      CIUDAD LINEAL       1.00      1.00      1.00      3348\n",
      "FUENCARRAL-EL PARDO       1.00      1.00      1.00      2750\n",
      "          HORTALEZA       1.00      1.00      1.00      1723\n",
      "             LATINA       1.00      1.00      1.00      2458\n",
      "    MONCLOA-ARAVACA       1.00      1.00      1.00      2776\n",
      "          MORATALAZ       1.00      1.00      1.00      1230\n",
      " PUENTE DE VALLECAS       1.00      1.00      1.00      3252\n",
      "             RETIRO       1.00      1.00      1.00      2783\n",
      "          SALAMANCA       1.00      1.00      1.00      3804\n",
      "           SAN BLAS       1.00      1.00      1.00      2365\n",
      "             TETUAN       1.00      1.00      1.00      2782\n",
      "              USERA       1.00      1.00      1.00      1806\n",
      "          VICALVARO       1.00      1.00      1.00       628\n",
      "  VILLA DE VALLECAS       1.00      1.00      1.00      1094\n",
      "         VILLAVERDE       1.00      1.00      1.00      1302\n",
      "\n",
      "           accuracy                           1.00     50600\n",
      "          macro avg       1.00      1.00      1.00     50600\n",
      "       weighted avg       1.00      1.00      1.00     50600\n",
      "\n"
     ]
    }
   ],
   "source": [
    "## Classification report with our TEST set\n",
    "# We observe the average F1-score\n",
    "print(classification_report(y_test, predictions_LOGREG))"
   ]
  },
  {
   "cell_type": "markdown",
   "metadata": {},
   "source": [
    "# Classification (or prediction) of new values"
   ]
  },
  {
   "cell_type": "code",
   "execution_count": 205,
   "metadata": {},
   "outputs": [
    {
     "data": {
      "text/plain": [
       "Index(['HORA', 'DIA_SEMANA', 'DISTRITO', 'SEXO', 'EDAD_APROX', 'COD_DISTRITO',\n",
       "       'SUP_KM2', 'DENSIDAD_KM2'],\n",
       "      dtype='object')"
      ]
     },
     "execution_count": 205,
     "metadata": {},
     "output_type": "execute_result"
    }
   ],
   "source": [
    "df_inf_xa_dis.columns"
   ]
  },
  {
   "cell_type": "code",
   "execution_count": 206,
   "metadata": {},
   "outputs": [
    {
     "data": {
      "text/html": [
       "<div>\n",
       "<style scoped>\n",
       "    .dataframe tbody tr th:only-of-type {\n",
       "        vertical-align: middle;\n",
       "    }\n",
       "\n",
       "    .dataframe tbody tr th {\n",
       "        vertical-align: top;\n",
       "    }\n",
       "\n",
       "    .dataframe thead th {\n",
       "        text-align: right;\n",
       "    }\n",
       "</style>\n",
       "<table border=\"1\" class=\"dataframe\">\n",
       "  <thead>\n",
       "    <tr style=\"text-align: right;\">\n",
       "      <th></th>\n",
       "      <th>HORA</th>\n",
       "      <th>DIA_SEMANA</th>\n",
       "      <th>DISTRITO</th>\n",
       "      <th>SEXO</th>\n",
       "      <th>EDAD_APROX</th>\n",
       "      <th>COD_DISTRITO</th>\n",
       "      <th>SUP_KM2</th>\n",
       "      <th>DENSIDAD_KM2</th>\n",
       "    </tr>\n",
       "  </thead>\n",
       "  <tbody>\n",
       "    <tr>\n",
       "      <th>0</th>\n",
       "      <td>0</td>\n",
       "      <td>6</td>\n",
       "      <td>CHAMARTIN</td>\n",
       "      <td>0</td>\n",
       "      <td>3</td>\n",
       "      <td>79605</td>\n",
       "      <td>9.12</td>\n",
       "      <td>15723.25</td>\n",
       "    </tr>\n",
       "  </tbody>\n",
       "</table>\n",
       "</div>"
      ],
      "text/plain": [
       "   HORA  DIA_SEMANA   DISTRITO  SEXO  EDAD_APROX COD_DISTRITO SUP_KM2  \\\n",
       "0     0           6  CHAMARTIN     0           3        79605    9.12   \n",
       "\n",
       "  DENSIDAD_KM2  \n",
       "0     15723.25  "
      ]
     },
     "execution_count": 206,
     "metadata": {},
     "output_type": "execute_result"
    }
   ],
   "source": [
    "df_inf_xa_dis.head(1)"
   ]
  },
  {
   "cell_type": "code",
   "execution_count": 207,
   "metadata": {},
   "outputs": [
    {
     "data": {
      "text/html": [
       "<div>\n",
       "<style scoped>\n",
       "    .dataframe tbody tr th:only-of-type {\n",
       "        vertical-align: middle;\n",
       "    }\n",
       "\n",
       "    .dataframe tbody tr th {\n",
       "        vertical-align: top;\n",
       "    }\n",
       "\n",
       "    .dataframe thead th {\n",
       "        text-align: right;\n",
       "    }\n",
       "</style>\n",
       "<table border=\"1\" class=\"dataframe\">\n",
       "  <thead>\n",
       "    <tr style=\"text-align: right;\">\n",
       "      <th></th>\n",
       "      <th>HORA</th>\n",
       "      <th>DIA_SEMANA</th>\n",
       "      <th>DISTRITO</th>\n",
       "      <th>SEXO</th>\n",
       "      <th>EDAD_APROX</th>\n",
       "    </tr>\n",
       "  </thead>\n",
       "  <tbody>\n",
       "    <tr>\n",
       "      <th>0</th>\n",
       "      <td>00:00</td>\n",
       "      <td>VIERNES</td>\n",
       "      <td>CHAMARTIN</td>\n",
       "      <td>HOMBRE</td>\n",
       "      <td>20</td>\n",
       "    </tr>\n",
       "  </tbody>\n",
       "</table>\n",
       "</div>"
      ],
      "text/plain": [
       "    HORA DIA_SEMANA   DISTRITO    SEXO EDAD_APROX\n",
       "0  00:00    VIERNES  CHAMARTIN  HOMBRE         20"
      ]
     },
     "execution_count": 207,
     "metadata": {},
     "output_type": "execute_result"
    }
   ],
   "source": [
    "df_accs.head(1)"
   ]
  },
  {
   "cell_type": "code",
   "execution_count": 208,
   "metadata": {},
   "outputs": [],
   "source": [
    "# Test and others parameters:\n",
    "# a.- predict: just gives you the class for every example\n",
    "# b.- predict_proba: gives you the probability for every class, and predict is just taking the class \n",
    "#     which maximal probability\n",
    "# c.- predict_log_proba: gives you the logarithm of the probabilities, this is often handier as probabilities \n",
    "#     can become very, very small shareimprove this answer\n",
    "# d.- coef_\n",
    "# e.- score\n",
    "# f.- decision function"
   ]
  },
  {
   "cell_type": "code",
   "execution_count": 209,
   "metadata": {},
   "outputs": [
    {
     "data": {
      "text/plain": [
       "array(['CIUDAD LINEAL', 'MORATALAZ', 'FUENCARRAL-EL PARDO', ...,\n",
       "       'FUENCARRAL-EL PARDO', 'VILLAVERDE', 'ARGANZUELA'], dtype=object)"
      ]
     },
     "execution_count": 209,
     "metadata": {},
     "output_type": "execute_result"
    }
   ],
   "source": [
    "model_LOGREG.predict(X_test)"
   ]
  },
  {
   "cell_type": "code",
   "execution_count": 210,
   "metadata": {},
   "outputs": [
    {
     "data": {
      "text/plain": [
       "array([[1.37008573e-05, 1.27918599e-05, 1.31019272e-05, ...,\n",
       "        1.21610115e-05, 1.30014587e-05, 1.29355622e-05],\n",
       "       [3.43024826e-05, 3.32815976e-05, 3.34283774e-05, ...,\n",
       "        3.02076770e-05, 3.07976116e-05, 3.21010765e-05],\n",
       "       [1.75940103e-05, 1.51480310e-05, 1.75150710e-05, ...,\n",
       "        1.57524778e-05, 1.64833299e-05, 1.70275268e-05],\n",
       "       ...,\n",
       "       [1.70802314e-05, 1.48037208e-05, 1.60843263e-05, ...,\n",
       "        1.59384810e-05, 1.55810431e-05, 1.54739484e-05],\n",
       "       [3.19958490e-05, 2.71550405e-05, 3.11206997e-05, ...,\n",
       "        2.88966349e-05, 2.99836324e-05, 9.99388734e-01],\n",
       "       [9.99668759e-01, 1.51501000e-05, 1.73680545e-05, ...,\n",
       "        1.67328826e-05, 1.57924638e-05, 1.64211445e-05]])"
      ]
     },
     "execution_count": 210,
     "metadata": {},
     "output_type": "execute_result"
    }
   ],
   "source": [
    "model_LOGREG.predict_proba(X_test)"
   ]
  },
  {
   "cell_type": "code",
   "execution_count": 211,
   "metadata": {},
   "outputs": [
    {
     "data": {
      "text/plain": [
       "array([[-1.11980522e+01, -1.12667015e+01, -1.12427512e+01, ...,\n",
       "        -1.13172755e+01, -1.12504490e+01, -1.12555303e+01],\n",
       "       [-1.02802928e+01, -1.03105059e+01, -1.03061054e+01, ...,\n",
       "        -1.04074145e+01, -1.03880734e+01, -1.03466210e+01],\n",
       "       [-1.09479520e+01, -1.10976400e+01, -1.09524488e+01, ...,\n",
       "        -1.10585129e+01, -1.10131610e+01, -1.09806793e+01],\n",
       "       ...,\n",
       "       [-1.09775888e+01, -1.11206320e+01, -1.10376653e+01, ...,\n",
       "        -1.10467742e+01, -1.10694556e+01, -1.10763527e+01],\n",
       "       [-1.03499044e+01, -1.05139479e+01, -1.03776374e+01, ...,\n",
       "        -1.04517854e+01, -1.04148589e+01, -6.11452986e-04],\n",
       "       [-3.31295534e-04, -1.10975034e+01, -1.09608780e+01, ...,\n",
       "        -1.09981348e+01, -1.10559777e+01, -1.10169408e+01]])"
      ]
     },
     "execution_count": 211,
     "metadata": {},
     "output_type": "execute_result"
    }
   ],
   "source": [
    "model_LOGREG.predict_log_proba(X_test)"
   ]
  },
  {
   "cell_type": "code",
   "execution_count": 212,
   "metadata": {},
   "outputs": [
    {
     "data": {
      "text/plain": [
       "array([[ 2.14418109e-03, -1.26637868e-03, -5.72047569e-03, ...,\n",
       "        -1.73239807e-01, -1.70044270e-01, -1.78368725e-01],\n",
       "       [-2.48233748e-02, -3.82366787e-02, -8.89693549e-03, ...,\n",
       "        -1.58359891e-01, -1.54681280e-01, -1.62620145e-01],\n",
       "       [ 2.50575322e-02,  2.16171470e-02,  7.46608462e-03, ...,\n",
       "        -1.69590311e-01, -1.66899901e-01, -1.74984147e-01],\n",
       "       ...,\n",
       "       [-3.21321547e-02, -3.03392935e-04,  7.27704256e-03, ...,\n",
       "        -1.59451225e-01, -1.56255661e-01, -1.64118498e-01],\n",
       "       [ 3.90308265e-03, -9.96244982e-03, -6.92010283e-03, ...,\n",
       "        -1.63082054e-01, -1.60027963e-01, -1.67831923e-01],\n",
       "       [-7.21404419e-03, -7.75390987e-03, -1.10681874e-02, ...,\n",
       "        -1.64640968e-01,  3.30946844e+00, -1.69678859e-01]])"
      ]
     },
     "execution_count": 212,
     "metadata": {},
     "output_type": "execute_result"
    }
   ],
   "source": [
    "model_LOGREG.coef_"
   ]
  },
  {
   "cell_type": "code",
   "execution_count": 213,
   "metadata": {},
   "outputs": [
    {
     "data": {
      "text/plain": [
       "<bound method ClassifierMixin.score of LogisticRegression(C=1.0, class_weight=None, dual=False, fit_intercept=True,\n",
       "                   intercept_scaling=1, l1_ratio=None, max_iter=100,\n",
       "                   multi_class='auto', n_jobs=None, penalty='l2',\n",
       "                   random_state=None, solver='sag', tol=0.0001, verbose=0,\n",
       "                   warm_start=False)>"
      ]
     },
     "execution_count": 213,
     "metadata": {},
     "output_type": "execute_result"
    }
   ],
   "source": [
    "model_LOGREG.score"
   ]
  },
  {
   "cell_type": "code",
   "execution_count": 214,
   "metadata": {},
   "outputs": [
    {
     "data": {
      "text/plain": [
       "HORA             int64\n",
       "DIA_SEMANA       int64\n",
       "DISTRITO        object\n",
       "SEXO             int64\n",
       "EDAD_APROX       int64\n",
       "COD_DISTRITO    object\n",
       "SUP_KM2         object\n",
       "DENSIDAD_KM2    object\n",
       "dtype: object"
      ]
     },
     "execution_count": 214,
     "metadata": {},
     "output_type": "execute_result"
    }
   ],
   "source": [
    "df_inf_xa_dis.dtypes"
   ]
  },
  {
   "cell_type": "code",
   "execution_count": 215,
   "metadata": {},
   "outputs": [
    {
     "data": {
      "text/plain": [
       "'LATINA'"
      ]
     },
     "execution_count": 215,
     "metadata": {},
     "output_type": "execute_result"
    }
   ],
   "source": [
    "predictions_LOGREG[22]"
   ]
  },
  {
   "cell_type": "code",
   "execution_count": 216,
   "metadata": {},
   "outputs": [
    {
     "data": {
      "text/plain": [
       "'LATINA'"
      ]
     },
     "execution_count": 216,
     "metadata": {},
     "output_type": "execute_result"
    }
   ],
   "source": [
    "y_test[22]"
   ]
  },
  {
   "cell_type": "code",
   "execution_count": 217,
   "metadata": {},
   "outputs": [
    {
     "data": {
      "text/plain": [
       "array([[1.81027177e-05, 1.79440127e-05, 1.81051665e-05, 1.73460183e-05,\n",
       "        1.98351893e-05, 1.77757001e-05, 1.87190662e-05, 1.87386624e-05,\n",
       "        1.83323794e-05, 9.99633072e-01, 1.90853745e-05, 1.81478602e-05,\n",
       "        1.89513771e-05, 1.91600520e-05, 1.91678961e-05, 1.89107454e-05,\n",
       "        1.85423476e-05, 1.74742347e-05, 1.79890309e-05, 1.73374297e-05,\n",
       "        1.72631379e-05]])"
      ]
     },
     "execution_count": 217,
     "metadata": {},
     "output_type": "execute_result"
    }
   ],
   "source": [
    "model_LOGREG.predict_proba(X_test)[22:23,]"
   ]
  },
  {
   "cell_type": "code",
   "execution_count": 218,
   "metadata": {},
   "outputs": [
    {
     "data": {
      "text/plain": [
       "array([[-0.52007287, -0.58872225, -0.56477194, ..., -0.63929622,\n",
       "        -0.57246972, -0.57755099],\n",
       "       [-0.44436998, -0.47458309, -0.47018254, ..., -0.57149161,\n",
       "        -0.55215056, -0.51069814],\n",
       "       [-0.48078885, -0.63047681, -0.48528566, ..., -0.59134969,\n",
       "        -0.54599781, -0.51351611],\n",
       "       ...,\n",
       "       [-0.46967634, -0.61271952, -0.5297528 , ..., -0.5388617 ,\n",
       "        -0.56154308, -0.56844021],\n",
       "       [-0.44811428, -0.61215777, -0.47584727, ..., -0.5499953 ,\n",
       "        -0.51306881,  9.90117865],\n",
       "       [10.48456077, -0.61261136, -0.47598592, ..., -0.51324269,\n",
       "        -0.57108565, -0.53204869]])"
      ]
     },
     "execution_count": 218,
     "metadata": {},
     "output_type": "execute_result"
    }
   ],
   "source": [
    "model_LOGREG.decision_function(X_test)"
   ]
  },
  {
   "cell_type": "code",
   "execution_count": 219,
   "metadata": {},
   "outputs": [
    {
     "data": {
      "text/plain": [
       "array(['ARGANZUELA', 'BARAJAS', 'CARABANCHEL', 'CENTRO', 'CHAMARTIN',\n",
       "       'CHAMBERI', 'CIUDAD LINEAL', 'FUENCARRAL-EL PARDO', 'HORTALEZA',\n",
       "       'LATINA', 'MONCLOA-ARAVACA', 'MORATALAZ', 'PUENTE DE VALLECAS',\n",
       "       'RETIRO', 'SALAMANCA', 'SAN BLAS', 'TETUAN', 'USERA', 'VICALVARO',\n",
       "       'VILLA DE VALLECAS', 'VILLAVERDE'], dtype=object)"
      ]
     },
     "execution_count": 219,
     "metadata": {},
     "output_type": "execute_result"
    }
   ],
   "source": [
    "model_LOGREG.classes_"
   ]
  },
  {
   "cell_type": "code",
   "execution_count": 220,
   "metadata": {},
   "outputs": [
    {
     "data": {
      "text/html": [
       "<div>\n",
       "<style scoped>\n",
       "    .dataframe tbody tr th:only-of-type {\n",
       "        vertical-align: middle;\n",
       "    }\n",
       "\n",
       "    .dataframe tbody tr th {\n",
       "        vertical-align: top;\n",
       "    }\n",
       "\n",
       "    .dataframe thead th {\n",
       "        text-align: right;\n",
       "    }\n",
       "</style>\n",
       "<table border=\"1\" class=\"dataframe\">\n",
       "  <thead>\n",
       "    <tr style=\"text-align: right;\">\n",
       "      <th></th>\n",
       "      <th>ARGANZUELA</th>\n",
       "      <th>BARAJAS</th>\n",
       "      <th>CARABANCHEL</th>\n",
       "      <th>CENTRO</th>\n",
       "      <th>CHAMARTIN</th>\n",
       "      <th>CHAMBERI</th>\n",
       "      <th>CIUDAD LINEAL</th>\n",
       "      <th>FUENCARRAL-EL PARDO</th>\n",
       "      <th>HORTALEZA</th>\n",
       "      <th>LATINA</th>\n",
       "      <th>MONCLOA-ARAVACA</th>\n",
       "      <th>MORATALAZ</th>\n",
       "      <th>PUENTE DE VALLECAS</th>\n",
       "      <th>RETIRO</th>\n",
       "      <th>SALAMANCA</th>\n",
       "      <th>SAN BLAS</th>\n",
       "      <th>TETUAN</th>\n",
       "      <th>USERA</th>\n",
       "      <th>VICALVARO</th>\n",
       "      <th>VILLA DE VALLECAS</th>\n",
       "      <th>VILLAVERDE</th>\n",
       "    </tr>\n",
       "  </thead>\n",
       "  <tbody>\n",
       "    <tr>\n",
       "      <th>0</th>\n",
       "      <td>0.000014</td>\n",
       "      <td>0.000013</td>\n",
       "      <td>0.000013</td>\n",
       "      <td>0.000014</td>\n",
       "      <td>0.000014</td>\n",
       "      <td>0.000014</td>\n",
       "      <td>0.999729</td>\n",
       "      <td>0.000014</td>\n",
       "      <td>0.000013</td>\n",
       "      <td>0.000013</td>\n",
       "      <td>0.000014</td>\n",
       "      <td>0.000013</td>\n",
       "      <td>0.000014</td>\n",
       "      <td>0.000014</td>\n",
       "      <td>0.000014</td>\n",
       "      <td>0.000013</td>\n",
       "      <td>0.000014</td>\n",
       "      <td>0.000013</td>\n",
       "      <td>0.000012</td>\n",
       "      <td>0.000013</td>\n",
       "      <td>0.000013</td>\n",
       "    </tr>\n",
       "    <tr>\n",
       "      <th>1</th>\n",
       "      <td>0.000034</td>\n",
       "      <td>0.000033</td>\n",
       "      <td>0.000033</td>\n",
       "      <td>0.000034</td>\n",
       "      <td>0.000033</td>\n",
       "      <td>0.000033</td>\n",
       "      <td>0.000034</td>\n",
       "      <td>0.000032</td>\n",
       "      <td>0.000033</td>\n",
       "      <td>0.000033</td>\n",
       "      <td>0.000032</td>\n",
       "      <td>0.999345</td>\n",
       "      <td>0.000034</td>\n",
       "      <td>0.000033</td>\n",
       "      <td>0.000034</td>\n",
       "      <td>0.000034</td>\n",
       "      <td>0.000032</td>\n",
       "      <td>0.000030</td>\n",
       "      <td>0.000030</td>\n",
       "      <td>0.000031</td>\n",
       "      <td>0.000032</td>\n",
       "    </tr>\n",
       "    <tr>\n",
       "      <th>2</th>\n",
       "      <td>0.000018</td>\n",
       "      <td>0.000015</td>\n",
       "      <td>0.000018</td>\n",
       "      <td>0.000018</td>\n",
       "      <td>0.000017</td>\n",
       "      <td>0.000018</td>\n",
       "      <td>0.000017</td>\n",
       "      <td>0.999662</td>\n",
       "      <td>0.000016</td>\n",
       "      <td>0.000016</td>\n",
       "      <td>0.000017</td>\n",
       "      <td>0.000016</td>\n",
       "      <td>0.000017</td>\n",
       "      <td>0.000017</td>\n",
       "      <td>0.000018</td>\n",
       "      <td>0.000017</td>\n",
       "      <td>0.000018</td>\n",
       "      <td>0.000016</td>\n",
       "      <td>0.000016</td>\n",
       "      <td>0.000016</td>\n",
       "      <td>0.000017</td>\n",
       "    </tr>\n",
       "    <tr>\n",
       "      <th>3</th>\n",
       "      <td>0.000011</td>\n",
       "      <td>0.000011</td>\n",
       "      <td>0.000011</td>\n",
       "      <td>0.000011</td>\n",
       "      <td>0.000012</td>\n",
       "      <td>0.000011</td>\n",
       "      <td>0.000011</td>\n",
       "      <td>0.000011</td>\n",
       "      <td>0.000011</td>\n",
       "      <td>0.000011</td>\n",
       "      <td>0.000011</td>\n",
       "      <td>0.000010</td>\n",
       "      <td>0.000011</td>\n",
       "      <td>0.000012</td>\n",
       "      <td>0.999779</td>\n",
       "      <td>0.000011</td>\n",
       "      <td>0.000012</td>\n",
       "      <td>0.000011</td>\n",
       "      <td>0.000010</td>\n",
       "      <td>0.000010</td>\n",
       "      <td>0.000011</td>\n",
       "    </tr>\n",
       "    <tr>\n",
       "      <th>4</th>\n",
       "      <td>0.000017</td>\n",
       "      <td>0.000015</td>\n",
       "      <td>0.000017</td>\n",
       "      <td>0.000017</td>\n",
       "      <td>0.000016</td>\n",
       "      <td>0.000017</td>\n",
       "      <td>0.000016</td>\n",
       "      <td>0.999674</td>\n",
       "      <td>0.000016</td>\n",
       "      <td>0.000017</td>\n",
       "      <td>0.000017</td>\n",
       "      <td>0.000015</td>\n",
       "      <td>0.000016</td>\n",
       "      <td>0.000017</td>\n",
       "      <td>0.000017</td>\n",
       "      <td>0.000017</td>\n",
       "      <td>0.000017</td>\n",
       "      <td>0.000016</td>\n",
       "      <td>0.000015</td>\n",
       "      <td>0.000016</td>\n",
       "      <td>0.000016</td>\n",
       "    </tr>\n",
       "    <tr>\n",
       "      <th>...</th>\n",
       "      <td>...</td>\n",
       "      <td>...</td>\n",
       "      <td>...</td>\n",
       "      <td>...</td>\n",
       "      <td>...</td>\n",
       "      <td>...</td>\n",
       "      <td>...</td>\n",
       "      <td>...</td>\n",
       "      <td>...</td>\n",
       "      <td>...</td>\n",
       "      <td>...</td>\n",
       "      <td>...</td>\n",
       "      <td>...</td>\n",
       "      <td>...</td>\n",
       "      <td>...</td>\n",
       "      <td>...</td>\n",
       "      <td>...</td>\n",
       "      <td>...</td>\n",
       "      <td>...</td>\n",
       "      <td>...</td>\n",
       "      <td>...</td>\n",
       "    </tr>\n",
       "    <tr>\n",
       "      <th>50595</th>\n",
       "      <td>0.999656</td>\n",
       "      <td>0.000017</td>\n",
       "      <td>0.000017</td>\n",
       "      <td>0.000018</td>\n",
       "      <td>0.000017</td>\n",
       "      <td>0.000018</td>\n",
       "      <td>0.000017</td>\n",
       "      <td>0.000017</td>\n",
       "      <td>0.000017</td>\n",
       "      <td>0.000017</td>\n",
       "      <td>0.000018</td>\n",
       "      <td>0.000017</td>\n",
       "      <td>0.000018</td>\n",
       "      <td>0.000017</td>\n",
       "      <td>0.000018</td>\n",
       "      <td>0.000017</td>\n",
       "      <td>0.000017</td>\n",
       "      <td>0.000016</td>\n",
       "      <td>0.000016</td>\n",
       "      <td>0.000016</td>\n",
       "      <td>0.000018</td>\n",
       "    </tr>\n",
       "    <tr>\n",
       "      <th>50596</th>\n",
       "      <td>0.000017</td>\n",
       "      <td>0.000015</td>\n",
       "      <td>0.000016</td>\n",
       "      <td>0.000016</td>\n",
       "      <td>0.000016</td>\n",
       "      <td>0.000016</td>\n",
       "      <td>0.000017</td>\n",
       "      <td>0.000015</td>\n",
       "      <td>0.000015</td>\n",
       "      <td>0.000016</td>\n",
       "      <td>0.000016</td>\n",
       "      <td>0.000015</td>\n",
       "      <td>0.000016</td>\n",
       "      <td>0.999685</td>\n",
       "      <td>0.000017</td>\n",
       "      <td>0.000016</td>\n",
       "      <td>0.000016</td>\n",
       "      <td>0.000015</td>\n",
       "      <td>0.000015</td>\n",
       "      <td>0.000015</td>\n",
       "      <td>0.000015</td>\n",
       "    </tr>\n",
       "    <tr>\n",
       "      <th>50597</th>\n",
       "      <td>0.000017</td>\n",
       "      <td>0.000015</td>\n",
       "      <td>0.000016</td>\n",
       "      <td>0.000017</td>\n",
       "      <td>0.000017</td>\n",
       "      <td>0.000016</td>\n",
       "      <td>0.000016</td>\n",
       "      <td>0.999677</td>\n",
       "      <td>0.000016</td>\n",
       "      <td>0.000016</td>\n",
       "      <td>0.000016</td>\n",
       "      <td>0.000015</td>\n",
       "      <td>0.000016</td>\n",
       "      <td>0.000017</td>\n",
       "      <td>0.000017</td>\n",
       "      <td>0.000016</td>\n",
       "      <td>0.000017</td>\n",
       "      <td>0.000015</td>\n",
       "      <td>0.000016</td>\n",
       "      <td>0.000016</td>\n",
       "      <td>0.000015</td>\n",
       "    </tr>\n",
       "    <tr>\n",
       "      <th>50598</th>\n",
       "      <td>0.000032</td>\n",
       "      <td>0.000027</td>\n",
       "      <td>0.000031</td>\n",
       "      <td>0.000032</td>\n",
       "      <td>0.000032</td>\n",
       "      <td>0.000032</td>\n",
       "      <td>0.000030</td>\n",
       "      <td>0.000030</td>\n",
       "      <td>0.000029</td>\n",
       "      <td>0.000030</td>\n",
       "      <td>0.000032</td>\n",
       "      <td>0.000030</td>\n",
       "      <td>0.000031</td>\n",
       "      <td>0.000033</td>\n",
       "      <td>0.000032</td>\n",
       "      <td>0.000030</td>\n",
       "      <td>0.000032</td>\n",
       "      <td>0.000029</td>\n",
       "      <td>0.000029</td>\n",
       "      <td>0.000030</td>\n",
       "      <td>0.999389</td>\n",
       "    </tr>\n",
       "    <tr>\n",
       "      <th>50599</th>\n",
       "      <td>0.999669</td>\n",
       "      <td>0.000015</td>\n",
       "      <td>0.000017</td>\n",
       "      <td>0.000017</td>\n",
       "      <td>0.000017</td>\n",
       "      <td>0.000015</td>\n",
       "      <td>0.000017</td>\n",
       "      <td>0.000017</td>\n",
       "      <td>0.000016</td>\n",
       "      <td>0.000017</td>\n",
       "      <td>0.000017</td>\n",
       "      <td>0.000017</td>\n",
       "      <td>0.000018</td>\n",
       "      <td>0.000017</td>\n",
       "      <td>0.000017</td>\n",
       "      <td>0.000016</td>\n",
       "      <td>0.000016</td>\n",
       "      <td>0.000017</td>\n",
       "      <td>0.000017</td>\n",
       "      <td>0.000016</td>\n",
       "      <td>0.000016</td>\n",
       "    </tr>\n",
       "  </tbody>\n",
       "</table>\n",
       "<p>50600 rows × 21 columns</p>\n",
       "</div>"
      ],
      "text/plain": [
       "       ARGANZUELA   BARAJAS  CARABANCHEL    CENTRO  CHAMARTIN  CHAMBERI  \\\n",
       "0        0.000014  0.000013     0.000013  0.000014   0.000014  0.000014   \n",
       "1        0.000034  0.000033     0.000033  0.000034   0.000033  0.000033   \n",
       "2        0.000018  0.000015     0.000018  0.000018   0.000017  0.000018   \n",
       "3        0.000011  0.000011     0.000011  0.000011   0.000012  0.000011   \n",
       "4        0.000017  0.000015     0.000017  0.000017   0.000016  0.000017   \n",
       "...           ...       ...          ...       ...        ...       ...   \n",
       "50595    0.999656  0.000017     0.000017  0.000018   0.000017  0.000018   \n",
       "50596    0.000017  0.000015     0.000016  0.000016   0.000016  0.000016   \n",
       "50597    0.000017  0.000015     0.000016  0.000017   0.000017  0.000016   \n",
       "50598    0.000032  0.000027     0.000031  0.000032   0.000032  0.000032   \n",
       "50599    0.999669  0.000015     0.000017  0.000017   0.000017  0.000015   \n",
       "\n",
       "       CIUDAD LINEAL  FUENCARRAL-EL PARDO  HORTALEZA    LATINA  \\\n",
       "0           0.999729             0.000014   0.000013  0.000013   \n",
       "1           0.000034             0.000032   0.000033  0.000033   \n",
       "2           0.000017             0.999662   0.000016  0.000016   \n",
       "3           0.000011             0.000011   0.000011  0.000011   \n",
       "4           0.000016             0.999674   0.000016  0.000017   \n",
       "...              ...                  ...        ...       ...   \n",
       "50595       0.000017             0.000017   0.000017  0.000017   \n",
       "50596       0.000017             0.000015   0.000015  0.000016   \n",
       "50597       0.000016             0.999677   0.000016  0.000016   \n",
       "50598       0.000030             0.000030   0.000029  0.000030   \n",
       "50599       0.000017             0.000017   0.000016  0.000017   \n",
       "\n",
       "       MONCLOA-ARAVACA  MORATALAZ  PUENTE DE VALLECAS    RETIRO  SALAMANCA  \\\n",
       "0             0.000014   0.000013            0.000014  0.000014   0.000014   \n",
       "1             0.000032   0.999345            0.000034  0.000033   0.000034   \n",
       "2             0.000017   0.000016            0.000017  0.000017   0.000018   \n",
       "3             0.000011   0.000010            0.000011  0.000012   0.999779   \n",
       "4             0.000017   0.000015            0.000016  0.000017   0.000017   \n",
       "...                ...        ...                 ...       ...        ...   \n",
       "50595         0.000018   0.000017            0.000018  0.000017   0.000018   \n",
       "50596         0.000016   0.000015            0.000016  0.999685   0.000017   \n",
       "50597         0.000016   0.000015            0.000016  0.000017   0.000017   \n",
       "50598         0.000032   0.000030            0.000031  0.000033   0.000032   \n",
       "50599         0.000017   0.000017            0.000018  0.000017   0.000017   \n",
       "\n",
       "       SAN BLAS    TETUAN     USERA  VICALVARO  VILLA DE VALLECAS  VILLAVERDE  \n",
       "0      0.000013  0.000014  0.000013   0.000012           0.000013    0.000013  \n",
       "1      0.000034  0.000032  0.000030   0.000030           0.000031    0.000032  \n",
       "2      0.000017  0.000018  0.000016   0.000016           0.000016    0.000017  \n",
       "3      0.000011  0.000012  0.000011   0.000010           0.000010    0.000011  \n",
       "4      0.000017  0.000017  0.000016   0.000015           0.000016    0.000016  \n",
       "...         ...       ...       ...        ...                ...         ...  \n",
       "50595  0.000017  0.000017  0.000016   0.000016           0.000016    0.000018  \n",
       "50596  0.000016  0.000016  0.000015   0.000015           0.000015    0.000015  \n",
       "50597  0.000016  0.000017  0.000015   0.000016           0.000016    0.000015  \n",
       "50598  0.000030  0.000032  0.000029   0.000029           0.000030    0.999389  \n",
       "50599  0.000016  0.000016  0.000017   0.000017           0.000016    0.000016  \n",
       "\n",
       "[50600 rows x 21 columns]"
      ]
     },
     "execution_count": 220,
     "metadata": {},
     "output_type": "execute_result"
    }
   ],
   "source": [
    "pd.DataFrame(model_LOGREG.predict_proba(X_test), columns=model_LOGREG.classes_)"
   ]
  },
  {
   "cell_type": "code",
   "execution_count": 221,
   "metadata": {},
   "outputs": [
    {
     "data": {
      "text/html": [
       "<div>\n",
       "<style scoped>\n",
       "    .dataframe tbody tr th:only-of-type {\n",
       "        vertical-align: middle;\n",
       "    }\n",
       "\n",
       "    .dataframe tbody tr th {\n",
       "        vertical-align: top;\n",
       "    }\n",
       "\n",
       "    .dataframe thead th {\n",
       "        text-align: right;\n",
       "    }\n",
       "</style>\n",
       "<table border=\"1\" class=\"dataframe\">\n",
       "  <thead>\n",
       "    <tr style=\"text-align: right;\">\n",
       "      <th></th>\n",
       "      <th>ARGANZUELA</th>\n",
       "      <th>BARAJAS</th>\n",
       "      <th>CARABANCHEL</th>\n",
       "      <th>CENTRO</th>\n",
       "      <th>CHAMARTIN</th>\n",
       "      <th>CHAMBERI</th>\n",
       "      <th>CIUDAD LINEAL</th>\n",
       "      <th>FUENCARRAL-EL PARDO</th>\n",
       "      <th>HORTALEZA</th>\n",
       "      <th>LATINA</th>\n",
       "      <th>MONCLOA-ARAVACA</th>\n",
       "      <th>MORATALAZ</th>\n",
       "      <th>PUENTE DE VALLECAS</th>\n",
       "      <th>RETIRO</th>\n",
       "      <th>SALAMANCA</th>\n",
       "      <th>SAN BLAS</th>\n",
       "      <th>TETUAN</th>\n",
       "      <th>USERA</th>\n",
       "      <th>VICALVARO</th>\n",
       "      <th>VILLA DE VALLECAS</th>\n",
       "      <th>VILLAVERDE</th>\n",
       "    </tr>\n",
       "  </thead>\n",
       "  <tbody>\n",
       "    <tr>\n",
       "      <th>0</th>\n",
       "      <td>0.000014</td>\n",
       "      <td>0.000013</td>\n",
       "      <td>0.000013</td>\n",
       "      <td>0.000014</td>\n",
       "      <td>0.000014</td>\n",
       "      <td>0.000014</td>\n",
       "      <td>0.999729</td>\n",
       "      <td>0.000014</td>\n",
       "      <td>0.000013</td>\n",
       "      <td>0.000013</td>\n",
       "      <td>0.000014</td>\n",
       "      <td>0.000013</td>\n",
       "      <td>0.000014</td>\n",
       "      <td>0.000014</td>\n",
       "      <td>0.000014</td>\n",
       "      <td>0.000013</td>\n",
       "      <td>0.000014</td>\n",
       "      <td>0.000013</td>\n",
       "      <td>0.000012</td>\n",
       "      <td>0.000013</td>\n",
       "      <td>0.000013</td>\n",
       "    </tr>\n",
       "    <tr>\n",
       "      <th>1</th>\n",
       "      <td>0.000034</td>\n",
       "      <td>0.000033</td>\n",
       "      <td>0.000033</td>\n",
       "      <td>0.000034</td>\n",
       "      <td>0.000033</td>\n",
       "      <td>0.000033</td>\n",
       "      <td>0.000034</td>\n",
       "      <td>0.000032</td>\n",
       "      <td>0.000033</td>\n",
       "      <td>0.000033</td>\n",
       "      <td>0.000032</td>\n",
       "      <td>0.999345</td>\n",
       "      <td>0.000034</td>\n",
       "      <td>0.000033</td>\n",
       "      <td>0.000034</td>\n",
       "      <td>0.000034</td>\n",
       "      <td>0.000032</td>\n",
       "      <td>0.000030</td>\n",
       "      <td>0.000030</td>\n",
       "      <td>0.000031</td>\n",
       "      <td>0.000032</td>\n",
       "    </tr>\n",
       "    <tr>\n",
       "      <th>2</th>\n",
       "      <td>0.000018</td>\n",
       "      <td>0.000015</td>\n",
       "      <td>0.000018</td>\n",
       "      <td>0.000018</td>\n",
       "      <td>0.000017</td>\n",
       "      <td>0.000018</td>\n",
       "      <td>0.000017</td>\n",
       "      <td>0.999662</td>\n",
       "      <td>0.000016</td>\n",
       "      <td>0.000016</td>\n",
       "      <td>0.000017</td>\n",
       "      <td>0.000016</td>\n",
       "      <td>0.000017</td>\n",
       "      <td>0.000017</td>\n",
       "      <td>0.000018</td>\n",
       "      <td>0.000017</td>\n",
       "      <td>0.000018</td>\n",
       "      <td>0.000016</td>\n",
       "      <td>0.000016</td>\n",
       "      <td>0.000016</td>\n",
       "      <td>0.000017</td>\n",
       "    </tr>\n",
       "    <tr>\n",
       "      <th>3</th>\n",
       "      <td>0.000011</td>\n",
       "      <td>0.000011</td>\n",
       "      <td>0.000011</td>\n",
       "      <td>0.000011</td>\n",
       "      <td>0.000012</td>\n",
       "      <td>0.000011</td>\n",
       "      <td>0.000011</td>\n",
       "      <td>0.000011</td>\n",
       "      <td>0.000011</td>\n",
       "      <td>0.000011</td>\n",
       "      <td>0.000011</td>\n",
       "      <td>0.000010</td>\n",
       "      <td>0.000011</td>\n",
       "      <td>0.000012</td>\n",
       "      <td>0.999779</td>\n",
       "      <td>0.000011</td>\n",
       "      <td>0.000012</td>\n",
       "      <td>0.000011</td>\n",
       "      <td>0.000010</td>\n",
       "      <td>0.000010</td>\n",
       "      <td>0.000011</td>\n",
       "    </tr>\n",
       "    <tr>\n",
       "      <th>4</th>\n",
       "      <td>0.000017</td>\n",
       "      <td>0.000015</td>\n",
       "      <td>0.000017</td>\n",
       "      <td>0.000017</td>\n",
       "      <td>0.000016</td>\n",
       "      <td>0.000017</td>\n",
       "      <td>0.000016</td>\n",
       "      <td>0.999674</td>\n",
       "      <td>0.000016</td>\n",
       "      <td>0.000017</td>\n",
       "      <td>0.000017</td>\n",
       "      <td>0.000015</td>\n",
       "      <td>0.000016</td>\n",
       "      <td>0.000017</td>\n",
       "      <td>0.000017</td>\n",
       "      <td>0.000017</td>\n",
       "      <td>0.000017</td>\n",
       "      <td>0.000016</td>\n",
       "      <td>0.000015</td>\n",
       "      <td>0.000016</td>\n",
       "      <td>0.000016</td>\n",
       "    </tr>\n",
       "  </tbody>\n",
       "</table>\n",
       "</div>"
      ],
      "text/plain": [
       "   ARGANZUELA   BARAJAS  CARABANCHEL    CENTRO  CHAMARTIN  CHAMBERI  \\\n",
       "0    0.000014  0.000013     0.000013  0.000014   0.000014  0.000014   \n",
       "1    0.000034  0.000033     0.000033  0.000034   0.000033  0.000033   \n",
       "2    0.000018  0.000015     0.000018  0.000018   0.000017  0.000018   \n",
       "3    0.000011  0.000011     0.000011  0.000011   0.000012  0.000011   \n",
       "4    0.000017  0.000015     0.000017  0.000017   0.000016  0.000017   \n",
       "\n",
       "   CIUDAD LINEAL  FUENCARRAL-EL PARDO  HORTALEZA    LATINA  MONCLOA-ARAVACA  \\\n",
       "0       0.999729             0.000014   0.000013  0.000013         0.000014   \n",
       "1       0.000034             0.000032   0.000033  0.000033         0.000032   \n",
       "2       0.000017             0.999662   0.000016  0.000016         0.000017   \n",
       "3       0.000011             0.000011   0.000011  0.000011         0.000011   \n",
       "4       0.000016             0.999674   0.000016  0.000017         0.000017   \n",
       "\n",
       "   MORATALAZ  PUENTE DE VALLECAS    RETIRO  SALAMANCA  SAN BLAS    TETUAN  \\\n",
       "0   0.000013            0.000014  0.000014   0.000014  0.000013  0.000014   \n",
       "1   0.999345            0.000034  0.000033   0.000034  0.000034  0.000032   \n",
       "2   0.000016            0.000017  0.000017   0.000018  0.000017  0.000018   \n",
       "3   0.000010            0.000011  0.000012   0.999779  0.000011  0.000012   \n",
       "4   0.000015            0.000016  0.000017   0.000017  0.000017  0.000017   \n",
       "\n",
       "      USERA  VICALVARO  VILLA DE VALLECAS  VILLAVERDE  \n",
       "0  0.000013   0.000012           0.000013    0.000013  \n",
       "1  0.000030   0.000030           0.000031    0.000032  \n",
       "2  0.000016   0.000016           0.000016    0.000017  \n",
       "3  0.000011   0.000010           0.000010    0.000011  \n",
       "4  0.000016   0.000015           0.000016    0.000016  "
      ]
     },
     "execution_count": 221,
     "metadata": {},
     "output_type": "execute_result"
    }
   ],
   "source": [
    "pd.DataFrame(model_LOGREG.predict_proba(X_test), columns=model_LOGREG.classes_).head(5)"
   ]
  },
  {
   "cell_type": "code",
   "execution_count": 222,
   "metadata": {},
   "outputs": [
    {
     "data": {
      "text/html": [
       "<div>\n",
       "<style scoped>\n",
       "    .dataframe tbody tr th:only-of-type {\n",
       "        vertical-align: middle;\n",
       "    }\n",
       "\n",
       "    .dataframe tbody tr th {\n",
       "        vertical-align: top;\n",
       "    }\n",
       "\n",
       "    .dataframe thead th {\n",
       "        text-align: right;\n",
       "    }\n",
       "</style>\n",
       "<table border=\"1\" class=\"dataframe\">\n",
       "  <thead>\n",
       "    <tr style=\"text-align: right;\">\n",
       "      <th></th>\n",
       "      <th>0</th>\n",
       "      <th>1</th>\n",
       "      <th>2</th>\n",
       "      <th>3</th>\n",
       "      <th>4</th>\n",
       "      <th>5</th>\n",
       "      <th>6</th>\n",
       "      <th>7</th>\n",
       "      <th>8</th>\n",
       "      <th>9</th>\n",
       "      <th>10</th>\n",
       "      <th>11</th>\n",
       "      <th>12</th>\n",
       "      <th>13</th>\n",
       "      <th>14</th>\n",
       "      <th>15</th>\n",
       "      <th>16</th>\n",
       "      <th>17</th>\n",
       "      <th>18</th>\n",
       "      <th>19</th>\n",
       "      <th>20</th>\n",
       "    </tr>\n",
       "  </thead>\n",
       "  <tbody>\n",
       "    <tr>\n",
       "      <th>0</th>\n",
       "      <td>0.000014</td>\n",
       "      <td>0.000013</td>\n",
       "      <td>0.000013</td>\n",
       "      <td>0.000014</td>\n",
       "      <td>0.000014</td>\n",
       "      <td>0.000014</td>\n",
       "      <td>0.999729</td>\n",
       "      <td>0.000014</td>\n",
       "      <td>0.000013</td>\n",
       "      <td>0.000013</td>\n",
       "      <td>0.000014</td>\n",
       "      <td>0.000013</td>\n",
       "      <td>0.000014</td>\n",
       "      <td>0.000014</td>\n",
       "      <td>0.000014</td>\n",
       "      <td>0.000013</td>\n",
       "      <td>0.000014</td>\n",
       "      <td>0.000013</td>\n",
       "      <td>0.000012</td>\n",
       "      <td>0.000013</td>\n",
       "      <td>0.000013</td>\n",
       "    </tr>\n",
       "    <tr>\n",
       "      <th>1</th>\n",
       "      <td>0.000034</td>\n",
       "      <td>0.000033</td>\n",
       "      <td>0.000033</td>\n",
       "      <td>0.000034</td>\n",
       "      <td>0.000033</td>\n",
       "      <td>0.000033</td>\n",
       "      <td>0.000034</td>\n",
       "      <td>0.000032</td>\n",
       "      <td>0.000033</td>\n",
       "      <td>0.000033</td>\n",
       "      <td>0.000032</td>\n",
       "      <td>0.999345</td>\n",
       "      <td>0.000034</td>\n",
       "      <td>0.000033</td>\n",
       "      <td>0.000034</td>\n",
       "      <td>0.000034</td>\n",
       "      <td>0.000032</td>\n",
       "      <td>0.000030</td>\n",
       "      <td>0.000030</td>\n",
       "      <td>0.000031</td>\n",
       "      <td>0.000032</td>\n",
       "    </tr>\n",
       "    <tr>\n",
       "      <th>2</th>\n",
       "      <td>0.000018</td>\n",
       "      <td>0.000015</td>\n",
       "      <td>0.000018</td>\n",
       "      <td>0.000018</td>\n",
       "      <td>0.000017</td>\n",
       "      <td>0.000018</td>\n",
       "      <td>0.000017</td>\n",
       "      <td>0.999662</td>\n",
       "      <td>0.000016</td>\n",
       "      <td>0.000016</td>\n",
       "      <td>0.000017</td>\n",
       "      <td>0.000016</td>\n",
       "      <td>0.000017</td>\n",
       "      <td>0.000017</td>\n",
       "      <td>0.000018</td>\n",
       "      <td>0.000017</td>\n",
       "      <td>0.000018</td>\n",
       "      <td>0.000016</td>\n",
       "      <td>0.000016</td>\n",
       "      <td>0.000016</td>\n",
       "      <td>0.000017</td>\n",
       "    </tr>\n",
       "    <tr>\n",
       "      <th>3</th>\n",
       "      <td>0.000011</td>\n",
       "      <td>0.000011</td>\n",
       "      <td>0.000011</td>\n",
       "      <td>0.000011</td>\n",
       "      <td>0.000012</td>\n",
       "      <td>0.000011</td>\n",
       "      <td>0.000011</td>\n",
       "      <td>0.000011</td>\n",
       "      <td>0.000011</td>\n",
       "      <td>0.000011</td>\n",
       "      <td>0.000011</td>\n",
       "      <td>0.000010</td>\n",
       "      <td>0.000011</td>\n",
       "      <td>0.000012</td>\n",
       "      <td>0.999779</td>\n",
       "      <td>0.000011</td>\n",
       "      <td>0.000012</td>\n",
       "      <td>0.000011</td>\n",
       "      <td>0.000010</td>\n",
       "      <td>0.000010</td>\n",
       "      <td>0.000011</td>\n",
       "    </tr>\n",
       "    <tr>\n",
       "      <th>4</th>\n",
       "      <td>0.000017</td>\n",
       "      <td>0.000015</td>\n",
       "      <td>0.000017</td>\n",
       "      <td>0.000017</td>\n",
       "      <td>0.000016</td>\n",
       "      <td>0.000017</td>\n",
       "      <td>0.000016</td>\n",
       "      <td>0.999674</td>\n",
       "      <td>0.000016</td>\n",
       "      <td>0.000017</td>\n",
       "      <td>0.000017</td>\n",
       "      <td>0.000015</td>\n",
       "      <td>0.000016</td>\n",
       "      <td>0.000017</td>\n",
       "      <td>0.000017</td>\n",
       "      <td>0.000017</td>\n",
       "      <td>0.000017</td>\n",
       "      <td>0.000016</td>\n",
       "      <td>0.000015</td>\n",
       "      <td>0.000016</td>\n",
       "      <td>0.000016</td>\n",
       "    </tr>\n",
       "    <tr>\n",
       "      <th>...</th>\n",
       "      <td>...</td>\n",
       "      <td>...</td>\n",
       "      <td>...</td>\n",
       "      <td>...</td>\n",
       "      <td>...</td>\n",
       "      <td>...</td>\n",
       "      <td>...</td>\n",
       "      <td>...</td>\n",
       "      <td>...</td>\n",
       "      <td>...</td>\n",
       "      <td>...</td>\n",
       "      <td>...</td>\n",
       "      <td>...</td>\n",
       "      <td>...</td>\n",
       "      <td>...</td>\n",
       "      <td>...</td>\n",
       "      <td>...</td>\n",
       "      <td>...</td>\n",
       "      <td>...</td>\n",
       "      <td>...</td>\n",
       "      <td>...</td>\n",
       "    </tr>\n",
       "    <tr>\n",
       "      <th>50595</th>\n",
       "      <td>0.999656</td>\n",
       "      <td>0.000017</td>\n",
       "      <td>0.000017</td>\n",
       "      <td>0.000018</td>\n",
       "      <td>0.000017</td>\n",
       "      <td>0.000018</td>\n",
       "      <td>0.000017</td>\n",
       "      <td>0.000017</td>\n",
       "      <td>0.000017</td>\n",
       "      <td>0.000017</td>\n",
       "      <td>0.000018</td>\n",
       "      <td>0.000017</td>\n",
       "      <td>0.000018</td>\n",
       "      <td>0.000017</td>\n",
       "      <td>0.000018</td>\n",
       "      <td>0.000017</td>\n",
       "      <td>0.000017</td>\n",
       "      <td>0.000016</td>\n",
       "      <td>0.000016</td>\n",
       "      <td>0.000016</td>\n",
       "      <td>0.000018</td>\n",
       "    </tr>\n",
       "    <tr>\n",
       "      <th>50596</th>\n",
       "      <td>0.000017</td>\n",
       "      <td>0.000015</td>\n",
       "      <td>0.000016</td>\n",
       "      <td>0.000016</td>\n",
       "      <td>0.000016</td>\n",
       "      <td>0.000016</td>\n",
       "      <td>0.000017</td>\n",
       "      <td>0.000015</td>\n",
       "      <td>0.000015</td>\n",
       "      <td>0.000016</td>\n",
       "      <td>0.000016</td>\n",
       "      <td>0.000015</td>\n",
       "      <td>0.000016</td>\n",
       "      <td>0.999685</td>\n",
       "      <td>0.000017</td>\n",
       "      <td>0.000016</td>\n",
       "      <td>0.000016</td>\n",
       "      <td>0.000015</td>\n",
       "      <td>0.000015</td>\n",
       "      <td>0.000015</td>\n",
       "      <td>0.000015</td>\n",
       "    </tr>\n",
       "    <tr>\n",
       "      <th>50597</th>\n",
       "      <td>0.000017</td>\n",
       "      <td>0.000015</td>\n",
       "      <td>0.000016</td>\n",
       "      <td>0.000017</td>\n",
       "      <td>0.000017</td>\n",
       "      <td>0.000016</td>\n",
       "      <td>0.000016</td>\n",
       "      <td>0.999677</td>\n",
       "      <td>0.000016</td>\n",
       "      <td>0.000016</td>\n",
       "      <td>0.000016</td>\n",
       "      <td>0.000015</td>\n",
       "      <td>0.000016</td>\n",
       "      <td>0.000017</td>\n",
       "      <td>0.000017</td>\n",
       "      <td>0.000016</td>\n",
       "      <td>0.000017</td>\n",
       "      <td>0.000015</td>\n",
       "      <td>0.000016</td>\n",
       "      <td>0.000016</td>\n",
       "      <td>0.000015</td>\n",
       "    </tr>\n",
       "    <tr>\n",
       "      <th>50598</th>\n",
       "      <td>0.000032</td>\n",
       "      <td>0.000027</td>\n",
       "      <td>0.000031</td>\n",
       "      <td>0.000032</td>\n",
       "      <td>0.000032</td>\n",
       "      <td>0.000032</td>\n",
       "      <td>0.000030</td>\n",
       "      <td>0.000030</td>\n",
       "      <td>0.000029</td>\n",
       "      <td>0.000030</td>\n",
       "      <td>0.000032</td>\n",
       "      <td>0.000030</td>\n",
       "      <td>0.000031</td>\n",
       "      <td>0.000033</td>\n",
       "      <td>0.000032</td>\n",
       "      <td>0.000030</td>\n",
       "      <td>0.000032</td>\n",
       "      <td>0.000029</td>\n",
       "      <td>0.000029</td>\n",
       "      <td>0.000030</td>\n",
       "      <td>0.999389</td>\n",
       "    </tr>\n",
       "    <tr>\n",
       "      <th>50599</th>\n",
       "      <td>0.999669</td>\n",
       "      <td>0.000015</td>\n",
       "      <td>0.000017</td>\n",
       "      <td>0.000017</td>\n",
       "      <td>0.000017</td>\n",
       "      <td>0.000015</td>\n",
       "      <td>0.000017</td>\n",
       "      <td>0.000017</td>\n",
       "      <td>0.000016</td>\n",
       "      <td>0.000017</td>\n",
       "      <td>0.000017</td>\n",
       "      <td>0.000017</td>\n",
       "      <td>0.000018</td>\n",
       "      <td>0.000017</td>\n",
       "      <td>0.000017</td>\n",
       "      <td>0.000016</td>\n",
       "      <td>0.000016</td>\n",
       "      <td>0.000017</td>\n",
       "      <td>0.000017</td>\n",
       "      <td>0.000016</td>\n",
       "      <td>0.000016</td>\n",
       "    </tr>\n",
       "  </tbody>\n",
       "</table>\n",
       "<p>50600 rows × 21 columns</p>\n",
       "</div>"
      ],
      "text/plain": [
       "              0         1         2         3         4         5         6  \\\n",
       "0      0.000014  0.000013  0.000013  0.000014  0.000014  0.000014  0.999729   \n",
       "1      0.000034  0.000033  0.000033  0.000034  0.000033  0.000033  0.000034   \n",
       "2      0.000018  0.000015  0.000018  0.000018  0.000017  0.000018  0.000017   \n",
       "3      0.000011  0.000011  0.000011  0.000011  0.000012  0.000011  0.000011   \n",
       "4      0.000017  0.000015  0.000017  0.000017  0.000016  0.000017  0.000016   \n",
       "...         ...       ...       ...       ...       ...       ...       ...   \n",
       "50595  0.999656  0.000017  0.000017  0.000018  0.000017  0.000018  0.000017   \n",
       "50596  0.000017  0.000015  0.000016  0.000016  0.000016  0.000016  0.000017   \n",
       "50597  0.000017  0.000015  0.000016  0.000017  0.000017  0.000016  0.000016   \n",
       "50598  0.000032  0.000027  0.000031  0.000032  0.000032  0.000032  0.000030   \n",
       "50599  0.999669  0.000015  0.000017  0.000017  0.000017  0.000015  0.000017   \n",
       "\n",
       "              7         8         9        10        11        12        13  \\\n",
       "0      0.000014  0.000013  0.000013  0.000014  0.000013  0.000014  0.000014   \n",
       "1      0.000032  0.000033  0.000033  0.000032  0.999345  0.000034  0.000033   \n",
       "2      0.999662  0.000016  0.000016  0.000017  0.000016  0.000017  0.000017   \n",
       "3      0.000011  0.000011  0.000011  0.000011  0.000010  0.000011  0.000012   \n",
       "4      0.999674  0.000016  0.000017  0.000017  0.000015  0.000016  0.000017   \n",
       "...         ...       ...       ...       ...       ...       ...       ...   \n",
       "50595  0.000017  0.000017  0.000017  0.000018  0.000017  0.000018  0.000017   \n",
       "50596  0.000015  0.000015  0.000016  0.000016  0.000015  0.000016  0.999685   \n",
       "50597  0.999677  0.000016  0.000016  0.000016  0.000015  0.000016  0.000017   \n",
       "50598  0.000030  0.000029  0.000030  0.000032  0.000030  0.000031  0.000033   \n",
       "50599  0.000017  0.000016  0.000017  0.000017  0.000017  0.000018  0.000017   \n",
       "\n",
       "             14        15        16        17        18        19        20  \n",
       "0      0.000014  0.000013  0.000014  0.000013  0.000012  0.000013  0.000013  \n",
       "1      0.000034  0.000034  0.000032  0.000030  0.000030  0.000031  0.000032  \n",
       "2      0.000018  0.000017  0.000018  0.000016  0.000016  0.000016  0.000017  \n",
       "3      0.999779  0.000011  0.000012  0.000011  0.000010  0.000010  0.000011  \n",
       "4      0.000017  0.000017  0.000017  0.000016  0.000015  0.000016  0.000016  \n",
       "...         ...       ...       ...       ...       ...       ...       ...  \n",
       "50595  0.000018  0.000017  0.000017  0.000016  0.000016  0.000016  0.000018  \n",
       "50596  0.000017  0.000016  0.000016  0.000015  0.000015  0.000015  0.000015  \n",
       "50597  0.000017  0.000016  0.000017  0.000015  0.000016  0.000016  0.000015  \n",
       "50598  0.000032  0.000030  0.000032  0.000029  0.000029  0.000030  0.999389  \n",
       "50599  0.000017  0.000016  0.000016  0.000017  0.000017  0.000016  0.000016  \n",
       "\n",
       "[50600 rows x 21 columns]"
      ]
     },
     "execution_count": 222,
     "metadata": {},
     "output_type": "execute_result"
    }
   ],
   "source": [
    "pd.DataFrame(model_LOGREG.predict_proba(X_test))"
   ]
  },
  {
   "cell_type": "code",
   "execution_count": 223,
   "metadata": {},
   "outputs": [
    {
     "data": {
      "text/plain": [
       "'CIUDAD LINEAL'"
      ]
     },
     "execution_count": 223,
     "metadata": {},
     "output_type": "execute_result"
    }
   ],
   "source": [
    "predictions_LOGREG[0]"
   ]
  },
  {
   "cell_type": "code",
   "execution_count": 224,
   "metadata": {},
   "outputs": [
    {
     "data": {
      "text/plain": [
       "'MORATALAZ'"
      ]
     },
     "execution_count": 224,
     "metadata": {},
     "output_type": "execute_result"
    }
   ],
   "source": [
    "predictions_LOGREG[1]"
   ]
  },
  {
   "cell_type": "code",
   "execution_count": 225,
   "metadata": {},
   "outputs": [],
   "source": [
    "# For decode test patterns (just create a copy before transformation)\n",
    "# add probability by index\n",
    "# eliminate surface and density (although they would be worth us for other calculations)"
   ]
  },
  {
   "cell_type": "code",
   "execution_count": 226,
   "metadata": {},
   "outputs": [
    {
     "data": {
      "text/html": [
       "<div>\n",
       "<style scoped>\n",
       "    .dataframe tbody tr th:only-of-type {\n",
       "        vertical-align: middle;\n",
       "    }\n",
       "\n",
       "    .dataframe tbody tr th {\n",
       "        vertical-align: top;\n",
       "    }\n",
       "\n",
       "    .dataframe thead th {\n",
       "        text-align: right;\n",
       "    }\n",
       "</style>\n",
       "<table border=\"1\" class=\"dataframe\">\n",
       "  <thead>\n",
       "    <tr style=\"text-align: right;\">\n",
       "      <th></th>\n",
       "      <th>HORA</th>\n",
       "      <th>DIA_SEMANA</th>\n",
       "      <th>DISTRITO</th>\n",
       "      <th>SEXO</th>\n",
       "      <th>EDAD_APROX</th>\n",
       "    </tr>\n",
       "  </thead>\n",
       "  <tbody>\n",
       "    <tr>\n",
       "      <th>0</th>\n",
       "      <td>00:00</td>\n",
       "      <td>VIERNES</td>\n",
       "      <td>CHAMARTIN</td>\n",
       "      <td>HOMBRE</td>\n",
       "      <td>20</td>\n",
       "    </tr>\n",
       "  </tbody>\n",
       "</table>\n",
       "</div>"
      ],
      "text/plain": [
       "    HORA DIA_SEMANA   DISTRITO    SEXO EDAD_APROX\n",
       "0  00:00    VIERNES  CHAMARTIN  HOMBRE         20"
      ]
     },
     "execution_count": 226,
     "metadata": {},
     "output_type": "execute_result"
    }
   ],
   "source": [
    "df_accs.head(1)"
   ]
  },
  {
   "cell_type": "code",
   "execution_count": 227,
   "metadata": {},
   "outputs": [
    {
     "data": {
      "text/html": [
       "<div>\n",
       "<style scoped>\n",
       "    .dataframe tbody tr th:only-of-type {\n",
       "        vertical-align: middle;\n",
       "    }\n",
       "\n",
       "    .dataframe tbody tr th {\n",
       "        vertical-align: top;\n",
       "    }\n",
       "\n",
       "    .dataframe thead th {\n",
       "        text-align: right;\n",
       "    }\n",
       "</style>\n",
       "<table border=\"1\" class=\"dataframe\">\n",
       "  <thead>\n",
       "    <tr style=\"text-align: right;\">\n",
       "      <th></th>\n",
       "      <th>HORA</th>\n",
       "      <th>DIA_SEMANA</th>\n",
       "      <th>DISTRITO</th>\n",
       "      <th>SEXO</th>\n",
       "      <th>EDAD_APROX</th>\n",
       "    </tr>\n",
       "  </thead>\n",
       "  <tbody>\n",
       "    <tr>\n",
       "      <th>0</th>\n",
       "      <td>0</td>\n",
       "      <td>6</td>\n",
       "      <td>CHAMARTIN</td>\n",
       "      <td>0</td>\n",
       "      <td>3</td>\n",
       "    </tr>\n",
       "  </tbody>\n",
       "</table>\n",
       "</div>"
      ],
      "text/plain": [
       "   HORA  DIA_SEMANA   DISTRITO  SEXO  EDAD_APROX\n",
       "0     0           6  CHAMARTIN     0           3"
      ]
     },
     "execution_count": 227,
     "metadata": {},
     "output_type": "execute_result"
    }
   ],
   "source": [
    "df_accs_lab_ohe.head(1)"
   ]
  },
  {
   "cell_type": "code",
   "execution_count": 228,
   "metadata": {},
   "outputs": [],
   "source": [
    "######### Visual tests"
   ]
  },
  {
   "cell_type": "code",
   "execution_count": 229,
   "metadata": {},
   "outputs": [],
   "source": [
    "#del visual\n",
    "#del visual_sample"
   ]
  },
  {
   "cell_type": "code",
   "execution_count": 230,
   "metadata": {},
   "outputs": [],
   "source": [
    "visual = pd.DataFrame(model_LOGREG.predict_proba(X_test), columns=model_LOGREG.classes_)\n",
    "visual_sample = visual.sample(n=5000).reset_index(drop=True)"
   ]
  },
  {
   "cell_type": "code",
   "execution_count": 231,
   "metadata": {},
   "outputs": [
    {
     "data": {
      "text/plain": [
       "array(['VIERNES', 'SABADO', 'DOMINGO', 'LUNES', 'MARTES', 'MIERCOLES',\n",
       "       'JUEVES'], dtype=object)"
      ]
     },
     "execution_count": 231,
     "metadata": {},
     "output_type": "execute_result"
    }
   ],
   "source": [
    "df_accs[\"DIA_SEMANA\"].unique()"
   ]
  },
  {
   "cell_type": "code",
   "execution_count": 232,
   "metadata": {},
   "outputs": [],
   "source": [
    "# Categorical scatterplots:"
   ]
  },
  {
   "cell_type": "code",
   "execution_count": 233,
   "metadata": {},
   "outputs": [
    {
     "data": {
      "text/plain": [
       "<seaborn.axisgrid.FacetGrid at 0x7f8804cd47b8>"
      ]
     },
     "execution_count": 233,
     "metadata": {},
     "output_type": "execute_result"
    },
    {
     "data": {
      "image/png": "[encoded data removed]",
      "text/plain": [
       "<Figure size 360x360 with 1 Axes>"
      ]
     },
     "metadata": {
      "needs_background": "light"
     },
     "output_type": "display_data"
    }
   ],
   "source": [
    "sb.catplot(data=visual_sample,kind=\"strip\", orient=\"h\"\n",
    "          )"
   ]
  },
  {
   "cell_type": "code",
   "execution_count": 234,
   "metadata": {},
   "outputs": [],
   "source": [
    "# Categorical distribution plots:"
   ]
  },
  {
   "cell_type": "code",
   "execution_count": 235,
   "metadata": {},
   "outputs": [
    {
     "data": {
      "text/plain": [
       "<seaborn.axisgrid.FacetGrid at 0x7f8804ae5710>"
      ]
     },
     "execution_count": 235,
     "metadata": {},
     "output_type": "execute_result"
    },
    {
     "data": {
      "image/png": "[encoded data removed]",
      "text/plain": [
       "<Figure size 360x360 with 1 Axes>"
      ]
     },
     "metadata": {
      "needs_background": "light"
     },
     "output_type": "display_data"
    }
   ],
   "source": [
    "sb.catplot(data=visual_sample,kind=\"box\", orient=\"h\"\n",
    "          )"
   ]
  },
  {
   "cell_type": "code",
   "execution_count": 236,
   "metadata": {},
   "outputs": [
    {
     "name": "stderr",
     "output_type": "stream",
     "text": [
      "/home/dsc/anaconda3/lib/python3.7/site-packages/scipy/stats/stats.py:1713: FutureWarning: Using a non-tuple sequence for multidimensional indexing is deprecated; use `arr[tuple(seq)]` instead of `arr[seq]`. In the future this will be interpreted as an array index, `arr[np.array(seq)]`, which will result either in an error or a different result.\n",
      "  return np.add.reduce(sorted[indexer] * weights, axis=axis) / sumval\n"
     ]
    },
    {
     "data": {
      "text/plain": [
       "<seaborn.axisgrid.FacetGrid at 0x7f87fb1790f0>"
      ]
     },
     "execution_count": 236,
     "metadata": {},
     "output_type": "execute_result"
    },
    {
     "data": {
      "image/png": "[encoded data removed]",
      "text/plain": [
       "<Figure size 360x360 with 1 Axes>"
      ]
     },
     "metadata": {
      "needs_background": "light"
     },
     "output_type": "display_data"
    }
   ],
   "source": [
    "sb.catplot(data=visual_sample,kind=\"violin\", orient=\"h\"\n",
    "          )"
   ]
  },
  {
   "cell_type": "code",
   "execution_count": 237,
   "metadata": {},
   "outputs": [
    {
     "name": "stderr",
     "output_type": "stream",
     "text": [
      "'c' argument looks like a single numeric RGB or RGBA sequence, which should be avoided as value-mapping will have precedence in case its length matches with 'x' & 'y'.  Please use a 2-D array with a single row if you really want to specify the same RGB or RGBA value for all points.\n",
      "'c' argument looks like a single numeric RGB or RGBA sequence, which should be avoided as value-mapping will have precedence in case its length matches with 'x' & 'y'.  Please use a 2-D array with a single row if you really want to specify the same RGB or RGBA value for all points.\n",
      "'c' argument looks like a single numeric RGB or RGBA sequence, which should be avoided as value-mapping will have precedence in case its length matches with 'x' & 'y'.  Please use a 2-D array with a single row if you really want to specify the same RGB or RGBA value for all points.\n",
      "'c' argument looks like a single numeric RGB or RGBA sequence, which should be avoided as value-mapping will have precedence in case its length matches with 'x' & 'y'.  Please use a 2-D array with a single row if you really want to specify the same RGB or RGBA value for all points.\n",
      "'c' argument looks like a single numeric RGB or RGBA sequence, which should be avoided as value-mapping will have precedence in case its length matches with 'x' & 'y'.  Please use a 2-D array with a single row if you really want to specify the same RGB or RGBA value for all points.\n",
      "'c' argument looks like a single numeric RGB or RGBA sequence, which should be avoided as value-mapping will have precedence in case its length matches with 'x' & 'y'.  Please use a 2-D array with a single row if you really want to specify the same RGB or RGBA value for all points.\n",
      "'c' argument looks like a single numeric RGB or RGBA sequence, which should be avoided as value-mapping will have precedence in case its length matches with 'x' & 'y'.  Please use a 2-D array with a single row if you really want to specify the same RGB or RGBA value for all points.\n",
      "'c' argument looks like a single numeric RGB or RGBA sequence, which should be avoided as value-mapping will have precedence in case its length matches with 'x' & 'y'.  Please use a 2-D array with a single row if you really want to specify the same RGB or RGBA value for all points.\n",
      "'c' argument looks like a single numeric RGB or RGBA sequence, which should be avoided as value-mapping will have precedence in case its length matches with 'x' & 'y'.  Please use a 2-D array with a single row if you really want to specify the same RGB or RGBA value for all points.\n",
      "'c' argument looks like a single numeric RGB or RGBA sequence, which should be avoided as value-mapping will have precedence in case its length matches with 'x' & 'y'.  Please use a 2-D array with a single row if you really want to specify the same RGB or RGBA value for all points.\n",
      "'c' argument looks like a single numeric RGB or RGBA sequence, which should be avoided as value-mapping will have precedence in case its length matches with 'x' & 'y'.  Please use a 2-D array with a single row if you really want to specify the same RGB or RGBA value for all points.\n",
      "'c' argument looks like a single numeric RGB or RGBA sequence, which should be avoided as value-mapping will have precedence in case its length matches with 'x' & 'y'.  Please use a 2-D array with a single row if you really want to specify the same RGB or RGBA value for all points.\n",
      "'c' argument looks like a single numeric RGB or RGBA sequence, which should be avoided as value-mapping will have precedence in case its length matches with 'x' & 'y'.  Please use a 2-D array with a single row if you really want to specify the same RGB or RGBA value for all points.\n",
      "'c' argument looks like a single numeric RGB or RGBA sequence, which should be avoided as value-mapping will have precedence in case its length matches with 'x' & 'y'.  Please use a 2-D array with a single row if you really want to specify the same RGB or RGBA value for all points.\n",
      "'c' argument looks like a single numeric RGB or RGBA sequence, which should be avoided as value-mapping will have precedence in case its length matches with 'x' & 'y'.  Please use a 2-D array with a single row if you really want to specify the same RGB or RGBA value for all points.\n",
      "'c' argument looks like a single numeric RGB or RGBA sequence, which should be avoided as value-mapping will have precedence in case its length matches with 'x' & 'y'.  Please use a 2-D array with a single row if you really want to specify the same RGB or RGBA value for all points.\n",
      "'c' argument looks like a single numeric RGB or RGBA sequence, which should be avoided as value-mapping will have precedence in case its length matches with 'x' & 'y'.  Please use a 2-D array with a single row if you really want to specify the same RGB or RGBA value for all points.\n",
      "'c' argument looks like a single numeric RGB or RGBA sequence, which should be avoided as value-mapping will have precedence in case its length matches with 'x' & 'y'.  Please use a 2-D array with a single row if you really want to specify the same RGB or RGBA value for all points.\n",
      "'c' argument looks like a single numeric RGB or RGBA sequence, which should be avoided as value-mapping will have precedence in case its length matches with 'x' & 'y'.  Please use a 2-D array with a single row if you really want to specify the same RGB or RGBA value for all points.\n",
      "'c' argument looks like a single numeric RGB or RGBA sequence, which should be avoided as value-mapping will have precedence in case its length matches with 'x' & 'y'.  Please use a 2-D array with a single row if you really want to specify the same RGB or RGBA value for all points.\n",
      "'c' argument looks like a single numeric RGB or RGBA sequence, which should be avoided as value-mapping will have precedence in case its length matches with 'x' & 'y'.  Please use a 2-D array with a single row if you really want to specify the same RGB or RGBA value for all points.\n"
     ]
    },
    {
     "data": {
      "text/plain": [
       "<seaborn.axisgrid.FacetGrid at 0x7f87fadd0630>"
      ]
     },
     "execution_count": 237,
     "metadata": {},
     "output_type": "execute_result"
    },
    {
     "data": {
      "image/png": "[encoded data removed]",
      "text/plain": [
       "<Figure size 360x360 with 1 Axes>"
      ]
     },
     "metadata": {
      "needs_background": "light"
     },
     "output_type": "display_data"
    }
   ],
   "source": [
    "sb.catplot(data=visual_sample,kind=\"boxen\", orient=\"h\"\n",
    "          )"
   ]
  },
  {
   "cell_type": "code",
   "execution_count": 238,
   "metadata": {},
   "outputs": [],
   "source": [
    "# Categorical estimate plots:"
   ]
  },
  {
   "cell_type": "code",
   "execution_count": 239,
   "metadata": {},
   "outputs": [
    {
     "data": {
      "text/plain": [
       "<seaborn.axisgrid.FacetGrid at 0x7f87faecf908>"
      ]
     },
     "execution_count": 239,
     "metadata": {},
     "output_type": "execute_result"
    },
    {
     "data": {
      "image/png": "[encoded data removed]",
      "text/plain": [
       "<Figure size 360x360 with 1 Axes>"
      ]
     },
     "metadata": {
      "needs_background": "light"
     },
     "output_type": "display_data"
    }
   ],
   "source": [
    "sb.catplot(data=visual_sample,kind=\"point\", orient=\"h\"\n",
    "          )"
   ]
  },
  {
   "cell_type": "code",
   "execution_count": 240,
   "metadata": {},
   "outputs": [
    {
     "data": {
      "text/plain": [
       "<seaborn.axisgrid.FacetGrid at 0x7f87fac2f390>"
      ]
     },
     "execution_count": 240,
     "metadata": {},
     "output_type": "execute_result"
    },
    {
     "data": {
      "image/png": "[encoded data removed]",
      "text/plain": [
       "<Figure size 360x360 with 1 Axes>"
      ]
     },
     "metadata": {
      "needs_background": "light"
     },
     "output_type": "display_data"
    }
   ],
   "source": [
    "sb.catplot(data=visual_sample,kind=\"bar\", orient=\"h\"\n",
    "          )"
   ]
  },
  {
   "cell_type": "code",
   "execution_count": 241,
   "metadata": {},
   "outputs": [
    {
     "data": {
      "text/plain": [
       "(50600, 112)"
      ]
     },
     "execution_count": 241,
     "metadata": {},
     "output_type": "execute_result"
    }
   ],
   "source": [
    "X_test.shape"
   ]
  },
  {
   "cell_type": "code",
   "execution_count": 242,
   "metadata": {},
   "outputs": [
    {
     "data": {
      "text/plain": [
       "Index(['ARGANZUELA', 'BARAJAS', 'CARABANCHEL', 'CENTRO', 'CHAMARTIN',\n",
       "       'CHAMBERI', 'CIUDAD LINEAL', 'FUENCARRAL-EL PARDO', 'HORTALEZA',\n",
       "       'LATINA', 'MONCLOA-ARAVACA', 'MORATALAZ', 'PUENTE DE VALLECAS',\n",
       "       'RETIRO', 'SALAMANCA', 'SAN BLAS', 'TETUAN', 'USERA', 'VICALVARO',\n",
       "       'VILLA DE VALLECAS', 'VILLAVERDE'],\n",
       "      dtype='object')"
      ]
     },
     "execution_count": 242,
     "metadata": {},
     "output_type": "execute_result"
    }
   ],
   "source": [
    "visual_sample.columns"
   ]
  },
  {
   "cell_type": "code",
   "execution_count": 243,
   "metadata": {},
   "outputs": [],
   "source": [
    "### CHIMPUM FINAL"
   ]
  },
  {
   "cell_type": "code",
   "execution_count": 244,
   "metadata": {},
   "outputs": [
    {
     "name": "stdout",
     "output_type": "stream",
     "text": [
      "dom dic  1 22:45:59 CET 2019\r\n"
     ]
    }
   ],
   "source": [
    "!date"
   ]
  },
  {
   "cell_type": "code",
   "execution_count": null,
   "metadata": {},
   "outputs": [],
   "source": []
  },
  {
   "cell_type": "code",
   "execution_count": null,
   "metadata": {},
   "outputs": [],
   "source": []
  },
  {
   "cell_type": "code",
   "execution_count": null,
   "metadata": {},
   "outputs": [],
   "source": []
  },
  {
   "cell_type": "code",
   "execution_count": null,
   "metadata": {},
   "outputs": [],
   "source": []
  },
  {
   "cell_type": "code",
   "execution_count": null,
   "metadata": {},
   "outputs": [],
   "source": []
  }
 ],
 "metadata": {
  "kernelspec": {
   "display_name": "Python 3",
   "language": "python",
   "name": "python3"
  },
  "language_info": {
   "codemirror_mode": {
    "name": "ipython",
    "version": 3
   },
   "file_extension": ".py",
   "mimetype": "text/x-python",
   "name": "python",
   "nbconvert_exporter": "python",
   "pygments_lexer": "ipython3",
   "version": "3.7.3"
  }
 },
 "nbformat": 4,
 "nbformat_minor": 2
}
