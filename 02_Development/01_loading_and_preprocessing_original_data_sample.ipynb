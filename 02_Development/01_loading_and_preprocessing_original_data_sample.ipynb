{
 "cells": [
  {
   "cell_type": "code",
   "execution_count": 1,
   "metadata": {},
   "outputs": [
    {
     "name": "stdout",
     "output_type": "stream",
     "text": [
      "dom dic  1 16:06:26 CET 2019\r\n"
     ]
    }
   ],
   "source": [
    "!date"
   ]
  },
  {
   "cell_type": "code",
   "execution_count": 2,
   "metadata": {},
   "outputs": [
    {
     "name": "stdout",
     "output_type": "stream",
     "text": [
      "\n",
      "Automagic is ON, % prefix IS NOT needed for line magics.\n"
     ]
    }
   ],
   "source": [
    "# Active system's automagic\n",
    "%automagic on"
   ]
  },
  {
   "cell_type": "code",
   "execution_count": 3,
   "metadata": {},
   "outputs": [],
   "source": [
    "# Load work environment"
   ]
  },
  {
   "cell_type": "code",
   "execution_count": 4,
   "metadata": {},
   "outputs": [
    {
     "data": {
      "text/plain": [
       "'/home/dsc/Repos/TFM_Accident_reduction_plan_in_the_city_of_Madrid/03_Presentation'"
      ]
     },
     "execution_count": 4,
     "metadata": {},
     "output_type": "execute_result"
    }
   ],
   "source": [
    "import os\n",
    "os.getcwd()"
   ]
  },
  {
   "cell_type": "code",
   "execution_count": 5,
   "metadata": {},
   "outputs": [
    {
     "name": "stdout",
     "output_type": "stream",
     "text": [
      "01_loading_and_preprocessing_original_data.ipynb\r\n",
      "01_OUT_csv_filesexport_df_series_tiempo.csv\r\n"
     ]
    }
   ],
   "source": [
    "folder = '/home/dsc/Repos/TFM_Accident_reduction_plan_in_the_city_of_Madrid/03_Presentation'\n",
    "!ls {folder}"
   ]
  },
  {
   "cell_type": "code",
   "execution_count": 6,
   "metadata": {},
   "outputs": [
    {
     "data": {
      "text/plain": [
       "'/home/dsc/Repos/TFM_Accident_reduction_plan_in_the_city_of_Madrid/03_Presentation'"
      ]
     },
     "execution_count": 6,
     "metadata": {},
     "output_type": "execute_result"
    }
   ],
   "source": [
    "os.chdir(folder)\n",
    "os.getcwd()"
   ]
  },
  {
   "cell_type": "code",
   "execution_count": 7,
   "metadata": {},
   "outputs": [],
   "source": [
    "# Load library for work and analitics data\n",
    "import pandas as pd\n",
    "import numpy as np"
   ]
  },
  {
   "cell_type": "code",
   "execution_count": 8,
   "metadata": {},
   "outputs": [],
   "source": [
    "# Read from excel file sample with column names stipulated and transform them\n",
    "df_from_xls = pd.read_excel('../01_Originals_data/2010_Accidentalidad.xlsx',\n",
    "                     sheet_name='LISTADO DE ACCIDENTES MENSUALES',\n",
    "                     index_col=None,\n",
    "                     names=['FECHA', 'RANGO_HORARIO', 'DIA_SEMANA', 'DISTRITO', 'BORRAR', 'BORRAR', 'BORRAR', \\\n",
    "                            'BORRAR', 'BORRAR', 'BORRAR', 'BORRAR', 'BORRAR', 'BORRAR', 'BORRAR', 'BORRAR', \\\n",
    "                            'BORRAR', 'BORRAR', 'BORRAR', 'BORRAR', 'NUM_PERSONAS', 'TIPO_ACCIDENTE', \\\n",
    "                            'TIPO_VEHICULO', 'TIPO_PERSONA', 'SEXO', 'LESIVIDAD', 'TRAMO_EDAD'])"
   ]
  },
  {
   "cell_type": "code",
   "execution_count": 9,
   "metadata": {},
   "outputs": [
    {
     "data": {
      "text/html": [
       "<div>\n",
       "<style scoped>\n",
       "    .dataframe tbody tr th:only-of-type {\n",
       "        vertical-align: middle;\n",
       "    }\n",
       "\n",
       "    .dataframe tbody tr th {\n",
       "        vertical-align: top;\n",
       "    }\n",
       "\n",
       "    .dataframe thead th {\n",
       "        text-align: right;\n",
       "    }\n",
       "</style>\n",
       "<table border=\"1\" class=\"dataframe\">\n",
       "  <thead>\n",
       "    <tr style=\"text-align: right;\">\n",
       "      <th></th>\n",
       "      <th>FECHA</th>\n",
       "      <th>RANGO_HORARIO</th>\n",
       "      <th>DIA_SEMANA</th>\n",
       "      <th>DISTRITO</th>\n",
       "      <th>BORRAR</th>\n",
       "      <th>BORRAR.1</th>\n",
       "      <th>BORRAR.2</th>\n",
       "      <th>BORRAR.3</th>\n",
       "      <th>BORRAR.4</th>\n",
       "      <th>BORRAR.5</th>\n",
       "      <th>...</th>\n",
       "      <th>BORRAR.12</th>\n",
       "      <th>BORRAR.13</th>\n",
       "      <th>BORRAR.14</th>\n",
       "      <th>NUM_PERSONAS</th>\n",
       "      <th>TIPO_ACCIDENTE</th>\n",
       "      <th>TIPO_VEHICULO</th>\n",
       "      <th>TIPO_PERSONA</th>\n",
       "      <th>SEXO</th>\n",
       "      <th>LESIVIDAD</th>\n",
       "      <th>TRAMO_EDAD</th>\n",
       "    </tr>\n",
       "  </thead>\n",
       "  <tbody>\n",
       "    <tr>\n",
       "      <th>0</th>\n",
       "      <td>2010-01-01</td>\n",
       "      <td>DE 00:00 A 00:59</td>\n",
       "      <td>VIERNES</td>\n",
       "      <td>CHAMARTIN</td>\n",
       "      <td>CALLE DE CARTAGENA NUM                        ...</td>\n",
       "      <td>104</td>\n",
       "      <td>2010/135</td>\n",
       "      <td>NO</td>\n",
       "      <td>NO</td>\n",
       "      <td>SI</td>\n",
       "      <td>...</td>\n",
       "      <td>NO</td>\n",
       "      <td>NO</td>\n",
       "      <td>NO</td>\n",
       "      <td>1</td>\n",
       "      <td>COLISIÓN DOBLE</td>\n",
       "      <td>TURISMO</td>\n",
       "      <td>CONDUCTOR</td>\n",
       "      <td>HOMBRE</td>\n",
       "      <td>IL</td>\n",
       "      <td>DE 18 A 20 AÑOS</td>\n",
       "    </tr>\n",
       "    <tr>\n",
       "      <th>1</th>\n",
       "      <td>2010-01-01</td>\n",
       "      <td>DE 00:00 A 00:59</td>\n",
       "      <td>VIERNES</td>\n",
       "      <td>CHAMARTIN</td>\n",
       "      <td>CALLE DE CARTAGENA NUM                        ...</td>\n",
       "      <td>104</td>\n",
       "      <td>2010/135</td>\n",
       "      <td>NO</td>\n",
       "      <td>NO</td>\n",
       "      <td>SI</td>\n",
       "      <td>...</td>\n",
       "      <td>NO</td>\n",
       "      <td>NO</td>\n",
       "      <td>NO</td>\n",
       "      <td>1</td>\n",
       "      <td>COLISIÓN DOBLE</td>\n",
       "      <td>TURISMO</td>\n",
       "      <td>CONDUCTOR</td>\n",
       "      <td>HOMBRE</td>\n",
       "      <td>IL</td>\n",
       "      <td>DE 50 A 54 AÑOS</td>\n",
       "    </tr>\n",
       "    <tr>\n",
       "      <th>2</th>\n",
       "      <td>2010-01-01</td>\n",
       "      <td>DE 00:00 A 00:59</td>\n",
       "      <td>VIERNES</td>\n",
       "      <td>CHAMARTIN</td>\n",
       "      <td>CALLE DE CARTAGENA NUM                        ...</td>\n",
       "      <td>104</td>\n",
       "      <td>2010/135</td>\n",
       "      <td>NO</td>\n",
       "      <td>NO</td>\n",
       "      <td>SI</td>\n",
       "      <td>...</td>\n",
       "      <td>NO</td>\n",
       "      <td>NO</td>\n",
       "      <td>NO</td>\n",
       "      <td>1</td>\n",
       "      <td>COLISIÓN DOBLE</td>\n",
       "      <td>TURISMO</td>\n",
       "      <td>VIAJERO</td>\n",
       "      <td>MUJER</td>\n",
       "      <td>HL</td>\n",
       "      <td>DE 40 A 44 AÑOS</td>\n",
       "    </tr>\n",
       "    <tr>\n",
       "      <th>3</th>\n",
       "      <td>2010-01-01</td>\n",
       "      <td>DE 1:00 A 1:59</td>\n",
       "      <td>VIERNES</td>\n",
       "      <td>PUENTE DE VALLECAS</td>\n",
       "      <td>AUTOVIA  M-30 CALZADA 2 KM.                   ...</td>\n",
       "      <td>10200</td>\n",
       "      <td>2010/94</td>\n",
       "      <td>NO</td>\n",
       "      <td>NO</td>\n",
       "      <td>NO</td>\n",
       "      <td>...</td>\n",
       "      <td>NO</td>\n",
       "      <td>NO</td>\n",
       "      <td>NO</td>\n",
       "      <td>7</td>\n",
       "      <td>COLISIÓN MÚLTIPLE</td>\n",
       "      <td>NO ASIGNADO</td>\n",
       "      <td>VIAJERO</td>\n",
       "      <td>MUJER</td>\n",
       "      <td>HL</td>\n",
       "      <td>DE 25 A 29 AÑOS</td>\n",
       "    </tr>\n",
       "    <tr>\n",
       "      <th>4</th>\n",
       "      <td>2010-01-01</td>\n",
       "      <td>DE 1:00 A 1:59</td>\n",
       "      <td>VIERNES</td>\n",
       "      <td>PUENTE DE VALLECAS</td>\n",
       "      <td>AUTOVIA  M-30 CALZADA 2 KM.                   ...</td>\n",
       "      <td>10200</td>\n",
       "      <td>2010/94</td>\n",
       "      <td>NO</td>\n",
       "      <td>NO</td>\n",
       "      <td>NO</td>\n",
       "      <td>...</td>\n",
       "      <td>NO</td>\n",
       "      <td>NO</td>\n",
       "      <td>NO</td>\n",
       "      <td>7</td>\n",
       "      <td>COLISIÓN MÚLTIPLE</td>\n",
       "      <td>NO ASIGNADO</td>\n",
       "      <td>VIAJERO</td>\n",
       "      <td>MUJER</td>\n",
       "      <td>HL</td>\n",
       "      <td>DE 30 A 34 ANOS</td>\n",
       "    </tr>\n",
       "  </tbody>\n",
       "</table>\n",
       "<p>5 rows × 26 columns</p>\n",
       "</div>"
      ],
      "text/plain": [
       "       FECHA     RANGO_HORARIO DIA_SEMANA                        DISTRITO  \\\n",
       "0 2010-01-01  DE 00:00 A 00:59    VIERNES  CHAMARTIN                        \n",
       "1 2010-01-01  DE 00:00 A 00:59    VIERNES  CHAMARTIN                        \n",
       "2 2010-01-01  DE 00:00 A 00:59    VIERNES  CHAMARTIN                        \n",
       "3 2010-01-01    DE 1:00 A 1:59    VIERNES  PUENTE DE VALLECAS               \n",
       "4 2010-01-01    DE 1:00 A 1:59    VIERNES  PUENTE DE VALLECAS               \n",
       "\n",
       "                                              BORRAR BORRAR.1  BORRAR.2  \\\n",
       "0  CALLE DE CARTAGENA NUM                        ...      104  2010/135   \n",
       "1  CALLE DE CARTAGENA NUM                        ...      104  2010/135   \n",
       "2  CALLE DE CARTAGENA NUM                        ...      104  2010/135   \n",
       "3  AUTOVIA  M-30 CALZADA 2 KM.                   ...    10200   2010/94   \n",
       "4  AUTOVIA  M-30 CALZADA 2 KM.                   ...    10200   2010/94   \n",
       "\n",
       "  BORRAR.3 BORRAR.4 BORRAR.5  ... BORRAR.12 BORRAR.13 BORRAR.14 NUM_PERSONAS  \\\n",
       "0       NO       NO       SI  ...        NO        NO        NO            1   \n",
       "1       NO       NO       SI  ...        NO        NO        NO            1   \n",
       "2       NO       NO       SI  ...        NO        NO        NO            1   \n",
       "3       NO       NO       NO  ...        NO        NO        NO            7   \n",
       "4       NO       NO       NO  ...        NO        NO        NO            7   \n",
       "\n",
       "                             TIPO_ACCIDENTE  \\\n",
       "0  COLISIÓN DOBLE                             \n",
       "1  COLISIÓN DOBLE                             \n",
       "2  COLISIÓN DOBLE                             \n",
       "3  COLISIÓN MÚLTIPLE                          \n",
       "4  COLISIÓN MÚLTIPLE                          \n",
       "\n",
       "                              TIPO_VEHICULO  \\\n",
       "0  TURISMO                                    \n",
       "1  TURISMO                                    \n",
       "2  TURISMO                                    \n",
       "3                               NO ASIGNADO   \n",
       "4                               NO ASIGNADO   \n",
       "\n",
       "                               TIPO_PERSONA    SEXO  \\\n",
       "0                                 CONDUCTOR  HOMBRE   \n",
       "1                                 CONDUCTOR  HOMBRE   \n",
       "2  VIAJERO                                    MUJER   \n",
       "3  VIAJERO                                    MUJER   \n",
       "4  VIAJERO                                    MUJER   \n",
       "\n",
       "                                  LESIVIDAD       TRAMO_EDAD  \n",
       "0  IL                                        DE 18 A 20 AÑOS  \n",
       "1  IL                                        DE 50 A 54 AÑOS  \n",
       "2  HL                                        DE 40 A 44 AÑOS  \n",
       "3  HL                                        DE 25 A 29 AÑOS  \n",
       "4  HL                                        DE 30 A 34 ANOS  \n",
       "\n",
       "[5 rows x 26 columns]"
      ]
     },
     "execution_count": 9,
     "metadata": {},
     "output_type": "execute_result"
    }
   ],
   "source": [
    "# View first rows\n",
    "df_from_xls.head()"
   ]
  },
  {
   "cell_type": "code",
   "execution_count": 10,
   "metadata": {},
   "outputs": [
    {
     "data": {
      "text/plain": [
       "(26578, 26)"
      ]
     },
     "execution_count": 10,
     "metadata": {},
     "output_type": "execute_result"
    }
   ],
   "source": [
    "# Check dimesion\n",
    "df_from_xls.shape"
   ]
  },
  {
   "cell_type": "code",
   "execution_count": 11,
   "metadata": {},
   "outputs": [
    {
     "data": {
      "text/plain": [
       "874"
      ]
     },
     "execution_count": 11,
     "metadata": {},
     "output_type": "execute_result"
    }
   ],
   "source": [
    "# Check duplicted values\n",
    "df_from_xls.duplicated().sum()"
   ]
  },
  {
   "cell_type": "code",
   "execution_count": 12,
   "metadata": {},
   "outputs": [
    {
     "data": {
      "text/plain": [
       "FECHA             0\n",
       "RANGO_HORARIO     0\n",
       "DIA_SEMANA        0\n",
       "DISTRITO          0\n",
       "BORRAR            0\n",
       "BORRAR.1          0\n",
       "BORRAR.2          0\n",
       "BORRAR.3          0\n",
       "BORRAR.4          0\n",
       "BORRAR.5          0\n",
       "BORRAR.6          0\n",
       "BORRAR.7          0\n",
       "BORRAR.8          0\n",
       "BORRAR.9          0\n",
       "BORRAR.10         0\n",
       "BORRAR.11         0\n",
       "BORRAR.12         0\n",
       "BORRAR.13         0\n",
       "BORRAR.14         0\n",
       "NUM_PERSONAS      0\n",
       "TIPO_ACCIDENTE    0\n",
       "TIPO_VEHICULO     0\n",
       "TIPO_PERSONA      0\n",
       "SEXO              0\n",
       "LESIVIDAD         0\n",
       "TRAMO_EDAD        0\n",
       "dtype: int64"
      ]
     },
     "execution_count": 12,
     "metadata": {},
     "output_type": "execute_result"
    }
   ],
   "source": [
    "# Comprobar valores nulos\n",
    "df_from_xls.isnull().sum()"
   ]
  },
  {
   "cell_type": "code",
   "execution_count": 13,
   "metadata": {},
   "outputs": [],
   "source": [
    "# Delete surplus columns that start with:\n",
    "filtro_borrar = [col for col in df_from_xls if col.startswith('BORRAR')]\n",
    "df_from_xls = df_from_xls.drop(columns=filtro_borrar)"
   ]
  },
  {
   "cell_type": "code",
   "execution_count": 14,
   "metadata": {},
   "outputs": [
    {
     "data": {
      "text/plain": [
       "(26578, 11)"
      ]
     },
     "execution_count": 14,
     "metadata": {},
     "output_type": "execute_result"
    }
   ],
   "source": [
    "# Check dimesion\n",
    "df_from_xls.shape"
   ]
  },
  {
   "cell_type": "code",
   "execution_count": 15,
   "metadata": {},
   "outputs": [
    {
     "data": {
      "text/html": [
       "<div>\n",
       "<style scoped>\n",
       "    .dataframe tbody tr th:only-of-type {\n",
       "        vertical-align: middle;\n",
       "    }\n",
       "\n",
       "    .dataframe tbody tr th {\n",
       "        vertical-align: top;\n",
       "    }\n",
       "\n",
       "    .dataframe thead th {\n",
       "        text-align: right;\n",
       "    }\n",
       "</style>\n",
       "<table border=\"1\" class=\"dataframe\">\n",
       "  <thead>\n",
       "    <tr style=\"text-align: right;\">\n",
       "      <th></th>\n",
       "      <th>FECHA</th>\n",
       "      <th>RANGO_HORARIO</th>\n",
       "      <th>DIA_SEMANA</th>\n",
       "      <th>DISTRITO</th>\n",
       "      <th>NUM_PERSONAS</th>\n",
       "      <th>TIPO_ACCIDENTE</th>\n",
       "      <th>TIPO_VEHICULO</th>\n",
       "      <th>TIPO_PERSONA</th>\n",
       "      <th>SEXO</th>\n",
       "      <th>LESIVIDAD</th>\n",
       "      <th>TRAMO_EDAD</th>\n",
       "    </tr>\n",
       "  </thead>\n",
       "  <tbody>\n",
       "    <tr>\n",
       "      <th>0</th>\n",
       "      <td>2010-01-01</td>\n",
       "      <td>DE 00:00 A 00:59</td>\n",
       "      <td>VIERNES</td>\n",
       "      <td>CHAMARTIN</td>\n",
       "      <td>1</td>\n",
       "      <td>COLISIÓN DOBLE</td>\n",
       "      <td>TURISMO</td>\n",
       "      <td>CONDUCTOR</td>\n",
       "      <td>HOMBRE</td>\n",
       "      <td>IL</td>\n",
       "      <td>DE 18 A 20 AÑOS</td>\n",
       "    </tr>\n",
       "    <tr>\n",
       "      <th>1</th>\n",
       "      <td>2010-01-01</td>\n",
       "      <td>DE 00:00 A 00:59</td>\n",
       "      <td>VIERNES</td>\n",
       "      <td>CHAMARTIN</td>\n",
       "      <td>1</td>\n",
       "      <td>COLISIÓN DOBLE</td>\n",
       "      <td>TURISMO</td>\n",
       "      <td>CONDUCTOR</td>\n",
       "      <td>HOMBRE</td>\n",
       "      <td>IL</td>\n",
       "      <td>DE 50 A 54 AÑOS</td>\n",
       "    </tr>\n",
       "    <tr>\n",
       "      <th>2</th>\n",
       "      <td>2010-01-01</td>\n",
       "      <td>DE 00:00 A 00:59</td>\n",
       "      <td>VIERNES</td>\n",
       "      <td>CHAMARTIN</td>\n",
       "      <td>1</td>\n",
       "      <td>COLISIÓN DOBLE</td>\n",
       "      <td>TURISMO</td>\n",
       "      <td>VIAJERO</td>\n",
       "      <td>MUJER</td>\n",
       "      <td>HL</td>\n",
       "      <td>DE 40 A 44 AÑOS</td>\n",
       "    </tr>\n",
       "    <tr>\n",
       "      <th>3</th>\n",
       "      <td>2010-01-01</td>\n",
       "      <td>DE 1:00 A 1:59</td>\n",
       "      <td>VIERNES</td>\n",
       "      <td>PUENTE DE VALLECAS</td>\n",
       "      <td>7</td>\n",
       "      <td>COLISIÓN MÚLTIPLE</td>\n",
       "      <td>NO ASIGNADO</td>\n",
       "      <td>VIAJERO</td>\n",
       "      <td>MUJER</td>\n",
       "      <td>HL</td>\n",
       "      <td>DE 25 A 29 AÑOS</td>\n",
       "    </tr>\n",
       "    <tr>\n",
       "      <th>4</th>\n",
       "      <td>2010-01-01</td>\n",
       "      <td>DE 1:00 A 1:59</td>\n",
       "      <td>VIERNES</td>\n",
       "      <td>PUENTE DE VALLECAS</td>\n",
       "      <td>7</td>\n",
       "      <td>COLISIÓN MÚLTIPLE</td>\n",
       "      <td>NO ASIGNADO</td>\n",
       "      <td>VIAJERO</td>\n",
       "      <td>MUJER</td>\n",
       "      <td>HL</td>\n",
       "      <td>DE 30 A 34 ANOS</td>\n",
       "    </tr>\n",
       "    <tr>\n",
       "      <th>5</th>\n",
       "      <td>2010-01-01</td>\n",
       "      <td>DE 1:00 A 1:59</td>\n",
       "      <td>VIERNES</td>\n",
       "      <td>PUENTE DE VALLECAS</td>\n",
       "      <td>7</td>\n",
       "      <td>COLISIÓN MÚLTIPLE</td>\n",
       "      <td>NO ASIGNADO</td>\n",
       "      <td>VIAJERO</td>\n",
       "      <td>MUJER</td>\n",
       "      <td>HL</td>\n",
       "      <td>DE 25 A 29 AÑOS</td>\n",
       "    </tr>\n",
       "    <tr>\n",
       "      <th>6</th>\n",
       "      <td>2010-01-01</td>\n",
       "      <td>DE 1:00 A 1:59</td>\n",
       "      <td>VIERNES</td>\n",
       "      <td>PUENTE DE VALLECAS</td>\n",
       "      <td>7</td>\n",
       "      <td>COLISIÓN MÚLTIPLE</td>\n",
       "      <td>NO ASIGNADO</td>\n",
       "      <td>VIAJERO</td>\n",
       "      <td>MUJER</td>\n",
       "      <td>HL</td>\n",
       "      <td>DE 25 A 29 AÑOS</td>\n",
       "    </tr>\n",
       "    <tr>\n",
       "      <th>7</th>\n",
       "      <td>2010-01-01</td>\n",
       "      <td>DE 1:00 A 1:59</td>\n",
       "      <td>VIERNES</td>\n",
       "      <td>PUENTE DE VALLECAS</td>\n",
       "      <td>7</td>\n",
       "      <td>COLISIÓN MÚLTIPLE</td>\n",
       "      <td>TURISMO</td>\n",
       "      <td>CONDUCTOR</td>\n",
       "      <td>HOMBRE</td>\n",
       "      <td>IL</td>\n",
       "      <td>DE 25 A 29 AÑOS</td>\n",
       "    </tr>\n",
       "    <tr>\n",
       "      <th>8</th>\n",
       "      <td>2010-01-01</td>\n",
       "      <td>DE 1:00 A 1:59</td>\n",
       "      <td>VIERNES</td>\n",
       "      <td>PUENTE DE VALLECAS</td>\n",
       "      <td>7</td>\n",
       "      <td>COLISIÓN MÚLTIPLE</td>\n",
       "      <td>TURISMO</td>\n",
       "      <td>CONDUCTOR</td>\n",
       "      <td>MUJER</td>\n",
       "      <td>HL</td>\n",
       "      <td>DE 25 A 29 AÑOS</td>\n",
       "    </tr>\n",
       "    <tr>\n",
       "      <th>9</th>\n",
       "      <td>2010-01-01</td>\n",
       "      <td>DE 1:00 A 1:59</td>\n",
       "      <td>VIERNES</td>\n",
       "      <td>PUENTE DE VALLECAS</td>\n",
       "      <td>7</td>\n",
       "      <td>COLISIÓN MÚLTIPLE</td>\n",
       "      <td>TURISMO</td>\n",
       "      <td>VIAJERO</td>\n",
       "      <td>MUJER</td>\n",
       "      <td>HL</td>\n",
       "      <td>DE 21 A 24 AÑOS</td>\n",
       "    </tr>\n",
       "    <tr>\n",
       "      <th>10</th>\n",
       "      <td>2010-01-01</td>\n",
       "      <td>DE 1:00 A 1:59</td>\n",
       "      <td>VIERNES</td>\n",
       "      <td>PUENTE DE VALLECAS</td>\n",
       "      <td>7</td>\n",
       "      <td>COLISIÓN MÚLTIPLE</td>\n",
       "      <td>FURGONETA</td>\n",
       "      <td>CONDUCTOR</td>\n",
       "      <td>HOMBRE</td>\n",
       "      <td>HL</td>\n",
       "      <td>DE 25 A 29 AÑOS</td>\n",
       "    </tr>\n",
       "    <tr>\n",
       "      <th>11</th>\n",
       "      <td>2010-01-01</td>\n",
       "      <td>DE 2:00 A 2:59</td>\n",
       "      <td>VIERNES</td>\n",
       "      <td>CHAMBERI</td>\n",
       "      <td>1</td>\n",
       "      <td>COLISIÓN DOBLE</td>\n",
       "      <td>MOTOCICLETA</td>\n",
       "      <td>CONDUCTOR</td>\n",
       "      <td>HOMBRE</td>\n",
       "      <td>HL</td>\n",
       "      <td>DE 35 A 39 AÑOS</td>\n",
       "    </tr>\n",
       "    <tr>\n",
       "      <th>12</th>\n",
       "      <td>2010-01-01</td>\n",
       "      <td>DE 2:00 A 2:59</td>\n",
       "      <td>VIERNES</td>\n",
       "      <td>CHAMBERI</td>\n",
       "      <td>1</td>\n",
       "      <td>COLISIÓN DOBLE</td>\n",
       "      <td>AUTO-TAXI</td>\n",
       "      <td>CONDUCTOR</td>\n",
       "      <td>HOMBRE</td>\n",
       "      <td>IL</td>\n",
       "      <td>DE 35 A 39 AÑOS</td>\n",
       "    </tr>\n",
       "    <tr>\n",
       "      <th>13</th>\n",
       "      <td>2010-01-01</td>\n",
       "      <td>DE 4:00 A 4:59</td>\n",
       "      <td>VIERNES</td>\n",
       "      <td>RETIRO</td>\n",
       "      <td>7</td>\n",
       "      <td>COLISIÓN MÚLTIPLE</td>\n",
       "      <td>NO ASIGNADO</td>\n",
       "      <td>TESTIGO</td>\n",
       "      <td>HOMBRE</td>\n",
       "      <td>IL</td>\n",
       "      <td>DE 25 A 29 AÑOS</td>\n",
       "    </tr>\n",
       "    <tr>\n",
       "      <th>14</th>\n",
       "      <td>2010-01-01</td>\n",
       "      <td>DE 4:00 A 4:59</td>\n",
       "      <td>VIERNES</td>\n",
       "      <td>RETIRO</td>\n",
       "      <td>7</td>\n",
       "      <td>COLISIÓN MÚLTIPLE</td>\n",
       "      <td>NO ASIGNADO</td>\n",
       "      <td>TESTIGO</td>\n",
       "      <td>HOMBRE</td>\n",
       "      <td>IL</td>\n",
       "      <td>DE 30 A 34 ANOS</td>\n",
       "    </tr>\n",
       "    <tr>\n",
       "      <th>15</th>\n",
       "      <td>2010-01-01</td>\n",
       "      <td>DE 4:00 A 4:59</td>\n",
       "      <td>VIERNES</td>\n",
       "      <td>RETIRO</td>\n",
       "      <td>7</td>\n",
       "      <td>COLISIÓN MÚLTIPLE</td>\n",
       "      <td>TURISMO</td>\n",
       "      <td>CONDUCTOR</td>\n",
       "      <td>HOMBRE</td>\n",
       "      <td>HL</td>\n",
       "      <td>DE 25 A 29 AÑOS</td>\n",
       "    </tr>\n",
       "    <tr>\n",
       "      <th>16</th>\n",
       "      <td>2010-01-01</td>\n",
       "      <td>DE 4:00 A 4:59</td>\n",
       "      <td>VIERNES</td>\n",
       "      <td>RETIRO</td>\n",
       "      <td>7</td>\n",
       "      <td>COLISIÓN MÚLTIPLE</td>\n",
       "      <td>TURISMO</td>\n",
       "      <td>VIAJERO</td>\n",
       "      <td>HOMBRE</td>\n",
       "      <td>IL</td>\n",
       "      <td>DE 30 A 34 ANOS</td>\n",
       "    </tr>\n",
       "    <tr>\n",
       "      <th>17</th>\n",
       "      <td>2010-01-01</td>\n",
       "      <td>DE 4:00 A 4:59</td>\n",
       "      <td>VIERNES</td>\n",
       "      <td>RETIRO</td>\n",
       "      <td>7</td>\n",
       "      <td>COLISIÓN MÚLTIPLE</td>\n",
       "      <td>TURISMO</td>\n",
       "      <td>VIAJERO</td>\n",
       "      <td>MUJER</td>\n",
       "      <td>IL</td>\n",
       "      <td>DE 18 A 20 AÑOS</td>\n",
       "    </tr>\n",
       "    <tr>\n",
       "      <th>18</th>\n",
       "      <td>2010-01-01</td>\n",
       "      <td>DE 4:00 A 4:59</td>\n",
       "      <td>VIERNES</td>\n",
       "      <td>RETIRO</td>\n",
       "      <td>7</td>\n",
       "      <td>COLISIÓN MÚLTIPLE</td>\n",
       "      <td>TURISMO</td>\n",
       "      <td>VIAJERO</td>\n",
       "      <td>MUJER</td>\n",
       "      <td>HG</td>\n",
       "      <td>DE 21 A 24 AÑOS</td>\n",
       "    </tr>\n",
       "    <tr>\n",
       "      <th>19</th>\n",
       "      <td>2010-01-01</td>\n",
       "      <td>DE 4:00 A 4:59</td>\n",
       "      <td>VIERNES</td>\n",
       "      <td>RETIRO</td>\n",
       "      <td>7</td>\n",
       "      <td>COLISIÓN MÚLTIPLE</td>\n",
       "      <td>TURISMO</td>\n",
       "      <td>VIAJERO</td>\n",
       "      <td>MUJER</td>\n",
       "      <td>HL</td>\n",
       "      <td>DE 21 A 24 AÑOS</td>\n",
       "    </tr>\n",
       "  </tbody>\n",
       "</table>\n",
       "</div>"
      ],
      "text/plain": [
       "        FECHA     RANGO_HORARIO DIA_SEMANA                        DISTRITO  \\\n",
       "0  2010-01-01  DE 00:00 A 00:59    VIERNES  CHAMARTIN                        \n",
       "1  2010-01-01  DE 00:00 A 00:59    VIERNES  CHAMARTIN                        \n",
       "2  2010-01-01  DE 00:00 A 00:59    VIERNES  CHAMARTIN                        \n",
       "3  2010-01-01    DE 1:00 A 1:59    VIERNES  PUENTE DE VALLECAS               \n",
       "4  2010-01-01    DE 1:00 A 1:59    VIERNES  PUENTE DE VALLECAS               \n",
       "5  2010-01-01    DE 1:00 A 1:59    VIERNES  PUENTE DE VALLECAS               \n",
       "6  2010-01-01    DE 1:00 A 1:59    VIERNES  PUENTE DE VALLECAS               \n",
       "7  2010-01-01    DE 1:00 A 1:59    VIERNES  PUENTE DE VALLECAS               \n",
       "8  2010-01-01    DE 1:00 A 1:59    VIERNES  PUENTE DE VALLECAS               \n",
       "9  2010-01-01    DE 1:00 A 1:59    VIERNES  PUENTE DE VALLECAS               \n",
       "10 2010-01-01    DE 1:00 A 1:59    VIERNES  PUENTE DE VALLECAS               \n",
       "11 2010-01-01    DE 2:00 A 2:59    VIERNES  CHAMBERI                         \n",
       "12 2010-01-01    DE 2:00 A 2:59    VIERNES  CHAMBERI                         \n",
       "13 2010-01-01    DE 4:00 A 4:59    VIERNES  RETIRO                           \n",
       "14 2010-01-01    DE 4:00 A 4:59    VIERNES  RETIRO                           \n",
       "15 2010-01-01    DE 4:00 A 4:59    VIERNES  RETIRO                           \n",
       "16 2010-01-01    DE 4:00 A 4:59    VIERNES  RETIRO                           \n",
       "17 2010-01-01    DE 4:00 A 4:59    VIERNES  RETIRO                           \n",
       "18 2010-01-01    DE 4:00 A 4:59    VIERNES  RETIRO                           \n",
       "19 2010-01-01    DE 4:00 A 4:59    VIERNES  RETIRO                           \n",
       "\n",
       "    NUM_PERSONAS                            TIPO_ACCIDENTE  \\\n",
       "0              1  COLISIÓN DOBLE                             \n",
       "1              1  COLISIÓN DOBLE                             \n",
       "2              1  COLISIÓN DOBLE                             \n",
       "3              7  COLISIÓN MÚLTIPLE                          \n",
       "4              7  COLISIÓN MÚLTIPLE                          \n",
       "5              7  COLISIÓN MÚLTIPLE                          \n",
       "6              7  COLISIÓN MÚLTIPLE                          \n",
       "7              7  COLISIÓN MÚLTIPLE                          \n",
       "8              7  COLISIÓN MÚLTIPLE                          \n",
       "9              7  COLISIÓN MÚLTIPLE                          \n",
       "10             7  COLISIÓN MÚLTIPLE                          \n",
       "11             1  COLISIÓN DOBLE                             \n",
       "12             1  COLISIÓN DOBLE                             \n",
       "13             7  COLISIÓN MÚLTIPLE                          \n",
       "14             7  COLISIÓN MÚLTIPLE                          \n",
       "15             7  COLISIÓN MÚLTIPLE                          \n",
       "16             7  COLISIÓN MÚLTIPLE                          \n",
       "17             7  COLISIÓN MÚLTIPLE                          \n",
       "18             7  COLISIÓN MÚLTIPLE                          \n",
       "19             7  COLISIÓN MÚLTIPLE                          \n",
       "\n",
       "                               TIPO_VEHICULO  \\\n",
       "0   TURISMO                                    \n",
       "1   TURISMO                                    \n",
       "2   TURISMO                                    \n",
       "3                                NO ASIGNADO   \n",
       "4                                NO ASIGNADO   \n",
       "5                                NO ASIGNADO   \n",
       "6                                NO ASIGNADO   \n",
       "7   TURISMO                                    \n",
       "8   TURISMO                                    \n",
       "9   TURISMO                                    \n",
       "10  FURGONETA                                  \n",
       "11  MOTOCICLETA                                \n",
       "12  AUTO-TAXI                                  \n",
       "13                               NO ASIGNADO   \n",
       "14                               NO ASIGNADO   \n",
       "15  TURISMO                                    \n",
       "16  TURISMO                                    \n",
       "17  TURISMO                                    \n",
       "18  TURISMO                                    \n",
       "19  TURISMO                                    \n",
       "\n",
       "                                TIPO_PERSONA    SEXO  \\\n",
       "0                                  CONDUCTOR  HOMBRE   \n",
       "1                                  CONDUCTOR  HOMBRE   \n",
       "2   VIAJERO                                    MUJER   \n",
       "3   VIAJERO                                    MUJER   \n",
       "4   VIAJERO                                    MUJER   \n",
       "5   VIAJERO                                    MUJER   \n",
       "6   VIAJERO                                    MUJER   \n",
       "7                                  CONDUCTOR  HOMBRE   \n",
       "8                                  CONDUCTOR   MUJER   \n",
       "9   VIAJERO                                    MUJER   \n",
       "10                                 CONDUCTOR  HOMBRE   \n",
       "11                                 CONDUCTOR  HOMBRE   \n",
       "12                                 CONDUCTOR  HOMBRE   \n",
       "13  TESTIGO                                   HOMBRE   \n",
       "14  TESTIGO                                   HOMBRE   \n",
       "15                                 CONDUCTOR  HOMBRE   \n",
       "16  VIAJERO                                   HOMBRE   \n",
       "17  VIAJERO                                    MUJER   \n",
       "18  VIAJERO                                    MUJER   \n",
       "19  VIAJERO                                    MUJER   \n",
       "\n",
       "                                   LESIVIDAD       TRAMO_EDAD  \n",
       "0   IL                                        DE 18 A 20 AÑOS  \n",
       "1   IL                                        DE 50 A 54 AÑOS  \n",
       "2   HL                                        DE 40 A 44 AÑOS  \n",
       "3   HL                                        DE 25 A 29 AÑOS  \n",
       "4   HL                                        DE 30 A 34 ANOS  \n",
       "5   HL                                        DE 25 A 29 AÑOS  \n",
       "6   HL                                        DE 25 A 29 AÑOS  \n",
       "7   IL                                        DE 25 A 29 AÑOS  \n",
       "8   HL                                        DE 25 A 29 AÑOS  \n",
       "9   HL                                        DE 21 A 24 AÑOS  \n",
       "10  HL                                        DE 25 A 29 AÑOS  \n",
       "11  HL                                        DE 35 A 39 AÑOS  \n",
       "12  IL                                        DE 35 A 39 AÑOS  \n",
       "13  IL                                        DE 25 A 29 AÑOS  \n",
       "14  IL                                        DE 30 A 34 ANOS  \n",
       "15  HL                                        DE 25 A 29 AÑOS  \n",
       "16  IL                                        DE 30 A 34 ANOS  \n",
       "17  IL                                        DE 18 A 20 AÑOS  \n",
       "18  HG                                        DE 21 A 24 AÑOS  \n",
       "19  HL                                        DE 21 A 24 AÑOS  "
      ]
     },
     "execution_count": 15,
     "metadata": {},
     "output_type": "execute_result"
    }
   ],
   "source": [
    "# View first rows more extended\n",
    "df_from_xls.head(20)"
   ]
  },
  {
   "cell_type": "code",
   "execution_count": 16,
   "metadata": {},
   "outputs": [
    {
     "data": {
      "text/plain": [
       "FECHA             datetime64[ns]\n",
       "RANGO_HORARIO             object\n",
       "DIA_SEMANA                object\n",
       "DISTRITO                  object\n",
       "NUM_PERSONAS               int64\n",
       "TIPO_ACCIDENTE            object\n",
       "TIPO_VEHICULO             object\n",
       "TIPO_PERSONA              object\n",
       "SEXO                      object\n",
       "LESIVIDAD                 object\n",
       "TRAMO_EDAD                object\n",
       "dtype: object"
      ]
     },
     "execution_count": 16,
     "metadata": {},
     "output_type": "execute_result"
    }
   ],
   "source": [
    "# View types\n",
    "df_from_xls.dtypes"
   ]
  },
  {
   "cell_type": "code",
   "execution_count": 17,
   "metadata": {},
   "outputs": [
    {
     "data": {
      "text/plain": [
       "Index(['FECHA', 'RANGO_HORARIO', 'DIA_SEMANA', 'DISTRITO', 'NUM_PERSONAS',\n",
       "       'TIPO_ACCIDENTE', 'TIPO_VEHICULO', 'TIPO_PERSONA', 'SEXO', 'LESIVIDAD',\n",
       "       'TRAMO_EDAD'],\n",
       "      dtype='object')"
      ]
     },
     "execution_count": 17,
     "metadata": {},
     "output_type": "execute_result"
    }
   ],
   "source": [
    "# View columns\n",
    "df_from_xls.columns"
   ]
  },
  {
   "cell_type": "code",
   "execution_count": 18,
   "metadata": {},
   "outputs": [],
   "source": [
    "# Substitute NaN for \"NO_ASIGNADO\"\n",
    "df_from_xls.fillna(\"NO_ASIGNADO\", inplace=True) "
   ]
  },
  {
   "cell_type": "code",
   "execution_count": 19,
   "metadata": {},
   "outputs": [
    {
     "data": {
      "text/plain": [
       "FECHA             0\n",
       "RANGO_HORARIO     0\n",
       "DIA_SEMANA        0\n",
       "DISTRITO          0\n",
       "NUM_PERSONAS      0\n",
       "TIPO_ACCIDENTE    0\n",
       "TIPO_VEHICULO     0\n",
       "TIPO_PERSONA      0\n",
       "SEXO              0\n",
       "LESIVIDAD         0\n",
       "TRAMO_EDAD        0\n",
       "dtype: int64"
      ]
     },
     "execution_count": 19,
     "metadata": {},
     "output_type": "execute_result"
    }
   ],
   "source": [
    "# Check NULL values\n",
    "df_from_xls.isnull().sum()"
   ]
  },
  {
   "cell_type": "code",
   "execution_count": 20,
   "metadata": {},
   "outputs": [
    {
     "data": {
      "text/plain": [
       "877"
      ]
     },
     "execution_count": 20,
     "metadata": {},
     "output_type": "execute_result"
    }
   ],
   "source": [
    "# Check duplicted values\n",
    "df_from_xls.duplicated().sum()"
   ]
  },
  {
   "cell_type": "code",
   "execution_count": 21,
   "metadata": {},
   "outputs": [],
   "source": [
    "# Review duplicated values and the group rebuilding them by index"
   ]
  },
  {
   "cell_type": "code",
   "execution_count": 22,
   "metadata": {},
   "outputs": [],
   "source": [
    "df_dupls = df_from_xls[df_from_xls.duplicated(keep=False)];\n",
    "df_dupls_values = df_dupls.groupby(df_dupls.columns.tolist()).apply(lambda x: x.index.tolist()).values.tolist();\n",
    "df_dupls_relation = df_dupls.groupby(df_dupls.columns.tolist()).apply(lambda x: x.index.tolist())"
   ]
  },
  {
   "cell_type": "code",
   "execution_count": 23,
   "metadata": {},
   "outputs": [
    {
     "data": {
      "text/plain": [
       "list"
      ]
     },
     "execution_count": 23,
     "metadata": {},
     "output_type": "execute_result"
    }
   ],
   "source": [
    "type(df_dupls_values)"
   ]
  },
  {
   "cell_type": "code",
   "execution_count": 24,
   "metadata": {},
   "outputs": [
    {
     "data": {
      "text/plain": [
       "pandas.core.series.Series"
      ]
     },
     "execution_count": 24,
     "metadata": {},
     "output_type": "execute_result"
    }
   ],
   "source": [
    "type(df_dupls_relation)"
   ]
  },
  {
   "cell_type": "code",
   "execution_count": 25,
   "metadata": {},
   "outputs": [
    {
     "data": {
      "text/plain": [
       "[[3, 5, 6],\n",
       " [31, 32],\n",
       " [87, 88],\n",
       " [137, 138],\n",
       " [160, 161],\n",
       " [257, 258, 259, 260],\n",
       " [301, 302],\n",
       " [356, 358],\n",
       " [405, 406],\n",
       " [426, 427],\n",
       " [433, 435],\n",
       " [497, 498],\n",
       " [499, 501],\n",
       " [507, 508],\n",
       " [567, 568],\n",
       " [587, 588],\n",
       " [593, 594],\n",
       " [649, 650, 651, 652],\n",
       " [685, 686],\n",
       " [734, 735, 736],\n",
       " [742, 743],\n",
       " [774, 775],\n",
       " [788, 789],\n",
       " [796, 797, 798],\n",
       " [817, 818],\n",
       " [872, 873],\n",
       " [877, 879, 880, 881],\n",
       " [941, 945],\n",
       " [1134, 1135],\n",
       " [1037, 1038],\n",
       " [1183, 1184],\n",
       " [1255, 1256],\n",
       " [1268, 1269, 1270, 1271, 1272],\n",
       " [1204, 1205, 1206],\n",
       " [1331, 1332],\n",
       " [1417, 1418],\n",
       " [1419, 1420],\n",
       " [1453, 1454, 1455, 1456],\n",
       " [1519, 1520, 1521],\n",
       " [1539, 1540],\n",
       " [1601, 1602],\n",
       " [1743, 1744, 1745],\n",
       " [1754, 1755],\n",
       " [1700, 1701, 1702],\n",
       " [1803, 1804],\n",
       " [1840, 1841],\n",
       " [1870, 1871],\n",
       " [1880, 1881],\n",
       " [1886, 1887],\n",
       " [1919, 1920],\n",
       " [1953, 1954],\n",
       " [1891, 1892],\n",
       " [2070, 2071, 2072],\n",
       " [2080, 2081, 2082, 2083],\n",
       " [2102, 2103],\n",
       " [2025, 2026],\n",
       " [2030, 2031],\n",
       " [2175, 2176],\n",
       " [2183, 2184],\n",
       " [2186, 2187, 2188],\n",
       " [2253, 2254],\n",
       " [2313, 2314],\n",
       " [2327, 2328, 2330],\n",
       " [2295, 2296],\n",
       " [2303, 2304],\n",
       " [2399, 2401, 2402],\n",
       " [2432, 2433, 2434],\n",
       " [2542, 2544],\n",
       " [2658, 2659],\n",
       " [2671, 2672],\n",
       " [2705, 2706],\n",
       " [2734, 2735],\n",
       " [2746, 2747],\n",
       " [2820, 2821],\n",
       " [2898, 2899, 2900],\n",
       " [2927, 2928],\n",
       " [2945, 2946],\n",
       " [2960, 2961],\n",
       " [2883, 2884],\n",
       " [3005, 3006],\n",
       " [3073, 3074],\n",
       " [3083, 3084],\n",
       " [3099, 3100],\n",
       " [3102, 3104],\n",
       " [3132, 3133],\n",
       " [3227, 3228],\n",
       " [3238, 3239],\n",
       " [3236, 3237],\n",
       " [3194, 3195],\n",
       " [3198, 3199, 3200],\n",
       " [3203, 3204],\n",
       " [3210, 3211],\n",
       " [3264, 3265],\n",
       " [3269, 3272],\n",
       " [3322, 3323],\n",
       " [3333, 3334],\n",
       " [3278, 3279],\n",
       " [3285, 3286],\n",
       " [3351, 3352],\n",
       " [3421, 3422, 3423, 3424],\n",
       " [3384, 3385],\n",
       " [3537, 3538],\n",
       " [3672, 3673],\n",
       " [3680, 3681],\n",
       " [3598, 3599],\n",
       " [3741, 3742],\n",
       " [3746, 3747],\n",
       " [3697, 3698],\n",
       " [3702, 3703],\n",
       " [3789, 3790],\n",
       " [3818, 3820, 3821],\n",
       " [3762, 3763, 3764],\n",
       " [3901, 3902, 3903],\n",
       " [3924, 3925],\n",
       " [4122, 4124],\n",
       " [4253, 4254],\n",
       " [4255, 4256],\n",
       " [4272, 4273],\n",
       " [4157, 4158],\n",
       " [4358, 4359, 4360],\n",
       " [4373, 4376],\n",
       " [4386, 4387],\n",
       " [4305, 4307],\n",
       " [4320, 4321, 4322, 4323],\n",
       " [4324, 4325],\n",
       " [4333, 4334],\n",
       " [4336, 4337],\n",
       " [4423, 4424],\n",
       " [4503, 4504],\n",
       " [4514, 4515],\n",
       " [4452, 4453],\n",
       " [4460, 4461],\n",
       " [4610, 4611],\n",
       " [4617, 4618],\n",
       " [4734, 4738, 4739],\n",
       " [4879, 4880],\n",
       " [4905, 4906],\n",
       " [4803, 4804],\n",
       " [4913, 4914, 4915],\n",
       " [4948, 4949],\n",
       " [4959, 4960],\n",
       " [4928, 4930],\n",
       " [5003, 5004],\n",
       " [4993, 4994, 4995],\n",
       " [5084, 5085],\n",
       " [5094, 5095],\n",
       " [5117, 5119],\n",
       " [5052, 5053],\n",
       " [5150, 5151],\n",
       " [5155, 5156],\n",
       " [5247, 5250],\n",
       " [5206, 5207, 5208, 5209, 5210, 5211],\n",
       " [5331, 5332],\n",
       " [5276, 5277, 5278],\n",
       " [5354, 5355],\n",
       " [5356, 5357],\n",
       " [5434, 5435],\n",
       " [5482, 5483],\n",
       " [5511, 5512],\n",
       " [5506, 5507],\n",
       " [5606, 5607],\n",
       " [5611, 5613],\n",
       " [5666, 5667],\n",
       " [5754, 5755],\n",
       " [5708, 5709],\n",
       " [5760, 5761],\n",
       " [5802, 5803, 5804],\n",
       " [5810, 5811],\n",
       " [5837, 5838],\n",
       " [5785, 5786],\n",
       " [5945, 5946],\n",
       " [5917, 5918],\n",
       " [5919, 5920],\n",
       " [5983, 5984],\n",
       " [5958, 5959],\n",
       " [6002, 6003],\n",
       " [6004, 6005],\n",
       " [6039, 6040],\n",
       " [6059, 6060],\n",
       " [6090, 6091],\n",
       " [6093, 6094, 6095, 6096, 6097],\n",
       " [6131, 6132],\n",
       " [6140, 6141],\n",
       " [6316, 6317],\n",
       " [6382, 6383, 6384],\n",
       " [6412, 6413],\n",
       " [6342, 6344],\n",
       " [6474, 6475],\n",
       " [6455, 6457],\n",
       " [6575, 6576],\n",
       " [6581, 6582],\n",
       " [6592, 6593],\n",
       " [6629, 6630],\n",
       " [6735, 6736],\n",
       " [6750, 6751],\n",
       " [6824, 6825],\n",
       " [6895, 6896],\n",
       " [6897, 6898],\n",
       " [6843, 6844],\n",
       " [6942, 6943],\n",
       " [6967, 6969],\n",
       " [7097, 7098],\n",
       " [7115, 7116],\n",
       " [7077, 7078],\n",
       " [7136, 7137],\n",
       " [7233, 7234, 7235],\n",
       " [7291, 7292, 7293],\n",
       " [7372, 7373, 7374],\n",
       " [7395, 7396],\n",
       " [7475, 7476],\n",
       " [7513, 7514],\n",
       " [7521, 7522],\n",
       " [7556, 7557, 7558],\n",
       " [7669, 7671],\n",
       " [7619, 7620],\n",
       " [7705, 7708],\n",
       " [7718, 7719],\n",
       " [7788, 7789],\n",
       " [7800, 7801],\n",
       " [7762, 7763],\n",
       " [7927, 7928, 7929],\n",
       " [8126, 8127],\n",
       " [8135, 8136],\n",
       " [8146, 8147],\n",
       " [8198, 8201],\n",
       " [8203, 8205],\n",
       " [8211, 8212],\n",
       " [8214, 8215],\n",
       " [8162, 8165],\n",
       " [8240, 8242],\n",
       " [8237, 8239],\n",
       " [8249, 8250],\n",
       " [8311, 8312],\n",
       " [8334, 8335],\n",
       " [8330, 8331],\n",
       " [8343, 8345],\n",
       " [8362, 8363],\n",
       " [8491, 8492],\n",
       " [8579, 8580],\n",
       " [8560, 8561],\n",
       " [8710, 8711, 8712, 8713],\n",
       " [8744, 8745],\n",
       " [8659, 8660],\n",
       " [8761, 8762],\n",
       " [8767, 8768],\n",
       " [8927, 8928],\n",
       " [9022, 9024],\n",
       " [9133, 9134],\n",
       " [9109, 9110],\n",
       " [9201, 9202],\n",
       " [9237, 9238],\n",
       " [9245, 9246],\n",
       " [9254, 9255],\n",
       " [9175, 9178],\n",
       " [9292, 9293],\n",
       " [9325, 9326],\n",
       " [9334, 9335],\n",
       " [9337, 9338],\n",
       " [9370, 9371],\n",
       " [9406, 9408],\n",
       " [9468, 9469],\n",
       " [9496, 9497],\n",
       " [9597, 9598],\n",
       " [9640, 9641, 9642],\n",
       " [9686, 9687],\n",
       " [9732, 9733],\n",
       " [9783, 9784],\n",
       " [9820, 9821],\n",
       " [9756, 9757],\n",
       " [9864, 9865],\n",
       " [9878, 9879, 9881, 9882, 9883],\n",
       " [9896, 9897],\n",
       " [9940, 9941],\n",
       " [9946, 9948],\n",
       " [9970, 9971],\n",
       " [9978, 9979],\n",
       " [9927, 9929],\n",
       " [10053, 10054],\n",
       " [10091, 10092],\n",
       " [10178, 10179],\n",
       " [10302, 10303],\n",
       " [10575, 10576],\n",
       " [10642, 10643],\n",
       " [10686, 10687],\n",
       " [10736, 10737],\n",
       " [10778, 10779],\n",
       " [10847, 10848],\n",
       " [10863, 10864],\n",
       " [10886, 10887],\n",
       " [10905, 10906],\n",
       " [10945, 10946],\n",
       " [10952, 10953],\n",
       " [11028, 11029],\n",
       " [11030, 11031],\n",
       " [10984, 10985],\n",
       " [11093, 11094],\n",
       " [11243, 11244, 11245],\n",
       " [11259, 11260],\n",
       " [11216, 11218],\n",
       " [11355, 11356],\n",
       " [11402, 11406],\n",
       " [11373, 11374],\n",
       " [11506, 11507],\n",
       " [11512, 11513],\n",
       " [11543, 11544],\n",
       " [11450, 11451],\n",
       " [11457, 11458],\n",
       " [11468, 11469],\n",
       " [11474, 11475],\n",
       " [11551, 11552],\n",
       " [11632, 11633],\n",
       " [11658, 11659],\n",
       " [11717, 11718],\n",
       " [11755, 11757, 11758, 11759],\n",
       " [11730, 11731],\n",
       " [12012, 12013, 12014, 12015],\n",
       " [11971, 11972],\n",
       " [12064, 12065],\n",
       " [12085, 12086],\n",
       " [12119, 12120],\n",
       " [12158, 12159],\n",
       " [12193, 12194],\n",
       " [12260, 12261],\n",
       " [12221, 12222],\n",
       " [12378, 12379],\n",
       " [12404, 12405],\n",
       " [12524, 12525],\n",
       " [12433, 12434],\n",
       " [12620, 12621],\n",
       " [12541, 12542],\n",
       " [12700, 12701],\n",
       " [12711, 12713, 12714],\n",
       " [12827, 12828],\n",
       " [12839, 12844, 12847],\n",
       " [12848, 12850],\n",
       " [12837, 12843, 12846],\n",
       " [12852, 12853],\n",
       " [12859, 12860],\n",
       " [12879, 12880, 12881, 12882],\n",
       " [12890, 12891],\n",
       " [13076, 13077],\n",
       " [13098, 13100],\n",
       " [13020, 13022],\n",
       " [13136, 13137],\n",
       " [13148, 13150],\n",
       " [13026, 13028],\n",
       " [13157, 13158],\n",
       " [13249, 13250],\n",
       " [13262, 13263],\n",
       " [13277, 13278],\n",
       " [13404, 13405],\n",
       " [13558, 13559, 13560],\n",
       " [13582, 13583],\n",
       " [13487, 13488],\n",
       " [13709, 13710],\n",
       " [13719, 13720],\n",
       " [13787, 13788],\n",
       " [13809, 13810],\n",
       " [13739, 13740, 13741],\n",
       " [13836, 13837],\n",
       " [13827, 13828, 13829, 13830],\n",
       " [13882, 13883],\n",
       " [13990, 13992],\n",
       " [14011, 14012],\n",
       " [14016, 14017],\n",
       " [14024, 14025, 14026, 14027],\n",
       " [13976, 13977],\n",
       " [14103, 14104],\n",
       " [14114, 14115],\n",
       " [14148, 14149, 14150],\n",
       " [14197, 14198],\n",
       " [14226, 14227],\n",
       " [14258, 14259],\n",
       " [14282, 14283],\n",
       " [14288, 14289, 14290],\n",
       " [14278, 14279],\n",
       " [14363, 14364],\n",
       " [14380, 14381],\n",
       " [14415, 14416],\n",
       " [14417, 14418],\n",
       " [14448, 14449],\n",
       " [14451, 14452],\n",
       " [14547, 14548],\n",
       " [14758, 14759],\n",
       " [14818, 14819],\n",
       " [14828, 14829],\n",
       " [14851, 14852],\n",
       " [14768, 14769, 14770, 14771, 14772],\n",
       " [14784, 14785],\n",
       " [14962, 14964],\n",
       " [14968, 14969],\n",
       " [15081, 15082],\n",
       " [15160, 15161],\n",
       " [15255, 15256],\n",
       " [15276, 15277],\n",
       " [15344, 15345],\n",
       " [15403, 15404],\n",
       " [15381, 15382],\n",
       " [15379, 15380],\n",
       " [15399, 15400, 15401],\n",
       " [15439, 15441],\n",
       " [15452, 15453, 15454, 15455],\n",
       " [15522, 15523],\n",
       " [15535, 15536],\n",
       " [15628, 15629],\n",
       " [15630, 15631],\n",
       " [15638, 15639],\n",
       " [15672, 15673],\n",
       " [15746, 15747, 15748, 15749, 15750],\n",
       " [15808, 15809],\n",
       " [15795, 15796],\n",
       " [15894, 15895],\n",
       " [15901, 15902],\n",
       " [15958, 15959],\n",
       " [15912, 15913],\n",
       " [15979, 15980],\n",
       " [15988, 15989, 15990],\n",
       " [16000, 16001, 16002],\n",
       " [15966, 15967],\n",
       " [16013, 16014],\n",
       " [16033, 16035],\n",
       " [16004, 16005],\n",
       " [16074, 16075],\n",
       " [16076, 16077],\n",
       " [16152, 16153],\n",
       " [16291, 16292, 16293],\n",
       " [16305, 16307],\n",
       " [16253, 16254, 16255, 16256, 16257, 16258],\n",
       " [16364, 16365, 16366, 16367],\n",
       " [16466, 16467, 16468],\n",
       " [16532, 16534],\n",
       " [16676, 16677],\n",
       " [16718, 16719, 16720, 16722],\n",
       " [16733, 16734],\n",
       " [16770, 16771],\n",
       " [16839, 16840],\n",
       " [16841, 16842],\n",
       " [16893, 16894],\n",
       " [16924, 16925],\n",
       " [16942, 16943],\n",
       " [16956, 16957],\n",
       " [16915, 16916],\n",
       " [16986, 16987],\n",
       " [17001, 17005],\n",
       " [16999, 17004],\n",
       " [16997, 17003],\n",
       " [16993, 16994],\n",
       " [17006, 17008],\n",
       " [17026, 17027, 17028, 17029, 17030],\n",
       " [16967, 16969, 16970],\n",
       " [17048, 17049],\n",
       " [17094, 17095],\n",
       " [17091, 17092],\n",
       " [17134, 17135],\n",
       " [17160, 17161],\n",
       " [17162, 17163],\n",
       " [17097, 17098],\n",
       " [17101, 17102],\n",
       " [17106, 17107, 17108],\n",
       " [17182, 17183],\n",
       " [17188, 17189],\n",
       " [17215, 17218, 17224],\n",
       " [17213, 17214, 17217, 17219, 17220, 17221, 17223],\n",
       " [17252, 17253],\n",
       " [17271, 17272],\n",
       " [17405, 17406],\n",
       " [17358, 17362, 17363],\n",
       " [17359, 17361],\n",
       " [17504, 17505],\n",
       " [17501, 17502],\n",
       " [17513, 17514],\n",
       " [17611, 17613, 17614],\n",
       " [17612, 17615],\n",
       " [17736, 17737],\n",
       " [17853, 17854],\n",
       " [17890, 17891, 17892, 17893, 17894],\n",
       " [17973, 17974],\n",
       " [17991, 17993],\n",
       " [18059, 18060],\n",
       " [18011, 18012],\n",
       " [18089, 18090],\n",
       " [18133, 18134, 18135],\n",
       " [18252, 18253],\n",
       " [18262, 18263],\n",
       " [18310, 18311],\n",
       " [18378, 18379],\n",
       " [18363, 18364],\n",
       " [18433, 18434],\n",
       " [18546, 18547, 18548, 18549],\n",
       " [18516, 18517],\n",
       " [18569, 18570],\n",
       " [18576, 18577, 18578, 18579],\n",
       " [18610, 18612],\n",
       " [18636, 18637],\n",
       " [18738, 18739],\n",
       " [18714, 18715],\n",
       " [18865, 18866],\n",
       " [18892, 18893],\n",
       " [18991, 18992],\n",
       " [19030, 19031],\n",
       " [18948, 18949],\n",
       " [18967, 18968],\n",
       " [18970, 18971],\n",
       " [19096, 19097],\n",
       " [19172, 19173],\n",
       " [19292, 19293],\n",
       " [19249, 19250],\n",
       " [19367, 19368],\n",
       " [19378, 19379],\n",
       " [19402, 19404],\n",
       " [19418, 19419],\n",
       " [19451, 19453],\n",
       " [19469, 19470],\n",
       " [19476, 19478],\n",
       " [19494, 19495],\n",
       " [19548, 19549, 19550],\n",
       " [19512, 19513, 19514],\n",
       " [19709, 19710],\n",
       " [19781, 19782],\n",
       " [19798, 19799],\n",
       " [19789, 19790],\n",
       " [19883, 19885],\n",
       " [19977, 19978],\n",
       " [19961, 19962],\n",
       " [19966, 19967],\n",
       " [20071, 20072],\n",
       " [20051, 20052],\n",
       " [20055, 20056, 20057],\n",
       " [20129, 20130],\n",
       " [20100, 20101],\n",
       " [20165, 20166],\n",
       " [20167, 20168, 20169],\n",
       " [20107, 20109],\n",
       " [20112, 20114],\n",
       " [20116, 20117],\n",
       " [20322, 20323],\n",
       " [20279, 20280],\n",
       " [20453, 20454],\n",
       " [20459, 20460],\n",
       " [20534, 20535],\n",
       " [20551, 20552],\n",
       " [20661, 20662],\n",
       " [20674, 20675],\n",
       " [20748, 20750],\n",
       " [20757, 20759],\n",
       " [20690, 20691],\n",
       " [20695, 20696],\n",
       " [20701, 20702],\n",
       " [20802, 20805],\n",
       " [20840, 20841],\n",
       " [20851, 20852],\n",
       " [20882, 20883],\n",
       " [20929, 20930],\n",
       " [20993, 20994],\n",
       " [20905, 20906],\n",
       " [21042, 21043],\n",
       " [21057, 21059],\n",
       " [21079, 21080],\n",
       " [21099, 21100],\n",
       " [21002, 21003],\n",
       " [21001, 21004],\n",
       " [21139, 21140],\n",
       " [21161, 21162],\n",
       " [21166, 21167],\n",
       " [21232, 21233],\n",
       " [21329, 21331],\n",
       " [21366, 21367],\n",
       " [21379, 21381],\n",
       " [21434, 21435, 21436],\n",
       " [21441, 21442],\n",
       " [21556, 21557],\n",
       " [21586, 21587],\n",
       " [21621, 21622],\n",
       " [21728, 21731],\n",
       " [21751, 21752],\n",
       " [21758, 21759],\n",
       " [21767, 21768],\n",
       " [21793, 21794],\n",
       " [21797, 21798],\n",
       " [21703, 21704],\n",
       " [21876, 21877],\n",
       " [21881, 21882],\n",
       " [21833, 21834],\n",
       " [21910, 21911],\n",
       " [21939, 21940],\n",
       " [21984, 21985, 21986],\n",
       " [21924, 21925, 21926, 21927],\n",
       " [22024, 22025],\n",
       " [22002, 22003],\n",
       " [22101, 22104],\n",
       " [22110, 22111],\n",
       " [22173, 22174],\n",
       " [22399, 22400],\n",
       " [22419, 22420],\n",
       " [22443, 22445],\n",
       " [22484, 22485],\n",
       " [22509, 22510, 22511],\n",
       " [22521, 22523],\n",
       " [22455, 22456, 22457, 22458],\n",
       " [22464, 22465],\n",
       " [22466, 22467, 22468, 22469, 22470, 22471, 22472, 22473, 22474, 22475, 22476],\n",
       " [22570, 22573],\n",
       " [22608, 22609],\n",
       " [22538, 22539],\n",
       " [22550, 22551],\n",
       " [22559, 22560],\n",
       " [22708, 22709],\n",
       " [22631, 22632],\n",
       " [22758, 22759],\n",
       " [22786, 22788],\n",
       " [22807, 22808],\n",
       " [22721, 22722],\n",
       " [22736, 22738],\n",
       " [22741, 22742, 22743],\n",
       " [22816, 22817],\n",
       " [22835, 22836],\n",
       " [22996, 22997],\n",
       " [22926, 22927],\n",
       " [23023, 23024, 23025],\n",
       " [23173, 23174],\n",
       " [23097, 23098, 23100],\n",
       " [23106, 23107],\n",
       " [23191, 23192, 23193],\n",
       " [23268, 23269],\n",
       " [23273, 23274],\n",
       " [23386, 23388, 23391, 23392],\n",
       " [23410, 23411],\n",
       " [23493, 23495],\n",
       " [23581, 23582],\n",
       " [23687, 23688, 23689, 23690],\n",
       " [23699, 23700],\n",
       " [23780, 23781, 23782],\n",
       " [23803, 23807],\n",
       " [23810, 23811],\n",
       " [23738, 23739],\n",
       " [23865, 23866],\n",
       " [23820, 23822],\n",
       " [23828, 23829],\n",
       " [23838, 23839],\n",
       " [23934, 23935],\n",
       " [23991, 23992],\n",
       " [24055, 24056],\n",
       " [23997, 23998],\n",
       " [24181, 24182],\n",
       " [24326, 24327],\n",
       " [24335, 24336],\n",
       " [24284, 24285],\n",
       " [24417, 24418],\n",
       " [24446, 24447],\n",
       " [24376, 24377],\n",
       " [24380, 24384],\n",
       " [24390, 24391],\n",
       " [24398, 24400],\n",
       " [24460, 24461, 24462],\n",
       " [24468, 24469],\n",
       " [24463, 24465, 24466, 24467],\n",
       " [24470, 24471],\n",
       " [24498, 24500],\n",
       " [24502, 24503],\n",
       " [24505, 24507],\n",
       " [24476, 24478],\n",
       " [24586, 24587, 24588],\n",
       " [24599, 24600],\n",
       " [24610, 24611],\n",
       " [24613, 24615],\n",
       " [24561, 24562],\n",
       " [24569, 24571, 24573],\n",
       " [24568, 24570],\n",
       " [24654, 24655],\n",
       " [24666, 24667],\n",
       " [24719, 24720],\n",
       " [24757, 24758],\n",
       " [24844, 24846],\n",
       " [24765, 24767],\n",
       " [24976, 24977],\n",
       " [25001, 25002],\n",
       " [25004, 25005],\n",
       " [25013, 25014],\n",
       " [25017, 25018],\n",
       " [25047, 25048],\n",
       " [25139, 25140, 25141],\n",
       " [25107, 25108, 25109],\n",
       " [25233, 25235],\n",
       " [25229, 25230],\n",
       " [25431, 25433],\n",
       " [25436, 25437],\n",
       " [25446, 25447],\n",
       " [25390, 25391],\n",
       " [25625, 25627],\n",
       " [25642, 25643],\n",
       " [25605, 25608],\n",
       " [25614, 25615],\n",
       " [25713, 25714],\n",
       " [25875, 25876],\n",
       " [25848, 25849],\n",
       " [25927, 25928],\n",
       " [25940, 25941],\n",
       " [25942, 25943],\n",
       " [25951, 25952],\n",
       " [25967, 25968],\n",
       " [26116, 26117],\n",
       " [26133, 26134, 26135],\n",
       " [26137, 26138],\n",
       " [26146, 26147, 26148],\n",
       " [26060, 26061],\n",
       " [26186, 26187],\n",
       " [26195, 26196],\n",
       " [26233, 26234],\n",
       " [26279, 26280, 26282],\n",
       " [26283, 26284],\n",
       " [26281, 26285],\n",
       " [26294, 26295],\n",
       " [26302, 26303],\n",
       " [26346, 26347],\n",
       " [26400, 26401],\n",
       " [26408, 26409],\n",
       " [26471, 26472],\n",
       " [26509, 26510],\n",
       " [26526, 26528]]"
      ]
     },
     "execution_count": 25,
     "metadata": {},
     "output_type": "execute_result"
    }
   ],
   "source": [
    "df_dupls_values"
   ]
  },
  {
   "cell_type": "code",
   "execution_count": 26,
   "metadata": {},
   "outputs": [
    {
     "data": {
      "text/plain": [
       "FECHA       RANGO_HORARIO     DIA_SEMANA  DISTRITO                        NUM_PERSONAS  TIPO_ACCIDENTE                            TIPO_VEHICULO                             TIPO_PERSONA                              SEXO    LESIVIDAD                                 TRAMO_EDAD        \n",
       "2010-01-01  DE 1:00 A 1:59    VIERNES     PUENTE DE VALLECAS              7             COLISIÓN MÚLTIPLE                         NO ASIGNADO                               VIAJERO                                   MUJER   HL                                        DE 25 A 29 AÑOS            [3, 5, 6]\n",
       "            DE 9:00 A 9:59    VIERNES     SALAMANCA                       1             CHOQUE CON OBJETO FIJO                    NO ASIGNADO                               TESTIGO                                   HOMBRE  IL                                        DE 21 A 24 AÑOS             [31, 32]\n",
       "2010-01-02  DE 19:00 A 19:59  SABADO      CARABANCHEL                     1             COLISIÓN DOBLE                            TURISMO                                   VIAJERO                                   MUJER   IL                                        DESCONOCIDA                 [87, 88]\n",
       "2010-01-03  DE 23:00 A 23:59  DOMINGO     RETIRO                          1             COLISIÓN DOBLE                            TURISMO                                   CONDUCTOR                                 HOMBRE  IL                                        DE 30 A 34 ANOS           [137, 138]\n",
       "2010-01-04  DE 12:00 A 12:59  LUNES       RETIRO                          1             COLISIÓN MÚLTIPLE                         TURISMO                                   CONDUCTOR                                 HOMBRE  IL                                        DE 45 A 49 AÑOS           [160, 161]\n",
       "                                                                                                                                                                                                                                                                                                   ...      \n",
       "2010-12-29  DE 19:00 A 19:59  MIERCOLES   MONCLOA-ARAVACA                 3             COLISIÓN MÚLTIPLE                         TURISMO                                   VIAJERO                                   MUJER   HL                                        DE MAS DE 74 AÑOS     [26400, 26401]\n",
       "            DE 20:00 A 20:59  MIERCOLES   PUENTE DE VALLECAS              2             COLISIÓN DOBLE                            TURISMO                                   CONDUCTOR                                 MUJER   IL                                        DE 40 A 44 AÑOS       [26408, 26409]\n",
       "2010-12-30  DE 20:00 A 20:59  JUEVES      RETIRO                          1             COLISIÓN MÚLTIPLE                         TURISMO                                   CONDUCTOR                                 MUJER   IL                                        DE 30 A 34 ANOS       [26471, 26472]\n",
       "            DE 23:00 A 23:59  JUEVES      CARABANCHEL                     1             COLISIÓN MÚLTIPLE                         TURISMO                                   CONDUCTOR                                 HOMBRE  IL                                        DE 30 A 34 ANOS       [26509, 26510]\n",
       "2010-12-31  DE 6:00 A 6:59    VIERNES     ARGANZUELA                      3             COLISIÓN DOBLE                            TURISMO                                   VIAJERO                                   HOMBRE  HL                                        DE 30 A 34 ANOS       [26526, 26528]\n",
       "Length: 719, dtype: object"
      ]
     },
     "execution_count": 26,
     "metadata": {},
     "output_type": "execute_result"
    }
   ],
   "source": [
    "df_dupls_relation"
   ]
  },
  {
   "cell_type": "code",
   "execution_count": 27,
   "metadata": {},
   "outputs": [],
   "source": [
    "# Strip leading and trailing space\n",
    "# no string: df_from_xls['FECHA'] = df_from_xls['FECHA'].str.strip()\n",
    "df_from_xls['RANGO_HORARIO'] = df_from_xls['RANGO_HORARIO'].str.strip()\n",
    "df_from_xls['DIA_SEMANA'] = df_from_xls['DIA_SEMANA'].str.strip()\n",
    "df_from_xls['DISTRITO'] = df_from_xls['DISTRITO'].str.strip()\n",
    "# no string: df_from_xls['NUM_PERSONAS'] = df_from_xls['NUM_PERSONAS'].str.strip()\n",
    "df_from_xls['TIPO_ACCIDENTE'] = df_from_xls['TIPO_ACCIDENTE'].str.strip()\n",
    "df_from_xls['TIPO_VEHICULO'] = df_from_xls['TIPO_VEHICULO'].str.strip()\n",
    "df_from_xls['TIPO_PERSONA'] = df_from_xls['TIPO_PERSONA'].str.strip()\n",
    "df_from_xls['SEXO'] = df_from_xls['SEXO'].str.strip()\n",
    "df_from_xls['LESIVIDAD'] = df_from_xls['LESIVIDAD'].str.strip()\n",
    "df_from_xls['TRAMO_EDAD'] = df_from_xls['TRAMO_EDAD'].str.strip()"
   ]
  },
  {
   "cell_type": "code",
   "execution_count": 28,
   "metadata": {},
   "outputs": [],
   "source": [
    "# Review unique data per column"
   ]
  },
  {
   "cell_type": "code",
   "execution_count": 29,
   "metadata": {},
   "outputs": [
    {
     "data": {
      "text/plain": [
       "array(['2010-01-01T00:00:00.000000000', '2010-01-02T00:00:00.000000000',\n",
       "       '2010-01-03T00:00:00.000000000', '2010-01-04T00:00:00.000000000',\n",
       "       '2010-01-05T00:00:00.000000000', '2010-01-06T00:00:00.000000000',\n",
       "       '2010-01-07T00:00:00.000000000', '2010-01-08T00:00:00.000000000',\n",
       "       '2010-01-09T00:00:00.000000000', '2010-01-10T00:00:00.000000000',\n",
       "       '2010-01-11T00:00:00.000000000', '2010-01-12T00:00:00.000000000',\n",
       "       '2010-01-13T00:00:00.000000000', '2010-01-14T00:00:00.000000000',\n",
       "       '2010-01-15T00:00:00.000000000', '2010-01-16T00:00:00.000000000',\n",
       "       '2010-01-17T00:00:00.000000000', '2010-01-18T00:00:00.000000000',\n",
       "       '2010-01-19T00:00:00.000000000', '2010-01-20T00:00:00.000000000',\n",
       "       '2010-01-21T00:00:00.000000000', '2010-01-22T00:00:00.000000000',\n",
       "       '2010-01-23T00:00:00.000000000', '2010-01-24T00:00:00.000000000',\n",
       "       '2010-01-25T00:00:00.000000000', '2010-01-26T00:00:00.000000000',\n",
       "       '2010-01-27T00:00:00.000000000', '2010-01-28T00:00:00.000000000',\n",
       "       '2010-01-29T00:00:00.000000000', '2010-01-30T00:00:00.000000000',\n",
       "       '2010-01-31T00:00:00.000000000', '2010-02-01T00:00:00.000000000',\n",
       "       '2010-02-02T00:00:00.000000000', '2010-02-03T00:00:00.000000000',\n",
       "       '2010-02-04T00:00:00.000000000', '2010-02-05T00:00:00.000000000',\n",
       "       '2010-02-06T00:00:00.000000000', '2010-02-07T00:00:00.000000000',\n",
       "       '2010-02-08T00:00:00.000000000', '2010-02-09T00:00:00.000000000',\n",
       "       '2010-02-10T00:00:00.000000000', '2010-02-11T00:00:00.000000000',\n",
       "       '2010-02-12T00:00:00.000000000', '2010-02-13T00:00:00.000000000',\n",
       "       '2010-02-14T00:00:00.000000000', '2010-02-15T00:00:00.000000000',\n",
       "       '2010-02-16T00:00:00.000000000', '2010-02-17T00:00:00.000000000',\n",
       "       '2010-02-18T00:00:00.000000000', '2010-02-19T00:00:00.000000000',\n",
       "       '2010-02-20T00:00:00.000000000', '2010-02-21T00:00:00.000000000',\n",
       "       '2010-02-22T00:00:00.000000000', '2010-02-23T00:00:00.000000000',\n",
       "       '2010-02-24T00:00:00.000000000', '2010-02-25T00:00:00.000000000',\n",
       "       '2010-02-26T00:00:00.000000000', '2010-02-27T00:00:00.000000000',\n",
       "       '2010-02-28T00:00:00.000000000', '2010-03-01T00:00:00.000000000',\n",
       "       '2010-03-02T00:00:00.000000000', '2010-03-03T00:00:00.000000000',\n",
       "       '2010-03-04T00:00:00.000000000', '2010-03-05T00:00:00.000000000',\n",
       "       '2010-03-06T00:00:00.000000000', '2010-03-07T00:00:00.000000000',\n",
       "       '2010-03-08T00:00:00.000000000', '2010-03-09T00:00:00.000000000',\n",
       "       '2010-03-10T00:00:00.000000000', '2010-03-11T00:00:00.000000000',\n",
       "       '2010-03-12T00:00:00.000000000', '2010-03-13T00:00:00.000000000',\n",
       "       '2010-03-14T00:00:00.000000000', '2010-03-15T00:00:00.000000000',\n",
       "       '2010-03-16T00:00:00.000000000', '2010-03-17T00:00:00.000000000',\n",
       "       '2010-03-18T00:00:00.000000000', '2010-03-19T00:00:00.000000000',\n",
       "       '2010-03-20T00:00:00.000000000', '2010-03-21T00:00:00.000000000',\n",
       "       '2010-03-22T00:00:00.000000000', '2010-03-23T00:00:00.000000000',\n",
       "       '2010-03-24T00:00:00.000000000', '2010-03-25T00:00:00.000000000',\n",
       "       '2010-03-26T00:00:00.000000000', '2010-03-27T00:00:00.000000000',\n",
       "       '2010-03-28T00:00:00.000000000', '2010-03-29T00:00:00.000000000',\n",
       "       '2010-03-30T00:00:00.000000000', '2010-03-31T00:00:00.000000000',\n",
       "       '2010-04-01T00:00:00.000000000', '2010-04-02T00:00:00.000000000',\n",
       "       '2010-04-03T00:00:00.000000000', '2010-04-04T00:00:00.000000000',\n",
       "       '2010-04-05T00:00:00.000000000', '2010-04-06T00:00:00.000000000',\n",
       "       '2010-04-07T00:00:00.000000000', '2010-04-08T00:00:00.000000000',\n",
       "       '2010-04-09T00:00:00.000000000', '2010-04-10T00:00:00.000000000',\n",
       "       '2010-04-11T00:00:00.000000000', '2010-04-12T00:00:00.000000000',\n",
       "       '2010-04-13T00:00:00.000000000', '2010-04-14T00:00:00.000000000',\n",
       "       '2010-04-15T00:00:00.000000000', '2010-04-16T00:00:00.000000000',\n",
       "       '2010-04-17T00:00:00.000000000', '2010-04-18T00:00:00.000000000',\n",
       "       '2010-04-19T00:00:00.000000000', '2010-04-20T00:00:00.000000000',\n",
       "       '2010-04-21T00:00:00.000000000', '2010-04-22T00:00:00.000000000',\n",
       "       '2010-04-23T00:00:00.000000000', '2010-04-24T00:00:00.000000000',\n",
       "       '2010-04-25T00:00:00.000000000', '2010-04-26T00:00:00.000000000',\n",
       "       '2010-04-27T00:00:00.000000000', '2010-04-28T00:00:00.000000000',\n",
       "       '2010-04-29T00:00:00.000000000', '2010-04-30T00:00:00.000000000',\n",
       "       '2010-05-01T00:00:00.000000000', '2010-05-02T00:00:00.000000000',\n",
       "       '2010-05-03T00:00:00.000000000', '2010-05-04T00:00:00.000000000',\n",
       "       '2010-05-05T00:00:00.000000000', '2010-05-06T00:00:00.000000000',\n",
       "       '2010-05-07T00:00:00.000000000', '2010-05-08T00:00:00.000000000',\n",
       "       '2010-05-09T00:00:00.000000000', '2010-05-10T00:00:00.000000000',\n",
       "       '2010-05-11T00:00:00.000000000', '2010-05-12T00:00:00.000000000',\n",
       "       '2010-05-13T00:00:00.000000000', '2010-05-14T00:00:00.000000000',\n",
       "       '2010-05-15T00:00:00.000000000', '2010-05-16T00:00:00.000000000',\n",
       "       '2010-05-17T00:00:00.000000000', '2010-05-18T00:00:00.000000000',\n",
       "       '2010-05-19T00:00:00.000000000', '2010-05-20T00:00:00.000000000',\n",
       "       '2010-05-21T00:00:00.000000000', '2010-05-22T00:00:00.000000000',\n",
       "       '2010-05-23T00:00:00.000000000', '2010-05-24T00:00:00.000000000',\n",
       "       '2010-05-25T00:00:00.000000000', '2010-05-26T00:00:00.000000000',\n",
       "       '2010-05-27T00:00:00.000000000', '2010-05-28T00:00:00.000000000',\n",
       "       '2010-05-29T00:00:00.000000000', '2010-05-30T00:00:00.000000000',\n",
       "       '2010-05-31T00:00:00.000000000', '2010-06-01T00:00:00.000000000',\n",
       "       '2010-06-02T00:00:00.000000000', '2010-06-03T00:00:00.000000000',\n",
       "       '2010-06-04T00:00:00.000000000', '2010-06-05T00:00:00.000000000',\n",
       "       '2010-06-06T00:00:00.000000000', '2010-06-07T00:00:00.000000000',\n",
       "       '2010-06-08T00:00:00.000000000', '2010-06-09T00:00:00.000000000',\n",
       "       '2010-06-10T00:00:00.000000000', '2010-06-11T00:00:00.000000000',\n",
       "       '2010-06-12T00:00:00.000000000', '2010-06-13T00:00:00.000000000',\n",
       "       '2010-06-14T00:00:00.000000000', '2010-06-15T00:00:00.000000000',\n",
       "       '2010-06-16T00:00:00.000000000', '2010-06-17T00:00:00.000000000',\n",
       "       '2010-06-18T00:00:00.000000000', '2010-06-19T00:00:00.000000000',\n",
       "       '2010-06-20T00:00:00.000000000', '2010-06-21T00:00:00.000000000',\n",
       "       '2010-06-22T00:00:00.000000000', '2010-06-23T00:00:00.000000000',\n",
       "       '2010-06-24T00:00:00.000000000', '2010-06-25T00:00:00.000000000',\n",
       "       '2010-06-26T00:00:00.000000000', '2010-06-27T00:00:00.000000000',\n",
       "       '2010-06-28T00:00:00.000000000', '2010-06-29T00:00:00.000000000',\n",
       "       '2010-06-30T00:00:00.000000000', '2010-07-01T00:00:00.000000000',\n",
       "       '2010-07-02T00:00:00.000000000', '2010-07-03T00:00:00.000000000',\n",
       "       '2010-07-04T00:00:00.000000000', '2010-07-05T00:00:00.000000000',\n",
       "       '2010-07-06T00:00:00.000000000', '2010-07-07T00:00:00.000000000',\n",
       "       '2010-07-08T00:00:00.000000000', '2010-07-09T00:00:00.000000000',\n",
       "       '2010-07-10T00:00:00.000000000', '2010-07-11T00:00:00.000000000',\n",
       "       '2010-07-12T00:00:00.000000000', '2010-07-13T00:00:00.000000000',\n",
       "       '2010-07-14T00:00:00.000000000', '2010-07-15T00:00:00.000000000',\n",
       "       '2010-07-16T00:00:00.000000000', '2010-07-17T00:00:00.000000000',\n",
       "       '2010-07-18T00:00:00.000000000', '2010-07-19T00:00:00.000000000',\n",
       "       '2010-07-20T00:00:00.000000000', '2010-07-21T00:00:00.000000000',\n",
       "       '2010-07-22T00:00:00.000000000', '2010-07-23T00:00:00.000000000',\n",
       "       '2010-07-24T00:00:00.000000000', '2010-07-25T00:00:00.000000000',\n",
       "       '2010-07-26T00:00:00.000000000', '2010-07-27T00:00:00.000000000',\n",
       "       '2010-07-28T00:00:00.000000000', '2010-07-29T00:00:00.000000000',\n",
       "       '2010-07-30T00:00:00.000000000', '2010-07-31T00:00:00.000000000',\n",
       "       '2010-08-01T00:00:00.000000000', '2010-08-02T00:00:00.000000000',\n",
       "       '2010-08-03T00:00:00.000000000', '2010-08-04T00:00:00.000000000',\n",
       "       '2010-08-05T00:00:00.000000000', '2010-08-06T00:00:00.000000000',\n",
       "       '2010-08-07T00:00:00.000000000', '2010-08-08T00:00:00.000000000',\n",
       "       '2010-08-09T00:00:00.000000000', '2010-08-10T00:00:00.000000000',\n",
       "       '2010-08-11T00:00:00.000000000', '2010-08-12T00:00:00.000000000',\n",
       "       '2010-08-13T00:00:00.000000000', '2010-08-14T00:00:00.000000000',\n",
       "       '2010-08-15T00:00:00.000000000', '2010-08-16T00:00:00.000000000',\n",
       "       '2010-08-17T00:00:00.000000000', '2010-08-18T00:00:00.000000000',\n",
       "       '2010-08-19T00:00:00.000000000', '2010-08-20T00:00:00.000000000',\n",
       "       '2010-08-21T00:00:00.000000000', '2010-08-22T00:00:00.000000000',\n",
       "       '2010-08-23T00:00:00.000000000', '2010-08-24T00:00:00.000000000',\n",
       "       '2010-08-25T00:00:00.000000000', '2010-08-26T00:00:00.000000000',\n",
       "       '2010-08-27T00:00:00.000000000', '2010-08-28T00:00:00.000000000',\n",
       "       '2010-08-29T00:00:00.000000000', '2010-08-30T00:00:00.000000000',\n",
       "       '2010-08-31T00:00:00.000000000', '2010-09-01T00:00:00.000000000',\n",
       "       '2010-09-02T00:00:00.000000000', '2010-09-03T00:00:00.000000000',\n",
       "       '2010-09-04T00:00:00.000000000', '2010-09-05T00:00:00.000000000',\n",
       "       '2010-09-06T00:00:00.000000000', '2010-09-07T00:00:00.000000000',\n",
       "       '2010-09-08T00:00:00.000000000', '2010-09-09T00:00:00.000000000',\n",
       "       '2010-09-10T00:00:00.000000000', '2010-09-11T00:00:00.000000000',\n",
       "       '2010-09-12T00:00:00.000000000', '2010-09-13T00:00:00.000000000',\n",
       "       '2010-09-14T00:00:00.000000000', '2010-09-15T00:00:00.000000000',\n",
       "       '2010-09-16T00:00:00.000000000', '2010-09-17T00:00:00.000000000',\n",
       "       '2010-09-18T00:00:00.000000000', '2010-09-19T00:00:00.000000000',\n",
       "       '2010-09-20T00:00:00.000000000', '2010-09-21T00:00:00.000000000',\n",
       "       '2010-09-22T00:00:00.000000000', '2010-09-23T00:00:00.000000000',\n",
       "       '2010-09-24T00:00:00.000000000', '2010-09-25T00:00:00.000000000',\n",
       "       '2010-09-26T00:00:00.000000000', '2010-09-27T00:00:00.000000000',\n",
       "       '2010-09-28T00:00:00.000000000', '2010-09-29T00:00:00.000000000',\n",
       "       '2010-09-30T00:00:00.000000000', '2010-10-01T00:00:00.000000000',\n",
       "       '2010-10-02T00:00:00.000000000', '2010-10-03T00:00:00.000000000',\n",
       "       '2010-10-04T00:00:00.000000000', '2010-10-05T00:00:00.000000000',\n",
       "       '2010-10-06T00:00:00.000000000', '2010-10-07T00:00:00.000000000',\n",
       "       '2010-10-08T00:00:00.000000000', '2010-10-09T00:00:00.000000000',\n",
       "       '2010-10-10T00:00:00.000000000', '2010-10-11T00:00:00.000000000',\n",
       "       '2010-10-12T00:00:00.000000000', '2010-10-13T00:00:00.000000000',\n",
       "       '2010-10-14T00:00:00.000000000', '2010-10-15T00:00:00.000000000',\n",
       "       '2010-10-16T00:00:00.000000000', '2010-10-17T00:00:00.000000000',\n",
       "       '2010-10-18T00:00:00.000000000', '2010-10-19T00:00:00.000000000',\n",
       "       '2010-10-20T00:00:00.000000000', '2010-10-21T00:00:00.000000000',\n",
       "       '2010-10-22T00:00:00.000000000', '2010-10-23T00:00:00.000000000',\n",
       "       '2010-10-24T00:00:00.000000000', '2010-10-25T00:00:00.000000000',\n",
       "       '2010-10-26T00:00:00.000000000', '2010-10-27T00:00:00.000000000',\n",
       "       '2010-10-28T00:00:00.000000000', '2010-10-29T00:00:00.000000000',\n",
       "       '2010-10-30T00:00:00.000000000', '2010-10-31T00:00:00.000000000',\n",
       "       '2010-11-01T00:00:00.000000000', '2010-11-02T00:00:00.000000000',\n",
       "       '2010-11-03T00:00:00.000000000', '2010-11-04T00:00:00.000000000',\n",
       "       '2010-11-05T00:00:00.000000000', '2010-11-06T00:00:00.000000000',\n",
       "       '2010-11-07T00:00:00.000000000', '2010-11-08T00:00:00.000000000',\n",
       "       '2010-11-09T00:00:00.000000000', '2010-11-10T00:00:00.000000000',\n",
       "       '2010-11-11T00:00:00.000000000', '2010-11-12T00:00:00.000000000',\n",
       "       '2010-11-13T00:00:00.000000000', '2010-11-14T00:00:00.000000000',\n",
       "       '2010-11-15T00:00:00.000000000', '2010-11-16T00:00:00.000000000',\n",
       "       '2010-11-17T00:00:00.000000000', '2010-11-18T00:00:00.000000000',\n",
       "       '2010-11-19T00:00:00.000000000', '2010-11-20T00:00:00.000000000',\n",
       "       '2010-11-21T00:00:00.000000000', '2010-11-22T00:00:00.000000000',\n",
       "       '2010-11-23T00:00:00.000000000', '2010-11-24T00:00:00.000000000',\n",
       "       '2010-11-25T00:00:00.000000000', '2010-11-26T00:00:00.000000000',\n",
       "       '2010-11-27T00:00:00.000000000', '2010-11-28T00:00:00.000000000',\n",
       "       '2010-11-29T00:00:00.000000000', '2010-11-30T00:00:00.000000000',\n",
       "       '2010-12-01T00:00:00.000000000', '2010-12-02T00:00:00.000000000',\n",
       "       '2010-12-03T00:00:00.000000000', '2010-12-04T00:00:00.000000000',\n",
       "       '2010-12-05T00:00:00.000000000', '2010-12-06T00:00:00.000000000',\n",
       "       '2010-12-07T00:00:00.000000000', '2010-12-08T00:00:00.000000000',\n",
       "       '2010-12-09T00:00:00.000000000', '2010-12-10T00:00:00.000000000',\n",
       "       '2010-12-11T00:00:00.000000000', '2010-12-12T00:00:00.000000000',\n",
       "       '2010-12-13T00:00:00.000000000', '2010-12-14T00:00:00.000000000',\n",
       "       '2010-12-15T00:00:00.000000000', '2010-12-16T00:00:00.000000000',\n",
       "       '2010-12-17T00:00:00.000000000', '2010-12-18T00:00:00.000000000',\n",
       "       '2010-12-19T00:00:00.000000000', '2010-12-20T00:00:00.000000000',\n",
       "       '2010-12-21T00:00:00.000000000', '2010-12-22T00:00:00.000000000',\n",
       "       '2010-12-23T00:00:00.000000000', '2010-12-24T00:00:00.000000000',\n",
       "       '2010-12-25T00:00:00.000000000', '2010-12-26T00:00:00.000000000',\n",
       "       '2010-12-27T00:00:00.000000000', '2010-12-28T00:00:00.000000000',\n",
       "       '2010-12-29T00:00:00.000000000', '2010-12-30T00:00:00.000000000',\n",
       "       '2010-12-31T00:00:00.000000000'], dtype='datetime64[ns]')"
      ]
     },
     "execution_count": 29,
     "metadata": {},
     "output_type": "execute_result"
    }
   ],
   "source": [
    "df_from_xls[\"FECHA\"].unique()"
   ]
  },
  {
   "cell_type": "code",
   "execution_count": 30,
   "metadata": {},
   "outputs": [
    {
     "data": {
      "text/plain": [
       "array(['DE 00:00 A 00:59', 'DE 1:00 A 1:59', 'DE 2:00 A 2:59',\n",
       "       'DE 4:00 A 4:59', 'DE 5:00 A 5:59', 'DE 8:00 A 8:59',\n",
       "       'DE 9:00 A 9:59', 'DE 20:00 A 20:59', 'DE 21:00 A 21:59',\n",
       "       'DE 6:00 A 6:59', 'DE 11:00 A 11:59', 'DE 12:00 A 12:59',\n",
       "       'DE 13:00 A 13:59', 'DE 14:00 A 14:59', 'DE 15:00 A 15:59',\n",
       "       'DE 18:00 A 18:59', 'DE 19:00 A 19:59', 'DE 22:00 A 22:59',\n",
       "       'DE 16:00 A 16:59', 'DE 17:00 A 17:59', 'DE 23:00 A 23:59',\n",
       "       'DE 7:00 A 7:59', 'DE 10:00 A 10:59', 'DE 3:00 A 3:59'],\n",
       "      dtype=object)"
      ]
     },
     "execution_count": 30,
     "metadata": {},
     "output_type": "execute_result"
    }
   ],
   "source": [
    "df_from_xls[\"RANGO_HORARIO\"].unique()"
   ]
  },
  {
   "cell_type": "code",
   "execution_count": 31,
   "metadata": {},
   "outputs": [
    {
     "data": {
      "text/plain": [
       "array(['VIERNES', 'SABADO', 'DOMINGO', 'LUNES', 'MARTES', 'MIERCOLES',\n",
       "       'JUEVES'], dtype=object)"
      ]
     },
     "execution_count": 31,
     "metadata": {},
     "output_type": "execute_result"
    }
   ],
   "source": [
    "df_from_xls[\"DIA_SEMANA\"].unique()"
   ]
  },
  {
   "cell_type": "code",
   "execution_count": 32,
   "metadata": {},
   "outputs": [
    {
     "data": {
      "text/plain": [
       "array(['CHAMARTIN', 'PUENTE DE VALLECAS', 'CHAMBERI', 'RETIRO',\n",
       "       'SALAMANCA', 'CARABANCHEL', 'CIUDAD LINEAL', 'MONCLOA-ARAVACA',\n",
       "       'TETUAN', 'VILLA DE VALLECAS', 'MORATALAZ', 'ARGANZUELA',\n",
       "       'SAN BLAS', 'VILLAVERDE', 'HORTALEZA', 'FUENCARRAL-EL PARDO',\n",
       "       'VICALVARO', 'USERA', 'LATINA', 'BARAJAS', 'CENTRO'], dtype=object)"
      ]
     },
     "execution_count": 32,
     "metadata": {},
     "output_type": "execute_result"
    }
   ],
   "source": [
    "df_from_xls[\"DISTRITO\"].unique()"
   ]
  },
  {
   "cell_type": "code",
   "execution_count": 33,
   "metadata": {},
   "outputs": [
    {
     "data": {
      "text/plain": [
       "array([ 1,  7,  2,  3,  4,  5,  9,  6,  8, 18, 13])"
      ]
     },
     "execution_count": 33,
     "metadata": {},
     "output_type": "execute_result"
    }
   ],
   "source": [
    "df_from_xls[\"NUM_PERSONAS\"].unique()"
   ]
  },
  {
   "cell_type": "code",
   "execution_count": 34,
   "metadata": {},
   "outputs": [
    {
     "data": {
      "text/plain": [
       "array(['COLISIÓN DOBLE', 'COLISIÓN MÚLTIPLE', 'CHOQUE CON OBJETO FIJO',\n",
       "       'CAÍDA MOTOCICLETA', 'ATROPELLO', 'VUELCO', 'CAÍDA CICLOMOTOR',\n",
       "       'CAÍDA VIAJERO BUS', 'OTRAS CAUSAS', 'CAÍDA BICICLETA'],\n",
       "      dtype=object)"
      ]
     },
     "execution_count": 34,
     "metadata": {},
     "output_type": "execute_result"
    }
   ],
   "source": [
    "df_from_xls[\"TIPO_ACCIDENTE\"].unique()"
   ]
  },
  {
   "cell_type": "code",
   "execution_count": 35,
   "metadata": {},
   "outputs": [
    {
     "data": {
      "text/plain": [
       "array(['TURISMO', 'NO ASIGNADO', 'FURGONETA', 'MOTOCICLETA', 'AUTO-TAXI',\n",
       "       'VARIOS', 'CAMION', 'CICLOMOTOR', 'AUTOBUS-AUTOCAR', 'BICICLETA',\n",
       "       'AMBULANCIA'], dtype=object)"
      ]
     },
     "execution_count": 35,
     "metadata": {},
     "output_type": "execute_result"
    }
   ],
   "source": [
    "df_from_xls[\"TIPO_VEHICULO\"].unique()"
   ]
  },
  {
   "cell_type": "code",
   "execution_count": 36,
   "metadata": {},
   "outputs": [
    {
     "data": {
      "text/plain": [
       "array(['CONDUCTOR', 'VIAJERO', 'TESTIGO', 'PEATON'], dtype=object)"
      ]
     },
     "execution_count": 36,
     "metadata": {},
     "output_type": "execute_result"
    }
   ],
   "source": [
    "df_from_xls[\"TIPO_PERSONA\"].unique()"
   ]
  },
  {
   "cell_type": "code",
   "execution_count": 37,
   "metadata": {},
   "outputs": [
    {
     "data": {
      "text/plain": [
       "array(['HOMBRE', 'MUJER', 'NO ASIGNADO'], dtype=object)"
      ]
     },
     "execution_count": 37,
     "metadata": {},
     "output_type": "execute_result"
    }
   ],
   "source": [
    "df_from_xls[\"SEXO\"].unique()"
   ]
  },
  {
   "cell_type": "code",
   "execution_count": 38,
   "metadata": {},
   "outputs": [
    {
     "data": {
      "text/plain": [
       "array(['IL', 'HL', 'HG', 'NO ASIGNADA', 'MT'], dtype=object)"
      ]
     },
     "execution_count": 38,
     "metadata": {},
     "output_type": "execute_result"
    }
   ],
   "source": [
    "df_from_xls[\"LESIVIDAD\"].unique()"
   ]
  },
  {
   "cell_type": "code",
   "execution_count": 39,
   "metadata": {},
   "outputs": [
    {
     "data": {
      "text/plain": [
       "array(['DE 18 A 20 AÑOS', 'DE 50 A 54 AÑOS', 'DE 40 A 44 AÑOS',\n",
       "       'DE 25 A 29 AÑOS', 'DE 30 A 34 ANOS', 'DE 21 A 24 AÑOS',\n",
       "       'DE 35 A 39 AÑOS', 'DE 60 A 64 AÑOS', 'DE 45 A 49 AÑOS',\n",
       "       'DE 0 A 5 AÑOS', 'DESCONOCIDA', 'DE 70 A 74 AÑOS',\n",
       "       'DE MAS DE 74 AÑOS', 'DE 10 A 14 AÑOS', 'DE 6 A 9 AÑOS',\n",
       "       'DE 55 A 59 AÑOS', 'DE 65 A 69 AÑOS', 'DE 15 A 17 AÑOS'],\n",
       "      dtype=object)"
      ]
     },
     "execution_count": 39,
     "metadata": {},
     "output_type": "execute_result"
    }
   ],
   "source": [
    "df_from_xls[\"TRAMO_EDAD\"].unique()"
   ]
  },
  {
   "cell_type": "code",
   "execution_count": 40,
   "metadata": {},
   "outputs": [
    {
     "data": {
      "text/plain": [
       "FECHA             datetime64[ns]\n",
       "RANGO_HORARIO             object\n",
       "DIA_SEMANA                object\n",
       "DISTRITO                  object\n",
       "NUM_PERSONAS               int64\n",
       "TIPO_ACCIDENTE            object\n",
       "TIPO_VEHICULO             object\n",
       "TIPO_PERSONA              object\n",
       "SEXO                      object\n",
       "LESIVIDAD                 object\n",
       "TRAMO_EDAD                object\n",
       "dtype: object"
      ]
     },
     "execution_count": 40,
     "metadata": {},
     "output_type": "execute_result"
    }
   ],
   "source": [
    "# View types\n",
    "df_from_xls.dtypes"
   ]
  },
  {
   "cell_type": "code",
   "execution_count": 41,
   "metadata": {},
   "outputs": [
    {
     "data": {
      "text/plain": [
       "FECHA             26578\n",
       "RANGO_HORARIO     26578\n",
       "DIA_SEMANA        26578\n",
       "DISTRITO          26578\n",
       "NUM_PERSONAS      26578\n",
       "TIPO_ACCIDENTE    26578\n",
       "TIPO_VEHICULO     26578\n",
       "TIPO_PERSONA      26578\n",
       "SEXO              26578\n",
       "LESIVIDAD         26578\n",
       "TRAMO_EDAD        26578\n",
       "dtype: int64"
      ]
     },
     "execution_count": 41,
     "metadata": {},
     "output_type": "execute_result"
    }
   ],
   "source": [
    "# Observations count\n",
    "df_from_xls.count()"
   ]
  },
  {
   "cell_type": "code",
   "execution_count": 42,
   "metadata": {},
   "outputs": [],
   "source": [
    "# Manipulate \"RANGO_HORARIO\" column for preprocesing data format"
   ]
  },
  {
   "cell_type": "code",
   "execution_count": 43,
   "metadata": {},
   "outputs": [
    {
     "data": {
      "text/plain": [
       "'DE 00:00 A 00:59'"
      ]
     },
     "execution_count": 43,
     "metadata": {},
     "output_type": "execute_result"
    }
   ],
   "source": [
    "df_from_xls[\"RANGO_HORARIO\"][0]"
   ]
  },
  {
   "cell_type": "code",
   "execution_count": 44,
   "metadata": {},
   "outputs": [],
   "source": [
    "df_from_xls['BORRAR'], df_from_xls['RESTO_RANGO_HORARIO'] = df_from_xls['RANGO_HORARIO'].str.split(' ', 1).str "
   ]
  },
  {
   "cell_type": "code",
   "execution_count": 45,
   "metadata": {},
   "outputs": [
    {
     "data": {
      "text/plain": [
       "Index(['FECHA', 'RANGO_HORARIO', 'DIA_SEMANA', 'DISTRITO', 'NUM_PERSONAS',\n",
       "       'TIPO_ACCIDENTE', 'TIPO_VEHICULO', 'TIPO_PERSONA', 'SEXO', 'LESIVIDAD',\n",
       "       'TRAMO_EDAD', 'BORRAR', 'RESTO_RANGO_HORARIO'],\n",
       "      dtype='object')"
      ]
     },
     "execution_count": 45,
     "metadata": {},
     "output_type": "execute_result"
    }
   ],
   "source": [
    "df_from_xls.columns"
   ]
  },
  {
   "cell_type": "code",
   "execution_count": 46,
   "metadata": {},
   "outputs": [
    {
     "data": {
      "text/html": [
       "<div>\n",
       "<style scoped>\n",
       "    .dataframe tbody tr th:only-of-type {\n",
       "        vertical-align: middle;\n",
       "    }\n",
       "\n",
       "    .dataframe tbody tr th {\n",
       "        vertical-align: top;\n",
       "    }\n",
       "\n",
       "    .dataframe thead th {\n",
       "        text-align: right;\n",
       "    }\n",
       "</style>\n",
       "<table border=\"1\" class=\"dataframe\">\n",
       "  <thead>\n",
       "    <tr style=\"text-align: right;\">\n",
       "      <th></th>\n",
       "      <th>FECHA</th>\n",
       "      <th>RANGO_HORARIO</th>\n",
       "      <th>DIA_SEMANA</th>\n",
       "      <th>DISTRITO</th>\n",
       "      <th>NUM_PERSONAS</th>\n",
       "      <th>TIPO_ACCIDENTE</th>\n",
       "      <th>TIPO_VEHICULO</th>\n",
       "      <th>TIPO_PERSONA</th>\n",
       "      <th>SEXO</th>\n",
       "      <th>LESIVIDAD</th>\n",
       "      <th>TRAMO_EDAD</th>\n",
       "      <th>BORRAR</th>\n",
       "      <th>RESTO_RANGO_HORARIO</th>\n",
       "    </tr>\n",
       "  </thead>\n",
       "  <tbody>\n",
       "    <tr>\n",
       "      <th>0</th>\n",
       "      <td>2010-01-01</td>\n",
       "      <td>DE 00:00 A 00:59</td>\n",
       "      <td>VIERNES</td>\n",
       "      <td>CHAMARTIN</td>\n",
       "      <td>1</td>\n",
       "      <td>COLISIÓN DOBLE</td>\n",
       "      <td>TURISMO</td>\n",
       "      <td>CONDUCTOR</td>\n",
       "      <td>HOMBRE</td>\n",
       "      <td>IL</td>\n",
       "      <td>DE 18 A 20 AÑOS</td>\n",
       "      <td>DE</td>\n",
       "      <td>00:00 A 00:59</td>\n",
       "    </tr>\n",
       "  </tbody>\n",
       "</table>\n",
       "</div>"
      ],
      "text/plain": [
       "       FECHA     RANGO_HORARIO DIA_SEMANA   DISTRITO  NUM_PERSONAS  \\\n",
       "0 2010-01-01  DE 00:00 A 00:59    VIERNES  CHAMARTIN             1   \n",
       "\n",
       "   TIPO_ACCIDENTE TIPO_VEHICULO TIPO_PERSONA    SEXO LESIVIDAD  \\\n",
       "0  COLISIÓN DOBLE       TURISMO    CONDUCTOR  HOMBRE        IL   \n",
       "\n",
       "        TRAMO_EDAD BORRAR RESTO_RANGO_HORARIO  \n",
       "0  DE 18 A 20 AÑOS     DE       00:00 A 00:59  "
      ]
     },
     "execution_count": 46,
     "metadata": {},
     "output_type": "execute_result"
    }
   ],
   "source": [
    "df_from_xls.head(1)"
   ]
  },
  {
   "cell_type": "code",
   "execution_count": 47,
   "metadata": {},
   "outputs": [],
   "source": [
    "del df_from_xls['BORRAR']"
   ]
  },
  {
   "cell_type": "code",
   "execution_count": 48,
   "metadata": {},
   "outputs": [
    {
     "data": {
      "text/html": [
       "<div>\n",
       "<style scoped>\n",
       "    .dataframe tbody tr th:only-of-type {\n",
       "        vertical-align: middle;\n",
       "    }\n",
       "\n",
       "    .dataframe tbody tr th {\n",
       "        vertical-align: top;\n",
       "    }\n",
       "\n",
       "    .dataframe thead th {\n",
       "        text-align: right;\n",
       "    }\n",
       "</style>\n",
       "<table border=\"1\" class=\"dataframe\">\n",
       "  <thead>\n",
       "    <tr style=\"text-align: right;\">\n",
       "      <th></th>\n",
       "      <th>FECHA</th>\n",
       "      <th>RANGO_HORARIO</th>\n",
       "      <th>DIA_SEMANA</th>\n",
       "      <th>DISTRITO</th>\n",
       "      <th>NUM_PERSONAS</th>\n",
       "      <th>TIPO_ACCIDENTE</th>\n",
       "      <th>TIPO_VEHICULO</th>\n",
       "      <th>TIPO_PERSONA</th>\n",
       "      <th>SEXO</th>\n",
       "      <th>LESIVIDAD</th>\n",
       "      <th>TRAMO_EDAD</th>\n",
       "      <th>RESTO_RANGO_HORARIO</th>\n",
       "    </tr>\n",
       "  </thead>\n",
       "  <tbody>\n",
       "    <tr>\n",
       "      <th>0</th>\n",
       "      <td>2010-01-01</td>\n",
       "      <td>DE 00:00 A 00:59</td>\n",
       "      <td>VIERNES</td>\n",
       "      <td>CHAMARTIN</td>\n",
       "      <td>1</td>\n",
       "      <td>COLISIÓN DOBLE</td>\n",
       "      <td>TURISMO</td>\n",
       "      <td>CONDUCTOR</td>\n",
       "      <td>HOMBRE</td>\n",
       "      <td>IL</td>\n",
       "      <td>DE 18 A 20 AÑOS</td>\n",
       "      <td>00:00 A 00:59</td>\n",
       "    </tr>\n",
       "  </tbody>\n",
       "</table>\n",
       "</div>"
      ],
      "text/plain": [
       "       FECHA     RANGO_HORARIO DIA_SEMANA   DISTRITO  NUM_PERSONAS  \\\n",
       "0 2010-01-01  DE 00:00 A 00:59    VIERNES  CHAMARTIN             1   \n",
       "\n",
       "   TIPO_ACCIDENTE TIPO_VEHICULO TIPO_PERSONA    SEXO LESIVIDAD  \\\n",
       "0  COLISIÓN DOBLE       TURISMO    CONDUCTOR  HOMBRE        IL   \n",
       "\n",
       "        TRAMO_EDAD RESTO_RANGO_HORARIO  \n",
       "0  DE 18 A 20 AÑOS       00:00 A 00:59  "
      ]
     },
     "execution_count": 48,
     "metadata": {},
     "output_type": "execute_result"
    }
   ],
   "source": [
    "df_from_xls.head(1)"
   ]
  },
  {
   "cell_type": "code",
   "execution_count": 49,
   "metadata": {},
   "outputs": [],
   "source": [
    "df_from_xls['HORA'], df_from_xls['BORRAR'] = df_from_xls['RESTO_RANGO_HORARIO'].str.split(' ', 1).str "
   ]
  },
  {
   "cell_type": "code",
   "execution_count": 50,
   "metadata": {},
   "outputs": [
    {
     "data": {
      "text/html": [
       "<div>\n",
       "<style scoped>\n",
       "    .dataframe tbody tr th:only-of-type {\n",
       "        vertical-align: middle;\n",
       "    }\n",
       "\n",
       "    .dataframe tbody tr th {\n",
       "        vertical-align: top;\n",
       "    }\n",
       "\n",
       "    .dataframe thead th {\n",
       "        text-align: right;\n",
       "    }\n",
       "</style>\n",
       "<table border=\"1\" class=\"dataframe\">\n",
       "  <thead>\n",
       "    <tr style=\"text-align: right;\">\n",
       "      <th></th>\n",
       "      <th>FECHA</th>\n",
       "      <th>RANGO_HORARIO</th>\n",
       "      <th>DIA_SEMANA</th>\n",
       "      <th>DISTRITO</th>\n",
       "      <th>NUM_PERSONAS</th>\n",
       "      <th>TIPO_ACCIDENTE</th>\n",
       "      <th>TIPO_VEHICULO</th>\n",
       "      <th>TIPO_PERSONA</th>\n",
       "      <th>SEXO</th>\n",
       "      <th>LESIVIDAD</th>\n",
       "      <th>TRAMO_EDAD</th>\n",
       "      <th>RESTO_RANGO_HORARIO</th>\n",
       "      <th>HORA</th>\n",
       "      <th>BORRAR</th>\n",
       "    </tr>\n",
       "  </thead>\n",
       "  <tbody>\n",
       "    <tr>\n",
       "      <th>0</th>\n",
       "      <td>2010-01-01</td>\n",
       "      <td>DE 00:00 A 00:59</td>\n",
       "      <td>VIERNES</td>\n",
       "      <td>CHAMARTIN</td>\n",
       "      <td>1</td>\n",
       "      <td>COLISIÓN DOBLE</td>\n",
       "      <td>TURISMO</td>\n",
       "      <td>CONDUCTOR</td>\n",
       "      <td>HOMBRE</td>\n",
       "      <td>IL</td>\n",
       "      <td>DE 18 A 20 AÑOS</td>\n",
       "      <td>00:00 A 00:59</td>\n",
       "      <td>00:00</td>\n",
       "      <td>A 00:59</td>\n",
       "    </tr>\n",
       "  </tbody>\n",
       "</table>\n",
       "</div>"
      ],
      "text/plain": [
       "       FECHA     RANGO_HORARIO DIA_SEMANA   DISTRITO  NUM_PERSONAS  \\\n",
       "0 2010-01-01  DE 00:00 A 00:59    VIERNES  CHAMARTIN             1   \n",
       "\n",
       "   TIPO_ACCIDENTE TIPO_VEHICULO TIPO_PERSONA    SEXO LESIVIDAD  \\\n",
       "0  COLISIÓN DOBLE       TURISMO    CONDUCTOR  HOMBRE        IL   \n",
       "\n",
       "        TRAMO_EDAD RESTO_RANGO_HORARIO   HORA   BORRAR  \n",
       "0  DE 18 A 20 AÑOS       00:00 A 00:59  00:00  A 00:59  "
      ]
     },
     "execution_count": 50,
     "metadata": {},
     "output_type": "execute_result"
    }
   ],
   "source": [
    "df_from_xls.head(1)"
   ]
  },
  {
   "cell_type": "code",
   "execution_count": 51,
   "metadata": {},
   "outputs": [],
   "source": [
    "df_from_xls = df_from_xls.drop([\"RANGO_HORARIO\",\"RESTO_RANGO_HORARIO\",\"BORRAR\"], axis=1)"
   ]
  },
  {
   "cell_type": "code",
   "execution_count": 52,
   "metadata": {},
   "outputs": [
    {
     "data": {
      "text/html": [
       "<div>\n",
       "<style scoped>\n",
       "    .dataframe tbody tr th:only-of-type {\n",
       "        vertical-align: middle;\n",
       "    }\n",
       "\n",
       "    .dataframe tbody tr th {\n",
       "        vertical-align: top;\n",
       "    }\n",
       "\n",
       "    .dataframe thead th {\n",
       "        text-align: right;\n",
       "    }\n",
       "</style>\n",
       "<table border=\"1\" class=\"dataframe\">\n",
       "  <thead>\n",
       "    <tr style=\"text-align: right;\">\n",
       "      <th></th>\n",
       "      <th>FECHA</th>\n",
       "      <th>DIA_SEMANA</th>\n",
       "      <th>DISTRITO</th>\n",
       "      <th>NUM_PERSONAS</th>\n",
       "      <th>TIPO_ACCIDENTE</th>\n",
       "      <th>TIPO_VEHICULO</th>\n",
       "      <th>TIPO_PERSONA</th>\n",
       "      <th>SEXO</th>\n",
       "      <th>LESIVIDAD</th>\n",
       "      <th>TRAMO_EDAD</th>\n",
       "      <th>HORA</th>\n",
       "    </tr>\n",
       "  </thead>\n",
       "  <tbody>\n",
       "    <tr>\n",
       "      <th>0</th>\n",
       "      <td>2010-01-01</td>\n",
       "      <td>VIERNES</td>\n",
       "      <td>CHAMARTIN</td>\n",
       "      <td>1</td>\n",
       "      <td>COLISIÓN DOBLE</td>\n",
       "      <td>TURISMO</td>\n",
       "      <td>CONDUCTOR</td>\n",
       "      <td>HOMBRE</td>\n",
       "      <td>IL</td>\n",
       "      <td>DE 18 A 20 AÑOS</td>\n",
       "      <td>00:00</td>\n",
       "    </tr>\n",
       "  </tbody>\n",
       "</table>\n",
       "</div>"
      ],
      "text/plain": [
       "       FECHA DIA_SEMANA   DISTRITO  NUM_PERSONAS  TIPO_ACCIDENTE  \\\n",
       "0 2010-01-01    VIERNES  CHAMARTIN             1  COLISIÓN DOBLE   \n",
       "\n",
       "  TIPO_VEHICULO TIPO_PERSONA    SEXO LESIVIDAD       TRAMO_EDAD   HORA  \n",
       "0       TURISMO    CONDUCTOR  HOMBRE        IL  DE 18 A 20 AÑOS  00:00  "
      ]
     },
     "execution_count": 52,
     "metadata": {},
     "output_type": "execute_result"
    }
   ],
   "source": [
    "df_from_xls.head(1)"
   ]
  },
  {
   "cell_type": "code",
   "execution_count": 53,
   "metadata": {},
   "outputs": [
    {
     "data": {
      "text/plain": [
       "Index(['FECHA', 'DIA_SEMANA', 'DISTRITO', 'NUM_PERSONAS', 'TIPO_ACCIDENTE',\n",
       "       'TIPO_VEHICULO', 'TIPO_PERSONA', 'SEXO', 'LESIVIDAD', 'TRAMO_EDAD',\n",
       "       'HORA'],\n",
       "      dtype='object')"
      ]
     },
     "execution_count": 53,
     "metadata": {},
     "output_type": "execute_result"
    }
   ],
   "source": [
    "df_from_xls.columns"
   ]
  },
  {
   "cell_type": "code",
   "execution_count": 54,
   "metadata": {},
   "outputs": [
    {
     "data": {
      "text/plain": [
       "'00:00'"
      ]
     },
     "execution_count": 54,
     "metadata": {},
     "output_type": "execute_result"
    }
   ],
   "source": [
    "df_from_xls[\"HORA\"][0]"
   ]
  },
  {
   "cell_type": "code",
   "execution_count": 55,
   "metadata": {},
   "outputs": [
    {
     "data": {
      "text/plain": [
       "Index(['FECHA', 'DIA_SEMANA', 'DISTRITO', 'NUM_PERSONAS', 'TIPO_ACCIDENTE',\n",
       "       'TIPO_VEHICULO', 'TIPO_PERSONA', 'SEXO', 'LESIVIDAD', 'TRAMO_EDAD',\n",
       "       'HORA'],\n",
       "      dtype='object')"
      ]
     },
     "execution_count": 55,
     "metadata": {},
     "output_type": "execute_result"
    }
   ],
   "source": [
    "df_from_xls.columns"
   ]
  },
  {
   "cell_type": "code",
   "execution_count": 56,
   "metadata": {},
   "outputs": [
    {
     "data": {
      "text/plain": [
       "['FECHA',\n",
       " 'DIA_SEMANA',\n",
       " 'DISTRITO',\n",
       " 'NUM_PERSONAS',\n",
       " 'TIPO_ACCIDENTE',\n",
       " 'TIPO_VEHICULO',\n",
       " 'TIPO_PERSONA',\n",
       " 'SEXO',\n",
       " 'LESIVIDAD',\n",
       " 'TRAMO_EDAD',\n",
       " 'HORA']"
      ]
     },
     "execution_count": 56,
     "metadata": {},
     "output_type": "execute_result"
    }
   ],
   "source": [
    "ordenar_columnas = df_from_xls.columns.tolist()\n",
    "ordenar_columnas"
   ]
  },
  {
   "cell_type": "code",
   "execution_count": 57,
   "metadata": {},
   "outputs": [
    {
     "data": {
      "text/plain": [
       "['FECHA',\n",
       " 'HORA',\n",
       " 'DIA_SEMANA',\n",
       " 'DISTRITO',\n",
       " 'NUM_PERSONAS',\n",
       " 'TIPO_ACCIDENTE',\n",
       " 'TIPO_VEHICULO',\n",
       " 'TIPO_PERSONA',\n",
       " 'SEXO',\n",
       " 'LESIVIDAD',\n",
       " 'TRAMO_EDAD']"
      ]
     },
     "execution_count": 57,
     "metadata": {},
     "output_type": "execute_result"
    }
   ],
   "source": [
    "# Order columns\n",
    "ordenar_columnas = ordenar_columnas[0:1] + ordenar_columnas[-1:] + ordenar_columnas[1:-1]\n",
    "ordenar_columnas"
   ]
  },
  {
   "cell_type": "code",
   "execution_count": 58,
   "metadata": {},
   "outputs": [
    {
     "data": {
      "text/html": [
       "<div>\n",
       "<style scoped>\n",
       "    .dataframe tbody tr th:only-of-type {\n",
       "        vertical-align: middle;\n",
       "    }\n",
       "\n",
       "    .dataframe tbody tr th {\n",
       "        vertical-align: top;\n",
       "    }\n",
       "\n",
       "    .dataframe thead th {\n",
       "        text-align: right;\n",
       "    }\n",
       "</style>\n",
       "<table border=\"1\" class=\"dataframe\">\n",
       "  <thead>\n",
       "    <tr style=\"text-align: right;\">\n",
       "      <th></th>\n",
       "      <th>FECHA</th>\n",
       "      <th>HORA</th>\n",
       "      <th>DIA_SEMANA</th>\n",
       "      <th>DISTRITO</th>\n",
       "      <th>NUM_PERSONAS</th>\n",
       "      <th>TIPO_ACCIDENTE</th>\n",
       "      <th>TIPO_VEHICULO</th>\n",
       "      <th>TIPO_PERSONA</th>\n",
       "      <th>SEXO</th>\n",
       "      <th>LESIVIDAD</th>\n",
       "      <th>TRAMO_EDAD</th>\n",
       "    </tr>\n",
       "  </thead>\n",
       "  <tbody>\n",
       "    <tr>\n",
       "      <th>0</th>\n",
       "      <td>2010-01-01</td>\n",
       "      <td>00:00</td>\n",
       "      <td>VIERNES</td>\n",
       "      <td>CHAMARTIN</td>\n",
       "      <td>1</td>\n",
       "      <td>COLISIÓN DOBLE</td>\n",
       "      <td>TURISMO</td>\n",
       "      <td>CONDUCTOR</td>\n",
       "      <td>HOMBRE</td>\n",
       "      <td>IL</td>\n",
       "      <td>DE 18 A 20 AÑOS</td>\n",
       "    </tr>\n",
       "    <tr>\n",
       "      <th>1</th>\n",
       "      <td>2010-01-01</td>\n",
       "      <td>00:00</td>\n",
       "      <td>VIERNES</td>\n",
       "      <td>CHAMARTIN</td>\n",
       "      <td>1</td>\n",
       "      <td>COLISIÓN DOBLE</td>\n",
       "      <td>TURISMO</td>\n",
       "      <td>CONDUCTOR</td>\n",
       "      <td>HOMBRE</td>\n",
       "      <td>IL</td>\n",
       "      <td>DE 50 A 54 AÑOS</td>\n",
       "    </tr>\n",
       "    <tr>\n",
       "      <th>2</th>\n",
       "      <td>2010-01-01</td>\n",
       "      <td>00:00</td>\n",
       "      <td>VIERNES</td>\n",
       "      <td>CHAMARTIN</td>\n",
       "      <td>1</td>\n",
       "      <td>COLISIÓN DOBLE</td>\n",
       "      <td>TURISMO</td>\n",
       "      <td>VIAJERO</td>\n",
       "      <td>MUJER</td>\n",
       "      <td>HL</td>\n",
       "      <td>DE 40 A 44 AÑOS</td>\n",
       "    </tr>\n",
       "    <tr>\n",
       "      <th>3</th>\n",
       "      <td>2010-01-01</td>\n",
       "      <td>1:00</td>\n",
       "      <td>VIERNES</td>\n",
       "      <td>PUENTE DE VALLECAS</td>\n",
       "      <td>7</td>\n",
       "      <td>COLISIÓN MÚLTIPLE</td>\n",
       "      <td>NO ASIGNADO</td>\n",
       "      <td>VIAJERO</td>\n",
       "      <td>MUJER</td>\n",
       "      <td>HL</td>\n",
       "      <td>DE 25 A 29 AÑOS</td>\n",
       "    </tr>\n",
       "    <tr>\n",
       "      <th>4</th>\n",
       "      <td>2010-01-01</td>\n",
       "      <td>1:00</td>\n",
       "      <td>VIERNES</td>\n",
       "      <td>PUENTE DE VALLECAS</td>\n",
       "      <td>7</td>\n",
       "      <td>COLISIÓN MÚLTIPLE</td>\n",
       "      <td>NO ASIGNADO</td>\n",
       "      <td>VIAJERO</td>\n",
       "      <td>MUJER</td>\n",
       "      <td>HL</td>\n",
       "      <td>DE 30 A 34 ANOS</td>\n",
       "    </tr>\n",
       "    <tr>\n",
       "      <th>...</th>\n",
       "      <td>...</td>\n",
       "      <td>...</td>\n",
       "      <td>...</td>\n",
       "      <td>...</td>\n",
       "      <td>...</td>\n",
       "      <td>...</td>\n",
       "      <td>...</td>\n",
       "      <td>...</td>\n",
       "      <td>...</td>\n",
       "      <td>...</td>\n",
       "      <td>...</td>\n",
       "    </tr>\n",
       "    <tr>\n",
       "      <th>26573</th>\n",
       "      <td>2010-12-31</td>\n",
       "      <td>20:00</td>\n",
       "      <td>VIERNES</td>\n",
       "      <td>ARGANZUELA</td>\n",
       "      <td>1</td>\n",
       "      <td>CAÍDA MOTOCICLETA</td>\n",
       "      <td>MOTOCICLETA</td>\n",
       "      <td>CONDUCTOR</td>\n",
       "      <td>HOMBRE</td>\n",
       "      <td>HL</td>\n",
       "      <td>DE 45 A 49 AÑOS</td>\n",
       "    </tr>\n",
       "    <tr>\n",
       "      <th>26574</th>\n",
       "      <td>2010-12-31</td>\n",
       "      <td>21:00</td>\n",
       "      <td>VIERNES</td>\n",
       "      <td>BARAJAS</td>\n",
       "      <td>1</td>\n",
       "      <td>CHOQUE CON OBJETO FIJO</td>\n",
       "      <td>MOTOCICLETA</td>\n",
       "      <td>CONDUCTOR</td>\n",
       "      <td>HOMBRE</td>\n",
       "      <td>HL</td>\n",
       "      <td>DE 30 A 34 ANOS</td>\n",
       "    </tr>\n",
       "    <tr>\n",
       "      <th>26575</th>\n",
       "      <td>2010-12-31</td>\n",
       "      <td>23:00</td>\n",
       "      <td>VIERNES</td>\n",
       "      <td>RETIRO</td>\n",
       "      <td>1</td>\n",
       "      <td>ATROPELLO</td>\n",
       "      <td>NO ASIGNADO</td>\n",
       "      <td>PEATON</td>\n",
       "      <td>HOMBRE</td>\n",
       "      <td>HL</td>\n",
       "      <td>DE 40 A 44 AÑOS</td>\n",
       "    </tr>\n",
       "    <tr>\n",
       "      <th>26576</th>\n",
       "      <td>2010-12-31</td>\n",
       "      <td>23:00</td>\n",
       "      <td>VIERNES</td>\n",
       "      <td>RETIRO</td>\n",
       "      <td>1</td>\n",
       "      <td>ATROPELLO</td>\n",
       "      <td>TURISMO</td>\n",
       "      <td>CONDUCTOR</td>\n",
       "      <td>MUJER</td>\n",
       "      <td>IL</td>\n",
       "      <td>DE 25 A 29 AÑOS</td>\n",
       "    </tr>\n",
       "    <tr>\n",
       "      <th>26577</th>\n",
       "      <td>2010-12-31</td>\n",
       "      <td>23:00</td>\n",
       "      <td>VIERNES</td>\n",
       "      <td>RETIRO</td>\n",
       "      <td>1</td>\n",
       "      <td>ATROPELLO</td>\n",
       "      <td>TURISMO</td>\n",
       "      <td>VIAJERO</td>\n",
       "      <td>HOMBRE</td>\n",
       "      <td>IL</td>\n",
       "      <td>DE 55 A 59 AÑOS</td>\n",
       "    </tr>\n",
       "  </tbody>\n",
       "</table>\n",
       "<p>26578 rows × 11 columns</p>\n",
       "</div>"
      ],
      "text/plain": [
       "           FECHA   HORA DIA_SEMANA            DISTRITO  NUM_PERSONAS  \\\n",
       "0     2010-01-01  00:00    VIERNES           CHAMARTIN             1   \n",
       "1     2010-01-01  00:00    VIERNES           CHAMARTIN             1   \n",
       "2     2010-01-01  00:00    VIERNES           CHAMARTIN             1   \n",
       "3     2010-01-01   1:00    VIERNES  PUENTE DE VALLECAS             7   \n",
       "4     2010-01-01   1:00    VIERNES  PUENTE DE VALLECAS             7   \n",
       "...          ...    ...        ...                 ...           ...   \n",
       "26573 2010-12-31  20:00    VIERNES          ARGANZUELA             1   \n",
       "26574 2010-12-31  21:00    VIERNES             BARAJAS             1   \n",
       "26575 2010-12-31  23:00    VIERNES              RETIRO             1   \n",
       "26576 2010-12-31  23:00    VIERNES              RETIRO             1   \n",
       "26577 2010-12-31  23:00    VIERNES              RETIRO             1   \n",
       "\n",
       "               TIPO_ACCIDENTE TIPO_VEHICULO TIPO_PERSONA    SEXO LESIVIDAD  \\\n",
       "0              COLISIÓN DOBLE       TURISMO    CONDUCTOR  HOMBRE        IL   \n",
       "1              COLISIÓN DOBLE       TURISMO    CONDUCTOR  HOMBRE        IL   \n",
       "2              COLISIÓN DOBLE       TURISMO      VIAJERO   MUJER        HL   \n",
       "3           COLISIÓN MÚLTIPLE   NO ASIGNADO      VIAJERO   MUJER        HL   \n",
       "4           COLISIÓN MÚLTIPLE   NO ASIGNADO      VIAJERO   MUJER        HL   \n",
       "...                       ...           ...          ...     ...       ...   \n",
       "26573       CAÍDA MOTOCICLETA   MOTOCICLETA    CONDUCTOR  HOMBRE        HL   \n",
       "26574  CHOQUE CON OBJETO FIJO   MOTOCICLETA    CONDUCTOR  HOMBRE        HL   \n",
       "26575               ATROPELLO   NO ASIGNADO       PEATON  HOMBRE        HL   \n",
       "26576               ATROPELLO       TURISMO    CONDUCTOR   MUJER        IL   \n",
       "26577               ATROPELLO       TURISMO      VIAJERO  HOMBRE        IL   \n",
       "\n",
       "            TRAMO_EDAD  \n",
       "0      DE 18 A 20 AÑOS  \n",
       "1      DE 50 A 54 AÑOS  \n",
       "2      DE 40 A 44 AÑOS  \n",
       "3      DE 25 A 29 AÑOS  \n",
       "4      DE 30 A 34 ANOS  \n",
       "...                ...  \n",
       "26573  DE 45 A 49 AÑOS  \n",
       "26574  DE 30 A 34 ANOS  \n",
       "26575  DE 40 A 44 AÑOS  \n",
       "26576  DE 25 A 29 AÑOS  \n",
       "26577  DE 55 A 59 AÑOS  \n",
       "\n",
       "[26578 rows x 11 columns]"
      ]
     },
     "execution_count": 58,
     "metadata": {},
     "output_type": "execute_result"
    }
   ],
   "source": [
    "df_from_xls = df_from_xls[ordenar_columnas]\n",
    "df_from_xls"
   ]
  },
  {
   "cell_type": "code",
   "execution_count": 59,
   "metadata": {},
   "outputs": [
    {
     "data": {
      "text/plain": [
       "Timestamp('2010-01-01 00:00:00')"
      ]
     },
     "execution_count": 59,
     "metadata": {},
     "output_type": "execute_result"
    }
   ],
   "source": [
    "# Manipulate \"FECHA\" column for preprocesing data format\n",
    "df_from_xls[\"FECHA\"][0]"
   ]
  },
  {
   "cell_type": "code",
   "execution_count": 60,
   "metadata": {},
   "outputs": [],
   "source": [
    "df_from_xls[\"FECHA\"] = df_from_xls[\"FECHA\"].dt.strftime('%d/%m/%Y')"
   ]
  },
  {
   "cell_type": "code",
   "execution_count": 61,
   "metadata": {},
   "outputs": [
    {
     "data": {
      "text/plain": [
       "'01/01/2010'"
      ]
     },
     "execution_count": 61,
     "metadata": {},
     "output_type": "execute_result"
    }
   ],
   "source": [
    "df_from_xls[\"FECHA\"][0]"
   ]
  },
  {
   "cell_type": "code",
   "execution_count": 62,
   "metadata": {},
   "outputs": [
    {
     "data": {
      "text/plain": [
       "pandas.core.series.Series"
      ]
     },
     "execution_count": 62,
     "metadata": {},
     "output_type": "execute_result"
    }
   ],
   "source": [
    "type(df_from_xls[\"FECHA\"])"
   ]
  },
  {
   "cell_type": "code",
   "execution_count": 63,
   "metadata": {},
   "outputs": [
    {
     "data": {
      "text/html": [
       "<div>\n",
       "<style scoped>\n",
       "    .dataframe tbody tr th:only-of-type {\n",
       "        vertical-align: middle;\n",
       "    }\n",
       "\n",
       "    .dataframe tbody tr th {\n",
       "        vertical-align: top;\n",
       "    }\n",
       "\n",
       "    .dataframe thead th {\n",
       "        text-align: right;\n",
       "    }\n",
       "</style>\n",
       "<table border=\"1\" class=\"dataframe\">\n",
       "  <thead>\n",
       "    <tr style=\"text-align: right;\">\n",
       "      <th></th>\n",
       "      <th>FECHA</th>\n",
       "      <th>HORA</th>\n",
       "      <th>DIA_SEMANA</th>\n",
       "      <th>DISTRITO</th>\n",
       "      <th>NUM_PERSONAS</th>\n",
       "      <th>TIPO_ACCIDENTE</th>\n",
       "      <th>TIPO_VEHICULO</th>\n",
       "      <th>TIPO_PERSONA</th>\n",
       "      <th>SEXO</th>\n",
       "      <th>LESIVIDAD</th>\n",
       "      <th>TRAMO_EDAD</th>\n",
       "    </tr>\n",
       "  </thead>\n",
       "  <tbody>\n",
       "    <tr>\n",
       "      <th>0</th>\n",
       "      <td>01/01/2010</td>\n",
       "      <td>00:00</td>\n",
       "      <td>VIERNES</td>\n",
       "      <td>CHAMARTIN</td>\n",
       "      <td>1</td>\n",
       "      <td>COLISIÓN DOBLE</td>\n",
       "      <td>TURISMO</td>\n",
       "      <td>CONDUCTOR</td>\n",
       "      <td>HOMBRE</td>\n",
       "      <td>IL</td>\n",
       "      <td>DE 18 A 20 AÑOS</td>\n",
       "    </tr>\n",
       "  </tbody>\n",
       "</table>\n",
       "</div>"
      ],
      "text/plain": [
       "        FECHA   HORA DIA_SEMANA   DISTRITO  NUM_PERSONAS  TIPO_ACCIDENTE  \\\n",
       "0  01/01/2010  00:00    VIERNES  CHAMARTIN             1  COLISIÓN DOBLE   \n",
       "\n",
       "  TIPO_VEHICULO TIPO_PERSONA    SEXO LESIVIDAD       TRAMO_EDAD  \n",
       "0       TURISMO    CONDUCTOR  HOMBRE        IL  DE 18 A 20 AÑOS  "
      ]
     },
     "execution_count": 63,
     "metadata": {},
     "output_type": "execute_result"
    }
   ],
   "source": [
    "df_from_xls.head(1)"
   ]
  },
  {
   "cell_type": "code",
   "execution_count": 64,
   "metadata": {},
   "outputs": [
    {
     "data": {
      "text/plain": [
       "FECHA             object\n",
       "HORA              object\n",
       "DIA_SEMANA        object\n",
       "DISTRITO          object\n",
       "NUM_PERSONAS       int64\n",
       "TIPO_ACCIDENTE    object\n",
       "TIPO_VEHICULO     object\n",
       "TIPO_PERSONA      object\n",
       "SEXO              object\n",
       "LESIVIDAD         object\n",
       "TRAMO_EDAD        object\n",
       "dtype: object"
      ]
     },
     "execution_count": 64,
     "metadata": {},
     "output_type": "execute_result"
    }
   ],
   "source": [
    "# View types\n",
    "df_from_xls.dtypes"
   ]
  },
  {
   "cell_type": "code",
   "execution_count": 65,
   "metadata": {},
   "outputs": [
    {
     "data": {
      "text/plain": [
       "array(['DE 18 A 20 AÑOS', 'DE 50 A 54 AÑOS', 'DE 40 A 44 AÑOS',\n",
       "       'DE 25 A 29 AÑOS', 'DE 30 A 34 ANOS', 'DE 21 A 24 AÑOS',\n",
       "       'DE 35 A 39 AÑOS', 'DE 60 A 64 AÑOS', 'DE 45 A 49 AÑOS',\n",
       "       'DE 0 A 5 AÑOS', 'DESCONOCIDA', 'DE 70 A 74 AÑOS',\n",
       "       'DE MAS DE 74 AÑOS', 'DE 10 A 14 AÑOS', 'DE 6 A 9 AÑOS',\n",
       "       'DE 55 A 59 AÑOS', 'DE 65 A 69 AÑOS', 'DE 15 A 17 AÑOS'],\n",
       "      dtype=object)"
      ]
     },
     "execution_count": 65,
     "metadata": {},
     "output_type": "execute_result"
    }
   ],
   "source": [
    "# Manipulate \"TRAMO_EDAD\" column for preprocesing data format\n",
    "df_from_xls[\"TRAMO_EDAD\"].unique()"
   ]
  },
  {
   "cell_type": "code",
   "execution_count": 66,
   "metadata": {},
   "outputs": [],
   "source": [
    "df_from_xls['BORRAR'], df_from_xls['EDAD'] = df_from_xls['TRAMO_EDAD'].str.split(' ', 1).str "
   ]
  },
  {
   "cell_type": "code",
   "execution_count": 67,
   "metadata": {},
   "outputs": [
    {
     "data": {
      "text/plain": [
       "Index(['FECHA', 'HORA', 'DIA_SEMANA', 'DISTRITO', 'NUM_PERSONAS',\n",
       "       'TIPO_ACCIDENTE', 'TIPO_VEHICULO', 'TIPO_PERSONA', 'SEXO', 'LESIVIDAD',\n",
       "       'TRAMO_EDAD', 'BORRAR', 'EDAD'],\n",
       "      dtype='object')"
      ]
     },
     "execution_count": 67,
     "metadata": {},
     "output_type": "execute_result"
    }
   ],
   "source": [
    "df_from_xls.columns"
   ]
  },
  {
   "cell_type": "code",
   "execution_count": 68,
   "metadata": {},
   "outputs": [
    {
     "data": {
      "text/plain": [
       "array(['18 A 20 AÑOS', '50 A 54 AÑOS', '40 A 44 AÑOS', '25 A 29 AÑOS',\n",
       "       '30 A 34 ANOS', '21 A 24 AÑOS', '35 A 39 AÑOS', '60 A 64 AÑOS',\n",
       "       '45 A 49 AÑOS', '0 A 5 AÑOS', nan, '70 A 74 AÑOS',\n",
       "       'MAS DE 74 AÑOS', '10 A 14 AÑOS', '6 A 9 AÑOS', '55 A 59 AÑOS',\n",
       "       '65 A 69 AÑOS', '15 A 17 AÑOS'], dtype=object)"
      ]
     },
     "execution_count": 68,
     "metadata": {},
     "output_type": "execute_result"
    }
   ],
   "source": [
    "df_from_xls[\"EDAD\"].unique()"
   ]
  },
  {
   "cell_type": "code",
   "execution_count": 69,
   "metadata": {},
   "outputs": [
    {
     "data": {
      "text/plain": [
       "FECHA                0\n",
       "HORA                 0\n",
       "DIA_SEMANA           0\n",
       "DISTRITO             0\n",
       "NUM_PERSONAS         0\n",
       "TIPO_ACCIDENTE       0\n",
       "TIPO_VEHICULO        0\n",
       "TIPO_PERSONA         0\n",
       "SEXO                 0\n",
       "LESIVIDAD            0\n",
       "TRAMO_EDAD           0\n",
       "BORRAR               0\n",
       "EDAD              2344\n",
       "dtype: int64"
      ]
     },
     "execution_count": 69,
     "metadata": {},
     "output_type": "execute_result"
    }
   ],
   "source": [
    "# Check NULL values\n",
    "df_from_xls.isnull().sum()"
   ]
  },
  {
   "cell_type": "code",
   "execution_count": 70,
   "metadata": {},
   "outputs": [],
   "source": [
    "# Delete surplus columns\n",
    "del df_from_xls['BORRAR']\n",
    "del df_from_xls['TRAMO_EDAD']"
   ]
  },
  {
   "cell_type": "code",
   "execution_count": 71,
   "metadata": {},
   "outputs": [],
   "source": [
    "df_from_xls['TRAMO_EDAD'], df_from_xls['BORRAR'] = df_from_xls['EDAD'].str.split(' ', 1).str "
   ]
  },
  {
   "cell_type": "code",
   "execution_count": 72,
   "metadata": {},
   "outputs": [
    {
     "data": {
      "text/plain": [
       "Index(['FECHA', 'HORA', 'DIA_SEMANA', 'DISTRITO', 'NUM_PERSONAS',\n",
       "       'TIPO_ACCIDENTE', 'TIPO_VEHICULO', 'TIPO_PERSONA', 'SEXO', 'LESIVIDAD',\n",
       "       'EDAD', 'TRAMO_EDAD', 'BORRAR'],\n",
       "      dtype='object')"
      ]
     },
     "execution_count": 72,
     "metadata": {},
     "output_type": "execute_result"
    }
   ],
   "source": [
    "df_from_xls.columns"
   ]
  },
  {
   "cell_type": "code",
   "execution_count": 73,
   "metadata": {},
   "outputs": [
    {
     "data": {
      "text/plain": [
       "array(['18', '50', '40', '25', '30', '21', '35', '60', '45', '0', nan,\n",
       "       '70', 'MAS', '10', '6', '55', '65', '15'], dtype=object)"
      ]
     },
     "execution_count": 73,
     "metadata": {},
     "output_type": "execute_result"
    }
   ],
   "source": [
    "# Review unique data per column\n",
    "df_from_xls[\"TRAMO_EDAD\"].unique()"
   ]
  },
  {
   "cell_type": "code",
   "execution_count": 74,
   "metadata": {},
   "outputs": [
    {
     "data": {
      "text/plain": [
       "FECHA                0\n",
       "HORA                 0\n",
       "DIA_SEMANA           0\n",
       "DISTRITO             0\n",
       "NUM_PERSONAS         0\n",
       "TIPO_ACCIDENTE       0\n",
       "TIPO_VEHICULO        0\n",
       "TIPO_PERSONA         0\n",
       "SEXO                 0\n",
       "LESIVIDAD            0\n",
       "EDAD              2344\n",
       "TRAMO_EDAD        2344\n",
       "BORRAR            2344\n",
       "dtype: int64"
      ]
     },
     "execution_count": 74,
     "metadata": {},
     "output_type": "execute_result"
    }
   ],
   "source": [
    "# Check NULL values\n",
    "df_from_xls.isnull().sum()"
   ]
  },
  {
   "cell_type": "code",
   "execution_count": 75,
   "metadata": {},
   "outputs": [],
   "source": [
    "# Delete surplus columns\n",
    "del df_from_xls['EDAD']\n",
    "del df_from_xls['BORRAR']"
   ]
  },
  {
   "cell_type": "code",
   "execution_count": 76,
   "metadata": {},
   "outputs": [
    {
     "data": {
      "text/plain": [
       "FECHA                0\n",
       "HORA                 0\n",
       "DIA_SEMANA           0\n",
       "DISTRITO             0\n",
       "NUM_PERSONAS         0\n",
       "TIPO_ACCIDENTE       0\n",
       "TIPO_VEHICULO        0\n",
       "TIPO_PERSONA         0\n",
       "SEXO                 0\n",
       "LESIVIDAD            0\n",
       "TRAMO_EDAD        2344\n",
       "dtype: int64"
      ]
     },
     "execution_count": 76,
     "metadata": {},
     "output_type": "execute_result"
    }
   ],
   "source": [
    "# Check NULL values\n",
    "df_from_xls.isnull().sum()"
   ]
  },
  {
   "cell_type": "code",
   "execution_count": 77,
   "metadata": {},
   "outputs": [],
   "source": [
    "# Transform data replacing values"
   ]
  },
  {
   "cell_type": "code",
   "execution_count": 78,
   "metadata": {},
   "outputs": [
    {
     "data": {
      "text/plain": [
       "array(['18', '50', '40', '25', '30', '21', '35', '60', '45', '0', nan,\n",
       "       '70', 'MAS', '10', '6', '55', '65', '15'], dtype=object)"
      ]
     },
     "execution_count": 78,
     "metadata": {},
     "output_type": "execute_result"
    }
   ],
   "source": [
    "df_from_xls[\"TRAMO_EDAD\"].unique()"
   ]
  },
  {
   "cell_type": "code",
   "execution_count": 79,
   "metadata": {},
   "outputs": [],
   "source": [
    "df_from_xls[\"TRAMO_EDAD\"] = df_from_xls[\"TRAMO_EDAD\"].replace({\"MAS\":74}, regex=True)"
   ]
  },
  {
   "cell_type": "code",
   "execution_count": 80,
   "metadata": {},
   "outputs": [
    {
     "data": {
      "text/plain": [
       "array(['18', '50', '40', '25', '30', '21', '35', '60', '45', '0', nan,\n",
       "       '70', 74, '10', '6', '55', '65', '15'], dtype=object)"
      ]
     },
     "execution_count": 80,
     "metadata": {},
     "output_type": "execute_result"
    }
   ],
   "source": [
    "df_from_xls[\"TRAMO_EDAD\"].unique()"
   ]
  },
  {
   "cell_type": "code",
   "execution_count": 81,
   "metadata": {},
   "outputs": [],
   "source": [
    "df_from_xls[\"TRAMO_EDAD\"].fillna(\"NO_ASIGNADO\", inplace=True) "
   ]
  },
  {
   "cell_type": "code",
   "execution_count": 82,
   "metadata": {},
   "outputs": [
    {
     "data": {
      "text/plain": [
       "array(['18', '50', '40', '25', '30', '21', '35', '60', '45', '0',\n",
       "       'NO_ASIGNADO', '70', 74, '10', '6', '55', '65', '15'], dtype=object)"
      ]
     },
     "execution_count": 82,
     "metadata": {},
     "output_type": "execute_result"
    }
   ],
   "source": [
    "df_from_xls[\"TRAMO_EDAD\"].unique()"
   ]
  },
  {
   "cell_type": "code",
   "execution_count": 83,
   "metadata": {},
   "outputs": [
    {
     "data": {
      "text/plain": [
       "FECHA             0\n",
       "HORA              0\n",
       "DIA_SEMANA        0\n",
       "DISTRITO          0\n",
       "NUM_PERSONAS      0\n",
       "TIPO_ACCIDENTE    0\n",
       "TIPO_VEHICULO     0\n",
       "TIPO_PERSONA      0\n",
       "SEXO              0\n",
       "LESIVIDAD         0\n",
       "TRAMO_EDAD        0\n",
       "dtype: int64"
      ]
     },
     "execution_count": 83,
     "metadata": {},
     "output_type": "execute_result"
    }
   ],
   "source": [
    "# Check NULL values\n",
    "df_from_xls.isnull().sum()"
   ]
  },
  {
   "cell_type": "code",
   "execution_count": 84,
   "metadata": {},
   "outputs": [
    {
     "data": {
      "text/plain": [
       "(26578, 11)"
      ]
     },
     "execution_count": 84,
     "metadata": {},
     "output_type": "execute_result"
    }
   ],
   "source": [
    "df_from_xls.shape"
   ]
  },
  {
   "cell_type": "code",
   "execution_count": 85,
   "metadata": {},
   "outputs": [
    {
     "data": {
      "text/plain": [
       "877"
      ]
     },
     "execution_count": 85,
     "metadata": {},
     "output_type": "execute_result"
    }
   ],
   "source": [
    "# Review duplicated\n",
    "df_from_xls.duplicated().sum()"
   ]
  },
  {
   "cell_type": "code",
   "execution_count": 86,
   "metadata": {},
   "outputs": [
    {
     "data": {
      "text/plain": [
       "array(['VIERNES', 'SABADO', 'DOMINGO', 'LUNES', 'MARTES', 'MIERCOLES',\n",
       "       'JUEVES'], dtype=object)"
      ]
     },
     "execution_count": 86,
     "metadata": {},
     "output_type": "execute_result"
    }
   ],
   "source": [
    "# Manipulate \"DIA_SEMANA\" column for preprocesing data format\n",
    "df_from_xls[\"DIA_SEMANA\"].unique()"
   ]
  },
  {
   "cell_type": "code",
   "execution_count": 87,
   "metadata": {},
   "outputs": [],
   "source": [
    "df_from_xls[\"DIA_SEMANA\"].fillna(\"NO_ASIGNADO\", inplace=True) "
   ]
  },
  {
   "cell_type": "code",
   "execution_count": 88,
   "metadata": {},
   "outputs": [
    {
     "data": {
      "text/plain": [
       "array(['CHAMARTIN', 'PUENTE DE VALLECAS', 'CHAMBERI', 'RETIRO',\n",
       "       'SALAMANCA', 'CARABANCHEL', 'CIUDAD LINEAL', 'MONCLOA-ARAVACA',\n",
       "       'TETUAN', 'VILLA DE VALLECAS', 'MORATALAZ', 'ARGANZUELA',\n",
       "       'SAN BLAS', 'VILLAVERDE', 'HORTALEZA', 'FUENCARRAL-EL PARDO',\n",
       "       'VICALVARO', 'USERA', 'LATINA', 'BARAJAS', 'CENTRO'], dtype=object)"
      ]
     },
     "execution_count": 88,
     "metadata": {},
     "output_type": "execute_result"
    }
   ],
   "source": [
    "# Manipulate \"DISTRITO\" column for preprocesing data format\n",
    "df_from_xls[\"DISTRITO\"].unique()"
   ]
  },
  {
   "cell_type": "code",
   "execution_count": 89,
   "metadata": {},
   "outputs": [],
   "source": [
    "df_from_xls[\"DISTRITO\"].fillna(\"NO_ASIGNADO\", inplace=True) "
   ]
  },
  {
   "cell_type": "code",
   "execution_count": 90,
   "metadata": {},
   "outputs": [
    {
     "data": {
      "text/plain": [
       "array([ 1,  7,  2,  3,  4,  5,  9,  6,  8, 18, 13])"
      ]
     },
     "execution_count": 90,
     "metadata": {},
     "output_type": "execute_result"
    }
   ],
   "source": [
    "# Manipulate \"NUM_PERSONAS\" column for preprocesing data format\n",
    "df_from_xls[\"NUM_PERSONAS\"].unique()"
   ]
  },
  {
   "cell_type": "code",
   "execution_count": 91,
   "metadata": {},
   "outputs": [],
   "source": [
    "df_from_xls[\"NUM_PERSONAS\"].fillna(\"NO_ASIGNADO\", inplace=True) "
   ]
  },
  {
   "cell_type": "code",
   "execution_count": 92,
   "metadata": {},
   "outputs": [
    {
     "data": {
      "text/plain": [
       "array(['COLISIÓN DOBLE', 'COLISIÓN MÚLTIPLE', 'CHOQUE CON OBJETO FIJO',\n",
       "       'CAÍDA MOTOCICLETA', 'ATROPELLO', 'VUELCO', 'CAÍDA CICLOMOTOR',\n",
       "       'CAÍDA VIAJERO BUS', 'OTRAS CAUSAS', 'CAÍDA BICICLETA'],\n",
       "      dtype=object)"
      ]
     },
     "execution_count": 92,
     "metadata": {},
     "output_type": "execute_result"
    }
   ],
   "source": [
    "# Manipulate \"TIPO_ACCIDENTE\" column for preprocesing data format\n",
    "df_from_xls[\"TIPO_ACCIDENTE\"].unique()"
   ]
  },
  {
   "cell_type": "code",
   "execution_count": 93,
   "metadata": {},
   "outputs": [],
   "source": [
    "df_from_xls[\"TIPO_ACCIDENTE\"].fillna(\"NO_ASIGNADO\", inplace=True) "
   ]
  },
  {
   "cell_type": "code",
   "execution_count": 94,
   "metadata": {},
   "outputs": [
    {
     "data": {
      "text/plain": [
       "array(['TURISMO', 'NO ASIGNADO', 'FURGONETA', 'MOTOCICLETA', 'AUTO-TAXI',\n",
       "       'VARIOS', 'CAMION', 'CICLOMOTOR', 'AUTOBUS-AUTOCAR', 'BICICLETA',\n",
       "       'AMBULANCIA'], dtype=object)"
      ]
     },
     "execution_count": 94,
     "metadata": {},
     "output_type": "execute_result"
    }
   ],
   "source": [
    "# Manipulate \"TIPO_VEHICULO\" column for preprocesing data format\n",
    "df_from_xls[\"TIPO_VEHICULO\"].unique()"
   ]
  },
  {
   "cell_type": "code",
   "execution_count": 95,
   "metadata": {},
   "outputs": [],
   "source": [
    "df_from_xls[\"TIPO_VEHICULO\"].fillna(\"NO_ASIGNADO\", inplace=True) "
   ]
  },
  {
   "cell_type": "code",
   "execution_count": 96,
   "metadata": {},
   "outputs": [
    {
     "data": {
      "text/plain": [
       "array(['CONDUCTOR', 'VIAJERO', 'TESTIGO', 'PEATON'], dtype=object)"
      ]
     },
     "execution_count": 96,
     "metadata": {},
     "output_type": "execute_result"
    }
   ],
   "source": [
    "# Manipulate \"TIPO_PERSONA\" column for preprocesing data format\n",
    "df_from_xls[\"TIPO_PERSONA\"].unique()"
   ]
  },
  {
   "cell_type": "code",
   "execution_count": 97,
   "metadata": {},
   "outputs": [],
   "source": [
    "df_from_xls[\"TIPO_PERSONA\"].fillna(\"NO_ASIGNADO\", inplace=True) "
   ]
  },
  {
   "cell_type": "code",
   "execution_count": 98,
   "metadata": {},
   "outputs": [
    {
     "data": {
      "text/plain": [
       "array(['HOMBRE', 'MUJER', 'NO ASIGNADO'], dtype=object)"
      ]
     },
     "execution_count": 98,
     "metadata": {},
     "output_type": "execute_result"
    }
   ],
   "source": [
    "# Manipulate \"SEXO\" column for preprocesing data format\n",
    "df_from_xls[\"SEXO\"].unique()"
   ]
  },
  {
   "cell_type": "code",
   "execution_count": 99,
   "metadata": {},
   "outputs": [],
   "source": [
    "df_from_xls[\"SEXO\"].fillna(\"NO ASIGNADO\", inplace=True) "
   ]
  },
  {
   "cell_type": "code",
   "execution_count": 100,
   "metadata": {},
   "outputs": [
    {
     "data": {
      "text/plain": [
       "array(['IL', 'HL', 'HG', 'NO ASIGNADA', 'MT'], dtype=object)"
      ]
     },
     "execution_count": 100,
     "metadata": {},
     "output_type": "execute_result"
    }
   ],
   "source": [
    "# Manipulate \"LESIVIDAD\" column for preprocesing data format\n",
    "df_from_xls[\"LESIVIDAD\"].unique()"
   ]
  },
  {
   "cell_type": "code",
   "execution_count": 101,
   "metadata": {},
   "outputs": [],
   "source": [
    "df_from_xls[\"LESIVIDAD\"].fillna(\"NO ASIGNADO\", inplace=True) "
   ]
  },
  {
   "cell_type": "code",
   "execution_count": 102,
   "metadata": {},
   "outputs": [
    {
     "data": {
      "text/plain": [
       "array(['00:00', '1:00', '2:00', '4:00', '5:00', '8:00', '9:00', '20:00',\n",
       "       '21:00', '6:00', '11:00', '12:00', '13:00', '14:00', '15:00',\n",
       "       '18:00', '19:00', '22:00', '16:00', '17:00', '23:00', '7:00',\n",
       "       '10:00', '3:00'], dtype=object)"
      ]
     },
     "execution_count": 102,
     "metadata": {},
     "output_type": "execute_result"
    }
   ],
   "source": [
    "# Manipulate \"HORA\" column for preprocesing data format\n",
    "df_from_xls[\"HORA\"].unique()"
   ]
  },
  {
   "cell_type": "code",
   "execution_count": 103,
   "metadata": {},
   "outputs": [],
   "source": [
    "df_from_xls[\"HORA\"].fillna(\"NO_ASIGNADO\", inplace=True) "
   ]
  },
  {
   "cell_type": "code",
   "execution_count": 104,
   "metadata": {},
   "outputs": [
    {
     "data": {
      "text/plain": [
       "array(['18', '50', '40', '25', '30', '21', '35', '60', '45', '0',\n",
       "       'NO_ASIGNADO', '70', 74, '10', '6', '55', '65', '15'], dtype=object)"
      ]
     },
     "execution_count": 104,
     "metadata": {},
     "output_type": "execute_result"
    }
   ],
   "source": [
    "# Manipulate \"TRAMO_EDAD\" column for preprocesing data format\n",
    "df_from_xls[\"TRAMO_EDAD\"].unique()"
   ]
  },
  {
   "cell_type": "code",
   "execution_count": 105,
   "metadata": {},
   "outputs": [],
   "source": [
    "df_from_xls[\"TRAMO_EDAD\"].fillna(\"NO_ASIGNADO\", inplace=True) "
   ]
  },
  {
   "cell_type": "code",
   "execution_count": 106,
   "metadata": {},
   "outputs": [
    {
     "data": {
      "text/html": [
       "<div>\n",
       "<style scoped>\n",
       "    .dataframe tbody tr th:only-of-type {\n",
       "        vertical-align: middle;\n",
       "    }\n",
       "\n",
       "    .dataframe tbody tr th {\n",
       "        vertical-align: top;\n",
       "    }\n",
       "\n",
       "    .dataframe thead th {\n",
       "        text-align: right;\n",
       "    }\n",
       "</style>\n",
       "<table border=\"1\" class=\"dataframe\">\n",
       "  <thead>\n",
       "    <tr style=\"text-align: right;\">\n",
       "      <th></th>\n",
       "      <th>FECHA</th>\n",
       "      <th>HORA</th>\n",
       "      <th>DIA_SEMANA</th>\n",
       "      <th>DISTRITO</th>\n",
       "      <th>NUM_PERSONAS</th>\n",
       "      <th>TIPO_ACCIDENTE</th>\n",
       "      <th>TIPO_VEHICULO</th>\n",
       "      <th>TIPO_PERSONA</th>\n",
       "      <th>SEXO</th>\n",
       "      <th>LESIVIDAD</th>\n",
       "      <th>TRAMO_EDAD</th>\n",
       "    </tr>\n",
       "  </thead>\n",
       "  <tbody>\n",
       "    <tr>\n",
       "      <th>0</th>\n",
       "      <td>01/01/2010</td>\n",
       "      <td>00:00</td>\n",
       "      <td>VIERNES</td>\n",
       "      <td>CHAMARTIN</td>\n",
       "      <td>1</td>\n",
       "      <td>COLISIÓN DOBLE</td>\n",
       "      <td>TURISMO</td>\n",
       "      <td>CONDUCTOR</td>\n",
       "      <td>HOMBRE</td>\n",
       "      <td>IL</td>\n",
       "      <td>18</td>\n",
       "    </tr>\n",
       "    <tr>\n",
       "      <th>1</th>\n",
       "      <td>01/01/2010</td>\n",
       "      <td>00:00</td>\n",
       "      <td>VIERNES</td>\n",
       "      <td>CHAMARTIN</td>\n",
       "      <td>1</td>\n",
       "      <td>COLISIÓN DOBLE</td>\n",
       "      <td>TURISMO</td>\n",
       "      <td>CONDUCTOR</td>\n",
       "      <td>HOMBRE</td>\n",
       "      <td>IL</td>\n",
       "      <td>50</td>\n",
       "    </tr>\n",
       "    <tr>\n",
       "      <th>2</th>\n",
       "      <td>01/01/2010</td>\n",
       "      <td>00:00</td>\n",
       "      <td>VIERNES</td>\n",
       "      <td>CHAMARTIN</td>\n",
       "      <td>1</td>\n",
       "      <td>COLISIÓN DOBLE</td>\n",
       "      <td>TURISMO</td>\n",
       "      <td>VIAJERO</td>\n",
       "      <td>MUJER</td>\n",
       "      <td>HL</td>\n",
       "      <td>40</td>\n",
       "    </tr>\n",
       "    <tr>\n",
       "      <th>3</th>\n",
       "      <td>01/01/2010</td>\n",
       "      <td>1:00</td>\n",
       "      <td>VIERNES</td>\n",
       "      <td>PUENTE DE VALLECAS</td>\n",
       "      <td>7</td>\n",
       "      <td>COLISIÓN MÚLTIPLE</td>\n",
       "      <td>NO ASIGNADO</td>\n",
       "      <td>VIAJERO</td>\n",
       "      <td>MUJER</td>\n",
       "      <td>HL</td>\n",
       "      <td>25</td>\n",
       "    </tr>\n",
       "    <tr>\n",
       "      <th>4</th>\n",
       "      <td>01/01/2010</td>\n",
       "      <td>1:00</td>\n",
       "      <td>VIERNES</td>\n",
       "      <td>PUENTE DE VALLECAS</td>\n",
       "      <td>7</td>\n",
       "      <td>COLISIÓN MÚLTIPLE</td>\n",
       "      <td>NO ASIGNADO</td>\n",
       "      <td>VIAJERO</td>\n",
       "      <td>MUJER</td>\n",
       "      <td>HL</td>\n",
       "      <td>30</td>\n",
       "    </tr>\n",
       "  </tbody>\n",
       "</table>\n",
       "</div>"
      ],
      "text/plain": [
       "        FECHA   HORA DIA_SEMANA            DISTRITO  NUM_PERSONAS  \\\n",
       "0  01/01/2010  00:00    VIERNES           CHAMARTIN             1   \n",
       "1  01/01/2010  00:00    VIERNES           CHAMARTIN             1   \n",
       "2  01/01/2010  00:00    VIERNES           CHAMARTIN             1   \n",
       "3  01/01/2010   1:00    VIERNES  PUENTE DE VALLECAS             7   \n",
       "4  01/01/2010   1:00    VIERNES  PUENTE DE VALLECAS             7   \n",
       "\n",
       "      TIPO_ACCIDENTE TIPO_VEHICULO TIPO_PERSONA    SEXO LESIVIDAD TRAMO_EDAD  \n",
       "0     COLISIÓN DOBLE       TURISMO    CONDUCTOR  HOMBRE        IL         18  \n",
       "1     COLISIÓN DOBLE       TURISMO    CONDUCTOR  HOMBRE        IL         50  \n",
       "2     COLISIÓN DOBLE       TURISMO      VIAJERO   MUJER        HL         40  \n",
       "3  COLISIÓN MÚLTIPLE   NO ASIGNADO      VIAJERO   MUJER        HL         25  \n",
       "4  COLISIÓN MÚLTIPLE   NO ASIGNADO      VIAJERO   MUJER        HL         30  "
      ]
     },
     "execution_count": 106,
     "metadata": {},
     "output_type": "execute_result"
    }
   ],
   "source": [
    "df_from_xls.head()"
   ]
  },
  {
   "cell_type": "code",
   "execution_count": 107,
   "metadata": {},
   "outputs": [
    {
     "data": {
      "text/plain": [
       "Index(['FECHA', 'HORA', 'DIA_SEMANA', 'DISTRITO', 'NUM_PERSONAS',\n",
       "       'TIPO_ACCIDENTE', 'TIPO_VEHICULO', 'TIPO_PERSONA', 'SEXO', 'LESIVIDAD',\n",
       "       'TRAMO_EDAD'],\n",
       "      dtype='object')"
      ]
     },
     "execution_count": 107,
     "metadata": {},
     "output_type": "execute_result"
    }
   ],
   "source": [
    "df_from_xls.columns"
   ]
  },
  {
   "cell_type": "code",
   "execution_count": 108,
   "metadata": {},
   "outputs": [
    {
     "data": {
      "text/plain": [
       "'1:00'"
      ]
     },
     "execution_count": 108,
     "metadata": {},
     "output_type": "execute_result"
    }
   ],
   "source": [
    "df_from_xls[\"HORA\"][3]"
   ]
  },
  {
   "cell_type": "code",
   "execution_count": 109,
   "metadata": {},
   "outputs": [
    {
     "name": "stdout",
     "output_type": "stream",
     "text": [
      "00:00\n"
     ]
    }
   ],
   "source": [
    "df_from_xls[\"HORA\"] = pd.to_datetime(df_from_xls[\"HORA\"],errors=\"coerce\").dt.strftime(\"%H:%M\")\n",
    "print (df_from_xls[\"HORA\"][0])"
   ]
  },
  {
   "cell_type": "code",
   "execution_count": 110,
   "metadata": {},
   "outputs": [
    {
     "data": {
      "text/plain": [
       "dtype('O')"
      ]
     },
     "execution_count": 110,
     "metadata": {},
     "output_type": "execute_result"
    }
   ],
   "source": [
    "df_from_xls.HORA.dtype"
   ]
  },
  {
   "cell_type": "code",
   "execution_count": 111,
   "metadata": {},
   "outputs": [
    {
     "data": {
      "text/plain": [
       "FECHA             object\n",
       "HORA              object\n",
       "DIA_SEMANA        object\n",
       "DISTRITO          object\n",
       "NUM_PERSONAS       int64\n",
       "TIPO_ACCIDENTE    object\n",
       "TIPO_VEHICULO     object\n",
       "TIPO_PERSONA      object\n",
       "SEXO              object\n",
       "LESIVIDAD         object\n",
       "TRAMO_EDAD        object\n",
       "dtype: object"
      ]
     },
     "execution_count": 111,
     "metadata": {},
     "output_type": "execute_result"
    }
   ],
   "source": [
    "# View types\n",
    "df_from_xls.dtypes"
   ]
  },
  {
   "cell_type": "code",
   "execution_count": 112,
   "metadata": {},
   "outputs": [
    {
     "data": {
      "text/html": [
       "<div>\n",
       "<style scoped>\n",
       "    .dataframe tbody tr th:only-of-type {\n",
       "        vertical-align: middle;\n",
       "    }\n",
       "\n",
       "    .dataframe tbody tr th {\n",
       "        vertical-align: top;\n",
       "    }\n",
       "\n",
       "    .dataframe thead th {\n",
       "        text-align: right;\n",
       "    }\n",
       "</style>\n",
       "<table border=\"1\" class=\"dataframe\">\n",
       "  <thead>\n",
       "    <tr style=\"text-align: right;\">\n",
       "      <th></th>\n",
       "      <th>FECHA</th>\n",
       "      <th>HORA</th>\n",
       "      <th>DIA_SEMANA</th>\n",
       "      <th>DISTRITO</th>\n",
       "      <th>NUM_PERSONAS</th>\n",
       "      <th>TIPO_ACCIDENTE</th>\n",
       "      <th>TIPO_VEHICULO</th>\n",
       "      <th>TIPO_PERSONA</th>\n",
       "      <th>SEXO</th>\n",
       "      <th>LESIVIDAD</th>\n",
       "      <th>TRAMO_EDAD</th>\n",
       "    </tr>\n",
       "  </thead>\n",
       "  <tbody>\n",
       "    <tr>\n",
       "      <th>0</th>\n",
       "      <td>01/01/2010</td>\n",
       "      <td>00:00</td>\n",
       "      <td>VIERNES</td>\n",
       "      <td>CHAMARTIN</td>\n",
       "      <td>1</td>\n",
       "      <td>COLISIÓN DOBLE</td>\n",
       "      <td>TURISMO</td>\n",
       "      <td>CONDUCTOR</td>\n",
       "      <td>HOMBRE</td>\n",
       "      <td>IL</td>\n",
       "      <td>18</td>\n",
       "    </tr>\n",
       "  </tbody>\n",
       "</table>\n",
       "</div>"
      ],
      "text/plain": [
       "        FECHA   HORA DIA_SEMANA   DISTRITO  NUM_PERSONAS  TIPO_ACCIDENTE  \\\n",
       "0  01/01/2010  00:00    VIERNES  CHAMARTIN             1  COLISIÓN DOBLE   \n",
       "\n",
       "  TIPO_VEHICULO TIPO_PERSONA    SEXO LESIVIDAD TRAMO_EDAD  \n",
       "0       TURISMO    CONDUCTOR  HOMBRE        IL         18  "
      ]
     },
     "execution_count": 112,
     "metadata": {},
     "output_type": "execute_result"
    }
   ],
   "source": [
    "df_from_xls.head(1)"
   ]
  },
  {
   "cell_type": "code",
   "execution_count": 113,
   "metadata": {},
   "outputs": [
    {
     "data": {
      "text/plain": [
       "0    18\n",
       "1    50\n",
       "2    40\n",
       "3    25\n",
       "4    30\n",
       "Name: TRAMO_EDAD, dtype: object"
      ]
     },
     "execution_count": 113,
     "metadata": {},
     "output_type": "execute_result"
    }
   ],
   "source": [
    "df_from_xls.TRAMO_EDAD.head()"
   ]
  },
  {
   "cell_type": "code",
   "execution_count": 114,
   "metadata": {},
   "outputs": [
    {
     "data": {
      "text/plain": [
       "array(['18', '50', '40', '25', '30', '21', '35', '60', '45', '0',\n",
       "       'NO_ASIGNADO', '70', 74, '10', '6', '55', '65', '15'], dtype=object)"
      ]
     },
     "execution_count": 114,
     "metadata": {},
     "output_type": "execute_result"
    }
   ],
   "source": [
    "df_from_xls[\"TRAMO_EDAD\"].unique()"
   ]
  },
  {
   "cell_type": "code",
   "execution_count": 115,
   "metadata": {},
   "outputs": [
    {
     "data": {
      "text/plain": [
       "FECHA             26578\n",
       "HORA              26578\n",
       "DIA_SEMANA        26578\n",
       "DISTRITO          26578\n",
       "NUM_PERSONAS      26578\n",
       "TIPO_ACCIDENTE    26578\n",
       "TIPO_VEHICULO     26578\n",
       "TIPO_PERSONA      26578\n",
       "SEXO              26578\n",
       "LESIVIDAD         26578\n",
       "TRAMO_EDAD        26578\n",
       "dtype: int64"
      ]
     },
     "execution_count": 115,
     "metadata": {},
     "output_type": "execute_result"
    }
   ],
   "source": [
    "df_from_xls.count()"
   ]
  },
  {
   "cell_type": "code",
   "execution_count": 116,
   "metadata": {},
   "outputs": [],
   "source": [
    "# Review \"NO_ASIGNADO\" values of columns"
   ]
  },
  {
   "cell_type": "code",
   "execution_count": 117,
   "metadata": {},
   "outputs": [
    {
     "data": {
      "text/plain": [
       "False    24234\n",
       "True      2344\n",
       "Name: TRAMO_EDAD, dtype: int64"
      ]
     },
     "execution_count": 117,
     "metadata": {},
     "output_type": "execute_result"
    }
   ],
   "source": [
    "pd.value_counts(df_from_xls['TRAMO_EDAD']=='NO_ASIGNADO', sort=True, ascending=False, normalize=False, bins=None, dropna=False)"
   ]
  },
  {
   "cell_type": "code",
   "execution_count": 118,
   "metadata": {},
   "outputs": [],
   "source": [
    "# and replace with 999 by transformer from \"TRAMO_EDAD\"\tto \"EDAD_APROX\" in range agreement\n",
    "df_from_xls[\"TRAMO_EDAD\"] = df_from_xls[\"TRAMO_EDAD\"].replace({\"NO_ASIGNADO\":999}, regex=True)"
   ]
  },
  {
   "cell_type": "code",
   "execution_count": 119,
   "metadata": {},
   "outputs": [
    {
     "data": {
      "text/plain": [
       "False    26578\n",
       "Name: TRAMO_EDAD, dtype: int64"
      ]
     },
     "execution_count": 119,
     "metadata": {},
     "output_type": "execute_result"
    }
   ],
   "source": [
    "pd.value_counts(df_from_xls['TRAMO_EDAD']=='NO_ASIGNADO', sort=True, ascending=False, normalize=False, bins=None, dropna=False)"
   ]
  },
  {
   "cell_type": "code",
   "execution_count": 120,
   "metadata": {},
   "outputs": [],
   "source": [
    "df_from_xls[\"TRAMO_EDAD\"] = pd.to_numeric(df_from_xls[\"TRAMO_EDAD\"])"
   ]
  },
  {
   "cell_type": "code",
   "execution_count": 121,
   "metadata": {},
   "outputs": [
    {
     "data": {
      "text/plain": [
       "dtype('int64')"
      ]
     },
     "execution_count": 121,
     "metadata": {},
     "output_type": "execute_result"
    }
   ],
   "source": [
    "df_from_xls.TRAMO_EDAD.dtype"
   ]
  },
  {
   "cell_type": "code",
   "execution_count": 122,
   "metadata": {},
   "outputs": [
    {
     "data": {
      "text/plain": [
       "0        20\n",
       "1        50\n",
       "2        40\n",
       "3        25\n",
       "4        30\n",
       "         ..\n",
       "26573    45\n",
       "26574    30\n",
       "26575    40\n",
       "26576    25\n",
       "26577    55\n",
       "Name: EDAD_APROX, Length: 26578, dtype: object"
      ]
     },
     "execution_count": 122,
     "metadata": {},
     "output_type": "execute_result"
    }
   ],
   "source": [
    "#df.loc[df.column_name condition, 'new column name'] = 'value if condition is met'\n",
    "#df['new column name'] = df['df column_name'].apply(lambda x: 'value if condition is met' if x condition else 'value if condition is not met')\n",
    "#df_from_xls.loc[(df_from_xls.TRAMO_EDAD >= 0) & (df_from_xls.TRAMO_EDAD < 10), 5] = 'Mis-Match'  \n",
    "\n",
    "df_from_xls['EDAD_APROX'] = df_from_xls['TRAMO_EDAD'].apply\\\n",
    "(lambda x : 0 if x <= 0 else (5 if x <= 5 else (10 if x <= 10 else (15 if x <= 15 else \\\n",
    "(20 if x <= 20 else (25 if x <= 25 else (30 if x <= 30 else (35 if x <= 35 else \\\n",
    "(40 if x <= 40 else (45 if x <= 45 else (50 if x <= 50 else (55 if x <= 55 else \\\n",
    "(60 if x <= 50 else (65 if x <= 65 else (70 if x <= 70 else (75 if x <= 75 else \\\n",
    "(80 if x <= 80 else (85 if x <= 85 else (90 if x <= 90 else (95 if x <= 95 else \\\n",
    "(100 if x <= 100 else (105 if x <= 105 else (110 if x <= 110 else (115 if x <= 115 else \\\n",
    "(120 if x <= 120 else (125 if x <= 125 else 'NO_ASIGNADO'))))))))))))))))))))))))))\n",
    "\n",
    "df_from_xls['EDAD_APROX']\n",
    "\n"
   ]
  },
  {
   "cell_type": "code",
   "execution_count": 123,
   "metadata": {},
   "outputs": [
    {
     "data": {
      "text/plain": [
       "dtype('O')"
      ]
     },
     "execution_count": 123,
     "metadata": {},
     "output_type": "execute_result"
    }
   ],
   "source": [
    "df_from_xls.EDAD_APROX.dtype"
   ]
  },
  {
   "cell_type": "code",
   "execution_count": 124,
   "metadata": {},
   "outputs": [
    {
     "data": {
      "text/plain": [
       "False    24234\n",
       "True      2344\n",
       "Name: EDAD_APROX, dtype: int64"
      ]
     },
     "execution_count": 124,
     "metadata": {},
     "output_type": "execute_result"
    }
   ],
   "source": [
    "pd.value_counts(df_from_xls['EDAD_APROX']=='NO_ASIGNADO', sort=True, ascending=False, normalize=False, bins=None, dropna=False)"
   ]
  },
  {
   "cell_type": "code",
   "execution_count": 125,
   "metadata": {},
   "outputs": [],
   "source": [
    "del df_from_xls['TRAMO_EDAD']"
   ]
  },
  {
   "cell_type": "code",
   "execution_count": 126,
   "metadata": {},
   "outputs": [
    {
     "data": {
      "text/plain": [
       "Index(['FECHA', 'HORA', 'DIA_SEMANA', 'DISTRITO', 'NUM_PERSONAS',\n",
       "       'TIPO_ACCIDENTE', 'TIPO_VEHICULO', 'TIPO_PERSONA', 'SEXO', 'LESIVIDAD',\n",
       "       'EDAD_APROX'],\n",
       "      dtype='object')"
      ]
     },
     "execution_count": 126,
     "metadata": {},
     "output_type": "execute_result"
    }
   ],
   "source": [
    "df_from_xls.columns"
   ]
  },
  {
   "cell_type": "code",
   "execution_count": 127,
   "metadata": {},
   "outputs": [
    {
     "data": {
      "text/plain": [
       "FECHA             object\n",
       "HORA              object\n",
       "DIA_SEMANA        object\n",
       "DISTRITO          object\n",
       "NUM_PERSONAS       int64\n",
       "TIPO_ACCIDENTE    object\n",
       "TIPO_VEHICULO     object\n",
       "TIPO_PERSONA      object\n",
       "SEXO              object\n",
       "LESIVIDAD         object\n",
       "EDAD_APROX        object\n",
       "dtype: object"
      ]
     },
     "execution_count": 127,
     "metadata": {},
     "output_type": "execute_result"
    }
   ],
   "source": [
    "df_from_xls.dtypes"
   ]
  },
  {
   "cell_type": "code",
   "execution_count": 128,
   "metadata": {},
   "outputs": [
    {
     "data": {
      "text/html": [
       "<div>\n",
       "<style scoped>\n",
       "    .dataframe tbody tr th:only-of-type {\n",
       "        vertical-align: middle;\n",
       "    }\n",
       "\n",
       "    .dataframe tbody tr th {\n",
       "        vertical-align: top;\n",
       "    }\n",
       "\n",
       "    .dataframe thead th {\n",
       "        text-align: right;\n",
       "    }\n",
       "</style>\n",
       "<table border=\"1\" class=\"dataframe\">\n",
       "  <thead>\n",
       "    <tr style=\"text-align: right;\">\n",
       "      <th></th>\n",
       "      <th>FECHA</th>\n",
       "      <th>HORA</th>\n",
       "      <th>DIA_SEMANA</th>\n",
       "      <th>DISTRITO</th>\n",
       "      <th>NUM_PERSONAS</th>\n",
       "      <th>TIPO_ACCIDENTE</th>\n",
       "      <th>TIPO_VEHICULO</th>\n",
       "      <th>TIPO_PERSONA</th>\n",
       "      <th>SEXO</th>\n",
       "      <th>LESIVIDAD</th>\n",
       "      <th>EDAD_APROX</th>\n",
       "    </tr>\n",
       "  </thead>\n",
       "  <tbody>\n",
       "    <tr>\n",
       "      <th>0</th>\n",
       "      <td>01/01/2010</td>\n",
       "      <td>00:00</td>\n",
       "      <td>VIERNES</td>\n",
       "      <td>CHAMARTIN</td>\n",
       "      <td>1</td>\n",
       "      <td>COLISIÓN DOBLE</td>\n",
       "      <td>TURISMO</td>\n",
       "      <td>CONDUCTOR</td>\n",
       "      <td>HOMBRE</td>\n",
       "      <td>IL</td>\n",
       "      <td>20</td>\n",
       "    </tr>\n",
       "  </tbody>\n",
       "</table>\n",
       "</div>"
      ],
      "text/plain": [
       "        FECHA   HORA DIA_SEMANA   DISTRITO  NUM_PERSONAS  TIPO_ACCIDENTE  \\\n",
       "0  01/01/2010  00:00    VIERNES  CHAMARTIN             1  COLISIÓN DOBLE   \n",
       "\n",
       "  TIPO_VEHICULO TIPO_PERSONA    SEXO LESIVIDAD EDAD_APROX  \n",
       "0       TURISMO    CONDUCTOR  HOMBRE        IL         20  "
      ]
     },
     "execution_count": 128,
     "metadata": {},
     "output_type": "execute_result"
    }
   ],
   "source": [
    "df_from_xls.head(1)"
   ]
  },
  {
   "cell_type": "code",
   "execution_count": 129,
   "metadata": {},
   "outputs": [
    {
     "data": {
      "text/plain": [
       "array(['IL', 'HL', 'HG', 'NO ASIGNADA', 'MT'], dtype=object)"
      ]
     },
     "execution_count": 129,
     "metadata": {},
     "output_type": "execute_result"
    }
   ],
   "source": [
    "# and replace with others labels by transformer \"LESIVIDAD\" in range agreement\n",
    "df_from_xls[\"LESIVIDAD\"].unique()"
   ]
  },
  {
   "cell_type": "code",
   "execution_count": 130,
   "metadata": {},
   "outputs": [],
   "source": [
    "df_from_xls[\"LESIVIDAD\"] = df_from_xls[\"LESIVIDAD\"].replace({\"IL\":'INGRESO_LEVE'}, regex=True)\n",
    "df_from_xls[\"LESIVIDAD\"] = df_from_xls[\"LESIVIDAD\"].replace({\"HL\":'HERIDO_LEVE'}, regex=True)\n",
    "df_from_xls[\"LESIVIDAD\"] = df_from_xls[\"LESIVIDAD\"].replace({\"HG\":'HERIDO_GRAVE'}, regex=True)\n",
    "df_from_xls[\"LESIVIDAD\"] = df_from_xls[\"LESIVIDAD\"].replace({\"NO ASIGNADA\":'NO_ASIGNADO'}, regex=True)\n",
    "df_from_xls[\"LESIVIDAD\"] = df_from_xls[\"LESIVIDAD\"].replace({\"MT\":'MUERTO'}, regex=True)"
   ]
  },
  {
   "cell_type": "code",
   "execution_count": 131,
   "metadata": {},
   "outputs": [
    {
     "data": {
      "text/plain": [
       "array(['INGRESO_LEVE', 'HERIDO_LEVE', 'HERIDO_GRAVE', 'NO_ASIGNADO',\n",
       "       'MUERTO'], dtype=object)"
      ]
     },
     "execution_count": 131,
     "metadata": {},
     "output_type": "execute_result"
    }
   ],
   "source": [
    "df_from_xls[\"LESIVIDAD\"].unique()"
   ]
  },
  {
   "cell_type": "code",
   "execution_count": 132,
   "metadata": {},
   "outputs": [
    {
     "data": {
      "text/html": [
       "<div>\n",
       "<style scoped>\n",
       "    .dataframe tbody tr th:only-of-type {\n",
       "        vertical-align: middle;\n",
       "    }\n",
       "\n",
       "    .dataframe tbody tr th {\n",
       "        vertical-align: top;\n",
       "    }\n",
       "\n",
       "    .dataframe thead th {\n",
       "        text-align: right;\n",
       "    }\n",
       "</style>\n",
       "<table border=\"1\" class=\"dataframe\">\n",
       "  <thead>\n",
       "    <tr style=\"text-align: right;\">\n",
       "      <th></th>\n",
       "      <th>FECHA</th>\n",
       "      <th>HORA</th>\n",
       "      <th>DIA_SEMANA</th>\n",
       "      <th>DISTRITO</th>\n",
       "      <th>NUM_PERSONAS</th>\n",
       "      <th>TIPO_ACCIDENTE</th>\n",
       "      <th>TIPO_VEHICULO</th>\n",
       "      <th>TIPO_PERSONA</th>\n",
       "      <th>SEXO</th>\n",
       "      <th>LESIVIDAD</th>\n",
       "      <th>EDAD_APROX</th>\n",
       "    </tr>\n",
       "  </thead>\n",
       "  <tbody>\n",
       "    <tr>\n",
       "      <th>0</th>\n",
       "      <td>01/01/2010</td>\n",
       "      <td>00:00</td>\n",
       "      <td>VIERNES</td>\n",
       "      <td>CHAMARTIN</td>\n",
       "      <td>1</td>\n",
       "      <td>COLISIÓN DOBLE</td>\n",
       "      <td>TURISMO</td>\n",
       "      <td>CONDUCTOR</td>\n",
       "      <td>HOMBRE</td>\n",
       "      <td>INGRESO_LEVE</td>\n",
       "      <td>20</td>\n",
       "    </tr>\n",
       "    <tr>\n",
       "      <th>1</th>\n",
       "      <td>01/01/2010</td>\n",
       "      <td>00:00</td>\n",
       "      <td>VIERNES</td>\n",
       "      <td>CHAMARTIN</td>\n",
       "      <td>1</td>\n",
       "      <td>COLISIÓN DOBLE</td>\n",
       "      <td>TURISMO</td>\n",
       "      <td>CONDUCTOR</td>\n",
       "      <td>HOMBRE</td>\n",
       "      <td>INGRESO_LEVE</td>\n",
       "      <td>50</td>\n",
       "    </tr>\n",
       "    <tr>\n",
       "      <th>2</th>\n",
       "      <td>01/01/2010</td>\n",
       "      <td>00:00</td>\n",
       "      <td>VIERNES</td>\n",
       "      <td>CHAMARTIN</td>\n",
       "      <td>1</td>\n",
       "      <td>COLISIÓN DOBLE</td>\n",
       "      <td>TURISMO</td>\n",
       "      <td>VIAJERO</td>\n",
       "      <td>MUJER</td>\n",
       "      <td>HERIDO_LEVE</td>\n",
       "      <td>40</td>\n",
       "    </tr>\n",
       "    <tr>\n",
       "      <th>3</th>\n",
       "      <td>01/01/2010</td>\n",
       "      <td>01:00</td>\n",
       "      <td>VIERNES</td>\n",
       "      <td>PUENTE DE VALLECAS</td>\n",
       "      <td>7</td>\n",
       "      <td>COLISIÓN MÚLTIPLE</td>\n",
       "      <td>NO ASIGNADO</td>\n",
       "      <td>VIAJERO</td>\n",
       "      <td>MUJER</td>\n",
       "      <td>HERIDO_LEVE</td>\n",
       "      <td>25</td>\n",
       "    </tr>\n",
       "    <tr>\n",
       "      <th>4</th>\n",
       "      <td>01/01/2010</td>\n",
       "      <td>01:00</td>\n",
       "      <td>VIERNES</td>\n",
       "      <td>PUENTE DE VALLECAS</td>\n",
       "      <td>7</td>\n",
       "      <td>COLISIÓN MÚLTIPLE</td>\n",
       "      <td>NO ASIGNADO</td>\n",
       "      <td>VIAJERO</td>\n",
       "      <td>MUJER</td>\n",
       "      <td>HERIDO_LEVE</td>\n",
       "      <td>30</td>\n",
       "    </tr>\n",
       "  </tbody>\n",
       "</table>\n",
       "</div>"
      ],
      "text/plain": [
       "        FECHA   HORA DIA_SEMANA            DISTRITO  NUM_PERSONAS  \\\n",
       "0  01/01/2010  00:00    VIERNES           CHAMARTIN             1   \n",
       "1  01/01/2010  00:00    VIERNES           CHAMARTIN             1   \n",
       "2  01/01/2010  00:00    VIERNES           CHAMARTIN             1   \n",
       "3  01/01/2010  01:00    VIERNES  PUENTE DE VALLECAS             7   \n",
       "4  01/01/2010  01:00    VIERNES  PUENTE DE VALLECAS             7   \n",
       "\n",
       "      TIPO_ACCIDENTE TIPO_VEHICULO TIPO_PERSONA    SEXO     LESIVIDAD  \\\n",
       "0     COLISIÓN DOBLE       TURISMO    CONDUCTOR  HOMBRE  INGRESO_LEVE   \n",
       "1     COLISIÓN DOBLE       TURISMO    CONDUCTOR  HOMBRE  INGRESO_LEVE   \n",
       "2     COLISIÓN DOBLE       TURISMO      VIAJERO   MUJER   HERIDO_LEVE   \n",
       "3  COLISIÓN MÚLTIPLE   NO ASIGNADO      VIAJERO   MUJER   HERIDO_LEVE   \n",
       "4  COLISIÓN MÚLTIPLE   NO ASIGNADO      VIAJERO   MUJER   HERIDO_LEVE   \n",
       "\n",
       "  EDAD_APROX  \n",
       "0         20  \n",
       "1         50  \n",
       "2         40  \n",
       "3         25  \n",
       "4         30  "
      ]
     },
     "execution_count": 132,
     "metadata": {},
     "output_type": "execute_result"
    }
   ],
   "source": [
    "df_from_xls.head()"
   ]
  },
  {
   "cell_type": "code",
   "execution_count": 133,
   "metadata": {},
   "outputs": [
    {
     "data": {
      "text/plain": [
       "array(['HOMBRE', 'MUJER', 'NO ASIGNADO'], dtype=object)"
      ]
     },
     "execution_count": 133,
     "metadata": {},
     "output_type": "execute_result"
    }
   ],
   "source": [
    "# Replace with others labels by transformer \"SEXO\" in range agreement\n",
    "df_from_xls[\"SEXO\"].unique()"
   ]
  },
  {
   "cell_type": "code",
   "execution_count": 134,
   "metadata": {},
   "outputs": [],
   "source": [
    "df_from_xls[\"SEXO\"] = df_from_xls[\"SEXO\"].replace({\"NO ASIGNADO\":'NO_ASIGNADO'}, regex=True)"
   ]
  },
  {
   "cell_type": "code",
   "execution_count": 135,
   "metadata": {},
   "outputs": [
    {
     "data": {
      "text/plain": [
       "array(['HOMBRE', 'MUJER', 'NO_ASIGNADO'], dtype=object)"
      ]
     },
     "execution_count": 135,
     "metadata": {},
     "output_type": "execute_result"
    }
   ],
   "source": [
    "df_from_xls[\"SEXO\"].unique()"
   ]
  },
  {
   "cell_type": "code",
   "execution_count": 136,
   "metadata": {},
   "outputs": [
    {
     "data": {
      "text/html": [
       "<div>\n",
       "<style scoped>\n",
       "    .dataframe tbody tr th:only-of-type {\n",
       "        vertical-align: middle;\n",
       "    }\n",
       "\n",
       "    .dataframe tbody tr th {\n",
       "        vertical-align: top;\n",
       "    }\n",
       "\n",
       "    .dataframe thead th {\n",
       "        text-align: right;\n",
       "    }\n",
       "</style>\n",
       "<table border=\"1\" class=\"dataframe\">\n",
       "  <thead>\n",
       "    <tr style=\"text-align: right;\">\n",
       "      <th></th>\n",
       "      <th>FECHA</th>\n",
       "      <th>HORA</th>\n",
       "      <th>DIA_SEMANA</th>\n",
       "      <th>DISTRITO</th>\n",
       "      <th>NUM_PERSONAS</th>\n",
       "      <th>TIPO_ACCIDENTE</th>\n",
       "      <th>TIPO_VEHICULO</th>\n",
       "      <th>TIPO_PERSONA</th>\n",
       "      <th>SEXO</th>\n",
       "      <th>LESIVIDAD</th>\n",
       "      <th>EDAD_APROX</th>\n",
       "    </tr>\n",
       "  </thead>\n",
       "  <tbody>\n",
       "    <tr>\n",
       "      <th>0</th>\n",
       "      <td>01/01/2010</td>\n",
       "      <td>00:00</td>\n",
       "      <td>VIERNES</td>\n",
       "      <td>CHAMARTIN</td>\n",
       "      <td>1</td>\n",
       "      <td>COLISIÓN DOBLE</td>\n",
       "      <td>TURISMO</td>\n",
       "      <td>CONDUCTOR</td>\n",
       "      <td>HOMBRE</td>\n",
       "      <td>INGRESO_LEVE</td>\n",
       "      <td>20</td>\n",
       "    </tr>\n",
       "    <tr>\n",
       "      <th>1</th>\n",
       "      <td>01/01/2010</td>\n",
       "      <td>00:00</td>\n",
       "      <td>VIERNES</td>\n",
       "      <td>CHAMARTIN</td>\n",
       "      <td>1</td>\n",
       "      <td>COLISIÓN DOBLE</td>\n",
       "      <td>TURISMO</td>\n",
       "      <td>CONDUCTOR</td>\n",
       "      <td>HOMBRE</td>\n",
       "      <td>INGRESO_LEVE</td>\n",
       "      <td>50</td>\n",
       "    </tr>\n",
       "    <tr>\n",
       "      <th>2</th>\n",
       "      <td>01/01/2010</td>\n",
       "      <td>00:00</td>\n",
       "      <td>VIERNES</td>\n",
       "      <td>CHAMARTIN</td>\n",
       "      <td>1</td>\n",
       "      <td>COLISIÓN DOBLE</td>\n",
       "      <td>TURISMO</td>\n",
       "      <td>VIAJERO</td>\n",
       "      <td>MUJER</td>\n",
       "      <td>HERIDO_LEVE</td>\n",
       "      <td>40</td>\n",
       "    </tr>\n",
       "    <tr>\n",
       "      <th>3</th>\n",
       "      <td>01/01/2010</td>\n",
       "      <td>01:00</td>\n",
       "      <td>VIERNES</td>\n",
       "      <td>PUENTE DE VALLECAS</td>\n",
       "      <td>7</td>\n",
       "      <td>COLISIÓN MÚLTIPLE</td>\n",
       "      <td>NO ASIGNADO</td>\n",
       "      <td>VIAJERO</td>\n",
       "      <td>MUJER</td>\n",
       "      <td>HERIDO_LEVE</td>\n",
       "      <td>25</td>\n",
       "    </tr>\n",
       "    <tr>\n",
       "      <th>4</th>\n",
       "      <td>01/01/2010</td>\n",
       "      <td>01:00</td>\n",
       "      <td>VIERNES</td>\n",
       "      <td>PUENTE DE VALLECAS</td>\n",
       "      <td>7</td>\n",
       "      <td>COLISIÓN MÚLTIPLE</td>\n",
       "      <td>NO ASIGNADO</td>\n",
       "      <td>VIAJERO</td>\n",
       "      <td>MUJER</td>\n",
       "      <td>HERIDO_LEVE</td>\n",
       "      <td>30</td>\n",
       "    </tr>\n",
       "  </tbody>\n",
       "</table>\n",
       "</div>"
      ],
      "text/plain": [
       "        FECHA   HORA DIA_SEMANA            DISTRITO  NUM_PERSONAS  \\\n",
       "0  01/01/2010  00:00    VIERNES           CHAMARTIN             1   \n",
       "1  01/01/2010  00:00    VIERNES           CHAMARTIN             1   \n",
       "2  01/01/2010  00:00    VIERNES           CHAMARTIN             1   \n",
       "3  01/01/2010  01:00    VIERNES  PUENTE DE VALLECAS             7   \n",
       "4  01/01/2010  01:00    VIERNES  PUENTE DE VALLECAS             7   \n",
       "\n",
       "      TIPO_ACCIDENTE TIPO_VEHICULO TIPO_PERSONA    SEXO     LESIVIDAD  \\\n",
       "0     COLISIÓN DOBLE       TURISMO    CONDUCTOR  HOMBRE  INGRESO_LEVE   \n",
       "1     COLISIÓN DOBLE       TURISMO    CONDUCTOR  HOMBRE  INGRESO_LEVE   \n",
       "2     COLISIÓN DOBLE       TURISMO      VIAJERO   MUJER   HERIDO_LEVE   \n",
       "3  COLISIÓN MÚLTIPLE   NO ASIGNADO      VIAJERO   MUJER   HERIDO_LEVE   \n",
       "4  COLISIÓN MÚLTIPLE   NO ASIGNADO      VIAJERO   MUJER   HERIDO_LEVE   \n",
       "\n",
       "  EDAD_APROX  \n",
       "0         20  \n",
       "1         50  \n",
       "2         40  \n",
       "3         25  \n",
       "4         30  "
      ]
     },
     "execution_count": 136,
     "metadata": {},
     "output_type": "execute_result"
    }
   ],
   "source": [
    "df_from_xls.head()"
   ]
  },
  {
   "cell_type": "code",
   "execution_count": 137,
   "metadata": {},
   "outputs": [
    {
     "data": {
      "text/plain": [
       "array(['CONDUCTOR', 'VIAJERO', 'TESTIGO', 'PEATON'], dtype=object)"
      ]
     },
     "execution_count": 137,
     "metadata": {},
     "output_type": "execute_result"
    }
   ],
   "source": [
    "# Replace with others labels by transformer \"TIPO_PERSONA\" in range agreement\n",
    "df_from_xls[\"TIPO_PERSONA\"].unique()"
   ]
  },
  {
   "cell_type": "code",
   "execution_count": 138,
   "metadata": {},
   "outputs": [
    {
     "data": {
      "text/plain": [
       "array(['TURISMO', 'NO ASIGNADO', 'FURGONETA', 'MOTOCICLETA', 'AUTO-TAXI',\n",
       "       'VARIOS', 'CAMION', 'CICLOMOTOR', 'AUTOBUS-AUTOCAR', 'BICICLETA',\n",
       "       'AMBULANCIA'], dtype=object)"
      ]
     },
     "execution_count": 138,
     "metadata": {},
     "output_type": "execute_result"
    }
   ],
   "source": [
    "# Replace with others labels by transformer \"TIPO_VEHICULO\" in range agreement\n",
    "df_from_xls[\"TIPO_VEHICULO\"].unique()"
   ]
  },
  {
   "cell_type": "code",
   "execution_count": 139,
   "metadata": {},
   "outputs": [],
   "source": [
    "df_from_xls[\"TIPO_VEHICULO\"] = df_from_xls[\"TIPO_VEHICULO\"].replace({\"NO ASIGNADO\":'NO_ASIGNADO'}, regex=True)\n",
    "df_from_xls[\"TIPO_VEHICULO\"] = df_from_xls[\"TIPO_VEHICULO\"].replace({\"AUTO-TAXI\":'AUTO_TAXI'}, regex=True)\n",
    "df_from_xls[\"TIPO_VEHICULO\"] = df_from_xls[\"TIPO_VEHICULO\"].replace({\"AUTOBUS-AUTOCAR\":'AUTOBUS_AUTOCAR'}, regex=True)"
   ]
  },
  {
   "cell_type": "code",
   "execution_count": 140,
   "metadata": {},
   "outputs": [
    {
     "data": {
      "text/plain": [
       "array(['TURISMO', 'NO_ASIGNADO', 'FURGONETA', 'MOTOCICLETA', 'AUTO_TAXI',\n",
       "       'VARIOS', 'CAMION', 'CICLOMOTOR', 'AUTOBUS_AUTOCAR', 'BICICLETA',\n",
       "       'AMBULANCIA'], dtype=object)"
      ]
     },
     "execution_count": 140,
     "metadata": {},
     "output_type": "execute_result"
    }
   ],
   "source": [
    "df_from_xls[\"TIPO_VEHICULO\"].unique()"
   ]
  },
  {
   "cell_type": "code",
   "execution_count": 141,
   "metadata": {},
   "outputs": [
    {
     "data": {
      "text/html": [
       "<div>\n",
       "<style scoped>\n",
       "    .dataframe tbody tr th:only-of-type {\n",
       "        vertical-align: middle;\n",
       "    }\n",
       "\n",
       "    .dataframe tbody tr th {\n",
       "        vertical-align: top;\n",
       "    }\n",
       "\n",
       "    .dataframe thead th {\n",
       "        text-align: right;\n",
       "    }\n",
       "</style>\n",
       "<table border=\"1\" class=\"dataframe\">\n",
       "  <thead>\n",
       "    <tr style=\"text-align: right;\">\n",
       "      <th></th>\n",
       "      <th>FECHA</th>\n",
       "      <th>HORA</th>\n",
       "      <th>DIA_SEMANA</th>\n",
       "      <th>DISTRITO</th>\n",
       "      <th>NUM_PERSONAS</th>\n",
       "      <th>TIPO_ACCIDENTE</th>\n",
       "      <th>TIPO_VEHICULO</th>\n",
       "      <th>TIPO_PERSONA</th>\n",
       "      <th>SEXO</th>\n",
       "      <th>LESIVIDAD</th>\n",
       "      <th>EDAD_APROX</th>\n",
       "    </tr>\n",
       "  </thead>\n",
       "  <tbody>\n",
       "    <tr>\n",
       "      <th>0</th>\n",
       "      <td>01/01/2010</td>\n",
       "      <td>00:00</td>\n",
       "      <td>VIERNES</td>\n",
       "      <td>CHAMARTIN</td>\n",
       "      <td>1</td>\n",
       "      <td>COLISIÓN DOBLE</td>\n",
       "      <td>TURISMO</td>\n",
       "      <td>CONDUCTOR</td>\n",
       "      <td>HOMBRE</td>\n",
       "      <td>INGRESO_LEVE</td>\n",
       "      <td>20</td>\n",
       "    </tr>\n",
       "    <tr>\n",
       "      <th>1</th>\n",
       "      <td>01/01/2010</td>\n",
       "      <td>00:00</td>\n",
       "      <td>VIERNES</td>\n",
       "      <td>CHAMARTIN</td>\n",
       "      <td>1</td>\n",
       "      <td>COLISIÓN DOBLE</td>\n",
       "      <td>TURISMO</td>\n",
       "      <td>CONDUCTOR</td>\n",
       "      <td>HOMBRE</td>\n",
       "      <td>INGRESO_LEVE</td>\n",
       "      <td>50</td>\n",
       "    </tr>\n",
       "    <tr>\n",
       "      <th>2</th>\n",
       "      <td>01/01/2010</td>\n",
       "      <td>00:00</td>\n",
       "      <td>VIERNES</td>\n",
       "      <td>CHAMARTIN</td>\n",
       "      <td>1</td>\n",
       "      <td>COLISIÓN DOBLE</td>\n",
       "      <td>TURISMO</td>\n",
       "      <td>VIAJERO</td>\n",
       "      <td>MUJER</td>\n",
       "      <td>HERIDO_LEVE</td>\n",
       "      <td>40</td>\n",
       "    </tr>\n",
       "    <tr>\n",
       "      <th>3</th>\n",
       "      <td>01/01/2010</td>\n",
       "      <td>01:00</td>\n",
       "      <td>VIERNES</td>\n",
       "      <td>PUENTE DE VALLECAS</td>\n",
       "      <td>7</td>\n",
       "      <td>COLISIÓN MÚLTIPLE</td>\n",
       "      <td>NO_ASIGNADO</td>\n",
       "      <td>VIAJERO</td>\n",
       "      <td>MUJER</td>\n",
       "      <td>HERIDO_LEVE</td>\n",
       "      <td>25</td>\n",
       "    </tr>\n",
       "    <tr>\n",
       "      <th>4</th>\n",
       "      <td>01/01/2010</td>\n",
       "      <td>01:00</td>\n",
       "      <td>VIERNES</td>\n",
       "      <td>PUENTE DE VALLECAS</td>\n",
       "      <td>7</td>\n",
       "      <td>COLISIÓN MÚLTIPLE</td>\n",
       "      <td>NO_ASIGNADO</td>\n",
       "      <td>VIAJERO</td>\n",
       "      <td>MUJER</td>\n",
       "      <td>HERIDO_LEVE</td>\n",
       "      <td>30</td>\n",
       "    </tr>\n",
       "  </tbody>\n",
       "</table>\n",
       "</div>"
      ],
      "text/plain": [
       "        FECHA   HORA DIA_SEMANA            DISTRITO  NUM_PERSONAS  \\\n",
       "0  01/01/2010  00:00    VIERNES           CHAMARTIN             1   \n",
       "1  01/01/2010  00:00    VIERNES           CHAMARTIN             1   \n",
       "2  01/01/2010  00:00    VIERNES           CHAMARTIN             1   \n",
       "3  01/01/2010  01:00    VIERNES  PUENTE DE VALLECAS             7   \n",
       "4  01/01/2010  01:00    VIERNES  PUENTE DE VALLECAS             7   \n",
       "\n",
       "      TIPO_ACCIDENTE TIPO_VEHICULO TIPO_PERSONA    SEXO     LESIVIDAD  \\\n",
       "0     COLISIÓN DOBLE       TURISMO    CONDUCTOR  HOMBRE  INGRESO_LEVE   \n",
       "1     COLISIÓN DOBLE       TURISMO    CONDUCTOR  HOMBRE  INGRESO_LEVE   \n",
       "2     COLISIÓN DOBLE       TURISMO      VIAJERO   MUJER   HERIDO_LEVE   \n",
       "3  COLISIÓN MÚLTIPLE   NO_ASIGNADO      VIAJERO   MUJER   HERIDO_LEVE   \n",
       "4  COLISIÓN MÚLTIPLE   NO_ASIGNADO      VIAJERO   MUJER   HERIDO_LEVE   \n",
       "\n",
       "  EDAD_APROX  \n",
       "0         20  \n",
       "1         50  \n",
       "2         40  \n",
       "3         25  \n",
       "4         30  "
      ]
     },
     "execution_count": 141,
     "metadata": {},
     "output_type": "execute_result"
    }
   ],
   "source": [
    "df_from_xls.head()"
   ]
  },
  {
   "cell_type": "code",
   "execution_count": 142,
   "metadata": {},
   "outputs": [
    {
     "data": {
      "text/plain": [
       "array(['COLISIÓN DOBLE', 'COLISIÓN MÚLTIPLE', 'CHOQUE CON OBJETO FIJO',\n",
       "       'CAÍDA MOTOCICLETA', 'ATROPELLO', 'VUELCO', 'CAÍDA CICLOMOTOR',\n",
       "       'CAÍDA VIAJERO BUS', 'OTRAS CAUSAS', 'CAÍDA BICICLETA'],\n",
       "      dtype=object)"
      ]
     },
     "execution_count": 142,
     "metadata": {},
     "output_type": "execute_result"
    }
   ],
   "source": [
    "# Replace with others labels by transformer \"TIPO_ACCIDENTE\" in range agreement\n",
    "df_from_xls[\"TIPO_ACCIDENTE\"].unique()"
   ]
  },
  {
   "cell_type": "code",
   "execution_count": 143,
   "metadata": {},
   "outputs": [],
   "source": [
    "df_from_xls[\"TIPO_ACCIDENTE\"] = df_from_xls[\"TIPO_ACCIDENTE\"].replace({\"COLISIÓN DOBLE\":'COLISION_DOBLE'}, regex=True)\n",
    "df_from_xls[\"TIPO_ACCIDENTE\"] = df_from_xls[\"TIPO_ACCIDENTE\"].replace({\"COLISIÓN MÚLTIPLE\":'COLISION_MULTIPLE'}, regex=True)\n",
    "df_from_xls[\"TIPO_ACCIDENTE\"] = df_from_xls[\"TIPO_ACCIDENTE\"].replace({\"CHOQUE CON OBJETO FIJO\":'CHOQUE_CON_OBJETO_FIJO'}, regex=True)\n",
    "df_from_xls[\"TIPO_ACCIDENTE\"] = df_from_xls[\"TIPO_ACCIDENTE\"].replace({\"CAÍDA \":'CAIDA_'}, regex=True)\n",
    "df_from_xls[\"TIPO_ACCIDENTE\"] = df_from_xls[\"TIPO_ACCIDENTE\"].replace({\"OTRAS CAUSAS\":'OTRAS_CAUSAS'}, regex=True)"
   ]
  },
  {
   "cell_type": "code",
   "execution_count": 144,
   "metadata": {},
   "outputs": [
    {
     "data": {
      "text/plain": [
       "array(['COLISION_DOBLE', 'COLISION_MULTIPLE', 'CHOQUE_CON_OBJETO_FIJO',\n",
       "       'CAIDA_MOTOCICLETA', 'ATROPELLO', 'VUELCO', 'CAIDA_CICLOMOTOR',\n",
       "       'CAIDA_VIAJERO BUS', 'OTRAS_CAUSAS', 'CAIDA_BICICLETA'],\n",
       "      dtype=object)"
      ]
     },
     "execution_count": 144,
     "metadata": {},
     "output_type": "execute_result"
    }
   ],
   "source": [
    "df_from_xls[\"TIPO_ACCIDENTE\"].unique()"
   ]
  },
  {
   "cell_type": "code",
   "execution_count": 145,
   "metadata": {},
   "outputs": [
    {
     "data": {
      "text/html": [
       "<div>\n",
       "<style scoped>\n",
       "    .dataframe tbody tr th:only-of-type {\n",
       "        vertical-align: middle;\n",
       "    }\n",
       "\n",
       "    .dataframe tbody tr th {\n",
       "        vertical-align: top;\n",
       "    }\n",
       "\n",
       "    .dataframe thead th {\n",
       "        text-align: right;\n",
       "    }\n",
       "</style>\n",
       "<table border=\"1\" class=\"dataframe\">\n",
       "  <thead>\n",
       "    <tr style=\"text-align: right;\">\n",
       "      <th></th>\n",
       "      <th>FECHA</th>\n",
       "      <th>HORA</th>\n",
       "      <th>DIA_SEMANA</th>\n",
       "      <th>DISTRITO</th>\n",
       "      <th>NUM_PERSONAS</th>\n",
       "      <th>TIPO_ACCIDENTE</th>\n",
       "      <th>TIPO_VEHICULO</th>\n",
       "      <th>TIPO_PERSONA</th>\n",
       "      <th>SEXO</th>\n",
       "      <th>LESIVIDAD</th>\n",
       "      <th>EDAD_APROX</th>\n",
       "    </tr>\n",
       "  </thead>\n",
       "  <tbody>\n",
       "    <tr>\n",
       "      <th>0</th>\n",
       "      <td>01/01/2010</td>\n",
       "      <td>00:00</td>\n",
       "      <td>VIERNES</td>\n",
       "      <td>CHAMARTIN</td>\n",
       "      <td>1</td>\n",
       "      <td>COLISION_DOBLE</td>\n",
       "      <td>TURISMO</td>\n",
       "      <td>CONDUCTOR</td>\n",
       "      <td>HOMBRE</td>\n",
       "      <td>INGRESO_LEVE</td>\n",
       "      <td>20</td>\n",
       "    </tr>\n",
       "    <tr>\n",
       "      <th>1</th>\n",
       "      <td>01/01/2010</td>\n",
       "      <td>00:00</td>\n",
       "      <td>VIERNES</td>\n",
       "      <td>CHAMARTIN</td>\n",
       "      <td>1</td>\n",
       "      <td>COLISION_DOBLE</td>\n",
       "      <td>TURISMO</td>\n",
       "      <td>CONDUCTOR</td>\n",
       "      <td>HOMBRE</td>\n",
       "      <td>INGRESO_LEVE</td>\n",
       "      <td>50</td>\n",
       "    </tr>\n",
       "    <tr>\n",
       "      <th>2</th>\n",
       "      <td>01/01/2010</td>\n",
       "      <td>00:00</td>\n",
       "      <td>VIERNES</td>\n",
       "      <td>CHAMARTIN</td>\n",
       "      <td>1</td>\n",
       "      <td>COLISION_DOBLE</td>\n",
       "      <td>TURISMO</td>\n",
       "      <td>VIAJERO</td>\n",
       "      <td>MUJER</td>\n",
       "      <td>HERIDO_LEVE</td>\n",
       "      <td>40</td>\n",
       "    </tr>\n",
       "  </tbody>\n",
       "</table>\n",
       "</div>"
      ],
      "text/plain": [
       "        FECHA   HORA DIA_SEMANA   DISTRITO  NUM_PERSONAS  TIPO_ACCIDENTE  \\\n",
       "0  01/01/2010  00:00    VIERNES  CHAMARTIN             1  COLISION_DOBLE   \n",
       "1  01/01/2010  00:00    VIERNES  CHAMARTIN             1  COLISION_DOBLE   \n",
       "2  01/01/2010  00:00    VIERNES  CHAMARTIN             1  COLISION_DOBLE   \n",
       "\n",
       "  TIPO_VEHICULO TIPO_PERSONA    SEXO     LESIVIDAD EDAD_APROX  \n",
       "0       TURISMO    CONDUCTOR  HOMBRE  INGRESO_LEVE         20  \n",
       "1       TURISMO    CONDUCTOR  HOMBRE  INGRESO_LEVE         50  \n",
       "2       TURISMO      VIAJERO   MUJER   HERIDO_LEVE         40  "
      ]
     },
     "execution_count": 145,
     "metadata": {},
     "output_type": "execute_result"
    }
   ],
   "source": [
    "df_from_xls.head(3)"
   ]
  },
  {
   "cell_type": "code",
   "execution_count": 146,
   "metadata": {},
   "outputs": [
    {
     "data": {
      "text/plain": [
       "array([ 1,  7,  2,  3,  4,  5,  9,  6,  8, 18, 13])"
      ]
     },
     "execution_count": 146,
     "metadata": {},
     "output_type": "execute_result"
    }
   ],
   "source": [
    "# Replace with others labels by transformer from \"NUM_PERSONAS\" to \"NUM_PERS_IMPLS\" in range agreement \n",
    "# in new df for times series probes\n",
    "df_from_xls[\"NUM_PERSONAS\"].unique()"
   ]
  },
  {
   "cell_type": "code",
   "execution_count": 147,
   "metadata": {},
   "outputs": [
    {
     "data": {
      "text/html": [
       "<div>\n",
       "<style scoped>\n",
       "    .dataframe tbody tr th:only-of-type {\n",
       "        vertical-align: middle;\n",
       "    }\n",
       "\n",
       "    .dataframe tbody tr th {\n",
       "        vertical-align: top;\n",
       "    }\n",
       "\n",
       "    .dataframe thead th {\n",
       "        text-align: right;\n",
       "    }\n",
       "</style>\n",
       "<table border=\"1\" class=\"dataframe\">\n",
       "  <thead>\n",
       "    <tr style=\"text-align: right;\">\n",
       "      <th></th>\n",
       "      <th></th>\n",
       "      <th>count</th>\n",
       "    </tr>\n",
       "    <tr>\n",
       "      <th>FECHA</th>\n",
       "      <th>HORA</th>\n",
       "      <th></th>\n",
       "    </tr>\n",
       "  </thead>\n",
       "  <tbody>\n",
       "    <tr>\n",
       "      <th rowspan=\"5\" valign=\"top\">01/01/2010</th>\n",
       "      <th>00:00</th>\n",
       "      <td>3</td>\n",
       "    </tr>\n",
       "    <tr>\n",
       "      <th>01:00</th>\n",
       "      <td>8</td>\n",
       "    </tr>\n",
       "    <tr>\n",
       "      <th>02:00</th>\n",
       "      <td>2</td>\n",
       "    </tr>\n",
       "    <tr>\n",
       "      <th>04:00</th>\n",
       "      <td>11</td>\n",
       "    </tr>\n",
       "    <tr>\n",
       "      <th>05:00</th>\n",
       "      <td>3</td>\n",
       "    </tr>\n",
       "    <tr>\n",
       "      <th>...</th>\n",
       "      <th>...</th>\n",
       "      <td>...</td>\n",
       "    </tr>\n",
       "    <tr>\n",
       "      <th rowspan=\"5\" valign=\"top\">31/12/2010</th>\n",
       "      <th>18:00</th>\n",
       "      <td>1</td>\n",
       "    </tr>\n",
       "    <tr>\n",
       "      <th>19:00</th>\n",
       "      <td>5</td>\n",
       "    </tr>\n",
       "    <tr>\n",
       "      <th>20:00</th>\n",
       "      <td>1</td>\n",
       "    </tr>\n",
       "    <tr>\n",
       "      <th>21:00</th>\n",
       "      <td>1</td>\n",
       "    </tr>\n",
       "    <tr>\n",
       "      <th>23:00</th>\n",
       "      <td>3</td>\n",
       "    </tr>\n",
       "  </tbody>\n",
       "</table>\n",
       "<p>4964 rows × 1 columns</p>\n",
       "</div>"
      ],
      "text/plain": [
       "                  count\n",
       "FECHA      HORA        \n",
       "01/01/2010 00:00      3\n",
       "           01:00      8\n",
       "           02:00      2\n",
       "           04:00     11\n",
       "           05:00      3\n",
       "...                 ...\n",
       "31/12/2010 18:00      1\n",
       "           19:00      5\n",
       "           20:00      1\n",
       "           21:00      1\n",
       "           23:00      3\n",
       "\n",
       "[4964 rows x 1 columns]"
      ]
     },
     "execution_count": 147,
     "metadata": {},
     "output_type": "execute_result"
    }
   ],
   "source": [
    "personas_implicadas = df_from_xls[\"NUM_PERSONAS\"].groupby([df_from_xls[\"FECHA\"], df_from_xls[\"HORA\"]]).agg({'count'})\n",
    "personas_implicadas"
   ]
  },
  {
   "cell_type": "code",
   "execution_count": 148,
   "metadata": {},
   "outputs": [
    {
     "data": {
      "text/plain": [
       "pandas.core.frame.DataFrame"
      ]
     },
     "execution_count": 148,
     "metadata": {},
     "output_type": "execute_result"
    }
   ],
   "source": [
    "type(personas_implicadas)"
   ]
  },
  {
   "cell_type": "code",
   "execution_count": 149,
   "metadata": {},
   "outputs": [
    {
     "data": {
      "text/html": [
       "<div>\n",
       "<style scoped>\n",
       "    .dataframe tbody tr th:only-of-type {\n",
       "        vertical-align: middle;\n",
       "    }\n",
       "\n",
       "    .dataframe tbody tr th {\n",
       "        vertical-align: top;\n",
       "    }\n",
       "\n",
       "    .dataframe thead th {\n",
       "        text-align: right;\n",
       "    }\n",
       "</style>\n",
       "<table border=\"1\" class=\"dataframe\">\n",
       "  <thead>\n",
       "    <tr style=\"text-align: right;\">\n",
       "      <th></th>\n",
       "      <th></th>\n",
       "      <th>NUM_PERS_IMPLS</th>\n",
       "    </tr>\n",
       "    <tr>\n",
       "      <th>FECHA</th>\n",
       "      <th>HORA</th>\n",
       "      <th></th>\n",
       "    </tr>\n",
       "  </thead>\n",
       "  <tbody>\n",
       "    <tr>\n",
       "      <th rowspan=\"5\" valign=\"top\">01/01/2010</th>\n",
       "      <th>00:00</th>\n",
       "      <td>3</td>\n",
       "    </tr>\n",
       "    <tr>\n",
       "      <th>01:00</th>\n",
       "      <td>8</td>\n",
       "    </tr>\n",
       "    <tr>\n",
       "      <th>02:00</th>\n",
       "      <td>2</td>\n",
       "    </tr>\n",
       "    <tr>\n",
       "      <th>04:00</th>\n",
       "      <td>11</td>\n",
       "    </tr>\n",
       "    <tr>\n",
       "      <th>05:00</th>\n",
       "      <td>3</td>\n",
       "    </tr>\n",
       "  </tbody>\n",
       "</table>\n",
       "</div>"
      ],
      "text/plain": [
       "                  NUM_PERS_IMPLS\n",
       "FECHA      HORA                 \n",
       "01/01/2010 00:00               3\n",
       "           01:00               8\n",
       "           02:00               2\n",
       "           04:00              11\n",
       "           05:00               3"
      ]
     },
     "execution_count": 149,
     "metadata": {},
     "output_type": "execute_result"
    }
   ],
   "source": [
    "personas_implicadas = personas_implicadas.rename(columns = {'count':'NUM_PERS_IMPLS'})\n",
    "personas_implicadas.head()"
   ]
  },
  {
   "cell_type": "code",
   "execution_count": 150,
   "metadata": {},
   "outputs": [
    {
     "data": {
      "text/html": [
       "<div>\n",
       "<style scoped>\n",
       "    .dataframe tbody tr th:only-of-type {\n",
       "        vertical-align: middle;\n",
       "    }\n",
       "\n",
       "    .dataframe tbody tr th {\n",
       "        vertical-align: top;\n",
       "    }\n",
       "\n",
       "    .dataframe thead th {\n",
       "        text-align: right;\n",
       "    }\n",
       "</style>\n",
       "<table border=\"1\" class=\"dataframe\">\n",
       "  <thead>\n",
       "    <tr style=\"text-align: right;\">\n",
       "      <th></th>\n",
       "      <th>FECHA</th>\n",
       "      <th>HORA</th>\n",
       "      <th>DIA_SEMANA</th>\n",
       "      <th>DISTRITO</th>\n",
       "      <th>NUM_PERSONAS</th>\n",
       "      <th>TIPO_ACCIDENTE</th>\n",
       "      <th>TIPO_VEHICULO</th>\n",
       "      <th>TIPO_PERSONA</th>\n",
       "      <th>SEXO</th>\n",
       "      <th>LESIVIDAD</th>\n",
       "      <th>EDAD_APROX</th>\n",
       "      <th>NUM_PERS_IMPLS</th>\n",
       "    </tr>\n",
       "  </thead>\n",
       "  <tbody>\n",
       "    <tr>\n",
       "      <th>0</th>\n",
       "      <td>01/01/2010</td>\n",
       "      <td>00:00</td>\n",
       "      <td>VIERNES</td>\n",
       "      <td>CHAMARTIN</td>\n",
       "      <td>1</td>\n",
       "      <td>COLISION_DOBLE</td>\n",
       "      <td>TURISMO</td>\n",
       "      <td>CONDUCTOR</td>\n",
       "      <td>HOMBRE</td>\n",
       "      <td>INGRESO_LEVE</td>\n",
       "      <td>20</td>\n",
       "      <td>3</td>\n",
       "    </tr>\n",
       "    <tr>\n",
       "      <th>1</th>\n",
       "      <td>01/01/2010</td>\n",
       "      <td>00:00</td>\n",
       "      <td>VIERNES</td>\n",
       "      <td>CHAMARTIN</td>\n",
       "      <td>1</td>\n",
       "      <td>COLISION_DOBLE</td>\n",
       "      <td>TURISMO</td>\n",
       "      <td>CONDUCTOR</td>\n",
       "      <td>HOMBRE</td>\n",
       "      <td>INGRESO_LEVE</td>\n",
       "      <td>50</td>\n",
       "      <td>3</td>\n",
       "    </tr>\n",
       "    <tr>\n",
       "      <th>2</th>\n",
       "      <td>01/01/2010</td>\n",
       "      <td>00:00</td>\n",
       "      <td>VIERNES</td>\n",
       "      <td>CHAMARTIN</td>\n",
       "      <td>1</td>\n",
       "      <td>COLISION_DOBLE</td>\n",
       "      <td>TURISMO</td>\n",
       "      <td>VIAJERO</td>\n",
       "      <td>MUJER</td>\n",
       "      <td>HERIDO_LEVE</td>\n",
       "      <td>40</td>\n",
       "      <td>3</td>\n",
       "    </tr>\n",
       "    <tr>\n",
       "      <th>3</th>\n",
       "      <td>01/01/2010</td>\n",
       "      <td>01:00</td>\n",
       "      <td>VIERNES</td>\n",
       "      <td>PUENTE DE VALLECAS</td>\n",
       "      <td>7</td>\n",
       "      <td>COLISION_MULTIPLE</td>\n",
       "      <td>NO_ASIGNADO</td>\n",
       "      <td>VIAJERO</td>\n",
       "      <td>MUJER</td>\n",
       "      <td>HERIDO_LEVE</td>\n",
       "      <td>25</td>\n",
       "      <td>8</td>\n",
       "    </tr>\n",
       "    <tr>\n",
       "      <th>4</th>\n",
       "      <td>01/01/2010</td>\n",
       "      <td>01:00</td>\n",
       "      <td>VIERNES</td>\n",
       "      <td>PUENTE DE VALLECAS</td>\n",
       "      <td>7</td>\n",
       "      <td>COLISION_MULTIPLE</td>\n",
       "      <td>NO_ASIGNADO</td>\n",
       "      <td>VIAJERO</td>\n",
       "      <td>MUJER</td>\n",
       "      <td>HERIDO_LEVE</td>\n",
       "      <td>30</td>\n",
       "      <td>8</td>\n",
       "    </tr>\n",
       "    <tr>\n",
       "      <th>...</th>\n",
       "      <td>...</td>\n",
       "      <td>...</td>\n",
       "      <td>...</td>\n",
       "      <td>...</td>\n",
       "      <td>...</td>\n",
       "      <td>...</td>\n",
       "      <td>...</td>\n",
       "      <td>...</td>\n",
       "      <td>...</td>\n",
       "      <td>...</td>\n",
       "      <td>...</td>\n",
       "      <td>...</td>\n",
       "    </tr>\n",
       "    <tr>\n",
       "      <th>26573</th>\n",
       "      <td>31/12/2010</td>\n",
       "      <td>20:00</td>\n",
       "      <td>VIERNES</td>\n",
       "      <td>ARGANZUELA</td>\n",
       "      <td>1</td>\n",
       "      <td>CAIDA_MOTOCICLETA</td>\n",
       "      <td>MOTOCICLETA</td>\n",
       "      <td>CONDUCTOR</td>\n",
       "      <td>HOMBRE</td>\n",
       "      <td>HERIDO_LEVE</td>\n",
       "      <td>45</td>\n",
       "      <td>1</td>\n",
       "    </tr>\n",
       "    <tr>\n",
       "      <th>26574</th>\n",
       "      <td>31/12/2010</td>\n",
       "      <td>21:00</td>\n",
       "      <td>VIERNES</td>\n",
       "      <td>BARAJAS</td>\n",
       "      <td>1</td>\n",
       "      <td>CHOQUE_CON_OBJETO_FIJO</td>\n",
       "      <td>MOTOCICLETA</td>\n",
       "      <td>CONDUCTOR</td>\n",
       "      <td>HOMBRE</td>\n",
       "      <td>HERIDO_LEVE</td>\n",
       "      <td>30</td>\n",
       "      <td>1</td>\n",
       "    </tr>\n",
       "    <tr>\n",
       "      <th>26575</th>\n",
       "      <td>31/12/2010</td>\n",
       "      <td>23:00</td>\n",
       "      <td>VIERNES</td>\n",
       "      <td>RETIRO</td>\n",
       "      <td>1</td>\n",
       "      <td>ATROPELLO</td>\n",
       "      <td>NO_ASIGNADO</td>\n",
       "      <td>PEATON</td>\n",
       "      <td>HOMBRE</td>\n",
       "      <td>HERIDO_LEVE</td>\n",
       "      <td>40</td>\n",
       "      <td>3</td>\n",
       "    </tr>\n",
       "    <tr>\n",
       "      <th>26576</th>\n",
       "      <td>31/12/2010</td>\n",
       "      <td>23:00</td>\n",
       "      <td>VIERNES</td>\n",
       "      <td>RETIRO</td>\n",
       "      <td>1</td>\n",
       "      <td>ATROPELLO</td>\n",
       "      <td>TURISMO</td>\n",
       "      <td>CONDUCTOR</td>\n",
       "      <td>MUJER</td>\n",
       "      <td>INGRESO_LEVE</td>\n",
       "      <td>25</td>\n",
       "      <td>3</td>\n",
       "    </tr>\n",
       "    <tr>\n",
       "      <th>26577</th>\n",
       "      <td>31/12/2010</td>\n",
       "      <td>23:00</td>\n",
       "      <td>VIERNES</td>\n",
       "      <td>RETIRO</td>\n",
       "      <td>1</td>\n",
       "      <td>ATROPELLO</td>\n",
       "      <td>TURISMO</td>\n",
       "      <td>VIAJERO</td>\n",
       "      <td>HOMBRE</td>\n",
       "      <td>INGRESO_LEVE</td>\n",
       "      <td>55</td>\n",
       "      <td>3</td>\n",
       "    </tr>\n",
       "  </tbody>\n",
       "</table>\n",
       "<p>26578 rows × 12 columns</p>\n",
       "</div>"
      ],
      "text/plain": [
       "            FECHA   HORA DIA_SEMANA            DISTRITO  NUM_PERSONAS  \\\n",
       "0      01/01/2010  00:00    VIERNES           CHAMARTIN             1   \n",
       "1      01/01/2010  00:00    VIERNES           CHAMARTIN             1   \n",
       "2      01/01/2010  00:00    VIERNES           CHAMARTIN             1   \n",
       "3      01/01/2010  01:00    VIERNES  PUENTE DE VALLECAS             7   \n",
       "4      01/01/2010  01:00    VIERNES  PUENTE DE VALLECAS             7   \n",
       "...           ...    ...        ...                 ...           ...   \n",
       "26573  31/12/2010  20:00    VIERNES          ARGANZUELA             1   \n",
       "26574  31/12/2010  21:00    VIERNES             BARAJAS             1   \n",
       "26575  31/12/2010  23:00    VIERNES              RETIRO             1   \n",
       "26576  31/12/2010  23:00    VIERNES              RETIRO             1   \n",
       "26577  31/12/2010  23:00    VIERNES              RETIRO             1   \n",
       "\n",
       "               TIPO_ACCIDENTE TIPO_VEHICULO TIPO_PERSONA    SEXO  \\\n",
       "0              COLISION_DOBLE       TURISMO    CONDUCTOR  HOMBRE   \n",
       "1              COLISION_DOBLE       TURISMO    CONDUCTOR  HOMBRE   \n",
       "2              COLISION_DOBLE       TURISMO      VIAJERO   MUJER   \n",
       "3           COLISION_MULTIPLE   NO_ASIGNADO      VIAJERO   MUJER   \n",
       "4           COLISION_MULTIPLE   NO_ASIGNADO      VIAJERO   MUJER   \n",
       "...                       ...           ...          ...     ...   \n",
       "26573       CAIDA_MOTOCICLETA   MOTOCICLETA    CONDUCTOR  HOMBRE   \n",
       "26574  CHOQUE_CON_OBJETO_FIJO   MOTOCICLETA    CONDUCTOR  HOMBRE   \n",
       "26575               ATROPELLO   NO_ASIGNADO       PEATON  HOMBRE   \n",
       "26576               ATROPELLO       TURISMO    CONDUCTOR   MUJER   \n",
       "26577               ATROPELLO       TURISMO      VIAJERO  HOMBRE   \n",
       "\n",
       "          LESIVIDAD EDAD_APROX  NUM_PERS_IMPLS  \n",
       "0      INGRESO_LEVE         20               3  \n",
       "1      INGRESO_LEVE         50               3  \n",
       "2       HERIDO_LEVE         40               3  \n",
       "3       HERIDO_LEVE         25               8  \n",
       "4       HERIDO_LEVE         30               8  \n",
       "...             ...        ...             ...  \n",
       "26573   HERIDO_LEVE         45               1  \n",
       "26574   HERIDO_LEVE         30               1  \n",
       "26575   HERIDO_LEVE         40               3  \n",
       "26576  INGRESO_LEVE         25               3  \n",
       "26577  INGRESO_LEVE         55               3  \n",
       "\n",
       "[26578 rows x 12 columns]"
      ]
     },
     "execution_count": 150,
     "metadata": {},
     "output_type": "execute_result"
    }
   ],
   "source": [
    "# Merge for time values transformer\n",
    "from functools import reduce\n",
    "dffxls_join_perimp = [df_from_xls, personas_implicadas]\n",
    "#Assuming they have two common column, I'd do the following:\n",
    "df_from_xls = reduce(lambda left,right: pd.merge(left,right,on=['FECHA','HORA']), dffxls_join_perimp)\n",
    "df_from_xls"
   ]
  },
  {
   "cell_type": "code",
   "execution_count": 151,
   "metadata": {},
   "outputs": [
    {
     "data": {
      "text/plain": [
       "Index(['FECHA', 'HORA', 'DIA_SEMANA', 'DISTRITO', 'NUM_PERSONAS',\n",
       "       'TIPO_ACCIDENTE', 'TIPO_VEHICULO', 'TIPO_PERSONA', 'SEXO', 'LESIVIDAD',\n",
       "       'EDAD_APROX', 'NUM_PERS_IMPLS'],\n",
       "      dtype='object')"
      ]
     },
     "execution_count": 151,
     "metadata": {},
     "output_type": "execute_result"
    }
   ],
   "source": [
    "df_from_xls.columns"
   ]
  },
  {
   "cell_type": "code",
   "execution_count": 152,
   "metadata": {},
   "outputs": [
    {
     "data": {
      "text/html": [
       "<div>\n",
       "<style scoped>\n",
       "    .dataframe tbody tr th:only-of-type {\n",
       "        vertical-align: middle;\n",
       "    }\n",
       "\n",
       "    .dataframe tbody tr th {\n",
       "        vertical-align: top;\n",
       "    }\n",
       "\n",
       "    .dataframe thead th {\n",
       "        text-align: right;\n",
       "    }\n",
       "</style>\n",
       "<table border=\"1\" class=\"dataframe\">\n",
       "  <thead>\n",
       "    <tr style=\"text-align: right;\">\n",
       "      <th></th>\n",
       "      <th>FECHA</th>\n",
       "      <th>HORA</th>\n",
       "      <th>DIA_SEMANA</th>\n",
       "      <th>DISTRITO</th>\n",
       "      <th>NUM_PERSONAS</th>\n",
       "      <th>TIPO_ACCIDENTE</th>\n",
       "      <th>TIPO_VEHICULO</th>\n",
       "      <th>TIPO_PERSONA</th>\n",
       "      <th>SEXO</th>\n",
       "      <th>LESIVIDAD</th>\n",
       "      <th>EDAD_APROX</th>\n",
       "      <th>NUM_PERS_IMPLS</th>\n",
       "    </tr>\n",
       "  </thead>\n",
       "  <tbody>\n",
       "    <tr>\n",
       "      <th>0</th>\n",
       "      <td>01/01/2010</td>\n",
       "      <td>00:00</td>\n",
       "      <td>VIERNES</td>\n",
       "      <td>CHAMARTIN</td>\n",
       "      <td>1</td>\n",
       "      <td>COLISION_DOBLE</td>\n",
       "      <td>TURISMO</td>\n",
       "      <td>CONDUCTOR</td>\n",
       "      <td>HOMBRE</td>\n",
       "      <td>INGRESO_LEVE</td>\n",
       "      <td>20</td>\n",
       "      <td>3</td>\n",
       "    </tr>\n",
       "    <tr>\n",
       "      <th>1</th>\n",
       "      <td>01/01/2010</td>\n",
       "      <td>00:00</td>\n",
       "      <td>VIERNES</td>\n",
       "      <td>CHAMARTIN</td>\n",
       "      <td>1</td>\n",
       "      <td>COLISION_DOBLE</td>\n",
       "      <td>TURISMO</td>\n",
       "      <td>CONDUCTOR</td>\n",
       "      <td>HOMBRE</td>\n",
       "      <td>INGRESO_LEVE</td>\n",
       "      <td>50</td>\n",
       "      <td>3</td>\n",
       "    </tr>\n",
       "    <tr>\n",
       "      <th>2</th>\n",
       "      <td>01/01/2010</td>\n",
       "      <td>00:00</td>\n",
       "      <td>VIERNES</td>\n",
       "      <td>CHAMARTIN</td>\n",
       "      <td>1</td>\n",
       "      <td>COLISION_DOBLE</td>\n",
       "      <td>TURISMO</td>\n",
       "      <td>VIAJERO</td>\n",
       "      <td>MUJER</td>\n",
       "      <td>HERIDO_LEVE</td>\n",
       "      <td>40</td>\n",
       "      <td>3</td>\n",
       "    </tr>\n",
       "    <tr>\n",
       "      <th>3</th>\n",
       "      <td>01/01/2010</td>\n",
       "      <td>01:00</td>\n",
       "      <td>VIERNES</td>\n",
       "      <td>PUENTE DE VALLECAS</td>\n",
       "      <td>7</td>\n",
       "      <td>COLISION_MULTIPLE</td>\n",
       "      <td>NO_ASIGNADO</td>\n",
       "      <td>VIAJERO</td>\n",
       "      <td>MUJER</td>\n",
       "      <td>HERIDO_LEVE</td>\n",
       "      <td>25</td>\n",
       "      <td>8</td>\n",
       "    </tr>\n",
       "    <tr>\n",
       "      <th>4</th>\n",
       "      <td>01/01/2010</td>\n",
       "      <td>01:00</td>\n",
       "      <td>VIERNES</td>\n",
       "      <td>PUENTE DE VALLECAS</td>\n",
       "      <td>7</td>\n",
       "      <td>COLISION_MULTIPLE</td>\n",
       "      <td>NO_ASIGNADO</td>\n",
       "      <td>VIAJERO</td>\n",
       "      <td>MUJER</td>\n",
       "      <td>HERIDO_LEVE</td>\n",
       "      <td>30</td>\n",
       "      <td>8</td>\n",
       "    </tr>\n",
       "  </tbody>\n",
       "</table>\n",
       "</div>"
      ],
      "text/plain": [
       "        FECHA   HORA DIA_SEMANA            DISTRITO  NUM_PERSONAS  \\\n",
       "0  01/01/2010  00:00    VIERNES           CHAMARTIN             1   \n",
       "1  01/01/2010  00:00    VIERNES           CHAMARTIN             1   \n",
       "2  01/01/2010  00:00    VIERNES           CHAMARTIN             1   \n",
       "3  01/01/2010  01:00    VIERNES  PUENTE DE VALLECAS             7   \n",
       "4  01/01/2010  01:00    VIERNES  PUENTE DE VALLECAS             7   \n",
       "\n",
       "      TIPO_ACCIDENTE TIPO_VEHICULO TIPO_PERSONA    SEXO     LESIVIDAD  \\\n",
       "0     COLISION_DOBLE       TURISMO    CONDUCTOR  HOMBRE  INGRESO_LEVE   \n",
       "1     COLISION_DOBLE       TURISMO    CONDUCTOR  HOMBRE  INGRESO_LEVE   \n",
       "2     COLISION_DOBLE       TURISMO      VIAJERO   MUJER   HERIDO_LEVE   \n",
       "3  COLISION_MULTIPLE   NO_ASIGNADO      VIAJERO   MUJER   HERIDO_LEVE   \n",
       "4  COLISION_MULTIPLE   NO_ASIGNADO      VIAJERO   MUJER   HERIDO_LEVE   \n",
       "\n",
       "  EDAD_APROX  NUM_PERS_IMPLS  \n",
       "0         20               3  \n",
       "1         50               3  \n",
       "2         40               3  \n",
       "3         25               8  \n",
       "4         30               8  "
      ]
     },
     "execution_count": 152,
     "metadata": {},
     "output_type": "execute_result"
    }
   ],
   "source": [
    "df_from_xls = df_from_xls.rename(columns = {'count':'NUM_PERS_IMPLS'})\n",
    "df_from_xls.head()"
   ]
  },
  {
   "cell_type": "code",
   "execution_count": 153,
   "metadata": {},
   "outputs": [
    {
     "data": {
      "text/plain": [
       "Index(['FECHA', 'HORA', 'DIA_SEMANA', 'DISTRITO', 'NUM_PERSONAS',\n",
       "       'TIPO_ACCIDENTE', 'TIPO_VEHICULO', 'TIPO_PERSONA', 'SEXO', 'LESIVIDAD',\n",
       "       'EDAD_APROX', 'NUM_PERS_IMPLS'],\n",
       "      dtype='object')"
      ]
     },
     "execution_count": 153,
     "metadata": {},
     "output_type": "execute_result"
    }
   ],
   "source": [
    "df_from_xls.columns"
   ]
  },
  {
   "cell_type": "code",
   "execution_count": 154,
   "metadata": {},
   "outputs": [
    {
     "data": {
      "text/plain": [
       "Index(['FECHA', 'HORA', 'DIA_SEMANA', 'DISTRITO', 'TIPO_ACCIDENTE',\n",
       "       'TIPO_VEHICULO', 'TIPO_PERSONA', 'SEXO', 'LESIVIDAD', 'EDAD_APROX',\n",
       "       'NUM_PERS_IMPLS'],\n",
       "      dtype='object')"
      ]
     },
     "execution_count": 154,
     "metadata": {},
     "output_type": "execute_result"
    }
   ],
   "source": [
    "del df_from_xls[\"NUM_PERSONAS\"]\n",
    "df_from_xls.columns"
   ]
  },
  {
   "cell_type": "code",
   "execution_count": 155,
   "metadata": {},
   "outputs": [
    {
     "data": {
      "text/html": [
       "<div>\n",
       "<style scoped>\n",
       "    .dataframe tbody tr th:only-of-type {\n",
       "        vertical-align: middle;\n",
       "    }\n",
       "\n",
       "    .dataframe tbody tr th {\n",
       "        vertical-align: top;\n",
       "    }\n",
       "\n",
       "    .dataframe thead th {\n",
       "        text-align: right;\n",
       "    }\n",
       "</style>\n",
       "<table border=\"1\" class=\"dataframe\">\n",
       "  <thead>\n",
       "    <tr style=\"text-align: right;\">\n",
       "      <th></th>\n",
       "      <th>FECHA</th>\n",
       "      <th>HORA</th>\n",
       "      <th>DIA_SEMANA</th>\n",
       "      <th>DISTRITO</th>\n",
       "      <th>TIPO_ACCIDENTE</th>\n",
       "      <th>TIPO_VEHICULO</th>\n",
       "      <th>TIPO_PERSONA</th>\n",
       "      <th>SEXO</th>\n",
       "      <th>LESIVIDAD</th>\n",
       "      <th>EDAD_APROX</th>\n",
       "      <th>NUM_PERS_IMPLS</th>\n",
       "    </tr>\n",
       "  </thead>\n",
       "  <tbody>\n",
       "    <tr>\n",
       "      <th>0</th>\n",
       "      <td>01/01/2010</td>\n",
       "      <td>00:00</td>\n",
       "      <td>VIERNES</td>\n",
       "      <td>CHAMARTIN</td>\n",
       "      <td>COLISION_DOBLE</td>\n",
       "      <td>TURISMO</td>\n",
       "      <td>CONDUCTOR</td>\n",
       "      <td>HOMBRE</td>\n",
       "      <td>INGRESO_LEVE</td>\n",
       "      <td>20</td>\n",
       "      <td>3</td>\n",
       "    </tr>\n",
       "  </tbody>\n",
       "</table>\n",
       "</div>"
      ],
      "text/plain": [
       "        FECHA   HORA DIA_SEMANA   DISTRITO  TIPO_ACCIDENTE TIPO_VEHICULO  \\\n",
       "0  01/01/2010  00:00    VIERNES  CHAMARTIN  COLISION_DOBLE       TURISMO   \n",
       "\n",
       "  TIPO_PERSONA    SEXO     LESIVIDAD EDAD_APROX  NUM_PERS_IMPLS  \n",
       "0    CONDUCTOR  HOMBRE  INGRESO_LEVE         20               3  "
      ]
     },
     "execution_count": 155,
     "metadata": {},
     "output_type": "execute_result"
    }
   ],
   "source": [
    "df_from_xls.head(1)"
   ]
  },
  {
   "cell_type": "code",
   "execution_count": 156,
   "metadata": {},
   "outputs": [
    {
     "data": {
      "text/html": [
       "<div>\n",
       "<style scoped>\n",
       "    .dataframe tbody tr th:only-of-type {\n",
       "        vertical-align: middle;\n",
       "    }\n",
       "\n",
       "    .dataframe tbody tr th {\n",
       "        vertical-align: top;\n",
       "    }\n",
       "\n",
       "    .dataframe thead th {\n",
       "        text-align: right;\n",
       "    }\n",
       "</style>\n",
       "<table border=\"1\" class=\"dataframe\">\n",
       "  <thead>\n",
       "    <tr style=\"text-align: right;\">\n",
       "      <th></th>\n",
       "      <th></th>\n",
       "      <th>NUM_PERS_IMPLS</th>\n",
       "    </tr>\n",
       "    <tr>\n",
       "      <th>FECHA</th>\n",
       "      <th>HORA</th>\n",
       "      <th></th>\n",
       "    </tr>\n",
       "  </thead>\n",
       "  <tbody>\n",
       "    <tr>\n",
       "      <th rowspan=\"5\" valign=\"top\">01/01/2010</th>\n",
       "      <th>00:00</th>\n",
       "      <td>3</td>\n",
       "    </tr>\n",
       "    <tr>\n",
       "      <th>01:00</th>\n",
       "      <td>8</td>\n",
       "    </tr>\n",
       "    <tr>\n",
       "      <th>02:00</th>\n",
       "      <td>2</td>\n",
       "    </tr>\n",
       "    <tr>\n",
       "      <th>04:00</th>\n",
       "      <td>11</td>\n",
       "    </tr>\n",
       "    <tr>\n",
       "      <th>05:00</th>\n",
       "      <td>3</td>\n",
       "    </tr>\n",
       "  </tbody>\n",
       "</table>\n",
       "</div>"
      ],
      "text/plain": [
       "                  NUM_PERS_IMPLS\n",
       "FECHA      HORA                 \n",
       "01/01/2010 00:00               3\n",
       "           01:00               8\n",
       "           02:00               2\n",
       "           04:00              11\n",
       "           05:00               3"
      ]
     },
     "execution_count": 156,
     "metadata": {},
     "output_type": "execute_result"
    }
   ],
   "source": [
    "personas_implicadas.head()"
   ]
  },
  {
   "cell_type": "code",
   "execution_count": 157,
   "metadata": {},
   "outputs": [],
   "source": [
    "# Reset the index for new df\n",
    "personas_implicadas = personas_implicadas.reset_index() "
   ]
  },
  {
   "cell_type": "code",
   "execution_count": 158,
   "metadata": {},
   "outputs": [
    {
     "data": {
      "text/html": [
       "<div>\n",
       "<style scoped>\n",
       "    .dataframe tbody tr th:only-of-type {\n",
       "        vertical-align: middle;\n",
       "    }\n",
       "\n",
       "    .dataframe tbody tr th {\n",
       "        vertical-align: top;\n",
       "    }\n",
       "\n",
       "    .dataframe thead th {\n",
       "        text-align: right;\n",
       "    }\n",
       "</style>\n",
       "<table border=\"1\" class=\"dataframe\">\n",
       "  <thead>\n",
       "    <tr style=\"text-align: right;\">\n",
       "      <th></th>\n",
       "      <th>FECHA</th>\n",
       "      <th>HORA</th>\n",
       "      <th>NUM_PERS_IMPLS</th>\n",
       "    </tr>\n",
       "  </thead>\n",
       "  <tbody>\n",
       "    <tr>\n",
       "      <th>0</th>\n",
       "      <td>01/01/2010</td>\n",
       "      <td>00:00</td>\n",
       "      <td>3</td>\n",
       "    </tr>\n",
       "    <tr>\n",
       "      <th>1</th>\n",
       "      <td>01/01/2010</td>\n",
       "      <td>01:00</td>\n",
       "      <td>8</td>\n",
       "    </tr>\n",
       "    <tr>\n",
       "      <th>2</th>\n",
       "      <td>01/01/2010</td>\n",
       "      <td>02:00</td>\n",
       "      <td>2</td>\n",
       "    </tr>\n",
       "    <tr>\n",
       "      <th>3</th>\n",
       "      <td>01/01/2010</td>\n",
       "      <td>04:00</td>\n",
       "      <td>11</td>\n",
       "    </tr>\n",
       "    <tr>\n",
       "      <th>4</th>\n",
       "      <td>01/01/2010</td>\n",
       "      <td>05:00</td>\n",
       "      <td>3</td>\n",
       "    </tr>\n",
       "  </tbody>\n",
       "</table>\n",
       "</div>"
      ],
      "text/plain": [
       "        FECHA   HORA  NUM_PERS_IMPLS\n",
       "0  01/01/2010  00:00               3\n",
       "1  01/01/2010  01:00               8\n",
       "2  01/01/2010  02:00               2\n",
       "3  01/01/2010  04:00              11\n",
       "4  01/01/2010  05:00               3"
      ]
     },
     "execution_count": 158,
     "metadata": {},
     "output_type": "execute_result"
    }
   ],
   "source": [
    "personas_implicadas.head()"
   ]
  },
  {
   "cell_type": "code",
   "execution_count": 159,
   "metadata": {},
   "outputs": [
    {
     "data": {
      "text/plain": [
       "pandas.core.frame.DataFrame"
      ]
     },
     "execution_count": 159,
     "metadata": {},
     "output_type": "execute_result"
    }
   ],
   "source": [
    "type(personas_implicadas)"
   ]
  },
  {
   "cell_type": "code",
   "execution_count": 160,
   "metadata": {},
   "outputs": [
    {
     "data": {
      "text/plain": [
       "Index(['FECHA', 'HORA', 'NUM_PERS_IMPLS'], dtype='object')"
      ]
     },
     "execution_count": 160,
     "metadata": {},
     "output_type": "execute_result"
    }
   ],
   "source": [
    "personas_implicadas.columns"
   ]
  },
  {
   "cell_type": "code",
   "execution_count": 161,
   "metadata": {},
   "outputs": [
    {
     "data": {
      "text/plain": [
       "FECHA             object\n",
       "HORA              object\n",
       "NUM_PERS_IMPLS     int64\n",
       "dtype: object"
      ]
     },
     "execution_count": 161,
     "metadata": {},
     "output_type": "execute_result"
    }
   ],
   "source": [
    "personas_implicadas.dtypes"
   ]
  },
  {
   "cell_type": "code",
   "execution_count": 162,
   "metadata": {},
   "outputs": [
    {
     "data": {
      "text/html": [
       "<div>\n",
       "<style scoped>\n",
       "    .dataframe tbody tr th:only-of-type {\n",
       "        vertical-align: middle;\n",
       "    }\n",
       "\n",
       "    .dataframe tbody tr th {\n",
       "        vertical-align: top;\n",
       "    }\n",
       "\n",
       "    .dataframe thead th {\n",
       "        text-align: right;\n",
       "    }\n",
       "</style>\n",
       "<table border=\"1\" class=\"dataframe\">\n",
       "  <thead>\n",
       "    <tr style=\"text-align: right;\">\n",
       "      <th></th>\n",
       "      <th>FECHA</th>\n",
       "      <th>HORA</th>\n",
       "      <th>NUM_PERS_IMPLS</th>\n",
       "    </tr>\n",
       "  </thead>\n",
       "  <tbody>\n",
       "    <tr>\n",
       "      <th>0</th>\n",
       "      <td>01/01/2010</td>\n",
       "      <td>00:00</td>\n",
       "      <td>3</td>\n",
       "    </tr>\n",
       "  </tbody>\n",
       "</table>\n",
       "</div>"
      ],
      "text/plain": [
       "        FECHA   HORA  NUM_PERS_IMPLS\n",
       "0  01/01/2010  00:00               3"
      ]
     },
     "execution_count": 162,
     "metadata": {},
     "output_type": "execute_result"
    }
   ],
   "source": [
    "personas_implicadas.head(1)"
   ]
  },
  {
   "cell_type": "code",
   "execution_count": 163,
   "metadata": {},
   "outputs": [
    {
     "data": {
      "text/plain": [
       "pandas.core.series.Series"
      ]
     },
     "execution_count": 163,
     "metadata": {},
     "output_type": "execute_result"
    }
   ],
   "source": [
    "type(personas_implicadas[\"FECHA\"])"
   ]
  },
  {
   "cell_type": "code",
   "execution_count": 164,
   "metadata": {},
   "outputs": [
    {
     "data": {
      "text/plain": [
       "pandas.core.series.Series"
      ]
     },
     "execution_count": 164,
     "metadata": {},
     "output_type": "execute_result"
    }
   ],
   "source": [
    "type(personas_implicadas[\"HORA\"])"
   ]
  },
  {
   "cell_type": "code",
   "execution_count": 165,
   "metadata": {},
   "outputs": [
    {
     "data": {
      "text/plain": [
       "Index(['FECHA', 'HORA', 'NUM_PERS_IMPLS'], dtype='object')"
      ]
     },
     "execution_count": 165,
     "metadata": {},
     "output_type": "execute_result"
    }
   ],
   "source": [
    "personas_implicadas.columns"
   ]
  },
  {
   "cell_type": "code",
   "execution_count": 166,
   "metadata": {},
   "outputs": [
    {
     "data": {
      "text/plain": [
       "FECHA             object\n",
       "HORA              object\n",
       "NUM_PERS_IMPLS     int64\n",
       "dtype: object"
      ]
     },
     "execution_count": 166,
     "metadata": {},
     "output_type": "execute_result"
    }
   ],
   "source": [
    "personas_implicadas.dtypes"
   ]
  },
  {
   "cell_type": "code",
   "execution_count": 167,
   "metadata": {},
   "outputs": [],
   "source": [
    "personas_implicadas[\"FECHA_HORA\"] = personas_implicadas[\"FECHA\"] + ' ' + personas_implicadas[\"HORA\"]"
   ]
  },
  {
   "cell_type": "code",
   "execution_count": 168,
   "metadata": {},
   "outputs": [
    {
     "data": {
      "text/plain": [
       "Index(['FECHA', 'HORA', 'NUM_PERS_IMPLS', 'FECHA_HORA'], dtype='object')"
      ]
     },
     "execution_count": 168,
     "metadata": {},
     "output_type": "execute_result"
    }
   ],
   "source": [
    "personas_implicadas.columns"
   ]
  },
  {
   "cell_type": "code",
   "execution_count": 169,
   "metadata": {},
   "outputs": [
    {
     "data": {
      "text/plain": [
       "'01/01/2010 00:00'"
      ]
     },
     "execution_count": 169,
     "metadata": {},
     "output_type": "execute_result"
    }
   ],
   "source": [
    "personas_implicadas[\"FECHA_HORA\"][0]"
   ]
  },
  {
   "cell_type": "code",
   "execution_count": 170,
   "metadata": {},
   "outputs": [
    {
     "data": {
      "text/plain": [
       "FECHA             object\n",
       "HORA              object\n",
       "NUM_PERS_IMPLS     int64\n",
       "FECHA_HORA        object\n",
       "dtype: object"
      ]
     },
     "execution_count": 170,
     "metadata": {},
     "output_type": "execute_result"
    }
   ],
   "source": [
    "personas_implicadas.dtypes"
   ]
  },
  {
   "cell_type": "code",
   "execution_count": 171,
   "metadata": {},
   "outputs": [],
   "source": [
    "del personas_implicadas[\"FECHA\"]\n",
    "del personas_implicadas[\"HORA\"]"
   ]
  },
  {
   "cell_type": "code",
   "execution_count": 172,
   "metadata": {},
   "outputs": [
    {
     "data": {
      "text/plain": [
       "Index(['NUM_PERS_IMPLS', 'FECHA_HORA'], dtype='object')"
      ]
     },
     "execution_count": 172,
     "metadata": {},
     "output_type": "execute_result"
    }
   ],
   "source": [
    "personas_implicadas.columns"
   ]
  },
  {
   "cell_type": "code",
   "execution_count": 173,
   "metadata": {},
   "outputs": [],
   "source": [
    "personas_implicadas[\"NPI_AUX\"]=personas_implicadas[\"NUM_PERS_IMPLS\"]"
   ]
  },
  {
   "cell_type": "code",
   "execution_count": 174,
   "metadata": {},
   "outputs": [
    {
     "data": {
      "text/plain": [
       "Index(['NUM_PERS_IMPLS', 'FECHA_HORA', 'NPI_AUX'], dtype='object')"
      ]
     },
     "execution_count": 174,
     "metadata": {},
     "output_type": "execute_result"
    }
   ],
   "source": [
    "personas_implicadas.columns"
   ]
  },
  {
   "cell_type": "code",
   "execution_count": 175,
   "metadata": {},
   "outputs": [
    {
     "data": {
      "text/plain": [
       "NUM_PERS_IMPLS     int64\n",
       "FECHA_HORA        object\n",
       "NPI_AUX            int64\n",
       "dtype: object"
      ]
     },
     "execution_count": 175,
     "metadata": {},
     "output_type": "execute_result"
    }
   ],
   "source": [
    "personas_implicadas.dtypes"
   ]
  },
  {
   "cell_type": "code",
   "execution_count": 176,
   "metadata": {},
   "outputs": [],
   "source": [
    "del personas_implicadas[\"NUM_PERS_IMPLS\"]"
   ]
  },
  {
   "cell_type": "code",
   "execution_count": 177,
   "metadata": {},
   "outputs": [
    {
     "data": {
      "text/plain": [
       "FECHA_HORA    object\n",
       "NPI_AUX        int64\n",
       "dtype: object"
      ]
     },
     "execution_count": 177,
     "metadata": {},
     "output_type": "execute_result"
    }
   ],
   "source": [
    "personas_implicadas.dtypes"
   ]
  },
  {
   "cell_type": "code",
   "execution_count": 178,
   "metadata": {},
   "outputs": [
    {
     "data": {
      "text/plain": [
       "Index(['FECHA_HORA', 'NPI_AUX'], dtype='object')"
      ]
     },
     "execution_count": 178,
     "metadata": {},
     "output_type": "execute_result"
    }
   ],
   "source": [
    "personas_implicadas.columns"
   ]
  },
  {
   "cell_type": "code",
   "execution_count": 179,
   "metadata": {},
   "outputs": [],
   "source": [
    "personas_implicadas=personas_implicadas.rename(columns = {'NPI_AUX':'NUM_PERS_IMPLS'})"
   ]
  },
  {
   "cell_type": "code",
   "execution_count": 180,
   "metadata": {},
   "outputs": [
    {
     "data": {
      "text/plain": [
       "FECHA_HORA        object\n",
       "NUM_PERS_IMPLS     int64\n",
       "dtype: object"
      ]
     },
     "execution_count": 180,
     "metadata": {},
     "output_type": "execute_result"
    }
   ],
   "source": [
    "personas_implicadas.dtypes"
   ]
  },
  {
   "cell_type": "code",
   "execution_count": 181,
   "metadata": {},
   "outputs": [
    {
     "data": {
      "text/html": [
       "<div>\n",
       "<style scoped>\n",
       "    .dataframe tbody tr th:only-of-type {\n",
       "        vertical-align: middle;\n",
       "    }\n",
       "\n",
       "    .dataframe tbody tr th {\n",
       "        vertical-align: top;\n",
       "    }\n",
       "\n",
       "    .dataframe thead th {\n",
       "        text-align: right;\n",
       "    }\n",
       "</style>\n",
       "<table border=\"1\" class=\"dataframe\">\n",
       "  <thead>\n",
       "    <tr style=\"text-align: right;\">\n",
       "      <th></th>\n",
       "      <th>FECHA_HORA</th>\n",
       "      <th>NUM_PERS_IMPLS</th>\n",
       "    </tr>\n",
       "  </thead>\n",
       "  <tbody>\n",
       "    <tr>\n",
       "      <th>0</th>\n",
       "      <td>01/01/2010 00:00</td>\n",
       "      <td>3</td>\n",
       "    </tr>\n",
       "  </tbody>\n",
       "</table>\n",
       "</div>"
      ],
      "text/plain": [
       "         FECHA_HORA  NUM_PERS_IMPLS\n",
       "0  01/01/2010 00:00               3"
      ]
     },
     "execution_count": 181,
     "metadata": {},
     "output_type": "execute_result"
    }
   ],
   "source": [
    "personas_implicadas.head(1)"
   ]
  },
  {
   "cell_type": "code",
   "execution_count": 182,
   "metadata": {},
   "outputs": [],
   "source": [
    "personas_implicadas[\"FECHA_HORA\"] = pd.to_datetime(pd.Series(personas_implicadas[\"FECHA_HORA\"]), format=\"%d/%m/%Y %H:%M\")"
   ]
  },
  {
   "cell_type": "code",
   "execution_count": 183,
   "metadata": {},
   "outputs": [
    {
     "data": {
      "text/plain": [
       "pandas.core.series.Series"
      ]
     },
     "execution_count": 183,
     "metadata": {},
     "output_type": "execute_result"
    }
   ],
   "source": [
    "type(personas_implicadas[\"FECHA_HORA\"])"
   ]
  },
  {
   "cell_type": "code",
   "execution_count": 184,
   "metadata": {},
   "outputs": [
    {
     "data": {
      "text/html": [
       "<div>\n",
       "<style scoped>\n",
       "    .dataframe tbody tr th:only-of-type {\n",
       "        vertical-align: middle;\n",
       "    }\n",
       "\n",
       "    .dataframe tbody tr th {\n",
       "        vertical-align: top;\n",
       "    }\n",
       "\n",
       "    .dataframe thead th {\n",
       "        text-align: right;\n",
       "    }\n",
       "</style>\n",
       "<table border=\"1\" class=\"dataframe\">\n",
       "  <thead>\n",
       "    <tr style=\"text-align: right;\">\n",
       "      <th></th>\n",
       "      <th>FECHA_HORA</th>\n",
       "      <th>NUM_PERS_IMPLS</th>\n",
       "    </tr>\n",
       "  </thead>\n",
       "  <tbody>\n",
       "    <tr>\n",
       "      <th>0</th>\n",
       "      <td>2010-01-01</td>\n",
       "      <td>3</td>\n",
       "    </tr>\n",
       "  </tbody>\n",
       "</table>\n",
       "</div>"
      ],
      "text/plain": [
       "  FECHA_HORA  NUM_PERS_IMPLS\n",
       "0 2010-01-01               3"
      ]
     },
     "execution_count": 184,
     "metadata": {},
     "output_type": "execute_result"
    }
   ],
   "source": [
    "personas_implicadas.head(1)"
   ]
  },
  {
   "cell_type": "code",
   "execution_count": 185,
   "metadata": {},
   "outputs": [
    {
     "data": {
      "text/plain": [
       "Timestamp('2010-01-01 00:00:00')"
      ]
     },
     "execution_count": 185,
     "metadata": {},
     "output_type": "execute_result"
    }
   ],
   "source": [
    "personas_implicadas[\"FECHA_HORA\"][0]"
   ]
  },
  {
   "cell_type": "code",
   "execution_count": 186,
   "metadata": {},
   "outputs": [
    {
     "data": {
      "text/plain": [
       "Index(['FECHA_HORA', 'NUM_PERS_IMPLS'], dtype='object')"
      ]
     },
     "execution_count": 186,
     "metadata": {},
     "output_type": "execute_result"
    }
   ],
   "source": [
    "personas_implicadas.columns"
   ]
  },
  {
   "cell_type": "code",
   "execution_count": 187,
   "metadata": {},
   "outputs": [
    {
     "data": {
      "text/plain": [
       "FECHA_HORA        datetime64[ns]\n",
       "NUM_PERS_IMPLS             int64\n",
       "dtype: object"
      ]
     },
     "execution_count": 187,
     "metadata": {},
     "output_type": "execute_result"
    }
   ],
   "source": [
    "personas_implicadas.dtypes"
   ]
  },
  {
   "cell_type": "code",
   "execution_count": 188,
   "metadata": {},
   "outputs": [
    {
     "data": {
      "text/html": [
       "<div>\n",
       "<style scoped>\n",
       "    .dataframe tbody tr th:only-of-type {\n",
       "        vertical-align: middle;\n",
       "    }\n",
       "\n",
       "    .dataframe tbody tr th {\n",
       "        vertical-align: top;\n",
       "    }\n",
       "\n",
       "    .dataframe thead th {\n",
       "        text-align: right;\n",
       "    }\n",
       "</style>\n",
       "<table border=\"1\" class=\"dataframe\">\n",
       "  <thead>\n",
       "    <tr style=\"text-align: right;\">\n",
       "      <th></th>\n",
       "      <th>FECHA_HORA</th>\n",
       "      <th>NUM_PERS_IMPLS</th>\n",
       "    </tr>\n",
       "  </thead>\n",
       "  <tbody>\n",
       "    <tr>\n",
       "      <th>0</th>\n",
       "      <td>2010-01-01 00:00:00</td>\n",
       "      <td>3</td>\n",
       "    </tr>\n",
       "    <tr>\n",
       "      <th>1</th>\n",
       "      <td>2010-01-01 01:00:00</td>\n",
       "      <td>8</td>\n",
       "    </tr>\n",
       "    <tr>\n",
       "      <th>2</th>\n",
       "      <td>2010-01-01 02:00:00</td>\n",
       "      <td>2</td>\n",
       "    </tr>\n",
       "    <tr>\n",
       "      <th>3</th>\n",
       "      <td>2010-01-01 04:00:00</td>\n",
       "      <td>11</td>\n",
       "    </tr>\n",
       "    <tr>\n",
       "      <th>4</th>\n",
       "      <td>2010-01-01 05:00:00</td>\n",
       "      <td>3</td>\n",
       "    </tr>\n",
       "  </tbody>\n",
       "</table>\n",
       "</div>"
      ],
      "text/plain": [
       "           FECHA_HORA  NUM_PERS_IMPLS\n",
       "0 2010-01-01 00:00:00               3\n",
       "1 2010-01-01 01:00:00               8\n",
       "2 2010-01-01 02:00:00               2\n",
       "3 2010-01-01 04:00:00              11\n",
       "4 2010-01-01 05:00:00               3"
      ]
     },
     "execution_count": 188,
     "metadata": {},
     "output_type": "execute_result"
    }
   ],
   "source": [
    "personas_implicadas.head(5)"
   ]
  },
  {
   "cell_type": "code",
   "execution_count": 189,
   "metadata": {},
   "outputs": [
    {
     "data": {
      "text/html": [
       "<div>\n",
       "<style scoped>\n",
       "    .dataframe tbody tr th:only-of-type {\n",
       "        vertical-align: middle;\n",
       "    }\n",
       "\n",
       "    .dataframe tbody tr th {\n",
       "        vertical-align: top;\n",
       "    }\n",
       "\n",
       "    .dataframe thead th {\n",
       "        text-align: right;\n",
       "    }\n",
       "</style>\n",
       "<table border=\"1\" class=\"dataframe\">\n",
       "  <thead>\n",
       "    <tr style=\"text-align: right;\">\n",
       "      <th></th>\n",
       "      <th>FECHA</th>\n",
       "      <th>HORA</th>\n",
       "      <th>DIA_SEMANA</th>\n",
       "      <th>DISTRITO</th>\n",
       "      <th>TIPO_ACCIDENTE</th>\n",
       "      <th>TIPO_VEHICULO</th>\n",
       "      <th>TIPO_PERSONA</th>\n",
       "      <th>SEXO</th>\n",
       "      <th>LESIVIDAD</th>\n",
       "      <th>EDAD_APROX</th>\n",
       "      <th>NUM_PERS_IMPLS</th>\n",
       "    </tr>\n",
       "  </thead>\n",
       "  <tbody>\n",
       "    <tr>\n",
       "      <th>0</th>\n",
       "      <td>01/01/2010</td>\n",
       "      <td>00:00</td>\n",
       "      <td>VIERNES</td>\n",
       "      <td>CHAMARTIN</td>\n",
       "      <td>COLISION_DOBLE</td>\n",
       "      <td>TURISMO</td>\n",
       "      <td>CONDUCTOR</td>\n",
       "      <td>HOMBRE</td>\n",
       "      <td>INGRESO_LEVE</td>\n",
       "      <td>20</td>\n",
       "      <td>3</td>\n",
       "    </tr>\n",
       "    <tr>\n",
       "      <th>1</th>\n",
       "      <td>01/01/2010</td>\n",
       "      <td>00:00</td>\n",
       "      <td>VIERNES</td>\n",
       "      <td>CHAMARTIN</td>\n",
       "      <td>COLISION_DOBLE</td>\n",
       "      <td>TURISMO</td>\n",
       "      <td>CONDUCTOR</td>\n",
       "      <td>HOMBRE</td>\n",
       "      <td>INGRESO_LEVE</td>\n",
       "      <td>50</td>\n",
       "      <td>3</td>\n",
       "    </tr>\n",
       "    <tr>\n",
       "      <th>2</th>\n",
       "      <td>01/01/2010</td>\n",
       "      <td>00:00</td>\n",
       "      <td>VIERNES</td>\n",
       "      <td>CHAMARTIN</td>\n",
       "      <td>COLISION_DOBLE</td>\n",
       "      <td>TURISMO</td>\n",
       "      <td>VIAJERO</td>\n",
       "      <td>MUJER</td>\n",
       "      <td>HERIDO_LEVE</td>\n",
       "      <td>40</td>\n",
       "      <td>3</td>\n",
       "    </tr>\n",
       "    <tr>\n",
       "      <th>3</th>\n",
       "      <td>01/01/2010</td>\n",
       "      <td>01:00</td>\n",
       "      <td>VIERNES</td>\n",
       "      <td>PUENTE DE VALLECAS</td>\n",
       "      <td>COLISION_MULTIPLE</td>\n",
       "      <td>NO_ASIGNADO</td>\n",
       "      <td>VIAJERO</td>\n",
       "      <td>MUJER</td>\n",
       "      <td>HERIDO_LEVE</td>\n",
       "      <td>25</td>\n",
       "      <td>8</td>\n",
       "    </tr>\n",
       "    <tr>\n",
       "      <th>4</th>\n",
       "      <td>01/01/2010</td>\n",
       "      <td>01:00</td>\n",
       "      <td>VIERNES</td>\n",
       "      <td>PUENTE DE VALLECAS</td>\n",
       "      <td>COLISION_MULTIPLE</td>\n",
       "      <td>NO_ASIGNADO</td>\n",
       "      <td>VIAJERO</td>\n",
       "      <td>MUJER</td>\n",
       "      <td>HERIDO_LEVE</td>\n",
       "      <td>30</td>\n",
       "      <td>8</td>\n",
       "    </tr>\n",
       "  </tbody>\n",
       "</table>\n",
       "</div>"
      ],
      "text/plain": [
       "        FECHA   HORA DIA_SEMANA            DISTRITO     TIPO_ACCIDENTE  \\\n",
       "0  01/01/2010  00:00    VIERNES           CHAMARTIN     COLISION_DOBLE   \n",
       "1  01/01/2010  00:00    VIERNES           CHAMARTIN     COLISION_DOBLE   \n",
       "2  01/01/2010  00:00    VIERNES           CHAMARTIN     COLISION_DOBLE   \n",
       "3  01/01/2010  01:00    VIERNES  PUENTE DE VALLECAS  COLISION_MULTIPLE   \n",
       "4  01/01/2010  01:00    VIERNES  PUENTE DE VALLECAS  COLISION_MULTIPLE   \n",
       "\n",
       "  TIPO_VEHICULO TIPO_PERSONA    SEXO     LESIVIDAD EDAD_APROX  NUM_PERS_IMPLS  \n",
       "0       TURISMO    CONDUCTOR  HOMBRE  INGRESO_LEVE         20               3  \n",
       "1       TURISMO    CONDUCTOR  HOMBRE  INGRESO_LEVE         50               3  \n",
       "2       TURISMO      VIAJERO   MUJER   HERIDO_LEVE         40               3  \n",
       "3   NO_ASIGNADO      VIAJERO   MUJER   HERIDO_LEVE         25               8  \n",
       "4   NO_ASIGNADO      VIAJERO   MUJER   HERIDO_LEVE         30               8  "
      ]
     },
     "execution_count": 189,
     "metadata": {},
     "output_type": "execute_result"
    }
   ],
   "source": [
    "df_from_xls.head()"
   ]
  },
  {
   "cell_type": "code",
   "execution_count": 190,
   "metadata": {},
   "outputs": [
    {
     "data": {
      "text/plain": [
       "FECHA_HORA        4964\n",
       "NUM_PERS_IMPLS    4964\n",
       "dtype: int64"
      ]
     },
     "execution_count": 190,
     "metadata": {},
     "output_type": "execute_result"
    }
   ],
   "source": [
    "personas_implicadas.count()"
   ]
  },
  {
   "cell_type": "code",
   "execution_count": 191,
   "metadata": {},
   "outputs": [
    {
     "data": {
      "text/plain": [
       "0   2010-01-01 00:00:00\n",
       "1   2010-01-01 01:00:00\n",
       "2   2010-01-01 02:00:00\n",
       "3   2010-01-01 03:00:00\n",
       "4   2010-01-01 04:00:00\n",
       "Name: FECHA, dtype: datetime64[ns]"
      ]
     },
     "execution_count": 191,
     "metadata": {},
     "output_type": "execute_result"
    }
   ],
   "source": [
    "calendario = pd.date_range(start='2010-01-01 00:00:00', end='2010-01-31 23:00:00', freq='1H')\n",
    "calendario = pd.DataFrame(calendario, columns=['FECHA'])\n",
    "#print(calendario)\n",
    "calendario[\"FECHA\"].head(5)"
   ]
  },
  {
   "cell_type": "code",
   "execution_count": 192,
   "metadata": {},
   "outputs": [
    {
     "data": {
      "text/plain": [
       "pandas.core.frame.DataFrame"
      ]
     },
     "execution_count": 192,
     "metadata": {},
     "output_type": "execute_result"
    }
   ],
   "source": [
    "type(calendario)"
   ]
  },
  {
   "cell_type": "code",
   "execution_count": 193,
   "metadata": {},
   "outputs": [
    {
     "data": {
      "text/plain": [
       "pandas.core.series.Series"
      ]
     },
     "execution_count": 193,
     "metadata": {},
     "output_type": "execute_result"
    }
   ],
   "source": [
    "type(calendario[\"FECHA\"])"
   ]
  },
  {
   "cell_type": "code",
   "execution_count": 194,
   "metadata": {},
   "outputs": [
    {
     "data": {
      "text/plain": [
       "FECHA    datetime64[ns]\n",
       "dtype: object"
      ]
     },
     "execution_count": 194,
     "metadata": {},
     "output_type": "execute_result"
    }
   ],
   "source": [
    "calendario.dtypes"
   ]
  },
  {
   "cell_type": "code",
   "execution_count": 195,
   "metadata": {},
   "outputs": [
    {
     "data": {
      "text/html": [
       "<div>\n",
       "<style scoped>\n",
       "    .dataframe tbody tr th:only-of-type {\n",
       "        vertical-align: middle;\n",
       "    }\n",
       "\n",
       "    .dataframe tbody tr th {\n",
       "        vertical-align: top;\n",
       "    }\n",
       "\n",
       "    .dataframe thead th {\n",
       "        text-align: right;\n",
       "    }\n",
       "</style>\n",
       "<table border=\"1\" class=\"dataframe\">\n",
       "  <thead>\n",
       "    <tr style=\"text-align: right;\">\n",
       "      <th></th>\n",
       "      <th>FECHA</th>\n",
       "      <th>FECHA_HORA</th>\n",
       "      <th>NUM_PERS_IMPLS</th>\n",
       "    </tr>\n",
       "  </thead>\n",
       "  <tbody>\n",
       "    <tr>\n",
       "      <th>0</th>\n",
       "      <td>2010-01-01 00:00:00</td>\n",
       "      <td>2010-01-01 00:00:00</td>\n",
       "      <td>3.0</td>\n",
       "    </tr>\n",
       "    <tr>\n",
       "      <th>1</th>\n",
       "      <td>2010-01-01 01:00:00</td>\n",
       "      <td>2010-01-01 01:00:00</td>\n",
       "      <td>8.0</td>\n",
       "    </tr>\n",
       "    <tr>\n",
       "      <th>2</th>\n",
       "      <td>2010-01-01 02:00:00</td>\n",
       "      <td>2010-01-01 02:00:00</td>\n",
       "      <td>2.0</td>\n",
       "    </tr>\n",
       "    <tr>\n",
       "      <th>3</th>\n",
       "      <td>2010-01-01 03:00:00</td>\n",
       "      <td>NaT</td>\n",
       "      <td>NaN</td>\n",
       "    </tr>\n",
       "    <tr>\n",
       "      <th>4</th>\n",
       "      <td>2010-01-01 04:00:00</td>\n",
       "      <td>2010-01-01 04:00:00</td>\n",
       "      <td>11.0</td>\n",
       "    </tr>\n",
       "  </tbody>\n",
       "</table>\n",
       "</div>"
      ],
      "text/plain": [
       "                FECHA          FECHA_HORA  NUM_PERS_IMPLS\n",
       "0 2010-01-01 00:00:00 2010-01-01 00:00:00             3.0\n",
       "1 2010-01-01 01:00:00 2010-01-01 01:00:00             8.0\n",
       "2 2010-01-01 02:00:00 2010-01-01 02:00:00             2.0\n",
       "3 2010-01-01 03:00:00                 NaT             NaN\n",
       "4 2010-01-01 04:00:00 2010-01-01 04:00:00            11.0"
      ]
     },
     "execution_count": 195,
     "metadata": {},
     "output_type": "execute_result"
    }
   ],
   "source": [
    "#['left', 'right', \"how='inner'\", 'on=None', 'left_on=None', 'right_on=None', 'left_index=False', \n",
    "#'right_index=False', 'sort=False', \"suffixes=('_x', '_y')\", 'copy=True', 'indicator=False', 'validate=None']\n",
    "df_cal_join_pim = [calendario, personas_implicadas]\n",
    "df_series_tiempo = reduce(lambda left,right: pd.merge(left,right,how='left',left_on='FECHA',\\\n",
    "                                                      right_on='FECHA_HORA',validate='one_to_one'), df_cal_join_pim)\n",
    "df_series_tiempo.head(5)"
   ]
  },
  {
   "cell_type": "code",
   "execution_count": 196,
   "metadata": {},
   "outputs": [],
   "source": [
    "del df_series_tiempo[\"FECHA_HORA\"]"
   ]
  },
  {
   "cell_type": "code",
   "execution_count": 197,
   "metadata": {},
   "outputs": [
    {
     "data": {
      "text/plain": [
       "Index(['FECHA', 'NUM_PERS_IMPLS'], dtype='object')"
      ]
     },
     "execution_count": 197,
     "metadata": {},
     "output_type": "execute_result"
    }
   ],
   "source": [
    "df_series_tiempo.columns"
   ]
  },
  {
   "cell_type": "code",
   "execution_count": 198,
   "metadata": {},
   "outputs": [
    {
     "data": {
      "text/html": [
       "<div>\n",
       "<style scoped>\n",
       "    .dataframe tbody tr th:only-of-type {\n",
       "        vertical-align: middle;\n",
       "    }\n",
       "\n",
       "    .dataframe tbody tr th {\n",
       "        vertical-align: top;\n",
       "    }\n",
       "\n",
       "    .dataframe thead th {\n",
       "        text-align: right;\n",
       "    }\n",
       "</style>\n",
       "<table border=\"1\" class=\"dataframe\">\n",
       "  <thead>\n",
       "    <tr style=\"text-align: right;\">\n",
       "      <th></th>\n",
       "      <th>FECHA</th>\n",
       "      <th>NUM_PERS_IMPLS</th>\n",
       "    </tr>\n",
       "  </thead>\n",
       "  <tbody>\n",
       "    <tr>\n",
       "      <th>0</th>\n",
       "      <td>2010-01-01 00:00:00</td>\n",
       "      <td>3.0</td>\n",
       "    </tr>\n",
       "    <tr>\n",
       "      <th>1</th>\n",
       "      <td>2010-01-01 01:00:00</td>\n",
       "      <td>8.0</td>\n",
       "    </tr>\n",
       "    <tr>\n",
       "      <th>2</th>\n",
       "      <td>2010-01-01 02:00:00</td>\n",
       "      <td>2.0</td>\n",
       "    </tr>\n",
       "    <tr>\n",
       "      <th>3</th>\n",
       "      <td>2010-01-01 03:00:00</td>\n",
       "      <td>NaN</td>\n",
       "    </tr>\n",
       "    <tr>\n",
       "      <th>4</th>\n",
       "      <td>2010-01-01 04:00:00</td>\n",
       "      <td>11.0</td>\n",
       "    </tr>\n",
       "  </tbody>\n",
       "</table>\n",
       "</div>"
      ],
      "text/plain": [
       "                FECHA  NUM_PERS_IMPLS\n",
       "0 2010-01-01 00:00:00             3.0\n",
       "1 2010-01-01 01:00:00             8.0\n",
       "2 2010-01-01 02:00:00             2.0\n",
       "3 2010-01-01 03:00:00             NaN\n",
       "4 2010-01-01 04:00:00            11.0"
      ]
     },
     "execution_count": 198,
     "metadata": {},
     "output_type": "execute_result"
    }
   ],
   "source": [
    "df_series_tiempo.head(5)"
   ]
  },
  {
   "cell_type": "code",
   "execution_count": 199,
   "metadata": {},
   "outputs": [
    {
     "data": {
      "text/plain": [
       "FECHA             datetime64[ns]\n",
       "NUM_PERS_IMPLS           float64\n",
       "dtype: object"
      ]
     },
     "execution_count": 199,
     "metadata": {},
     "output_type": "execute_result"
    }
   ],
   "source": [
    "df_series_tiempo.dtypes"
   ]
  },
  {
   "cell_type": "code",
   "execution_count": 200,
   "metadata": {},
   "outputs": [],
   "source": [
    "df_series_tiempo=df_series_tiempo.combine_first(df_series_tiempo.select_dtypes(include=[np.number]).fillna(0))\n"
   ]
  },
  {
   "cell_type": "code",
   "execution_count": 201,
   "metadata": {},
   "outputs": [
    {
     "data": {
      "text/plain": [
       "FECHA             datetime64[ns]\n",
       "NUM_PERS_IMPLS           float64\n",
       "dtype: object"
      ]
     },
     "execution_count": 201,
     "metadata": {},
     "output_type": "execute_result"
    }
   ],
   "source": [
    "df_series_tiempo.dtypes"
   ]
  },
  {
   "cell_type": "code",
   "execution_count": 202,
   "metadata": {},
   "outputs": [
    {
     "data": {
      "text/html": [
       "<div>\n",
       "<style scoped>\n",
       "    .dataframe tbody tr th:only-of-type {\n",
       "        vertical-align: middle;\n",
       "    }\n",
       "\n",
       "    .dataframe tbody tr th {\n",
       "        vertical-align: top;\n",
       "    }\n",
       "\n",
       "    .dataframe thead th {\n",
       "        text-align: right;\n",
       "    }\n",
       "</style>\n",
       "<table border=\"1\" class=\"dataframe\">\n",
       "  <thead>\n",
       "    <tr style=\"text-align: right;\">\n",
       "      <th></th>\n",
       "      <th>FECHA</th>\n",
       "      <th>NUM_PERS_IMPLS</th>\n",
       "    </tr>\n",
       "  </thead>\n",
       "  <tbody>\n",
       "    <tr>\n",
       "      <th>0</th>\n",
       "      <td>2010-01-01 00:00:00</td>\n",
       "      <td>3.0</td>\n",
       "    </tr>\n",
       "    <tr>\n",
       "      <th>1</th>\n",
       "      <td>2010-01-01 01:00:00</td>\n",
       "      <td>8.0</td>\n",
       "    </tr>\n",
       "    <tr>\n",
       "      <th>2</th>\n",
       "      <td>2010-01-01 02:00:00</td>\n",
       "      <td>2.0</td>\n",
       "    </tr>\n",
       "    <tr>\n",
       "      <th>3</th>\n",
       "      <td>2010-01-01 03:00:00</td>\n",
       "      <td>0.0</td>\n",
       "    </tr>\n",
       "    <tr>\n",
       "      <th>4</th>\n",
       "      <td>2010-01-01 04:00:00</td>\n",
       "      <td>11.0</td>\n",
       "    </tr>\n",
       "  </tbody>\n",
       "</table>\n",
       "</div>"
      ],
      "text/plain": [
       "                FECHA  NUM_PERS_IMPLS\n",
       "0 2010-01-01 00:00:00             3.0\n",
       "1 2010-01-01 01:00:00             8.0\n",
       "2 2010-01-01 02:00:00             2.0\n",
       "3 2010-01-01 03:00:00             0.0\n",
       "4 2010-01-01 04:00:00            11.0"
      ]
     },
     "execution_count": 202,
     "metadata": {},
     "output_type": "execute_result"
    }
   ],
   "source": [
    "df_series_tiempo.head(5)"
   ]
  },
  {
   "cell_type": "code",
   "execution_count": 203,
   "metadata": {},
   "outputs": [],
   "source": [
    "df_series_tiempo[\"NUM_PERS_IMPLS\"]=df_series_tiempo['NUM_PERS_IMPLS'].astype(np.int64)"
   ]
  },
  {
   "cell_type": "code",
   "execution_count": 204,
   "metadata": {},
   "outputs": [
    {
     "data": {
      "text/plain": [
       "FECHA             datetime64[ns]\n",
       "NUM_PERS_IMPLS             int64\n",
       "dtype: object"
      ]
     },
     "execution_count": 204,
     "metadata": {},
     "output_type": "execute_result"
    }
   ],
   "source": [
    "df_series_tiempo.dtypes"
   ]
  },
  {
   "cell_type": "code",
   "execution_count": 205,
   "metadata": {},
   "outputs": [
    {
     "data": {
      "text/html": [
       "<div>\n",
       "<style scoped>\n",
       "    .dataframe tbody tr th:only-of-type {\n",
       "        vertical-align: middle;\n",
       "    }\n",
       "\n",
       "    .dataframe tbody tr th {\n",
       "        vertical-align: top;\n",
       "    }\n",
       "\n",
       "    .dataframe thead th {\n",
       "        text-align: right;\n",
       "    }\n",
       "</style>\n",
       "<table border=\"1\" class=\"dataframe\">\n",
       "  <thead>\n",
       "    <tr style=\"text-align: right;\">\n",
       "      <th></th>\n",
       "      <th>FECHA</th>\n",
       "      <th>NUM_PERS_IMPLS</th>\n",
       "    </tr>\n",
       "  </thead>\n",
       "  <tbody>\n",
       "    <tr>\n",
       "      <th>0</th>\n",
       "      <td>2010-01-01 00:00:00</td>\n",
       "      <td>3</td>\n",
       "    </tr>\n",
       "    <tr>\n",
       "      <th>1</th>\n",
       "      <td>2010-01-01 01:00:00</td>\n",
       "      <td>8</td>\n",
       "    </tr>\n",
       "    <tr>\n",
       "      <th>2</th>\n",
       "      <td>2010-01-01 02:00:00</td>\n",
       "      <td>2</td>\n",
       "    </tr>\n",
       "    <tr>\n",
       "      <th>3</th>\n",
       "      <td>2010-01-01 03:00:00</td>\n",
       "      <td>0</td>\n",
       "    </tr>\n",
       "    <tr>\n",
       "      <th>4</th>\n",
       "      <td>2010-01-01 04:00:00</td>\n",
       "      <td>11</td>\n",
       "    </tr>\n",
       "  </tbody>\n",
       "</table>\n",
       "</div>"
      ],
      "text/plain": [
       "                FECHA  NUM_PERS_IMPLS\n",
       "0 2010-01-01 00:00:00               3\n",
       "1 2010-01-01 01:00:00               8\n",
       "2 2010-01-01 02:00:00               2\n",
       "3 2010-01-01 03:00:00               0\n",
       "4 2010-01-01 04:00:00              11"
      ]
     },
     "execution_count": 205,
     "metadata": {},
     "output_type": "execute_result"
    }
   ],
   "source": [
    "df_series_tiempo.head(5)"
   ]
  },
  {
   "cell_type": "code",
   "execution_count": 206,
   "metadata": {},
   "outputs": [
    {
     "name": "stdout",
     "output_type": "stream",
     "text": [
      "01_loading_and_preprocessing_original_data.ipynb\r\n",
      "01_OUT_csv_filesexport_df_series_tiempo.csv\r\n"
     ]
    }
   ],
   "source": [
    "!ls {folder}"
   ]
  },
  {
   "cell_type": "code",
   "execution_count": 207,
   "metadata": {},
   "outputs": [],
   "source": [
    "# OUT file \"01_OUT_csv_filesexport_df_series_tiempo.csv\" for Time Series probes\n",
    "df_series_tiempo.to_csv ('01_OUT_csv_filesexport_df_series_tiempo.csv')"
   ]
  },
  {
   "cell_type": "code",
   "execution_count": 208,
   "metadata": {},
   "outputs": [
    {
     "name": "stdout",
     "output_type": "stream",
     "text": [
      "dom dic  1 16:06:40 CET 2019\r\n"
     ]
    }
   ],
   "source": [
    "!date"
   ]
  }
 ],
 "metadata": {
  "kernelspec": {
   "display_name": "Python 3",
   "language": "python",
   "name": "python3"
  },
  "language_info": {
   "codemirror_mode": {
    "name": "ipython",
    "version": 3
   },
   "file_extension": ".py",
   "mimetype": "text/x-python",
   "name": "python",
   "nbconvert_exporter": "python",
   "pygments_lexer": "ipython3",
   "version": "3.7.3"
  }
 },
 "nbformat": 4,
 "nbformat_minor": 2
}
