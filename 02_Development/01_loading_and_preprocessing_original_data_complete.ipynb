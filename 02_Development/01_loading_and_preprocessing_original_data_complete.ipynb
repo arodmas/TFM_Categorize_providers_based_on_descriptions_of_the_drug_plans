{
 "cells": [
  {
   "cell_type": "code",
   "execution_count": 178,
   "metadata": {},
   "outputs": [
    {
     "name": "stdout",
     "output_type": "stream",
     "text": [
      "jue ene  2 20:03:23 CET 2020\r\n"
     ]
    }
   ],
   "source": [
    "!date"
   ]
  },
  {
   "cell_type": "code",
   "execution_count": 179,
   "metadata": {},
   "outputs": [
    {
     "name": "stdout",
     "output_type": "stream",
     "text": [
      "\n",
      "Automagic is ON, % prefix IS NOT needed for line magics.\n"
     ]
    }
   ],
   "source": [
    "# Active system's automagic\n",
    "%automagic on"
   ]
  },
  {
   "cell_type": "code",
   "execution_count": 180,
   "metadata": {},
   "outputs": [],
   "source": [
    "# Load work environment"
   ]
  },
  {
   "cell_type": "code",
   "execution_count": 181,
   "metadata": {},
   "outputs": [
    {
     "data": {
      "text/plain": [
       "'/home/dsc/Repos/TFM_Categorize_providers_based_on_descriptions_of_the_drug_plans/01_Original_data'"
      ]
     },
     "execution_count": 181,
     "metadata": {},
     "output_type": "execute_result"
    }
   ],
   "source": [
    "import os\n",
    "os.getcwd()"
   ]
  },
  {
   "cell_type": "code",
   "execution_count": 182,
   "metadata": {},
   "outputs": [
    {
     "name": "stdout",
     "output_type": "stream",
     "text": [
      "06a_maa_to_m2012.xlsx  09a_maa_to_m2015.xlsx  12a_maa_to_m2018.xlsx\r\n",
      "06b_man_to_w2012.xlsx  09b_man_to_w2015.xlsx  12b_man_to_w2018.xlsx\r\n",
      "07a_maa_to_m2013.xlsx  10a_maa_to_m2016.xlsx  13a_maa_to_m2019.xlsx\r\n",
      "07b_man_to_w2013.xlsx  10b_man_to_w2016.xlsx  13b_man_to_w2019.xlsx\r\n",
      "08a_maa_to_m2014.xlsx  11a_maa_to_m2017.xlsx\r\n",
      "08b_man_to_w2014.xlsx  11b_man_to_w2017.xlsx\r\n"
     ]
    }
   ],
   "source": [
    "#folder = '/home/dsc/Repos/TFM_Categorize_providers_based_on_descriptions_of_the_drug_plans/03_Presentation'\n",
    "folder = os.getcwd()\n",
    "!ls {folder}"
   ]
  },
  {
   "cell_type": "code",
   "execution_count": 183,
   "metadata": {},
   "outputs": [
    {
     "data": {
      "text/plain": [
       "'/home/dsc/Repos/TFM_Categorize_providers_based_on_descriptions_of_the_drug_plans/01_Original_data'"
      ]
     },
     "execution_count": 183,
     "metadata": {},
     "output_type": "execute_result"
    }
   ],
   "source": [
    "os.chdir(folder)\n",
    "os.getcwd()"
   ]
  },
  {
   "cell_type": "code",
   "execution_count": 184,
   "metadata": {},
   "outputs": [],
   "source": [
    "# Load library for work and analitics data\n",
    "import pandas as pd\n",
    "import numpy as np"
   ]
  },
  {
   "cell_type": "code",
   "execution_count": 185,
   "metadata": {},
   "outputs": [
    {
     "name": "stdout",
     "output_type": "stream",
     "text": [
      "total 18768\r\n",
      "-rw-rw-r-- 1 dsc dsc 1290067 dic 26 15:18 06a_maa_to_m2012.xlsx\r\n",
      "-rw-rw-r-- 1 dsc dsc 1403666 dic 26 15:20 06b_man_to_w2012.xlsx\r\n",
      "-rw-rw-r-- 1 dsc dsc 1235276 dic 26 15:21 07a_maa_to_m2013.xlsx\r\n",
      "-rw-rw-r-- 1 dsc dsc 1417179 dic 26 15:22 07b_man_to_w2013.xlsx\r\n",
      "-rw-rw-r-- 1 dsc dsc  963040 dic 26 15:23 08a_maa_to_m2014.xlsx\r\n",
      "-rw-rw-r-- 1 dsc dsc 1223346 dic 26 15:24 08b_man_to_w2014.xlsx\r\n",
      "-rw-rw-r-- 1 dsc dsc  995042 dic 26 15:25 09a_maa_to_m2015.xlsx\r\n",
      "-rw-rw-r-- 1 dsc dsc 1109618 dic 26 15:26 09b_man_to_w2015.xlsx\r\n",
      "-rw-rw-r-- 1 dsc dsc 1027178 dic 26 15:27 10a_maa_to_m2016.xlsx\r\n",
      "-rw-rw-r-- 1 dsc dsc 1173313 dic 26 15:28 10b_man_to_w2016.xlsx\r\n",
      "-rw-rw-r-- 1 dsc dsc 1056650 dic 26 15:29 11a_maa_to_m2017.xlsx\r\n",
      "-rw-rw-r-- 1 dsc dsc 1123358 dic 26 15:30 11b_man_to_w2017.xlsx\r\n",
      "-rw-rw-r-- 1 dsc dsc 1149202 dic 26 15:32 12a_maa_to_m2018.xlsx\r\n",
      "-rw-rw-r-- 1 dsc dsc 1261817 dic 26 15:33 12b_man_to_w2018.xlsx\r\n",
      "-rw-rw-r-- 1 dsc dsc 1289344 dic 26 15:34 13a_maa_to_m2019.xlsx\r\n",
      "-rw-rw-r-- 1 dsc dsc 1477248 dic 26 15:35 13b_man_to_w2019.xlsx\r\n"
     ]
    }
   ],
   "source": [
    "!ls -ltr ../01_Original_data"
   ]
  },
  {
   "cell_type": "code",
   "execution_count": 186,
   "metadata": {},
   "outputs": [],
   "source": [
    "# Read from excel files complete with column names stipulated and transform them\n",
    "# (1) Imports:\n",
    "import os\n",
    "import glob"
   ]
  },
  {
   "cell_type": "code",
   "execution_count": 187,
   "metadata": {},
   "outputs": [
    {
     "name": "stdout",
     "output_type": "stream",
     "text": [
      "/home/dsc/Repos/TFM_Categorize_providers_based_on_descriptions_of_the_drug_plans/01_Original_data\r\n"
     ]
    }
   ],
   "source": [
    "# (2) File list:\n",
    "path = os.chdir(os.getcwd() + '/..' + '/01_Original_data')\n",
    "!pwd"
   ]
  },
  {
   "cell_type": "code",
   "execution_count": 188,
   "metadata": {},
   "outputs": [
    {
     "data": {
      "text/plain": [
       "['06a_maa_to_m2012.xlsx',\n",
       " '06b_man_to_w2012.xlsx',\n",
       " '07a_maa_to_m2013.xlsx',\n",
       " '07b_man_to_w2013.xlsx',\n",
       " '08a_maa_to_m2014.xlsx',\n",
       " '08b_man_to_w2014.xlsx',\n",
       " '09a_maa_to_m2015.xlsx',\n",
       " '09b_man_to_w2015.xlsx',\n",
       " '10a_maa_to_m2016.xlsx',\n",
       " '10b_man_to_w2016.xlsx',\n",
       " '11a_maa_to_m2017.xlsx',\n",
       " '11b_man_to_w2017.xlsx',\n",
       " '12a_maa_to_m2018.xlsx',\n",
       " '12b_man_to_w2018.xlsx',\n",
       " '13a_maa_to_m2019.xlsx',\n",
       " '13b_man_to_w2019.xlsx']"
      ]
     },
     "execution_count": 188,
     "metadata": {},
     "output_type": "execute_result"
    }
   ],
   "source": [
    "patron_files_xlsx = '*.xlsx'\n",
    "# Avoid storing entries in memory simultaneously\n",
    "files_xlsx = sorted(glob.glob(patron_files_xlsx, recursive=True)) \n",
    "files_xlsx"
   ]
  },
  {
   "cell_type": "code",
   "execution_count": 189,
   "metadata": {},
   "outputs": [],
   "source": [
    "# (3) Initialize empty dataframe:\n",
    "df_from_xlsx_total = pd.DataFrame()"
   ]
  },
  {
   "cell_type": "code",
   "execution_count": 190,
   "metadata": {},
   "outputs": [
    {
     "name": "stdout",
     "output_type": "stream",
     "text": [
      "CPU times: user 47.3 s, sys: 312 ms, total: 47.6 s\n",
      "Wall time: 47.2 s\n"
     ]
    }
   ],
   "source": [
    "%%time\n",
    "# (4) Loop over the file list to append to an empty dataframe:\n",
    "for f in files_xlsx:\n",
    "    df_from_xlsx_parcial = pd.read_excel(f,                          \n",
    "                          index_col=None,\n",
    "                          names=['ESTADO', 'CONDADO', 'ORGANIZACION', 'BORRAR'\n",
    "                                 , 'TIPO_PLAN_GENERICO_MEDICARE', 'PRIMA_MENSUAL_CONSOLIDADA', 'BORRAR'\n",
    "                                 , 'BORRAR', 'BORRAR'\n",
    "                                 , 'BORRAR', 'BORRAR', 'BORRAR', 'BORRAR'\n",
    "                                 , 'DESEMBOLSO_MAXIMO', 'CLASIFICACION'])\n",
    "\n",
    "    df_from_xlsx_total = df_from_xlsx_total.append(df_from_xlsx_parcial, sort=False)"
   ]
  },
  {
   "cell_type": "code",
   "execution_count": 191,
   "metadata": {},
   "outputs": [
    {
     "data": {
      "text/plain": [
       "306183"
      ]
     },
     "execution_count": 191,
     "metadata": {},
     "output_type": "execute_result"
    }
   ],
   "source": [
    "len(df_from_xlsx_total)"
   ]
  },
  {
   "cell_type": "code",
   "execution_count": 192,
   "metadata": {},
   "outputs": [
    {
     "data": {
      "text/html": [
       "<div>\n",
       "<style scoped>\n",
       "    .dataframe tbody tr th:only-of-type {\n",
       "        vertical-align: middle;\n",
       "    }\n",
       "\n",
       "    .dataframe tbody tr th {\n",
       "        vertical-align: top;\n",
       "    }\n",
       "\n",
       "    .dataframe thead th {\n",
       "        text-align: right;\n",
       "    }\n",
       "</style>\n",
       "<table border=\"1\" class=\"dataframe\">\n",
       "  <thead>\n",
       "    <tr style=\"text-align: right;\">\n",
       "      <th></th>\n",
       "      <th>BORRAR.6</th>\n",
       "      <th>BORRAR.7</th>\n",
       "    </tr>\n",
       "  </thead>\n",
       "  <tbody>\n",
       "    <tr>\n",
       "      <th>count</th>\n",
       "      <td>306183.000000</td>\n",
       "      <td>306183.000000</td>\n",
       "    </tr>\n",
       "    <tr>\n",
       "      <th>mean</th>\n",
       "      <td>29.594083</td>\n",
       "      <td>0.241081</td>\n",
       "    </tr>\n",
       "    <tr>\n",
       "      <th>std</th>\n",
       "      <td>42.374874</td>\n",
       "      <td>1.416832</td>\n",
       "    </tr>\n",
       "    <tr>\n",
       "      <th>min</th>\n",
       "      <td>1.000000</td>\n",
       "      <td>0.000000</td>\n",
       "    </tr>\n",
       "    <tr>\n",
       "      <th>25%</th>\n",
       "      <td>4.000000</td>\n",
       "      <td>0.000000</td>\n",
       "    </tr>\n",
       "    <tr>\n",
       "      <th>50%</th>\n",
       "      <td>12.000000</td>\n",
       "      <td>0.000000</td>\n",
       "    </tr>\n",
       "    <tr>\n",
       "      <th>75%</th>\n",
       "      <td>33.000000</td>\n",
       "      <td>0.000000</td>\n",
       "    </tr>\n",
       "    <tr>\n",
       "      <th>max</th>\n",
       "      <td>278.000000</td>\n",
       "      <td>24.000000</td>\n",
       "    </tr>\n",
       "  </tbody>\n",
       "</table>\n",
       "</div>"
      ],
      "text/plain": [
       "            BORRAR.6       BORRAR.7\n",
       "count  306183.000000  306183.000000\n",
       "mean       29.594083       0.241081\n",
       "std        42.374874       1.416832\n",
       "min         1.000000       0.000000\n",
       "25%         4.000000       0.000000\n",
       "50%        12.000000       0.000000\n",
       "75%        33.000000       0.000000\n",
       "max       278.000000      24.000000"
      ]
     },
     "execution_count": 192,
     "metadata": {},
     "output_type": "execute_result"
    }
   ],
   "source": [
    "df_from_xlsx_total.describe()"
   ]
  },
  {
   "cell_type": "code",
   "execution_count": 193,
   "metadata": {},
   "outputs": [
    {
     "data": {
      "text/html": [
       "<div>\n",
       "<style scoped>\n",
       "    .dataframe tbody tr th:only-of-type {\n",
       "        vertical-align: middle;\n",
       "    }\n",
       "\n",
       "    .dataframe tbody tr th {\n",
       "        vertical-align: top;\n",
       "    }\n",
       "\n",
       "    .dataframe thead th {\n",
       "        text-align: right;\n",
       "    }\n",
       "</style>\n",
       "<table border=\"1\" class=\"dataframe\">\n",
       "  <thead>\n",
       "    <tr style=\"text-align: right;\">\n",
       "      <th></th>\n",
       "      <th>ESTADO</th>\n",
       "      <th>CONDADO</th>\n",
       "      <th>ORGANIZACION</th>\n",
       "      <th>BORRAR</th>\n",
       "      <th>TIPO_PLAN_GENERICO_MEDICARE</th>\n",
       "      <th>PRIMA_MENSUAL_CONSOLIDADA</th>\n",
       "      <th>BORRAR.1</th>\n",
       "      <th>BORRAR.2</th>\n",
       "      <th>BORRAR.3</th>\n",
       "      <th>BORRAR.4</th>\n",
       "      <th>BORRAR.5</th>\n",
       "      <th>BORRAR.6</th>\n",
       "      <th>BORRAR.7</th>\n",
       "      <th>DESEMBOLSO_MAXIMO</th>\n",
       "      <th>CLASIFICACION</th>\n",
       "    </tr>\n",
       "  </thead>\n",
       "  <tbody>\n",
       "    <tr>\n",
       "      <th>0</th>\n",
       "      <td>Alabama</td>\n",
       "      <td>Autauga</td>\n",
       "      <td>UnitedHealthcare</td>\n",
       "      <td>AARP MedicareComplete Plan 1 (HMO)</td>\n",
       "      <td>Local HMO</td>\n",
       "      <td>$0.00</td>\n",
       "      <td>$0</td>\n",
       "      <td>Enhanced</td>\n",
       "      <td>No Gap Coverage</td>\n",
       "      <td>EA</td>\n",
       "      <td>H0151</td>\n",
       "      <td>1</td>\n",
       "      <td>0</td>\n",
       "      <td>$4,450</td>\n",
       "      <td>2.5</td>\n",
       "    </tr>\n",
       "    <tr>\n",
       "      <th>1</th>\n",
       "      <td>Alabama</td>\n",
       "      <td>Autauga</td>\n",
       "      <td>Blue Cross and Blue Shield of Alabama</td>\n",
       "      <td>Blue Advantage Complete (PPO)</td>\n",
       "      <td>Local PPO</td>\n",
       "      <td>$99.00</td>\n",
       "      <td>$130</td>\n",
       "      <td>Basic</td>\n",
       "      <td>No Gap Coverage</td>\n",
       "      <td>BA</td>\n",
       "      <td>H0104</td>\n",
       "      <td>11</td>\n",
       "      <td>5</td>\n",
       "      <td>$3,400</td>\n",
       "      <td>2.5</td>\n",
       "    </tr>\n",
       "    <tr>\n",
       "      <th>2</th>\n",
       "      <td>Alabama</td>\n",
       "      <td>Autauga</td>\n",
       "      <td>Blue Cross and Blue Shield of Alabama</td>\n",
       "      <td>Blue Advantage Premier (PPO)</td>\n",
       "      <td>Local PPO</td>\n",
       "      <td>$199.00</td>\n",
       "      <td>$0</td>\n",
       "      <td>Enhanced</td>\n",
       "      <td>No Gap Coverage</td>\n",
       "      <td>EA</td>\n",
       "      <td>H0104</td>\n",
       "      <td>10</td>\n",
       "      <td>3</td>\n",
       "      <td>$3,400</td>\n",
       "      <td>2.5</td>\n",
       "    </tr>\n",
       "    <tr>\n",
       "      <th>3</th>\n",
       "      <td>Alabama</td>\n",
       "      <td>Autauga</td>\n",
       "      <td>Healthspring of Alabama, Inc.</td>\n",
       "      <td>HealthyAdvantage (HMO)</td>\n",
       "      <td>Local HMO *</td>\n",
       "      <td>$0.00</td>\n",
       "      <td>NaN</td>\n",
       "      <td>NaN</td>\n",
       "      <td>NaN</td>\n",
       "      <td>NaN</td>\n",
       "      <td>H0150</td>\n",
       "      <td>12</td>\n",
       "      <td>0</td>\n",
       "      <td>$3,400</td>\n",
       "      <td>3</td>\n",
       "    </tr>\n",
       "    <tr>\n",
       "      <th>4</th>\n",
       "      <td>Alabama</td>\n",
       "      <td>Autauga</td>\n",
       "      <td>Healthspring of Alabama, Inc.</td>\n",
       "      <td>HealthyAdvantage Preferred (HMO)</td>\n",
       "      <td>Local HMO</td>\n",
       "      <td>$0.00</td>\n",
       "      <td>$0</td>\n",
       "      <td>Enhanced</td>\n",
       "      <td>Many Generics</td>\n",
       "      <td>EA</td>\n",
       "      <td>H0150</td>\n",
       "      <td>1</td>\n",
       "      <td>0</td>\n",
       "      <td>$3,400</td>\n",
       "      <td>3</td>\n",
       "    </tr>\n",
       "  </tbody>\n",
       "</table>\n",
       "</div>"
      ],
      "text/plain": [
       "    ESTADO  CONDADO                           ORGANIZACION  \\\n",
       "0  Alabama  Autauga                       UnitedHealthcare   \n",
       "1  Alabama  Autauga  Blue Cross and Blue Shield of Alabama   \n",
       "2  Alabama  Autauga  Blue Cross and Blue Shield of Alabama   \n",
       "3  Alabama  Autauga          Healthspring of Alabama, Inc.   \n",
       "4  Alabama  Autauga          Healthspring of Alabama, Inc.   \n",
       "\n",
       "                               BORRAR TIPO_PLAN_GENERICO_MEDICARE  \\\n",
       "0  AARP MedicareComplete Plan 1 (HMO)                   Local HMO   \n",
       "1       Blue Advantage Complete (PPO)                   Local PPO   \n",
       "2        Blue Advantage Premier (PPO)                   Local PPO   \n",
       "3              HealthyAdvantage (HMO)                 Local HMO *   \n",
       "4    HealthyAdvantage Preferred (HMO)                   Local HMO   \n",
       "\n",
       "  PRIMA_MENSUAL_CONSOLIDADA BORRAR.1  BORRAR.2         BORRAR.3 BORRAR.4  \\\n",
       "0                    $0.00       $0   Enhanced  No Gap Coverage       EA   \n",
       "1                   $99.00     $130      Basic  No Gap Coverage       BA   \n",
       "2                  $199.00       $0   Enhanced  No Gap Coverage       EA   \n",
       "3                    $0.00       NaN       NaN              NaN      NaN   \n",
       "4                    $0.00       $0   Enhanced    Many Generics       EA   \n",
       "\n",
       "  BORRAR.5  BORRAR.6  BORRAR.7 DESEMBOLSO_MAXIMO CLASIFICACION  \n",
       "0    H0151         1         0           $4,450            2.5  \n",
       "1    H0104        11         5           $3,400            2.5  \n",
       "2    H0104        10         3           $3,400            2.5  \n",
       "3    H0150        12         0           $3,400              3  \n",
       "4    H0150         1         0           $3,400              3  "
      ]
     },
     "execution_count": 193,
     "metadata": {},
     "output_type": "execute_result"
    }
   ],
   "source": [
    "df_from_xlsx_total.head()"
   ]
  },
  {
   "cell_type": "code",
   "execution_count": 194,
   "metadata": {},
   "outputs": [
    {
     "data": {
      "text/plain": [
       "(306183, 15)"
      ]
     },
     "execution_count": 194,
     "metadata": {},
     "output_type": "execute_result"
    }
   ],
   "source": [
    "df_from_xlsx_total.shape"
   ]
  },
  {
   "cell_type": "code",
   "execution_count": 195,
   "metadata": {},
   "outputs": [
    {
     "data": {
      "text/plain": [
       "589"
      ]
     },
     "execution_count": 195,
     "metadata": {},
     "output_type": "execute_result"
    }
   ],
   "source": [
    "df_from_xlsx_total.duplicated().sum()"
   ]
  },
  {
   "cell_type": "code",
   "execution_count": 196,
   "metadata": {},
   "outputs": [
    {
     "data": {
      "text/plain": [
       "ESTADO                             0\n",
       "CONDADO                            0\n",
       "ORGANIZACION                       0\n",
       "BORRAR                             0\n",
       "TIPO_PLAN_GENERICO_MEDICARE       32\n",
       "PRIMA_MENSUAL_CONSOLIDADA       2511\n",
       "BORRAR.1                       79392\n",
       "BORRAR.2                       79392\n",
       "BORRAR.3                       79392\n",
       "BORRAR.4                       79392\n",
       "BORRAR.5                           0\n",
       "BORRAR.6                           0\n",
       "BORRAR.7                           0\n",
       "DESEMBOLSO_MAXIMO               3389\n",
       "CLASIFICACION                     32\n",
       "dtype: int64"
      ]
     },
     "execution_count": 196,
     "metadata": {},
     "output_type": "execute_result"
    }
   ],
   "source": [
    "# Check NULL values\n",
    "df_from_xlsx_total.isnull().sum()"
   ]
  },
  {
   "cell_type": "code",
   "execution_count": 197,
   "metadata": {},
   "outputs": [],
   "source": [
    "# Delete surplus columns that start with:\n",
    "filtro_borrar = [col for col in df_from_xlsx_total if col.startswith('BORRAR')]\n",
    "df_from_xlsx_total = df_from_xlsx_total.drop(columns=filtro_borrar)"
   ]
  },
  {
   "cell_type": "code",
   "execution_count": 198,
   "metadata": {},
   "outputs": [
    {
     "data": {
      "text/plain": [
       "(306183, 7)"
      ]
     },
     "execution_count": 198,
     "metadata": {},
     "output_type": "execute_result"
    }
   ],
   "source": [
    "df_from_xlsx_total.shape"
   ]
  },
  {
   "cell_type": "code",
   "execution_count": 199,
   "metadata": {},
   "outputs": [
    {
     "data": {
      "text/html": [
       "<div>\n",
       "<style scoped>\n",
       "    .dataframe tbody tr th:only-of-type {\n",
       "        vertical-align: middle;\n",
       "    }\n",
       "\n",
       "    .dataframe tbody tr th {\n",
       "        vertical-align: top;\n",
       "    }\n",
       "\n",
       "    .dataframe thead th {\n",
       "        text-align: right;\n",
       "    }\n",
       "</style>\n",
       "<table border=\"1\" class=\"dataframe\">\n",
       "  <thead>\n",
       "    <tr style=\"text-align: right;\">\n",
       "      <th></th>\n",
       "      <th>ESTADO</th>\n",
       "      <th>CONDADO</th>\n",
       "      <th>ORGANIZACION</th>\n",
       "      <th>TIPO_PLAN_GENERICO_MEDICARE</th>\n",
       "      <th>PRIMA_MENSUAL_CONSOLIDADA</th>\n",
       "      <th>DESEMBOLSO_MAXIMO</th>\n",
       "      <th>CLASIFICACION</th>\n",
       "    </tr>\n",
       "  </thead>\n",
       "  <tbody>\n",
       "    <tr>\n",
       "      <th>0</th>\n",
       "      <td>Alabama</td>\n",
       "      <td>Autauga</td>\n",
       "      <td>UnitedHealthcare</td>\n",
       "      <td>Local HMO</td>\n",
       "      <td>$0.00</td>\n",
       "      <td>$4,450</td>\n",
       "      <td>2.5</td>\n",
       "    </tr>\n",
       "    <tr>\n",
       "      <th>1</th>\n",
       "      <td>Alabama</td>\n",
       "      <td>Autauga</td>\n",
       "      <td>Blue Cross and Blue Shield of Alabama</td>\n",
       "      <td>Local PPO</td>\n",
       "      <td>$99.00</td>\n",
       "      <td>$3,400</td>\n",
       "      <td>2.5</td>\n",
       "    </tr>\n",
       "    <tr>\n",
       "      <th>2</th>\n",
       "      <td>Alabama</td>\n",
       "      <td>Autauga</td>\n",
       "      <td>Blue Cross and Blue Shield of Alabama</td>\n",
       "      <td>Local PPO</td>\n",
       "      <td>$199.00</td>\n",
       "      <td>$3,400</td>\n",
       "      <td>2.5</td>\n",
       "    </tr>\n",
       "    <tr>\n",
       "      <th>3</th>\n",
       "      <td>Alabama</td>\n",
       "      <td>Autauga</td>\n",
       "      <td>Healthspring of Alabama, Inc.</td>\n",
       "      <td>Local HMO *</td>\n",
       "      <td>$0.00</td>\n",
       "      <td>$3,400</td>\n",
       "      <td>3</td>\n",
       "    </tr>\n",
       "    <tr>\n",
       "      <th>4</th>\n",
       "      <td>Alabama</td>\n",
       "      <td>Autauga</td>\n",
       "      <td>Healthspring of Alabama, Inc.</td>\n",
       "      <td>Local HMO</td>\n",
       "      <td>$0.00</td>\n",
       "      <td>$3,400</td>\n",
       "      <td>3</td>\n",
       "    </tr>\n",
       "    <tr>\n",
       "      <th>5</th>\n",
       "      <td>Alabama</td>\n",
       "      <td>Autauga</td>\n",
       "      <td>Healthspring of Alabama, Inc.</td>\n",
       "      <td>Local HMO</td>\n",
       "      <td>$38.00</td>\n",
       "      <td>$3,400</td>\n",
       "      <td>3</td>\n",
       "    </tr>\n",
       "    <tr>\n",
       "      <th>6</th>\n",
       "      <td>Alabama</td>\n",
       "      <td>Autauga</td>\n",
       "      <td>Humana Insurance Company</td>\n",
       "      <td>PFFS</td>\n",
       "      <td>$65.00</td>\n",
       "      <td>$5,000</td>\n",
       "      <td>Plan too new to be measured</td>\n",
       "    </tr>\n",
       "    <tr>\n",
       "      <th>7</th>\n",
       "      <td>Alabama</td>\n",
       "      <td>Autauga</td>\n",
       "      <td>Humana Insurance Company</td>\n",
       "      <td>PFFS *</td>\n",
       "      <td>$0.00</td>\n",
       "      <td>$6,700</td>\n",
       "      <td>Plan too new to be measured</td>\n",
       "    </tr>\n",
       "    <tr>\n",
       "      <th>8</th>\n",
       "      <td>Alabama</td>\n",
       "      <td>Autauga</td>\n",
       "      <td>Humana Insurance Company</td>\n",
       "      <td>Local PPO</td>\n",
       "      <td>$39.00</td>\n",
       "      <td>$4,900</td>\n",
       "      <td>2.5</td>\n",
       "    </tr>\n",
       "    <tr>\n",
       "      <th>9</th>\n",
       "      <td>Alabama</td>\n",
       "      <td>Autauga</td>\n",
       "      <td>Humana Insurance Company</td>\n",
       "      <td>Regional PPO</td>\n",
       "      <td>$59.00</td>\n",
       "      <td>$4,900</td>\n",
       "      <td>3</td>\n",
       "    </tr>\n",
       "    <tr>\n",
       "      <th>10</th>\n",
       "      <td>Alabama</td>\n",
       "      <td>Autauga</td>\n",
       "      <td>Humana Insurance Company</td>\n",
       "      <td>Regional PPO *</td>\n",
       "      <td>$0.00</td>\n",
       "      <td>$3,400</td>\n",
       "      <td>3</td>\n",
       "    </tr>\n",
       "    <tr>\n",
       "      <th>11</th>\n",
       "      <td>Alabama</td>\n",
       "      <td>Autauga</td>\n",
       "      <td>VIVA Medicare Plus</td>\n",
       "      <td>Local HMO</td>\n",
       "      <td>$0.00</td>\n",
       "      <td>$6,700</td>\n",
       "      <td>3.5</td>\n",
       "    </tr>\n",
       "    <tr>\n",
       "      <th>12</th>\n",
       "      <td>Alabama</td>\n",
       "      <td>Autauga</td>\n",
       "      <td>VIVA Medicare Plus</td>\n",
       "      <td>Local HMO</td>\n",
       "      <td>$99.00</td>\n",
       "      <td>$6,700</td>\n",
       "      <td>3.5</td>\n",
       "    </tr>\n",
       "    <tr>\n",
       "      <th>13</th>\n",
       "      <td>Alabama</td>\n",
       "      <td>Autauga</td>\n",
       "      <td>VIVA Medicare Plus</td>\n",
       "      <td>Local HMO *</td>\n",
       "      <td>$0.00</td>\n",
       "      <td>$6,700</td>\n",
       "      <td>3.5</td>\n",
       "    </tr>\n",
       "    <tr>\n",
       "      <th>14</th>\n",
       "      <td>Alabama</td>\n",
       "      <td>Baldwin</td>\n",
       "      <td>UnitedHealthcare</td>\n",
       "      <td>Local HMO</td>\n",
       "      <td>$0.00</td>\n",
       "      <td>$4,450</td>\n",
       "      <td>2.5</td>\n",
       "    </tr>\n",
       "    <tr>\n",
       "      <th>15</th>\n",
       "      <td>Alabama</td>\n",
       "      <td>Baldwin</td>\n",
       "      <td>Blue Cross and Blue Shield of Alabama</td>\n",
       "      <td>Local PPO</td>\n",
       "      <td>$0.00</td>\n",
       "      <td>$3,400</td>\n",
       "      <td>2.5</td>\n",
       "    </tr>\n",
       "    <tr>\n",
       "      <th>16</th>\n",
       "      <td>Alabama</td>\n",
       "      <td>Baldwin</td>\n",
       "      <td>Blue Cross and Blue Shield of Alabama</td>\n",
       "      <td>Local PPO</td>\n",
       "      <td>$149.00</td>\n",
       "      <td>$3,400</td>\n",
       "      <td>2.5</td>\n",
       "    </tr>\n",
       "    <tr>\n",
       "      <th>17</th>\n",
       "      <td>Alabama</td>\n",
       "      <td>Baldwin</td>\n",
       "      <td>Healthspring of Alabama, Inc.</td>\n",
       "      <td>Local HMO *</td>\n",
       "      <td>$0.00</td>\n",
       "      <td>$3,400</td>\n",
       "      <td>3</td>\n",
       "    </tr>\n",
       "    <tr>\n",
       "      <th>18</th>\n",
       "      <td>Alabama</td>\n",
       "      <td>Baldwin</td>\n",
       "      <td>Healthspring of Alabama, Inc.</td>\n",
       "      <td>Local HMO</td>\n",
       "      <td>$0.00</td>\n",
       "      <td>$3,400</td>\n",
       "      <td>3</td>\n",
       "    </tr>\n",
       "    <tr>\n",
       "      <th>19</th>\n",
       "      <td>Alabama</td>\n",
       "      <td>Baldwin</td>\n",
       "      <td>Healthspring of Alabama, Inc.</td>\n",
       "      <td>Local HMO</td>\n",
       "      <td>$38.00</td>\n",
       "      <td>$3,400</td>\n",
       "      <td>3</td>\n",
       "    </tr>\n",
       "  </tbody>\n",
       "</table>\n",
       "</div>"
      ],
      "text/plain": [
       "     ESTADO  CONDADO                           ORGANIZACION  \\\n",
       "0   Alabama  Autauga                       UnitedHealthcare   \n",
       "1   Alabama  Autauga  Blue Cross and Blue Shield of Alabama   \n",
       "2   Alabama  Autauga  Blue Cross and Blue Shield of Alabama   \n",
       "3   Alabama  Autauga          Healthspring of Alabama, Inc.   \n",
       "4   Alabama  Autauga          Healthspring of Alabama, Inc.   \n",
       "5   Alabama  Autauga          Healthspring of Alabama, Inc.   \n",
       "6   Alabama  Autauga               Humana Insurance Company   \n",
       "7   Alabama  Autauga               Humana Insurance Company   \n",
       "8   Alabama  Autauga               Humana Insurance Company   \n",
       "9   Alabama  Autauga               Humana Insurance Company   \n",
       "10  Alabama  Autauga               Humana Insurance Company   \n",
       "11  Alabama  Autauga                     VIVA Medicare Plus   \n",
       "12  Alabama  Autauga                     VIVA Medicare Plus   \n",
       "13  Alabama  Autauga                     VIVA Medicare Plus   \n",
       "14  Alabama  Baldwin                       UnitedHealthcare   \n",
       "15  Alabama  Baldwin  Blue Cross and Blue Shield of Alabama   \n",
       "16  Alabama  Baldwin  Blue Cross and Blue Shield of Alabama   \n",
       "17  Alabama  Baldwin          Healthspring of Alabama, Inc.   \n",
       "18  Alabama  Baldwin          Healthspring of Alabama, Inc.   \n",
       "19  Alabama  Baldwin          Healthspring of Alabama, Inc.   \n",
       "\n",
       "   TIPO_PLAN_GENERICO_MEDICARE PRIMA_MENSUAL_CONSOLIDADA DESEMBOLSO_MAXIMO  \\\n",
       "0                    Local HMO                    $0.00            $4,450    \n",
       "1                    Local PPO                   $99.00            $3,400    \n",
       "2                    Local PPO                  $199.00            $3,400    \n",
       "3                  Local HMO *                    $0.00            $3,400    \n",
       "4                    Local HMO                    $0.00            $3,400    \n",
       "5                    Local HMO                   $38.00            $3,400    \n",
       "6                         PFFS                   $65.00            $5,000    \n",
       "7                       PFFS *                    $0.00            $6,700    \n",
       "8                    Local PPO                   $39.00            $4,900    \n",
       "9                 Regional PPO                   $59.00            $4,900    \n",
       "10              Regional PPO *                    $0.00            $3,400    \n",
       "11                   Local HMO                    $0.00            $6,700    \n",
       "12                   Local HMO                   $99.00            $6,700    \n",
       "13                 Local HMO *                    $0.00            $6,700    \n",
       "14                   Local HMO                    $0.00            $4,450    \n",
       "15                   Local PPO                    $0.00            $3,400    \n",
       "16                   Local PPO                  $149.00            $3,400    \n",
       "17                 Local HMO *                    $0.00            $3,400    \n",
       "18                   Local HMO                    $0.00            $3,400    \n",
       "19                   Local HMO                   $38.00            $3,400    \n",
       "\n",
       "                  CLASIFICACION  \n",
       "0                           2.5  \n",
       "1                           2.5  \n",
       "2                           2.5  \n",
       "3                             3  \n",
       "4                             3  \n",
       "5                             3  \n",
       "6   Plan too new to be measured  \n",
       "7   Plan too new to be measured  \n",
       "8                           2.5  \n",
       "9                             3  \n",
       "10                            3  \n",
       "11                          3.5  \n",
       "12                          3.5  \n",
       "13                          3.5  \n",
       "14                          2.5  \n",
       "15                          2.5  \n",
       "16                          2.5  \n",
       "17                            3  \n",
       "18                            3  \n",
       "19                            3  "
      ]
     },
     "execution_count": 199,
     "metadata": {},
     "output_type": "execute_result"
    }
   ],
   "source": [
    "df_from_xlsx_total.head(20)"
   ]
  },
  {
   "cell_type": "code",
   "execution_count": 200,
   "metadata": {},
   "outputs": [
    {
     "data": {
      "text/plain": [
       "ESTADO                         object\n",
       "CONDADO                        object\n",
       "ORGANIZACION                   object\n",
       "TIPO_PLAN_GENERICO_MEDICARE    object\n",
       "PRIMA_MENSUAL_CONSOLIDADA      object\n",
       "DESEMBOLSO_MAXIMO              object\n",
       "CLASIFICACION                  object\n",
       "dtype: object"
      ]
     },
     "execution_count": 200,
     "metadata": {},
     "output_type": "execute_result"
    }
   ],
   "source": [
    "df_from_xlsx_total.dtypes"
   ]
  },
  {
   "cell_type": "code",
   "execution_count": 201,
   "metadata": {},
   "outputs": [
    {
     "data": {
      "text/plain": [
       "Index(['ESTADO', 'CONDADO', 'ORGANIZACION', 'TIPO_PLAN_GENERICO_MEDICARE',\n",
       "       'PRIMA_MENSUAL_CONSOLIDADA', 'DESEMBOLSO_MAXIMO', 'CLASIFICACION'],\n",
       "      dtype='object')"
      ]
     },
     "execution_count": 201,
     "metadata": {},
     "output_type": "execute_result"
    }
   ],
   "source": [
    "df_from_xlsx_total.columns"
   ]
  },
  {
   "cell_type": "code",
   "execution_count": 202,
   "metadata": {},
   "outputs": [
    {
     "data": {
      "text/plain": [
       "ESTADO                            0\n",
       "CONDADO                           0\n",
       "ORGANIZACION                      0\n",
       "TIPO_PLAN_GENERICO_MEDICARE      32\n",
       "PRIMA_MENSUAL_CONSOLIDADA      2511\n",
       "DESEMBOLSO_MAXIMO              3389\n",
       "CLASIFICACION                    32\n",
       "dtype: int64"
      ]
     },
     "execution_count": 202,
     "metadata": {},
     "output_type": "execute_result"
    }
   ],
   "source": [
    "# Check NULL values\n",
    "df_from_xlsx_total.isnull().sum()"
   ]
  },
  {
   "cell_type": "code",
   "execution_count": 203,
   "metadata": {},
   "outputs": [],
   "source": [
    "df_from_xlsx_total.fillna(\"NO_ASIGNADO\", inplace=True) "
   ]
  },
  {
   "cell_type": "code",
   "execution_count": 204,
   "metadata": {},
   "outputs": [
    {
     "data": {
      "text/plain": [
       "ESTADO                         0\n",
       "CONDADO                        0\n",
       "ORGANIZACION                   0\n",
       "TIPO_PLAN_GENERICO_MEDICARE    0\n",
       "PRIMA_MENSUAL_CONSOLIDADA      0\n",
       "DESEMBOLSO_MAXIMO              0\n",
       "CLASIFICACION                  0\n",
       "dtype: int64"
      ]
     },
     "execution_count": 204,
     "metadata": {},
     "output_type": "execute_result"
    }
   ],
   "source": [
    "# Check NULL values\n",
    "df_from_xlsx_total.isnull().sum()"
   ]
  },
  {
   "cell_type": "code",
   "execution_count": 205,
   "metadata": {},
   "outputs": [
    {
     "data": {
      "text/plain": [
       "ESTADO                         306183\n",
       "CONDADO                        306183\n",
       "ORGANIZACION                   306183\n",
       "TIPO_PLAN_GENERICO_MEDICARE    306183\n",
       "PRIMA_MENSUAL_CONSOLIDADA      306183\n",
       "DESEMBOLSO_MAXIMO              306183\n",
       "CLASIFICACION                  306183\n",
       "dtype: int64"
      ]
     },
     "execution_count": 205,
     "metadata": {},
     "output_type": "execute_result"
    }
   ],
   "source": [
    "df_from_xlsx_total.count()"
   ]
  },
  {
   "cell_type": "code",
   "execution_count": 206,
   "metadata": {},
   "outputs": [],
   "source": [
    "############"
   ]
  },
  {
   "cell_type": "code",
   "execution_count": 207,
   "metadata": {},
   "outputs": [],
   "source": [
    "#df_from_xlsx_total[df_from_xlsx_total['GENERIC_TYPE'] == 'NO_ASIGNADO'].index"
   ]
  },
  {
   "cell_type": "code",
   "execution_count": 208,
   "metadata": {},
   "outputs": [],
   "source": [
    "#df_from_xlsx_total[\"GENERIC_TYPE\"].unique()"
   ]
  },
  {
   "cell_type": "code",
   "execution_count": 209,
   "metadata": {},
   "outputs": [],
   "source": [
    "df_from_xlsx_total[\"TIPO_PLAN_GENERICO_MEDICARE\"] = df_from_xlsx_total[\"TIPO_PLAN_GENERICO_MEDICARE\"].replace({\"Local HMO\":\"HMO\"}, regex=True)\\\n",
    ".replace({\"Local HMO \\\\*\":\"HMO\"}, regex=True).replace({\"Local PPO\":\"PPO\"}, regex=True)\\\n",
    ".replace({\"PFFS \\\\*\":\"PFFS\"}, regex=True).replace({\"Regional PPO\":\"PPO\"}, regex=True)\\\n",
    ".replace({\"Regional PPO \\\\*\":\"PPO\"}, regex=True).replace({\"Cost \\\\*\":\"Cost\"}, regex=True)\\\n",
    ".replace({\"MSA \\\\*\":\"MSA\"}, regex=True).replace({\"HMO \\\\*\":\"HMO\"}, regex=True)\\\n",
    ".replace({\"PFFS\\\\*\":\"PFFS\"}, regex=True).replace({\"PPO\\\\*\":\"PPO\"}, regex=True)\\\n",
    ".replace({\"PPO \\\\*\":\"PPO\"}, regex=True).replace({\"Cost\\\\*\":\"Cost\"}, regex=True)\\\n",
    ".replace({\"MSA\\\\*\":\"MSA\"}, regex=True).replace({\"HMO\\\\*\":\"HMO\"}, regex=True)"
   ]
  },
  {
   "cell_type": "code",
   "execution_count": 210,
   "metadata": {},
   "outputs": [
    {
     "data": {
      "text/plain": [
       "ESTADO                         0\n",
       "CONDADO                        0\n",
       "ORGANIZACION                   0\n",
       "TIPO_PLAN_GENERICO_MEDICARE    0\n",
       "PRIMA_MENSUAL_CONSOLIDADA      0\n",
       "DESEMBOLSO_MAXIMO              0\n",
       "CLASIFICACION                  0\n",
       "dtype: int64"
      ]
     },
     "execution_count": 210,
     "metadata": {},
     "output_type": "execute_result"
    }
   ],
   "source": [
    "# Check NULL values\n",
    "df_from_xlsx_total.isnull().sum()"
   ]
  },
  {
   "cell_type": "code",
   "execution_count": 211,
   "metadata": {},
   "outputs": [
    {
     "data": {
      "text/plain": [
       "array(['HMO', 'PPO', 'PFFS', 'Cost', 'MSA', 'NO_ASIGNADO'], dtype=object)"
      ]
     },
     "execution_count": 211,
     "metadata": {},
     "output_type": "execute_result"
    }
   ],
   "source": [
    "df_from_xlsx_total[\"TIPO_PLAN_GENERICO_MEDICARE\"].unique()"
   ]
  },
  {
   "cell_type": "code",
   "execution_count": 212,
   "metadata": {},
   "outputs": [
    {
     "data": {
      "text/plain": [
       "ESTADO                         306183\n",
       "CONDADO                        306183\n",
       "ORGANIZACION                   306183\n",
       "TIPO_PLAN_GENERICO_MEDICARE    306183\n",
       "PRIMA_MENSUAL_CONSOLIDADA      306183\n",
       "DESEMBOLSO_MAXIMO              306183\n",
       "CLASIFICACION                  306183\n",
       "dtype: int64"
      ]
     },
     "execution_count": 212,
     "metadata": {},
     "output_type": "execute_result"
    }
   ],
   "source": [
    "df_from_xlsx_total.count()"
   ]
  },
  {
   "cell_type": "code",
   "execution_count": 213,
   "metadata": {},
   "outputs": [
    {
     "data": {
      "text/plain": [
       "ESTADO                         0\n",
       "CONDADO                        0\n",
       "ORGANIZACION                   0\n",
       "TIPO_PLAN_GENERICO_MEDICARE    0\n",
       "PRIMA_MENSUAL_CONSOLIDADA      0\n",
       "DESEMBOLSO_MAXIMO              0\n",
       "CLASIFICACION                  0\n",
       "dtype: int64"
      ]
     },
     "execution_count": 213,
     "metadata": {},
     "output_type": "execute_result"
    }
   ],
   "source": [
    "# Check NULL values\n",
    "df_from_xlsx_total.isnull().sum()"
   ]
  },
  {
   "cell_type": "code",
   "execution_count": 214,
   "metadata": {},
   "outputs": [
    {
     "data": {
      "text/html": [
       "<div>\n",
       "<style scoped>\n",
       "    .dataframe tbody tr th:only-of-type {\n",
       "        vertical-align: middle;\n",
       "    }\n",
       "\n",
       "    .dataframe tbody tr th {\n",
       "        vertical-align: top;\n",
       "    }\n",
       "\n",
       "    .dataframe thead th {\n",
       "        text-align: right;\n",
       "    }\n",
       "</style>\n",
       "<table border=\"1\" class=\"dataframe\">\n",
       "  <thead>\n",
       "    <tr style=\"text-align: right;\">\n",
       "      <th></th>\n",
       "      <th>ESTADO</th>\n",
       "      <th>CONDADO</th>\n",
       "      <th>ORGANIZACION</th>\n",
       "      <th>TIPO_PLAN_GENERICO_MEDICARE</th>\n",
       "      <th>PRIMA_MENSUAL_CONSOLIDADA</th>\n",
       "      <th>DESEMBOLSO_MAXIMO</th>\n",
       "      <th>CLASIFICACION</th>\n",
       "    </tr>\n",
       "  </thead>\n",
       "  <tbody>\n",
       "    <tr>\n",
       "      <th>0</th>\n",
       "      <td>Alabama</td>\n",
       "      <td>Autauga</td>\n",
       "      <td>UnitedHealthcare</td>\n",
       "      <td>HMO</td>\n",
       "      <td>$0.00</td>\n",
       "      <td>$4,450</td>\n",
       "      <td>2.5</td>\n",
       "    </tr>\n",
       "  </tbody>\n",
       "</table>\n",
       "</div>"
      ],
      "text/plain": [
       "    ESTADO  CONDADO      ORGANIZACION TIPO_PLAN_GENERICO_MEDICARE  \\\n",
       "0  Alabama  Autauga  UnitedHealthcare                         HMO   \n",
       "\n",
       "  PRIMA_MENSUAL_CONSOLIDADA DESEMBOLSO_MAXIMO CLASIFICACION  \n",
       "0                    $0.00            $4,450            2.5  "
      ]
     },
     "metadata": {},
     "output_type": "display_data"
    }
   ],
   "source": [
    "# Dont limit column display\n",
    "import pandas as pd\n",
    "from IPython.display import display\n",
    "\n",
    "pd.options.display.max_columns = None\n",
    "display(df_from_xlsx_total.head(1))"
   ]
  },
  {
   "cell_type": "code",
   "execution_count": 215,
   "metadata": {},
   "outputs": [
    {
     "data": {
      "text/plain": [
       "array(['2.5', 3, 'Plan too new to be measured', '3.5', 4, '4.5',\n",
       "       'Not enough data to calculate overall rating', 5,\n",
       "       'Not enough data to calculate summary rating', 2,\n",
       "       'Not enough data to calculate summary score', '3 Stars',\n",
       "       '2.5 Stars', '3.5 Stars', '4 Stars', '4.5 Stars', '2 Stars',\n",
       "       'Plan too new to be measured ', 'Not enough data available ',\n",
       "       '5 Stars', '3 stars', '3.5 stars', '4 stars', '2.5 stars',\n",
       "       '4.5 stars', '5 stars', 'NO_ASIGNADO', '2 stars',\n",
       "       'Not enough data available', 'Not Applicable'], dtype=object)"
      ]
     },
     "execution_count": 215,
     "metadata": {},
     "output_type": "execute_result"
    }
   ],
   "source": [
    "df_from_xlsx_total[\"CLASIFICACION\"].unique()"
   ]
  },
  {
   "cell_type": "code",
   "execution_count": 216,
   "metadata": {},
   "outputs": [
    {
     "data": {
      "text/plain": [
       "array(['$0.00 ', '$99.00 ', '$199.00 ', ..., ' $168.00 ', ' $121.60 ',\n",
       "       ' $31.90 '], dtype=object)"
      ]
     },
     "execution_count": 216,
     "metadata": {},
     "output_type": "execute_result"
    }
   ],
   "source": [
    "df_from_xlsx_total[\"PRIMA_MENSUAL_CONSOLIDADA\"].unique()"
   ]
  },
  {
   "cell_type": "code",
   "execution_count": 217,
   "metadata": {},
   "outputs": [
    {
     "data": {
      "text/plain": [
       "array(['$4,450 ', '$3,400 ', '$5,000 ', '$6,700 ', '$4,900 ', '$3,900 ',\n",
       "       '$2,800 ', '$5,900 ', '$3,250 ', '$6,200 ', '$5,300 ', '$6,000 ',\n",
       "       '$4,500 ', '$5,400 ', '$3,950 ', '$5,500 ', '$4,000 ', '$5,750 ',\n",
       "       '$4,750 ', '$4,800 ', '$2,900 ', '$4,950 ', '$4,400 ', '$3,350 ',\n",
       "       '$2,400 ', '$1,000 ', '$3,000 ', '$2,000 ', '$6,300 ',\n",
       "       'NO_ASIGNADO', '$6,500 ', '$2,350 ', '$4,300 ', '$2,850 ',\n",
       "       '$5,200 ', '$5,600 ', '$3,800 ', '$4,200 ', '$6,400 ', '$4,600 ',\n",
       "       '$500 ', '$2,500 ', '$3,200 ', '$3,300 ', '$4,375 ', '$4,250 ',\n",
       "       '$3,750 ', '$3,600 ', '$3,500 ', '$1,500 ', '$3,315 ', '$2,675 ',\n",
       "       '$2,700 ', '$2,250 ', '$1,975 ', '$4,700 ', '$4,100 ', '$5,250 ',\n",
       "       '$3,975 ', '$3,100 ', '$5,950 ', '$3,125 ', '$2,660 ', '$2,950 ',\n",
       "       '$5,100 ', '$1,700 ', '$3,650 ', '$6,475 ', '$1,750 ', '$3,700 ',\n",
       "       '$1,300 ', '$2,550 ', '$4,325 ', '$6,550 ', '$2,750 ', '$1,800 ',\n",
       "       '$4,650 ', '$3,150 ', '$2,300 ', '$1,400 ', '$5,700 ', '$900 ',\n",
       "       '$0 ', ' $3,400 ', ' $2,950 ', ' $4,450 ', ' $5,000 ', ' $5,300 ',\n",
       "       ' $6,700 ', ' $4,500 ', ' N/A ', ' $4,900 ', ' $5,900 ',\n",
       "       ' $4,400 ', ' $5,500 ', ' $6,000 ', ' $6,500 ', ' $4,200 ',\n",
       "       ' $3,800 ', ' $4,750 ', ' $4,000 ', ' $3,950 ', ' $4,800 ',\n",
       "       ' $4,950 ', ' $3,250 ', ' $3,350 ', ' $1,000 ', ' $3,000 ',\n",
       "       ' $5,400 ', ' $2,000 ', ' $6,300 ', ' $2,900 ', ' $4,700 ',\n",
       "       ' $3,700 ', ' $3,900 ', ' $2,350 ', ' $5,700 ', ' $5,600 ',\n",
       "       ' $5,200 ', ' $2,450 ', ' $3,500 ', ' $4,300 ', ' $3,600 ',\n",
       "       ' $4,600 ', ' $3,200 ', ' $2,500 ', ' $500 ', ' $6,200 ',\n",
       "       ' $5,100 ', ' $4,250 ', ' $3,750 ', ' $1,500 ', ' $2,675 ',\n",
       "       ' $2,225 ', ' $4,100 ', ' $2,250 ', ' $1,975 ', ' $2,600 ',\n",
       "       ' $3,300 ', ' $3,975 ', ' $5,250 ', ' $6,400 ', ' $2,800 ',\n",
       "       ' $4,475 ', ' $2,200 ', ' $1,700 ', ' $5,950 ', ' $1,300 ',\n",
       "       ' $2,750 ', ' $4,325 ', ' $2,300 ', ' $3,100 ', ' $1,400 ',\n",
       "       ' $5,750 ', '  ', ' $6,650 ', ' $4,650 ', ' $3,401 ', ' $-   ',\n",
       "       ' $2,400 ', ' $2,700 ', ' $6,600 ', ' $5,050 ', ' $6,100 ',\n",
       "       ' $1,200 ', ' $1,950 ', ' $5,275 ', ' $4,725 ', ' $3,650 ',\n",
       "       ' $2,430 ', ' $3,050 ', ' $6,350 ', ' $2,100 ', ' $6,050 ',\n",
       "       ' $200 ', ' $5,800 ', ' $3,850 ', ' $2,960 ', ' $5,150 ',\n",
       "       ' $1,900 ', ' $5,550 ', ' $2,375 ', ' $2,175 ', ' $4,850 ',\n",
       "       ' $225 ', ' $750 ', ' $6,450 ', ' $50 ', ' $5,650 ', 5000.0,\n",
       "       3400.0, 6700.0, 5900.0, 5400.0, 6300.0, 3900.0, 5500.0, 3800.0,\n",
       "       4900.0, 4500.0, 3200.0, 4000.0, 3950.0, 3000.0, 6000.0, 3750.0,\n",
       "       3500.0, 4100.0, 3050.0, 2800.0, 5800.0, 5200.0, 5700.0, 4400.0,\n",
       "       3100.0, 4600.0, 1500.0, 1900.0, 2000.0, 2400.0, 1499.0, 2200.0,\n",
       "       0.0, 1950.0, 2900.0, 2950.0, 2500.0, 5300.0, 4300.0, 3300.0,\n",
       "       6200.0, 3700.0, 6100.0, 6500.0, 4950.0, 6650.0, 4700.0, 3600.0,\n",
       "       5600.0, 3350.0, 5650.0, 5750.0, 5250.0, 4650.0, 2430.0, 4250.0,\n",
       "       2300.0, 4800.0, 4200.0, 6400.0, 4850.0, 4750.0, 5675.0, 5950.0,\n",
       "       5550.0, 6350.0, 6600.0, 6590.0, 5100.0, 3400.01, 3250.0, 2250.0,\n",
       "       2600.0, 1200.0, 400.0, ' $999 ', ' $1,250 ', ' $1,499 ',\n",
       "       ' $1,899 ', ' $2,799 ', ' $1,800 ', ' $3,399 ', ' $3,450 ',\n",
       "       ' $5,675 ', ' $6,590 ', ' $400 '], dtype=object)"
      ]
     },
     "execution_count": 217,
     "metadata": {},
     "output_type": "execute_result"
    }
   ],
   "source": [
    "df_from_xlsx_total[\"DESEMBOLSO_MAXIMO\"].unique()"
   ]
  },
  {
   "cell_type": "code",
   "execution_count": 218,
   "metadata": {},
   "outputs": [],
   "source": [
    "# Strip leading and trailing space only strings\n",
    "df_from_xlsx_total['PRIMA_MENSUAL_CONSOLIDADA'] = df_from_xlsx_total['PRIMA_MENSUAL_CONSOLIDADA'].str.strip()\n",
    "#df_from_xlsx_total['PRIMA_MENSUAL_CONSOLIDADA'].unique()"
   ]
  },
  {
   "cell_type": "code",
   "execution_count": 219,
   "metadata": {},
   "outputs": [],
   "source": [
    "# Strip leading and trailing space only strings\n",
    "df_from_xlsx_total['DESEMBOLSO_MAXIMO'] = df_from_xlsx_total['DESEMBOLSO_MAXIMO'].str.strip()\n",
    "#df_from_xlsx_total['DESEMBOLSO_MAXIMO'].unique()"
   ]
  },
  {
   "cell_type": "code",
   "execution_count": 220,
   "metadata": {},
   "outputs": [],
   "source": [
    "df_from_xlsx_total[\"PRIMA_MENSUAL_CONSOLIDADA\"] = df_from_xlsx_total[\"PRIMA_MENSUAL_CONSOLIDADA\"].replace({\"\\\\$\":\"\"}, regex=True)\n",
    "df_from_xlsx_total[\"DESEMBOLSO_MAXIMO\"] = df_from_xlsx_total[\"DESEMBOLSO_MAXIMO\"].replace({\"\\\\$\":\"\"}, regex=True)"
   ]
  },
  {
   "cell_type": "code",
   "execution_count": 221,
   "metadata": {},
   "outputs": [],
   "source": [
    "# Strip leading and trailing space only strings\n",
    "df_from_xlsx_total['PRIMA_MENSUAL_CONSOLIDADA'] = df_from_xlsx_total['PRIMA_MENSUAL_CONSOLIDADA'].str.strip()\n",
    "#df_from_xlsx_total['PRIMA_MENSUAL_CONSOLIDADA'].unique()"
   ]
  },
  {
   "cell_type": "code",
   "execution_count": 222,
   "metadata": {},
   "outputs": [],
   "source": [
    "# Strip leading and trailing space only strings\n",
    "df_from_xlsx_total['DESEMBOLSO_MAXIMO'] = df_from_xlsx_total['DESEMBOLSO_MAXIMO'].str.strip()\n",
    "#df_from_xlsx_total['DESEMBOLSO_MAXIMO'].unique()"
   ]
  },
  {
   "cell_type": "code",
   "execution_count": 223,
   "metadata": {},
   "outputs": [],
   "source": [
    "df_from_xlsx_total[\"ESTADO\"] = df_from_xlsx_total[\"ESTADO\"].astype(np.str)\n",
    "df_from_xlsx_total[\"CONDADO\"] = df_from_xlsx_total[\"CONDADO\"].astype(np.str)\n",
    "df_from_xlsx_total[\"ORGANIZACION\"] = df_from_xlsx_total[\"ORGANIZACION\"].astype(np.str)\n",
    "df_from_xlsx_total[\"TIPO_PLAN_GENERICO_MEDICARE\"] = df_from_xlsx_total[\"TIPO_PLAN_GENERICO_MEDICARE\"].astype(np.str)\n",
    "df_from_xlsx_total[\"PRIMA_MENSUAL_CONSOLIDADA\"] = df_from_xlsx_total[\"PRIMA_MENSUAL_CONSOLIDADA\"].astype(np.str)\n",
    "df_from_xlsx_total[\"DESEMBOLSO_MAXIMO\"] = df_from_xlsx_total[\"DESEMBOLSO_MAXIMO\"].astype(np.str)\n",
    "df_from_xlsx_total[\"CLASIFICACION\"] = df_from_xlsx_total[\"CLASIFICACION\"].astype(np.str)"
   ]
  },
  {
   "cell_type": "code",
   "execution_count": 224,
   "metadata": {},
   "outputs": [
    {
     "data": {
      "text/plain": [
       "array(['2.5', '3', 'Plan too new to be measured', '3.5', '4', '4.5',\n",
       "       'Not enough data to calculate overall rating', '5',\n",
       "       'Not enough data to calculate summary rating', '2',\n",
       "       'Not enough data to calculate summary score', '3 Stars',\n",
       "       '2.5 Stars', '3.5 Stars', '4 Stars', '4.5 Stars', '2 Stars',\n",
       "       'Plan too new to be measured ', 'Not enough data available ',\n",
       "       '5 Stars', '3 stars', '3.5 stars', '4 stars', '2.5 stars',\n",
       "       '4.5 stars', '5 stars', 'NO_ASIGNADO', '2 stars',\n",
       "       'Not enough data available', 'Not Applicable'], dtype=object)"
      ]
     },
     "execution_count": 224,
     "metadata": {},
     "output_type": "execute_result"
    }
   ],
   "source": [
    "df_from_xlsx_total[\"CLASIFICACION\"].unique()"
   ]
  },
  {
   "cell_type": "code",
   "execution_count": 225,
   "metadata": {},
   "outputs": [
    {
     "data": {
      "text/plain": [
       "ESTADO                         0\n",
       "CONDADO                        0\n",
       "ORGANIZACION                   0\n",
       "TIPO_PLAN_GENERICO_MEDICARE    0\n",
       "PRIMA_MENSUAL_CONSOLIDADA      0\n",
       "DESEMBOLSO_MAXIMO              0\n",
       "CLASIFICACION                  0\n",
       "dtype: int64"
      ]
     },
     "execution_count": 225,
     "metadata": {},
     "output_type": "execute_result"
    }
   ],
   "source": [
    "# Check NULL values\n",
    "df_from_xlsx_total.isnull().sum()"
   ]
  },
  {
   "cell_type": "code",
   "execution_count": 226,
   "metadata": {},
   "outputs": [],
   "source": [
    "#############"
   ]
  },
  {
   "cell_type": "code",
   "execution_count": 227,
   "metadata": {},
   "outputs": [
    {
     "data": {
      "text/plain": [
       "array(['2.5', '3', 'Plan too new to be measured', '3.5', '4', '4.5',\n",
       "       'Not enough data to calculate overall rating', '5',\n",
       "       'Not enough data to calculate summary rating', '2',\n",
       "       'Not enough data to calculate summary score', '3 Stars',\n",
       "       '2.5 Stars', '3.5 Stars', '4 Stars', '4.5 Stars', '2 Stars',\n",
       "       'Plan too new to be measured ', 'Not enough data available ',\n",
       "       '5 Stars', '3 stars', '3.5 stars', '4 stars', '2.5 stars',\n",
       "       '4.5 stars', '5 stars', 'NO_ASIGNADO', '2 stars',\n",
       "       'Not enough data available', 'Not Applicable'], dtype=object)"
      ]
     },
     "execution_count": 227,
     "metadata": {},
     "output_type": "execute_result"
    }
   ],
   "source": [
    "df_from_xlsx_total[\"CLASIFICACION\"].unique()"
   ]
  },
  {
   "cell_type": "code",
   "execution_count": 228,
   "metadata": {},
   "outputs": [],
   "source": [
    "df_from_xlsx_total[\"CLASIFICACION\"] = df_from_xlsx_total[\"CLASIFICACION\"].replace({\"2 Stars\":\"2\"}, regex=True)\\\n",
    ".replace({\"2 stars\":\"2\"}, regex=True).replace({\"2.5 Stars\":\"2.5\"}, regex=True)\\\n",
    ".replace({\"2.5 stars\":\"2.5\"}, regex=True).replace({\"3 Stars\":\"3\"}, regex=True)\\\n",
    ".replace({\"3 stars\":\"3\"}, regex=True).replace({\"3.5 Stars\":\"3.5\"}, regex=True)\\\n",
    ".replace({\"3.5 stars\":\"3.5\"}, regex=True).replace({\"4 Stars\":\"4\"}, regex=True)\\\n",
    ".replace({\"4 stars\":\"4\"}, regex=True).replace({\"4.5 Stars\":\"4.5\"}, regex=True)\\\n",
    ".replace({\"4.5 stars\":\"4.5\"}, regex=True).replace({\"5 Stars\":\"5\"}, regex=True)\\\n",
    ".replace({\"5 stars\":\"5\"}, regex=True)"
   ]
  },
  {
   "cell_type": "code",
   "execution_count": 229,
   "metadata": {},
   "outputs": [
    {
     "data": {
      "text/plain": [
       "ESTADO                         0\n",
       "CONDADO                        0\n",
       "ORGANIZACION                   0\n",
       "TIPO_PLAN_GENERICO_MEDICARE    0\n",
       "PRIMA_MENSUAL_CONSOLIDADA      0\n",
       "DESEMBOLSO_MAXIMO              0\n",
       "CLASIFICACION                  0\n",
       "dtype: int64"
      ]
     },
     "execution_count": 229,
     "metadata": {},
     "output_type": "execute_result"
    }
   ],
   "source": [
    "# Check NULL values\n",
    "df_from_xlsx_total.isnull().sum()"
   ]
  },
  {
   "cell_type": "code",
   "execution_count": 230,
   "metadata": {},
   "outputs": [],
   "source": [
    "# Strip leading and trailing space only strings\n",
    "df_from_xlsx_total['PRIMA_MENSUAL_CONSOLIDADA'] = df_from_xlsx_total['PRIMA_MENSUAL_CONSOLIDADA'].str.strip()\n",
    "#df_from_xlsx_total['PRIMA_MENSUAL_CONSOLIDADA'].unique()"
   ]
  },
  {
   "cell_type": "code",
   "execution_count": 231,
   "metadata": {},
   "outputs": [],
   "source": [
    "# Strip leading and trailing space only strings\n",
    "df_from_xlsx_total['DESEMBOLSO_MAXIMO'] = df_from_xlsx_total['DESEMBOLSO_MAXIMO'].str.strip()\n",
    "#df_from_xlsx_total['DESEMBOLSO_MAXIMO'].unique()"
   ]
  },
  {
   "cell_type": "code",
   "execution_count": 232,
   "metadata": {},
   "outputs": [
    {
     "data": {
      "text/plain": [
       "array(['0.00', '99.00', '199.00', '38.00', '65.00', '39.00', '59.00',\n",
       "       '149.00', '35.00', '119.00', '51.00', '135.00', '25.00', '189.00',\n",
       "       '28.00', '29.00', '279.00', '37.00', '139.00', '97.00', '129.00',\n",
       "       '95.00', '60.00', '82.00', '174.00', '86.00', '110.00', '75.00',\n",
       "       '165.00', '108.00', '98.00', '41.00', '79.00', '128.00', '14.00',\n",
       "       '45.00', '20.00', '49.00', '54.00', '27.20', '75.10', '105.00',\n",
       "       '160.00', '55.20', '37.60', '66.00', '72.00', '27.00', '69.00',\n",
       "       '70.00', '40.00', '50.00', '112.00', '125.00', '90.00', '159.00',\n",
       "       '102.00', '121.00', '122.00', '131.00', '89.00', '76.00', '30.00',\n",
       "       '84.00', '81.00', '30.90', '114.00', '56.00', '79.60', '23.60',\n",
       "       '106.00', '192.00', '62.00', '19.00', '133.00', '78.00', '63.00',\n",
       "       '109.00', '5.00', '32.40', '68.00', '61.00', '177.00', '48.00',\n",
       "       '8.00', '48.10', '156.80', '246.20', '135.50', '34.00', '74.20',\n",
       "       '55.00', '73.40', '120.80', '42.90', '99.10', '28.50', '42.00',\n",
       "       '94.00', '87.00', '179.00', '150.00', '80.00', '35.60', '23.80',\n",
       "       '96.00', '49.50', '45.50', '85.00', '15.00', '29.60', '26.00',\n",
       "       '31.00', '147.00', '120.00', '187.00', '121.30', '132.90', '30.40',\n",
       "       '17.00', '10.00', '33.00', '173.00', '116.00', '44.00', '154.00',\n",
       "       '67.00', '13.00', '53.00', '100.00', '144.00', '88.00', '32.80',\n",
       "       '30.20', '47.00', '46.00', '73.00', '43.00', '71.00', '151.00',\n",
       "       '64.00', '122.70', '63.90', '169.00', '36.00', '205.00', '18.00',\n",
       "       '22.00', '21.00', '84.40', '139.60', '22.60', '161.00', '19.70',\n",
       "       '19.30', '19.90', '101.00', '152.00', '148.00', '181.00', '134.00',\n",
       "       '27.90', '139.90', '170.40', '99.90', '129.90', '160.40', '47.90',\n",
       "       '126.00', '153.90', '184.40', '93.00', '120.90', '198.00',\n",
       "       '138.00', '4.00', '92.00', '6.00', '81.90', '112.40', '24.00',\n",
       "       '51.90', '109.90', '140.40', '52.00', '79.90', '231.00', '213.00',\n",
       "       '57.00', '83.00', '238.00', '163.00', '226.00', '172.00', '118.00',\n",
       "       '246.00', '142.00', '204.00', '143.00', '212.00', '94.70',\n",
       "       '132.00', '152.80', '158.00', '77.00', '16.00', '103.00', '200.00',\n",
       "       '222.00', '102.80', '347.00', '162.90', '60.20', '105.50',\n",
       "       '122.60', '181.20', '155.50', '172.60', '231.20', '55.50', '85.50',\n",
       "       '102.60', '161.20', '137.00', '262.70', '347.10', '32.50', '26.10',\n",
       "       '12.70', '22.80', '19.80', '127.00', '171.00', '185.00', '140.00',\n",
       "       '56.80', '114.90', '149.50', '84.70', '184.70', '242.10', '156.00',\n",
       "       '55.30', '107.00', '15.30', 'NO_ASIGNADO', '240.00', '145.00',\n",
       "       '39.80', '138.40', '46.20', '14.60', '72.10', '111.00', '39.70',\n",
       "       '51.30', '35.40', '37.50', '155.00', '146.00', '122.30', '104.40',\n",
       "       '254.90', '102.50', '85.60', '74.00', '180.00', '211.00', '123.00',\n",
       "       '271.00', '16.40', '47.20', '58.00', '23.00', '278.00', '91.00',\n",
       "       '117.00', '130.00', '375.90', '111.40', '32.00', '157.00', '31.30',\n",
       "       '40.60', '128.30', '36.40', '186.00', '135.20', '199.20', '80.50',\n",
       "       '164.00', '167.00', '162.70', '42.10', '228.00', '69.50', '196.50',\n",
       "       '81.50', '166.00', '191.00', '107.40', '114.40', '155.30',\n",
       "       '245.00', '287.30', '184.80', '226.20', '57.10', '153.00', '30.70',\n",
       "       '27.10', '241.10', '178.60', '124.00', '180.10', '117.60',\n",
       "       '260.10', '197.60', '133.10', '70.60', '162.00', '218.10',\n",
       "       '155.60', '26.60', '215.00', '33.60', '115.00', '225.00', '254.00',\n",
       "       '236.00', '258.50', '203.00', '193.00', '283.00', '48.50',\n",
       "       '142.10', '175.00', '42.30', '46.90', '48.20', '40.10', '29.90',\n",
       "       '29.80', '27.50', '182.00', '94.30', '61.50', '249.80', '139.20',\n",
       "       '3.00', '74.30', '31.90', '120.60', '103.50', '18.70', '176.00',\n",
       "       '136.00', '39.50', '24.90', '24.70', '54.60', '77.50', '121.40',\n",
       "       '138.10', '65.50', '188.00', '202.00', '25.30', '21.50', '142.20',\n",
       "       '26.40', '24.50', '37.30', '183.00', '136.10', '66.10', '172.90',\n",
       "       '140.10', '110.10', '24.80', '178.00', '196.90', '164.10',\n",
       "       '131.10', '44.80', '77.10', '47.10', '11.00', '172.10', '139.10',\n",
       "       '12.50', '194.00', '55.60', '218.00', '113.00', '244.00', '183.90',\n",
       "       '189.80', '243.80', '51.70', '95.70', '149.70', '77.70', '111.90',\n",
       "       '171.80', '109.60', '177.20', '342.80', '66.90', '206.70', '24.10',\n",
       "       'nan', '-', '64.40', '79.40', '44.50', '28.10', '26.30', '16.20',\n",
       "       '170.00', '25.40', '232.00', '261.30', '152.50', '80.90', '69.40',\n",
       "       '26.90', '302.00', '127.70', '112.90', '16.10', '208.00', '22.10',\n",
       "       '201.00', '23.50', '42.50', '25.10', '154.30', '17.50', '31.70',\n",
       "       '9.00', '104.00', '185.70', '151.90', '117.90', '35.90', '209.70',\n",
       "       '175.90', '138.90', '55.90', '107.70', '73.90', '43.90', '181.10',\n",
       "       '123.50', '132.50', '241.00', '268.00', '92.50', '101.50',\n",
       "       '216.00', '134.50', '68.50', '146.50', '138.50', '99.50', '165.50',\n",
       "       '51.50', '118.50', '272.00', '93.60', '141.50', '191.50', '60.70',\n",
       "       '100.70', '150.70', '125.50', '117.80', '187.70', '343.30',\n",
       "       '262.00', '150.50', '34.90', '19.50', '29.50', '12.00', '153.70',\n",
       "       '58.20', '197.00', '219.30', '37.20', '256.00', '18.40', '59.50',\n",
       "       '161.50', '22.90', '159.50', '222.50', '147.10', '313.50', '18.90',\n",
       "       '111.10', '145.90', '2.10', '33.50', '34.80', '148.70', '210.00',\n",
       "       '219.00', '224.00', '253.00', '141.00', '125.40', '182.60',\n",
       "       '98.50', '252.00', '47.50', '75.50', '76.30', '34.50', '291.00',\n",
       "       '38.50', '196.00', '27.60', '235.70', '135.60', '48.60', '268.50',\n",
       "       '168.40', '230.70', '130.70', '43.70', '195.60', '228.40',\n",
       "       '190.70', '215.60', '248.40', '210.70', '54.50', '78.50', '223.10',\n",
       "       '189.60', '328.00', '207.00', '294.00', '260.00', '320.00',\n",
       "       '242.00', '234.00', '227.00', '68.90', '52.50', '19.10', '296.00',\n",
       "       '28.80', '26.80', '229.00', '168.00', '280.70', '89.40', '28.90',\n",
       "       '300.00', '137.50', '126.10', '24.60', '29.70', '127.10', '36.10',\n",
       "       '17.90', '25.80', '195.00', '34.30', '14.40', '16.30', '176.40',\n",
       "       '64.20', '26.50', '57.90', '82.90', '122.40', '23.30', '188.20',\n",
       "       '154.40', '120.30', '212.20', '178.40', '141.30', '110.20',\n",
       "       '76.40', '46.30', '183.50', '144.60', '65.60', '257.00', '15.50',\n",
       "       '7.00', '148.30', '198.30', '65.80', '88.80', '134.30', '48.40',\n",
       "       '155.90', '118.80', '172.50', '52.40', '50.50', '109.10', '295.00',\n",
       "       '57.20', '228.50', '36.90', '95.50', '22.40', '194.50', '276.50',\n",
       "       '34.10', '49.70', '47.40', '167.40', '103.60', '101.10', '233.00',\n",
       "       '32.90', '99.60', '136.50', '323.00', '57.40', '63.50', '38.40',\n",
       "       '82.80', '2.00', '57.80', '37.10', '33.80', '134.90', '264.00',\n",
       "       '223.00', '319.00', '184.00', '280.00', '237.00', '140.50',\n",
       "       '190.00', '263.00', '251.00', '206.00', '29.20', '235.50',\n",
       "       '145.50', '58.50', '271.90', '181.90', '94.90', '229.70', '139.70',\n",
       "       '52.70', '205.50', '241.90', '199.70', '221.00', '34.40', '46.80',\n",
       "       '12.10', '229.80', '20.90', '89.90', '23.40', '31.10', '27.40',\n",
       "       '28.60', '90.50', '85.10', '284.50', '99.30', '146.60', '147.80',\n",
       "       '39.90', '14.50', '131.50', '84.60', '142.40', '108.70', '302.50',\n",
       "       '139.40', '161.40', '27.70', '187.60', '73.20', '32.10', '22.70',\n",
       "       '38.80', '180.50', '25.50', '265.00', '20.50', '220.00', '103.40',\n",
       "       '164.50', '38.90', '93.10', '134.20', '354.10', '212.50', '63.30',\n",
       "       '108.60', '157.70', '196.40', '85.80', '100.40', '149.30',\n",
       "       '187.10', '72.50', '36.50', '15.60', '179.10', '71.70', '52.10',\n",
       "       '92.60', '46.10', '166.60', '113.50', '23.10', '98.70', '166.70',\n",
       "       '31.50', '96.40', '290.00', '184.30', '117.30', '167.50', '214.00',\n",
       "       '306.00', '388.00', '76.90', '71.50', '64.70', '49.10', '44.10',\n",
       "       '34.20', '279.50', '174.50', '193.50', '269.50', '195.50',\n",
       "       '299.50', '79.50', '214.50', '127.50', '58.40', '247.00', '21.70',\n",
       "       '158.10', '248.10', '286.50', '235.00', '249.00', '273.00',\n",
       "       '190.10', '246.30', '275.00', '35.10', '16.90', '4.40', '36.20',\n",
       "       '36.30', '26.70', '33.10', '16.50', '239.00', '296.70', '181.80',\n",
       "       '123.30', '102.40', '158.20', '157.80', '2.40', '11.60', '29.10',\n",
       "       '98.60', '28.70', '2.80', '3.60', '4.50', '56.60', '171.90',\n",
       "       '65.70', '186.80', '230.00', '303.00', '314.00', '30.50', '308.00',\n",
       "       '128.60', '208.60', '101.40', '185.40', '113.20', '110.70',\n",
       "       '140.90', '160.20', '363.90', '70.40', '69.90', '111.20', '194.10',\n",
       "       '79.80', '195.90', '95.60', '75.20', '96.10', '35.20', '98.80',\n",
       "       '166.80', '42.20', '40.90', '285.00', '117.40', '192.80', '59.10',\n",
       "       '49.90', '77.60', '75.80', '34.60', '28.40', '32.30', '57.60',\n",
       "       '255.00', '111.30', '293.50', '190.50', '272.50', '297.00',\n",
       "       '231.50', '64.50', '283.50', '39.40', '287.00', '9.40', '166.40',\n",
       "       '259.40', '308.60', '71.20', '206.40', '255.60', '31.60', '27.30',\n",
       "       '14.90', '270.00', '154.10', '288.00', '96.50', '22.50', '49.000',\n",
       "       '30.30', '32.60', '21.30', '17.20', '18.50', '18.30', '34.700',\n",
       "       '34.800', '33.30', '20.10', '25.20', '17.70', '54.000', '35.30',\n",
       "       '18.60', '29.000', '48.000', '30.10', '16.60', '11.90', '20.20',\n",
       "       '21.000', '21.90', '15.90', '31.80', '292.00', '282.00', '23.90',\n",
       "       '98.40', '313.00', '78.40', '259.00', '110.40', '127.40', '125.90',\n",
       "       '111.70', '97.30', '53.30', '118.70', '205.30', '168.10', '82.60',\n",
       "       '79.20', '68.70', '250.00', '45.70', '130.90', '57.50', '85.70',\n",
       "       '198.80', '217.00', '65.90', '89.20', '179.30', '123.90', '37.40',\n",
       "       '22.20', '28.20', '33.20', '198.70', '20.60', '75.70', '98.90',\n",
       "       '160.60', '22.30', '21.20', '128.80', '80.80', '59.20', '14.10',\n",
       "       '39.30', '88.50', '298.00', '253.50', '14.70', '10.60', '157.40',\n",
       "       '238.50', '116.60', '250.40', '119.50', '265.50', '53.60', '87.70',\n",
       "       '115.70', '229.50', '73.30', '35.70', '23.20', '289.50', '186.50',\n",
       "       '201.50', '293.00', '227.50', '187.50', '60.50', '133.50', '74.50',\n",
       "       '289.00', '31.40', '26.000', '14.30', '55.000', '25.000', '79.000',\n",
       "       '20.80', '30.60', '121.60'], dtype=object)"
      ]
     },
     "execution_count": 232,
     "metadata": {},
     "output_type": "execute_result"
    }
   ],
   "source": [
    "df_from_xlsx_total[\"PRIMA_MENSUAL_CONSOLIDADA\"].unique()"
   ]
  },
  {
   "cell_type": "code",
   "execution_count": 233,
   "metadata": {},
   "outputs": [
    {
     "data": {
      "text/plain": [
       "array(['4,450', '3,400', '5,000', '6,700', '4,900', '3,900', '2,800',\n",
       "       '5,900', '3,250', '6,200', '5,300', '6,000', '4,500', '5,400',\n",
       "       '3,950', '5,500', '4,000', '5,750', '4,750', '4,800', '2,900',\n",
       "       '4,950', '4,400', '3,350', '2,400', '1,000', '3,000', '2,000',\n",
       "       '6,300', 'NO_ASIGNADO', '6,500', '2,350', '4,300', '2,850',\n",
       "       '5,200', '5,600', '3,800', '4,200', '6,400', '4,600', '500',\n",
       "       '2,500', '3,200', '3,300', '4,375', '4,250', '3,750', '3,600',\n",
       "       '3,500', '1,500', '3,315', '2,675', '2,700', '2,250', '1,975',\n",
       "       '4,700', '4,100', '5,250', '3,975', '3,100', '5,950', '3,125',\n",
       "       '2,660', '2,950', '5,100', '1,700', '3,650', '6,475', '1,750',\n",
       "       '3,700', '1,300', '2,550', '4,325', '6,550', '2,750', '1,800',\n",
       "       '4,650', '3,150', '2,300', '1,400', '5,700', '900', '0', 'N/A',\n",
       "       '2,450', '2,225', '2,600', '4,475', '2,200', '', '6,650', '3,401',\n",
       "       '-', '6,600', '5,050', '6,100', '1,200', '1,950', '5,275', '4,725',\n",
       "       '2,430', '3,050', '6,350', '2,100', '6,050', '200', '5,800',\n",
       "       '3,850', '2,960', '5,150', '1,900', '5,550', '2,375', '2,175',\n",
       "       '4,850', '225', '750', '6,450', '50', '5,650', 'nan', '999',\n",
       "       '1,250', '1,499', '1,899', '2,799', '3,399', '3,450', '5,675',\n",
       "       '6,590', '400'], dtype=object)"
      ]
     },
     "execution_count": 233,
     "metadata": {},
     "output_type": "execute_result"
    }
   ],
   "source": [
    "df_from_xlsx_total[\"DESEMBOLSO_MAXIMO\"].unique()"
   ]
  },
  {
   "cell_type": "code",
   "execution_count": 234,
   "metadata": {},
   "outputs": [],
   "source": [
    "df_from_xlsx_total[\"PRIMA_MENSUAL_CONSOLIDADA\"] = df_from_xlsx_total[\"PRIMA_MENSUAL_CONSOLIDADA\"].replace({\"NO_ASIGNADO\":\"0\"}, regex=True)\\\n",
    ".replace({\"nan\":\"0\"}, regex=True).replace({\"N/A\":\"0\"}, regex=True).replace({\"-\":\"0\"}, regex=True)"
   ]
  },
  {
   "cell_type": "code",
   "execution_count": 236,
   "metadata": {},
   "outputs": [],
   "source": [
    "# Strip leading and trailing space only strings\n",
    "df_from_xlsx_total['PRIMA_MENSUAL_CONSOLIDADA'] = df_from_xlsx_total['PRIMA_MENSUAL_CONSOLIDADA'].str.strip()"
   ]
  },
  {
   "cell_type": "code",
   "execution_count": 235,
   "metadata": {},
   "outputs": [],
   "source": [
    "df_from_xlsx_total[df_from_xlsx_total[\"PRIMA_MENSUAL_CONSOLIDADA\"]=='']=0"
   ]
  },
  {
   "cell_type": "code",
   "execution_count": 236,
   "metadata": {},
   "outputs": [],
   "source": [
    "# Strip leading and trailing space only strings\n",
    "df_from_xlsx_total['PRIMA_MENSUAL_CONSOLIDADA'] = df_from_xlsx_total['PRIMA_MENSUAL_CONSOLIDADA'].str.strip()"
   ]
  },
  {
   "cell_type": "code",
   "execution_count": 237,
   "metadata": {},
   "outputs": [
    {
     "data": {
      "text/plain": [
       "array(['0.00', '99.00', '199.00', '38.00', '65.00', '39.00', '59.00',\n",
       "       '149.00', '35.00', '119.00', '51.00', '135.00', '25.00', '189.00',\n",
       "       '28.00', '29.00', '279.00', '37.00', '139.00', '97.00', '129.00',\n",
       "       '95.00', '60.00', '82.00', '174.00', '86.00', '110.00', '75.00',\n",
       "       '165.00', '108.00', '98.00', '41.00', '79.00', '128.00', '14.00',\n",
       "       '45.00', '20.00', '49.00', '54.00', '27.20', '75.10', '105.00',\n",
       "       '160.00', '55.20', '37.60', '66.00', '72.00', '27.00', '69.00',\n",
       "       '70.00', '40.00', '50.00', '112.00', '125.00', '90.00', '159.00',\n",
       "       '102.00', '121.00', '122.00', '131.00', '89.00', '76.00', '30.00',\n",
       "       '84.00', '81.00', '30.90', '114.00', '56.00', '79.60', '23.60',\n",
       "       '106.00', '192.00', '62.00', '19.00', '133.00', '78.00', '63.00',\n",
       "       '109.00', '5.00', '32.40', '68.00', '61.00', '177.00', '48.00',\n",
       "       '8.00', '48.10', '156.80', '246.20', '135.50', '34.00', '74.20',\n",
       "       '55.00', '73.40', '120.80', '42.90', '99.10', '28.50', '42.00',\n",
       "       '94.00', '87.00', '179.00', '150.00', '80.00', '35.60', '23.80',\n",
       "       '96.00', '49.50', '45.50', '85.00', '15.00', '29.60', '26.00',\n",
       "       '31.00', '147.00', '120.00', '187.00', '121.30', '132.90', '30.40',\n",
       "       '17.00', '10.00', '33.00', '173.00', '116.00', '44.00', '154.00',\n",
       "       '67.00', '13.00', '53.00', '100.00', '144.00', '88.00', '32.80',\n",
       "       '30.20', '47.00', '46.00', '73.00', '43.00', '71.00', '151.00',\n",
       "       '64.00', '122.70', '63.90', '169.00', '36.00', '205.00', '18.00',\n",
       "       '22.00', '21.00', '84.40', '139.60', '22.60', '161.00', '19.70',\n",
       "       '19.30', '19.90', '101.00', '152.00', '148.00', '181.00', '134.00',\n",
       "       '27.90', '139.90', '170.40', '99.90', '129.90', '160.40', '47.90',\n",
       "       '126.00', '153.90', '184.40', '93.00', '120.90', '198.00',\n",
       "       '138.00', '4.00', '92.00', '6.00', '81.90', '112.40', '24.00',\n",
       "       '51.90', '109.90', '140.40', '52.00', '79.90', '231.00', '213.00',\n",
       "       '57.00', '83.00', '238.00', '163.00', '226.00', '172.00', '118.00',\n",
       "       '246.00', '142.00', '204.00', '143.00', '212.00', '94.70',\n",
       "       '132.00', '152.80', '158.00', '77.00', '16.00', '103.00', '200.00',\n",
       "       '222.00', '102.80', '347.00', '162.90', '60.20', '105.50',\n",
       "       '122.60', '181.20', '155.50', '172.60', '231.20', '55.50', '85.50',\n",
       "       '102.60', '161.20', '137.00', '262.70', '347.10', '32.50', '26.10',\n",
       "       '12.70', '22.80', '19.80', '127.00', '171.00', '185.00', '140.00',\n",
       "       '56.80', '114.90', '149.50', '84.70', '184.70', '242.10', '156.00',\n",
       "       '55.30', '107.00', '15.30', '0', '240.00', '145.00', '39.80',\n",
       "       '138.40', '46.20', '14.60', '72.10', '111.00', '39.70', '51.30',\n",
       "       '35.40', '37.50', '155.00', '146.00', '122.30', '104.40', '254.90',\n",
       "       '102.50', '85.60', '74.00', '180.00', '211.00', '123.00', '271.00',\n",
       "       '16.40', '47.20', '58.00', '23.00', '278.00', '91.00', '117.00',\n",
       "       '130.00', '375.90', '111.40', '32.00', '157.00', '31.30', '40.60',\n",
       "       '128.30', '36.40', '186.00', '135.20', '199.20', '80.50', '164.00',\n",
       "       '167.00', '162.70', '42.10', '228.00', '69.50', '196.50', '81.50',\n",
       "       '166.00', '191.00', '107.40', '114.40', '155.30', '245.00',\n",
       "       '287.30', '184.80', '226.20', '57.10', '153.00', '30.70', '27.10',\n",
       "       '241.10', '178.60', '124.00', '180.10', '117.60', '260.10',\n",
       "       '197.60', '133.10', '70.60', '162.00', '218.10', '155.60', '26.60',\n",
       "       '215.00', '33.60', '115.00', '225.00', '254.00', '236.00',\n",
       "       '258.50', '203.00', '193.00', '283.00', '48.50', '142.10',\n",
       "       '175.00', '42.30', '46.90', '48.20', '40.10', '29.90', '29.80',\n",
       "       '27.50', '182.00', '94.30', '61.50', '249.80', '139.20', '3.00',\n",
       "       '74.30', '31.90', '120.60', '103.50', '18.70', '176.00', '136.00',\n",
       "       '39.50', '24.90', '24.70', '54.60', '77.50', '121.40', '138.10',\n",
       "       '65.50', '188.00', '202.00', '25.30', '21.50', '142.20', '26.40',\n",
       "       '24.50', '37.30', '183.00', '136.10', '66.10', '172.90', '140.10',\n",
       "       '110.10', '24.80', '178.00', '196.90', '164.10', '131.10', '44.80',\n",
       "       '77.10', '47.10', '11.00', '172.10', '139.10', '12.50', '194.00',\n",
       "       '55.60', '218.00', '113.00', '244.00', '183.90', '189.80',\n",
       "       '243.80', '51.70', '95.70', '149.70', '77.70', '111.90', '171.80',\n",
       "       '109.60', '177.20', '342.80', '66.90', '206.70', '24.10', '64.40',\n",
       "       '79.40', '44.50', '28.10', '26.30', '16.20', '170.00', '25.40',\n",
       "       '232.00', '261.30', '152.50', '80.90', '69.40', '26.90', '302.00',\n",
       "       '127.70', '112.90', '16.10', '208.00', '22.10', '201.00', '23.50',\n",
       "       '42.50', '25.10', '154.30', '17.50', '31.70', '9.00', '104.00',\n",
       "       '185.70', '151.90', '117.90', '35.90', '209.70', '175.90',\n",
       "       '138.90', '55.90', '107.70', '73.90', '43.90', '181.10', '123.50',\n",
       "       '132.50', '241.00', '268.00', '92.50', '101.50', '216.00',\n",
       "       '134.50', '68.50', '146.50', '138.50', '99.50', '165.50', '51.50',\n",
       "       '118.50', '272.00', '93.60', '141.50', '191.50', '60.70', '100.70',\n",
       "       '150.70', '125.50', '117.80', '187.70', '343.30', '262.00',\n",
       "       '150.50', '34.90', '19.50', '29.50', '12.00', '153.70', '58.20',\n",
       "       '197.00', '219.30', '37.20', '256.00', '18.40', '59.50', '161.50',\n",
       "       '22.90', '159.50', '222.50', '147.10', '313.50', '18.90', '111.10',\n",
       "       '145.90', '2.10', '33.50', '34.80', '148.70', '210.00', '219.00',\n",
       "       '224.00', '253.00', '141.00', '125.40', '182.60', '98.50',\n",
       "       '252.00', '47.50', '75.50', '76.30', '34.50', '291.00', '38.50',\n",
       "       '196.00', '27.60', '235.70', '135.60', '48.60', '268.50', '168.40',\n",
       "       '230.70', '130.70', '43.70', '195.60', '228.40', '190.70',\n",
       "       '215.60', '248.40', '210.70', '54.50', '78.50', '223.10', '189.60',\n",
       "       '328.00', '207.00', '294.00', '260.00', '320.00', '242.00',\n",
       "       '234.00', '227.00', '68.90', '52.50', '19.10', '296.00', '28.80',\n",
       "       '26.80', '229.00', '168.00', '280.70', '89.40', '28.90', '300.00',\n",
       "       '137.50', '126.10', '24.60', '29.70', '127.10', '36.10', '17.90',\n",
       "       '25.80', '195.00', '34.30', '14.40', '16.30', '176.40', '64.20',\n",
       "       '26.50', '57.90', '82.90', '122.40', '23.30', '188.20', '154.40',\n",
       "       '120.30', '212.20', '178.40', '141.30', '110.20', '76.40', '46.30',\n",
       "       '183.50', '144.60', '65.60', '257.00', '15.50', '7.00', '148.30',\n",
       "       '198.30', '65.80', '88.80', '134.30', '48.40', '155.90', '118.80',\n",
       "       '172.50', '52.40', '50.50', '109.10', '295.00', '57.20', '228.50',\n",
       "       '36.90', '95.50', '22.40', '194.50', '276.50', '34.10', '49.70',\n",
       "       '47.40', '167.40', '103.60', '101.10', '233.00', '32.90', '99.60',\n",
       "       '136.50', '323.00', '57.40', '63.50', '38.40', '82.80', '2.00',\n",
       "       '57.80', '37.10', '33.80', '134.90', '264.00', '223.00', '319.00',\n",
       "       '184.00', '280.00', '237.00', '140.50', '190.00', '263.00',\n",
       "       '251.00', '206.00', '29.20', '235.50', '145.50', '58.50', '271.90',\n",
       "       '181.90', '94.90', '229.70', '139.70', '52.70', '205.50', '241.90',\n",
       "       '199.70', '221.00', '34.40', '46.80', '12.10', '229.80', '20.90',\n",
       "       '89.90', '23.40', '31.10', '27.40', '28.60', '90.50', '85.10',\n",
       "       '284.50', '99.30', '146.60', '147.80', '39.90', '14.50', '131.50',\n",
       "       '84.60', '142.40', '108.70', '302.50', '139.40', '161.40', '27.70',\n",
       "       '187.60', '73.20', '32.10', '22.70', '38.80', '180.50', '25.50',\n",
       "       '265.00', '20.50', '220.00', '103.40', '164.50', '38.90', '93.10',\n",
       "       '134.20', '354.10', '212.50', '63.30', '108.60', '157.70',\n",
       "       '196.40', '85.80', '100.40', '149.30', '187.10', '72.50', '36.50',\n",
       "       '15.60', '179.10', '71.70', '52.10', '92.60', '46.10', '166.60',\n",
       "       '113.50', '23.10', '98.70', '166.70', '31.50', '96.40', '290.00',\n",
       "       '184.30', '117.30', '167.50', '214.00', '306.00', '388.00',\n",
       "       '76.90', '71.50', '64.70', '49.10', '44.10', '34.20', '279.50',\n",
       "       '174.50', '193.50', '269.50', '195.50', '299.50', '79.50',\n",
       "       '214.50', '127.50', '58.40', '247.00', '21.70', '158.10', '248.10',\n",
       "       '286.50', '235.00', '249.00', '273.00', '190.10', '246.30',\n",
       "       '275.00', '35.10', '16.90', '4.40', '36.20', '36.30', '26.70',\n",
       "       '33.10', '16.50', '239.00', '296.70', '181.80', '123.30', '102.40',\n",
       "       '158.20', '157.80', '2.40', '11.60', '29.10', '98.60', '28.70',\n",
       "       '2.80', '3.60', '4.50', '56.60', '171.90', '65.70', '186.80',\n",
       "       '230.00', '303.00', '314.00', '30.50', '308.00', '128.60',\n",
       "       '208.60', '101.40', '185.40', '113.20', '110.70', '140.90',\n",
       "       '160.20', '363.90', '70.40', '69.90', '111.20', '194.10', '79.80',\n",
       "       '195.90', '95.60', '75.20', '96.10', '35.20', '98.80', '166.80',\n",
       "       '42.20', '40.90', '285.00', '117.40', '192.80', '59.10', '49.90',\n",
       "       '77.60', '75.80', '34.60', '28.40', '32.30', '57.60', '255.00',\n",
       "       '111.30', '293.50', '190.50', '272.50', '297.00', '231.50',\n",
       "       '64.50', '283.50', '39.40', '287.00', '9.40', '166.40', '259.40',\n",
       "       '308.60', '71.20', '206.40', '255.60', '31.60', '27.30', '14.90',\n",
       "       '270.00', '154.10', '288.00', '96.50', '22.50', '49.000', '30.30',\n",
       "       '32.60', '21.30', '17.20', '18.50', '18.30', '34.700', '34.800',\n",
       "       '33.30', '20.10', '25.20', '17.70', '54.000', '35.30', '18.60',\n",
       "       '29.000', '48.000', '30.10', '16.60', '11.90', '20.20', '21.000',\n",
       "       '21.90', '15.90', '31.80', '292.00', '282.00', '23.90', '98.40',\n",
       "       '313.00', '78.40', '259.00', '110.40', '127.40', '125.90',\n",
       "       '111.70', '97.30', '53.30', '118.70', '205.30', '168.10', '82.60',\n",
       "       '79.20', '68.70', '250.00', '45.70', '130.90', '57.50', '85.70',\n",
       "       '198.80', '217.00', '65.90', '89.20', '179.30', '123.90', '37.40',\n",
       "       '22.20', '28.20', '33.20', '198.70', '20.60', '75.70', '98.90',\n",
       "       '160.60', '22.30', '21.20', '128.80', '80.80', '59.20', '14.10',\n",
       "       '39.30', '88.50', '298.00', '253.50', '14.70', '10.60', '157.40',\n",
       "       '238.50', '116.60', '250.40', '119.50', '265.50', '53.60', '87.70',\n",
       "       '115.70', '229.50', '73.30', '35.70', '23.20', '289.50', '186.50',\n",
       "       '201.50', '293.00', '227.50', '187.50', '60.50', '133.50', '74.50',\n",
       "       '289.00', '31.40', '26.000', '14.30', '55.000', '25.000', '79.000',\n",
       "       '20.80', '30.60', '121.60'], dtype=object)"
      ]
     },
     "execution_count": 237,
     "metadata": {},
     "output_type": "execute_result"
    }
   ],
   "source": [
    "df_from_xlsx_total[\"PRIMA_MENSUAL_CONSOLIDADA\"].unique()"
   ]
  },
  {
   "cell_type": "code",
   "execution_count": 238,
   "metadata": {},
   "outputs": [],
   "source": [
    "#df_from_xlsx_total[\"PRIMA_MENSUAL_CONSOLIDADA\"] = df_from_xlsx_total[\"PRIMA_MENSUAL_CONSOLIDADA\"].replace({\"\\\\.\":\",\"}, regex=True)"
   ]
  },
  {
   "cell_type": "code",
   "execution_count": 239,
   "metadata": {},
   "outputs": [
    {
     "data": {
      "text/plain": [
       "array(['0.00', '99.00', '199.00', '38.00', '65.00', '39.00', '59.00',\n",
       "       '149.00', '35.00', '119.00', '51.00', '135.00', '25.00', '189.00',\n",
       "       '28.00', '29.00', '279.00', '37.00', '139.00', '97.00', '129.00',\n",
       "       '95.00', '60.00', '82.00', '174.00', '86.00', '110.00', '75.00',\n",
       "       '165.00', '108.00', '98.00', '41.00', '79.00', '128.00', '14.00',\n",
       "       '45.00', '20.00', '49.00', '54.00', '27.20', '75.10', '105.00',\n",
       "       '160.00', '55.20', '37.60', '66.00', '72.00', '27.00', '69.00',\n",
       "       '70.00', '40.00', '50.00', '112.00', '125.00', '90.00', '159.00',\n",
       "       '102.00', '121.00', '122.00', '131.00', '89.00', '76.00', '30.00',\n",
       "       '84.00', '81.00', '30.90', '114.00', '56.00', '79.60', '23.60',\n",
       "       '106.00', '192.00', '62.00', '19.00', '133.00', '78.00', '63.00',\n",
       "       '109.00', '5.00', '32.40', '68.00', '61.00', '177.00', '48.00',\n",
       "       '8.00', '48.10', '156.80', '246.20', '135.50', '34.00', '74.20',\n",
       "       '55.00', '73.40', '120.80', '42.90', '99.10', '28.50', '42.00',\n",
       "       '94.00', '87.00', '179.00', '150.00', '80.00', '35.60', '23.80',\n",
       "       '96.00', '49.50', '45.50', '85.00', '15.00', '29.60', '26.00',\n",
       "       '31.00', '147.00', '120.00', '187.00', '121.30', '132.90', '30.40',\n",
       "       '17.00', '10.00', '33.00', '173.00', '116.00', '44.00', '154.00',\n",
       "       '67.00', '13.00', '53.00', '100.00', '144.00', '88.00', '32.80',\n",
       "       '30.20', '47.00', '46.00', '73.00', '43.00', '71.00', '151.00',\n",
       "       '64.00', '122.70', '63.90', '169.00', '36.00', '205.00', '18.00',\n",
       "       '22.00', '21.00', '84.40', '139.60', '22.60', '161.00', '19.70',\n",
       "       '19.30', '19.90', '101.00', '152.00', '148.00', '181.00', '134.00',\n",
       "       '27.90', '139.90', '170.40', '99.90', '129.90', '160.40', '47.90',\n",
       "       '126.00', '153.90', '184.40', '93.00', '120.90', '198.00',\n",
       "       '138.00', '4.00', '92.00', '6.00', '81.90', '112.40', '24.00',\n",
       "       '51.90', '109.90', '140.40', '52.00', '79.90', '231.00', '213.00',\n",
       "       '57.00', '83.00', '238.00', '163.00', '226.00', '172.00', '118.00',\n",
       "       '246.00', '142.00', '204.00', '143.00', '212.00', '94.70',\n",
       "       '132.00', '152.80', '158.00', '77.00', '16.00', '103.00', '200.00',\n",
       "       '222.00', '102.80', '347.00', '162.90', '60.20', '105.50',\n",
       "       '122.60', '181.20', '155.50', '172.60', '231.20', '55.50', '85.50',\n",
       "       '102.60', '161.20', '137.00', '262.70', '347.10', '32.50', '26.10',\n",
       "       '12.70', '22.80', '19.80', '127.00', '171.00', '185.00', '140.00',\n",
       "       '56.80', '114.90', '149.50', '84.70', '184.70', '242.10', '156.00',\n",
       "       '55.30', '107.00', '15.30', '0', '240.00', '145.00', '39.80',\n",
       "       '138.40', '46.20', '14.60', '72.10', '111.00', '39.70', '51.30',\n",
       "       '35.40', '37.50', '155.00', '146.00', '122.30', '104.40', '254.90',\n",
       "       '102.50', '85.60', '74.00', '180.00', '211.00', '123.00', '271.00',\n",
       "       '16.40', '47.20', '58.00', '23.00', '278.00', '91.00', '117.00',\n",
       "       '130.00', '375.90', '111.40', '32.00', '157.00', '31.30', '40.60',\n",
       "       '128.30', '36.40', '186.00', '135.20', '199.20', '80.50', '164.00',\n",
       "       '167.00', '162.70', '42.10', '228.00', '69.50', '196.50', '81.50',\n",
       "       '166.00', '191.00', '107.40', '114.40', '155.30', '245.00',\n",
       "       '287.30', '184.80', '226.20', '57.10', '153.00', '30.70', '27.10',\n",
       "       '241.10', '178.60', '124.00', '180.10', '117.60', '260.10',\n",
       "       '197.60', '133.10', '70.60', '162.00', '218.10', '155.60', '26.60',\n",
       "       '215.00', '33.60', '115.00', '225.00', '254.00', '236.00',\n",
       "       '258.50', '203.00', '193.00', '283.00', '48.50', '142.10',\n",
       "       '175.00', '42.30', '46.90', '48.20', '40.10', '29.90', '29.80',\n",
       "       '27.50', '182.00', '94.30', '61.50', '249.80', '139.20', '3.00',\n",
       "       '74.30', '31.90', '120.60', '103.50', '18.70', '176.00', '136.00',\n",
       "       '39.50', '24.90', '24.70', '54.60', '77.50', '121.40', '138.10',\n",
       "       '65.50', '188.00', '202.00', '25.30', '21.50', '142.20', '26.40',\n",
       "       '24.50', '37.30', '183.00', '136.10', '66.10', '172.90', '140.10',\n",
       "       '110.10', '24.80', '178.00', '196.90', '164.10', '131.10', '44.80',\n",
       "       '77.10', '47.10', '11.00', '172.10', '139.10', '12.50', '194.00',\n",
       "       '55.60', '218.00', '113.00', '244.00', '183.90', '189.80',\n",
       "       '243.80', '51.70', '95.70', '149.70', '77.70', '111.90', '171.80',\n",
       "       '109.60', '177.20', '342.80', '66.90', '206.70', '24.10', '64.40',\n",
       "       '79.40', '44.50', '28.10', '26.30', '16.20', '170.00', '25.40',\n",
       "       '232.00', '261.30', '152.50', '80.90', '69.40', '26.90', '302.00',\n",
       "       '127.70', '112.90', '16.10', '208.00', '22.10', '201.00', '23.50',\n",
       "       '42.50', '25.10', '154.30', '17.50', '31.70', '9.00', '104.00',\n",
       "       '185.70', '151.90', '117.90', '35.90', '209.70', '175.90',\n",
       "       '138.90', '55.90', '107.70', '73.90', '43.90', '181.10', '123.50',\n",
       "       '132.50', '241.00', '268.00', '92.50', '101.50', '216.00',\n",
       "       '134.50', '68.50', '146.50', '138.50', '99.50', '165.50', '51.50',\n",
       "       '118.50', '272.00', '93.60', '141.50', '191.50', '60.70', '100.70',\n",
       "       '150.70', '125.50', '117.80', '187.70', '343.30', '262.00',\n",
       "       '150.50', '34.90', '19.50', '29.50', '12.00', '153.70', '58.20',\n",
       "       '197.00', '219.30', '37.20', '256.00', '18.40', '59.50', '161.50',\n",
       "       '22.90', '159.50', '222.50', '147.10', '313.50', '18.90', '111.10',\n",
       "       '145.90', '2.10', '33.50', '34.80', '148.70', '210.00', '219.00',\n",
       "       '224.00', '253.00', '141.00', '125.40', '182.60', '98.50',\n",
       "       '252.00', '47.50', '75.50', '76.30', '34.50', '291.00', '38.50',\n",
       "       '196.00', '27.60', '235.70', '135.60', '48.60', '268.50', '168.40',\n",
       "       '230.70', '130.70', '43.70', '195.60', '228.40', '190.70',\n",
       "       '215.60', '248.40', '210.70', '54.50', '78.50', '223.10', '189.60',\n",
       "       '328.00', '207.00', '294.00', '260.00', '320.00', '242.00',\n",
       "       '234.00', '227.00', '68.90', '52.50', '19.10', '296.00', '28.80',\n",
       "       '26.80', '229.00', '168.00', '280.70', '89.40', '28.90', '300.00',\n",
       "       '137.50', '126.10', '24.60', '29.70', '127.10', '36.10', '17.90',\n",
       "       '25.80', '195.00', '34.30', '14.40', '16.30', '176.40', '64.20',\n",
       "       '26.50', '57.90', '82.90', '122.40', '23.30', '188.20', '154.40',\n",
       "       '120.30', '212.20', '178.40', '141.30', '110.20', '76.40', '46.30',\n",
       "       '183.50', '144.60', '65.60', '257.00', '15.50', '7.00', '148.30',\n",
       "       '198.30', '65.80', '88.80', '134.30', '48.40', '155.90', '118.80',\n",
       "       '172.50', '52.40', '50.50', '109.10', '295.00', '57.20', '228.50',\n",
       "       '36.90', '95.50', '22.40', '194.50', '276.50', '34.10', '49.70',\n",
       "       '47.40', '167.40', '103.60', '101.10', '233.00', '32.90', '99.60',\n",
       "       '136.50', '323.00', '57.40', '63.50', '38.40', '82.80', '2.00',\n",
       "       '57.80', '37.10', '33.80', '134.90', '264.00', '223.00', '319.00',\n",
       "       '184.00', '280.00', '237.00', '140.50', '190.00', '263.00',\n",
       "       '251.00', '206.00', '29.20', '235.50', '145.50', '58.50', '271.90',\n",
       "       '181.90', '94.90', '229.70', '139.70', '52.70', '205.50', '241.90',\n",
       "       '199.70', '221.00', '34.40', '46.80', '12.10', '229.80', '20.90',\n",
       "       '89.90', '23.40', '31.10', '27.40', '28.60', '90.50', '85.10',\n",
       "       '284.50', '99.30', '146.60', '147.80', '39.90', '14.50', '131.50',\n",
       "       '84.60', '142.40', '108.70', '302.50', '139.40', '161.40', '27.70',\n",
       "       '187.60', '73.20', '32.10', '22.70', '38.80', '180.50', '25.50',\n",
       "       '265.00', '20.50', '220.00', '103.40', '164.50', '38.90', '93.10',\n",
       "       '134.20', '354.10', '212.50', '63.30', '108.60', '157.70',\n",
       "       '196.40', '85.80', '100.40', '149.30', '187.10', '72.50', '36.50',\n",
       "       '15.60', '179.10', '71.70', '52.10', '92.60', '46.10', '166.60',\n",
       "       '113.50', '23.10', '98.70', '166.70', '31.50', '96.40', '290.00',\n",
       "       '184.30', '117.30', '167.50', '214.00', '306.00', '388.00',\n",
       "       '76.90', '71.50', '64.70', '49.10', '44.10', '34.20', '279.50',\n",
       "       '174.50', '193.50', '269.50', '195.50', '299.50', '79.50',\n",
       "       '214.50', '127.50', '58.40', '247.00', '21.70', '158.10', '248.10',\n",
       "       '286.50', '235.00', '249.00', '273.00', '190.10', '246.30',\n",
       "       '275.00', '35.10', '16.90', '4.40', '36.20', '36.30', '26.70',\n",
       "       '33.10', '16.50', '239.00', '296.70', '181.80', '123.30', '102.40',\n",
       "       '158.20', '157.80', '2.40', '11.60', '29.10', '98.60', '28.70',\n",
       "       '2.80', '3.60', '4.50', '56.60', '171.90', '65.70', '186.80',\n",
       "       '230.00', '303.00', '314.00', '30.50', '308.00', '128.60',\n",
       "       '208.60', '101.40', '185.40', '113.20', '110.70', '140.90',\n",
       "       '160.20', '363.90', '70.40', '69.90', '111.20', '194.10', '79.80',\n",
       "       '195.90', '95.60', '75.20', '96.10', '35.20', '98.80', '166.80',\n",
       "       '42.20', '40.90', '285.00', '117.40', '192.80', '59.10', '49.90',\n",
       "       '77.60', '75.80', '34.60', '28.40', '32.30', '57.60', '255.00',\n",
       "       '111.30', '293.50', '190.50', '272.50', '297.00', '231.50',\n",
       "       '64.50', '283.50', '39.40', '287.00', '9.40', '166.40', '259.40',\n",
       "       '308.60', '71.20', '206.40', '255.60', '31.60', '27.30', '14.90',\n",
       "       '270.00', '154.10', '288.00', '96.50', '22.50', '49.000', '30.30',\n",
       "       '32.60', '21.30', '17.20', '18.50', '18.30', '34.700', '34.800',\n",
       "       '33.30', '20.10', '25.20', '17.70', '54.000', '35.30', '18.60',\n",
       "       '29.000', '48.000', '30.10', '16.60', '11.90', '20.20', '21.000',\n",
       "       '21.90', '15.90', '31.80', '292.00', '282.00', '23.90', '98.40',\n",
       "       '313.00', '78.40', '259.00', '110.40', '127.40', '125.90',\n",
       "       '111.70', '97.30', '53.30', '118.70', '205.30', '168.10', '82.60',\n",
       "       '79.20', '68.70', '250.00', '45.70', '130.90', '57.50', '85.70',\n",
       "       '198.80', '217.00', '65.90', '89.20', '179.30', '123.90', '37.40',\n",
       "       '22.20', '28.20', '33.20', '198.70', '20.60', '75.70', '98.90',\n",
       "       '160.60', '22.30', '21.20', '128.80', '80.80', '59.20', '14.10',\n",
       "       '39.30', '88.50', '298.00', '253.50', '14.70', '10.60', '157.40',\n",
       "       '238.50', '116.60', '250.40', '119.50', '265.50', '53.60', '87.70',\n",
       "       '115.70', '229.50', '73.30', '35.70', '23.20', '289.50', '186.50',\n",
       "       '201.50', '293.00', '227.50', '187.50', '60.50', '133.50', '74.50',\n",
       "       '289.00', '31.40', '26.000', '14.30', '55.000', '25.000', '79.000',\n",
       "       '20.80', '30.60', '121.60'], dtype=object)"
      ]
     },
     "execution_count": 239,
     "metadata": {},
     "output_type": "execute_result"
    }
   ],
   "source": [
    "df_from_xlsx_total[\"PRIMA_MENSUAL_CONSOLIDADA\"].unique()"
   ]
  },
  {
   "cell_type": "code",
   "execution_count": 240,
   "metadata": {},
   "outputs": [],
   "source": [
    "df_from_xlsx_total[\"DESEMBOLSO_MAXIMO\"] = df_from_xlsx_total[\"DESEMBOLSO_MAXIMO\"].replace({\"NO_ASIGNADO\":\"0\"}, regex=True)\\\n",
    ".replace({\"nan\":\"0\"}, regex=True).replace({\"N/A\":\"0\"}, regex=True).replace({\"-\":\"0\"}, regex=True)\\\n",
    ".replace({\" \":\"0\"}, regex=True).replace({\"\\\\,\":\"\"}, regex=True)#.replace({\"\\\\.\":\",\"}, regext=True)"
   ]
  },
  {
   "cell_type": "code",
   "execution_count": 241,
   "metadata": {},
   "outputs": [],
   "source": [
    "# Strip leading and trailing space only strings\n",
    "df_from_xlsx_total['DESEMBOLSO_MAXIMO'] = df_from_xlsx_total['DESEMBOLSO_MAXIMO'].str.strip()"
   ]
  },
  {
   "cell_type": "code",
   "execution_count": 242,
   "metadata": {},
   "outputs": [],
   "source": [
    "df_from_xlsx_total[df_from_xlsx_total[\"DESEMBOLSO_MAXIMO\"]=='']=0"
   ]
  },
  {
   "cell_type": "code",
   "execution_count": 243,
   "metadata": {},
   "outputs": [],
   "source": [
    "# Strip leading and trailing space only strings\n",
    "df_from_xlsx_total['DESEMBOLSO_MAXIMO'] = df_from_xlsx_total['DESEMBOLSO_MAXIMO'].str.strip()"
   ]
  },
  {
   "cell_type": "code",
   "execution_count": 244,
   "metadata": {},
   "outputs": [
    {
     "data": {
      "text/plain": [
       "array(['4450', '3400', '5000', '6700', '4900', '3900', '2800', '5900',\n",
       "       '3250', '6200', '5300', '6000', '4500', '5400', '3950', '5500',\n",
       "       '4000', '5750', '4750', '4800', '2900', '4950', '4400', '3350',\n",
       "       '2400', '1000', '3000', '2000', '6300', '0', '6500', '2350',\n",
       "       '4300', '2850', '5200', '5600', '3800', '4200', '6400', '4600',\n",
       "       '500', '2500', '3200', '3300', '4375', '4250', '3750', '3600',\n",
       "       '3500', '1500', '3315', '2675', '2700', '2250', '1975', '4700',\n",
       "       '4100', '5250', '3975', '3100', '5950', '3125', '2660', '2950',\n",
       "       '5100', '1700', '3650', '6475', '1750', '3700', '1300', '2550',\n",
       "       '4325', '6550', '2750', '1800', '4650', '3150', '2300', '1400',\n",
       "       '5700', '900', '2450', '2225', '2600', '4475', '2200', nan, '6650',\n",
       "       '3401', '6600', '5050', '6100', '1200', '1950', '5275', '4725',\n",
       "       '2430', '3050', '6350', '2100', '6050', '200', '5800', '3850',\n",
       "       '2960', '5150', '1900', '5550', '2375', '2175', '4850', '225',\n",
       "       '750', '6450', '50', '5650', '999', '1250', '1499', '1899', '2799',\n",
       "       '3399', '3450', '5675', '6590', '400'], dtype=object)"
      ]
     },
     "execution_count": 244,
     "metadata": {},
     "output_type": "execute_result"
    }
   ],
   "source": [
    "df_from_xlsx_total[\"DESEMBOLSO_MAXIMO\"].unique()"
   ]
  },
  {
   "cell_type": "code",
   "execution_count": 245,
   "metadata": {},
   "outputs": [],
   "source": [
    "df_from_xlsx_total[\"ESTADO\"] = df_from_xlsx_total[\"ESTADO\"].astype(np.str)\n"
   ]
  },
  {
   "cell_type": "code",
   "execution_count": 246,
   "metadata": {},
   "outputs": [],
   "source": [
    "df_from_xlsx_total[\"CONDADO\"] = df_from_xlsx_total[\"CONDADO\"].astype(np.str)"
   ]
  },
  {
   "cell_type": "code",
   "execution_count": 247,
   "metadata": {},
   "outputs": [],
   "source": [
    "df_from_xlsx_total[\"ORGANIZACION\"] = df_from_xlsx_total[\"ORGANIZACION\"].astype(np.str)"
   ]
  },
  {
   "cell_type": "code",
   "execution_count": 248,
   "metadata": {},
   "outputs": [],
   "source": [
    "#df_from_xlsx_total[\"PLAN\"] = df_from_xlsx_total[\"PLAN\"].astype(np.str)"
   ]
  },
  {
   "cell_type": "code",
   "execution_count": 249,
   "metadata": {},
   "outputs": [],
   "source": [
    "df_from_xlsx_total[\"TIPO_PLAN_GENERICO_MEDICARE\"] = df_from_xlsx_total[\"TIPO_PLAN_GENERICO_MEDICARE\"].astype(np.str)"
   ]
  },
  {
   "cell_type": "code",
   "execution_count": 250,
   "metadata": {},
   "outputs": [],
   "source": [
    "df_from_xlsx_total[\"PRIMA_MENSUAL_CONSOLIDADA\"] = df_from_xlsx_total[\"PRIMA_MENSUAL_CONSOLIDADA\"].astype(np.float64)"
   ]
  },
  {
   "cell_type": "code",
   "execution_count": 251,
   "metadata": {},
   "outputs": [],
   "source": [
    "#df_from_xlsx_total[\"MEDICAMS_ANUALES_DEDUCIBLES\"] = df_from_xlsx_total[\"MEDICAMS_ANUALES_DEDUCIBLES\"].astype(np.str)\n",
    "#df_from_xlsx_total[\"TIPO_BENEFICIO\"] = df_from_xlsx_total[\"TIPO_BENEFICIO\"].astype(np.str)\n",
    "#df_from_xlsx_total[\"COBERTURA_ADICIONAL_OFRECIDA\"] = df_from_xlsx_total[\"COBERTURA_ADICIONAL_OFRECIDA\"].astype(np.str)\n",
    "#df_from_xlsx_total[\"DETALLE_BENEFICIO\"] = df_from_xlsx_total[\"DETALLE_BENEFICIO\"].astype(np.str)\n",
    "#df_from_xlsx_total[\"CONTRATO_ID\"] = df_from_xlsx_total[\"CONTRATO_ID\"].astype(np.str)"
   ]
  },
  {
   "cell_type": "code",
   "execution_count": 252,
   "metadata": {},
   "outputs": [],
   "source": [
    "df_from_xlsx_total[\"DESEMBOLSO_MAXIMO\"] = df_from_xlsx_total[\"DESEMBOLSO_MAXIMO\"].astype(np.float64)"
   ]
  },
  {
   "cell_type": "code",
   "execution_count": 253,
   "metadata": {},
   "outputs": [],
   "source": [
    "df_from_xlsx_total[\"CLASIFICACION\"] = df_from_xlsx_total[\"CLASIFICACION\"].astype(np.str)"
   ]
  },
  {
   "cell_type": "code",
   "execution_count": 256,
   "metadata": {},
   "outputs": [
    {
     "data": {
      "text/plain": [
       "0"
      ]
     },
     "execution_count": 256,
     "metadata": {},
     "output_type": "execute_result"
    }
   ],
   "source": [
    "df_from_xlsx_total[\"PRIMA_MENSUAL_CONSOLIDADA\"].isnull().sum()"
   ]
  },
  {
   "cell_type": "code",
   "execution_count": 255,
   "metadata": {},
   "outputs": [
    {
     "data": {
      "text/plain": [
       "4012"
      ]
     },
     "execution_count": 255,
     "metadata": {},
     "output_type": "execute_result"
    }
   ],
   "source": [
    "df_from_xlsx_total[\"DESEMBOLSO_MAXIMO\"].isnull().sum()"
   ]
  },
  {
   "cell_type": "code",
   "execution_count": 259,
   "metadata": {},
   "outputs": [],
   "source": [
    "df_from_xlsx_total[df_from_xlsx_total[\"DESEMBOLSO_MAXIMO\"].isnull()]=0"
   ]
  },
  {
   "cell_type": "code",
   "execution_count": 261,
   "metadata": {},
   "outputs": [
    {
     "data": {
      "text/plain": [
       "ESTADO                         0\n",
       "CONDADO                        0\n",
       "ORGANIZACION                   0\n",
       "TIPO_PLAN_GENERICO_MEDICARE    0\n",
       "PRIMA_MENSUAL_CONSOLIDADA      0\n",
       "DESEMBOLSO_MAXIMO              0\n",
       "CLASIFICACION                  0\n",
       "dtype: int64"
      ]
     },
     "execution_count": 261,
     "metadata": {},
     "output_type": "execute_result"
    }
   ],
   "source": [
    "# Check NULL values\n",
    "df_from_xlsx_total.isnull().sum()"
   ]
  },
  {
   "cell_type": "code",
   "execution_count": 262,
   "metadata": {},
   "outputs": [
    {
     "data": {
      "text/plain": [
       "array(['2.5', '3', 'Plan too new to be measured', '3.5', '4', '4.5',\n",
       "       'Not enough data to calculate overall rating', '5',\n",
       "       'Not enough data to calculate summary rating', '2',\n",
       "       'Not enough data to calculate summary score',\n",
       "       'Plan too new to be measured ', 'Not enough data available ', 0,\n",
       "       'Not enough data available', 'Not Applicable'], dtype=object)"
      ]
     },
     "execution_count": 262,
     "metadata": {},
     "output_type": "execute_result"
    }
   ],
   "source": [
    "df_from_xlsx_total[\"CLASIFICACION\"].unique()"
   ]
  },
  {
   "cell_type": "code",
   "execution_count": 263,
   "metadata": {},
   "outputs": [],
   "source": [
    "df_from_xlsx_total[\"CLASIFICACION\"] = df_from_xlsx_total[\"CLASIFICACION\"].replace({\"Plan too new to be measured\":\"NO_ASIGNADO\"}, regex=True)\\\n",
    ".replace({\"Not enough data to calculate overall rating\":\"NO_ASIGNADO\"}, regex=True)\\\n",
    ".replace({\"Not enough data to calculate summary rating\":\"NO_ASIGNADO\"}, regex=True)\\\n",
    ".replace({\"Not enough data to calculate summary score\":\"NO_ASIGNADO\"}, regex=True)\\\n",
    ".replace({\"Plan too new to be measured \":\"NO_ASIGNADO\"}, regex=True)\\\n",
    ".replace({\"Not enough data available \":\"NO_ASIGNADO\"}, regex=True)\\\n",
    ".replace({\"Not enough data available\":\"NO_ASIGNADO\"}, regex=True)\\\n",
    ".replace({\"Not Applicable\":\"NO_ASIGNADO\"}, regex=True)\\\n",
    ".replace({\"NO_ASIGNADO \":\"NO_ASIGNADO\"}, regex=True)"
   ]
  },
  {
   "cell_type": "code",
   "execution_count": 264,
   "metadata": {},
   "outputs": [
    {
     "data": {
      "text/plain": [
       "array(['2.5', '3', 'NO_ASIGNADO', '3.5', '4', '4.5', '5', '2', 0],\n",
       "      dtype=object)"
      ]
     },
     "execution_count": 264,
     "metadata": {},
     "output_type": "execute_result"
    }
   ],
   "source": [
    "df_from_xlsx_total[\"CLASIFICACION\"].unique()"
   ]
  },
  {
   "cell_type": "code",
   "execution_count": 266,
   "metadata": {},
   "outputs": [],
   "source": [
    "df_from_xlsx_total[\"CLASIFICACION\"] = df_from_xlsx_total[\"CLASIFICACION\"].astype(np.str)"
   ]
  },
  {
   "cell_type": "code",
   "execution_count": 268,
   "metadata": {},
   "outputs": [
    {
     "data": {
      "text/plain": [
       "array(['2.5', '3', 'NO_ASIGNADO', '3.5', '4', '4.5', '5', '2', '0'],\n",
       "      dtype=object)"
      ]
     },
     "execution_count": 268,
     "metadata": {},
     "output_type": "execute_result"
    }
   ],
   "source": [
    "df_from_xlsx_total[\"CLASIFICACION\"].unique()"
   ]
  },
  {
   "cell_type": "code",
   "execution_count": 267,
   "metadata": {},
   "outputs": [
    {
     "data": {
      "text/plain": [
       "ESTADO                         0\n",
       "CONDADO                        0\n",
       "ORGANIZACION                   0\n",
       "TIPO_PLAN_GENERICO_MEDICARE    0\n",
       "PRIMA_MENSUAL_CONSOLIDADA      0\n",
       "DESEMBOLSO_MAXIMO              0\n",
       "CLASIFICACION                  0\n",
       "dtype: int64"
      ]
     },
     "execution_count": 267,
     "metadata": {},
     "output_type": "execute_result"
    }
   ],
   "source": [
    "# Check NULL values\n",
    "df_from_xlsx_total.isnull().sum()"
   ]
  },
  {
   "cell_type": "code",
   "execution_count": 269,
   "metadata": {},
   "outputs": [
    {
     "data": {
      "text/plain": [
       "ESTADO                         306183\n",
       "CONDADO                        306183\n",
       "ORGANIZACION                   306183\n",
       "TIPO_PLAN_GENERICO_MEDICARE    306183\n",
       "PRIMA_MENSUAL_CONSOLIDADA      306183\n",
       "DESEMBOLSO_MAXIMO              306183\n",
       "CLASIFICACION                  306183\n",
       "dtype: int64"
      ]
     },
     "execution_count": 269,
     "metadata": {},
     "output_type": "execute_result"
    }
   ],
   "source": [
    "df_from_xlsx_total.count()"
   ]
  },
  {
   "cell_type": "code",
   "execution_count": null,
   "metadata": {},
   "outputs": [],
   "source": []
  },
  {
   "cell_type": "code",
   "execution_count": 270,
   "metadata": {},
   "outputs": [],
   "source": [
    "#df_from_xlsx_total[\"TIPO\"].groupby([df_from_xlsx_total[\"TIPO\"]]).agg({'count'})"
   ]
  },
  {
   "cell_type": "code",
   "execution_count": 271,
   "metadata": {},
   "outputs": [],
   "source": [
    "#df_from_xlsx_total = df_from_xlsx_total.drop(df_from_xlsx_total[df_from_xlsx_total['TIPO']==\"BORRAR\"].index)"
   ]
  },
  {
   "cell_type": "code",
   "execution_count": 272,
   "metadata": {},
   "outputs": [
    {
     "data": {
      "text/plain": [
       "ESTADO                         0\n",
       "CONDADO                        0\n",
       "ORGANIZACION                   0\n",
       "TIPO_PLAN_GENERICO_MEDICARE    0\n",
       "PRIMA_MENSUAL_CONSOLIDADA      0\n",
       "DESEMBOLSO_MAXIMO              0\n",
       "CLASIFICACION                  0\n",
       "dtype: int64"
      ]
     },
     "execution_count": 272,
     "metadata": {},
     "output_type": "execute_result"
    }
   ],
   "source": [
    "# Check NULL values\n",
    "df_from_xlsx_total.isnull().sum()"
   ]
  },
  {
   "cell_type": "code",
   "execution_count": 273,
   "metadata": {},
   "outputs": [
    {
     "data": {
      "text/plain": [
       "ESTADO                         306183\n",
       "CONDADO                        306183\n",
       "ORGANIZACION                   306183\n",
       "TIPO_PLAN_GENERICO_MEDICARE    306183\n",
       "PRIMA_MENSUAL_CONSOLIDADA      306183\n",
       "DESEMBOLSO_MAXIMO              306183\n",
       "CLASIFICACION                  306183\n",
       "dtype: int64"
      ]
     },
     "execution_count": 273,
     "metadata": {},
     "output_type": "execute_result"
    }
   ],
   "source": [
    "df_from_xlsx_total.count()"
   ]
  },
  {
   "cell_type": "code",
   "execution_count": 274,
   "metadata": {},
   "outputs": [
    {
     "data": {
      "text/plain": [
       "66712"
      ]
     },
     "execution_count": 274,
     "metadata": {},
     "output_type": "execute_result"
    }
   ],
   "source": [
    "df_from_xlsx_total.duplicated().sum()"
   ]
  },
  {
   "cell_type": "code",
   "execution_count": 275,
   "metadata": {},
   "outputs": [
    {
     "data": {
      "text/plain": [
       "pandas.core.frame.DataFrame"
      ]
     },
     "execution_count": 275,
     "metadata": {},
     "output_type": "execute_result"
    }
   ],
   "source": [
    "type(df_from_xlsx_total)"
   ]
  },
  {
   "cell_type": "code",
   "execution_count": 276,
   "metadata": {},
   "outputs": [
    {
     "data": {
      "text/plain": [
       "Index(['ESTADO', 'CONDADO', 'ORGANIZACION', 'TIPO_PLAN_GENERICO_MEDICARE',\n",
       "       'PRIMA_MENSUAL_CONSOLIDADA', 'DESEMBOLSO_MAXIMO', 'CLASIFICACION'],\n",
       "      dtype='object')"
      ]
     },
     "execution_count": 276,
     "metadata": {},
     "output_type": "execute_result"
    }
   ],
   "source": [
    "df_from_xlsx_total.columns"
   ]
  },
  {
   "cell_type": "code",
   "execution_count": 277,
   "metadata": {},
   "outputs": [
    {
     "data": {
      "text/plain": [
       "ESTADO                          object\n",
       "CONDADO                         object\n",
       "ORGANIZACION                    object\n",
       "TIPO_PLAN_GENERICO_MEDICARE     object\n",
       "PRIMA_MENSUAL_CONSOLIDADA      float64\n",
       "DESEMBOLSO_MAXIMO              float64\n",
       "CLASIFICACION                   object\n",
       "dtype: object"
      ]
     },
     "execution_count": 277,
     "metadata": {},
     "output_type": "execute_result"
    }
   ],
   "source": [
    "df_from_xlsx_total.dtypes"
   ]
  },
  {
   "cell_type": "code",
   "execution_count": 278,
   "metadata": {},
   "outputs": [],
   "source": [
    "#pd.value_counts(df_from_xlsx_total['GENERIC_TYPE']=='NO_ASIGNADO', sort=True, ascending=False, normalize=False, bins=None, dropna=False)"
   ]
  },
  {
   "cell_type": "code",
   "execution_count": 279,
   "metadata": {},
   "outputs": [],
   "source": [
    "#df_from_xlsx_total[df_from_xlsx_total['GENERIC_TYPE'] == 'NO_ASIGNADO'].count()"
   ]
  },
  {
   "cell_type": "code",
   "execution_count": 280,
   "metadata": {},
   "outputs": [],
   "source": [
    "#df_from_xlsx_total = df_from_xlsx_total.drop(df_from_xlsx_total[(df_from_xlsx_total.STATE == 'Idaho')\\\n",
    "#                                                                & (df_from_xlsx_total.GENERIC_TYPE == 'NO_ASIGNADO') \\\n",
    "#                                                                & (df_from_xlsx_total.RATING == 'NO_ASIGNADO')].index)"
   ]
  },
  {
   "cell_type": "code",
   "execution_count": 282,
   "metadata": {},
   "outputs": [],
   "source": [
    "#pd.value_counts(df_from_xlsx_total['TRAMO_EDAD']=='NO_ASIGNADO', sort=True, ascending=False, normalize=False, bins=None, dropna=False)"
   ]
  },
  {
   "cell_type": "code",
   "execution_count": 283,
   "metadata": {},
   "outputs": [],
   "source": [
    "# Reset the index for new df\n",
    "#df_from_xlsx_total = df_from_xlsx_total.reset_index() "
   ]
  },
  {
   "cell_type": "code",
   "execution_count": 284,
   "metadata": {},
   "outputs": [],
   "source": [
    "#df_from_xlsx_total.head()"
   ]
  },
  {
   "cell_type": "code",
   "execution_count": 285,
   "metadata": {},
   "outputs": [],
   "source": [
    "#Filter: Columns that start with ...\n",
    "#filtro_borrar = [col for col in df_from_xlsx_total if col.startswith('BORRAR')]\n",
    "##filtro_index = [col for col in df_from_xlsx_total if col.startswith('index')]\n",
    "# Delete surplus columns\n",
    "#df_from_xlsx_total = df_from_xlsx_total.drop(columns=filtro_borrar)\n",
    "##df_from_xlsx_total = df_from_xlsx_total.drop(columns=filtro_index)"
   ]
  },
  {
   "cell_type": "code",
   "execution_count": 286,
   "metadata": {},
   "outputs": [],
   "source": [
    "#df_from_xlsx_total.head(1)"
   ]
  },
  {
   "cell_type": "code",
   "execution_count": 287,
   "metadata": {},
   "outputs": [],
   "source": [
    "#df_from_xlsx_total.tail(1)"
   ]
  },
  {
   "cell_type": "code",
   "execution_count": 72,
   "metadata": {},
   "outputs": [],
   "source": [
    "# Rating data"
   ]
  },
  {
   "cell_type": "code",
   "execution_count": 288,
   "metadata": {},
   "outputs": [],
   "source": [
    "#df_from_xlsx_total[\"ESTADO\"][0]"
   ]
  },
  {
   "cell_type": "code",
   "execution_count": 289,
   "metadata": {},
   "outputs": [],
   "source": [
    "#df_from_xlsx_total[\"ESTADO\"][306182]"
   ]
  },
  {
   "cell_type": "code",
   "execution_count": 290,
   "metadata": {},
   "outputs": [],
   "source": [
    "#type(df_from_xlsx_total[\"ESTADO\"])"
   ]
  },
  {
   "cell_type": "code",
   "execution_count": 291,
   "metadata": {},
   "outputs": [
    {
     "data": {
      "text/plain": [
       "(306183, 7)"
      ]
     },
     "execution_count": 291,
     "metadata": {},
     "output_type": "execute_result"
    }
   ],
   "source": [
    "df_from_xlsx_total.shape"
   ]
  },
  {
   "cell_type": "code",
   "execution_count": 292,
   "metadata": {},
   "outputs": [
    {
     "data": {
      "text/plain": [
       "66712"
      ]
     },
     "execution_count": 292,
     "metadata": {},
     "output_type": "execute_result"
    }
   ],
   "source": [
    "df_from_xlsx_total.duplicated().sum()"
   ]
  },
  {
   "cell_type": "code",
   "execution_count": 293,
   "metadata": {},
   "outputs": [
    {
     "data": {
      "text/html": [
       "<div>\n",
       "<style scoped>\n",
       "    .dataframe tbody tr th:only-of-type {\n",
       "        vertical-align: middle;\n",
       "    }\n",
       "\n",
       "    .dataframe tbody tr th {\n",
       "        vertical-align: top;\n",
       "    }\n",
       "\n",
       "    .dataframe thead th {\n",
       "        text-align: right;\n",
       "    }\n",
       "</style>\n",
       "<table border=\"1\" class=\"dataframe\">\n",
       "  <thead>\n",
       "    <tr style=\"text-align: right;\">\n",
       "      <th></th>\n",
       "      <th>ESTADO</th>\n",
       "      <th>CONDADO</th>\n",
       "      <th>ORGANIZACION</th>\n",
       "      <th>TIPO_PLAN_GENERICO_MEDICARE</th>\n",
       "      <th>PRIMA_MENSUAL_CONSOLIDADA</th>\n",
       "      <th>DESEMBOLSO_MAXIMO</th>\n",
       "      <th>CLASIFICACION</th>\n",
       "    </tr>\n",
       "  </thead>\n",
       "  <tbody>\n",
       "    <tr>\n",
       "      <th>0</th>\n",
       "      <td>Alabama</td>\n",
       "      <td>Autauga</td>\n",
       "      <td>UnitedHealthcare</td>\n",
       "      <td>HMO</td>\n",
       "      <td>0.0</td>\n",
       "      <td>4450.0</td>\n",
       "      <td>2.5</td>\n",
       "    </tr>\n",
       "    <tr>\n",
       "      <th>1</th>\n",
       "      <td>Alabama</td>\n",
       "      <td>Autauga</td>\n",
       "      <td>Blue Cross and Blue Shield of Alabama</td>\n",
       "      <td>PPO</td>\n",
       "      <td>99.0</td>\n",
       "      <td>3400.0</td>\n",
       "      <td>2.5</td>\n",
       "    </tr>\n",
       "    <tr>\n",
       "      <th>2</th>\n",
       "      <td>Alabama</td>\n",
       "      <td>Autauga</td>\n",
       "      <td>Blue Cross and Blue Shield of Alabama</td>\n",
       "      <td>PPO</td>\n",
       "      <td>199.0</td>\n",
       "      <td>3400.0</td>\n",
       "      <td>2.5</td>\n",
       "    </tr>\n",
       "    <tr>\n",
       "      <th>3</th>\n",
       "      <td>Alabama</td>\n",
       "      <td>Autauga</td>\n",
       "      <td>Healthspring of Alabama, Inc.</td>\n",
       "      <td>HMO</td>\n",
       "      <td>0.0</td>\n",
       "      <td>3400.0</td>\n",
       "      <td>3</td>\n",
       "    </tr>\n",
       "    <tr>\n",
       "      <th>4</th>\n",
       "      <td>Alabama</td>\n",
       "      <td>Autauga</td>\n",
       "      <td>Healthspring of Alabama, Inc.</td>\n",
       "      <td>HMO</td>\n",
       "      <td>0.0</td>\n",
       "      <td>3400.0</td>\n",
       "      <td>3</td>\n",
       "    </tr>\n",
       "  </tbody>\n",
       "</table>\n",
       "</div>"
      ],
      "text/plain": [
       "    ESTADO  CONDADO                           ORGANIZACION  \\\n",
       "0  Alabama  Autauga                       UnitedHealthcare   \n",
       "1  Alabama  Autauga  Blue Cross and Blue Shield of Alabama   \n",
       "2  Alabama  Autauga  Blue Cross and Blue Shield of Alabama   \n",
       "3  Alabama  Autauga          Healthspring of Alabama, Inc.   \n",
       "4  Alabama  Autauga          Healthspring of Alabama, Inc.   \n",
       "\n",
       "  TIPO_PLAN_GENERICO_MEDICARE  PRIMA_MENSUAL_CONSOLIDADA  DESEMBOLSO_MAXIMO  \\\n",
       "0                         HMO                        0.0             4450.0   \n",
       "1                         PPO                       99.0             3400.0   \n",
       "2                         PPO                      199.0             3400.0   \n",
       "3                         HMO                        0.0             3400.0   \n",
       "4                         HMO                        0.0             3400.0   \n",
       "\n",
       "  CLASIFICACION  \n",
       "0           2.5  \n",
       "1           2.5  \n",
       "2           2.5  \n",
       "3             3  \n",
       "4             3  "
      ]
     },
     "execution_count": 293,
     "metadata": {},
     "output_type": "execute_result"
    }
   ],
   "source": [
    "df_from_xlsx_total.head()"
   ]
  },
  {
   "cell_type": "code",
   "execution_count": 294,
   "metadata": {},
   "outputs": [
    {
     "data": {
      "text/plain": [
       "306183"
      ]
     },
     "execution_count": 294,
     "metadata": {},
     "output_type": "execute_result"
    }
   ],
   "source": [
    "len(df_from_xlsx_total.index)"
   ]
  },
  {
   "cell_type": "markdown",
   "metadata": {},
   "source": [
    "### Save to file: ../03_Presentation/02_OUT_csv_filesexport_datos_ratings.csv"
   ]
  },
  {
   "cell_type": "code",
   "execution_count": 72,
   "metadata": {},
   "outputs": [
    {
     "name": "stdout",
     "output_type": "stream",
     "text": [
      "/home/dsc/Repos/TFM_Categorize_providers_based_on_descriptions_of_the_drug_plans/01_Original_data\r\n"
     ]
    }
   ],
   "source": [
    "!pwd"
   ]
  },
  {
   "cell_type": "code",
   "execution_count": 295,
   "metadata": {},
   "outputs": [],
   "source": [
    "df_from_xlsx_total.to_csv(\"../03_Presentation/02_OUT_csv_filesexport_datos_ratings.csv\", index=False)"
   ]
  },
  {
   "cell_type": "code",
   "execution_count": 296,
   "metadata": {},
   "outputs": [
    {
     "name": "stdout",
     "output_type": "stream",
     "text": [
      "-rw-rw-r-- 1 dsc dsc 18348646 ene  2 20:14 ../03_Presentation/02_OUT_csv_filesexport_datos_ratings.csv\r\n"
     ]
    }
   ],
   "source": [
    "!ls -ltr ../03*/02_OUT*"
   ]
  },
  {
   "cell_type": "code",
   "execution_count": 297,
   "metadata": {},
   "outputs": [
    {
     "name": "stdout",
     "output_type": "stream",
     "text": [
      "<class 'pandas.core.frame.DataFrame'>\n",
      "Int64Index: 306183 entries, 0 to 23403\n",
      "Data columns (total 7 columns):\n",
      "ESTADO                         306183 non-null object\n",
      "CONDADO                        306183 non-null object\n",
      "ORGANIZACION                   306183 non-null object\n",
      "TIPO_PLAN_GENERICO_MEDICARE    306183 non-null object\n",
      "PRIMA_MENSUAL_CONSOLIDADA      306183 non-null float64\n",
      "DESEMBOLSO_MAXIMO              306183 non-null float64\n",
      "CLASIFICACION                  306183 non-null object\n",
      "dtypes: float64(2), object(5)\n",
      "memory usage: 18.7+ MB\n"
     ]
    }
   ],
   "source": [
    "df_from_xlsx_total.info()"
   ]
  },
  {
   "cell_type": "code",
   "execution_count": 298,
   "metadata": {},
   "outputs": [],
   "source": [
    "#df_from_xlsx_total.groupby('ESTADO').size()"
   ]
  },
  {
   "cell_type": "code",
   "execution_count": 299,
   "metadata": {},
   "outputs": [],
   "source": [
    "# Load library for work and analitics data in ML\n",
    "import pandas as pd\n",
    "import numpy as np\n",
    "from sklearn import linear_model\n",
    "from sklearn import model_selection\n",
    "from sklearn.metrics import classification_report\n",
    "from sklearn.metrics import confusion_matrix\n",
    "from sklearn.metrics import accuracy_score\n",
    "import matplotlib.pyplot as plt\n",
    "import seaborn as sb\n",
    "%matplotlib inline"
   ]
  },
  {
   "cell_type": "code",
   "execution_count": 300,
   "metadata": {},
   "outputs": [],
   "source": [
    "#inicio"
   ]
  },
  {
   "cell_type": "code",
   "execution_count": 301,
   "metadata": {},
   "outputs": [],
   "source": [
    "# Review how many rows are there according to \"RATING\", how central variable."
   ]
  },
  {
   "cell_type": "code",
   "execution_count": 302,
   "metadata": {},
   "outputs": [
    {
     "data": {
      "text/plain": [
       "Index(['ESTADO', 'CONDADO', 'ORGANIZACION', 'TIPO_PLAN_GENERICO_MEDICARE',\n",
       "       'PRIMA_MENSUAL_CONSOLIDADA', 'DESEMBOLSO_MAXIMO', 'CLASIFICACION'],\n",
       "      dtype='object')"
      ]
     },
     "execution_count": 302,
     "metadata": {},
     "output_type": "execute_result"
    }
   ],
   "source": [
    "df_from_xlsx_total.columns"
   ]
  },
  {
   "cell_type": "code",
   "execution_count": 303,
   "metadata": {},
   "outputs": [],
   "source": [
    "# Draw the columns individually by grouped size counter and per pairs"
   ]
  },
  {
   "cell_type": "code",
   "execution_count": 304,
   "metadata": {},
   "outputs": [],
   "source": [
    "#sb.catplot('STATE',data=df_from_xlsx_total,kind=\"count\")"
   ]
  },
  {
   "cell_type": "code",
   "execution_count": 306,
   "metadata": {},
   "outputs": [],
   "source": [
    "#sb.catplot('STATE',data=df_from_xlsx_total,hue='RATING',kind=\"count\")"
   ]
  },
  {
   "cell_type": "code",
   "execution_count": 124,
   "metadata": {},
   "outputs": [],
   "source": [
    "# Draw some dispersion graph for columns pairs to visualize the lack of information"
   ]
  },
  {
   "cell_type": "code",
   "execution_count": 307,
   "metadata": {},
   "outputs": [],
   "source": [
    "#plt.scatter(df_from_xlsx_total['RATING'].values, df_from_xlsx_total['STATE'].values)\n",
    "#plt.show()"
   ]
  },
  {
   "cell_type": "code",
   "execution_count": 81,
   "metadata": {},
   "outputs": [],
   "source": [
    "# Data mapping"
   ]
  },
  {
   "cell_type": "code",
   "execution_count": 308,
   "metadata": {},
   "outputs": [],
   "source": [
    "df_ratings_lab_ohe = df_from_xlsx_total.reset_index(drop=True).copy()"
   ]
  },
  {
   "cell_type": "code",
   "execution_count": 65,
   "metadata": {},
   "outputs": [],
   "source": [
    "#df_ratings_lab_ohe = df_from_xlsx_total.copy()"
   ]
  },
  {
   "cell_type": "code",
   "execution_count": 309,
   "metadata": {},
   "outputs": [
    {
     "data": {
      "text/html": [
       "<div>\n",
       "<style scoped>\n",
       "    .dataframe tbody tr th:only-of-type {\n",
       "        vertical-align: middle;\n",
       "    }\n",
       "\n",
       "    .dataframe tbody tr th {\n",
       "        vertical-align: top;\n",
       "    }\n",
       "\n",
       "    .dataframe thead th {\n",
       "        text-align: right;\n",
       "    }\n",
       "</style>\n",
       "<table border=\"1\" class=\"dataframe\">\n",
       "  <thead>\n",
       "    <tr style=\"text-align: right;\">\n",
       "      <th></th>\n",
       "      <th>ESTADO</th>\n",
       "      <th>CONDADO</th>\n",
       "      <th>ORGANIZACION</th>\n",
       "      <th>TIPO_PLAN_GENERICO_MEDICARE</th>\n",
       "      <th>PRIMA_MENSUAL_CONSOLIDADA</th>\n",
       "      <th>DESEMBOLSO_MAXIMO</th>\n",
       "      <th>CLASIFICACION</th>\n",
       "    </tr>\n",
       "  </thead>\n",
       "  <tbody>\n",
       "    <tr>\n",
       "      <th>0</th>\n",
       "      <td>Alabama</td>\n",
       "      <td>Autauga</td>\n",
       "      <td>UnitedHealthcare</td>\n",
       "      <td>HMO</td>\n",
       "      <td>0.0</td>\n",
       "      <td>4450.0</td>\n",
       "      <td>2.5</td>\n",
       "    </tr>\n",
       "  </tbody>\n",
       "</table>\n",
       "</div>"
      ],
      "text/plain": [
       "    ESTADO  CONDADO      ORGANIZACION TIPO_PLAN_GENERICO_MEDICARE  \\\n",
       "0  Alabama  Autauga  UnitedHealthcare                         HMO   \n",
       "\n",
       "   PRIMA_MENSUAL_CONSOLIDADA  DESEMBOLSO_MAXIMO CLASIFICACION  \n",
       "0                        0.0             4450.0           2.5  "
      ]
     },
     "execution_count": 309,
     "metadata": {},
     "output_type": "execute_result"
    }
   ],
   "source": [
    "df_ratings_lab_ohe.head(1)"
   ]
  },
  {
   "cell_type": "code",
   "execution_count": 310,
   "metadata": {},
   "outputs": [
    {
     "data": {
      "text/plain": [
       "Index(['ESTADO', 'CONDADO', 'ORGANIZACION', 'TIPO_PLAN_GENERICO_MEDICARE',\n",
       "       'PRIMA_MENSUAL_CONSOLIDADA', 'DESEMBOLSO_MAXIMO', 'CLASIFICACION'],\n",
       "      dtype='object')"
      ]
     },
     "execution_count": 310,
     "metadata": {},
     "output_type": "execute_result"
    }
   ],
   "source": [
    "df_ratings_lab_ohe.columns"
   ]
  },
  {
   "cell_type": "code",
   "execution_count": 311,
   "metadata": {},
   "outputs": [
    {
     "data": {
      "text/plain": [
       "ESTADO                          object\n",
       "CONDADO                         object\n",
       "ORGANIZACION                    object\n",
       "TIPO_PLAN_GENERICO_MEDICARE     object\n",
       "PRIMA_MENSUAL_CONSOLIDADA      float64\n",
       "DESEMBOLSO_MAXIMO              float64\n",
       "CLASIFICACION                   object\n",
       "dtype: object"
      ]
     },
     "execution_count": 311,
     "metadata": {},
     "output_type": "execute_result"
    }
   ],
   "source": [
    "df_ratings_lab_ohe.dtypes"
   ]
  },
  {
   "cell_type": "code",
   "execution_count": 312,
   "metadata": {},
   "outputs": [
    {
     "data": {
      "text/plain": [
       "ESTADO                          object\n",
       "CONDADO                         object\n",
       "ORGANIZACION                    object\n",
       "TIPO_PLAN_GENERICO_MEDICARE     object\n",
       "PRIMA_MENSUAL_CONSOLIDADA      float64\n",
       "DESEMBOLSO_MAXIMO              float64\n",
       "CLASIFICACION                   object\n",
       "dtype: object"
      ]
     },
     "execution_count": 312,
     "metadata": {},
     "output_type": "execute_result"
    }
   ],
   "source": [
    "df_ratings_lab_ohe.dtypes"
   ]
  },
  {
   "cell_type": "code",
   "execution_count": 313,
   "metadata": {},
   "outputs": [
    {
     "data": {
      "text/html": [
       "<div>\n",
       "<style scoped>\n",
       "    .dataframe tbody tr th:only-of-type {\n",
       "        vertical-align: middle;\n",
       "    }\n",
       "\n",
       "    .dataframe tbody tr th {\n",
       "        vertical-align: top;\n",
       "    }\n",
       "\n",
       "    .dataframe thead th {\n",
       "        text-align: right;\n",
       "    }\n",
       "</style>\n",
       "<table border=\"1\" class=\"dataframe\">\n",
       "  <thead>\n",
       "    <tr style=\"text-align: right;\">\n",
       "      <th></th>\n",
       "      <th>ESTADO</th>\n",
       "      <th>CONDADO</th>\n",
       "      <th>ORGANIZACION</th>\n",
       "      <th>TIPO_PLAN_GENERICO_MEDICARE</th>\n",
       "      <th>PRIMA_MENSUAL_CONSOLIDADA</th>\n",
       "      <th>DESEMBOLSO_MAXIMO</th>\n",
       "      <th>CLASIFICACION</th>\n",
       "    </tr>\n",
       "  </thead>\n",
       "  <tbody>\n",
       "    <tr>\n",
       "      <th>0</th>\n",
       "      <td>Alabama</td>\n",
       "      <td>Autauga</td>\n",
       "      <td>UnitedHealthcare</td>\n",
       "      <td>HMO</td>\n",
       "      <td>0.0</td>\n",
       "      <td>4450.0</td>\n",
       "      <td>2.5</td>\n",
       "    </tr>\n",
       "    <tr>\n",
       "      <th>1</th>\n",
       "      <td>Alabama</td>\n",
       "      <td>Autauga</td>\n",
       "      <td>Blue Cross and Blue Shield of Alabama</td>\n",
       "      <td>PPO</td>\n",
       "      <td>99.0</td>\n",
       "      <td>3400.0</td>\n",
       "      <td>2.5</td>\n",
       "    </tr>\n",
       "    <tr>\n",
       "      <th>2</th>\n",
       "      <td>Alabama</td>\n",
       "      <td>Autauga</td>\n",
       "      <td>Blue Cross and Blue Shield of Alabama</td>\n",
       "      <td>PPO</td>\n",
       "      <td>199.0</td>\n",
       "      <td>3400.0</td>\n",
       "      <td>2.5</td>\n",
       "    </tr>\n",
       "  </tbody>\n",
       "</table>\n",
       "</div>"
      ],
      "text/plain": [
       "    ESTADO  CONDADO                           ORGANIZACION  \\\n",
       "0  Alabama  Autauga                       UnitedHealthcare   \n",
       "1  Alabama  Autauga  Blue Cross and Blue Shield of Alabama   \n",
       "2  Alabama  Autauga  Blue Cross and Blue Shield of Alabama   \n",
       "\n",
       "  TIPO_PLAN_GENERICO_MEDICARE  PRIMA_MENSUAL_CONSOLIDADA  DESEMBOLSO_MAXIMO  \\\n",
       "0                         HMO                        0.0             4450.0   \n",
       "1                         PPO                       99.0             3400.0   \n",
       "2                         PPO                      199.0             3400.0   \n",
       "\n",
       "  CLASIFICACION  \n",
       "0           2.5  \n",
       "1           2.5  \n",
       "2           2.5  "
      ]
     },
     "execution_count": 313,
     "metadata": {},
     "output_type": "execute_result"
    }
   ],
   "source": [
    "df_ratings_lab_ohe.head(3)"
   ]
  },
  {
   "cell_type": "code",
   "execution_count": 314,
   "metadata": {},
   "outputs": [
    {
     "data": {
      "text/plain": [
       "array(['2.5', '3', 'NO_ASIGNADO', '3.5', '4', '4.5', '5', '2', '0'],\n",
       "      dtype=object)"
      ]
     },
     "execution_count": 314,
     "metadata": {},
     "output_type": "execute_result"
    }
   ],
   "source": [
    "# Check UNIQUE values\n",
    "df_ratings_lab_ohe['CLASIFICACION'].unique()"
   ]
  },
  {
   "cell_type": "code",
   "execution_count": 315,
   "metadata": {},
   "outputs": [
    {
     "data": {
      "text/plain": [
       "ESTADO                         0\n",
       "CONDADO                        0\n",
       "ORGANIZACION                   0\n",
       "TIPO_PLAN_GENERICO_MEDICARE    0\n",
       "PRIMA_MENSUAL_CONSOLIDADA      0\n",
       "DESEMBOLSO_MAXIMO              0\n",
       "CLASIFICACION                  0\n",
       "dtype: int64"
      ]
     },
     "execution_count": 315,
     "metadata": {},
     "output_type": "execute_result"
    }
   ],
   "source": [
    "# Check NULL values\n",
    "df_ratings_lab_ohe.isnull().sum()"
   ]
  },
  {
   "cell_type": "code",
   "execution_count": 316,
   "metadata": {},
   "outputs": [],
   "source": [
    "# Create sample for new dataframe with OneHotEncoder"
   ]
  },
  {
   "cell_type": "code",
   "execution_count": 317,
   "metadata": {},
   "outputs": [],
   "source": [
    "df_ratings_lab_ohe_sample = df_ratings_lab_ohe.sample(n=10000).reset_index(drop=True)"
   ]
  },
  {
   "cell_type": "code",
   "execution_count": 318,
   "metadata": {},
   "outputs": [
    {
     "data": {
      "text/plain": [
       "Index(['ESTADO', 'CONDADO', 'ORGANIZACION', 'TIPO_PLAN_GENERICO_MEDICARE',\n",
       "       'PRIMA_MENSUAL_CONSOLIDADA', 'DESEMBOLSO_MAXIMO', 'CLASIFICACION'],\n",
       "      dtype='object')"
      ]
     },
     "execution_count": 318,
     "metadata": {},
     "output_type": "execute_result"
    }
   ],
   "source": [
    "df_ratings_lab_ohe_sample.columns"
   ]
  },
  {
   "cell_type": "code",
   "execution_count": 319,
   "metadata": {},
   "outputs": [
    {
     "data": {
      "text/html": [
       "<div>\n",
       "<style scoped>\n",
       "    .dataframe tbody tr th:only-of-type {\n",
       "        vertical-align: middle;\n",
       "    }\n",
       "\n",
       "    .dataframe tbody tr th {\n",
       "        vertical-align: top;\n",
       "    }\n",
       "\n",
       "    .dataframe thead th {\n",
       "        text-align: right;\n",
       "    }\n",
       "</style>\n",
       "<table border=\"1\" class=\"dataframe\">\n",
       "  <thead>\n",
       "    <tr style=\"text-align: right;\">\n",
       "      <th></th>\n",
       "      <th>ESTADO</th>\n",
       "      <th>CONDADO</th>\n",
       "      <th>ORGANIZACION</th>\n",
       "      <th>TIPO_PLAN_GENERICO_MEDICARE</th>\n",
       "      <th>PRIMA_MENSUAL_CONSOLIDADA</th>\n",
       "      <th>DESEMBOLSO_MAXIMO</th>\n",
       "      <th>CLASIFICACION</th>\n",
       "    </tr>\n",
       "  </thead>\n",
       "  <tbody>\n",
       "    <tr>\n",
       "      <th>0</th>\n",
       "      <td>Puerto Rico</td>\n",
       "      <td>Manati</td>\n",
       "      <td>MCS Classicare</td>\n",
       "      <td>HMO</td>\n",
       "      <td>0.0</td>\n",
       "      <td>3400.0</td>\n",
       "      <td>4.5</td>\n",
       "    </tr>\n",
       "  </tbody>\n",
       "</table>\n",
       "</div>"
      ],
      "text/plain": [
       "        ESTADO CONDADO    ORGANIZACION TIPO_PLAN_GENERICO_MEDICARE  \\\n",
       "0  Puerto Rico  Manati  MCS Classicare                         HMO   \n",
       "\n",
       "   PRIMA_MENSUAL_CONSOLIDADA  DESEMBOLSO_MAXIMO CLASIFICACION  \n",
       "0                        0.0             3400.0           4.5  "
      ]
     },
     "execution_count": 319,
     "metadata": {},
     "output_type": "execute_result"
    }
   ],
   "source": [
    "df_ratings_lab_ohe_sample.head(1)"
   ]
  },
  {
   "cell_type": "code",
   "execution_count": 320,
   "metadata": {},
   "outputs": [
    {
     "data": {
      "text/plain": [
       "ESTADO                          object\n",
       "CONDADO                         object\n",
       "ORGANIZACION                    object\n",
       "TIPO_PLAN_GENERICO_MEDICARE     object\n",
       "PRIMA_MENSUAL_CONSOLIDADA      float64\n",
       "DESEMBOLSO_MAXIMO              float64\n",
       "CLASIFICACION                   object\n",
       "dtype: object"
      ]
     },
     "execution_count": 320,
     "metadata": {},
     "output_type": "execute_result"
    }
   ],
   "source": [
    "df_ratings_lab_ohe_sample.dtypes"
   ]
  },
  {
   "cell_type": "code",
   "execution_count": 321,
   "metadata": {},
   "outputs": [
    {
     "data": {
      "text/plain": [
       "ESTADO                         0\n",
       "CONDADO                        0\n",
       "ORGANIZACION                   0\n",
       "TIPO_PLAN_GENERICO_MEDICARE    0\n",
       "PRIMA_MENSUAL_CONSOLIDADA      0\n",
       "DESEMBOLSO_MAXIMO              0\n",
       "CLASIFICACION                  0\n",
       "dtype: int64"
      ]
     },
     "execution_count": 321,
     "metadata": {},
     "output_type": "execute_result"
    }
   ],
   "source": [
    "# Check NULL values\n",
    "df_ratings_lab_ohe_sample.isnull().sum()"
   ]
  },
  {
   "cell_type": "code",
   "execution_count": 322,
   "metadata": {},
   "outputs": [
    {
     "data": {
      "text/plain": [
       "ESTADO                         10000\n",
       "CONDADO                        10000\n",
       "ORGANIZACION                   10000\n",
       "TIPO_PLAN_GENERICO_MEDICARE    10000\n",
       "PRIMA_MENSUAL_CONSOLIDADA      10000\n",
       "DESEMBOLSO_MAXIMO              10000\n",
       "CLASIFICACION                  10000\n",
       "dtype: int64"
      ]
     },
     "execution_count": 322,
     "metadata": {},
     "output_type": "execute_result"
    }
   ],
   "source": [
    "df_ratings_lab_ohe_sample.count()"
   ]
  },
  {
   "cell_type": "code",
   "execution_count": 323,
   "metadata": {},
   "outputs": [
    {
     "data": {
      "text/html": [
       "<div>\n",
       "<style scoped>\n",
       "    .dataframe tbody tr th:only-of-type {\n",
       "        vertical-align: middle;\n",
       "    }\n",
       "\n",
       "    .dataframe tbody tr th {\n",
       "        vertical-align: top;\n",
       "    }\n",
       "\n",
       "    .dataframe thead th {\n",
       "        text-align: right;\n",
       "    }\n",
       "</style>\n",
       "<table border=\"1\" class=\"dataframe\">\n",
       "  <thead>\n",
       "    <tr style=\"text-align: right;\">\n",
       "      <th></th>\n",
       "      <th>ESTADO</th>\n",
       "      <th>CONDADO</th>\n",
       "      <th>ORGANIZACION</th>\n",
       "      <th>TIPO_PLAN_GENERICO_MEDICARE</th>\n",
       "      <th>PRIMA_MENSUAL_CONSOLIDADA</th>\n",
       "      <th>DESEMBOLSO_MAXIMO</th>\n",
       "      <th>CLASIFICACION</th>\n",
       "    </tr>\n",
       "  </thead>\n",
       "  <tbody>\n",
       "    <tr>\n",
       "      <th>0</th>\n",
       "      <td>Puerto Rico</td>\n",
       "      <td>Manati</td>\n",
       "      <td>MCS Classicare</td>\n",
       "      <td>HMO</td>\n",
       "      <td>0.0</td>\n",
       "      <td>3400.0</td>\n",
       "      <td>4.5</td>\n",
       "    </tr>\n",
       "  </tbody>\n",
       "</table>\n",
       "</div>"
      ],
      "text/plain": [
       "        ESTADO CONDADO    ORGANIZACION TIPO_PLAN_GENERICO_MEDICARE  \\\n",
       "0  Puerto Rico  Manati  MCS Classicare                         HMO   \n",
       "\n",
       "   PRIMA_MENSUAL_CONSOLIDADA  DESEMBOLSO_MAXIMO CLASIFICACION  \n",
       "0                        0.0             3400.0           4.5  "
      ]
     },
     "metadata": {},
     "output_type": "display_data"
    }
   ],
   "source": [
    "# Dont limit column display\n",
    "import pandas as pd\n",
    "from IPython.display import display\n",
    "\n",
    "pd.options.display.max_columns = None\n",
    "display(df_ratings_lab_ohe_sample.head(1))"
   ]
  },
  {
   "cell_type": "code",
   "execution_count": 324,
   "metadata": {},
   "outputs": [
    {
     "data": {
      "text/plain": [
       "Index(['ESTADO', 'CONDADO', 'ORGANIZACION', 'TIPO_PLAN_GENERICO_MEDICARE',\n",
       "       'PRIMA_MENSUAL_CONSOLIDADA', 'DESEMBOLSO_MAXIMO', 'CLASIFICACION'],\n",
       "      dtype='object')"
      ]
     },
     "metadata": {},
     "output_type": "display_data"
    }
   ],
   "source": [
    "display(df_ratings_lab_ohe_sample.columns)"
   ]
  },
  {
   "cell_type": "code",
   "execution_count": 325,
   "metadata": {},
   "outputs": [
    {
     "name": "stdout",
     "output_type": "stream",
     "text": [
      "None\n"
     ]
    }
   ],
   "source": [
    "print(pd.options.display.max_columns)"
   ]
  },
  {
   "cell_type": "code",
   "execution_count": 326,
   "metadata": {},
   "outputs": [
    {
     "name": "stdout",
     "output_type": "stream",
     "text": [
      "60\n"
     ]
    }
   ],
   "source": [
    "print(pd.options.display.max_rows)"
   ]
  },
  {
   "cell_type": "code",
   "execution_count": 327,
   "metadata": {},
   "outputs": [
    {
     "data": {
      "text/html": [
       "<div>\n",
       "<style scoped>\n",
       "    .dataframe tbody tr th:only-of-type {\n",
       "        vertical-align: middle;\n",
       "    }\n",
       "\n",
       "    .dataframe tbody tr th {\n",
       "        vertical-align: top;\n",
       "    }\n",
       "\n",
       "    .dataframe thead th {\n",
       "        text-align: right;\n",
       "    }\n",
       "</style>\n",
       "<table border=\"1\" class=\"dataframe\">\n",
       "  <thead>\n",
       "    <tr style=\"text-align: right;\">\n",
       "      <th></th>\n",
       "      <th>ESTADO</th>\n",
       "      <th>CONDADO</th>\n",
       "      <th>ORGANIZACION</th>\n",
       "      <th>TIPO_PLAN_GENERICO_MEDICARE</th>\n",
       "      <th>PRIMA_MENSUAL_CONSOLIDADA</th>\n",
       "      <th>DESEMBOLSO_MAXIMO</th>\n",
       "      <th>CLASIFICACION</th>\n",
       "    </tr>\n",
       "  </thead>\n",
       "  <tbody>\n",
       "    <tr>\n",
       "      <th>0</th>\n",
       "      <td>Puerto Rico</td>\n",
       "      <td>Manati</td>\n",
       "      <td>MCS Classicare</td>\n",
       "      <td>HMO</td>\n",
       "      <td>0.0</td>\n",
       "      <td>3400.0</td>\n",
       "      <td>4.5</td>\n",
       "    </tr>\n",
       "  </tbody>\n",
       "</table>\n",
       "</div>"
      ],
      "text/plain": [
       "        ESTADO CONDADO    ORGANIZACION TIPO_PLAN_GENERICO_MEDICARE  \\\n",
       "0  Puerto Rico  Manati  MCS Classicare                         HMO   \n",
       "\n",
       "   PRIMA_MENSUAL_CONSOLIDADA  DESEMBOLSO_MAXIMO CLASIFICACION  \n",
       "0                        0.0             3400.0           4.5  "
      ]
     },
     "execution_count": 327,
     "metadata": {},
     "output_type": "execute_result"
    }
   ],
   "source": [
    "df_ratings_lab_ohe_sample[0:1]"
   ]
  },
  {
   "cell_type": "code",
   "execution_count": 343,
   "metadata": {},
   "outputs": [],
   "source": [
    "df_ratings_lab_ohe_sample[\"ESTADO\"] = df_ratings_lab_ohe_sample[\"ESTADO\"].astype(np.str)\n",
    "df_ratings_lab_ohe_sample[\"CONDADO\"] = df_ratings_lab_ohe_sample[\"CONDADO\"].astype(np.str)\n",
    "df_ratings_lab_ohe_sample[\"ORGANIZACION\"] = df_ratings_lab_ohe_sample[\"ORGANIZACION\"].astype(np.str)\n",
    "df_ratings_lab_ohe_sample[\"TIPO_PLAN_GENERICO_MEDICARE\"] = df_ratings_lab_ohe_sample[\"TIPO_PLAN_GENERICO_MEDICARE\"].astype(np.str)\n",
    "df_ratings_lab_ohe_sample[\"PRIMA_MENSUAL_CONSOLIDADA\"] = df_ratings_lab_ohe_sample[\"PRIMA_MENSUAL_CONSOLIDADA\"].astype(np.float64)\n",
    "df_ratings_lab_ohe_sample[\"DESEMBOLSO_MAXIMO\"] = df_ratings_lab_ohe_sample[\"DESEMBOLSO_MAXIMO\"].astype(np.float64)\n",
    "df_ratings_lab_ohe_sample[\"CLASIFICACION\"] = df_ratings_lab_ohe_sample[\"CLASIFICACION\"].astype(np.str)"
   ]
  },
  {
   "cell_type": "markdown",
   "metadata": {},
   "source": [
    "# Data Preparation"
   ]
  },
  {
   "cell_type": "code",
   "execution_count": 344,
   "metadata": {},
   "outputs": [
    {
     "data": {
      "text/plain": [
       "(10000, 6)"
      ]
     },
     "execution_count": 344,
     "metadata": {},
     "output_type": "execute_result"
    }
   ],
   "source": [
    "# Load variables with sample data\n",
    "X = np.array(df_ratings_lab_ohe_sample.drop('CLASIFICACION', 1))\n",
    "y = np.array(df_ratings_lab_ohe_sample[\"CLASIFICACION\"])\n",
    "X.shape"
   ]
  },
  {
   "cell_type": "code",
   "execution_count": 345,
   "metadata": {},
   "outputs": [
    {
     "data": {
      "text/plain": [
       "ESTADO                          object\n",
       "CONDADO                         object\n",
       "ORGANIZACION                    object\n",
       "TIPO_PLAN_GENERICO_MEDICARE     object\n",
       "PRIMA_MENSUAL_CONSOLIDADA      float64\n",
       "DESEMBOLSO_MAXIMO              float64\n",
       "CLASIFICACION                   object\n",
       "dtype: object"
      ]
     },
     "execution_count": 345,
     "metadata": {},
     "output_type": "execute_result"
    }
   ],
   "source": [
    "df_ratings_lab_ohe_sample.dtypes"
   ]
  },
  {
   "cell_type": "code",
   "execution_count": 346,
   "metadata": {},
   "outputs": [],
   "source": [
    "# Train-test split and load the library\n",
    "from sklearn.model_selection import train_test_split\n",
    "# Create 2 groups each with input and labels\n",
    "X_train, X_test, y_train, y_test = train_test_split(X, y, test_size=0.20)"
   ]
  },
  {
   "cell_type": "code",
   "execution_count": 347,
   "metadata": {},
   "outputs": [],
   "source": [
    "from sklearn.preprocessing import OneHotEncoder"
   ]
  },
  {
   "cell_type": "code",
   "execution_count": 348,
   "metadata": {},
   "outputs": [
    {
     "data": {
      "text/plain": [
       "OneHotEncoder(categorical_features=None, categories=None, drop=None,\n",
       "              dtype=<class 'numpy.float64'>, handle_unknown='ignore',\n",
       "              n_values=None, sparse=True)"
      ]
     },
     "execution_count": 348,
     "metadata": {},
     "output_type": "execute_result"
    }
   ],
   "source": [
    "# Create the encoder.\n",
    "encoder = OneHotEncoder(handle_unknown=\"ignore\")\n",
    "encoder.fit(X_train)    # Assume for simplicity all features are categorical."
   ]
  },
  {
   "cell_type": "code",
   "execution_count": 349,
   "metadata": {},
   "outputs": [],
   "source": [
    "# Apply the encoder.\n",
    "X_train = encoder.transform(X_train)\n",
    "X_test = encoder.transform(X_test)"
   ]
  },
  {
   "cell_type": "code",
   "execution_count": 350,
   "metadata": {},
   "outputs": [
    {
     "data": {
      "text/plain": [
       "(10000, 6)"
      ]
     },
     "execution_count": 350,
     "metadata": {},
     "output_type": "execute_result"
    }
   ],
   "source": [
    "X.shape"
   ]
  },
  {
   "cell_type": "code",
   "execution_count": 351,
   "metadata": {},
   "outputs": [
    {
     "data": {
      "text/plain": [
       "(8000, 2654)"
      ]
     },
     "execution_count": 351,
     "metadata": {},
     "output_type": "execute_result"
    }
   ],
   "source": [
    "X_train.shape"
   ]
  },
  {
   "cell_type": "code",
   "execution_count": 352,
   "metadata": {},
   "outputs": [
    {
     "data": {
      "text/plain": [
       "(2000, 2654)"
      ]
     },
     "execution_count": 352,
     "metadata": {},
     "output_type": "execute_result"
    }
   ],
   "source": [
    "X_test.shape"
   ]
  },
  {
   "cell_type": "code",
   "execution_count": 353,
   "metadata": {},
   "outputs": [
    {
     "data": {
      "text/plain": [
       "array(['Puerto Rico', 'Manati', 'MCS Classicare', 'HMO', 0.0, 3400.0],\n",
       "      dtype=object)"
      ]
     },
     "execution_count": 353,
     "metadata": {},
     "output_type": "execute_result"
    }
   ],
   "source": [
    "X[0]"
   ]
  },
  {
   "cell_type": "code",
   "execution_count": 354,
   "metadata": {},
   "outputs": [
    {
     "data": {
      "text/plain": [
       "<1x2654 sparse matrix of type '<class 'numpy.float64'>'\n",
       "\twith 6 stored elements in Compressed Sparse Row format>"
      ]
     },
     "execution_count": 354,
     "metadata": {},
     "output_type": "execute_result"
    }
   ],
   "source": [
    "X_train[0]"
   ]
  },
  {
   "cell_type": "code",
   "execution_count": 355,
   "metadata": {},
   "outputs": [
    {
     "data": {
      "text/plain": [
       "<1x2654 sparse matrix of type '<class 'numpy.float64'>'\n",
       "\twith 6 stored elements in Compressed Sparse Row format>"
      ]
     },
     "execution_count": 355,
     "metadata": {},
     "output_type": "execute_result"
    }
   ],
   "source": [
    "X_test[0]"
   ]
  },
  {
   "cell_type": "code",
   "execution_count": 356,
   "metadata": {},
   "outputs": [
    {
     "data": {
      "text/html": [
       "<div>\n",
       "<style scoped>\n",
       "    .dataframe tbody tr th:only-of-type {\n",
       "        vertical-align: middle;\n",
       "    }\n",
       "\n",
       "    .dataframe tbody tr th {\n",
       "        vertical-align: top;\n",
       "    }\n",
       "\n",
       "    .dataframe thead th {\n",
       "        text-align: right;\n",
       "    }\n",
       "</style>\n",
       "<table border=\"1\" class=\"dataframe\">\n",
       "  <thead>\n",
       "    <tr style=\"text-align: right;\">\n",
       "      <th></th>\n",
       "      <th>ESTADO</th>\n",
       "      <th>CONDADO</th>\n",
       "      <th>ORGANIZACION</th>\n",
       "      <th>TIPO_PLAN_GENERICO_MEDICARE</th>\n",
       "      <th>PRIMA_MENSUAL_CONSOLIDADA</th>\n",
       "      <th>DESEMBOLSO_MAXIMO</th>\n",
       "      <th>CLASIFICACION</th>\n",
       "    </tr>\n",
       "  </thead>\n",
       "  <tbody>\n",
       "    <tr>\n",
       "      <th>0</th>\n",
       "      <td>Puerto Rico</td>\n",
       "      <td>Manati</td>\n",
       "      <td>MCS Classicare</td>\n",
       "      <td>HMO</td>\n",
       "      <td>0.0</td>\n",
       "      <td>3400.0</td>\n",
       "      <td>4.5</td>\n",
       "    </tr>\n",
       "    <tr>\n",
       "      <th>1</th>\n",
       "      <td>Pennsylvania</td>\n",
       "      <td>Columbia</td>\n",
       "      <td>Geisinger Gold</td>\n",
       "      <td>HMO</td>\n",
       "      <td>38.0</td>\n",
       "      <td>4900.0</td>\n",
       "      <td>4</td>\n",
       "    </tr>\n",
       "    <tr>\n",
       "      <th>2</th>\n",
       "      <td>Tennessee</td>\n",
       "      <td>Dickson</td>\n",
       "      <td>Cigna-HealthSpring</td>\n",
       "      <td>HMO</td>\n",
       "      <td>14.0</td>\n",
       "      <td>6700.0</td>\n",
       "      <td>4.5</td>\n",
       "    </tr>\n",
       "  </tbody>\n",
       "</table>\n",
       "</div>"
      ],
      "text/plain": [
       "         ESTADO   CONDADO        ORGANIZACION TIPO_PLAN_GENERICO_MEDICARE  \\\n",
       "0   Puerto Rico    Manati      MCS Classicare                         HMO   \n",
       "1  Pennsylvania  Columbia      Geisinger Gold                         HMO   \n",
       "2     Tennessee   Dickson  Cigna-HealthSpring                         HMO   \n",
       "\n",
       "   PRIMA_MENSUAL_CONSOLIDADA  DESEMBOLSO_MAXIMO CLASIFICACION  \n",
       "0                        0.0             3400.0           4.5  \n",
       "1                       38.0             4900.0             4  \n",
       "2                       14.0             6700.0           4.5  "
      ]
     },
     "execution_count": 356,
     "metadata": {},
     "output_type": "execute_result"
    }
   ],
   "source": [
    "df_ratings_lab_ohe_sample.head(3)"
   ]
  },
  {
   "cell_type": "code",
   "execution_count": 357,
   "metadata": {},
   "outputs": [],
   "source": [
    "# Labeling through Label Encoding\n",
    "from sklearn.preprocessing import LabelEncoder\n",
    "lab = LabelEncoder() "
   ]
  },
  {
   "cell_type": "code",
   "execution_count": 359,
   "metadata": {},
   "outputs": [
    {
     "data": {
      "text/plain": [
       "Index(['ESTADO', 'CONDADO', 'ORGANIZACION', 'TIPO_PLAN_GENERICO_MEDICARE',\n",
       "       'PRIMA_MENSUAL_CONSOLIDADA', 'DESEMBOLSO_MAXIMO', 'CLASIFICACION'],\n",
       "      dtype='object')"
      ]
     },
     "execution_count": 359,
     "metadata": {},
     "output_type": "execute_result"
    }
   ],
   "source": [
    "df_ratings_lab_ohe_sample.columns"
   ]
  },
  {
   "cell_type": "code",
   "execution_count": 360,
   "metadata": {},
   "outputs": [],
   "source": [
    "df_ratings_lab_ohe_sample['ESTADO']= lab.fit_transform(df_ratings_lab_ohe_sample['ESTADO'])\n",
    "df_ratings_lab_ohe_sample['CONDADO']= lab.fit_transform(df_ratings_lab_ohe_sample['CONDADO'])\n",
    "df_ratings_lab_ohe_sample['ORGANIZACION']= lab.fit_transform(df_ratings_lab_ohe_sample['ORGANIZACION'])\n",
    "#df_ratings_lab_ohe_sample['PLAN']= lab.fit_transform(df_ratings_lab_ohe_sample['PLAN'])\n",
    "df_ratings_lab_ohe_sample['TIPO_PLAN_GENERICO_MEDICARE']= lab.fit_transform(df_ratings_lab_ohe_sample['TIPO_PLAN_GENERICO_MEDICARE'])\n",
    "# NO df_ratings_lab_ohe_sample['PRIMA_MENSUAL_CONSOLIDADA']= lab.fit_transform(df_ratings_lab_ohe_sample['PRIMA_MENSUAL_CONSOLIDADA'])\n",
    "#df_ratings_lab_ohe_sample['MEDICAMS_ANUALES_DEDUCIBLES']= lab.fit_transform(df_ratings_lab_ohe_sample['MEDICAMS_ANUALES_DEDUCIBLES'])\n",
    "#df_ratings_lab_ohe_sample['TIPO_BENEFICIO']= lab.fit_transform(df_ratings_lab_ohe_sample['TIPO_BENEFICIO'])\n",
    "#df_ratings_lab_ohe_sample['COBERTURA_ADICIONAL_OFRECIDA']= lab.fit_transform(df_ratings_lab_ohe_sample['COBERTURA_ADICIONAL_OFRECIDA'])\n",
    "#df_ratings_lab_ohe_sample['DETALLE_BENEFICIO']= lab.fit_transform(df_ratings_lab_ohe_sample['DETALLE_BENEFICIO'])\n",
    "#df_ratings_lab_ohe_sample['CONTRATO_ID']= lab.fit_transform(df_ratings_lab_ohe_sample['CONTRATO_ID'])\n",
    "# NO df_ratings_lab_ohe_sample['DESEMBOLSO_MAXIMO']= lab.fit_transform(df_ratings_lab_ohe_sample['DESEMBOLSO_MAXIMO'])\n",
    "#df_ratings_lab_ohe_sample['CLASIFICACION']= lab.fit_transform(df_ratings_lab_ohe_sample['MOOP_LIMIT'])"
   ]
  },
  {
   "cell_type": "code",
   "execution_count": 361,
   "metadata": {},
   "outputs": [
    {
     "data": {
      "text/html": [
       "<div>\n",
       "<style scoped>\n",
       "    .dataframe tbody tr th:only-of-type {\n",
       "        vertical-align: middle;\n",
       "    }\n",
       "\n",
       "    .dataframe tbody tr th {\n",
       "        vertical-align: top;\n",
       "    }\n",
       "\n",
       "    .dataframe thead th {\n",
       "        text-align: right;\n",
       "    }\n",
       "</style>\n",
       "<table border=\"1\" class=\"dataframe\">\n",
       "  <thead>\n",
       "    <tr style=\"text-align: right;\">\n",
       "      <th></th>\n",
       "      <th>ESTADO</th>\n",
       "      <th>CONDADO</th>\n",
       "      <th>ORGANIZACION</th>\n",
       "      <th>TIPO_PLAN_GENERICO_MEDICARE</th>\n",
       "      <th>PRIMA_MENSUAL_CONSOLIDADA</th>\n",
       "      <th>DESEMBOLSO_MAXIMO</th>\n",
       "      <th>CLASIFICACION</th>\n",
       "    </tr>\n",
       "  </thead>\n",
       "  <tbody>\n",
       "    <tr>\n",
       "      <th>0</th>\n",
       "      <td>38</td>\n",
       "      <td>948</td>\n",
       "      <td>256</td>\n",
       "      <td>2</td>\n",
       "      <td>0.0</td>\n",
       "      <td>3400.0</td>\n",
       "      <td>4.5</td>\n",
       "    </tr>\n",
       "  </tbody>\n",
       "</table>\n",
       "</div>"
      ],
      "text/plain": [
       "   ESTADO  CONDADO  ORGANIZACION  TIPO_PLAN_GENERICO_MEDICARE  \\\n",
       "0      38      948           256                            2   \n",
       "\n",
       "   PRIMA_MENSUAL_CONSOLIDADA  DESEMBOLSO_MAXIMO CLASIFICACION  \n",
       "0                        0.0             3400.0           4.5  "
      ]
     },
     "execution_count": 361,
     "metadata": {},
     "output_type": "execute_result"
    }
   ],
   "source": [
    "df_ratings_lab_ohe_sample.head(1)"
   ]
  },
  {
   "cell_type": "code",
   "execution_count": 409,
   "metadata": {},
   "outputs": [
    {
     "data": {
      "text/plain": [
       "(10000, 6)"
      ]
     },
     "execution_count": 409,
     "metadata": {},
     "output_type": "execute_result"
    }
   ],
   "source": [
    "# Load variables with sample data.\n",
    "X = np.array(df_ratings_lab_ohe_sample.drop('CLASIFICACION', 1))\n",
    "y = np.array(df_ratings_lab_ohe_sample[\"CLASIFICACION\"])\n",
    "X.shape"
   ]
  },
  {
   "cell_type": "code",
   "execution_count": 410,
   "metadata": {},
   "outputs": [],
   "source": [
    "# Train-test split and load the library\n",
    "from sklearn.model_selection import train_test_split\n",
    "# Create 2 groups each with input and labels\n",
    "X_train, X_test, y_train, y_test = train_test_split(X, y, test_size=0.20)"
   ]
  },
  {
   "cell_type": "code",
   "execution_count": 411,
   "metadata": {},
   "outputs": [],
   "source": [
    "# Feature Scaling\n",
    "from sklearn.preprocessing import StandardScaler \n",
    "sc = StandardScaler() \n",
    "X_train = sc.fit_transform(X_train) \n",
    "X_test = sc.transform(X_test)"
   ]
  },
  {
   "cell_type": "code",
   "execution_count": 412,
   "metadata": {},
   "outputs": [],
   "source": [
    "from sklearn.preprocessing import OneHotEncoder\n",
    "from sklearn.preprocessing import LabelEncoder"
   ]
  },
  {
   "cell_type": "code",
   "execution_count": 413,
   "metadata": {},
   "outputs": [
    {
     "data": {
      "text/plain": [
       "Index(['ESTADO', 'CONDADO', 'ORGANIZACION', 'TIPO_PLAN_GENERICO_MEDICARE',\n",
       "       'PRIMA_MENSUAL_CONSOLIDADA', 'DESEMBOLSO_MAXIMO', 'CLASIFICACION'],\n",
       "      dtype='object')"
      ]
     },
     "execution_count": 413,
     "metadata": {},
     "output_type": "execute_result"
    }
   ],
   "source": [
    "df_ratings_lab_ohe_sample.columns"
   ]
  },
  {
   "cell_type": "code",
   "execution_count": 414,
   "metadata": {},
   "outputs": [
    {
     "data": {
      "text/html": [
       "<div>\n",
       "<style scoped>\n",
       "    .dataframe tbody tr th:only-of-type {\n",
       "        vertical-align: middle;\n",
       "    }\n",
       "\n",
       "    .dataframe tbody tr th {\n",
       "        vertical-align: top;\n",
       "    }\n",
       "\n",
       "    .dataframe thead th {\n",
       "        text-align: right;\n",
       "    }\n",
       "</style>\n",
       "<table border=\"1\" class=\"dataframe\">\n",
       "  <thead>\n",
       "    <tr style=\"text-align: right;\">\n",
       "      <th></th>\n",
       "      <th>ESTADO</th>\n",
       "      <th>CONDADO</th>\n",
       "      <th>ORGANIZACION</th>\n",
       "      <th>TIPO_PLAN_GENERICO_MEDICARE</th>\n",
       "      <th>PRIMA_MENSUAL_CONSOLIDADA</th>\n",
       "      <th>DESEMBOLSO_MAXIMO</th>\n",
       "      <th>CLASIFICACION</th>\n",
       "    </tr>\n",
       "  </thead>\n",
       "  <tbody>\n",
       "    <tr>\n",
       "      <th>0</th>\n",
       "      <td>38</td>\n",
       "      <td>948</td>\n",
       "      <td>256</td>\n",
       "      <td>2</td>\n",
       "      <td>0.0</td>\n",
       "      <td>3400.0</td>\n",
       "      <td>4.5</td>\n",
       "    </tr>\n",
       "  </tbody>\n",
       "</table>\n",
       "</div>"
      ],
      "text/plain": [
       "   ESTADO  CONDADO  ORGANIZACION  TIPO_PLAN_GENERICO_MEDICARE  \\\n",
       "0      38      948           256                            2   \n",
       "\n",
       "   PRIMA_MENSUAL_CONSOLIDADA  DESEMBOLSO_MAXIMO CLASIFICACION  \n",
       "0                        0.0             3400.0           4.5  "
      ]
     },
     "execution_count": 414,
     "metadata": {},
     "output_type": "execute_result"
    }
   ],
   "source": [
    "df_ratings_lab_ohe_sample.head(1)"
   ]
  },
  {
   "cell_type": "code",
   "execution_count": 415,
   "metadata": {},
   "outputs": [
    {
     "data": {
      "text/plain": [
       "(10000, 7)"
      ]
     },
     "execution_count": 415,
     "metadata": {},
     "output_type": "execute_result"
    }
   ],
   "source": [
    "df_ratings_lab_ohe_sample.shape"
   ]
  },
  {
   "cell_type": "code",
   "execution_count": 416,
   "metadata": {},
   "outputs": [
    {
     "data": {
      "text/plain": [
       "ESTADO                         0\n",
       "CONDADO                        0\n",
       "ORGANIZACION                   0\n",
       "TIPO_PLAN_GENERICO_MEDICARE    0\n",
       "PRIMA_MENSUAL_CONSOLIDADA      0\n",
       "DESEMBOLSO_MAXIMO              0\n",
       "CLASIFICACION                  0\n",
       "dtype: int64"
      ]
     },
     "execution_count": 416,
     "metadata": {},
     "output_type": "execute_result"
    }
   ],
   "source": [
    "df_ratings_lab_ohe_sample.isnull().sum()"
   ]
  },
  {
   "cell_type": "code",
   "execution_count": 417,
   "metadata": {},
   "outputs": [
    {
     "data": {
      "text/plain": [
       "OneHotEncoder(categorical_features=None, categories=None, drop=None,\n",
       "              dtype=<class 'numpy.float64'>, handle_unknown='ignore',\n",
       "              n_values=None, sparse=True)"
      ]
     },
     "execution_count": 417,
     "metadata": {},
     "output_type": "execute_result"
    }
   ],
   "source": [
    "# Create the encoder (by OneotEncoder)\n",
    "encoder = OneHotEncoder(handle_unknown='ignore')\n",
    "# Assume for simplicity all features are categorical.\n",
    "encoder.fit(X_train)"
   ]
  },
  {
   "cell_type": "code",
   "execution_count": 418,
   "metadata": {},
   "outputs": [],
   "source": [
    "# Apply the encoder.\n",
    "X_train = encoder.transform(X_train)\n",
    "X_test = encoder.transform(X_test)"
   ]
  },
  {
   "cell_type": "code",
   "execution_count": 419,
   "metadata": {},
   "outputs": [
    {
     "data": {
      "text/plain": [
       "(10000, 6)"
      ]
     },
     "execution_count": 419,
     "metadata": {},
     "output_type": "execute_result"
    }
   ],
   "source": [
    "X.shape"
   ]
  },
  {
   "cell_type": "code",
   "execution_count": 420,
   "metadata": {},
   "outputs": [
    {
     "data": {
      "text/plain": [
       "<8000x2660 sparse matrix of type '<class 'numpy.float64'>'\n",
       "\twith 48000 stored elements in Compressed Sparse Row format>"
      ]
     },
     "execution_count": 420,
     "metadata": {},
     "output_type": "execute_result"
    }
   ],
   "source": [
    "X_train"
   ]
  },
  {
   "cell_type": "code",
   "execution_count": 421,
   "metadata": {},
   "outputs": [
    {
     "data": {
      "text/plain": [
       "<2000x2660 sparse matrix of type '<class 'numpy.float64'>'\n",
       "\twith 11824 stored elements in Compressed Sparse Row format>"
      ]
     },
     "execution_count": 421,
     "metadata": {},
     "output_type": "execute_result"
    }
   ],
   "source": [
    "X_test"
   ]
  },
  {
   "cell_type": "markdown",
   "metadata": {},
   "source": [
    "### Logistic Regression with SKLearn"
   ]
  },
  {
   "cell_type": "code",
   "execution_count": 422,
   "metadata": {},
   "outputs": [
    {
     "data": {
      "text/plain": [
       "LogisticRegression(C=1.0, class_weight=None, dual=False, fit_intercept=True,\n",
       "                   intercept_scaling=1, l1_ratio=None, max_iter=10000,\n",
       "                   multi_class='auto', n_jobs=None, penalty='l2',\n",
       "                   random_state=None, solver='sag', tol=0.0001, verbose=0,\n",
       "                   warm_start=False)"
      ]
     },
     "execution_count": 422,
     "metadata": {},
     "output_type": "execute_result"
    }
   ],
   "source": [
    "# Create teh Regression Logistic model and we make it fit (ajuste) to our set of inputs X and outputs \"y\".\n",
    "from sklearn.linear_model.sag import sag_solver\n",
    "model_LOGREG = linear_model.LogisticRegression(multi_class='auto', solver='sag', verbose=0, max_iter=10000)\n",
    "model_LOGREG.fit(X_train,y_train)"
   ]
  },
  {
   "cell_type": "code",
   "execution_count": 427,
   "metadata": {},
   "outputs": [
    {
     "data": {
      "text/plain": [
       "0.798875"
      ]
     },
     "execution_count": 427,
     "metadata": {},
     "output_type": "execute_result"
    }
   ],
   "source": [
    "#Y confirmamos cuan bueno fue nuestro modelo utilizando model.score() que nos devuelve\n",
    "#la precisión media de las predicciones, en nuestro caso del 59%\n",
    "model_LOGREG.score(X_train, y_train)"
   ]
  },
  {
   "cell_type": "code",
   "execution_count": 428,
   "metadata": {},
   "outputs": [],
   "source": [
    "# We classify our entire set of X inputs using the \"predict (X)\" method for the model\n",
    "# and we review some of its outputs to see if it matches the actual outputs of our origin\n",
    "predictions_LOGREG = model_LOGREG.predict(X_test)"
   ]
  },
  {
   "cell_type": "code",
   "execution_count": 429,
   "metadata": {},
   "outputs": [],
   "source": [
    "# Check prediction classifier"
   ]
  },
  {
   "cell_type": "code",
   "execution_count": 437,
   "metadata": {},
   "outputs": [
    {
     "name": "stdout",
     "output_type": "stream",
     "text": [
      "4\n"
     ]
    }
   ],
   "source": [
    "print(predictions_LOGREG[777])"
   ]
  },
  {
   "cell_type": "code",
   "execution_count": 438,
   "metadata": {},
   "outputs": [
    {
     "data": {
      "text/plain": [
       "'3'"
      ]
     },
     "execution_count": 438,
     "metadata": {},
     "output_type": "execute_result"
    }
   ],
   "source": [
    "df_ratings_lab_ohe_sample[\"CLASIFICACION\"][777]"
   ]
  },
  {
   "cell_type": "code",
   "execution_count": 431,
   "metadata": {},
   "outputs": [
    {
     "name": "stdout",
     "output_type": "stream",
     "text": [
      "['3.5' '3.5' '3.5' '3' '2.5' '4.5' '3' '3.5' '3.5' '3.5']\n"
     ]
    }
   ],
   "source": [
    "print(predictions_LOGREG[0:10])"
   ]
  },
  {
   "cell_type": "code",
   "execution_count": 432,
   "metadata": {},
   "outputs": [
    {
     "data": {
      "text/plain": [
       "0    4.5\n",
       "1      4\n",
       "2    4.5\n",
       "3      3\n",
       "4    3.5\n",
       "5      4\n",
       "6    3.5\n",
       "7    4.5\n",
       "8    4.5\n",
       "9    4.5\n",
       "Name: CLASIFICACION, dtype: object"
      ]
     },
     "execution_count": 432,
     "metadata": {},
     "output_type": "execute_result"
    }
   ],
   "source": [
    "df_ratings_lab_ohe_sample[\"CLASIFICACION\"][0:10]"
   ]
  },
  {
   "cell_type": "code",
   "execution_count": 439,
   "metadata": {},
   "outputs": [
    {
     "data": {
      "text/plain": [
       "numpy.ndarray"
      ]
     },
     "execution_count": 439,
     "metadata": {},
     "output_type": "execute_result"
    }
   ],
   "source": [
    "type(predictions_LOGREG)"
   ]
  },
  {
   "cell_type": "code",
   "execution_count": 440,
   "metadata": {},
   "outputs": [
    {
     "data": {
      "text/plain": [
       "dtype('O')"
      ]
     },
     "execution_count": 440,
     "metadata": {},
     "output_type": "execute_result"
    }
   ],
   "source": [
    "predictions_LOGREG.dtype"
   ]
  },
  {
   "cell_type": "code",
   "execution_count": 441,
   "metadata": {},
   "outputs": [
    {
     "data": {
      "text/plain": [
       "(2000,)"
      ]
     },
     "execution_count": 441,
     "metadata": {},
     "output_type": "execute_result"
    }
   ],
   "source": [
    "predictions_LOGREG.shape"
   ]
  },
  {
   "cell_type": "code",
   "execution_count": 117,
   "metadata": {},
   "outputs": [],
   "source": [
    "# Check model efficiency "
   ]
  },
  {
   "cell_type": "code",
   "execution_count": 443,
   "metadata": {},
   "outputs": [
    {
     "name": "stdout",
     "output_type": "stream",
     "text": [
      "0.5995\n"
     ]
    }
   ],
   "source": [
    "print(accuracy_score(y_test, predictions_LOGREG))"
   ]
  },
  {
   "cell_type": "code",
   "execution_count": 444,
   "metadata": {},
   "outputs": [
    {
     "data": {
      "text/plain": [
       "Index(['ESTADO', 'CONDADO', 'ORGANIZACION', 'TIPO_PLAN_GENERICO_MEDICARE',\n",
       "       'PRIMA_MENSUAL_CONSOLIDADA', 'DESEMBOLSO_MAXIMO', 'CLASIFICACION'],\n",
       "      dtype='object')"
      ]
     },
     "execution_count": 444,
     "metadata": {},
     "output_type": "execute_result"
    }
   ],
   "source": [
    "df_ratings_lab_ohe_sample.columns"
   ]
  },
  {
   "cell_type": "code",
   "execution_count": null,
   "metadata": {},
   "outputs": [],
   "source": []
  },
  {
   "cell_type": "code",
   "execution_count": null,
   "metadata": {},
   "outputs": [],
   "source": []
  },
  {
   "cell_type": "code",
   "execution_count": null,
   "metadata": {},
   "outputs": [],
   "source": []
  },
  {
   "cell_type": "code",
   "execution_count": null,
   "metadata": {},
   "outputs": [],
   "source": []
  },
  {
   "cell_type": "code",
   "execution_count": null,
   "metadata": {},
   "outputs": [],
   "source": []
  },
  {
   "cell_type": "code",
   "execution_count": 445,
   "metadata": {},
   "outputs": [
    {
     "data": {
      "text/plain": [
       "0.5995"
      ]
     },
     "execution_count": 445,
     "metadata": {},
     "output_type": "execute_result"
    }
   ],
   "source": [
    "# The Quality of our model, gives us the average accuracy of the predictions\n",
    "model_LOGREG.score(X_test,y_test)"
   ]
  },
  {
   "cell_type": "code",
   "execution_count": null,
   "metadata": {},
   "outputs": [],
   "source": []
  },
  {
   "cell_type": "code",
   "execution_count": 446,
   "metadata": {},
   "outputs": [],
   "source": [
    "# Load variables\n",
    "X = np.array(df_from_xlsx_total.drop(['CLASIFICACION'],1))\n",
    "y = np.array(df_from_xlsx_total['CLASIFICACION'])\n",
    "X.shape\n",
    "\n",
    "# Train-test split and load the library\n",
    "from sklearn.model_selection import train_test_split\n",
    "# Create 2 groups each with input and labels\n",
    "X_train, X_test, y_train, y_test = train_test_split(X, y, test_size=0.20)"
   ]
  },
  {
   "cell_type": "code",
   "execution_count": 447,
   "metadata": {},
   "outputs": [],
   "source": [
    "from sklearn.preprocessing import OneHotEncoder\n",
    "\n",
    "# Create the encoder.\n",
    "encoder = OneHotEncoder(handle_unknown=\"ignore\")\n",
    "# Assume for simplicity all features are categorical.\n",
    "encoder.fit(X_train)    \n",
    "\n",
    "# Apply the encoder.\n",
    "X_train = encoder.transform(X_train)\n",
    "X_test = encoder.transform(X_test)"
   ]
  },
  {
   "cell_type": "code",
   "execution_count": 448,
   "metadata": {},
   "outputs": [
    {
     "data": {
      "text/plain": [
       "(306183, 6)"
      ]
     },
     "execution_count": 448,
     "metadata": {},
     "output_type": "execute_result"
    }
   ],
   "source": [
    "X.shape"
   ]
  },
  {
   "cell_type": "code",
   "execution_count": 449,
   "metadata": {},
   "outputs": [
    {
     "data": {
      "text/plain": [
       "array(['Alabama', 'Autauga', 'UnitedHealthcare', 'HMO', 0.0, 4450.0],\n",
       "      dtype=object)"
      ]
     },
     "execution_count": 449,
     "metadata": {},
     "output_type": "execute_result"
    }
   ],
   "source": [
    "X[0]"
   ]
  },
  {
   "cell_type": "code",
   "execution_count": 450,
   "metadata": {},
   "outputs": [
    {
     "data": {
      "text/plain": [
       "<244946x3507 sparse matrix of type '<class 'numpy.float64'>'\n",
       "\twith 1469676 stored elements in Compressed Sparse Row format>"
      ]
     },
     "execution_count": 450,
     "metadata": {},
     "output_type": "execute_result"
    }
   ],
   "source": [
    "X_train"
   ]
  },
  {
   "cell_type": "code",
   "execution_count": 451,
   "metadata": {},
   "outputs": [
    {
     "data": {
      "text/plain": [
       "<61237x3507 sparse matrix of type '<class 'numpy.float64'>'\n",
       "\twith 367404 stored elements in Compressed Sparse Row format>"
      ]
     },
     "execution_count": 451,
     "metadata": {},
     "output_type": "execute_result"
    }
   ],
   "source": [
    "X_test"
   ]
  },
  {
   "cell_type": "markdown",
   "metadata": {},
   "source": [
    "### Logistic Regression with SKLearn (2)"
   ]
  },
  {
   "cell_type": "code",
   "execution_count": 452,
   "metadata": {},
   "outputs": [
    {
     "data": {
      "text/plain": [
       "LogisticRegression(C=1.0, class_weight=None, dual=False, fit_intercept=True,\n",
       "                   intercept_scaling=1, l1_ratio=None, max_iter=10000,\n",
       "                   multi_class='auto', n_jobs=None, penalty='l2',\n",
       "                   random_state=None, solver='sag', tol=0.0001, verbose=0,\n",
       "                   warm_start=False)"
      ]
     },
     "execution_count": 452,
     "metadata": {},
     "output_type": "execute_result"
    }
   ],
   "source": [
    "# Create teh Regression Logistic model and we make it fit (ajuste) to our set of inputs X and outputs \"y\".\n",
    "from sklearn.linear_model.sag import sag_solver\n",
    "model_LOGREG = linear_model.LogisticRegression(multi_class='auto', solver='sag', max_iter=10000)\n",
    "model_LOGREG.fit(X_train,y_train)"
   ]
  },
  {
   "cell_type": "code",
   "execution_count": 453,
   "metadata": {},
   "outputs": [],
   "source": [
    "# We classify our entire set of X inputs using the \"predict (X)\" method for the model\n",
    "#   and we review some of its outputs to see if it matches the actual outputs of our origin\n",
    "predictions_LOGREG = model_LOGREG.predict(X_test)"
   ]
  },
  {
   "cell_type": "code",
   "execution_count": 454,
   "metadata": {},
   "outputs": [
    {
     "name": "stdout",
     "output_type": "stream",
     "text": [
      "NO_ASIGNADO\n"
     ]
    }
   ],
   "source": [
    "# Check model efficiency \n",
    "print(predictions_LOGREG[22])"
   ]
  },
  {
   "cell_type": "code",
   "execution_count": 455,
   "metadata": {},
   "outputs": [
    {
     "data": {
      "text/plain": [
       "numpy.ndarray"
      ]
     },
     "execution_count": 455,
     "metadata": {},
     "output_type": "execute_result"
    }
   ],
   "source": [
    "type(predictions_LOGREG)"
   ]
  },
  {
   "cell_type": "code",
   "execution_count": 460,
   "metadata": {},
   "outputs": [
    {
     "data": {
      "text/plain": [
       "dtype('O')"
      ]
     },
     "execution_count": 460,
     "metadata": {},
     "output_type": "execute_result"
    }
   ],
   "source": [
    "predictions_LOGREG.dtype"
   ]
  },
  {
   "cell_type": "code",
   "execution_count": 461,
   "metadata": {},
   "outputs": [
    {
     "data": {
      "text/plain": [
       "(61237,)"
      ]
     },
     "execution_count": 461,
     "metadata": {},
     "output_type": "execute_result"
    }
   ],
   "source": [
    "predictions_LOGREG.shape"
   ]
  },
  {
   "cell_type": "code",
   "execution_count": 462,
   "metadata": {},
   "outputs": [
    {
     "name": "stdout",
     "output_type": "stream",
     "text": [
      "0.7030226823652367\n"
     ]
    }
   ],
   "source": [
    "print(accuracy_score(y_test, predictions_LOGREG))"
   ]
  },
  {
   "cell_type": "code",
   "execution_count": 463,
   "metadata": {},
   "outputs": [
    {
     "data": {
      "text/plain": [
       "0.7030226823652367"
      ]
     },
     "execution_count": 463,
     "metadata": {},
     "output_type": "execute_result"
    }
   ],
   "source": [
    "# The Quality of our model, gives us the average accuracy of the predictions:\n",
    "model_LOGREG.score(X_test,y_test)"
   ]
  },
  {
   "cell_type": "code",
   "execution_count": 464,
   "metadata": {},
   "outputs": [
    {
     "data": {
      "text/plain": [
       "dtype('O')"
      ]
     },
     "execution_count": 464,
     "metadata": {},
     "output_type": "execute_result"
    }
   ],
   "source": [
    "y_test.dtype"
   ]
  },
  {
   "cell_type": "code",
   "execution_count": 465,
   "metadata": {},
   "outputs": [
    {
     "data": {
      "text/plain": [
       "61237"
      ]
     },
     "execution_count": 465,
     "metadata": {},
     "output_type": "execute_result"
    }
   ],
   "source": [
    "len(y_test)"
   ]
  },
  {
   "cell_type": "code",
   "execution_count": 466,
   "metadata": {},
   "outputs": [
    {
     "data": {
      "text/plain": [
       "(61237,)"
      ]
     },
     "execution_count": 466,
     "metadata": {},
     "output_type": "execute_result"
    }
   ],
   "source": [
    "y_test.shape"
   ]
  },
  {
   "cell_type": "code",
   "execution_count": 467,
   "metadata": {},
   "outputs": [
    {
     "data": {
      "text/plain": [
       "'NO_ASIGNADO'"
      ]
     },
     "execution_count": 467,
     "metadata": {},
     "output_type": "execute_result"
    }
   ],
   "source": [
    "y_test[22,]"
   ]
  },
  {
   "cell_type": "markdown",
   "metadata": {},
   "source": [
    "########################################################"
   ]
  },
  {
   "cell_type": "markdown",
   "metadata": {},
   "source": [
    "##########################################"
   ]
  },
  {
   "cell_type": "markdown",
   "metadata": {},
   "source": [
    "############################"
   ]
  },
  {
   "cell_type": "markdown",
   "metadata": {},
   "source": [
    "## VALIDATE MODEL"
   ]
  },
  {
   "cell_type": "code",
   "execution_count": 468,
   "metadata": {},
   "outputs": [
    {
     "data": {
      "text/plain": [
       "Index(['ESTADO', 'CONDADO', 'ORGANIZACION', 'TIPO_PLAN_GENERICO_MEDICARE',\n",
       "       'PRIMA_MENSUAL_CONSOLIDADA', 'DESEMBOLSO_MAXIMO', 'CLASIFICACION'],\n",
       "      dtype='object')"
      ]
     },
     "execution_count": 468,
     "metadata": {},
     "output_type": "execute_result"
    }
   ],
   "source": [
    "df_ratings_lab_ohe.columns"
   ]
  },
  {
   "cell_type": "code",
   "execution_count": 469,
   "metadata": {},
   "outputs": [
    {
     "data": {
      "text/plain": [
       "ESTADO                          object\n",
       "CONDADO                         object\n",
       "ORGANIZACION                    object\n",
       "TIPO_PLAN_GENERICO_MEDICARE     object\n",
       "PRIMA_MENSUAL_CONSOLIDADA      float64\n",
       "DESEMBOLSO_MAXIMO              float64\n",
       "CLASIFICACION                   object\n",
       "dtype: object"
      ]
     },
     "execution_count": 469,
     "metadata": {},
     "output_type": "execute_result"
    }
   ],
   "source": [
    "df_ratings_lab_ohe.dtypes"
   ]
  },
  {
   "cell_type": "code",
   "execution_count": 470,
   "metadata": {},
   "outputs": [
    {
     "data": {
      "text/html": [
       "<div>\n",
       "<style scoped>\n",
       "    .dataframe tbody tr th:only-of-type {\n",
       "        vertical-align: middle;\n",
       "    }\n",
       "\n",
       "    .dataframe tbody tr th {\n",
       "        vertical-align: top;\n",
       "    }\n",
       "\n",
       "    .dataframe thead th {\n",
       "        text-align: right;\n",
       "    }\n",
       "</style>\n",
       "<table border=\"1\" class=\"dataframe\">\n",
       "  <thead>\n",
       "    <tr style=\"text-align: right;\">\n",
       "      <th></th>\n",
       "      <th>ESTADO</th>\n",
       "      <th>CONDADO</th>\n",
       "      <th>ORGANIZACION</th>\n",
       "      <th>TIPO_PLAN_GENERICO_MEDICARE</th>\n",
       "      <th>PRIMA_MENSUAL_CONSOLIDADA</th>\n",
       "      <th>DESEMBOLSO_MAXIMO</th>\n",
       "      <th>CLASIFICACION</th>\n",
       "    </tr>\n",
       "  </thead>\n",
       "  <tbody>\n",
       "    <tr>\n",
       "      <th>0</th>\n",
       "      <td>Alabama</td>\n",
       "      <td>Autauga</td>\n",
       "      <td>UnitedHealthcare</td>\n",
       "      <td>HMO</td>\n",
       "      <td>0.0</td>\n",
       "      <td>4450.0</td>\n",
       "      <td>2.5</td>\n",
       "    </tr>\n",
       "  </tbody>\n",
       "</table>\n",
       "</div>"
      ],
      "text/plain": [
       "    ESTADO  CONDADO      ORGANIZACION TIPO_PLAN_GENERICO_MEDICARE  \\\n",
       "0  Alabama  Autauga  UnitedHealthcare                         HMO   \n",
       "\n",
       "   PRIMA_MENSUAL_CONSOLIDADA  DESEMBOLSO_MAXIMO CLASIFICACION  \n",
       "0                        0.0             4450.0           2.5  "
      ]
     },
     "execution_count": 470,
     "metadata": {},
     "output_type": "execute_result"
    }
   ],
   "source": [
    "df_ratings_lab_ohe.head(1)"
   ]
  },
  {
   "cell_type": "code",
   "execution_count": 471,
   "metadata": {},
   "outputs": [
    {
     "name": "stdout",
     "output_type": "stream",
     "text": [
      "Logistic Regression: 0.703702 (0.002324)\n"
     ]
    }
   ],
   "source": [
    "# We recompile our Logistic Regression model, at 80% of the input data in 10 partitions \n",
    "# and we calculate the new scoring by cross validation\n",
    "name='Logistic Regression'\n",
    "kfold = model_selection.KFold(n_splits=10)\n",
    "cv_results = model_selection.cross_val_score(model_LOGREG, X_train, y_train, cv=kfold, \\\n",
    "                                             scoring='accuracy', error_score=np.nan, verbose=0)\n",
    "msg = \"%s: %f (%f)\" % (name, cv_results.mean(), cv_results.std())\n",
    "print(msg)"
   ]
  },
  {
   "cell_type": "code",
   "execution_count": 165,
   "metadata": {},
   "outputs": [
    {
     "name": "stdout",
     "output_type": "stream",
     "text": [
      "0.39848457631823897\n"
     ]
    }
   ],
   "source": [
    "# And now we make the predictions (really classification) using our \"cross validation set\"\n",
    "# that is to say of the subset that we had separated.\n",
    "# Successes: xxx%\n",
    "predictions_LOGREG = model_LOGREG.predict(X_test)\n",
    "print(accuracy_score(y_test, predictions_LOGREG))"
   ]
  },
  {
   "cell_type": "markdown",
   "metadata": {},
   "source": [
    "# Model results"
   ]
  },
  {
   "cell_type": "code",
   "execution_count": 166,
   "metadata": {},
   "outputs": [
    {
     "name": "stdout",
     "output_type": "stream",
     "text": [
      "[[   0   19   66   37    7    9    0    0    0    0    0    0    0    0\n",
      "     2    0]\n",
      " [   0 1368 1260 1165  432  174    6    0    0    0    0    0    0    0\n",
      "     2    0]\n",
      " [   0  834 1961 4732  922  628   13    0    0    0    0    0    0    0\n",
      "     1    0]\n",
      " [   0 1034 1379 9220 2964 1142   32    0   40    0    0    0    0    0\n",
      "    50    0]\n",
      " [   0  382 1004 5730 4257 3438    2    0   21    0    0    0    0    0\n",
      "    36    0]\n",
      " [   0    0  386 1207 2171 7107   28    0    0    0    0    0    0    0\n",
      "     0    0]\n",
      " [   0    0    2  119  185 1003  170    0    0    0    0    0    0    0\n",
      "     0    0]\n",
      " [   0    0    0    0    0    0    0    5    0    0    0    0    0    0\n",
      "     0    0]\n",
      " [   0    0    0    6   48   31    0    0  259    9    0    0    0    0\n",
      "     0    0]\n",
      " [   0    0  147  221  156  406    3    0   29   33    0    0    0    0\n",
      "     0    0]\n",
      " [   0    0   23  185   63   55    0    0    0   29    0    0    0    0\n",
      "     0    0]\n",
      " [   0    0   13  123   35    5    0    0    0    0    0    0    0    0\n",
      "     0    0]\n",
      " [   0    0    0    0   12    0    0    0   13    0    0    0    0    0\n",
      "     0    0]\n",
      " [   0    0    0    0    0    1    0    0    0    0    0    0    0    0\n",
      "     0    0]\n",
      " [   0  239  301  908  528  209    6    0   54   24    0    0    0    0\n",
      "    22    0]\n",
      " [   0    5   22  128   68   66    0    0    0    0    0    0    0    0\n",
      "     0    0]]\n"
     ]
    }
   ],
   "source": [
    "## Matrix of confusion for errors\n",
    "print(confusion_matrix(y_test, predictions_LOGREG))"
   ]
  },
  {
   "cell_type": "code",
   "execution_count": 167,
   "metadata": {},
   "outputs": [
    {
     "name": "stderr",
     "output_type": "stream",
     "text": [
      "/home/dsc/anaconda3/lib/python3.7/site-packages/sklearn/metrics/classification.py:1437: UndefinedMetricWarning: Precision and F-score are ill-defined and being set to 0.0 in labels with no predicted samples.\n",
      "  'precision', 'predicted', average, warn_for)\n",
      "/home/dsc/anaconda3/lib/python3.7/site-packages/sklearn/metrics/classification.py:1437: UndefinedMetricWarning: Precision and F-score are ill-defined and being set to 0.0 in labels with no predicted samples.\n",
      "  'precision', 'predicted', average, warn_for)\n"
     ]
    },
    {
     "name": "stdout",
     "output_type": "stream",
     "text": [
      "                                             precision    recall  f1-score   support\n",
      "\n",
      "                                          2       0.00      0.00      0.00       140\n",
      "                                        2.5       0.35      0.31      0.33      4407\n",
      "                                          3       0.30      0.22      0.25      9091\n",
      "                                        3.5       0.39      0.58      0.47     15861\n",
      "                                          4       0.36      0.29      0.32     14870\n",
      "                                        4.5       0.50      0.65      0.56     10899\n",
      "                                          5       0.65      0.11      0.20      1479\n",
      "                                NO_ASIGNADO       1.00      1.00      1.00         5\n",
      "                             Not Applicable       0.62      0.73      0.67       353\n",
      "                  Not enough data available       0.35      0.03      0.06       995\n",
      "                 Not enough data available        0.00      0.00      0.00       355\n",
      "Not enough data to calculate overall rating       0.00      0.00      0.00       176\n",
      "Not enough data to calculate summary rating       0.00      0.00      0.00        25\n",
      " Not enough data to calculate summary score       0.00      0.00      0.00         1\n",
      "                Plan too new to be measured       0.19      0.01      0.02      2291\n",
      "               Plan too new to be measured        0.00      0.00      0.00       289\n",
      "\n",
      "                                   accuracy                           0.40     61237\n",
      "                                  macro avg       0.29      0.25      0.24     61237\n",
      "                               weighted avg       0.38      0.40      0.37     61237\n",
      "\n"
     ]
    },
    {
     "name": "stderr",
     "output_type": "stream",
     "text": [
      "/home/dsc/anaconda3/lib/python3.7/site-packages/sklearn/metrics/classification.py:1437: UndefinedMetricWarning: Precision and F-score are ill-defined and being set to 0.0 in labels with no predicted samples.\n",
      "  'precision', 'predicted', average, warn_for)\n"
     ]
    }
   ],
   "source": [
    "## Classification report with our TEST set\n",
    "# We observe the average F1-score\n",
    "print(classification_report(y_test, predictions_LOGREG))"
   ]
  },
  {
   "cell_type": "markdown",
   "metadata": {},
   "source": [
    "# Classification (or prediction) of new values"
   ]
  },
  {
   "cell_type": "code",
   "execution_count": 205,
   "metadata": {},
   "outputs": [
    {
     "data": {
      "text/plain": [
       "Index(['HORA', 'DIA_SEMANA', 'DISTRITO', 'SEXO', 'EDAD_APROX', 'COD_DISTRITO',\n",
       "       'SUP_KM2', 'DENSIDAD_KM2'],\n",
       "      dtype='object')"
      ]
     },
     "execution_count": 205,
     "metadata": {},
     "output_type": "execute_result"
    }
   ],
   "source": [
    "df_inf_xa_dis.columns"
   ]
  },
  {
   "cell_type": "code",
   "execution_count": 206,
   "metadata": {},
   "outputs": [
    {
     "data": {
      "text/html": [
       "<div>\n",
       "<style scoped>\n",
       "    .dataframe tbody tr th:only-of-type {\n",
       "        vertical-align: middle;\n",
       "    }\n",
       "\n",
       "    .dataframe tbody tr th {\n",
       "        vertical-align: top;\n",
       "    }\n",
       "\n",
       "    .dataframe thead th {\n",
       "        text-align: right;\n",
       "    }\n",
       "</style>\n",
       "<table border=\"1\" class=\"dataframe\">\n",
       "  <thead>\n",
       "    <tr style=\"text-align: right;\">\n",
       "      <th></th>\n",
       "      <th>HORA</th>\n",
       "      <th>DIA_SEMANA</th>\n",
       "      <th>DISTRITO</th>\n",
       "      <th>SEXO</th>\n",
       "      <th>EDAD_APROX</th>\n",
       "      <th>COD_DISTRITO</th>\n",
       "      <th>SUP_KM2</th>\n",
       "      <th>DENSIDAD_KM2</th>\n",
       "    </tr>\n",
       "  </thead>\n",
       "  <tbody>\n",
       "    <tr>\n",
       "      <th>0</th>\n",
       "      <td>0</td>\n",
       "      <td>6</td>\n",
       "      <td>CHAMARTIN</td>\n",
       "      <td>0</td>\n",
       "      <td>3</td>\n",
       "      <td>79605</td>\n",
       "      <td>9.12</td>\n",
       "      <td>15723.25</td>\n",
       "    </tr>\n",
       "  </tbody>\n",
       "</table>\n",
       "</div>"
      ],
      "text/plain": [
       "   HORA  DIA_SEMANA   DISTRITO  SEXO  EDAD_APROX COD_DISTRITO SUP_KM2  \\\n",
       "0     0           6  CHAMARTIN     0           3        79605    9.12   \n",
       "\n",
       "  DENSIDAD_KM2  \n",
       "0     15723.25  "
      ]
     },
     "execution_count": 206,
     "metadata": {},
     "output_type": "execute_result"
    }
   ],
   "source": [
    "df_inf_xa_dis.head(1)"
   ]
  },
  {
   "cell_type": "code",
   "execution_count": 207,
   "metadata": {},
   "outputs": [
    {
     "data": {
      "text/html": [
       "<div>\n",
       "<style scoped>\n",
       "    .dataframe tbody tr th:only-of-type {\n",
       "        vertical-align: middle;\n",
       "    }\n",
       "\n",
       "    .dataframe tbody tr th {\n",
       "        vertical-align: top;\n",
       "    }\n",
       "\n",
       "    .dataframe thead th {\n",
       "        text-align: right;\n",
       "    }\n",
       "</style>\n",
       "<table border=\"1\" class=\"dataframe\">\n",
       "  <thead>\n",
       "    <tr style=\"text-align: right;\">\n",
       "      <th></th>\n",
       "      <th>HORA</th>\n",
       "      <th>DIA_SEMANA</th>\n",
       "      <th>DISTRITO</th>\n",
       "      <th>SEXO</th>\n",
       "      <th>EDAD_APROX</th>\n",
       "    </tr>\n",
       "  </thead>\n",
       "  <tbody>\n",
       "    <tr>\n",
       "      <th>0</th>\n",
       "      <td>00:00</td>\n",
       "      <td>VIERNES</td>\n",
       "      <td>CHAMARTIN</td>\n",
       "      <td>HOMBRE</td>\n",
       "      <td>20</td>\n",
       "    </tr>\n",
       "  </tbody>\n",
       "</table>\n",
       "</div>"
      ],
      "text/plain": [
       "    HORA DIA_SEMANA   DISTRITO    SEXO EDAD_APROX\n",
       "0  00:00    VIERNES  CHAMARTIN  HOMBRE         20"
      ]
     },
     "execution_count": 207,
     "metadata": {},
     "output_type": "execute_result"
    }
   ],
   "source": [
    "df_accs.head(1)"
   ]
  },
  {
   "cell_type": "code",
   "execution_count": 208,
   "metadata": {},
   "outputs": [],
   "source": [
    "# Test and others parameters:\n",
    "# a.- predict: just gives you the class for every example\n",
    "# b.- predict_proba: gives you the probability for every class, and predict is just taking the class \n",
    "#     which maximal probability\n",
    "# c.- predict_log_proba: gives you the logarithm of the probabilities, this is often handier as probabilities \n",
    "#     can become very, very small shareimprove this answer\n",
    "# d.- coef_\n",
    "# e.- score\n",
    "# f.- decision function"
   ]
  },
  {
   "cell_type": "code",
   "execution_count": 209,
   "metadata": {},
   "outputs": [
    {
     "data": {
      "text/plain": [
       "array(['CIUDAD LINEAL', 'MORATALAZ', 'FUENCARRAL-EL PARDO', ...,\n",
       "       'FUENCARRAL-EL PARDO', 'VILLAVERDE', 'ARGANZUELA'], dtype=object)"
      ]
     },
     "execution_count": 209,
     "metadata": {},
     "output_type": "execute_result"
    }
   ],
   "source": [
    "model_LOGREG.predict(X_test)"
   ]
  },
  {
   "cell_type": "code",
   "execution_count": 210,
   "metadata": {},
   "outputs": [
    {
     "data": {
      "text/plain": [
       "array([[1.37008573e-05, 1.27918599e-05, 1.31019272e-05, ...,\n",
       "        1.21610115e-05, 1.30014587e-05, 1.29355622e-05],\n",
       "       [3.43024826e-05, 3.32815976e-05, 3.34283774e-05, ...,\n",
       "        3.02076770e-05, 3.07976116e-05, 3.21010765e-05],\n",
       "       [1.75940103e-05, 1.51480310e-05, 1.75150710e-05, ...,\n",
       "        1.57524778e-05, 1.64833299e-05, 1.70275268e-05],\n",
       "       ...,\n",
       "       [1.70802314e-05, 1.48037208e-05, 1.60843263e-05, ...,\n",
       "        1.59384810e-05, 1.55810431e-05, 1.54739484e-05],\n",
       "       [3.19958490e-05, 2.71550405e-05, 3.11206997e-05, ...,\n",
       "        2.88966349e-05, 2.99836324e-05, 9.99388734e-01],\n",
       "       [9.99668759e-01, 1.51501000e-05, 1.73680545e-05, ...,\n",
       "        1.67328826e-05, 1.57924638e-05, 1.64211445e-05]])"
      ]
     },
     "execution_count": 210,
     "metadata": {},
     "output_type": "execute_result"
    }
   ],
   "source": [
    "model_LOGREG.predict_proba(X_test)"
   ]
  },
  {
   "cell_type": "code",
   "execution_count": 211,
   "metadata": {},
   "outputs": [
    {
     "data": {
      "text/plain": [
       "array([[-1.11980522e+01, -1.12667015e+01, -1.12427512e+01, ...,\n",
       "        -1.13172755e+01, -1.12504490e+01, -1.12555303e+01],\n",
       "       [-1.02802928e+01, -1.03105059e+01, -1.03061054e+01, ...,\n",
       "        -1.04074145e+01, -1.03880734e+01, -1.03466210e+01],\n",
       "       [-1.09479520e+01, -1.10976400e+01, -1.09524488e+01, ...,\n",
       "        -1.10585129e+01, -1.10131610e+01, -1.09806793e+01],\n",
       "       ...,\n",
       "       [-1.09775888e+01, -1.11206320e+01, -1.10376653e+01, ...,\n",
       "        -1.10467742e+01, -1.10694556e+01, -1.10763527e+01],\n",
       "       [-1.03499044e+01, -1.05139479e+01, -1.03776374e+01, ...,\n",
       "        -1.04517854e+01, -1.04148589e+01, -6.11452986e-04],\n",
       "       [-3.31295534e-04, -1.10975034e+01, -1.09608780e+01, ...,\n",
       "        -1.09981348e+01, -1.10559777e+01, -1.10169408e+01]])"
      ]
     },
     "execution_count": 211,
     "metadata": {},
     "output_type": "execute_result"
    }
   ],
   "source": [
    "model_LOGREG.predict_log_proba(X_test)"
   ]
  },
  {
   "cell_type": "code",
   "execution_count": 212,
   "metadata": {},
   "outputs": [
    {
     "data": {
      "text/plain": [
       "array([[ 2.14418109e-03, -1.26637868e-03, -5.72047569e-03, ...,\n",
       "        -1.73239807e-01, -1.70044270e-01, -1.78368725e-01],\n",
       "       [-2.48233748e-02, -3.82366787e-02, -8.89693549e-03, ...,\n",
       "        -1.58359891e-01, -1.54681280e-01, -1.62620145e-01],\n",
       "       [ 2.50575322e-02,  2.16171470e-02,  7.46608462e-03, ...,\n",
       "        -1.69590311e-01, -1.66899901e-01, -1.74984147e-01],\n",
       "       ...,\n",
       "       [-3.21321547e-02, -3.03392935e-04,  7.27704256e-03, ...,\n",
       "        -1.59451225e-01, -1.56255661e-01, -1.64118498e-01],\n",
       "       [ 3.90308265e-03, -9.96244982e-03, -6.92010283e-03, ...,\n",
       "        -1.63082054e-01, -1.60027963e-01, -1.67831923e-01],\n",
       "       [-7.21404419e-03, -7.75390987e-03, -1.10681874e-02, ...,\n",
       "        -1.64640968e-01,  3.30946844e+00, -1.69678859e-01]])"
      ]
     },
     "execution_count": 212,
     "metadata": {},
     "output_type": "execute_result"
    }
   ],
   "source": [
    "model_LOGREG.coef_"
   ]
  },
  {
   "cell_type": "code",
   "execution_count": 213,
   "metadata": {},
   "outputs": [
    {
     "data": {
      "text/plain": [
       "<bound method ClassifierMixin.score of LogisticRegression(C=1.0, class_weight=None, dual=False, fit_intercept=True,\n",
       "                   intercept_scaling=1, l1_ratio=None, max_iter=100,\n",
       "                   multi_class='auto', n_jobs=None, penalty='l2',\n",
       "                   random_state=None, solver='sag', tol=0.0001, verbose=0,\n",
       "                   warm_start=False)>"
      ]
     },
     "execution_count": 213,
     "metadata": {},
     "output_type": "execute_result"
    }
   ],
   "source": [
    "model_LOGREG.score"
   ]
  },
  {
   "cell_type": "code",
   "execution_count": 214,
   "metadata": {},
   "outputs": [
    {
     "data": {
      "text/plain": [
       "HORA             int64\n",
       "DIA_SEMANA       int64\n",
       "DISTRITO        object\n",
       "SEXO             int64\n",
       "EDAD_APROX       int64\n",
       "COD_DISTRITO    object\n",
       "SUP_KM2         object\n",
       "DENSIDAD_KM2    object\n",
       "dtype: object"
      ]
     },
     "execution_count": 214,
     "metadata": {},
     "output_type": "execute_result"
    }
   ],
   "source": [
    "df_inf_xa_dis.dtypes"
   ]
  },
  {
   "cell_type": "code",
   "execution_count": 215,
   "metadata": {},
   "outputs": [
    {
     "data": {
      "text/plain": [
       "'LATINA'"
      ]
     },
     "execution_count": 215,
     "metadata": {},
     "output_type": "execute_result"
    }
   ],
   "source": [
    "predictions_LOGREG[22]"
   ]
  },
  {
   "cell_type": "code",
   "execution_count": 216,
   "metadata": {},
   "outputs": [
    {
     "data": {
      "text/plain": [
       "'LATINA'"
      ]
     },
     "execution_count": 216,
     "metadata": {},
     "output_type": "execute_result"
    }
   ],
   "source": [
    "y_test[22]"
   ]
  },
  {
   "cell_type": "code",
   "execution_count": 217,
   "metadata": {},
   "outputs": [
    {
     "data": {
      "text/plain": [
       "array([[1.81027177e-05, 1.79440127e-05, 1.81051665e-05, 1.73460183e-05,\n",
       "        1.98351893e-05, 1.77757001e-05, 1.87190662e-05, 1.87386624e-05,\n",
       "        1.83323794e-05, 9.99633072e-01, 1.90853745e-05, 1.81478602e-05,\n",
       "        1.89513771e-05, 1.91600520e-05, 1.91678961e-05, 1.89107454e-05,\n",
       "        1.85423476e-05, 1.74742347e-05, 1.79890309e-05, 1.73374297e-05,\n",
       "        1.72631379e-05]])"
      ]
     },
     "execution_count": 217,
     "metadata": {},
     "output_type": "execute_result"
    }
   ],
   "source": [
    "model_LOGREG.predict_proba(X_test)[22:23,]"
   ]
  },
  {
   "cell_type": "code",
   "execution_count": 218,
   "metadata": {},
   "outputs": [
    {
     "data": {
      "text/plain": [
       "array([[-0.52007287, -0.58872225, -0.56477194, ..., -0.63929622,\n",
       "        -0.57246972, -0.57755099],\n",
       "       [-0.44436998, -0.47458309, -0.47018254, ..., -0.57149161,\n",
       "        -0.55215056, -0.51069814],\n",
       "       [-0.48078885, -0.63047681, -0.48528566, ..., -0.59134969,\n",
       "        -0.54599781, -0.51351611],\n",
       "       ...,\n",
       "       [-0.46967634, -0.61271952, -0.5297528 , ..., -0.5388617 ,\n",
       "        -0.56154308, -0.56844021],\n",
       "       [-0.44811428, -0.61215777, -0.47584727, ..., -0.5499953 ,\n",
       "        -0.51306881,  9.90117865],\n",
       "       [10.48456077, -0.61261136, -0.47598592, ..., -0.51324269,\n",
       "        -0.57108565, -0.53204869]])"
      ]
     },
     "execution_count": 218,
     "metadata": {},
     "output_type": "execute_result"
    }
   ],
   "source": [
    "model_LOGREG.decision_function(X_test)"
   ]
  },
  {
   "cell_type": "code",
   "execution_count": 219,
   "metadata": {},
   "outputs": [
    {
     "data": {
      "text/plain": [
       "array(['ARGANZUELA', 'BARAJAS', 'CARABANCHEL', 'CENTRO', 'CHAMARTIN',\n",
       "       'CHAMBERI', 'CIUDAD LINEAL', 'FUENCARRAL-EL PARDO', 'HORTALEZA',\n",
       "       'LATINA', 'MONCLOA-ARAVACA', 'MORATALAZ', 'PUENTE DE VALLECAS',\n",
       "       'RETIRO', 'SALAMANCA', 'SAN BLAS', 'TETUAN', 'USERA', 'VICALVARO',\n",
       "       'VILLA DE VALLECAS', 'VILLAVERDE'], dtype=object)"
      ]
     },
     "execution_count": 219,
     "metadata": {},
     "output_type": "execute_result"
    }
   ],
   "source": [
    "model_LOGREG.classes_"
   ]
  },
  {
   "cell_type": "code",
   "execution_count": 220,
   "metadata": {},
   "outputs": [
    {
     "data": {
      "text/html": [
       "<div>\n",
       "<style scoped>\n",
       "    .dataframe tbody tr th:only-of-type {\n",
       "        vertical-align: middle;\n",
       "    }\n",
       "\n",
       "    .dataframe tbody tr th {\n",
       "        vertical-align: top;\n",
       "    }\n",
       "\n",
       "    .dataframe thead th {\n",
       "        text-align: right;\n",
       "    }\n",
       "</style>\n",
       "<table border=\"1\" class=\"dataframe\">\n",
       "  <thead>\n",
       "    <tr style=\"text-align: right;\">\n",
       "      <th></th>\n",
       "      <th>ARGANZUELA</th>\n",
       "      <th>BARAJAS</th>\n",
       "      <th>CARABANCHEL</th>\n",
       "      <th>CENTRO</th>\n",
       "      <th>CHAMARTIN</th>\n",
       "      <th>CHAMBERI</th>\n",
       "      <th>CIUDAD LINEAL</th>\n",
       "      <th>FUENCARRAL-EL PARDO</th>\n",
       "      <th>HORTALEZA</th>\n",
       "      <th>LATINA</th>\n",
       "      <th>MONCLOA-ARAVACA</th>\n",
       "      <th>MORATALAZ</th>\n",
       "      <th>PUENTE DE VALLECAS</th>\n",
       "      <th>RETIRO</th>\n",
       "      <th>SALAMANCA</th>\n",
       "      <th>SAN BLAS</th>\n",
       "      <th>TETUAN</th>\n",
       "      <th>USERA</th>\n",
       "      <th>VICALVARO</th>\n",
       "      <th>VILLA DE VALLECAS</th>\n",
       "      <th>VILLAVERDE</th>\n",
       "    </tr>\n",
       "  </thead>\n",
       "  <tbody>\n",
       "    <tr>\n",
       "      <th>0</th>\n",
       "      <td>0.000014</td>\n",
       "      <td>0.000013</td>\n",
       "      <td>0.000013</td>\n",
       "      <td>0.000014</td>\n",
       "      <td>0.000014</td>\n",
       "      <td>0.000014</td>\n",
       "      <td>0.999729</td>\n",
       "      <td>0.000014</td>\n",
       "      <td>0.000013</td>\n",
       "      <td>0.000013</td>\n",
       "      <td>0.000014</td>\n",
       "      <td>0.000013</td>\n",
       "      <td>0.000014</td>\n",
       "      <td>0.000014</td>\n",
       "      <td>0.000014</td>\n",
       "      <td>0.000013</td>\n",
       "      <td>0.000014</td>\n",
       "      <td>0.000013</td>\n",
       "      <td>0.000012</td>\n",
       "      <td>0.000013</td>\n",
       "      <td>0.000013</td>\n",
       "    </tr>\n",
       "    <tr>\n",
       "      <th>1</th>\n",
       "      <td>0.000034</td>\n",
       "      <td>0.000033</td>\n",
       "      <td>0.000033</td>\n",
       "      <td>0.000034</td>\n",
       "      <td>0.000033</td>\n",
       "      <td>0.000033</td>\n",
       "      <td>0.000034</td>\n",
       "      <td>0.000032</td>\n",
       "      <td>0.000033</td>\n",
       "      <td>0.000033</td>\n",
       "      <td>0.000032</td>\n",
       "      <td>0.999345</td>\n",
       "      <td>0.000034</td>\n",
       "      <td>0.000033</td>\n",
       "      <td>0.000034</td>\n",
       "      <td>0.000034</td>\n",
       "      <td>0.000032</td>\n",
       "      <td>0.000030</td>\n",
       "      <td>0.000030</td>\n",
       "      <td>0.000031</td>\n",
       "      <td>0.000032</td>\n",
       "    </tr>\n",
       "    <tr>\n",
       "      <th>2</th>\n",
       "      <td>0.000018</td>\n",
       "      <td>0.000015</td>\n",
       "      <td>0.000018</td>\n",
       "      <td>0.000018</td>\n",
       "      <td>0.000017</td>\n",
       "      <td>0.000018</td>\n",
       "      <td>0.000017</td>\n",
       "      <td>0.999662</td>\n",
       "      <td>0.000016</td>\n",
       "      <td>0.000016</td>\n",
       "      <td>0.000017</td>\n",
       "      <td>0.000016</td>\n",
       "      <td>0.000017</td>\n",
       "      <td>0.000017</td>\n",
       "      <td>0.000018</td>\n",
       "      <td>0.000017</td>\n",
       "      <td>0.000018</td>\n",
       "      <td>0.000016</td>\n",
       "      <td>0.000016</td>\n",
       "      <td>0.000016</td>\n",
       "      <td>0.000017</td>\n",
       "    </tr>\n",
       "    <tr>\n",
       "      <th>3</th>\n",
       "      <td>0.000011</td>\n",
       "      <td>0.000011</td>\n",
       "      <td>0.000011</td>\n",
       "      <td>0.000011</td>\n",
       "      <td>0.000012</td>\n",
       "      <td>0.000011</td>\n",
       "      <td>0.000011</td>\n",
       "      <td>0.000011</td>\n",
       "      <td>0.000011</td>\n",
       "      <td>0.000011</td>\n",
       "      <td>0.000011</td>\n",
       "      <td>0.000010</td>\n",
       "      <td>0.000011</td>\n",
       "      <td>0.000012</td>\n",
       "      <td>0.999779</td>\n",
       "      <td>0.000011</td>\n",
       "      <td>0.000012</td>\n",
       "      <td>0.000011</td>\n",
       "      <td>0.000010</td>\n",
       "      <td>0.000010</td>\n",
       "      <td>0.000011</td>\n",
       "    </tr>\n",
       "    <tr>\n",
       "      <th>4</th>\n",
       "      <td>0.000017</td>\n",
       "      <td>0.000015</td>\n",
       "      <td>0.000017</td>\n",
       "      <td>0.000017</td>\n",
       "      <td>0.000016</td>\n",
       "      <td>0.000017</td>\n",
       "      <td>0.000016</td>\n",
       "      <td>0.999674</td>\n",
       "      <td>0.000016</td>\n",
       "      <td>0.000017</td>\n",
       "      <td>0.000017</td>\n",
       "      <td>0.000015</td>\n",
       "      <td>0.000016</td>\n",
       "      <td>0.000017</td>\n",
       "      <td>0.000017</td>\n",
       "      <td>0.000017</td>\n",
       "      <td>0.000017</td>\n",
       "      <td>0.000016</td>\n",
       "      <td>0.000015</td>\n",
       "      <td>0.000016</td>\n",
       "      <td>0.000016</td>\n",
       "    </tr>\n",
       "    <tr>\n",
       "      <th>...</th>\n",
       "      <td>...</td>\n",
       "      <td>...</td>\n",
       "      <td>...</td>\n",
       "      <td>...</td>\n",
       "      <td>...</td>\n",
       "      <td>...</td>\n",
       "      <td>...</td>\n",
       "      <td>...</td>\n",
       "      <td>...</td>\n",
       "      <td>...</td>\n",
       "      <td>...</td>\n",
       "      <td>...</td>\n",
       "      <td>...</td>\n",
       "      <td>...</td>\n",
       "      <td>...</td>\n",
       "      <td>...</td>\n",
       "      <td>...</td>\n",
       "      <td>...</td>\n",
       "      <td>...</td>\n",
       "      <td>...</td>\n",
       "      <td>...</td>\n",
       "    </tr>\n",
       "    <tr>\n",
       "      <th>50595</th>\n",
       "      <td>0.999656</td>\n",
       "      <td>0.000017</td>\n",
       "      <td>0.000017</td>\n",
       "      <td>0.000018</td>\n",
       "      <td>0.000017</td>\n",
       "      <td>0.000018</td>\n",
       "      <td>0.000017</td>\n",
       "      <td>0.000017</td>\n",
       "      <td>0.000017</td>\n",
       "      <td>0.000017</td>\n",
       "      <td>0.000018</td>\n",
       "      <td>0.000017</td>\n",
       "      <td>0.000018</td>\n",
       "      <td>0.000017</td>\n",
       "      <td>0.000018</td>\n",
       "      <td>0.000017</td>\n",
       "      <td>0.000017</td>\n",
       "      <td>0.000016</td>\n",
       "      <td>0.000016</td>\n",
       "      <td>0.000016</td>\n",
       "      <td>0.000018</td>\n",
       "    </tr>\n",
       "    <tr>\n",
       "      <th>50596</th>\n",
       "      <td>0.000017</td>\n",
       "      <td>0.000015</td>\n",
       "      <td>0.000016</td>\n",
       "      <td>0.000016</td>\n",
       "      <td>0.000016</td>\n",
       "      <td>0.000016</td>\n",
       "      <td>0.000017</td>\n",
       "      <td>0.000015</td>\n",
       "      <td>0.000015</td>\n",
       "      <td>0.000016</td>\n",
       "      <td>0.000016</td>\n",
       "      <td>0.000015</td>\n",
       "      <td>0.000016</td>\n",
       "      <td>0.999685</td>\n",
       "      <td>0.000017</td>\n",
       "      <td>0.000016</td>\n",
       "      <td>0.000016</td>\n",
       "      <td>0.000015</td>\n",
       "      <td>0.000015</td>\n",
       "      <td>0.000015</td>\n",
       "      <td>0.000015</td>\n",
       "    </tr>\n",
       "    <tr>\n",
       "      <th>50597</th>\n",
       "      <td>0.000017</td>\n",
       "      <td>0.000015</td>\n",
       "      <td>0.000016</td>\n",
       "      <td>0.000017</td>\n",
       "      <td>0.000017</td>\n",
       "      <td>0.000016</td>\n",
       "      <td>0.000016</td>\n",
       "      <td>0.999677</td>\n",
       "      <td>0.000016</td>\n",
       "      <td>0.000016</td>\n",
       "      <td>0.000016</td>\n",
       "      <td>0.000015</td>\n",
       "      <td>0.000016</td>\n",
       "      <td>0.000017</td>\n",
       "      <td>0.000017</td>\n",
       "      <td>0.000016</td>\n",
       "      <td>0.000017</td>\n",
       "      <td>0.000015</td>\n",
       "      <td>0.000016</td>\n",
       "      <td>0.000016</td>\n",
       "      <td>0.000015</td>\n",
       "    </tr>\n",
       "    <tr>\n",
       "      <th>50598</th>\n",
       "      <td>0.000032</td>\n",
       "      <td>0.000027</td>\n",
       "      <td>0.000031</td>\n",
       "      <td>0.000032</td>\n",
       "      <td>0.000032</td>\n",
       "      <td>0.000032</td>\n",
       "      <td>0.000030</td>\n",
       "      <td>0.000030</td>\n",
       "      <td>0.000029</td>\n",
       "      <td>0.000030</td>\n",
       "      <td>0.000032</td>\n",
       "      <td>0.000030</td>\n",
       "      <td>0.000031</td>\n",
       "      <td>0.000033</td>\n",
       "      <td>0.000032</td>\n",
       "      <td>0.000030</td>\n",
       "      <td>0.000032</td>\n",
       "      <td>0.000029</td>\n",
       "      <td>0.000029</td>\n",
       "      <td>0.000030</td>\n",
       "      <td>0.999389</td>\n",
       "    </tr>\n",
       "    <tr>\n",
       "      <th>50599</th>\n",
       "      <td>0.999669</td>\n",
       "      <td>0.000015</td>\n",
       "      <td>0.000017</td>\n",
       "      <td>0.000017</td>\n",
       "      <td>0.000017</td>\n",
       "      <td>0.000015</td>\n",
       "      <td>0.000017</td>\n",
       "      <td>0.000017</td>\n",
       "      <td>0.000016</td>\n",
       "      <td>0.000017</td>\n",
       "      <td>0.000017</td>\n",
       "      <td>0.000017</td>\n",
       "      <td>0.000018</td>\n",
       "      <td>0.000017</td>\n",
       "      <td>0.000017</td>\n",
       "      <td>0.000016</td>\n",
       "      <td>0.000016</td>\n",
       "      <td>0.000017</td>\n",
       "      <td>0.000017</td>\n",
       "      <td>0.000016</td>\n",
       "      <td>0.000016</td>\n",
       "    </tr>\n",
       "  </tbody>\n",
       "</table>\n",
       "<p>50600 rows × 21 columns</p>\n",
       "</div>"
      ],
      "text/plain": [
       "       ARGANZUELA   BARAJAS  CARABANCHEL    CENTRO  CHAMARTIN  CHAMBERI  \\\n",
       "0        0.000014  0.000013     0.000013  0.000014   0.000014  0.000014   \n",
       "1        0.000034  0.000033     0.000033  0.000034   0.000033  0.000033   \n",
       "2        0.000018  0.000015     0.000018  0.000018   0.000017  0.000018   \n",
       "3        0.000011  0.000011     0.000011  0.000011   0.000012  0.000011   \n",
       "4        0.000017  0.000015     0.000017  0.000017   0.000016  0.000017   \n",
       "...           ...       ...          ...       ...        ...       ...   \n",
       "50595    0.999656  0.000017     0.000017  0.000018   0.000017  0.000018   \n",
       "50596    0.000017  0.000015     0.000016  0.000016   0.000016  0.000016   \n",
       "50597    0.000017  0.000015     0.000016  0.000017   0.000017  0.000016   \n",
       "50598    0.000032  0.000027     0.000031  0.000032   0.000032  0.000032   \n",
       "50599    0.999669  0.000015     0.000017  0.000017   0.000017  0.000015   \n",
       "\n",
       "       CIUDAD LINEAL  FUENCARRAL-EL PARDO  HORTALEZA    LATINA  \\\n",
       "0           0.999729             0.000014   0.000013  0.000013   \n",
       "1           0.000034             0.000032   0.000033  0.000033   \n",
       "2           0.000017             0.999662   0.000016  0.000016   \n",
       "3           0.000011             0.000011   0.000011  0.000011   \n",
       "4           0.000016             0.999674   0.000016  0.000017   \n",
       "...              ...                  ...        ...       ...   \n",
       "50595       0.000017             0.000017   0.000017  0.000017   \n",
       "50596       0.000017             0.000015   0.000015  0.000016   \n",
       "50597       0.000016             0.999677   0.000016  0.000016   \n",
       "50598       0.000030             0.000030   0.000029  0.000030   \n",
       "50599       0.000017             0.000017   0.000016  0.000017   \n",
       "\n",
       "       MONCLOA-ARAVACA  MORATALAZ  PUENTE DE VALLECAS    RETIRO  SALAMANCA  \\\n",
       "0             0.000014   0.000013            0.000014  0.000014   0.000014   \n",
       "1             0.000032   0.999345            0.000034  0.000033   0.000034   \n",
       "2             0.000017   0.000016            0.000017  0.000017   0.000018   \n",
       "3             0.000011   0.000010            0.000011  0.000012   0.999779   \n",
       "4             0.000017   0.000015            0.000016  0.000017   0.000017   \n",
       "...                ...        ...                 ...       ...        ...   \n",
       "50595         0.000018   0.000017            0.000018  0.000017   0.000018   \n",
       "50596         0.000016   0.000015            0.000016  0.999685   0.000017   \n",
       "50597         0.000016   0.000015            0.000016  0.000017   0.000017   \n",
       "50598         0.000032   0.000030            0.000031  0.000033   0.000032   \n",
       "50599         0.000017   0.000017            0.000018  0.000017   0.000017   \n",
       "\n",
       "       SAN BLAS    TETUAN     USERA  VICALVARO  VILLA DE VALLECAS  VILLAVERDE  \n",
       "0      0.000013  0.000014  0.000013   0.000012           0.000013    0.000013  \n",
       "1      0.000034  0.000032  0.000030   0.000030           0.000031    0.000032  \n",
       "2      0.000017  0.000018  0.000016   0.000016           0.000016    0.000017  \n",
       "3      0.000011  0.000012  0.000011   0.000010           0.000010    0.000011  \n",
       "4      0.000017  0.000017  0.000016   0.000015           0.000016    0.000016  \n",
       "...         ...       ...       ...        ...                ...         ...  \n",
       "50595  0.000017  0.000017  0.000016   0.000016           0.000016    0.000018  \n",
       "50596  0.000016  0.000016  0.000015   0.000015           0.000015    0.000015  \n",
       "50597  0.000016  0.000017  0.000015   0.000016           0.000016    0.000015  \n",
       "50598  0.000030  0.000032  0.000029   0.000029           0.000030    0.999389  \n",
       "50599  0.000016  0.000016  0.000017   0.000017           0.000016    0.000016  \n",
       "\n",
       "[50600 rows x 21 columns]"
      ]
     },
     "execution_count": 220,
     "metadata": {},
     "output_type": "execute_result"
    }
   ],
   "source": [
    "pd.DataFrame(model_LOGREG.predict_proba(X_test), columns=model_LOGREG.classes_)"
   ]
  },
  {
   "cell_type": "code",
   "execution_count": 221,
   "metadata": {},
   "outputs": [
    {
     "data": {
      "text/html": [
       "<div>\n",
       "<style scoped>\n",
       "    .dataframe tbody tr th:only-of-type {\n",
       "        vertical-align: middle;\n",
       "    }\n",
       "\n",
       "    .dataframe tbody tr th {\n",
       "        vertical-align: top;\n",
       "    }\n",
       "\n",
       "    .dataframe thead th {\n",
       "        text-align: right;\n",
       "    }\n",
       "</style>\n",
       "<table border=\"1\" class=\"dataframe\">\n",
       "  <thead>\n",
       "    <tr style=\"text-align: right;\">\n",
       "      <th></th>\n",
       "      <th>ARGANZUELA</th>\n",
       "      <th>BARAJAS</th>\n",
       "      <th>CARABANCHEL</th>\n",
       "      <th>CENTRO</th>\n",
       "      <th>CHAMARTIN</th>\n",
       "      <th>CHAMBERI</th>\n",
       "      <th>CIUDAD LINEAL</th>\n",
       "      <th>FUENCARRAL-EL PARDO</th>\n",
       "      <th>HORTALEZA</th>\n",
       "      <th>LATINA</th>\n",
       "      <th>MONCLOA-ARAVACA</th>\n",
       "      <th>MORATALAZ</th>\n",
       "      <th>PUENTE DE VALLECAS</th>\n",
       "      <th>RETIRO</th>\n",
       "      <th>SALAMANCA</th>\n",
       "      <th>SAN BLAS</th>\n",
       "      <th>TETUAN</th>\n",
       "      <th>USERA</th>\n",
       "      <th>VICALVARO</th>\n",
       "      <th>VILLA DE VALLECAS</th>\n",
       "      <th>VILLAVERDE</th>\n",
       "    </tr>\n",
       "  </thead>\n",
       "  <tbody>\n",
       "    <tr>\n",
       "      <th>0</th>\n",
       "      <td>0.000014</td>\n",
       "      <td>0.000013</td>\n",
       "      <td>0.000013</td>\n",
       "      <td>0.000014</td>\n",
       "      <td>0.000014</td>\n",
       "      <td>0.000014</td>\n",
       "      <td>0.999729</td>\n",
       "      <td>0.000014</td>\n",
       "      <td>0.000013</td>\n",
       "      <td>0.000013</td>\n",
       "      <td>0.000014</td>\n",
       "      <td>0.000013</td>\n",
       "      <td>0.000014</td>\n",
       "      <td>0.000014</td>\n",
       "      <td>0.000014</td>\n",
       "      <td>0.000013</td>\n",
       "      <td>0.000014</td>\n",
       "      <td>0.000013</td>\n",
       "      <td>0.000012</td>\n",
       "      <td>0.000013</td>\n",
       "      <td>0.000013</td>\n",
       "    </tr>\n",
       "    <tr>\n",
       "      <th>1</th>\n",
       "      <td>0.000034</td>\n",
       "      <td>0.000033</td>\n",
       "      <td>0.000033</td>\n",
       "      <td>0.000034</td>\n",
       "      <td>0.000033</td>\n",
       "      <td>0.000033</td>\n",
       "      <td>0.000034</td>\n",
       "      <td>0.000032</td>\n",
       "      <td>0.000033</td>\n",
       "      <td>0.000033</td>\n",
       "      <td>0.000032</td>\n",
       "      <td>0.999345</td>\n",
       "      <td>0.000034</td>\n",
       "      <td>0.000033</td>\n",
       "      <td>0.000034</td>\n",
       "      <td>0.000034</td>\n",
       "      <td>0.000032</td>\n",
       "      <td>0.000030</td>\n",
       "      <td>0.000030</td>\n",
       "      <td>0.000031</td>\n",
       "      <td>0.000032</td>\n",
       "    </tr>\n",
       "    <tr>\n",
       "      <th>2</th>\n",
       "      <td>0.000018</td>\n",
       "      <td>0.000015</td>\n",
       "      <td>0.000018</td>\n",
       "      <td>0.000018</td>\n",
       "      <td>0.000017</td>\n",
       "      <td>0.000018</td>\n",
       "      <td>0.000017</td>\n",
       "      <td>0.999662</td>\n",
       "      <td>0.000016</td>\n",
       "      <td>0.000016</td>\n",
       "      <td>0.000017</td>\n",
       "      <td>0.000016</td>\n",
       "      <td>0.000017</td>\n",
       "      <td>0.000017</td>\n",
       "      <td>0.000018</td>\n",
       "      <td>0.000017</td>\n",
       "      <td>0.000018</td>\n",
       "      <td>0.000016</td>\n",
       "      <td>0.000016</td>\n",
       "      <td>0.000016</td>\n",
       "      <td>0.000017</td>\n",
       "    </tr>\n",
       "    <tr>\n",
       "      <th>3</th>\n",
       "      <td>0.000011</td>\n",
       "      <td>0.000011</td>\n",
       "      <td>0.000011</td>\n",
       "      <td>0.000011</td>\n",
       "      <td>0.000012</td>\n",
       "      <td>0.000011</td>\n",
       "      <td>0.000011</td>\n",
       "      <td>0.000011</td>\n",
       "      <td>0.000011</td>\n",
       "      <td>0.000011</td>\n",
       "      <td>0.000011</td>\n",
       "      <td>0.000010</td>\n",
       "      <td>0.000011</td>\n",
       "      <td>0.000012</td>\n",
       "      <td>0.999779</td>\n",
       "      <td>0.000011</td>\n",
       "      <td>0.000012</td>\n",
       "      <td>0.000011</td>\n",
       "      <td>0.000010</td>\n",
       "      <td>0.000010</td>\n",
       "      <td>0.000011</td>\n",
       "    </tr>\n",
       "    <tr>\n",
       "      <th>4</th>\n",
       "      <td>0.000017</td>\n",
       "      <td>0.000015</td>\n",
       "      <td>0.000017</td>\n",
       "      <td>0.000017</td>\n",
       "      <td>0.000016</td>\n",
       "      <td>0.000017</td>\n",
       "      <td>0.000016</td>\n",
       "      <td>0.999674</td>\n",
       "      <td>0.000016</td>\n",
       "      <td>0.000017</td>\n",
       "      <td>0.000017</td>\n",
       "      <td>0.000015</td>\n",
       "      <td>0.000016</td>\n",
       "      <td>0.000017</td>\n",
       "      <td>0.000017</td>\n",
       "      <td>0.000017</td>\n",
       "      <td>0.000017</td>\n",
       "      <td>0.000016</td>\n",
       "      <td>0.000015</td>\n",
       "      <td>0.000016</td>\n",
       "      <td>0.000016</td>\n",
       "    </tr>\n",
       "  </tbody>\n",
       "</table>\n",
       "</div>"
      ],
      "text/plain": [
       "   ARGANZUELA   BARAJAS  CARABANCHEL    CENTRO  CHAMARTIN  CHAMBERI  \\\n",
       "0    0.000014  0.000013     0.000013  0.000014   0.000014  0.000014   \n",
       "1    0.000034  0.000033     0.000033  0.000034   0.000033  0.000033   \n",
       "2    0.000018  0.000015     0.000018  0.000018   0.000017  0.000018   \n",
       "3    0.000011  0.000011     0.000011  0.000011   0.000012  0.000011   \n",
       "4    0.000017  0.000015     0.000017  0.000017   0.000016  0.000017   \n",
       "\n",
       "   CIUDAD LINEAL  FUENCARRAL-EL PARDO  HORTALEZA    LATINA  MONCLOA-ARAVACA  \\\n",
       "0       0.999729             0.000014   0.000013  0.000013         0.000014   \n",
       "1       0.000034             0.000032   0.000033  0.000033         0.000032   \n",
       "2       0.000017             0.999662   0.000016  0.000016         0.000017   \n",
       "3       0.000011             0.000011   0.000011  0.000011         0.000011   \n",
       "4       0.000016             0.999674   0.000016  0.000017         0.000017   \n",
       "\n",
       "   MORATALAZ  PUENTE DE VALLECAS    RETIRO  SALAMANCA  SAN BLAS    TETUAN  \\\n",
       "0   0.000013            0.000014  0.000014   0.000014  0.000013  0.000014   \n",
       "1   0.999345            0.000034  0.000033   0.000034  0.000034  0.000032   \n",
       "2   0.000016            0.000017  0.000017   0.000018  0.000017  0.000018   \n",
       "3   0.000010            0.000011  0.000012   0.999779  0.000011  0.000012   \n",
       "4   0.000015            0.000016  0.000017   0.000017  0.000017  0.000017   \n",
       "\n",
       "      USERA  VICALVARO  VILLA DE VALLECAS  VILLAVERDE  \n",
       "0  0.000013   0.000012           0.000013    0.000013  \n",
       "1  0.000030   0.000030           0.000031    0.000032  \n",
       "2  0.000016   0.000016           0.000016    0.000017  \n",
       "3  0.000011   0.000010           0.000010    0.000011  \n",
       "4  0.000016   0.000015           0.000016    0.000016  "
      ]
     },
     "execution_count": 221,
     "metadata": {},
     "output_type": "execute_result"
    }
   ],
   "source": [
    "pd.DataFrame(model_LOGREG.predict_proba(X_test), columns=model_LOGREG.classes_).head(5)"
   ]
  },
  {
   "cell_type": "code",
   "execution_count": 222,
   "metadata": {},
   "outputs": [
    {
     "data": {
      "text/html": [
       "<div>\n",
       "<style scoped>\n",
       "    .dataframe tbody tr th:only-of-type {\n",
       "        vertical-align: middle;\n",
       "    }\n",
       "\n",
       "    .dataframe tbody tr th {\n",
       "        vertical-align: top;\n",
       "    }\n",
       "\n",
       "    .dataframe thead th {\n",
       "        text-align: right;\n",
       "    }\n",
       "</style>\n",
       "<table border=\"1\" class=\"dataframe\">\n",
       "  <thead>\n",
       "    <tr style=\"text-align: right;\">\n",
       "      <th></th>\n",
       "      <th>0</th>\n",
       "      <th>1</th>\n",
       "      <th>2</th>\n",
       "      <th>3</th>\n",
       "      <th>4</th>\n",
       "      <th>5</th>\n",
       "      <th>6</th>\n",
       "      <th>7</th>\n",
       "      <th>8</th>\n",
       "      <th>9</th>\n",
       "      <th>10</th>\n",
       "      <th>11</th>\n",
       "      <th>12</th>\n",
       "      <th>13</th>\n",
       "      <th>14</th>\n",
       "      <th>15</th>\n",
       "      <th>16</th>\n",
       "      <th>17</th>\n",
       "      <th>18</th>\n",
       "      <th>19</th>\n",
       "      <th>20</th>\n",
       "    </tr>\n",
       "  </thead>\n",
       "  <tbody>\n",
       "    <tr>\n",
       "      <th>0</th>\n",
       "      <td>0.000014</td>\n",
       "      <td>0.000013</td>\n",
       "      <td>0.000013</td>\n",
       "      <td>0.000014</td>\n",
       "      <td>0.000014</td>\n",
       "      <td>0.000014</td>\n",
       "      <td>0.999729</td>\n",
       "      <td>0.000014</td>\n",
       "      <td>0.000013</td>\n",
       "      <td>0.000013</td>\n",
       "      <td>0.000014</td>\n",
       "      <td>0.000013</td>\n",
       "      <td>0.000014</td>\n",
       "      <td>0.000014</td>\n",
       "      <td>0.000014</td>\n",
       "      <td>0.000013</td>\n",
       "      <td>0.000014</td>\n",
       "      <td>0.000013</td>\n",
       "      <td>0.000012</td>\n",
       "      <td>0.000013</td>\n",
       "      <td>0.000013</td>\n",
       "    </tr>\n",
       "    <tr>\n",
       "      <th>1</th>\n",
       "      <td>0.000034</td>\n",
       "      <td>0.000033</td>\n",
       "      <td>0.000033</td>\n",
       "      <td>0.000034</td>\n",
       "      <td>0.000033</td>\n",
       "      <td>0.000033</td>\n",
       "      <td>0.000034</td>\n",
       "      <td>0.000032</td>\n",
       "      <td>0.000033</td>\n",
       "      <td>0.000033</td>\n",
       "      <td>0.000032</td>\n",
       "      <td>0.999345</td>\n",
       "      <td>0.000034</td>\n",
       "      <td>0.000033</td>\n",
       "      <td>0.000034</td>\n",
       "      <td>0.000034</td>\n",
       "      <td>0.000032</td>\n",
       "      <td>0.000030</td>\n",
       "      <td>0.000030</td>\n",
       "      <td>0.000031</td>\n",
       "      <td>0.000032</td>\n",
       "    </tr>\n",
       "    <tr>\n",
       "      <th>2</th>\n",
       "      <td>0.000018</td>\n",
       "      <td>0.000015</td>\n",
       "      <td>0.000018</td>\n",
       "      <td>0.000018</td>\n",
       "      <td>0.000017</td>\n",
       "      <td>0.000018</td>\n",
       "      <td>0.000017</td>\n",
       "      <td>0.999662</td>\n",
       "      <td>0.000016</td>\n",
       "      <td>0.000016</td>\n",
       "      <td>0.000017</td>\n",
       "      <td>0.000016</td>\n",
       "      <td>0.000017</td>\n",
       "      <td>0.000017</td>\n",
       "      <td>0.000018</td>\n",
       "      <td>0.000017</td>\n",
       "      <td>0.000018</td>\n",
       "      <td>0.000016</td>\n",
       "      <td>0.000016</td>\n",
       "      <td>0.000016</td>\n",
       "      <td>0.000017</td>\n",
       "    </tr>\n",
       "    <tr>\n",
       "      <th>3</th>\n",
       "      <td>0.000011</td>\n",
       "      <td>0.000011</td>\n",
       "      <td>0.000011</td>\n",
       "      <td>0.000011</td>\n",
       "      <td>0.000012</td>\n",
       "      <td>0.000011</td>\n",
       "      <td>0.000011</td>\n",
       "      <td>0.000011</td>\n",
       "      <td>0.000011</td>\n",
       "      <td>0.000011</td>\n",
       "      <td>0.000011</td>\n",
       "      <td>0.000010</td>\n",
       "      <td>0.000011</td>\n",
       "      <td>0.000012</td>\n",
       "      <td>0.999779</td>\n",
       "      <td>0.000011</td>\n",
       "      <td>0.000012</td>\n",
       "      <td>0.000011</td>\n",
       "      <td>0.000010</td>\n",
       "      <td>0.000010</td>\n",
       "      <td>0.000011</td>\n",
       "    </tr>\n",
       "    <tr>\n",
       "      <th>4</th>\n",
       "      <td>0.000017</td>\n",
       "      <td>0.000015</td>\n",
       "      <td>0.000017</td>\n",
       "      <td>0.000017</td>\n",
       "      <td>0.000016</td>\n",
       "      <td>0.000017</td>\n",
       "      <td>0.000016</td>\n",
       "      <td>0.999674</td>\n",
       "      <td>0.000016</td>\n",
       "      <td>0.000017</td>\n",
       "      <td>0.000017</td>\n",
       "      <td>0.000015</td>\n",
       "      <td>0.000016</td>\n",
       "      <td>0.000017</td>\n",
       "      <td>0.000017</td>\n",
       "      <td>0.000017</td>\n",
       "      <td>0.000017</td>\n",
       "      <td>0.000016</td>\n",
       "      <td>0.000015</td>\n",
       "      <td>0.000016</td>\n",
       "      <td>0.000016</td>\n",
       "    </tr>\n",
       "    <tr>\n",
       "      <th>...</th>\n",
       "      <td>...</td>\n",
       "      <td>...</td>\n",
       "      <td>...</td>\n",
       "      <td>...</td>\n",
       "      <td>...</td>\n",
       "      <td>...</td>\n",
       "      <td>...</td>\n",
       "      <td>...</td>\n",
       "      <td>...</td>\n",
       "      <td>...</td>\n",
       "      <td>...</td>\n",
       "      <td>...</td>\n",
       "      <td>...</td>\n",
       "      <td>...</td>\n",
       "      <td>...</td>\n",
       "      <td>...</td>\n",
       "      <td>...</td>\n",
       "      <td>...</td>\n",
       "      <td>...</td>\n",
       "      <td>...</td>\n",
       "      <td>...</td>\n",
       "    </tr>\n",
       "    <tr>\n",
       "      <th>50595</th>\n",
       "      <td>0.999656</td>\n",
       "      <td>0.000017</td>\n",
       "      <td>0.000017</td>\n",
       "      <td>0.000018</td>\n",
       "      <td>0.000017</td>\n",
       "      <td>0.000018</td>\n",
       "      <td>0.000017</td>\n",
       "      <td>0.000017</td>\n",
       "      <td>0.000017</td>\n",
       "      <td>0.000017</td>\n",
       "      <td>0.000018</td>\n",
       "      <td>0.000017</td>\n",
       "      <td>0.000018</td>\n",
       "      <td>0.000017</td>\n",
       "      <td>0.000018</td>\n",
       "      <td>0.000017</td>\n",
       "      <td>0.000017</td>\n",
       "      <td>0.000016</td>\n",
       "      <td>0.000016</td>\n",
       "      <td>0.000016</td>\n",
       "      <td>0.000018</td>\n",
       "    </tr>\n",
       "    <tr>\n",
       "      <th>50596</th>\n",
       "      <td>0.000017</td>\n",
       "      <td>0.000015</td>\n",
       "      <td>0.000016</td>\n",
       "      <td>0.000016</td>\n",
       "      <td>0.000016</td>\n",
       "      <td>0.000016</td>\n",
       "      <td>0.000017</td>\n",
       "      <td>0.000015</td>\n",
       "      <td>0.000015</td>\n",
       "      <td>0.000016</td>\n",
       "      <td>0.000016</td>\n",
       "      <td>0.000015</td>\n",
       "      <td>0.000016</td>\n",
       "      <td>0.999685</td>\n",
       "      <td>0.000017</td>\n",
       "      <td>0.000016</td>\n",
       "      <td>0.000016</td>\n",
       "      <td>0.000015</td>\n",
       "      <td>0.000015</td>\n",
       "      <td>0.000015</td>\n",
       "      <td>0.000015</td>\n",
       "    </tr>\n",
       "    <tr>\n",
       "      <th>50597</th>\n",
       "      <td>0.000017</td>\n",
       "      <td>0.000015</td>\n",
       "      <td>0.000016</td>\n",
       "      <td>0.000017</td>\n",
       "      <td>0.000017</td>\n",
       "      <td>0.000016</td>\n",
       "      <td>0.000016</td>\n",
       "      <td>0.999677</td>\n",
       "      <td>0.000016</td>\n",
       "      <td>0.000016</td>\n",
       "      <td>0.000016</td>\n",
       "      <td>0.000015</td>\n",
       "      <td>0.000016</td>\n",
       "      <td>0.000017</td>\n",
       "      <td>0.000017</td>\n",
       "      <td>0.000016</td>\n",
       "      <td>0.000017</td>\n",
       "      <td>0.000015</td>\n",
       "      <td>0.000016</td>\n",
       "      <td>0.000016</td>\n",
       "      <td>0.000015</td>\n",
       "    </tr>\n",
       "    <tr>\n",
       "      <th>50598</th>\n",
       "      <td>0.000032</td>\n",
       "      <td>0.000027</td>\n",
       "      <td>0.000031</td>\n",
       "      <td>0.000032</td>\n",
       "      <td>0.000032</td>\n",
       "      <td>0.000032</td>\n",
       "      <td>0.000030</td>\n",
       "      <td>0.000030</td>\n",
       "      <td>0.000029</td>\n",
       "      <td>0.000030</td>\n",
       "      <td>0.000032</td>\n",
       "      <td>0.000030</td>\n",
       "      <td>0.000031</td>\n",
       "      <td>0.000033</td>\n",
       "      <td>0.000032</td>\n",
       "      <td>0.000030</td>\n",
       "      <td>0.000032</td>\n",
       "      <td>0.000029</td>\n",
       "      <td>0.000029</td>\n",
       "      <td>0.000030</td>\n",
       "      <td>0.999389</td>\n",
       "    </tr>\n",
       "    <tr>\n",
       "      <th>50599</th>\n",
       "      <td>0.999669</td>\n",
       "      <td>0.000015</td>\n",
       "      <td>0.000017</td>\n",
       "      <td>0.000017</td>\n",
       "      <td>0.000017</td>\n",
       "      <td>0.000015</td>\n",
       "      <td>0.000017</td>\n",
       "      <td>0.000017</td>\n",
       "      <td>0.000016</td>\n",
       "      <td>0.000017</td>\n",
       "      <td>0.000017</td>\n",
       "      <td>0.000017</td>\n",
       "      <td>0.000018</td>\n",
       "      <td>0.000017</td>\n",
       "      <td>0.000017</td>\n",
       "      <td>0.000016</td>\n",
       "      <td>0.000016</td>\n",
       "      <td>0.000017</td>\n",
       "      <td>0.000017</td>\n",
       "      <td>0.000016</td>\n",
       "      <td>0.000016</td>\n",
       "    </tr>\n",
       "  </tbody>\n",
       "</table>\n",
       "<p>50600 rows × 21 columns</p>\n",
       "</div>"
      ],
      "text/plain": [
       "              0         1         2         3         4         5         6  \\\n",
       "0      0.000014  0.000013  0.000013  0.000014  0.000014  0.000014  0.999729   \n",
       "1      0.000034  0.000033  0.000033  0.000034  0.000033  0.000033  0.000034   \n",
       "2      0.000018  0.000015  0.000018  0.000018  0.000017  0.000018  0.000017   \n",
       "3      0.000011  0.000011  0.000011  0.000011  0.000012  0.000011  0.000011   \n",
       "4      0.000017  0.000015  0.000017  0.000017  0.000016  0.000017  0.000016   \n",
       "...         ...       ...       ...       ...       ...       ...       ...   \n",
       "50595  0.999656  0.000017  0.000017  0.000018  0.000017  0.000018  0.000017   \n",
       "50596  0.000017  0.000015  0.000016  0.000016  0.000016  0.000016  0.000017   \n",
       "50597  0.000017  0.000015  0.000016  0.000017  0.000017  0.000016  0.000016   \n",
       "50598  0.000032  0.000027  0.000031  0.000032  0.000032  0.000032  0.000030   \n",
       "50599  0.999669  0.000015  0.000017  0.000017  0.000017  0.000015  0.000017   \n",
       "\n",
       "              7         8         9        10        11        12        13  \\\n",
       "0      0.000014  0.000013  0.000013  0.000014  0.000013  0.000014  0.000014   \n",
       "1      0.000032  0.000033  0.000033  0.000032  0.999345  0.000034  0.000033   \n",
       "2      0.999662  0.000016  0.000016  0.000017  0.000016  0.000017  0.000017   \n",
       "3      0.000011  0.000011  0.000011  0.000011  0.000010  0.000011  0.000012   \n",
       "4      0.999674  0.000016  0.000017  0.000017  0.000015  0.000016  0.000017   \n",
       "...         ...       ...       ...       ...       ...       ...       ...   \n",
       "50595  0.000017  0.000017  0.000017  0.000018  0.000017  0.000018  0.000017   \n",
       "50596  0.000015  0.000015  0.000016  0.000016  0.000015  0.000016  0.999685   \n",
       "50597  0.999677  0.000016  0.000016  0.000016  0.000015  0.000016  0.000017   \n",
       "50598  0.000030  0.000029  0.000030  0.000032  0.000030  0.000031  0.000033   \n",
       "50599  0.000017  0.000016  0.000017  0.000017  0.000017  0.000018  0.000017   \n",
       "\n",
       "             14        15        16        17        18        19        20  \n",
       "0      0.000014  0.000013  0.000014  0.000013  0.000012  0.000013  0.000013  \n",
       "1      0.000034  0.000034  0.000032  0.000030  0.000030  0.000031  0.000032  \n",
       "2      0.000018  0.000017  0.000018  0.000016  0.000016  0.000016  0.000017  \n",
       "3      0.999779  0.000011  0.000012  0.000011  0.000010  0.000010  0.000011  \n",
       "4      0.000017  0.000017  0.000017  0.000016  0.000015  0.000016  0.000016  \n",
       "...         ...       ...       ...       ...       ...       ...       ...  \n",
       "50595  0.000018  0.000017  0.000017  0.000016  0.000016  0.000016  0.000018  \n",
       "50596  0.000017  0.000016  0.000016  0.000015  0.000015  0.000015  0.000015  \n",
       "50597  0.000017  0.000016  0.000017  0.000015  0.000016  0.000016  0.000015  \n",
       "50598  0.000032  0.000030  0.000032  0.000029  0.000029  0.000030  0.999389  \n",
       "50599  0.000017  0.000016  0.000016  0.000017  0.000017  0.000016  0.000016  \n",
       "\n",
       "[50600 rows x 21 columns]"
      ]
     },
     "execution_count": 222,
     "metadata": {},
     "output_type": "execute_result"
    }
   ],
   "source": [
    "pd.DataFrame(model_LOGREG.predict_proba(X_test))"
   ]
  },
  {
   "cell_type": "code",
   "execution_count": 223,
   "metadata": {},
   "outputs": [
    {
     "data": {
      "text/plain": [
       "'CIUDAD LINEAL'"
      ]
     },
     "execution_count": 223,
     "metadata": {},
     "output_type": "execute_result"
    }
   ],
   "source": [
    "predictions_LOGREG[0]"
   ]
  },
  {
   "cell_type": "code",
   "execution_count": 224,
   "metadata": {},
   "outputs": [
    {
     "data": {
      "text/plain": [
       "'MORATALAZ'"
      ]
     },
     "execution_count": 224,
     "metadata": {},
     "output_type": "execute_result"
    }
   ],
   "source": [
    "predictions_LOGREG[1]"
   ]
  },
  {
   "cell_type": "code",
   "execution_count": 225,
   "metadata": {},
   "outputs": [],
   "source": [
    "# For decode test patterns (just create a copy before transformation)\n",
    "# add probability by index\n",
    "# eliminate surface and density (although they would be worth us for other calculations)"
   ]
  },
  {
   "cell_type": "code",
   "execution_count": 226,
   "metadata": {},
   "outputs": [
    {
     "data": {
      "text/html": [
       "<div>\n",
       "<style scoped>\n",
       "    .dataframe tbody tr th:only-of-type {\n",
       "        vertical-align: middle;\n",
       "    }\n",
       "\n",
       "    .dataframe tbody tr th {\n",
       "        vertical-align: top;\n",
       "    }\n",
       "\n",
       "    .dataframe thead th {\n",
       "        text-align: right;\n",
       "    }\n",
       "</style>\n",
       "<table border=\"1\" class=\"dataframe\">\n",
       "  <thead>\n",
       "    <tr style=\"text-align: right;\">\n",
       "      <th></th>\n",
       "      <th>HORA</th>\n",
       "      <th>DIA_SEMANA</th>\n",
       "      <th>DISTRITO</th>\n",
       "      <th>SEXO</th>\n",
       "      <th>EDAD_APROX</th>\n",
       "    </tr>\n",
       "  </thead>\n",
       "  <tbody>\n",
       "    <tr>\n",
       "      <th>0</th>\n",
       "      <td>00:00</td>\n",
       "      <td>VIERNES</td>\n",
       "      <td>CHAMARTIN</td>\n",
       "      <td>HOMBRE</td>\n",
       "      <td>20</td>\n",
       "    </tr>\n",
       "  </tbody>\n",
       "</table>\n",
       "</div>"
      ],
      "text/plain": [
       "    HORA DIA_SEMANA   DISTRITO    SEXO EDAD_APROX\n",
       "0  00:00    VIERNES  CHAMARTIN  HOMBRE         20"
      ]
     },
     "execution_count": 226,
     "metadata": {},
     "output_type": "execute_result"
    }
   ],
   "source": [
    "df_accs.head(1)"
   ]
  },
  {
   "cell_type": "code",
   "execution_count": 227,
   "metadata": {},
   "outputs": [
    {
     "data": {
      "text/html": [
       "<div>\n",
       "<style scoped>\n",
       "    .dataframe tbody tr th:only-of-type {\n",
       "        vertical-align: middle;\n",
       "    }\n",
       "\n",
       "    .dataframe tbody tr th {\n",
       "        vertical-align: top;\n",
       "    }\n",
       "\n",
       "    .dataframe thead th {\n",
       "        text-align: right;\n",
       "    }\n",
       "</style>\n",
       "<table border=\"1\" class=\"dataframe\">\n",
       "  <thead>\n",
       "    <tr style=\"text-align: right;\">\n",
       "      <th></th>\n",
       "      <th>HORA</th>\n",
       "      <th>DIA_SEMANA</th>\n",
       "      <th>DISTRITO</th>\n",
       "      <th>SEXO</th>\n",
       "      <th>EDAD_APROX</th>\n",
       "    </tr>\n",
       "  </thead>\n",
       "  <tbody>\n",
       "    <tr>\n",
       "      <th>0</th>\n",
       "      <td>0</td>\n",
       "      <td>6</td>\n",
       "      <td>CHAMARTIN</td>\n",
       "      <td>0</td>\n",
       "      <td>3</td>\n",
       "    </tr>\n",
       "  </tbody>\n",
       "</table>\n",
       "</div>"
      ],
      "text/plain": [
       "   HORA  DIA_SEMANA   DISTRITO  SEXO  EDAD_APROX\n",
       "0     0           6  CHAMARTIN     0           3"
      ]
     },
     "execution_count": 227,
     "metadata": {},
     "output_type": "execute_result"
    }
   ],
   "source": [
    "df_accs_lab_ohe.head(1)"
   ]
  },
  {
   "cell_type": "code",
   "execution_count": 228,
   "metadata": {},
   "outputs": [],
   "source": [
    "######### Visual tests"
   ]
  },
  {
   "cell_type": "code",
   "execution_count": 229,
   "metadata": {},
   "outputs": [],
   "source": [
    "#del visual\n",
    "#del visual_sample"
   ]
  },
  {
   "cell_type": "code",
   "execution_count": 230,
   "metadata": {},
   "outputs": [],
   "source": [
    "visual = pd.DataFrame(model_LOGREG.predict_proba(X_test), columns=model_LOGREG.classes_)\n",
    "visual_sample = visual.sample(n=5000).reset_index(drop=True)"
   ]
  },
  {
   "cell_type": "code",
   "execution_count": 231,
   "metadata": {},
   "outputs": [
    {
     "data": {
      "text/plain": [
       "array(['VIERNES', 'SABADO', 'DOMINGO', 'LUNES', 'MARTES', 'MIERCOLES',\n",
       "       'JUEVES'], dtype=object)"
      ]
     },
     "execution_count": 231,
     "metadata": {},
     "output_type": "execute_result"
    }
   ],
   "source": [
    "df_accs[\"DIA_SEMANA\"].unique()"
   ]
  },
  {
   "cell_type": "code",
   "execution_count": 232,
   "metadata": {},
   "outputs": [],
   "source": [
    "# Categorical scatterplots:"
   ]
  },
  {
   "cell_type": "code",
   "execution_count": 233,
   "metadata": {},
   "outputs": [
    {
     "data": {
      "text/plain": [
       "<seaborn.axisgrid.FacetGrid at 0x7f8804cd47b8>"
      ]
     },
     "execution_count": 233,
     "metadata": {},
     "output_type": "execute_result"
    },
    {
     "data": {
      "image/png": "[encoded data removed]",
      "text/plain": [
       "<Figure size 360x360 with 1 Axes>"
      ]
     },
     "metadata": {
      "needs_background": "light"
     },
     "output_type": "display_data"
    }
   ],
   "source": [
    "sb.catplot(data=visual_sample,kind=\"strip\", orient=\"h\"\n",
    "          )"
   ]
  },
  {
   "cell_type": "code",
   "execution_count": 234,
   "metadata": {},
   "outputs": [],
   "source": [
    "# Categorical distribution plots:"
   ]
  },
  {
   "cell_type": "code",
   "execution_count": 235,
   "metadata": {},
   "outputs": [
    {
     "data": {
      "text/plain": [
       "<seaborn.axisgrid.FacetGrid at 0x7f8804ae5710>"
      ]
     },
     "execution_count": 235,
     "metadata": {},
     "output_type": "execute_result"
    },
    {
     "data": {
      "image/png": "[encoded data removed]",
      "text/plain": [
       "<Figure size 360x360 with 1 Axes>"
      ]
     },
     "metadata": {
      "needs_background": "light"
     },
     "output_type": "display_data"
    }
   ],
   "source": [
    "sb.catplot(data=visual_sample,kind=\"box\", orient=\"h\"\n",
    "          )"
   ]
  },
  {
   "cell_type": "code",
   "execution_count": 236,
   "metadata": {},
   "outputs": [
    {
     "name": "stderr",
     "output_type": "stream",
     "text": [
      "/home/dsc/anaconda3/lib/python3.7/site-packages/scipy/stats/stats.py:1713: FutureWarning: Using a non-tuple sequence for multidimensional indexing is deprecated; use `arr[tuple(seq)]` instead of `arr[seq]`. In the future this will be interpreted as an array index, `arr[np.array(seq)]`, which will result either in an error or a different result.\n",
      "  return np.add.reduce(sorted[indexer] * weights, axis=axis) / sumval\n"
     ]
    },
    {
     "data": {
      "text/plain": [
       "<seaborn.axisgrid.FacetGrid at 0x7f87fb1790f0>"
      ]
     },
     "execution_count": 236,
     "metadata": {},
     "output_type": "execute_result"
    },
    {
     "data": {
      "image/png": "[encoded data removed]",
      "text/plain": [
       "<Figure size 360x360 with 1 Axes>"
      ]
     },
     "metadata": {
      "needs_background": "light"
     },
     "output_type": "display_data"
    }
   ],
   "source": [
    "sb.catplot(data=visual_sample,kind=\"violin\", orient=\"h\"\n",
    "          )"
   ]
  },
  {
   "cell_type": "code",
   "execution_count": 237,
   "metadata": {},
   "outputs": [
    {
     "name": "stderr",
     "output_type": "stream",
     "text": [
      "'c' argument looks like a single numeric RGB or RGBA sequence, which should be avoided as value-mapping will have precedence in case its length matches with 'x' & 'y'.  Please use a 2-D array with a single row if you really want to specify the same RGB or RGBA value for all points.\n",
      "'c' argument looks like a single numeric RGB or RGBA sequence, which should be avoided as value-mapping will have precedence in case its length matches with 'x' & 'y'.  Please use a 2-D array with a single row if you really want to specify the same RGB or RGBA value for all points.\n",
      "'c' argument looks like a single numeric RGB or RGBA sequence, which should be avoided as value-mapping will have precedence in case its length matches with 'x' & 'y'.  Please use a 2-D array with a single row if you really want to specify the same RGB or RGBA value for all points.\n",
      "'c' argument looks like a single numeric RGB or RGBA sequence, which should be avoided as value-mapping will have precedence in case its length matches with 'x' & 'y'.  Please use a 2-D array with a single row if you really want to specify the same RGB or RGBA value for all points.\n",
      "'c' argument looks like a single numeric RGB or RGBA sequence, which should be avoided as value-mapping will have precedence in case its length matches with 'x' & 'y'.  Please use a 2-D array with a single row if you really want to specify the same RGB or RGBA value for all points.\n",
      "'c' argument looks like a single numeric RGB or RGBA sequence, which should be avoided as value-mapping will have precedence in case its length matches with 'x' & 'y'.  Please use a 2-D array with a single row if you really want to specify the same RGB or RGBA value for all points.\n",
      "'c' argument looks like a single numeric RGB or RGBA sequence, which should be avoided as value-mapping will have precedence in case its length matches with 'x' & 'y'.  Please use a 2-D array with a single row if you really want to specify the same RGB or RGBA value for all points.\n",
      "'c' argument looks like a single numeric RGB or RGBA sequence, which should be avoided as value-mapping will have precedence in case its length matches with 'x' & 'y'.  Please use a 2-D array with a single row if you really want to specify the same RGB or RGBA value for all points.\n",
      "'c' argument looks like a single numeric RGB or RGBA sequence, which should be avoided as value-mapping will have precedence in case its length matches with 'x' & 'y'.  Please use a 2-D array with a single row if you really want to specify the same RGB or RGBA value for all points.\n",
      "'c' argument looks like a single numeric RGB or RGBA sequence, which should be avoided as value-mapping will have precedence in case its length matches with 'x' & 'y'.  Please use a 2-D array with a single row if you really want to specify the same RGB or RGBA value for all points.\n",
      "'c' argument looks like a single numeric RGB or RGBA sequence, which should be avoided as value-mapping will have precedence in case its length matches with 'x' & 'y'.  Please use a 2-D array with a single row if you really want to specify the same RGB or RGBA value for all points.\n",
      "'c' argument looks like a single numeric RGB or RGBA sequence, which should be avoided as value-mapping will have precedence in case its length matches with 'x' & 'y'.  Please use a 2-D array with a single row if you really want to specify the same RGB or RGBA value for all points.\n",
      "'c' argument looks like a single numeric RGB or RGBA sequence, which should be avoided as value-mapping will have precedence in case its length matches with 'x' & 'y'.  Please use a 2-D array with a single row if you really want to specify the same RGB or RGBA value for all points.\n",
      "'c' argument looks like a single numeric RGB or RGBA sequence, which should be avoided as value-mapping will have precedence in case its length matches with 'x' & 'y'.  Please use a 2-D array with a single row if you really want to specify the same RGB or RGBA value for all points.\n",
      "'c' argument looks like a single numeric RGB or RGBA sequence, which should be avoided as value-mapping will have precedence in case its length matches with 'x' & 'y'.  Please use a 2-D array with a single row if you really want to specify the same RGB or RGBA value for all points.\n",
      "'c' argument looks like a single numeric RGB or RGBA sequence, which should be avoided as value-mapping will have precedence in case its length matches with 'x' & 'y'.  Please use a 2-D array with a single row if you really want to specify the same RGB or RGBA value for all points.\n",
      "'c' argument looks like a single numeric RGB or RGBA sequence, which should be avoided as value-mapping will have precedence in case its length matches with 'x' & 'y'.  Please use a 2-D array with a single row if you really want to specify the same RGB or RGBA value for all points.\n",
      "'c' argument looks like a single numeric RGB or RGBA sequence, which should be avoided as value-mapping will have precedence in case its length matches with 'x' & 'y'.  Please use a 2-D array with a single row if you really want to specify the same RGB or RGBA value for all points.\n",
      "'c' argument looks like a single numeric RGB or RGBA sequence, which should be avoided as value-mapping will have precedence in case its length matches with 'x' & 'y'.  Please use a 2-D array with a single row if you really want to specify the same RGB or RGBA value for all points.\n",
      "'c' argument looks like a single numeric RGB or RGBA sequence, which should be avoided as value-mapping will have precedence in case its length matches with 'x' & 'y'.  Please use a 2-D array with a single row if you really want to specify the same RGB or RGBA value for all points.\n",
      "'c' argument looks like a single numeric RGB or RGBA sequence, which should be avoided as value-mapping will have precedence in case its length matches with 'x' & 'y'.  Please use a 2-D array with a single row if you really want to specify the same RGB or RGBA value for all points.\n"
     ]
    },
    {
     "data": {
      "text/plain": [
       "<seaborn.axisgrid.FacetGrid at 0x7f87fadd0630>"
      ]
     },
     "execution_count": 237,
     "metadata": {},
     "output_type": "execute_result"
    },
    {
     "data": {
      "image/png": "[encoded data removed]",
      "text/plain": [
       "<Figure size 360x360 with 1 Axes>"
      ]
     },
     "metadata": {
      "needs_background": "light"
     },
     "output_type": "display_data"
    }
   ],
   "source": [
    "sb.catplot(data=visual_sample,kind=\"boxen\", orient=\"h\"\n",
    "          )"
   ]
  },
  {
   "cell_type": "code",
   "execution_count": 238,
   "metadata": {},
   "outputs": [],
   "source": [
    "# Categorical estimate plots:"
   ]
  },
  {
   "cell_type": "code",
   "execution_count": 239,
   "metadata": {},
   "outputs": [
    {
     "data": {
      "text/plain": [
       "<seaborn.axisgrid.FacetGrid at 0x7f87faecf908>"
      ]
     },
     "execution_count": 239,
     "metadata": {},
     "output_type": "execute_result"
    },
    {
     "data": {
      "image/png": "[encoded data removed]",
      "text/plain": [
       "<Figure size 360x360 with 1 Axes>"
      ]
     },
     "metadata": {
      "needs_background": "light"
     },
     "output_type": "display_data"
    }
   ],
   "source": [
    "sb.catplot(data=visual_sample,kind=\"point\", orient=\"h\"\n",
    "          )"
   ]
  },
  {
   "cell_type": "code",
   "execution_count": 240,
   "metadata": {},
   "outputs": [
    {
     "data": {
      "text/plain": [
       "<seaborn.axisgrid.FacetGrid at 0x7f87fac2f390>"
      ]
     },
     "execution_count": 240,
     "metadata": {},
     "output_type": "execute_result"
    },
    {
     "data": {
      "image/png": "[encoded data removed]",
      "text/plain": [
       "<Figure size 360x360 with 1 Axes>"
      ]
     },
     "metadata": {
      "needs_background": "light"
     },
     "output_type": "display_data"
    }
   ],
   "source": [
    "sb.catplot(data=visual_sample,kind=\"bar\", orient=\"h\"\n",
    "          )"
   ]
  },
  {
   "cell_type": "code",
   "execution_count": 241,
   "metadata": {},
   "outputs": [
    {
     "data": {
      "text/plain": [
       "(50600, 112)"
      ]
     },
     "execution_count": 241,
     "metadata": {},
     "output_type": "execute_result"
    }
   ],
   "source": [
    "X_test.shape"
   ]
  },
  {
   "cell_type": "code",
   "execution_count": 242,
   "metadata": {},
   "outputs": [
    {
     "data": {
      "text/plain": [
       "Index(['ARGANZUELA', 'BARAJAS', 'CARABANCHEL', 'CENTRO', 'CHAMARTIN',\n",
       "       'CHAMBERI', 'CIUDAD LINEAL', 'FUENCARRAL-EL PARDO', 'HORTALEZA',\n",
       "       'LATINA', 'MONCLOA-ARAVACA', 'MORATALAZ', 'PUENTE DE VALLECAS',\n",
       "       'RETIRO', 'SALAMANCA', 'SAN BLAS', 'TETUAN', 'USERA', 'VICALVARO',\n",
       "       'VILLA DE VALLECAS', 'VILLAVERDE'],\n",
       "      dtype='object')"
      ]
     },
     "execution_count": 242,
     "metadata": {},
     "output_type": "execute_result"
    }
   ],
   "source": [
    "visual_sample.columns"
   ]
  },
  {
   "cell_type": "code",
   "execution_count": 243,
   "metadata": {},
   "outputs": [],
   "source": [
    "### CHIMPUM FINAL"
   ]
  },
  {
   "cell_type": "code",
   "execution_count": 244,
   "metadata": {},
   "outputs": [
    {
     "name": "stdout",
     "output_type": "stream",
     "text": [
      "dom dic  1 22:45:59 CET 2019\r\n"
     ]
    }
   ],
   "source": [
    "!date"
   ]
  },
  {
   "cell_type": "code",
   "execution_count": null,
   "metadata": {},
   "outputs": [],
   "source": []
  },
  {
   "cell_type": "code",
   "execution_count": null,
   "metadata": {},
   "outputs": [],
   "source": []
  },
  {
   "cell_type": "code",
   "execution_count": null,
   "metadata": {},
   "outputs": [],
   "source": []
  },
  {
   "cell_type": "code",
   "execution_count": null,
   "metadata": {},
   "outputs": [],
   "source": []
  },
  {
   "cell_type": "code",
   "execution_count": null,
   "metadata": {},
   "outputs": [],
   "source": []
  }
 ],
 "metadata": {
  "kernelspec": {
   "display_name": "Python 3",
   "language": "python",
   "name": "python3"
  },
  "language_info": {
   "codemirror_mode": {
    "name": "ipython",
    "version": 3
   },
   "file_extension": ".py",
   "mimetype": "text/x-python",
   "name": "python",
   "nbconvert_exporter": "python",
   "pygments_lexer": "ipython3",
   "version": "3.7.3"
  }
 },
 "nbformat": 4,
 "nbformat_minor": 2
}
